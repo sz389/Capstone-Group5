{
  "nbformat": 4,
  "nbformat_minor": 0,
  "metadata": {
    "colab": {
      "name": "Sex_Wav2Vec2.ipynb",
      "provenance": [],
      "collapsed_sections": []
    },
    "kernelspec": {
      "name": "python3",
      "display_name": "Python 3"
    },
    "language_info": {
      "name": "python"
    },
    "widgets": {
      "application/vnd.jupyter.widget-state+json": {
        "576f90f293b1406a8a865e61f0c738b4": {
          "model_module": "@jupyter-widgets/controls",
          "model_name": "HBoxModel",
          "model_module_version": "1.5.0",
          "state": {
            "_view_name": "HBoxView",
            "_dom_classes": [],
            "_model_name": "HBoxModel",
            "_view_module": "@jupyter-widgets/controls",
            "_model_module_version": "1.5.0",
            "_view_count": null,
            "_view_module_version": "1.5.0",
            "box_style": "",
            "layout": "IPY_MODEL_b9e0415a6a064c71a627c5fe14a42a55",
            "_model_module": "@jupyter-widgets/controls",
            "children": [
              "IPY_MODEL_0795ebfe3c2f4e459d6d00f1c9a09509",
              "IPY_MODEL_02c29d792b7d48a7bc0e3d4d9858da19",
              "IPY_MODEL_3191c7e3e4e54ab5abb2b33e89de8a93"
            ]
          }
        },
        "b9e0415a6a064c71a627c5fe14a42a55": {
          "model_module": "@jupyter-widgets/base",
          "model_name": "LayoutModel",
          "model_module_version": "1.2.0",
          "state": {
            "_view_name": "LayoutView",
            "grid_template_rows": null,
            "right": null,
            "justify_content": null,
            "_view_module": "@jupyter-widgets/base",
            "overflow": null,
            "_model_module_version": "1.2.0",
            "_view_count": null,
            "flex_flow": null,
            "width": null,
            "min_width": null,
            "border": null,
            "align_items": null,
            "bottom": null,
            "_model_module": "@jupyter-widgets/base",
            "top": null,
            "grid_column": null,
            "overflow_y": null,
            "overflow_x": null,
            "grid_auto_flow": null,
            "grid_area": null,
            "grid_template_columns": null,
            "flex": null,
            "_model_name": "LayoutModel",
            "justify_items": null,
            "grid_row": null,
            "max_height": null,
            "align_content": null,
            "visibility": null,
            "align_self": null,
            "height": null,
            "min_height": null,
            "padding": null,
            "grid_auto_rows": null,
            "grid_gap": null,
            "max_width": null,
            "order": null,
            "_view_module_version": "1.2.0",
            "grid_template_areas": null,
            "object_position": null,
            "object_fit": null,
            "grid_auto_columns": null,
            "margin": null,
            "display": null,
            "left": null
          }
        },
        "0795ebfe3c2f4e459d6d00f1c9a09509": {
          "model_module": "@jupyter-widgets/controls",
          "model_name": "HTMLModel",
          "model_module_version": "1.5.0",
          "state": {
            "_view_name": "HTMLView",
            "style": "IPY_MODEL_ef7a133dab5743cc800227903806f8a8",
            "_dom_classes": [],
            "description": "",
            "_model_name": "HTMLModel",
            "placeholder": "​",
            "_view_module": "@jupyter-widgets/controls",
            "_model_module_version": "1.5.0",
            "value": "100%",
            "_view_count": null,
            "_view_module_version": "1.5.0",
            "description_tooltip": null,
            "_model_module": "@jupyter-widgets/controls",
            "layout": "IPY_MODEL_04a235e7c5684615ad4a595d622177a9"
          }
        },
        "02c29d792b7d48a7bc0e3d4d9858da19": {
          "model_module": "@jupyter-widgets/controls",
          "model_name": "FloatProgressModel",
          "model_module_version": "1.5.0",
          "state": {
            "_view_name": "ProgressView",
            "style": "IPY_MODEL_4dd92b916fb845a8b48b53a51e16c407",
            "_dom_classes": [],
            "description": "",
            "_model_name": "FloatProgressModel",
            "bar_style": "success",
            "max": 2,
            "_view_module": "@jupyter-widgets/controls",
            "_model_module_version": "1.5.0",
            "value": 2,
            "_view_count": null,
            "_view_module_version": "1.5.0",
            "orientation": "horizontal",
            "min": 0,
            "description_tooltip": null,
            "_model_module": "@jupyter-widgets/controls",
            "layout": "IPY_MODEL_e55a3d6cd2b14069b75d7e088850c8cb"
          }
        },
        "3191c7e3e4e54ab5abb2b33e89de8a93": {
          "model_module": "@jupyter-widgets/controls",
          "model_name": "HTMLModel",
          "model_module_version": "1.5.0",
          "state": {
            "_view_name": "HTMLView",
            "style": "IPY_MODEL_835748feced54005a45f30dc7e6449d2",
            "_dom_classes": [],
            "description": "",
            "_model_name": "HTMLModel",
            "placeholder": "​",
            "_view_module": "@jupyter-widgets/controls",
            "_model_module_version": "1.5.0",
            "value": " 2/2 [00:00&lt;00:00,  8.22it/s]",
            "_view_count": null,
            "_view_module_version": "1.5.0",
            "description_tooltip": null,
            "_model_module": "@jupyter-widgets/controls",
            "layout": "IPY_MODEL_5f04123e8da740a3b7783596bef3fa26"
          }
        },
        "ef7a133dab5743cc800227903806f8a8": {
          "model_module": "@jupyter-widgets/controls",
          "model_name": "DescriptionStyleModel",
          "model_module_version": "1.5.0",
          "state": {
            "_view_name": "StyleView",
            "_model_name": "DescriptionStyleModel",
            "description_width": "",
            "_view_module": "@jupyter-widgets/base",
            "_model_module_version": "1.5.0",
            "_view_count": null,
            "_view_module_version": "1.2.0",
            "_model_module": "@jupyter-widgets/controls"
          }
        },
        "04a235e7c5684615ad4a595d622177a9": {
          "model_module": "@jupyter-widgets/base",
          "model_name": "LayoutModel",
          "model_module_version": "1.2.0",
          "state": {
            "_view_name": "LayoutView",
            "grid_template_rows": null,
            "right": null,
            "justify_content": null,
            "_view_module": "@jupyter-widgets/base",
            "overflow": null,
            "_model_module_version": "1.2.0",
            "_view_count": null,
            "flex_flow": null,
            "width": null,
            "min_width": null,
            "border": null,
            "align_items": null,
            "bottom": null,
            "_model_module": "@jupyter-widgets/base",
            "top": null,
            "grid_column": null,
            "overflow_y": null,
            "overflow_x": null,
            "grid_auto_flow": null,
            "grid_area": null,
            "grid_template_columns": null,
            "flex": null,
            "_model_name": "LayoutModel",
            "justify_items": null,
            "grid_row": null,
            "max_height": null,
            "align_content": null,
            "visibility": null,
            "align_self": null,
            "height": null,
            "min_height": null,
            "padding": null,
            "grid_auto_rows": null,
            "grid_gap": null,
            "max_width": null,
            "order": null,
            "_view_module_version": "1.2.0",
            "grid_template_areas": null,
            "object_position": null,
            "object_fit": null,
            "grid_auto_columns": null,
            "margin": null,
            "display": null,
            "left": null
          }
        },
        "4dd92b916fb845a8b48b53a51e16c407": {
          "model_module": "@jupyter-widgets/controls",
          "model_name": "ProgressStyleModel",
          "model_module_version": "1.5.0",
          "state": {
            "_view_name": "StyleView",
            "_model_name": "ProgressStyleModel",
            "description_width": "",
            "_view_module": "@jupyter-widgets/base",
            "_model_module_version": "1.5.0",
            "_view_count": null,
            "_view_module_version": "1.2.0",
            "bar_color": null,
            "_model_module": "@jupyter-widgets/controls"
          }
        },
        "e55a3d6cd2b14069b75d7e088850c8cb": {
          "model_module": "@jupyter-widgets/base",
          "model_name": "LayoutModel",
          "model_module_version": "1.2.0",
          "state": {
            "_view_name": "LayoutView",
            "grid_template_rows": null,
            "right": null,
            "justify_content": null,
            "_view_module": "@jupyter-widgets/base",
            "overflow": null,
            "_model_module_version": "1.2.0",
            "_view_count": null,
            "flex_flow": null,
            "width": null,
            "min_width": null,
            "border": null,
            "align_items": null,
            "bottom": null,
            "_model_module": "@jupyter-widgets/base",
            "top": null,
            "grid_column": null,
            "overflow_y": null,
            "overflow_x": null,
            "grid_auto_flow": null,
            "grid_area": null,
            "grid_template_columns": null,
            "flex": null,
            "_model_name": "LayoutModel",
            "justify_items": null,
            "grid_row": null,
            "max_height": null,
            "align_content": null,
            "visibility": null,
            "align_self": null,
            "height": null,
            "min_height": null,
            "padding": null,
            "grid_auto_rows": null,
            "grid_gap": null,
            "max_width": null,
            "order": null,
            "_view_module_version": "1.2.0",
            "grid_template_areas": null,
            "object_position": null,
            "object_fit": null,
            "grid_auto_columns": null,
            "margin": null,
            "display": null,
            "left": null
          }
        },
        "835748feced54005a45f30dc7e6449d2": {
          "model_module": "@jupyter-widgets/controls",
          "model_name": "DescriptionStyleModel",
          "model_module_version": "1.5.0",
          "state": {
            "_view_name": "StyleView",
            "_model_name": "DescriptionStyleModel",
            "description_width": "",
            "_view_module": "@jupyter-widgets/base",
            "_model_module_version": "1.5.0",
            "_view_count": null,
            "_view_module_version": "1.2.0",
            "_model_module": "@jupyter-widgets/controls"
          }
        },
        "5f04123e8da740a3b7783596bef3fa26": {
          "model_module": "@jupyter-widgets/base",
          "model_name": "LayoutModel",
          "model_module_version": "1.2.0",
          "state": {
            "_view_name": "LayoutView",
            "grid_template_rows": null,
            "right": null,
            "justify_content": null,
            "_view_module": "@jupyter-widgets/base",
            "overflow": null,
            "_model_module_version": "1.2.0",
            "_view_count": null,
            "flex_flow": null,
            "width": null,
            "min_width": null,
            "border": null,
            "align_items": null,
            "bottom": null,
            "_model_module": "@jupyter-widgets/base",
            "top": null,
            "grid_column": null,
            "overflow_y": null,
            "overflow_x": null,
            "grid_auto_flow": null,
            "grid_area": null,
            "grid_template_columns": null,
            "flex": null,
            "_model_name": "LayoutModel",
            "justify_items": null,
            "grid_row": null,
            "max_height": null,
            "align_content": null,
            "visibility": null,
            "align_self": null,
            "height": null,
            "min_height": null,
            "padding": null,
            "grid_auto_rows": null,
            "grid_gap": null,
            "max_width": null,
            "order": null,
            "_view_module_version": "1.2.0",
            "grid_template_areas": null,
            "object_position": null,
            "object_fit": null,
            "grid_auto_columns": null,
            "margin": null,
            "display": null,
            "left": null
          }
        },
        "251f20f3922846e4a4a835d471f050ea": {
          "model_module": "@jupyter-widgets/controls",
          "model_name": "HBoxModel",
          "model_module_version": "1.5.0",
          "state": {
            "_view_name": "HBoxView",
            "_dom_classes": [],
            "_model_name": "HBoxModel",
            "_view_module": "@jupyter-widgets/controls",
            "_model_module_version": "1.5.0",
            "_view_count": null,
            "_view_module_version": "1.5.0",
            "box_style": "",
            "layout": "IPY_MODEL_de6eb3bc090d48769d750f29395d6e94",
            "_model_module": "@jupyter-widgets/controls",
            "children": [
              "IPY_MODEL_47b103533ba24f6286c81029ba22f03c",
              "IPY_MODEL_188ce80ed7be469697b41a425c321607",
              "IPY_MODEL_049e1157f6fd4492824a3eac0aa0f675"
            ]
          }
        },
        "de6eb3bc090d48769d750f29395d6e94": {
          "model_module": "@jupyter-widgets/base",
          "model_name": "LayoutModel",
          "model_module_version": "1.2.0",
          "state": {
            "_view_name": "LayoutView",
            "grid_template_rows": null,
            "right": null,
            "justify_content": null,
            "_view_module": "@jupyter-widgets/base",
            "overflow": null,
            "_model_module_version": "1.2.0",
            "_view_count": null,
            "flex_flow": null,
            "width": null,
            "min_width": null,
            "border": null,
            "align_items": null,
            "bottom": null,
            "_model_module": "@jupyter-widgets/base",
            "top": null,
            "grid_column": null,
            "overflow_y": null,
            "overflow_x": null,
            "grid_auto_flow": null,
            "grid_area": null,
            "grid_template_columns": null,
            "flex": null,
            "_model_name": "LayoutModel",
            "justify_items": null,
            "grid_row": null,
            "max_height": null,
            "align_content": null,
            "visibility": null,
            "align_self": null,
            "height": null,
            "min_height": null,
            "padding": null,
            "grid_auto_rows": null,
            "grid_gap": null,
            "max_width": null,
            "order": null,
            "_view_module_version": "1.2.0",
            "grid_template_areas": null,
            "object_position": null,
            "object_fit": null,
            "grid_auto_columns": null,
            "margin": null,
            "display": null,
            "left": null
          }
        },
        "47b103533ba24f6286c81029ba22f03c": {
          "model_module": "@jupyter-widgets/controls",
          "model_name": "HTMLModel",
          "model_module_version": "1.5.0",
          "state": {
            "_view_name": "HTMLView",
            "style": "IPY_MODEL_7aa332b7020b4971a705ef0aa4d33fcc",
            "_dom_classes": [],
            "description": "",
            "_model_name": "HTMLModel",
            "placeholder": "​",
            "_view_module": "@jupyter-widgets/controls",
            "_model_module_version": "1.5.0",
            "value": "100%",
            "_view_count": null,
            "_view_module_version": "1.5.0",
            "description_tooltip": null,
            "_model_module": "@jupyter-widgets/controls",
            "layout": "IPY_MODEL_432db3b074514cc098bf9b98259500fa"
          }
        },
        "188ce80ed7be469697b41a425c321607": {
          "model_module": "@jupyter-widgets/controls",
          "model_name": "FloatProgressModel",
          "model_module_version": "1.5.0",
          "state": {
            "_view_name": "ProgressView",
            "style": "IPY_MODEL_0cb9c55deb7c42d49c7693995bc07b6e",
            "_dom_classes": [],
            "description": "",
            "_model_name": "FloatProgressModel",
            "bar_style": "success",
            "max": 2,
            "_view_module": "@jupyter-widgets/controls",
            "_model_module_version": "1.5.0",
            "value": 2,
            "_view_count": null,
            "_view_module_version": "1.5.0",
            "orientation": "horizontal",
            "min": 0,
            "description_tooltip": null,
            "_model_module": "@jupyter-widgets/controls",
            "layout": "IPY_MODEL_45abf9912b164bd282ee64d076c5071b"
          }
        },
        "049e1157f6fd4492824a3eac0aa0f675": {
          "model_module": "@jupyter-widgets/controls",
          "model_name": "HTMLModel",
          "model_module_version": "1.5.0",
          "state": {
            "_view_name": "HTMLView",
            "style": "IPY_MODEL_00bac3d40d414aee918ecf8c85b7f046",
            "_dom_classes": [],
            "description": "",
            "_model_name": "HTMLModel",
            "placeholder": "​",
            "_view_module": "@jupyter-widgets/controls",
            "_model_module_version": "1.5.0",
            "value": " 2/2 [00:00&lt;00:00,  5.67it/s]",
            "_view_count": null,
            "_view_module_version": "1.5.0",
            "description_tooltip": null,
            "_model_module": "@jupyter-widgets/controls",
            "layout": "IPY_MODEL_5bc84460cb284128a388647071db9f9b"
          }
        },
        "7aa332b7020b4971a705ef0aa4d33fcc": {
          "model_module": "@jupyter-widgets/controls",
          "model_name": "DescriptionStyleModel",
          "model_module_version": "1.5.0",
          "state": {
            "_view_name": "StyleView",
            "_model_name": "DescriptionStyleModel",
            "description_width": "",
            "_view_module": "@jupyter-widgets/base",
            "_model_module_version": "1.5.0",
            "_view_count": null,
            "_view_module_version": "1.2.0",
            "_model_module": "@jupyter-widgets/controls"
          }
        },
        "432db3b074514cc098bf9b98259500fa": {
          "model_module": "@jupyter-widgets/base",
          "model_name": "LayoutModel",
          "model_module_version": "1.2.0",
          "state": {
            "_view_name": "LayoutView",
            "grid_template_rows": null,
            "right": null,
            "justify_content": null,
            "_view_module": "@jupyter-widgets/base",
            "overflow": null,
            "_model_module_version": "1.2.0",
            "_view_count": null,
            "flex_flow": null,
            "width": null,
            "min_width": null,
            "border": null,
            "align_items": null,
            "bottom": null,
            "_model_module": "@jupyter-widgets/base",
            "top": null,
            "grid_column": null,
            "overflow_y": null,
            "overflow_x": null,
            "grid_auto_flow": null,
            "grid_area": null,
            "grid_template_columns": null,
            "flex": null,
            "_model_name": "LayoutModel",
            "justify_items": null,
            "grid_row": null,
            "max_height": null,
            "align_content": null,
            "visibility": null,
            "align_self": null,
            "height": null,
            "min_height": null,
            "padding": null,
            "grid_auto_rows": null,
            "grid_gap": null,
            "max_width": null,
            "order": null,
            "_view_module_version": "1.2.0",
            "grid_template_areas": null,
            "object_position": null,
            "object_fit": null,
            "grid_auto_columns": null,
            "margin": null,
            "display": null,
            "left": null
          }
        },
        "0cb9c55deb7c42d49c7693995bc07b6e": {
          "model_module": "@jupyter-widgets/controls",
          "model_name": "ProgressStyleModel",
          "model_module_version": "1.5.0",
          "state": {
            "_view_name": "StyleView",
            "_model_name": "ProgressStyleModel",
            "description_width": "",
            "_view_module": "@jupyter-widgets/base",
            "_model_module_version": "1.5.0",
            "_view_count": null,
            "_view_module_version": "1.2.0",
            "bar_color": null,
            "_model_module": "@jupyter-widgets/controls"
          }
        },
        "45abf9912b164bd282ee64d076c5071b": {
          "model_module": "@jupyter-widgets/base",
          "model_name": "LayoutModel",
          "model_module_version": "1.2.0",
          "state": {
            "_view_name": "LayoutView",
            "grid_template_rows": null,
            "right": null,
            "justify_content": null,
            "_view_module": "@jupyter-widgets/base",
            "overflow": null,
            "_model_module_version": "1.2.0",
            "_view_count": null,
            "flex_flow": null,
            "width": null,
            "min_width": null,
            "border": null,
            "align_items": null,
            "bottom": null,
            "_model_module": "@jupyter-widgets/base",
            "top": null,
            "grid_column": null,
            "overflow_y": null,
            "overflow_x": null,
            "grid_auto_flow": null,
            "grid_area": null,
            "grid_template_columns": null,
            "flex": null,
            "_model_name": "LayoutModel",
            "justify_items": null,
            "grid_row": null,
            "max_height": null,
            "align_content": null,
            "visibility": null,
            "align_self": null,
            "height": null,
            "min_height": null,
            "padding": null,
            "grid_auto_rows": null,
            "grid_gap": null,
            "max_width": null,
            "order": null,
            "_view_module_version": "1.2.0",
            "grid_template_areas": null,
            "object_position": null,
            "object_fit": null,
            "grid_auto_columns": null,
            "margin": null,
            "display": null,
            "left": null
          }
        },
        "00bac3d40d414aee918ecf8c85b7f046": {
          "model_module": "@jupyter-widgets/controls",
          "model_name": "DescriptionStyleModel",
          "model_module_version": "1.5.0",
          "state": {
            "_view_name": "StyleView",
            "_model_name": "DescriptionStyleModel",
            "description_width": "",
            "_view_module": "@jupyter-widgets/base",
            "_model_module_version": "1.5.0",
            "_view_count": null,
            "_view_module_version": "1.2.0",
            "_model_module": "@jupyter-widgets/controls"
          }
        },
        "5bc84460cb284128a388647071db9f9b": {
          "model_module": "@jupyter-widgets/base",
          "model_name": "LayoutModel",
          "model_module_version": "1.2.0",
          "state": {
            "_view_name": "LayoutView",
            "grid_template_rows": null,
            "right": null,
            "justify_content": null,
            "_view_module": "@jupyter-widgets/base",
            "overflow": null,
            "_model_module_version": "1.2.0",
            "_view_count": null,
            "flex_flow": null,
            "width": null,
            "min_width": null,
            "border": null,
            "align_items": null,
            "bottom": null,
            "_model_module": "@jupyter-widgets/base",
            "top": null,
            "grid_column": null,
            "overflow_y": null,
            "overflow_x": null,
            "grid_auto_flow": null,
            "grid_area": null,
            "grid_template_columns": null,
            "flex": null,
            "_model_name": "LayoutModel",
            "justify_items": null,
            "grid_row": null,
            "max_height": null,
            "align_content": null,
            "visibility": null,
            "align_self": null,
            "height": null,
            "min_height": null,
            "padding": null,
            "grid_auto_rows": null,
            "grid_gap": null,
            "max_width": null,
            "order": null,
            "_view_module_version": "1.2.0",
            "grid_template_areas": null,
            "object_position": null,
            "object_fit": null,
            "grid_auto_columns": null,
            "margin": null,
            "display": null,
            "left": null
          }
        },
        "d013a9e5ffb041f688974307e95fa272": {
          "model_module": "@jupyter-widgets/controls",
          "model_name": "HBoxModel",
          "model_module_version": "1.5.0",
          "state": {
            "_view_name": "HBoxView",
            "_dom_classes": [],
            "_model_name": "HBoxModel",
            "_view_module": "@jupyter-widgets/controls",
            "_model_module_version": "1.5.0",
            "_view_count": null,
            "_view_module_version": "1.5.0",
            "box_style": "",
            "layout": "IPY_MODEL_ee2e3cebe13a46d2a4e3602e9b6f4275",
            "_model_module": "@jupyter-widgets/controls",
            "children": [
              "IPY_MODEL_1dd096f39df3462d8d1ddfbc7b23477c",
              "IPY_MODEL_777daa4f12bc479c96194f92b70ea2d6",
              "IPY_MODEL_87211a10118c4581a7278f600e4751fd"
            ]
          }
        },
        "ee2e3cebe13a46d2a4e3602e9b6f4275": {
          "model_module": "@jupyter-widgets/base",
          "model_name": "LayoutModel",
          "model_module_version": "1.2.0",
          "state": {
            "_view_name": "LayoutView",
            "grid_template_rows": null,
            "right": null,
            "justify_content": null,
            "_view_module": "@jupyter-widgets/base",
            "overflow": null,
            "_model_module_version": "1.2.0",
            "_view_count": null,
            "flex_flow": null,
            "width": null,
            "min_width": null,
            "border": null,
            "align_items": null,
            "bottom": null,
            "_model_module": "@jupyter-widgets/base",
            "top": null,
            "grid_column": null,
            "overflow_y": null,
            "overflow_x": null,
            "grid_auto_flow": null,
            "grid_area": null,
            "grid_template_columns": null,
            "flex": null,
            "_model_name": "LayoutModel",
            "justify_items": null,
            "grid_row": null,
            "max_height": null,
            "align_content": null,
            "visibility": null,
            "align_self": null,
            "height": null,
            "min_height": null,
            "padding": null,
            "grid_auto_rows": null,
            "grid_gap": null,
            "max_width": null,
            "order": null,
            "_view_module_version": "1.2.0",
            "grid_template_areas": null,
            "object_position": null,
            "object_fit": null,
            "grid_auto_columns": null,
            "margin": null,
            "display": null,
            "left": null
          }
        },
        "1dd096f39df3462d8d1ddfbc7b23477c": {
          "model_module": "@jupyter-widgets/controls",
          "model_name": "HTMLModel",
          "model_module_version": "1.5.0",
          "state": {
            "_view_name": "HTMLView",
            "style": "IPY_MODEL_81286740e0404cb481bd9e807ad01dea",
            "_dom_classes": [],
            "description": "",
            "_model_name": "HTMLModel",
            "placeholder": "​",
            "_view_module": "@jupyter-widgets/controls",
            "_model_module_version": "1.5.0",
            "value": "100%",
            "_view_count": null,
            "_view_module_version": "1.5.0",
            "description_tooltip": null,
            "_model_module": "@jupyter-widgets/controls",
            "layout": "IPY_MODEL_7429dbc4ae7a45849ee823a6bcd014ac"
          }
        },
        "777daa4f12bc479c96194f92b70ea2d6": {
          "model_module": "@jupyter-widgets/controls",
          "model_name": "FloatProgressModel",
          "model_module_version": "1.5.0",
          "state": {
            "_view_name": "ProgressView",
            "style": "IPY_MODEL_1bb9734344be4d3eb75aa74e5cb9b9c1",
            "_dom_classes": [],
            "description": "",
            "_model_name": "FloatProgressModel",
            "bar_style": "success",
            "max": 2,
            "_view_module": "@jupyter-widgets/controls",
            "_model_module_version": "1.5.0",
            "value": 2,
            "_view_count": null,
            "_view_module_version": "1.5.0",
            "orientation": "horizontal",
            "min": 0,
            "description_tooltip": null,
            "_model_module": "@jupyter-widgets/controls",
            "layout": "IPY_MODEL_1e98c724aa98485fb19fd635ae02f959"
          }
        },
        "87211a10118c4581a7278f600e4751fd": {
          "model_module": "@jupyter-widgets/controls",
          "model_name": "HTMLModel",
          "model_module_version": "1.5.0",
          "state": {
            "_view_name": "HTMLView",
            "style": "IPY_MODEL_11a97e4f3c2b436296daa2e34f25a0cd",
            "_dom_classes": [],
            "description": "",
            "_model_name": "HTMLModel",
            "placeholder": "​",
            "_view_module": "@jupyter-widgets/controls",
            "_model_module_version": "1.5.0",
            "value": " 2/2 [00:00&lt;00:00,  7.81it/s]",
            "_view_count": null,
            "_view_module_version": "1.5.0",
            "description_tooltip": null,
            "_model_module": "@jupyter-widgets/controls",
            "layout": "IPY_MODEL_35ad0cb2f02140af93614a1698405727"
          }
        },
        "81286740e0404cb481bd9e807ad01dea": {
          "model_module": "@jupyter-widgets/controls",
          "model_name": "DescriptionStyleModel",
          "model_module_version": "1.5.0",
          "state": {
            "_view_name": "StyleView",
            "_model_name": "DescriptionStyleModel",
            "description_width": "",
            "_view_module": "@jupyter-widgets/base",
            "_model_module_version": "1.5.0",
            "_view_count": null,
            "_view_module_version": "1.2.0",
            "_model_module": "@jupyter-widgets/controls"
          }
        },
        "7429dbc4ae7a45849ee823a6bcd014ac": {
          "model_module": "@jupyter-widgets/base",
          "model_name": "LayoutModel",
          "model_module_version": "1.2.0",
          "state": {
            "_view_name": "LayoutView",
            "grid_template_rows": null,
            "right": null,
            "justify_content": null,
            "_view_module": "@jupyter-widgets/base",
            "overflow": null,
            "_model_module_version": "1.2.0",
            "_view_count": null,
            "flex_flow": null,
            "width": null,
            "min_width": null,
            "border": null,
            "align_items": null,
            "bottom": null,
            "_model_module": "@jupyter-widgets/base",
            "top": null,
            "grid_column": null,
            "overflow_y": null,
            "overflow_x": null,
            "grid_auto_flow": null,
            "grid_area": null,
            "grid_template_columns": null,
            "flex": null,
            "_model_name": "LayoutModel",
            "justify_items": null,
            "grid_row": null,
            "max_height": null,
            "align_content": null,
            "visibility": null,
            "align_self": null,
            "height": null,
            "min_height": null,
            "padding": null,
            "grid_auto_rows": null,
            "grid_gap": null,
            "max_width": null,
            "order": null,
            "_view_module_version": "1.2.0",
            "grid_template_areas": null,
            "object_position": null,
            "object_fit": null,
            "grid_auto_columns": null,
            "margin": null,
            "display": null,
            "left": null
          }
        },
        "1bb9734344be4d3eb75aa74e5cb9b9c1": {
          "model_module": "@jupyter-widgets/controls",
          "model_name": "ProgressStyleModel",
          "model_module_version": "1.5.0",
          "state": {
            "_view_name": "StyleView",
            "_model_name": "ProgressStyleModel",
            "description_width": "",
            "_view_module": "@jupyter-widgets/base",
            "_model_module_version": "1.5.0",
            "_view_count": null,
            "_view_module_version": "1.2.0",
            "bar_color": null,
            "_model_module": "@jupyter-widgets/controls"
          }
        },
        "1e98c724aa98485fb19fd635ae02f959": {
          "model_module": "@jupyter-widgets/base",
          "model_name": "LayoutModel",
          "model_module_version": "1.2.0",
          "state": {
            "_view_name": "LayoutView",
            "grid_template_rows": null,
            "right": null,
            "justify_content": null,
            "_view_module": "@jupyter-widgets/base",
            "overflow": null,
            "_model_module_version": "1.2.0",
            "_view_count": null,
            "flex_flow": null,
            "width": null,
            "min_width": null,
            "border": null,
            "align_items": null,
            "bottom": null,
            "_model_module": "@jupyter-widgets/base",
            "top": null,
            "grid_column": null,
            "overflow_y": null,
            "overflow_x": null,
            "grid_auto_flow": null,
            "grid_area": null,
            "grid_template_columns": null,
            "flex": null,
            "_model_name": "LayoutModel",
            "justify_items": null,
            "grid_row": null,
            "max_height": null,
            "align_content": null,
            "visibility": null,
            "align_self": null,
            "height": null,
            "min_height": null,
            "padding": null,
            "grid_auto_rows": null,
            "grid_gap": null,
            "max_width": null,
            "order": null,
            "_view_module_version": "1.2.0",
            "grid_template_areas": null,
            "object_position": null,
            "object_fit": null,
            "grid_auto_columns": null,
            "margin": null,
            "display": null,
            "left": null
          }
        },
        "11a97e4f3c2b436296daa2e34f25a0cd": {
          "model_module": "@jupyter-widgets/controls",
          "model_name": "DescriptionStyleModel",
          "model_module_version": "1.5.0",
          "state": {
            "_view_name": "StyleView",
            "_model_name": "DescriptionStyleModel",
            "description_width": "",
            "_view_module": "@jupyter-widgets/base",
            "_model_module_version": "1.5.0",
            "_view_count": null,
            "_view_module_version": "1.2.0",
            "_model_module": "@jupyter-widgets/controls"
          }
        },
        "35ad0cb2f02140af93614a1698405727": {
          "model_module": "@jupyter-widgets/base",
          "model_name": "LayoutModel",
          "model_module_version": "1.2.0",
          "state": {
            "_view_name": "LayoutView",
            "grid_template_rows": null,
            "right": null,
            "justify_content": null,
            "_view_module": "@jupyter-widgets/base",
            "overflow": null,
            "_model_module_version": "1.2.0",
            "_view_count": null,
            "flex_flow": null,
            "width": null,
            "min_width": null,
            "border": null,
            "align_items": null,
            "bottom": null,
            "_model_module": "@jupyter-widgets/base",
            "top": null,
            "grid_column": null,
            "overflow_y": null,
            "overflow_x": null,
            "grid_auto_flow": null,
            "grid_area": null,
            "grid_template_columns": null,
            "flex": null,
            "_model_name": "LayoutModel",
            "justify_items": null,
            "grid_row": null,
            "max_height": null,
            "align_content": null,
            "visibility": null,
            "align_self": null,
            "height": null,
            "min_height": null,
            "padding": null,
            "grid_auto_rows": null,
            "grid_gap": null,
            "max_width": null,
            "order": null,
            "_view_module_version": "1.2.0",
            "grid_template_areas": null,
            "object_position": null,
            "object_fit": null,
            "grid_auto_columns": null,
            "margin": null,
            "display": null,
            "left": null
          }
        },
        "fda832f8b5614ba4a915fcfb5d794fc0": {
          "model_module": "@jupyter-widgets/controls",
          "model_name": "HBoxModel",
          "model_module_version": "1.5.0",
          "state": {
            "_view_name": "HBoxView",
            "_dom_classes": [],
            "_model_name": "HBoxModel",
            "_view_module": "@jupyter-widgets/controls",
            "_model_module_version": "1.5.0",
            "_view_count": null,
            "_view_module_version": "1.5.0",
            "box_style": "",
            "layout": "IPY_MODEL_52dcce8208f5416d8b1b6958358e6d57",
            "_model_module": "@jupyter-widgets/controls",
            "children": [
              "IPY_MODEL_e59956f589d3408cb263ea41b6e68ecf",
              "IPY_MODEL_3fd1c465fcab4480b8d6fbd499eb1919",
              "IPY_MODEL_4f1cc7f787704e3a97a6a3a70bc800d7"
            ]
          }
        },
        "52dcce8208f5416d8b1b6958358e6d57": {
          "model_module": "@jupyter-widgets/base",
          "model_name": "LayoutModel",
          "model_module_version": "1.2.0",
          "state": {
            "_view_name": "LayoutView",
            "grid_template_rows": null,
            "right": null,
            "justify_content": null,
            "_view_module": "@jupyter-widgets/base",
            "overflow": null,
            "_model_module_version": "1.2.0",
            "_view_count": null,
            "flex_flow": null,
            "width": null,
            "min_width": null,
            "border": null,
            "align_items": null,
            "bottom": null,
            "_model_module": "@jupyter-widgets/base",
            "top": null,
            "grid_column": null,
            "overflow_y": null,
            "overflow_x": null,
            "grid_auto_flow": null,
            "grid_area": null,
            "grid_template_columns": null,
            "flex": null,
            "_model_name": "LayoutModel",
            "justify_items": null,
            "grid_row": null,
            "max_height": null,
            "align_content": null,
            "visibility": null,
            "align_self": null,
            "height": null,
            "min_height": null,
            "padding": null,
            "grid_auto_rows": null,
            "grid_gap": null,
            "max_width": null,
            "order": null,
            "_view_module_version": "1.2.0",
            "grid_template_areas": null,
            "object_position": null,
            "object_fit": null,
            "grid_auto_columns": null,
            "margin": null,
            "display": null,
            "left": null
          }
        },
        "e59956f589d3408cb263ea41b6e68ecf": {
          "model_module": "@jupyter-widgets/controls",
          "model_name": "HTMLModel",
          "model_module_version": "1.5.0",
          "state": {
            "_view_name": "HTMLView",
            "style": "IPY_MODEL_2cbee2e1c4e445df9bf637a999562ccb",
            "_dom_classes": [],
            "description": "",
            "_model_name": "HTMLModel",
            "placeholder": "​",
            "_view_module": "@jupyter-widgets/controls",
            "_model_module_version": "1.5.0",
            "value": "Downloading: 100%",
            "_view_count": null,
            "_view_module_version": "1.5.0",
            "description_tooltip": null,
            "_model_module": "@jupyter-widgets/controls",
            "layout": "IPY_MODEL_d58967d2d29b4aefb04feeb59fe1ef40"
          }
        },
        "3fd1c465fcab4480b8d6fbd499eb1919": {
          "model_module": "@jupyter-widgets/controls",
          "model_name": "FloatProgressModel",
          "model_module_version": "1.5.0",
          "state": {
            "_view_name": "ProgressView",
            "style": "IPY_MODEL_ae0eb9dad1a24dafb38b4289887ea2a9",
            "_dom_classes": [],
            "description": "",
            "_model_name": "FloatProgressModel",
            "bar_style": "success",
            "max": 1553,
            "_view_module": "@jupyter-widgets/controls",
            "_model_module_version": "1.5.0",
            "value": 1553,
            "_view_count": null,
            "_view_module_version": "1.5.0",
            "orientation": "horizontal",
            "min": 0,
            "description_tooltip": null,
            "_model_module": "@jupyter-widgets/controls",
            "layout": "IPY_MODEL_0ab1df0e2a824ef89758d6a70e5bf7b4"
          }
        },
        "4f1cc7f787704e3a97a6a3a70bc800d7": {
          "model_module": "@jupyter-widgets/controls",
          "model_name": "HTMLModel",
          "model_module_version": "1.5.0",
          "state": {
            "_view_name": "HTMLView",
            "style": "IPY_MODEL_13fa64368ce54c098aacec5d88a0a0a8",
            "_dom_classes": [],
            "description": "",
            "_model_name": "HTMLModel",
            "placeholder": "​",
            "_view_module": "@jupyter-widgets/controls",
            "_model_module_version": "1.5.0",
            "value": " 1.52k/1.52k [00:00&lt;00:00, 6.74kB/s]",
            "_view_count": null,
            "_view_module_version": "1.5.0",
            "description_tooltip": null,
            "_model_module": "@jupyter-widgets/controls",
            "layout": "IPY_MODEL_7066dfd982ff48a7a5393e7a41e7eb7a"
          }
        },
        "2cbee2e1c4e445df9bf637a999562ccb": {
          "model_module": "@jupyter-widgets/controls",
          "model_name": "DescriptionStyleModel",
          "model_module_version": "1.5.0",
          "state": {
            "_view_name": "StyleView",
            "_model_name": "DescriptionStyleModel",
            "description_width": "",
            "_view_module": "@jupyter-widgets/base",
            "_model_module_version": "1.5.0",
            "_view_count": null,
            "_view_module_version": "1.2.0",
            "_model_module": "@jupyter-widgets/controls"
          }
        },
        "d58967d2d29b4aefb04feeb59fe1ef40": {
          "model_module": "@jupyter-widgets/base",
          "model_name": "LayoutModel",
          "model_module_version": "1.2.0",
          "state": {
            "_view_name": "LayoutView",
            "grid_template_rows": null,
            "right": null,
            "justify_content": null,
            "_view_module": "@jupyter-widgets/base",
            "overflow": null,
            "_model_module_version": "1.2.0",
            "_view_count": null,
            "flex_flow": null,
            "width": null,
            "min_width": null,
            "border": null,
            "align_items": null,
            "bottom": null,
            "_model_module": "@jupyter-widgets/base",
            "top": null,
            "grid_column": null,
            "overflow_y": null,
            "overflow_x": null,
            "grid_auto_flow": null,
            "grid_area": null,
            "grid_template_columns": null,
            "flex": null,
            "_model_name": "LayoutModel",
            "justify_items": null,
            "grid_row": null,
            "max_height": null,
            "align_content": null,
            "visibility": null,
            "align_self": null,
            "height": null,
            "min_height": null,
            "padding": null,
            "grid_auto_rows": null,
            "grid_gap": null,
            "max_width": null,
            "order": null,
            "_view_module_version": "1.2.0",
            "grid_template_areas": null,
            "object_position": null,
            "object_fit": null,
            "grid_auto_columns": null,
            "margin": null,
            "display": null,
            "left": null
          }
        },
        "ae0eb9dad1a24dafb38b4289887ea2a9": {
          "model_module": "@jupyter-widgets/controls",
          "model_name": "ProgressStyleModel",
          "model_module_version": "1.5.0",
          "state": {
            "_view_name": "StyleView",
            "_model_name": "ProgressStyleModel",
            "description_width": "",
            "_view_module": "@jupyter-widgets/base",
            "_model_module_version": "1.5.0",
            "_view_count": null,
            "_view_module_version": "1.2.0",
            "bar_color": null,
            "_model_module": "@jupyter-widgets/controls"
          }
        },
        "0ab1df0e2a824ef89758d6a70e5bf7b4": {
          "model_module": "@jupyter-widgets/base",
          "model_name": "LayoutModel",
          "model_module_version": "1.2.0",
          "state": {
            "_view_name": "LayoutView",
            "grid_template_rows": null,
            "right": null,
            "justify_content": null,
            "_view_module": "@jupyter-widgets/base",
            "overflow": null,
            "_model_module_version": "1.2.0",
            "_view_count": null,
            "flex_flow": null,
            "width": null,
            "min_width": null,
            "border": null,
            "align_items": null,
            "bottom": null,
            "_model_module": "@jupyter-widgets/base",
            "top": null,
            "grid_column": null,
            "overflow_y": null,
            "overflow_x": null,
            "grid_auto_flow": null,
            "grid_area": null,
            "grid_template_columns": null,
            "flex": null,
            "_model_name": "LayoutModel",
            "justify_items": null,
            "grid_row": null,
            "max_height": null,
            "align_content": null,
            "visibility": null,
            "align_self": null,
            "height": null,
            "min_height": null,
            "padding": null,
            "grid_auto_rows": null,
            "grid_gap": null,
            "max_width": null,
            "order": null,
            "_view_module_version": "1.2.0",
            "grid_template_areas": null,
            "object_position": null,
            "object_fit": null,
            "grid_auto_columns": null,
            "margin": null,
            "display": null,
            "left": null
          }
        },
        "13fa64368ce54c098aacec5d88a0a0a8": {
          "model_module": "@jupyter-widgets/controls",
          "model_name": "DescriptionStyleModel",
          "model_module_version": "1.5.0",
          "state": {
            "_view_name": "StyleView",
            "_model_name": "DescriptionStyleModel",
            "description_width": "",
            "_view_module": "@jupyter-widgets/base",
            "_model_module_version": "1.5.0",
            "_view_count": null,
            "_view_module_version": "1.2.0",
            "_model_module": "@jupyter-widgets/controls"
          }
        },
        "7066dfd982ff48a7a5393e7a41e7eb7a": {
          "model_module": "@jupyter-widgets/base",
          "model_name": "LayoutModel",
          "model_module_version": "1.2.0",
          "state": {
            "_view_name": "LayoutView",
            "grid_template_rows": null,
            "right": null,
            "justify_content": null,
            "_view_module": "@jupyter-widgets/base",
            "overflow": null,
            "_model_module_version": "1.2.0",
            "_view_count": null,
            "flex_flow": null,
            "width": null,
            "min_width": null,
            "border": null,
            "align_items": null,
            "bottom": null,
            "_model_module": "@jupyter-widgets/base",
            "top": null,
            "grid_column": null,
            "overflow_y": null,
            "overflow_x": null,
            "grid_auto_flow": null,
            "grid_area": null,
            "grid_template_columns": null,
            "flex": null,
            "_model_name": "LayoutModel",
            "justify_items": null,
            "grid_row": null,
            "max_height": null,
            "align_content": null,
            "visibility": null,
            "align_self": null,
            "height": null,
            "min_height": null,
            "padding": null,
            "grid_auto_rows": null,
            "grid_gap": null,
            "max_width": null,
            "order": null,
            "_view_module_version": "1.2.0",
            "grid_template_areas": null,
            "object_position": null,
            "object_fit": null,
            "grid_auto_columns": null,
            "margin": null,
            "display": null,
            "left": null
          }
        },
        "aece6861a2924115ab335be6d6bf17c3": {
          "model_module": "@jupyter-widgets/controls",
          "model_name": "HBoxModel",
          "model_module_version": "1.5.0",
          "state": {
            "_view_name": "HBoxView",
            "_dom_classes": [],
            "_model_name": "HBoxModel",
            "_view_module": "@jupyter-widgets/controls",
            "_model_module_version": "1.5.0",
            "_view_count": null,
            "_view_module_version": "1.5.0",
            "box_style": "",
            "layout": "IPY_MODEL_d4d0e712a6094a2ea980b91486735e60",
            "_model_module": "@jupyter-widgets/controls",
            "children": [
              "IPY_MODEL_fddfd52233884a8ab58de2cd5a1469b4",
              "IPY_MODEL_758825f9a58241128df74dfa1806c328",
              "IPY_MODEL_dd7a8ab2bb6743b29578b3db39d7c0c7"
            ]
          }
        },
        "d4d0e712a6094a2ea980b91486735e60": {
          "model_module": "@jupyter-widgets/base",
          "model_name": "LayoutModel",
          "model_module_version": "1.2.0",
          "state": {
            "_view_name": "LayoutView",
            "grid_template_rows": null,
            "right": null,
            "justify_content": null,
            "_view_module": "@jupyter-widgets/base",
            "overflow": null,
            "_model_module_version": "1.2.0",
            "_view_count": null,
            "flex_flow": null,
            "width": null,
            "min_width": null,
            "border": null,
            "align_items": null,
            "bottom": null,
            "_model_module": "@jupyter-widgets/base",
            "top": null,
            "grid_column": null,
            "overflow_y": null,
            "overflow_x": null,
            "grid_auto_flow": null,
            "grid_area": null,
            "grid_template_columns": null,
            "flex": null,
            "_model_name": "LayoutModel",
            "justify_items": null,
            "grid_row": null,
            "max_height": null,
            "align_content": null,
            "visibility": null,
            "align_self": null,
            "height": null,
            "min_height": null,
            "padding": null,
            "grid_auto_rows": null,
            "grid_gap": null,
            "max_width": null,
            "order": null,
            "_view_module_version": "1.2.0",
            "grid_template_areas": null,
            "object_position": null,
            "object_fit": null,
            "grid_auto_columns": null,
            "margin": null,
            "display": null,
            "left": null
          }
        },
        "fddfd52233884a8ab58de2cd5a1469b4": {
          "model_module": "@jupyter-widgets/controls",
          "model_name": "HTMLModel",
          "model_module_version": "1.5.0",
          "state": {
            "_view_name": "HTMLView",
            "style": "IPY_MODEL_4e8f82d74c2d46e6be55d4e88b1efb73",
            "_dom_classes": [],
            "description": "",
            "_model_name": "HTMLModel",
            "placeholder": "​",
            "_view_module": "@jupyter-widgets/controls",
            "_model_module_version": "1.5.0",
            "value": "Downloading: 100%",
            "_view_count": null,
            "_view_module_version": "1.5.0",
            "description_tooltip": null,
            "_model_module": "@jupyter-widgets/controls",
            "layout": "IPY_MODEL_e9c1973dcbde49f0b900b13595354645"
          }
        },
        "758825f9a58241128df74dfa1806c328": {
          "model_module": "@jupyter-widgets/controls",
          "model_name": "FloatProgressModel",
          "model_module_version": "1.5.0",
          "state": {
            "_view_name": "ProgressView",
            "style": "IPY_MODEL_cc3a610f17694a08b32f89100d8d5a3e",
            "_dom_classes": [],
            "description": "",
            "_model_name": "FloatProgressModel",
            "bar_style": "success",
            "max": 158,
            "_view_module": "@jupyter-widgets/controls",
            "_model_module_version": "1.5.0",
            "value": 158,
            "_view_count": null,
            "_view_module_version": "1.5.0",
            "orientation": "horizontal",
            "min": 0,
            "description_tooltip": null,
            "_model_module": "@jupyter-widgets/controls",
            "layout": "IPY_MODEL_ef3eaf6443d94ae9a27405ddc4518b27"
          }
        },
        "dd7a8ab2bb6743b29578b3db39d7c0c7": {
          "model_module": "@jupyter-widgets/controls",
          "model_name": "HTMLModel",
          "model_module_version": "1.5.0",
          "state": {
            "_view_name": "HTMLView",
            "style": "IPY_MODEL_0e7fd3ecef1d4a16a6a85cb4c74090c1",
            "_dom_classes": [],
            "description": "",
            "_model_name": "HTMLModel",
            "placeholder": "​",
            "_view_module": "@jupyter-widgets/controls",
            "_model_module_version": "1.5.0",
            "value": " 158/158 [00:00&lt;00:00, 1.76kB/s]",
            "_view_count": null,
            "_view_module_version": "1.5.0",
            "description_tooltip": null,
            "_model_module": "@jupyter-widgets/controls",
            "layout": "IPY_MODEL_388df8fe9f89485a88f14261c9d095a7"
          }
        },
        "4e8f82d74c2d46e6be55d4e88b1efb73": {
          "model_module": "@jupyter-widgets/controls",
          "model_name": "DescriptionStyleModel",
          "model_module_version": "1.5.0",
          "state": {
            "_view_name": "StyleView",
            "_model_name": "DescriptionStyleModel",
            "description_width": "",
            "_view_module": "@jupyter-widgets/base",
            "_model_module_version": "1.5.0",
            "_view_count": null,
            "_view_module_version": "1.2.0",
            "_model_module": "@jupyter-widgets/controls"
          }
        },
        "e9c1973dcbde49f0b900b13595354645": {
          "model_module": "@jupyter-widgets/base",
          "model_name": "LayoutModel",
          "model_module_version": "1.2.0",
          "state": {
            "_view_name": "LayoutView",
            "grid_template_rows": null,
            "right": null,
            "justify_content": null,
            "_view_module": "@jupyter-widgets/base",
            "overflow": null,
            "_model_module_version": "1.2.0",
            "_view_count": null,
            "flex_flow": null,
            "width": null,
            "min_width": null,
            "border": null,
            "align_items": null,
            "bottom": null,
            "_model_module": "@jupyter-widgets/base",
            "top": null,
            "grid_column": null,
            "overflow_y": null,
            "overflow_x": null,
            "grid_auto_flow": null,
            "grid_area": null,
            "grid_template_columns": null,
            "flex": null,
            "_model_name": "LayoutModel",
            "justify_items": null,
            "grid_row": null,
            "max_height": null,
            "align_content": null,
            "visibility": null,
            "align_self": null,
            "height": null,
            "min_height": null,
            "padding": null,
            "grid_auto_rows": null,
            "grid_gap": null,
            "max_width": null,
            "order": null,
            "_view_module_version": "1.2.0",
            "grid_template_areas": null,
            "object_position": null,
            "object_fit": null,
            "grid_auto_columns": null,
            "margin": null,
            "display": null,
            "left": null
          }
        },
        "cc3a610f17694a08b32f89100d8d5a3e": {
          "model_module": "@jupyter-widgets/controls",
          "model_name": "ProgressStyleModel",
          "model_module_version": "1.5.0",
          "state": {
            "_view_name": "StyleView",
            "_model_name": "ProgressStyleModel",
            "description_width": "",
            "_view_module": "@jupyter-widgets/base",
            "_model_module_version": "1.5.0",
            "_view_count": null,
            "_view_module_version": "1.2.0",
            "bar_color": null,
            "_model_module": "@jupyter-widgets/controls"
          }
        },
        "ef3eaf6443d94ae9a27405ddc4518b27": {
          "model_module": "@jupyter-widgets/base",
          "model_name": "LayoutModel",
          "model_module_version": "1.2.0",
          "state": {
            "_view_name": "LayoutView",
            "grid_template_rows": null,
            "right": null,
            "justify_content": null,
            "_view_module": "@jupyter-widgets/base",
            "overflow": null,
            "_model_module_version": "1.2.0",
            "_view_count": null,
            "flex_flow": null,
            "width": null,
            "min_width": null,
            "border": null,
            "align_items": null,
            "bottom": null,
            "_model_module": "@jupyter-widgets/base",
            "top": null,
            "grid_column": null,
            "overflow_y": null,
            "overflow_x": null,
            "grid_auto_flow": null,
            "grid_area": null,
            "grid_template_columns": null,
            "flex": null,
            "_model_name": "LayoutModel",
            "justify_items": null,
            "grid_row": null,
            "max_height": null,
            "align_content": null,
            "visibility": null,
            "align_self": null,
            "height": null,
            "min_height": null,
            "padding": null,
            "grid_auto_rows": null,
            "grid_gap": null,
            "max_width": null,
            "order": null,
            "_view_module_version": "1.2.0",
            "grid_template_areas": null,
            "object_position": null,
            "object_fit": null,
            "grid_auto_columns": null,
            "margin": null,
            "display": null,
            "left": null
          }
        },
        "0e7fd3ecef1d4a16a6a85cb4c74090c1": {
          "model_module": "@jupyter-widgets/controls",
          "model_name": "DescriptionStyleModel",
          "model_module_version": "1.5.0",
          "state": {
            "_view_name": "StyleView",
            "_model_name": "DescriptionStyleModel",
            "description_width": "",
            "_view_module": "@jupyter-widgets/base",
            "_model_module_version": "1.5.0",
            "_view_count": null,
            "_view_module_version": "1.2.0",
            "_model_module": "@jupyter-widgets/controls"
          }
        },
        "388df8fe9f89485a88f14261c9d095a7": {
          "model_module": "@jupyter-widgets/base",
          "model_name": "LayoutModel",
          "model_module_version": "1.2.0",
          "state": {
            "_view_name": "LayoutView",
            "grid_template_rows": null,
            "right": null,
            "justify_content": null,
            "_view_module": "@jupyter-widgets/base",
            "overflow": null,
            "_model_module_version": "1.2.0",
            "_view_count": null,
            "flex_flow": null,
            "width": null,
            "min_width": null,
            "border": null,
            "align_items": null,
            "bottom": null,
            "_model_module": "@jupyter-widgets/base",
            "top": null,
            "grid_column": null,
            "overflow_y": null,
            "overflow_x": null,
            "grid_auto_flow": null,
            "grid_area": null,
            "grid_template_columns": null,
            "flex": null,
            "_model_name": "LayoutModel",
            "justify_items": null,
            "grid_row": null,
            "max_height": null,
            "align_content": null,
            "visibility": null,
            "align_self": null,
            "height": null,
            "min_height": null,
            "padding": null,
            "grid_auto_rows": null,
            "grid_gap": null,
            "max_width": null,
            "order": null,
            "_view_module_version": "1.2.0",
            "grid_template_areas": null,
            "object_position": null,
            "object_fit": null,
            "grid_auto_columns": null,
            "margin": null,
            "display": null,
            "left": null
          }
        },
        "3e748f7575d34aaa97d6cd97e0d2308f": {
          "model_module": "@jupyter-widgets/controls",
          "model_name": "HBoxModel",
          "model_module_version": "1.5.0",
          "state": {
            "_view_name": "HBoxView",
            "_dom_classes": [],
            "_model_name": "HBoxModel",
            "_view_module": "@jupyter-widgets/controls",
            "_model_module_version": "1.5.0",
            "_view_count": null,
            "_view_module_version": "1.5.0",
            "box_style": "",
            "layout": "IPY_MODEL_1fc1c3e6b6bd4932a1ca14aca641a08a",
            "_model_module": "@jupyter-widgets/controls",
            "children": [
              "IPY_MODEL_4e21a4daaa9545348a0021a7e2f785d7",
              "IPY_MODEL_e803731346004b018c96cfe9797bd220",
              "IPY_MODEL_fcc213c00cb64a1da4b7c6c13f066965"
            ]
          }
        },
        "1fc1c3e6b6bd4932a1ca14aca641a08a": {
          "model_module": "@jupyter-widgets/base",
          "model_name": "LayoutModel",
          "model_module_version": "1.2.0",
          "state": {
            "_view_name": "LayoutView",
            "grid_template_rows": null,
            "right": null,
            "justify_content": null,
            "_view_module": "@jupyter-widgets/base",
            "overflow": null,
            "_model_module_version": "1.2.0",
            "_view_count": null,
            "flex_flow": null,
            "width": null,
            "min_width": null,
            "border": null,
            "align_items": null,
            "bottom": null,
            "_model_module": "@jupyter-widgets/base",
            "top": null,
            "grid_column": null,
            "overflow_y": null,
            "overflow_x": null,
            "grid_auto_flow": null,
            "grid_area": null,
            "grid_template_columns": null,
            "flex": null,
            "_model_name": "LayoutModel",
            "justify_items": null,
            "grid_row": null,
            "max_height": null,
            "align_content": null,
            "visibility": null,
            "align_self": null,
            "height": null,
            "min_height": null,
            "padding": null,
            "grid_auto_rows": null,
            "grid_gap": null,
            "max_width": null,
            "order": null,
            "_view_module_version": "1.2.0",
            "grid_template_areas": null,
            "object_position": null,
            "object_fit": null,
            "grid_auto_columns": null,
            "margin": null,
            "display": null,
            "left": null
          }
        },
        "4e21a4daaa9545348a0021a7e2f785d7": {
          "model_module": "@jupyter-widgets/controls",
          "model_name": "HTMLModel",
          "model_module_version": "1.5.0",
          "state": {
            "_view_name": "HTMLView",
            "style": "IPY_MODEL_b7f548a5d80d4b34b9f3cde6b602623e",
            "_dom_classes": [],
            "description": "",
            "_model_name": "HTMLModel",
            "placeholder": "​",
            "_view_module": "@jupyter-widgets/controls",
            "_model_module_version": "1.5.0",
            "value": "Downloading: 100%",
            "_view_count": null,
            "_view_module_version": "1.5.0",
            "description_tooltip": null,
            "_model_module": "@jupyter-widgets/controls",
            "layout": "IPY_MODEL_977ec30b6e044cb9873b822d9b988561"
          }
        },
        "e803731346004b018c96cfe9797bd220": {
          "model_module": "@jupyter-widgets/controls",
          "model_name": "FloatProgressModel",
          "model_module_version": "1.5.0",
          "state": {
            "_view_name": "ProgressView",
            "style": "IPY_MODEL_83f7c7fcea3845d7a453917719d71666",
            "_dom_classes": [],
            "description": "",
            "_model_name": "FloatProgressModel",
            "bar_style": "success",
            "max": 163,
            "_view_module": "@jupyter-widgets/controls",
            "_model_module_version": "1.5.0",
            "value": 163,
            "_view_count": null,
            "_view_module_version": "1.5.0",
            "orientation": "horizontal",
            "min": 0,
            "description_tooltip": null,
            "_model_module": "@jupyter-widgets/controls",
            "layout": "IPY_MODEL_becf8b7ccd1e429ea146e30cf27ebf8a"
          }
        },
        "fcc213c00cb64a1da4b7c6c13f066965": {
          "model_module": "@jupyter-widgets/controls",
          "model_name": "HTMLModel",
          "model_module_version": "1.5.0",
          "state": {
            "_view_name": "HTMLView",
            "style": "IPY_MODEL_a6193b40990e4788b8d68d6ffa04977e",
            "_dom_classes": [],
            "description": "",
            "_model_name": "HTMLModel",
            "placeholder": "​",
            "_view_module": "@jupyter-widgets/controls",
            "_model_module_version": "1.5.0",
            "value": " 163/163 [00:00&lt;00:00, 1.18kB/s]",
            "_view_count": null,
            "_view_module_version": "1.5.0",
            "description_tooltip": null,
            "_model_module": "@jupyter-widgets/controls",
            "layout": "IPY_MODEL_cd35ad27d5d7427a89f2abd8554f8b84"
          }
        },
        "b7f548a5d80d4b34b9f3cde6b602623e": {
          "model_module": "@jupyter-widgets/controls",
          "model_name": "DescriptionStyleModel",
          "model_module_version": "1.5.0",
          "state": {
            "_view_name": "StyleView",
            "_model_name": "DescriptionStyleModel",
            "description_width": "",
            "_view_module": "@jupyter-widgets/base",
            "_model_module_version": "1.5.0",
            "_view_count": null,
            "_view_module_version": "1.2.0",
            "_model_module": "@jupyter-widgets/controls"
          }
        },
        "977ec30b6e044cb9873b822d9b988561": {
          "model_module": "@jupyter-widgets/base",
          "model_name": "LayoutModel",
          "model_module_version": "1.2.0",
          "state": {
            "_view_name": "LayoutView",
            "grid_template_rows": null,
            "right": null,
            "justify_content": null,
            "_view_module": "@jupyter-widgets/base",
            "overflow": null,
            "_model_module_version": "1.2.0",
            "_view_count": null,
            "flex_flow": null,
            "width": null,
            "min_width": null,
            "border": null,
            "align_items": null,
            "bottom": null,
            "_model_module": "@jupyter-widgets/base",
            "top": null,
            "grid_column": null,
            "overflow_y": null,
            "overflow_x": null,
            "grid_auto_flow": null,
            "grid_area": null,
            "grid_template_columns": null,
            "flex": null,
            "_model_name": "LayoutModel",
            "justify_items": null,
            "grid_row": null,
            "max_height": null,
            "align_content": null,
            "visibility": null,
            "align_self": null,
            "height": null,
            "min_height": null,
            "padding": null,
            "grid_auto_rows": null,
            "grid_gap": null,
            "max_width": null,
            "order": null,
            "_view_module_version": "1.2.0",
            "grid_template_areas": null,
            "object_position": null,
            "object_fit": null,
            "grid_auto_columns": null,
            "margin": null,
            "display": null,
            "left": null
          }
        },
        "83f7c7fcea3845d7a453917719d71666": {
          "model_module": "@jupyter-widgets/controls",
          "model_name": "ProgressStyleModel",
          "model_module_version": "1.5.0",
          "state": {
            "_view_name": "StyleView",
            "_model_name": "ProgressStyleModel",
            "description_width": "",
            "_view_module": "@jupyter-widgets/base",
            "_model_module_version": "1.5.0",
            "_view_count": null,
            "_view_module_version": "1.2.0",
            "bar_color": null,
            "_model_module": "@jupyter-widgets/controls"
          }
        },
        "becf8b7ccd1e429ea146e30cf27ebf8a": {
          "model_module": "@jupyter-widgets/base",
          "model_name": "LayoutModel",
          "model_module_version": "1.2.0",
          "state": {
            "_view_name": "LayoutView",
            "grid_template_rows": null,
            "right": null,
            "justify_content": null,
            "_view_module": "@jupyter-widgets/base",
            "overflow": null,
            "_model_module_version": "1.2.0",
            "_view_count": null,
            "flex_flow": null,
            "width": null,
            "min_width": null,
            "border": null,
            "align_items": null,
            "bottom": null,
            "_model_module": "@jupyter-widgets/base",
            "top": null,
            "grid_column": null,
            "overflow_y": null,
            "overflow_x": null,
            "grid_auto_flow": null,
            "grid_area": null,
            "grid_template_columns": null,
            "flex": null,
            "_model_name": "LayoutModel",
            "justify_items": null,
            "grid_row": null,
            "max_height": null,
            "align_content": null,
            "visibility": null,
            "align_self": null,
            "height": null,
            "min_height": null,
            "padding": null,
            "grid_auto_rows": null,
            "grid_gap": null,
            "max_width": null,
            "order": null,
            "_view_module_version": "1.2.0",
            "grid_template_areas": null,
            "object_position": null,
            "object_fit": null,
            "grid_auto_columns": null,
            "margin": null,
            "display": null,
            "left": null
          }
        },
        "a6193b40990e4788b8d68d6ffa04977e": {
          "model_module": "@jupyter-widgets/controls",
          "model_name": "DescriptionStyleModel",
          "model_module_version": "1.5.0",
          "state": {
            "_view_name": "StyleView",
            "_model_name": "DescriptionStyleModel",
            "description_width": "",
            "_view_module": "@jupyter-widgets/base",
            "_model_module_version": "1.5.0",
            "_view_count": null,
            "_view_module_version": "1.2.0",
            "_model_module": "@jupyter-widgets/controls"
          }
        },
        "cd35ad27d5d7427a89f2abd8554f8b84": {
          "model_module": "@jupyter-widgets/base",
          "model_name": "LayoutModel",
          "model_module_version": "1.2.0",
          "state": {
            "_view_name": "LayoutView",
            "grid_template_rows": null,
            "right": null,
            "justify_content": null,
            "_view_module": "@jupyter-widgets/base",
            "overflow": null,
            "_model_module_version": "1.2.0",
            "_view_count": null,
            "flex_flow": null,
            "width": null,
            "min_width": null,
            "border": null,
            "align_items": null,
            "bottom": null,
            "_model_module": "@jupyter-widgets/base",
            "top": null,
            "grid_column": null,
            "overflow_y": null,
            "overflow_x": null,
            "grid_auto_flow": null,
            "grid_area": null,
            "grid_template_columns": null,
            "flex": null,
            "_model_name": "LayoutModel",
            "justify_items": null,
            "grid_row": null,
            "max_height": null,
            "align_content": null,
            "visibility": null,
            "align_self": null,
            "height": null,
            "min_height": null,
            "padding": null,
            "grid_auto_rows": null,
            "grid_gap": null,
            "max_width": null,
            "order": null,
            "_view_module_version": "1.2.0",
            "grid_template_areas": null,
            "object_position": null,
            "object_fit": null,
            "grid_auto_columns": null,
            "margin": null,
            "display": null,
            "left": null
          }
        },
        "912b205837534534807a32d02305f645": {
          "model_module": "@jupyter-widgets/controls",
          "model_name": "HBoxModel",
          "model_module_version": "1.5.0",
          "state": {
            "_view_name": "HBoxView",
            "_dom_classes": [],
            "_model_name": "HBoxModel",
            "_view_module": "@jupyter-widgets/controls",
            "_model_module_version": "1.5.0",
            "_view_count": null,
            "_view_module_version": "1.5.0",
            "box_style": "",
            "layout": "IPY_MODEL_f72c8202e1894c13b05e5392761171a0",
            "_model_module": "@jupyter-widgets/controls",
            "children": [
              "IPY_MODEL_bdaa513515d8469d99ab14d5f3fe16a4",
              "IPY_MODEL_4e6ab33c6ca74e258a39425b4eaf3cc2",
              "IPY_MODEL_0180194a539e432eb53f9bd456285462"
            ]
          }
        },
        "f72c8202e1894c13b05e5392761171a0": {
          "model_module": "@jupyter-widgets/base",
          "model_name": "LayoutModel",
          "model_module_version": "1.2.0",
          "state": {
            "_view_name": "LayoutView",
            "grid_template_rows": null,
            "right": null,
            "justify_content": null,
            "_view_module": "@jupyter-widgets/base",
            "overflow": null,
            "_model_module_version": "1.2.0",
            "_view_count": null,
            "flex_flow": null,
            "width": null,
            "min_width": null,
            "border": null,
            "align_items": null,
            "bottom": null,
            "_model_module": "@jupyter-widgets/base",
            "top": null,
            "grid_column": null,
            "overflow_y": null,
            "overflow_x": null,
            "grid_auto_flow": null,
            "grid_area": null,
            "grid_template_columns": null,
            "flex": null,
            "_model_name": "LayoutModel",
            "justify_items": null,
            "grid_row": null,
            "max_height": null,
            "align_content": null,
            "visibility": null,
            "align_self": null,
            "height": null,
            "min_height": null,
            "padding": null,
            "grid_auto_rows": null,
            "grid_gap": null,
            "max_width": null,
            "order": null,
            "_view_module_version": "1.2.0",
            "grid_template_areas": null,
            "object_position": null,
            "object_fit": null,
            "grid_auto_columns": null,
            "margin": null,
            "display": null,
            "left": null
          }
        },
        "bdaa513515d8469d99ab14d5f3fe16a4": {
          "model_module": "@jupyter-widgets/controls",
          "model_name": "HTMLModel",
          "model_module_version": "1.5.0",
          "state": {
            "_view_name": "HTMLView",
            "style": "IPY_MODEL_4c67635ab62948eca2ef24d0361f5271",
            "_dom_classes": [],
            "description": "",
            "_model_name": "HTMLModel",
            "placeholder": "​",
            "_view_module": "@jupyter-widgets/controls",
            "_model_module_version": "1.5.0",
            "value": "Downloading: 100%",
            "_view_count": null,
            "_view_module_version": "1.5.0",
            "description_tooltip": null,
            "_model_module": "@jupyter-widgets/controls",
            "layout": "IPY_MODEL_6b4fca825e924b33a263aac3722cb233"
          }
        },
        "4e6ab33c6ca74e258a39425b4eaf3cc2": {
          "model_module": "@jupyter-widgets/controls",
          "model_name": "FloatProgressModel",
          "model_module_version": "1.5.0",
          "state": {
            "_view_name": "ProgressView",
            "style": "IPY_MODEL_cfcf98c4605a4b39aa8738a4ccd1c177",
            "_dom_classes": [],
            "description": "",
            "_model_name": "FloatProgressModel",
            "bar_style": "success",
            "max": 291,
            "_view_module": "@jupyter-widgets/controls",
            "_model_module_version": "1.5.0",
            "value": 291,
            "_view_count": null,
            "_view_module_version": "1.5.0",
            "orientation": "horizontal",
            "min": 0,
            "description_tooltip": null,
            "_model_module": "@jupyter-widgets/controls",
            "layout": "IPY_MODEL_6b3a6790c68149ebaeff7a34e523865e"
          }
        },
        "0180194a539e432eb53f9bd456285462": {
          "model_module": "@jupyter-widgets/controls",
          "model_name": "HTMLModel",
          "model_module_version": "1.5.0",
          "state": {
            "_view_name": "HTMLView",
            "style": "IPY_MODEL_71cdf07a0956457f819aa809faa3a643",
            "_dom_classes": [],
            "description": "",
            "_model_name": "HTMLModel",
            "placeholder": "​",
            "_view_module": "@jupyter-widgets/controls",
            "_model_module_version": "1.5.0",
            "value": " 291/291 [00:00&lt;00:00, 2.40kB/s]",
            "_view_count": null,
            "_view_module_version": "1.5.0",
            "description_tooltip": null,
            "_model_module": "@jupyter-widgets/controls",
            "layout": "IPY_MODEL_463b4df8878b464d81637b92c2f7436a"
          }
        },
        "4c67635ab62948eca2ef24d0361f5271": {
          "model_module": "@jupyter-widgets/controls",
          "model_name": "DescriptionStyleModel",
          "model_module_version": "1.5.0",
          "state": {
            "_view_name": "StyleView",
            "_model_name": "DescriptionStyleModel",
            "description_width": "",
            "_view_module": "@jupyter-widgets/base",
            "_model_module_version": "1.5.0",
            "_view_count": null,
            "_view_module_version": "1.2.0",
            "_model_module": "@jupyter-widgets/controls"
          }
        },
        "6b4fca825e924b33a263aac3722cb233": {
          "model_module": "@jupyter-widgets/base",
          "model_name": "LayoutModel",
          "model_module_version": "1.2.0",
          "state": {
            "_view_name": "LayoutView",
            "grid_template_rows": null,
            "right": null,
            "justify_content": null,
            "_view_module": "@jupyter-widgets/base",
            "overflow": null,
            "_model_module_version": "1.2.0",
            "_view_count": null,
            "flex_flow": null,
            "width": null,
            "min_width": null,
            "border": null,
            "align_items": null,
            "bottom": null,
            "_model_module": "@jupyter-widgets/base",
            "top": null,
            "grid_column": null,
            "overflow_y": null,
            "overflow_x": null,
            "grid_auto_flow": null,
            "grid_area": null,
            "grid_template_columns": null,
            "flex": null,
            "_model_name": "LayoutModel",
            "justify_items": null,
            "grid_row": null,
            "max_height": null,
            "align_content": null,
            "visibility": null,
            "align_self": null,
            "height": null,
            "min_height": null,
            "padding": null,
            "grid_auto_rows": null,
            "grid_gap": null,
            "max_width": null,
            "order": null,
            "_view_module_version": "1.2.0",
            "grid_template_areas": null,
            "object_position": null,
            "object_fit": null,
            "grid_auto_columns": null,
            "margin": null,
            "display": null,
            "left": null
          }
        },
        "cfcf98c4605a4b39aa8738a4ccd1c177": {
          "model_module": "@jupyter-widgets/controls",
          "model_name": "ProgressStyleModel",
          "model_module_version": "1.5.0",
          "state": {
            "_view_name": "StyleView",
            "_model_name": "ProgressStyleModel",
            "description_width": "",
            "_view_module": "@jupyter-widgets/base",
            "_model_module_version": "1.5.0",
            "_view_count": null,
            "_view_module_version": "1.2.0",
            "bar_color": null,
            "_model_module": "@jupyter-widgets/controls"
          }
        },
        "6b3a6790c68149ebaeff7a34e523865e": {
          "model_module": "@jupyter-widgets/base",
          "model_name": "LayoutModel",
          "model_module_version": "1.2.0",
          "state": {
            "_view_name": "LayoutView",
            "grid_template_rows": null,
            "right": null,
            "justify_content": null,
            "_view_module": "@jupyter-widgets/base",
            "overflow": null,
            "_model_module_version": "1.2.0",
            "_view_count": null,
            "flex_flow": null,
            "width": null,
            "min_width": null,
            "border": null,
            "align_items": null,
            "bottom": null,
            "_model_module": "@jupyter-widgets/base",
            "top": null,
            "grid_column": null,
            "overflow_y": null,
            "overflow_x": null,
            "grid_auto_flow": null,
            "grid_area": null,
            "grid_template_columns": null,
            "flex": null,
            "_model_name": "LayoutModel",
            "justify_items": null,
            "grid_row": null,
            "max_height": null,
            "align_content": null,
            "visibility": null,
            "align_self": null,
            "height": null,
            "min_height": null,
            "padding": null,
            "grid_auto_rows": null,
            "grid_gap": null,
            "max_width": null,
            "order": null,
            "_view_module_version": "1.2.0",
            "grid_template_areas": null,
            "object_position": null,
            "object_fit": null,
            "grid_auto_columns": null,
            "margin": null,
            "display": null,
            "left": null
          }
        },
        "71cdf07a0956457f819aa809faa3a643": {
          "model_module": "@jupyter-widgets/controls",
          "model_name": "DescriptionStyleModel",
          "model_module_version": "1.5.0",
          "state": {
            "_view_name": "StyleView",
            "_model_name": "DescriptionStyleModel",
            "description_width": "",
            "_view_module": "@jupyter-widgets/base",
            "_model_module_version": "1.5.0",
            "_view_count": null,
            "_view_module_version": "1.2.0",
            "_model_module": "@jupyter-widgets/controls"
          }
        },
        "463b4df8878b464d81637b92c2f7436a": {
          "model_module": "@jupyter-widgets/base",
          "model_name": "LayoutModel",
          "model_module_version": "1.2.0",
          "state": {
            "_view_name": "LayoutView",
            "grid_template_rows": null,
            "right": null,
            "justify_content": null,
            "_view_module": "@jupyter-widgets/base",
            "overflow": null,
            "_model_module_version": "1.2.0",
            "_view_count": null,
            "flex_flow": null,
            "width": null,
            "min_width": null,
            "border": null,
            "align_items": null,
            "bottom": null,
            "_model_module": "@jupyter-widgets/base",
            "top": null,
            "grid_column": null,
            "overflow_y": null,
            "overflow_x": null,
            "grid_auto_flow": null,
            "grid_area": null,
            "grid_template_columns": null,
            "flex": null,
            "_model_name": "LayoutModel",
            "justify_items": null,
            "grid_row": null,
            "max_height": null,
            "align_content": null,
            "visibility": null,
            "align_self": null,
            "height": null,
            "min_height": null,
            "padding": null,
            "grid_auto_rows": null,
            "grid_gap": null,
            "max_width": null,
            "order": null,
            "_view_module_version": "1.2.0",
            "grid_template_areas": null,
            "object_position": null,
            "object_fit": null,
            "grid_auto_columns": null,
            "margin": null,
            "display": null,
            "left": null
          }
        },
        "0e2e93f5bfd2494bbf66655dcdf5abe4": {
          "model_module": "@jupyter-widgets/controls",
          "model_name": "HBoxModel",
          "model_module_version": "1.5.0",
          "state": {
            "_view_name": "HBoxView",
            "_dom_classes": [],
            "_model_name": "HBoxModel",
            "_view_module": "@jupyter-widgets/controls",
            "_model_module_version": "1.5.0",
            "_view_count": null,
            "_view_module_version": "1.5.0",
            "box_style": "",
            "layout": "IPY_MODEL_748496c265e24a95bf1873f0e1b73b2c",
            "_model_module": "@jupyter-widgets/controls",
            "children": [
              "IPY_MODEL_cc619089b727492eb9203ddbe4010b5d",
              "IPY_MODEL_cad35bcc961e413480e4259cbfae70e3",
              "IPY_MODEL_74d3c38d22174bffaf31c259d37839ab"
            ]
          }
        },
        "748496c265e24a95bf1873f0e1b73b2c": {
          "model_module": "@jupyter-widgets/base",
          "model_name": "LayoutModel",
          "model_module_version": "1.2.0",
          "state": {
            "_view_name": "LayoutView",
            "grid_template_rows": null,
            "right": null,
            "justify_content": null,
            "_view_module": "@jupyter-widgets/base",
            "overflow": null,
            "_model_module_version": "1.2.0",
            "_view_count": null,
            "flex_flow": null,
            "width": null,
            "min_width": null,
            "border": null,
            "align_items": null,
            "bottom": null,
            "_model_module": "@jupyter-widgets/base",
            "top": null,
            "grid_column": null,
            "overflow_y": null,
            "overflow_x": null,
            "grid_auto_flow": null,
            "grid_area": null,
            "grid_template_columns": null,
            "flex": null,
            "_model_name": "LayoutModel",
            "justify_items": null,
            "grid_row": null,
            "max_height": null,
            "align_content": null,
            "visibility": null,
            "align_self": null,
            "height": null,
            "min_height": null,
            "padding": null,
            "grid_auto_rows": null,
            "grid_gap": null,
            "max_width": null,
            "order": null,
            "_view_module_version": "1.2.0",
            "grid_template_areas": null,
            "object_position": null,
            "object_fit": null,
            "grid_auto_columns": null,
            "margin": null,
            "display": null,
            "left": null
          }
        },
        "cc619089b727492eb9203ddbe4010b5d": {
          "model_module": "@jupyter-widgets/controls",
          "model_name": "HTMLModel",
          "model_module_version": "1.5.0",
          "state": {
            "_view_name": "HTMLView",
            "style": "IPY_MODEL_4fc903ea0dc64f3e90051fda520b3b29",
            "_dom_classes": [],
            "description": "",
            "_model_name": "HTMLModel",
            "placeholder": "​",
            "_view_module": "@jupyter-widgets/controls",
            "_model_module_version": "1.5.0",
            "value": "Downloading: 100%",
            "_view_count": null,
            "_view_module_version": "1.5.0",
            "description_tooltip": null,
            "_model_module": "@jupyter-widgets/controls",
            "layout": "IPY_MODEL_da00c5f1efab42b58cb9789b334b8f55"
          }
        },
        "cad35bcc961e413480e4259cbfae70e3": {
          "model_module": "@jupyter-widgets/controls",
          "model_name": "FloatProgressModel",
          "model_module_version": "1.5.0",
          "state": {
            "_view_name": "ProgressView",
            "style": "IPY_MODEL_2177f092484440e3b7569defce1d4b43",
            "_dom_classes": [],
            "description": "",
            "_model_name": "FloatProgressModel",
            "bar_style": "success",
            "max": 85,
            "_view_module": "@jupyter-widgets/controls",
            "_model_module_version": "1.5.0",
            "value": 85,
            "_view_count": null,
            "_view_module_version": "1.5.0",
            "orientation": "horizontal",
            "min": 0,
            "description_tooltip": null,
            "_model_module": "@jupyter-widgets/controls",
            "layout": "IPY_MODEL_6496f22197cc4001b55b287bc42ea1d7"
          }
        },
        "74d3c38d22174bffaf31c259d37839ab": {
          "model_module": "@jupyter-widgets/controls",
          "model_name": "HTMLModel",
          "model_module_version": "1.5.0",
          "state": {
            "_view_name": "HTMLView",
            "style": "IPY_MODEL_49886260db624bef83c20af9d777694b",
            "_dom_classes": [],
            "description": "",
            "_model_name": "HTMLModel",
            "placeholder": "​",
            "_view_module": "@jupyter-widgets/controls",
            "_model_module_version": "1.5.0",
            "value": " 85.0/85.0 [00:00&lt;00:00, 821B/s]",
            "_view_count": null,
            "_view_module_version": "1.5.0",
            "description_tooltip": null,
            "_model_module": "@jupyter-widgets/controls",
            "layout": "IPY_MODEL_c9186978b3cc4a34809b384ba185d636"
          }
        },
        "4fc903ea0dc64f3e90051fda520b3b29": {
          "model_module": "@jupyter-widgets/controls",
          "model_name": "DescriptionStyleModel",
          "model_module_version": "1.5.0",
          "state": {
            "_view_name": "StyleView",
            "_model_name": "DescriptionStyleModel",
            "description_width": "",
            "_view_module": "@jupyter-widgets/base",
            "_model_module_version": "1.5.0",
            "_view_count": null,
            "_view_module_version": "1.2.0",
            "_model_module": "@jupyter-widgets/controls"
          }
        },
        "da00c5f1efab42b58cb9789b334b8f55": {
          "model_module": "@jupyter-widgets/base",
          "model_name": "LayoutModel",
          "model_module_version": "1.2.0",
          "state": {
            "_view_name": "LayoutView",
            "grid_template_rows": null,
            "right": null,
            "justify_content": null,
            "_view_module": "@jupyter-widgets/base",
            "overflow": null,
            "_model_module_version": "1.2.0",
            "_view_count": null,
            "flex_flow": null,
            "width": null,
            "min_width": null,
            "border": null,
            "align_items": null,
            "bottom": null,
            "_model_module": "@jupyter-widgets/base",
            "top": null,
            "grid_column": null,
            "overflow_y": null,
            "overflow_x": null,
            "grid_auto_flow": null,
            "grid_area": null,
            "grid_template_columns": null,
            "flex": null,
            "_model_name": "LayoutModel",
            "justify_items": null,
            "grid_row": null,
            "max_height": null,
            "align_content": null,
            "visibility": null,
            "align_self": null,
            "height": null,
            "min_height": null,
            "padding": null,
            "grid_auto_rows": null,
            "grid_gap": null,
            "max_width": null,
            "order": null,
            "_view_module_version": "1.2.0",
            "grid_template_areas": null,
            "object_position": null,
            "object_fit": null,
            "grid_auto_columns": null,
            "margin": null,
            "display": null,
            "left": null
          }
        },
        "2177f092484440e3b7569defce1d4b43": {
          "model_module": "@jupyter-widgets/controls",
          "model_name": "ProgressStyleModel",
          "model_module_version": "1.5.0",
          "state": {
            "_view_name": "StyleView",
            "_model_name": "ProgressStyleModel",
            "description_width": "",
            "_view_module": "@jupyter-widgets/base",
            "_model_module_version": "1.5.0",
            "_view_count": null,
            "_view_module_version": "1.2.0",
            "bar_color": null,
            "_model_module": "@jupyter-widgets/controls"
          }
        },
        "6496f22197cc4001b55b287bc42ea1d7": {
          "model_module": "@jupyter-widgets/base",
          "model_name": "LayoutModel",
          "model_module_version": "1.2.0",
          "state": {
            "_view_name": "LayoutView",
            "grid_template_rows": null,
            "right": null,
            "justify_content": null,
            "_view_module": "@jupyter-widgets/base",
            "overflow": null,
            "_model_module_version": "1.2.0",
            "_view_count": null,
            "flex_flow": null,
            "width": null,
            "min_width": null,
            "border": null,
            "align_items": null,
            "bottom": null,
            "_model_module": "@jupyter-widgets/base",
            "top": null,
            "grid_column": null,
            "overflow_y": null,
            "overflow_x": null,
            "grid_auto_flow": null,
            "grid_area": null,
            "grid_template_columns": null,
            "flex": null,
            "_model_name": "LayoutModel",
            "justify_items": null,
            "grid_row": null,
            "max_height": null,
            "align_content": null,
            "visibility": null,
            "align_self": null,
            "height": null,
            "min_height": null,
            "padding": null,
            "grid_auto_rows": null,
            "grid_gap": null,
            "max_width": null,
            "order": null,
            "_view_module_version": "1.2.0",
            "grid_template_areas": null,
            "object_position": null,
            "object_fit": null,
            "grid_auto_columns": null,
            "margin": null,
            "display": null,
            "left": null
          }
        },
        "49886260db624bef83c20af9d777694b": {
          "model_module": "@jupyter-widgets/controls",
          "model_name": "DescriptionStyleModel",
          "model_module_version": "1.5.0",
          "state": {
            "_view_name": "StyleView",
            "_model_name": "DescriptionStyleModel",
            "description_width": "",
            "_view_module": "@jupyter-widgets/base",
            "_model_module_version": "1.5.0",
            "_view_count": null,
            "_view_module_version": "1.2.0",
            "_model_module": "@jupyter-widgets/controls"
          }
        },
        "c9186978b3cc4a34809b384ba185d636": {
          "model_module": "@jupyter-widgets/base",
          "model_name": "LayoutModel",
          "model_module_version": "1.2.0",
          "state": {
            "_view_name": "LayoutView",
            "grid_template_rows": null,
            "right": null,
            "justify_content": null,
            "_view_module": "@jupyter-widgets/base",
            "overflow": null,
            "_model_module_version": "1.2.0",
            "_view_count": null,
            "flex_flow": null,
            "width": null,
            "min_width": null,
            "border": null,
            "align_items": null,
            "bottom": null,
            "_model_module": "@jupyter-widgets/base",
            "top": null,
            "grid_column": null,
            "overflow_y": null,
            "overflow_x": null,
            "grid_auto_flow": null,
            "grid_area": null,
            "grid_template_columns": null,
            "flex": null,
            "_model_name": "LayoutModel",
            "justify_items": null,
            "grid_row": null,
            "max_height": null,
            "align_content": null,
            "visibility": null,
            "align_self": null,
            "height": null,
            "min_height": null,
            "padding": null,
            "grid_auto_rows": null,
            "grid_gap": null,
            "max_width": null,
            "order": null,
            "_view_module_version": "1.2.0",
            "grid_template_areas": null,
            "object_position": null,
            "object_fit": null,
            "grid_auto_columns": null,
            "margin": null,
            "display": null,
            "left": null
          }
        },
        "42e5525040234bf0b74c29f8e64b518a": {
          "model_module": "@jupyter-widgets/controls",
          "model_name": "HBoxModel",
          "model_module_version": "1.5.0",
          "state": {
            "_view_name": "HBoxView",
            "_dom_classes": [],
            "_model_name": "HBoxModel",
            "_view_module": "@jupyter-widgets/controls",
            "_model_module_version": "1.5.0",
            "_view_count": null,
            "_view_module_version": "1.5.0",
            "box_style": "",
            "layout": "IPY_MODEL_8a047dad368948a0acdb22f45ac2db45",
            "_model_module": "@jupyter-widgets/controls",
            "children": [
              "IPY_MODEL_fa97581a27cc4f408a697c902f983bcb",
              "IPY_MODEL_c8d90c9c31094244b04d3aadeac5fb54",
              "IPY_MODEL_40396bae51724a76bfcf9ed55d194914"
            ]
          }
        },
        "8a047dad368948a0acdb22f45ac2db45": {
          "model_module": "@jupyter-widgets/base",
          "model_name": "LayoutModel",
          "model_module_version": "1.2.0",
          "state": {
            "_view_name": "LayoutView",
            "grid_template_rows": null,
            "right": null,
            "justify_content": null,
            "_view_module": "@jupyter-widgets/base",
            "overflow": null,
            "_model_module_version": "1.2.0",
            "_view_count": null,
            "flex_flow": null,
            "width": null,
            "min_width": null,
            "border": null,
            "align_items": null,
            "bottom": null,
            "_model_module": "@jupyter-widgets/base",
            "top": null,
            "grid_column": null,
            "overflow_y": null,
            "overflow_x": null,
            "grid_auto_flow": null,
            "grid_area": null,
            "grid_template_columns": null,
            "flex": null,
            "_model_name": "LayoutModel",
            "justify_items": null,
            "grid_row": null,
            "max_height": null,
            "align_content": null,
            "visibility": null,
            "align_self": null,
            "height": null,
            "min_height": null,
            "padding": null,
            "grid_auto_rows": null,
            "grid_gap": null,
            "max_width": null,
            "order": null,
            "_view_module_version": "1.2.0",
            "grid_template_areas": null,
            "object_position": null,
            "object_fit": null,
            "grid_auto_columns": null,
            "margin": null,
            "display": null,
            "left": null
          }
        },
        "fa97581a27cc4f408a697c902f983bcb": {
          "model_module": "@jupyter-widgets/controls",
          "model_name": "HTMLModel",
          "model_module_version": "1.5.0",
          "state": {
            "_view_name": "HTMLView",
            "style": "IPY_MODEL_35e63ef3c8714038b64f01b5811105b4",
            "_dom_classes": [],
            "description": "",
            "_model_name": "HTMLModel",
            "placeholder": "​",
            "_view_module": "@jupyter-widgets/controls",
            "_model_module_version": "1.5.0",
            "value": "Downloading: 100%",
            "_view_count": null,
            "_view_module_version": "1.5.0",
            "description_tooltip": null,
            "_model_module": "@jupyter-widgets/controls",
            "layout": "IPY_MODEL_99022500bfab4682ba2ae29493c58dec"
          }
        },
        "c8d90c9c31094244b04d3aadeac5fb54": {
          "model_module": "@jupyter-widgets/controls",
          "model_name": "FloatProgressModel",
          "model_module_version": "1.5.0",
          "state": {
            "_view_name": "ProgressView",
            "style": "IPY_MODEL_f5e2af430b934b049a30bf063bd4a82c",
            "_dom_classes": [],
            "description": "",
            "_model_name": "FloatProgressModel",
            "bar_style": "success",
            "max": 1269737156,
            "_view_module": "@jupyter-widgets/controls",
            "_model_module_version": "1.5.0",
            "value": 1269737156,
            "_view_count": null,
            "_view_module_version": "1.5.0",
            "orientation": "horizontal",
            "min": 0,
            "description_tooltip": null,
            "_model_module": "@jupyter-widgets/controls",
            "layout": "IPY_MODEL_13e13f9bc2934fd7bfb5e4157c243821"
          }
        },
        "40396bae51724a76bfcf9ed55d194914": {
          "model_module": "@jupyter-widgets/controls",
          "model_name": "HTMLModel",
          "model_module_version": "1.5.0",
          "state": {
            "_view_name": "HTMLView",
            "style": "IPY_MODEL_7aa68940ac63443ebfaa84b4a5f2bd32",
            "_dom_classes": [],
            "description": "",
            "_model_name": "HTMLModel",
            "placeholder": "​",
            "_view_module": "@jupyter-widgets/controls",
            "_model_module_version": "1.5.0",
            "value": " 1.18G/1.18G [00:43&lt;00:00, 26.6MB/s]",
            "_view_count": null,
            "_view_module_version": "1.5.0",
            "description_tooltip": null,
            "_model_module": "@jupyter-widgets/controls",
            "layout": "IPY_MODEL_778e0b25b1a14fdaa45ea77fcc092a49"
          }
        },
        "35e63ef3c8714038b64f01b5811105b4": {
          "model_module": "@jupyter-widgets/controls",
          "model_name": "DescriptionStyleModel",
          "model_module_version": "1.5.0",
          "state": {
            "_view_name": "StyleView",
            "_model_name": "DescriptionStyleModel",
            "description_width": "",
            "_view_module": "@jupyter-widgets/base",
            "_model_module_version": "1.5.0",
            "_view_count": null,
            "_view_module_version": "1.2.0",
            "_model_module": "@jupyter-widgets/controls"
          }
        },
        "99022500bfab4682ba2ae29493c58dec": {
          "model_module": "@jupyter-widgets/base",
          "model_name": "LayoutModel",
          "model_module_version": "1.2.0",
          "state": {
            "_view_name": "LayoutView",
            "grid_template_rows": null,
            "right": null,
            "justify_content": null,
            "_view_module": "@jupyter-widgets/base",
            "overflow": null,
            "_model_module_version": "1.2.0",
            "_view_count": null,
            "flex_flow": null,
            "width": null,
            "min_width": null,
            "border": null,
            "align_items": null,
            "bottom": null,
            "_model_module": "@jupyter-widgets/base",
            "top": null,
            "grid_column": null,
            "overflow_y": null,
            "overflow_x": null,
            "grid_auto_flow": null,
            "grid_area": null,
            "grid_template_columns": null,
            "flex": null,
            "_model_name": "LayoutModel",
            "justify_items": null,
            "grid_row": null,
            "max_height": null,
            "align_content": null,
            "visibility": null,
            "align_self": null,
            "height": null,
            "min_height": null,
            "padding": null,
            "grid_auto_rows": null,
            "grid_gap": null,
            "max_width": null,
            "order": null,
            "_view_module_version": "1.2.0",
            "grid_template_areas": null,
            "object_position": null,
            "object_fit": null,
            "grid_auto_columns": null,
            "margin": null,
            "display": null,
            "left": null
          }
        },
        "f5e2af430b934b049a30bf063bd4a82c": {
          "model_module": "@jupyter-widgets/controls",
          "model_name": "ProgressStyleModel",
          "model_module_version": "1.5.0",
          "state": {
            "_view_name": "StyleView",
            "_model_name": "ProgressStyleModel",
            "description_width": "",
            "_view_module": "@jupyter-widgets/base",
            "_model_module_version": "1.5.0",
            "_view_count": null,
            "_view_module_version": "1.2.0",
            "bar_color": null,
            "_model_module": "@jupyter-widgets/controls"
          }
        },
        "13e13f9bc2934fd7bfb5e4157c243821": {
          "model_module": "@jupyter-widgets/base",
          "model_name": "LayoutModel",
          "model_module_version": "1.2.0",
          "state": {
            "_view_name": "LayoutView",
            "grid_template_rows": null,
            "right": null,
            "justify_content": null,
            "_view_module": "@jupyter-widgets/base",
            "overflow": null,
            "_model_module_version": "1.2.0",
            "_view_count": null,
            "flex_flow": null,
            "width": null,
            "min_width": null,
            "border": null,
            "align_items": null,
            "bottom": null,
            "_model_module": "@jupyter-widgets/base",
            "top": null,
            "grid_column": null,
            "overflow_y": null,
            "overflow_x": null,
            "grid_auto_flow": null,
            "grid_area": null,
            "grid_template_columns": null,
            "flex": null,
            "_model_name": "LayoutModel",
            "justify_items": null,
            "grid_row": null,
            "max_height": null,
            "align_content": null,
            "visibility": null,
            "align_self": null,
            "height": null,
            "min_height": null,
            "padding": null,
            "grid_auto_rows": null,
            "grid_gap": null,
            "max_width": null,
            "order": null,
            "_view_module_version": "1.2.0",
            "grid_template_areas": null,
            "object_position": null,
            "object_fit": null,
            "grid_auto_columns": null,
            "margin": null,
            "display": null,
            "left": null
          }
        },
        "7aa68940ac63443ebfaa84b4a5f2bd32": {
          "model_module": "@jupyter-widgets/controls",
          "model_name": "DescriptionStyleModel",
          "model_module_version": "1.5.0",
          "state": {
            "_view_name": "StyleView",
            "_model_name": "DescriptionStyleModel",
            "description_width": "",
            "_view_module": "@jupyter-widgets/base",
            "_model_module_version": "1.5.0",
            "_view_count": null,
            "_view_module_version": "1.2.0",
            "_model_module": "@jupyter-widgets/controls"
          }
        },
        "778e0b25b1a14fdaa45ea77fcc092a49": {
          "model_module": "@jupyter-widgets/base",
          "model_name": "LayoutModel",
          "model_module_version": "1.2.0",
          "state": {
            "_view_name": "LayoutView",
            "grid_template_rows": null,
            "right": null,
            "justify_content": null,
            "_view_module": "@jupyter-widgets/base",
            "overflow": null,
            "_model_module_version": "1.2.0",
            "_view_count": null,
            "flex_flow": null,
            "width": null,
            "min_width": null,
            "border": null,
            "align_items": null,
            "bottom": null,
            "_model_module": "@jupyter-widgets/base",
            "top": null,
            "grid_column": null,
            "overflow_y": null,
            "overflow_x": null,
            "grid_auto_flow": null,
            "grid_area": null,
            "grid_template_columns": null,
            "flex": null,
            "_model_name": "LayoutModel",
            "justify_items": null,
            "grid_row": null,
            "max_height": null,
            "align_content": null,
            "visibility": null,
            "align_self": null,
            "height": null,
            "min_height": null,
            "padding": null,
            "grid_auto_rows": null,
            "grid_gap": null,
            "max_width": null,
            "order": null,
            "_view_module_version": "1.2.0",
            "grid_template_areas": null,
            "object_position": null,
            "object_fit": null,
            "grid_auto_columns": null,
            "margin": null,
            "display": null,
            "left": null
          }
        }
      }
    },
    "accelerator": "GPU"
  },
  "cells": [
    {
      "cell_type": "markdown",
      "metadata": {
        "id": "5fbCls1d2yBs"
      },
      "source": [
        "# Emotion Recognition in Greek Speech Using Wav2Vec 2.0"
      ]
    },
    {
      "cell_type": "markdown",
      "metadata": {
        "id": "sp37lZOV2042"
      },
      "source": [
        "**Wav2Vec 2.0** is a pretrained model for Automatic Speech Recognition (ASR) and was released in [September 2020](https://ai.facebook.com/blog/wav2vec-20-learning-the-structure-of-speech-from-raw-audio/) by Alexei Baevski, Michael Auli, and Alex Conneau.  Soon after the superior performance of Wav2Vec2 was demonstrated on the English ASR dataset LibriSpeech, *Facebook AI* presented XLSR-Wav2Vec2 (click [here](https://arxiv.org/abs/2006.13979)). XLSR stands for *cross-lingual  speech representations* and refers to XLSR-Wav2Vec2`s ability to learn speech representations that are useful across multiple languages.\n",
        "\n",
        "Similar to Wav2Vec2, XLSR-Wav2Vec2 learns powerful speech representations from hundreds of thousands of hours of speech in more than 50 languages of unlabeled speech. Similar, to [BERT's masked language modeling](http://jalammar.github.io/illustrated-bert/), the model learns contextualized speech representations by randomly masking feature vectors before passing them to a transformer network.\n",
        "\n",
        "![wav2vec2_structure](https://raw.githubusercontent.com/patrickvonplaten/scientific_images/master/xlsr_wav2vec2.png)\n",
        "\n",
        "The authors show for the first time that massively pretraining an ASR model on cross-lingual unlabeled speech data, followed by language-specific fine-tuning on very little labeled data achieves state-of-the-art results. See Table 1-5 of the official [paper](https://arxiv.org/pdf/2006.13979.pdf)."
      ]
    },
    {
      "cell_type": "markdown",
      "metadata": {
        "id": "y0xJwDkA3QQR"
      },
      "source": [
        "During fine-tuning week hosted by HuggingFace, more than 300 people participated in tuning XLSR-Wav2Vec2's pretrained on low-resources ASR dataset for more than 50 languages. This model is fine-tuned using [Connectionist Temporal Classification](https://distill.pub/2017/ctc/) (CTC), an algorithm used to train neural networks for sequence-to-sequence problems and mainly in Automatic Speech Recognition and handwriting recognition. Follow this [notebook](https://colab.research.google.com/github/patrickvonplaten/notebooks/blob/master/Fine_Tune_XLSR_Wav2Vec2_on_Turkish_ASR_with_%F0%9F%A4%97_Transformers.ipynb#scrollTo=Gx9OdDYrCtQ1) for more information about XLSR-Wav2Vec2 fine-tuning.\n",
        "\n",
        "This model was shown significant results in many low-resources languages. You can see the [competition board](https://paperswithcode.com/dataset/common-voice) or even testing the models from the [HuggingFace hub](https://huggingface.co/models?filter=xlsr-fine-tuning-week). \n",
        "\n",
        "\n",
        "In this notebook, we will go through how to use this model to recognize the emotional aspects of speech in a language (or even as a general view using for every classification problem). Before going any further, we need to install some handy packages and define some enviroment values."
      ]
    },
    {
      "cell_type": "code",
      "metadata": {
        "id": "TYsw43ULuXC_"
      },
      "source": [
        "# %%capture\n",
        "\n",
        "# !pip install git+https://github.com/huggingface/datasets.git\n",
        "# !pip install git+https://github.com/huggingface/transformers.git\n",
        "# !pip install jiwer\n",
        "# !pip install torchaudio\n",
        "# !pip install librosa\n",
        "\n",
        "# Monitor the training process\n",
        "# !pip install wandb"
      ],
      "execution_count": null,
      "outputs": []
    },
    {
      "cell_type": "code",
      "metadata": {
        "colab": {
          "base_uri": "https://localhost:8080/"
        },
        "id": "cp4-LTa2uphv",
        "outputId": "8fd2a1bb-5043-49a4-9d92-8f0c7ca1a019"
      },
      "source": [
        "%env LC_ALL=C.UTF-8\n",
        "%env LANG=C.UTF-8\n",
        "%env TRANSFORMERS_CACHE=/content/cache\n",
        "%env HF_DATASETS_CACHE=/content/cache\n",
        "%env CUDA_LAUNCH_BLOCKING=1"
      ],
      "execution_count": 1,
      "outputs": [
        {
          "output_type": "stream",
          "name": "stdout",
          "text": [
            "env: LC_ALL=C.UTF-8\n",
            "env: LANG=C.UTF-8\n",
            "env: TRANSFORMERS_CACHE=/content/cache\n",
            "env: HF_DATASETS_CACHE=/content/cache\n",
            "env: CUDA_LAUNCH_BLOCKING=1\n"
          ]
        }
      ]
    },
    {
      "cell_type": "code",
      "metadata": {
        "id": "A0B06FRmusKF"
      },
      "source": [
        "# # Uncomment this part if you want to setup your wandb project\n",
        "\n",
        "# %env WANDB_WATCH=all\n",
        "# %env WANDB_LOG_MODEL=1\n",
        "# %env WANDB_PROJECT=YOUR_PROJECT_NAME\n",
        "# !wandb login YOUR_API_KEY --relogin"
      ],
      "execution_count": null,
      "outputs": []
    },
    {
      "cell_type": "markdown",
      "metadata": {
        "id": "krC50MmmvBWJ"
      },
      "source": [
        "## Prepare Data\n",
        "\n",
        "For this particular example, we use [Acted Emotional Speech Dynamic Database – AESDD](http://m3c.web.auth.gr/research/aesdd-speech-emotion-recognition/) provided by Multidisciplinary Media & Mediated Communication Research Group ([M3C](http://m3c.web.auth.gr/)). \n",
        "\n",
        "The Acted Emotional Speech Dynamic Database (AESDD) is a publically available speech emotion recognition dataset that contains utterances of acted emotional speech in the Greek language for five different emotions `sadness`, `disgust`, `happiness`, `anger`, and `fear`.\n",
        "\n",
        "The dataset consists of directories of emotions; each folder includes specific emotions. We need to loop over directories and save the paths related to each class based on the directory name.\n",
        "\n",
        "```bash\n",
        ".\n",
        "├── Tools\\ and\\ Documentation\n",
        "│   ├── ESTrainer.mlapp\n",
        "│   ├── Speech\\ Emotion\\ Recognition\\ Adapted\\ to\\ Multimodal\\ Semantic\\ Repositories_documentation.pdf\n",
        "│   ├── Speech\\ Emotion\\ Recognition\\ for\\ Performance\\ Interaction.pdf\n",
        "│   └── readme.txt\n",
        "├── anger\n",
        "│   ├── a01\\ (1).wav\n",
        "│   ├── a01\\ (2).wav\n",
        "│   ├── ...\n",
        "├── disgust\n",
        "│   ├── d01\\ (1).wav\n",
        "│   ├── d01\\ (2).wav\n",
        "│   ├── ...\n",
        "├── fear\n",
        "│   ├── f01\\ (1).wav\n",
        "│   ├── f01\\ (2).wav\n",
        "│   ├── ...\n",
        "├── happiness\n",
        "│   ├── h01\\ (1).wav\n",
        "│   ├── h01\\ (2).wav\n",
        "│   ├── ...\n",
        "└── sadness\n",
        "    ├── s01\\ (1).wav\n",
        "    ├── s01\\ (2).wav\n",
        "    ├── ...\n",
        "\n",
        "6 directories, 609 files\n",
        "```"
      ]
    },
    {
      "cell_type": "markdown",
      "metadata": {
        "id": "4UVGPPOVCl-Y"
      },
      "source": [
        "Since the dataset is hosted on [Mega](https://mega.nz/#F!0ShVXY7C!-73kVoK05OjTPEA95UUvMw) and unable to access it directly, we upload the dataset on the G-drive to make this tutorial accessible."
      ]
    },
    {
      "cell_type": "code",
      "metadata": {
        "id": "nEKDAy2bCGFM"
      },
      "source": [
        "# # Download the dataset from \n",
        "\n",
        "# !mkdir -p /content/data\n",
        "# !gdown https://drive.google.com/uc?id=1_IAWexEWpH-ly_JaA5EGfZDp-_3flkN1\n",
        "# !unzip -q aesdd.zip -d /content/data/\n",
        "# !mv \"/content/data/Acted Emotional Speech Dynamic Database/\" /content/data/aesdd/"
      ],
      "execution_count": 2,
      "outputs": []
    },
    {
      "cell_type": "code",
      "metadata": {
        "id": "pFSqZ0jwCMSv"
      },
      "source": [
        "import numpy as np\n",
        "import pandas as pd\n",
        "\n",
        "from pathlib import Path\n",
        "from tqdm import tqdm\n",
        "\n",
        "import torchaudio\n",
        "from sklearn.model_selection import train_test_split\n",
        "\n",
        "import os\n",
        "import sys"
      ],
      "execution_count": 3,
      "outputs": []
    },
    {
      "cell_type": "code",
      "source": [
        "from google.colab import drive\n",
        "import sys\n",
        "\n",
        "# Mount Google Drive\n",
        "drive.mount('/content/drive')"
      ],
      "metadata": {
        "colab": {
          "base_uri": "https://localhost:8080/"
        },
        "id": "okfcehiyxSfT",
        "outputId": "de3dcee6-801e-475b-9cec-46163057c5ea"
      },
      "execution_count": 4,
      "outputs": [
        {
          "output_type": "stream",
          "name": "stdout",
          "text": [
            "Mounted at /content/drive\n"
          ]
        }
      ]
    },
    {
      "cell_type": "code",
      "metadata": {
        "colab": {
          "base_uri": "https://localhost:8080/"
        },
        "id": "7MXAESg_Dqr6",
        "outputId": "a35a2322-8179-4880-87b6-aa6657326e6e"
      },
      "source": [
        "# data = []\n",
        "\n",
        "# for path in tqdm(Path(\"/content/data/aesdd\").glob(\"**/*.wav\")):\n",
        "#     name = str(path).split('/')[-1].split('.')[0]\n",
        "#     label = str(path).split('/')[-2]\n",
        "    \n",
        "#     try:\n",
        "#         # There are some broken files\n",
        "#         s = torchaudio.load(path)\n",
        "#         data.append({\n",
        "#             \"name\": name,\n",
        "#             \"path\": path,\n",
        "#             \"emotion\": label\n",
        "#         })\n",
        "#     except Exception as e:\n",
        "#         # print(str(path), e)\n",
        "#         pass\n",
        "\n",
        "#     # break"
      ],
      "execution_count": null,
      "outputs": [
        {
          "output_type": "stream",
          "name": "stderr",
          "text": [
            "0it [00:00, ?it/s]\n"
          ]
        }
      ]
    },
    {
      "cell_type": "code",
      "source": [
        "csv_path = '/content/drive/My Drive/Speech Detection Data/CREMA-D-master/'\n",
        "df = pd.read_csv(csv_path + 'CREMA.csv', index_col = 0)\n",
        "df = df[['File Name', 'path', 'Sex']]\n",
        "df.head()"
      ],
      "metadata": {
        "colab": {
          "base_uri": "https://localhost:8080/",
          "height": 206
        },
        "id": "sJgnmDgpxjSZ",
        "outputId": "468526e9-74ad-441b-c92e-d453aa5d6b82"
      },
      "execution_count": 5,
      "outputs": [
        {
          "output_type": "execute_result",
          "data": {
            "text/html": [
              "\n",
              "  <div id=\"df-e22c858e-fd6e-4c9e-ae4f-6197a51973c0\">\n",
              "    <div class=\"colab-df-container\">\n",
              "      <div>\n",
              "<style scoped>\n",
              "    .dataframe tbody tr th:only-of-type {\n",
              "        vertical-align: middle;\n",
              "    }\n",
              "\n",
              "    .dataframe tbody tr th {\n",
              "        vertical-align: top;\n",
              "    }\n",
              "\n",
              "    .dataframe thead th {\n",
              "        text-align: right;\n",
              "    }\n",
              "</style>\n",
              "<table border=\"1\" class=\"dataframe\">\n",
              "  <thead>\n",
              "    <tr style=\"text-align: right;\">\n",
              "      <th></th>\n",
              "      <th>File Name</th>\n",
              "      <th>path</th>\n",
              "      <th>Sex</th>\n",
              "    </tr>\n",
              "  </thead>\n",
              "  <tbody>\n",
              "    <tr>\n",
              "      <th>0</th>\n",
              "      <td>1001_DFA_ANG_XX.wav</td>\n",
              "      <td>/content/drive/My Drive/Speech Detection Data/...</td>\n",
              "      <td>Male</td>\n",
              "    </tr>\n",
              "    <tr>\n",
              "      <th>1</th>\n",
              "      <td>1001_DFA_DIS_XX.wav</td>\n",
              "      <td>/content/drive/My Drive/Speech Detection Data/...</td>\n",
              "      <td>Male</td>\n",
              "    </tr>\n",
              "    <tr>\n",
              "      <th>2</th>\n",
              "      <td>1001_DFA_FEA_XX.wav</td>\n",
              "      <td>/content/drive/My Drive/Speech Detection Data/...</td>\n",
              "      <td>Male</td>\n",
              "    </tr>\n",
              "    <tr>\n",
              "      <th>3</th>\n",
              "      <td>1001_DFA_HAP_XX.wav</td>\n",
              "      <td>/content/drive/My Drive/Speech Detection Data/...</td>\n",
              "      <td>Male</td>\n",
              "    </tr>\n",
              "    <tr>\n",
              "      <th>4</th>\n",
              "      <td>1001_DFA_NEU_XX.wav</td>\n",
              "      <td>/content/drive/My Drive/Speech Detection Data/...</td>\n",
              "      <td>Male</td>\n",
              "    </tr>\n",
              "  </tbody>\n",
              "</table>\n",
              "</div>\n",
              "      <button class=\"colab-df-convert\" onclick=\"convertToInteractive('df-e22c858e-fd6e-4c9e-ae4f-6197a51973c0')\"\n",
              "              title=\"Convert this dataframe to an interactive table.\"\n",
              "              style=\"display:none;\">\n",
              "        \n",
              "  <svg xmlns=\"http://www.w3.org/2000/svg\" height=\"24px\"viewBox=\"0 0 24 24\"\n",
              "       width=\"24px\">\n",
              "    <path d=\"M0 0h24v24H0V0z\" fill=\"none\"/>\n",
              "    <path d=\"M18.56 5.44l.94 2.06.94-2.06 2.06-.94-2.06-.94-.94-2.06-.94 2.06-2.06.94zm-11 1L8.5 8.5l.94-2.06 2.06-.94-2.06-.94L8.5 2.5l-.94 2.06-2.06.94zm10 10l.94 2.06.94-2.06 2.06-.94-2.06-.94-.94-2.06-.94 2.06-2.06.94z\"/><path d=\"M17.41 7.96l-1.37-1.37c-.4-.4-.92-.59-1.43-.59-.52 0-1.04.2-1.43.59L10.3 9.45l-7.72 7.72c-.78.78-.78 2.05 0 2.83L4 21.41c.39.39.9.59 1.41.59.51 0 1.02-.2 1.41-.59l7.78-7.78 2.81-2.81c.8-.78.8-2.07 0-2.86zM5.41 20L4 18.59l7.72-7.72 1.47 1.35L5.41 20z\"/>\n",
              "  </svg>\n",
              "      </button>\n",
              "      \n",
              "  <style>\n",
              "    .colab-df-container {\n",
              "      display:flex;\n",
              "      flex-wrap:wrap;\n",
              "      gap: 12px;\n",
              "    }\n",
              "\n",
              "    .colab-df-convert {\n",
              "      background-color: #E8F0FE;\n",
              "      border: none;\n",
              "      border-radius: 50%;\n",
              "      cursor: pointer;\n",
              "      display: none;\n",
              "      fill: #1967D2;\n",
              "      height: 32px;\n",
              "      padding: 0 0 0 0;\n",
              "      width: 32px;\n",
              "    }\n",
              "\n",
              "    .colab-df-convert:hover {\n",
              "      background-color: #E2EBFA;\n",
              "      box-shadow: 0px 1px 2px rgba(60, 64, 67, 0.3), 0px 1px 3px 1px rgba(60, 64, 67, 0.15);\n",
              "      fill: #174EA6;\n",
              "    }\n",
              "\n",
              "    [theme=dark] .colab-df-convert {\n",
              "      background-color: #3B4455;\n",
              "      fill: #D2E3FC;\n",
              "    }\n",
              "\n",
              "    [theme=dark] .colab-df-convert:hover {\n",
              "      background-color: #434B5C;\n",
              "      box-shadow: 0px 1px 3px 1px rgba(0, 0, 0, 0.15);\n",
              "      filter: drop-shadow(0px 1px 2px rgba(0, 0, 0, 0.3));\n",
              "      fill: #FFFFFF;\n",
              "    }\n",
              "  </style>\n",
              "\n",
              "      <script>\n",
              "        const buttonEl =\n",
              "          document.querySelector('#df-e22c858e-fd6e-4c9e-ae4f-6197a51973c0 button.colab-df-convert');\n",
              "        buttonEl.style.display =\n",
              "          google.colab.kernel.accessAllowed ? 'block' : 'none';\n",
              "\n",
              "        async function convertToInteractive(key) {\n",
              "          const element = document.querySelector('#df-e22c858e-fd6e-4c9e-ae4f-6197a51973c0');\n",
              "          const dataTable =\n",
              "            await google.colab.kernel.invokeFunction('convertToInteractive',\n",
              "                                                     [key], {});\n",
              "          if (!dataTable) return;\n",
              "\n",
              "          const docLinkHtml = 'Like what you see? Visit the ' +\n",
              "            '<a target=\"_blank\" href=https://colab.research.google.com/notebooks/data_table.ipynb>data table notebook</a>'\n",
              "            + ' to learn more about interactive tables.';\n",
              "          element.innerHTML = '';\n",
              "          dataTable['output_type'] = 'display_data';\n",
              "          await google.colab.output.renderOutput(dataTable, element);\n",
              "          const docLink = document.createElement('div');\n",
              "          docLink.innerHTML = docLinkHtml;\n",
              "          element.appendChild(docLink);\n",
              "        }\n",
              "      </script>\n",
              "    </div>\n",
              "  </div>\n",
              "  "
            ],
            "text/plain": [
              "             File Name                                               path   Sex\n",
              "0  1001_DFA_ANG_XX.wav  /content/drive/My Drive/Speech Detection Data/...  Male\n",
              "1  1001_DFA_DIS_XX.wav  /content/drive/My Drive/Speech Detection Data/...  Male\n",
              "2  1001_DFA_FEA_XX.wav  /content/drive/My Drive/Speech Detection Data/...  Male\n",
              "3  1001_DFA_HAP_XX.wav  /content/drive/My Drive/Speech Detection Data/...  Male\n",
              "4  1001_DFA_NEU_XX.wav  /content/drive/My Drive/Speech Detection Data/...  Male"
            ]
          },
          "metadata": {},
          "execution_count": 5
        }
      ]
    },
    {
      "cell_type": "code",
      "source": [
        "df = df[:2000]\n",
        "len(df)"
      ],
      "metadata": {
        "colab": {
          "base_uri": "https://localhost:8080/"
        },
        "id": "OWHmNzE9juTc",
        "outputId": "14dc14d7-e2e2-413d-e41b-4f319e2a8e20"
      },
      "execution_count": 6,
      "outputs": [
        {
          "output_type": "execute_result",
          "data": {
            "text/plain": [
              "2000"
            ]
          },
          "metadata": {},
          "execution_count": 6
        }
      ]
    },
    {
      "cell_type": "code",
      "metadata": {
        "id": "iMhTHur8voOp",
        "colab": {
          "base_uri": "https://localhost:8080/",
          "height": 296
        },
        "outputId": "525b31f9-fec6-4902-debc-898f6fd9e8e8"
      },
      "source": [
        "# Filter broken and non-existed paths\n",
        "\n",
        "print(f\"Step 0: {len(df)}\")\n",
        "\n",
        "df[\"status\"] = df[\"path\"].apply(lambda path: True if os.path.exists(path) else None)\n",
        "df = df.dropna(subset=[\"path\"])\n",
        "df = df.drop(\"status\", 1)\n",
        "print(f\"Step 1: {len(df)}\")\n",
        "\n",
        "df = df.sample(frac=1)\n",
        "df = df.reset_index(drop=True)\n",
        "df.head()"
      ],
      "execution_count": 7,
      "outputs": [
        {
          "output_type": "stream",
          "name": "stdout",
          "text": [
            "Step 0: 2000\n",
            "Step 1: 2000\n"
          ]
        },
        {
          "output_type": "stream",
          "name": "stderr",
          "text": [
            "/usr/local/lib/python3.7/dist-packages/ipykernel_launcher.py:7: FutureWarning: In a future version of pandas all arguments of DataFrame.drop except for the argument 'labels' will be keyword-only\n",
            "  import sys\n"
          ]
        },
        {
          "output_type": "execute_result",
          "data": {
            "text/html": [
              "\n",
              "  <div id=\"df-30ba5c62-3bdb-40f1-a0ce-0f69e8ee1966\">\n",
              "    <div class=\"colab-df-container\">\n",
              "      <div>\n",
              "<style scoped>\n",
              "    .dataframe tbody tr th:only-of-type {\n",
              "        vertical-align: middle;\n",
              "    }\n",
              "\n",
              "    .dataframe tbody tr th {\n",
              "        vertical-align: top;\n",
              "    }\n",
              "\n",
              "    .dataframe thead th {\n",
              "        text-align: right;\n",
              "    }\n",
              "</style>\n",
              "<table border=\"1\" class=\"dataframe\">\n",
              "  <thead>\n",
              "    <tr style=\"text-align: right;\">\n",
              "      <th></th>\n",
              "      <th>File Name</th>\n",
              "      <th>path</th>\n",
              "      <th>Sex</th>\n",
              "    </tr>\n",
              "  </thead>\n",
              "  <tbody>\n",
              "    <tr>\n",
              "      <th>0</th>\n",
              "      <td>1019_IWW_ANG_XX.wav</td>\n",
              "      <td>/content/drive/My Drive/Speech Detection Data/...</td>\n",
              "      <td>Male</td>\n",
              "    </tr>\n",
              "    <tr>\n",
              "      <th>1</th>\n",
              "      <td>1022_MTI_FEA_XX.wav</td>\n",
              "      <td>/content/drive/My Drive/Speech Detection Data/...</td>\n",
              "      <td>Male</td>\n",
              "    </tr>\n",
              "    <tr>\n",
              "      <th>2</th>\n",
              "      <td>1019_IEO_SAD_LO.wav</td>\n",
              "      <td>/content/drive/My Drive/Speech Detection Data/...</td>\n",
              "      <td>Male</td>\n",
              "    </tr>\n",
              "    <tr>\n",
              "      <th>3</th>\n",
              "      <td>1022_TIE_SAD_XX.wav</td>\n",
              "      <td>/content/drive/My Drive/Speech Detection Data/...</td>\n",
              "      <td>Male</td>\n",
              "    </tr>\n",
              "    <tr>\n",
              "      <th>4</th>\n",
              "      <td>1002_TAI_DIS_XX.wav</td>\n",
              "      <td>/content/drive/My Drive/Speech Detection Data/...</td>\n",
              "      <td>Female</td>\n",
              "    </tr>\n",
              "  </tbody>\n",
              "</table>\n",
              "</div>\n",
              "      <button class=\"colab-df-convert\" onclick=\"convertToInteractive('df-30ba5c62-3bdb-40f1-a0ce-0f69e8ee1966')\"\n",
              "              title=\"Convert this dataframe to an interactive table.\"\n",
              "              style=\"display:none;\">\n",
              "        \n",
              "  <svg xmlns=\"http://www.w3.org/2000/svg\" height=\"24px\"viewBox=\"0 0 24 24\"\n",
              "       width=\"24px\">\n",
              "    <path d=\"M0 0h24v24H0V0z\" fill=\"none\"/>\n",
              "    <path d=\"M18.56 5.44l.94 2.06.94-2.06 2.06-.94-2.06-.94-.94-2.06-.94 2.06-2.06.94zm-11 1L8.5 8.5l.94-2.06 2.06-.94-2.06-.94L8.5 2.5l-.94 2.06-2.06.94zm10 10l.94 2.06.94-2.06 2.06-.94-2.06-.94-.94-2.06-.94 2.06-2.06.94z\"/><path d=\"M17.41 7.96l-1.37-1.37c-.4-.4-.92-.59-1.43-.59-.52 0-1.04.2-1.43.59L10.3 9.45l-7.72 7.72c-.78.78-.78 2.05 0 2.83L4 21.41c.39.39.9.59 1.41.59.51 0 1.02-.2 1.41-.59l7.78-7.78 2.81-2.81c.8-.78.8-2.07 0-2.86zM5.41 20L4 18.59l7.72-7.72 1.47 1.35L5.41 20z\"/>\n",
              "  </svg>\n",
              "      </button>\n",
              "      \n",
              "  <style>\n",
              "    .colab-df-container {\n",
              "      display:flex;\n",
              "      flex-wrap:wrap;\n",
              "      gap: 12px;\n",
              "    }\n",
              "\n",
              "    .colab-df-convert {\n",
              "      background-color: #E8F0FE;\n",
              "      border: none;\n",
              "      border-radius: 50%;\n",
              "      cursor: pointer;\n",
              "      display: none;\n",
              "      fill: #1967D2;\n",
              "      height: 32px;\n",
              "      padding: 0 0 0 0;\n",
              "      width: 32px;\n",
              "    }\n",
              "\n",
              "    .colab-df-convert:hover {\n",
              "      background-color: #E2EBFA;\n",
              "      box-shadow: 0px 1px 2px rgba(60, 64, 67, 0.3), 0px 1px 3px 1px rgba(60, 64, 67, 0.15);\n",
              "      fill: #174EA6;\n",
              "    }\n",
              "\n",
              "    [theme=dark] .colab-df-convert {\n",
              "      background-color: #3B4455;\n",
              "      fill: #D2E3FC;\n",
              "    }\n",
              "\n",
              "    [theme=dark] .colab-df-convert:hover {\n",
              "      background-color: #434B5C;\n",
              "      box-shadow: 0px 1px 3px 1px rgba(0, 0, 0, 0.15);\n",
              "      filter: drop-shadow(0px 1px 2px rgba(0, 0, 0, 0.3));\n",
              "      fill: #FFFFFF;\n",
              "    }\n",
              "  </style>\n",
              "\n",
              "      <script>\n",
              "        const buttonEl =\n",
              "          document.querySelector('#df-30ba5c62-3bdb-40f1-a0ce-0f69e8ee1966 button.colab-df-convert');\n",
              "        buttonEl.style.display =\n",
              "          google.colab.kernel.accessAllowed ? 'block' : 'none';\n",
              "\n",
              "        async function convertToInteractive(key) {\n",
              "          const element = document.querySelector('#df-30ba5c62-3bdb-40f1-a0ce-0f69e8ee1966');\n",
              "          const dataTable =\n",
              "            await google.colab.kernel.invokeFunction('convertToInteractive',\n",
              "                                                     [key], {});\n",
              "          if (!dataTable) return;\n",
              "\n",
              "          const docLinkHtml = 'Like what you see? Visit the ' +\n",
              "            '<a target=\"_blank\" href=https://colab.research.google.com/notebooks/data_table.ipynb>data table notebook</a>'\n",
              "            + ' to learn more about interactive tables.';\n",
              "          element.innerHTML = '';\n",
              "          dataTable['output_type'] = 'display_data';\n",
              "          await google.colab.output.renderOutput(dataTable, element);\n",
              "          const docLink = document.createElement('div');\n",
              "          docLink.innerHTML = docLinkHtml;\n",
              "          element.appendChild(docLink);\n",
              "        }\n",
              "      </script>\n",
              "    </div>\n",
              "  </div>\n",
              "  "
            ],
            "text/plain": [
              "             File Name  ...     Sex\n",
              "0  1019_IWW_ANG_XX.wav  ...    Male\n",
              "1  1022_MTI_FEA_XX.wav  ...    Male\n",
              "2  1019_IEO_SAD_LO.wav  ...    Male\n",
              "3  1022_TIE_SAD_XX.wav  ...    Male\n",
              "4  1002_TAI_DIS_XX.wav  ...  Female\n",
              "\n",
              "[5 rows x 3 columns]"
            ]
          },
          "metadata": {},
          "execution_count": 7
        }
      ]
    },
    {
      "cell_type": "markdown",
      "metadata": {
        "id": "TWku4ra3Bp52"
      },
      "source": [
        "Let's explore how many labels (emotions) are in the dataset with what distribution."
      ]
    },
    {
      "cell_type": "code",
      "metadata": {
        "id": "beNpKMh5xXmX",
        "colab": {
          "base_uri": "https://localhost:8080/",
          "height": 178
        },
        "outputId": "c3e797b7-0fbd-4cf1-e9ed-5adacd1ddf37"
      },
      "source": [
        "print(\"Labels: \", df[\"Sex\"].unique())\n",
        "print()\n",
        "df.groupby(\"Sex\").count()[[\"path\"]]"
      ],
      "execution_count": 8,
      "outputs": [
        {
          "output_type": "stream",
          "name": "stdout",
          "text": [
            "Labels:  ['Male' 'Female']\n",
            "\n"
          ]
        },
        {
          "output_type": "execute_result",
          "data": {
            "text/html": [
              "\n",
              "  <div id=\"df-42361c25-78a3-4362-8983-95cf127126d4\">\n",
              "    <div class=\"colab-df-container\">\n",
              "      <div>\n",
              "<style scoped>\n",
              "    .dataframe tbody tr th:only-of-type {\n",
              "        vertical-align: middle;\n",
              "    }\n",
              "\n",
              "    .dataframe tbody tr th {\n",
              "        vertical-align: top;\n",
              "    }\n",
              "\n",
              "    .dataframe thead th {\n",
              "        text-align: right;\n",
              "    }\n",
              "</style>\n",
              "<table border=\"1\" class=\"dataframe\">\n",
              "  <thead>\n",
              "    <tr style=\"text-align: right;\">\n",
              "      <th></th>\n",
              "      <th>path</th>\n",
              "    </tr>\n",
              "    <tr>\n",
              "      <th>Sex</th>\n",
              "      <th></th>\n",
              "    </tr>\n",
              "  </thead>\n",
              "  <tbody>\n",
              "    <tr>\n",
              "      <th>Female</th>\n",
              "      <td>1186</td>\n",
              "    </tr>\n",
              "    <tr>\n",
              "      <th>Male</th>\n",
              "      <td>814</td>\n",
              "    </tr>\n",
              "  </tbody>\n",
              "</table>\n",
              "</div>\n",
              "      <button class=\"colab-df-convert\" onclick=\"convertToInteractive('df-42361c25-78a3-4362-8983-95cf127126d4')\"\n",
              "              title=\"Convert this dataframe to an interactive table.\"\n",
              "              style=\"display:none;\">\n",
              "        \n",
              "  <svg xmlns=\"http://www.w3.org/2000/svg\" height=\"24px\"viewBox=\"0 0 24 24\"\n",
              "       width=\"24px\">\n",
              "    <path d=\"M0 0h24v24H0V0z\" fill=\"none\"/>\n",
              "    <path d=\"M18.56 5.44l.94 2.06.94-2.06 2.06-.94-2.06-.94-.94-2.06-.94 2.06-2.06.94zm-11 1L8.5 8.5l.94-2.06 2.06-.94-2.06-.94L8.5 2.5l-.94 2.06-2.06.94zm10 10l.94 2.06.94-2.06 2.06-.94-2.06-.94-.94-2.06-.94 2.06-2.06.94z\"/><path d=\"M17.41 7.96l-1.37-1.37c-.4-.4-.92-.59-1.43-.59-.52 0-1.04.2-1.43.59L10.3 9.45l-7.72 7.72c-.78.78-.78 2.05 0 2.83L4 21.41c.39.39.9.59 1.41.59.51 0 1.02-.2 1.41-.59l7.78-7.78 2.81-2.81c.8-.78.8-2.07 0-2.86zM5.41 20L4 18.59l7.72-7.72 1.47 1.35L5.41 20z\"/>\n",
              "  </svg>\n",
              "      </button>\n",
              "      \n",
              "  <style>\n",
              "    .colab-df-container {\n",
              "      display:flex;\n",
              "      flex-wrap:wrap;\n",
              "      gap: 12px;\n",
              "    }\n",
              "\n",
              "    .colab-df-convert {\n",
              "      background-color: #E8F0FE;\n",
              "      border: none;\n",
              "      border-radius: 50%;\n",
              "      cursor: pointer;\n",
              "      display: none;\n",
              "      fill: #1967D2;\n",
              "      height: 32px;\n",
              "      padding: 0 0 0 0;\n",
              "      width: 32px;\n",
              "    }\n",
              "\n",
              "    .colab-df-convert:hover {\n",
              "      background-color: #E2EBFA;\n",
              "      box-shadow: 0px 1px 2px rgba(60, 64, 67, 0.3), 0px 1px 3px 1px rgba(60, 64, 67, 0.15);\n",
              "      fill: #174EA6;\n",
              "    }\n",
              "\n",
              "    [theme=dark] .colab-df-convert {\n",
              "      background-color: #3B4455;\n",
              "      fill: #D2E3FC;\n",
              "    }\n",
              "\n",
              "    [theme=dark] .colab-df-convert:hover {\n",
              "      background-color: #434B5C;\n",
              "      box-shadow: 0px 1px 3px 1px rgba(0, 0, 0, 0.15);\n",
              "      filter: drop-shadow(0px 1px 2px rgba(0, 0, 0, 0.3));\n",
              "      fill: #FFFFFF;\n",
              "    }\n",
              "  </style>\n",
              "\n",
              "      <script>\n",
              "        const buttonEl =\n",
              "          document.querySelector('#df-42361c25-78a3-4362-8983-95cf127126d4 button.colab-df-convert');\n",
              "        buttonEl.style.display =\n",
              "          google.colab.kernel.accessAllowed ? 'block' : 'none';\n",
              "\n",
              "        async function convertToInteractive(key) {\n",
              "          const element = document.querySelector('#df-42361c25-78a3-4362-8983-95cf127126d4');\n",
              "          const dataTable =\n",
              "            await google.colab.kernel.invokeFunction('convertToInteractive',\n",
              "                                                     [key], {});\n",
              "          if (!dataTable) return;\n",
              "\n",
              "          const docLinkHtml = 'Like what you see? Visit the ' +\n",
              "            '<a target=\"_blank\" href=https://colab.research.google.com/notebooks/data_table.ipynb>data table notebook</a>'\n",
              "            + ' to learn more about interactive tables.';\n",
              "          element.innerHTML = '';\n",
              "          dataTable['output_type'] = 'display_data';\n",
              "          await google.colab.output.renderOutput(dataTable, element);\n",
              "          const docLink = document.createElement('div');\n",
              "          docLink.innerHTML = docLinkHtml;\n",
              "          element.appendChild(docLink);\n",
              "        }\n",
              "      </script>\n",
              "    </div>\n",
              "  </div>\n",
              "  "
            ],
            "text/plain": [
              "        path\n",
              "Sex         \n",
              "Female  1186\n",
              "Male     814"
            ]
          },
          "metadata": {},
          "execution_count": 8
        }
      ]
    },
    {
      "cell_type": "markdown",
      "metadata": {
        "id": "i2hwRai7BNrx"
      },
      "source": [
        "Let's display some random sample of the dataset and run it a couple of times to get a feeling for the audio and the emotional label."
      ]
    },
    {
      "cell_type": "code",
      "metadata": {
        "id": "DZaQ_sP5xkIX",
        "colab": {
          "base_uri": "https://localhost:8080/",
          "height": 127
        },
        "outputId": "7012036c-81f7-4410-e7a1-909d008858c8"
      },
      "source": [
        "import torchaudio\n",
        "import librosa\n",
        "import IPython.display as ipd\n",
        "import numpy as np\n",
        "\n",
        "idx = np.random.randint(0, len(df))\n",
        "sample = df.iloc[idx]\n",
        "path = sample[\"path\"]\n",
        "label = sample[\"Sex\"]\n",
        "\n",
        "\n",
        "print(f\"ID Location: {idx}\")\n",
        "print(f\"      Label: {label}\")\n",
        "print()\n",
        "\n",
        "speech, sr = torchaudio.load(path)\n",
        "speech = speech[0].numpy().squeeze()\n",
        "speech = librosa.resample(np.asarray(speech), sr, 16_000)\n",
        "ipd.Audio(data=np.asarray(speech), autoplay=True, rate=16000)"
      ],
      "execution_count": 9,
      "outputs": [
        {
          "output_type": "stream",
          "name": "stdout",
          "text": [
            "ID Location: 424\n",
            "      Label: Male\n",
            "\n"
          ]
        },
        {
          "output_type": "execute_result",
          "data": {
            "text/html": [
              "\n",
              "                <audio controls=\"controls\" autoplay=\"autoplay\">\n",
              "                    <source src=\"data:audio/wav;base64,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\" type=\"audio/wav\" />\n",
              "                    Your browser does not support the audio element.\n",
              "                </audio>\n",
              "              "
            ],
            "text/plain": [
              "<IPython.lib.display.Audio object>"
            ]
          },
          "metadata": {},
          "execution_count": 9
        }
      ]
    },
    {
      "cell_type": "markdown",
      "metadata": {
        "id": "7WNjWoWRCmPk"
      },
      "source": [
        "For training purposes, we need to split data into train test sets; in this specific example, we break with a `20%` rate for the test set."
      ]
    },
    {
      "cell_type": "code",
      "metadata": {
        "id": "mlim-044xtJN",
        "colab": {
          "base_uri": "https://localhost:8080/"
        },
        "outputId": "b4309060-606b-4611-d33c-4dbe1ccc1ba7"
      },
      "source": [
        "save_path = csv_path\n",
        "\n",
        "train_df, test_df = train_test_split(df, test_size=0.2, random_state=101, stratify=df[\"Sex\"])\n",
        "\n",
        "train_df = train_df.reset_index(drop=True)\n",
        "test_df = test_df.reset_index(drop=True)\n",
        "\n",
        "train_df.to_csv(f\"{save_path}/train.csv\", sep=\"\\t\", encoding=\"utf-8\", index=False)\n",
        "test_df.to_csv(f\"{save_path}/test.csv\", sep=\"\\t\", encoding=\"utf-8\", index=False)\n",
        "\n",
        "\n",
        "print(train_df.shape)\n",
        "print(test_df.shape)"
      ],
      "execution_count": 11,
      "outputs": [
        {
          "output_type": "stream",
          "name": "stdout",
          "text": [
            "(1600, 3)\n",
            "(400, 3)\n"
          ]
        }
      ]
    },
    {
      "cell_type": "markdown",
      "metadata": {
        "id": "kcnD-d_rDElt"
      },
      "source": [
        "## Prepare Data for Training"
      ]
    },
    {
      "cell_type": "code",
      "source": [
        "pip install datasets"
      ],
      "metadata": {
        "id": "sNeo0__QV2-7"
      },
      "execution_count": null,
      "outputs": []
    },
    {
      "cell_type": "code",
      "metadata": {
        "colab": {
          "base_uri": "https://localhost:8080/",
          "height": 324,
          "referenced_widgets": [
            "576f90f293b1406a8a865e61f0c738b4",
            "b9e0415a6a064c71a627c5fe14a42a55",
            "0795ebfe3c2f4e459d6d00f1c9a09509",
            "02c29d792b7d48a7bc0e3d4d9858da19",
            "3191c7e3e4e54ab5abb2b33e89de8a93",
            "ef7a133dab5743cc800227903806f8a8",
            "04a235e7c5684615ad4a595d622177a9",
            "4dd92b916fb845a8b48b53a51e16c407",
            "e55a3d6cd2b14069b75d7e088850c8cb",
            "835748feced54005a45f30dc7e6449d2",
            "5f04123e8da740a3b7783596bef3fa26",
            "251f20f3922846e4a4a835d471f050ea",
            "de6eb3bc090d48769d750f29395d6e94",
            "47b103533ba24f6286c81029ba22f03c",
            "188ce80ed7be469697b41a425c321607",
            "049e1157f6fd4492824a3eac0aa0f675",
            "7aa332b7020b4971a705ef0aa4d33fcc",
            "432db3b074514cc098bf9b98259500fa",
            "0cb9c55deb7c42d49c7693995bc07b6e",
            "45abf9912b164bd282ee64d076c5071b",
            "00bac3d40d414aee918ecf8c85b7f046",
            "5bc84460cb284128a388647071db9f9b",
            "d013a9e5ffb041f688974307e95fa272",
            "ee2e3cebe13a46d2a4e3602e9b6f4275",
            "1dd096f39df3462d8d1ddfbc7b23477c",
            "777daa4f12bc479c96194f92b70ea2d6",
            "87211a10118c4581a7278f600e4751fd",
            "81286740e0404cb481bd9e807ad01dea",
            "7429dbc4ae7a45849ee823a6bcd014ac",
            "1bb9734344be4d3eb75aa74e5cb9b9c1",
            "1e98c724aa98485fb19fd635ae02f959",
            "11a97e4f3c2b436296daa2e34f25a0cd",
            "35ad0cb2f02140af93614a1698405727"
          ]
        },
        "id": "nnVfxQYDDIc6",
        "outputId": "4b403f79-5eac-4a11-e55e-ad70555470a7"
      },
      "source": [
        "# Loading the created dataset using datasets\n",
        "from datasets import load_dataset, load_metric\n",
        "\n",
        "\n",
        "data_files = {\n",
        "    \"train\": csv_path + \"train.csv\", \n",
        "    \"validation\": csv_path + \"test.csv\",\n",
        "}\n",
        "\n",
        "dataset = load_dataset(\"csv\", data_files=data_files, delimiter=\"\\t\", )\n",
        "train_dataset = dataset[\"train\"]\n",
        "eval_dataset = dataset[\"validation\"]\n",
        "\n",
        "print(train_dataset)\n",
        "print(eval_dataset)"
      ],
      "execution_count": 14,
      "outputs": [
        {
          "output_type": "stream",
          "name": "stderr",
          "text": [
            "Using custom data configuration default-65ef2330879ad075\n"
          ]
        },
        {
          "output_type": "stream",
          "name": "stdout",
          "text": [
            "Downloading and preparing dataset csv/default to /content/cache/csv/default-65ef2330879ad075/0.0.0/6b9057d9e23d9d8a2f05b985917a0da84d70c5dae3d22ddd8a3f22fb01c69d9e...\n"
          ]
        },
        {
          "output_type": "display_data",
          "data": {
            "application/vnd.jupyter.widget-view+json": {
              "model_id": "576f90f293b1406a8a865e61f0c738b4",
              "version_minor": 0,
              "version_major": 2
            },
            "text/plain": [
              "  0%|          | 0/2 [00:00<?, ?it/s]"
            ]
          },
          "metadata": {}
        },
        {
          "output_type": "display_data",
          "data": {
            "application/vnd.jupyter.widget-view+json": {
              "model_id": "251f20f3922846e4a4a835d471f050ea",
              "version_minor": 0,
              "version_major": 2
            },
            "text/plain": [
              "  0%|          | 0/2 [00:00<?, ?it/s]"
            ]
          },
          "metadata": {}
        },
        {
          "output_type": "stream",
          "name": "stdout",
          "text": [
            "Dataset csv downloaded and prepared to /content/cache/csv/default-65ef2330879ad075/0.0.0/6b9057d9e23d9d8a2f05b985917a0da84d70c5dae3d22ddd8a3f22fb01c69d9e. Subsequent calls will reuse this data.\n"
          ]
        },
        {
          "output_type": "display_data",
          "data": {
            "application/vnd.jupyter.widget-view+json": {
              "model_id": "d013a9e5ffb041f688974307e95fa272",
              "version_minor": 0,
              "version_major": 2
            },
            "text/plain": [
              "  0%|          | 0/2 [00:00<?, ?it/s]"
            ]
          },
          "metadata": {}
        },
        {
          "output_type": "stream",
          "name": "stdout",
          "text": [
            "Dataset({\n",
            "    features: ['File Name', 'path', 'Sex'],\n",
            "    num_rows: 1600\n",
            "})\n",
            "Dataset({\n",
            "    features: ['File Name', 'path', 'Sex'],\n",
            "    num_rows: 400\n",
            "})\n"
          ]
        }
      ]
    },
    {
      "cell_type": "code",
      "metadata": {
        "id": "rsOrQPBOEVOy"
      },
      "source": [
        "# We need to specify the input and output column\n",
        "input_column = \"path\"\n",
        "output_column = \"Sex\""
      ],
      "execution_count": 15,
      "outputs": []
    },
    {
      "cell_type": "code",
      "metadata": {
        "colab": {
          "base_uri": "https://localhost:8080/"
        },
        "id": "-gh7fQ1XEpC7",
        "outputId": "b46a3ba1-6158-4ffd-80bd-b850a02f9823"
      },
      "source": [
        "# we need to distinguish the unique labels in our SER dataset\n",
        "label_list = train_dataset.unique(output_column)\n",
        "label_list.sort()  # Let's sort it for determinism\n",
        "num_labels = len(label_list)\n",
        "print(f\"A classification problem with {num_labels} classes: {label_list}\")"
      ],
      "execution_count": 16,
      "outputs": [
        {
          "output_type": "stream",
          "name": "stdout",
          "text": [
            "A classification problem with 2 classes: ['Female', 'Male']\n"
          ]
        }
      ]
    },
    {
      "cell_type": "markdown",
      "metadata": {
        "id": "4TkGYrVTFR6Y"
      },
      "source": [
        "In order to preprocess the audio into our classification model, we need to set up the relevant Wav2Vec2 assets regarding our language in this case `lighteternal/wav2vec2-large-xlsr-53-greek` fine-tuned by [Dimitris Papadopoulos](https://huggingface.co/lighteternal/wav2vec2-large-xlsr-53-greek). To handle the context representations in any audio length we use a merge strategy plan (pooling mode) to concatenate that 3D representations into 2D representations.\n",
        "\n",
        "There are three merge strategies `mean`, `sum`, and `max`. In this example, we achieved better results on the mean approach. In the following, we need to initiate the config and the feature extractor from the Dimitris model."
      ]
    },
    {
      "cell_type": "code",
      "source": [
        "pip install transformers"
      ],
      "metadata": {
        "id": "5zaTmeCP50jt"
      },
      "execution_count": null,
      "outputs": []
    },
    {
      "cell_type": "code",
      "metadata": {
        "id": "rQrGaFohGzVo"
      },
      "source": [
        "from transformers import AutoConfig, Wav2Vec2Processor"
      ],
      "execution_count": 18,
      "outputs": []
    },
    {
      "cell_type": "code",
      "metadata": {
        "id": "9Y1adr7vFrq7"
      },
      "source": [
        "#model_name_or_path = \"lighteternal/wav2vec2-large-xlsr-53-greek\"\n",
        "#model_name_or_path = \"facebook/wav2vec2-base-960h\" # --------  accuracy: 0.172500 run time: 19:44\n",
        "model_name_or_path = \"facebook/wav2vec2-large-lv60\" # --------  accuracy: 0.367500 run time: 1:03:44\n",
        "# model_name_or_path = \"facebook/wav2vec2-base\"\n",
        "pooling_mode = \"mean\""
      ],
      "execution_count": 19,
      "outputs": []
    },
    {
      "cell_type": "code",
      "metadata": {
        "colab": {
          "base_uri": "https://localhost:8080/",
          "height": 49,
          "referenced_widgets": [
            "fda832f8b5614ba4a915fcfb5d794fc0",
            "52dcce8208f5416d8b1b6958358e6d57",
            "e59956f589d3408cb263ea41b6e68ecf",
            "3fd1c465fcab4480b8d6fbd499eb1919",
            "4f1cc7f787704e3a97a6a3a70bc800d7",
            "2cbee2e1c4e445df9bf637a999562ccb",
            "d58967d2d29b4aefb04feeb59fe1ef40",
            "ae0eb9dad1a24dafb38b4289887ea2a9",
            "0ab1df0e2a824ef89758d6a70e5bf7b4",
            "13fa64368ce54c098aacec5d88a0a0a8",
            "7066dfd982ff48a7a5393e7a41e7eb7a"
          ]
        },
        "id": "AZjDSmBRGqr6",
        "outputId": "c8842ff1-b44c-4b12-fe0f-828b54db2c24"
      },
      "source": [
        "# config\n",
        "config = AutoConfig.from_pretrained(\n",
        "    model_name_or_path,\n",
        "    num_labels=num_labels,\n",
        "    label2id={label: i for i, label in enumerate(label_list)},\n",
        "    id2label={i: label for i, label in enumerate(label_list)},\n",
        "    finetuning_task=\"wav2vec2_clf\",\n",
        ")\n",
        "setattr(config, 'pooling_mode', pooling_mode)"
      ],
      "execution_count": 20,
      "outputs": [
        {
          "output_type": "display_data",
          "data": {
            "application/vnd.jupyter.widget-view+json": {
              "model_id": "fda832f8b5614ba4a915fcfb5d794fc0",
              "version_minor": 0,
              "version_major": 2
            },
            "text/plain": [
              "Downloading:   0%|          | 0.00/1.52k [00:00<?, ?B/s]"
            ]
          },
          "metadata": {}
        }
      ]
    },
    {
      "cell_type": "code",
      "metadata": {
        "colab": {
          "base_uri": "https://localhost:8080/",
          "height": 162,
          "referenced_widgets": [
            "aece6861a2924115ab335be6d6bf17c3",
            "d4d0e712a6094a2ea980b91486735e60",
            "fddfd52233884a8ab58de2cd5a1469b4",
            "758825f9a58241128df74dfa1806c328",
            "dd7a8ab2bb6743b29578b3db39d7c0c7",
            "4e8f82d74c2d46e6be55d4e88b1efb73",
            "e9c1973dcbde49f0b900b13595354645",
            "cc3a610f17694a08b32f89100d8d5a3e",
            "ef3eaf6443d94ae9a27405ddc4518b27",
            "0e7fd3ecef1d4a16a6a85cb4c74090c1",
            "388df8fe9f89485a88f14261c9d095a7",
            "3e748f7575d34aaa97d6cd97e0d2308f",
            "1fc1c3e6b6bd4932a1ca14aca641a08a",
            "4e21a4daaa9545348a0021a7e2f785d7",
            "e803731346004b018c96cfe9797bd220",
            "fcc213c00cb64a1da4b7c6c13f066965",
            "b7f548a5d80d4b34b9f3cde6b602623e",
            "977ec30b6e044cb9873b822d9b988561",
            "83f7c7fcea3845d7a453917719d71666",
            "becf8b7ccd1e429ea146e30cf27ebf8a",
            "a6193b40990e4788b8d68d6ffa04977e",
            "cd35ad27d5d7427a89f2abd8554f8b84",
            "912b205837534534807a32d02305f645",
            "f72c8202e1894c13b05e5392761171a0",
            "bdaa513515d8469d99ab14d5f3fe16a4",
            "4e6ab33c6ca74e258a39425b4eaf3cc2",
            "0180194a539e432eb53f9bd456285462",
            "4c67635ab62948eca2ef24d0361f5271",
            "6b4fca825e924b33a263aac3722cb233",
            "cfcf98c4605a4b39aa8738a4ccd1c177",
            "6b3a6790c68149ebaeff7a34e523865e",
            "71cdf07a0956457f819aa809faa3a643",
            "463b4df8878b464d81637b92c2f7436a",
            "0e2e93f5bfd2494bbf66655dcdf5abe4",
            "748496c265e24a95bf1873f0e1b73b2c",
            "cc619089b727492eb9203ddbe4010b5d",
            "cad35bcc961e413480e4259cbfae70e3",
            "74d3c38d22174bffaf31c259d37839ab",
            "4fc903ea0dc64f3e90051fda520b3b29",
            "da00c5f1efab42b58cb9789b334b8f55",
            "2177f092484440e3b7569defce1d4b43",
            "6496f22197cc4001b55b287bc42ea1d7",
            "49886260db624bef83c20af9d777694b",
            "c9186978b3cc4a34809b384ba185d636"
          ]
        },
        "id": "ZXVl9qW1Gw_-",
        "outputId": "1dd2f913-e944-4f6d-d216-8607eaa18a6d"
      },
      "source": [
        "processor = Wav2Vec2Processor.from_pretrained(model_name_or_path,)\n",
        "target_sampling_rate = processor.feature_extractor.sampling_rate\n",
        "print(f\"The target sampling rate: {target_sampling_rate}\")"
      ],
      "execution_count": 21,
      "outputs": [
        {
          "output_type": "display_data",
          "data": {
            "application/vnd.jupyter.widget-view+json": {
              "model_id": "aece6861a2924115ab335be6d6bf17c3",
              "version_minor": 0,
              "version_major": 2
            },
            "text/plain": [
              "Downloading:   0%|          | 0.00/158 [00:00<?, ?B/s]"
            ]
          },
          "metadata": {}
        },
        {
          "output_type": "display_data",
          "data": {
            "application/vnd.jupyter.widget-view+json": {
              "model_id": "3e748f7575d34aaa97d6cd97e0d2308f",
              "version_minor": 0,
              "version_major": 2
            },
            "text/plain": [
              "Downloading:   0%|          | 0.00/163 [00:00<?, ?B/s]"
            ]
          },
          "metadata": {}
        },
        {
          "output_type": "display_data",
          "data": {
            "application/vnd.jupyter.widget-view+json": {
              "model_id": "912b205837534534807a32d02305f645",
              "version_minor": 0,
              "version_major": 2
            },
            "text/plain": [
              "Downloading:   0%|          | 0.00/291 [00:00<?, ?B/s]"
            ]
          },
          "metadata": {}
        },
        {
          "output_type": "display_data",
          "data": {
            "application/vnd.jupyter.widget-view+json": {
              "model_id": "0e2e93f5bfd2494bbf66655dcdf5abe4",
              "version_minor": 0,
              "version_major": 2
            },
            "text/plain": [
              "Downloading:   0%|          | 0.00/85.0 [00:00<?, ?B/s]"
            ]
          },
          "metadata": {}
        },
        {
          "output_type": "stream",
          "name": "stdout",
          "text": [
            "The target sampling rate: 16000\n"
          ]
        }
      ]
    },
    {
      "cell_type": "markdown",
      "metadata": {
        "id": "CbGuYgLqHXZg"
      },
      "source": [
        "# Preprocess Data"
      ]
    },
    {
      "cell_type": "markdown",
      "metadata": {
        "id": "qLk-eM1DFjtE"
      },
      "source": [
        "So far, we downloaded, loaded, and split the SER dataset into train and test sets. The instantiated our strategy configuration for using context representations in our classification problem SER. Now, we need to extract features from the audio path in context representation tensors and feed them into our classification model to determine the emotion in the speech.\n",
        "\n",
        "Since the audio file is saved in the `.wav` format, it is easy to use **[Librosa](https://librosa.org/doc/latest/index.html)** or others, but we suppose that the format may be in the `.mp3` format in case of generality. We found that the **[Torchaudio](https://pytorch.org/audio/stable/index.html)** library works best for reading in `.mp3` data.\n",
        "\n",
        "An audio file usually stores both its values and the sampling rate with which the speech signal was digitalized. We want to store both in the dataset and write a **map(...)** function accordingly. Also, we need to handle the string labels into integers for our specific classification task in this case, the **single-label classification** you may want to use for your **regression** or even **multi-label classification**."
      ]
    },
    {
      "cell_type": "code",
      "metadata": {
        "id": "6UqlIV3uGxDA"
      },
      "source": [
        "def speech_file_to_array_fn(path):\n",
        "    speech_array, sampling_rate = torchaudio.load(path)\n",
        "    resampler = torchaudio.transforms.Resample(sampling_rate, target_sampling_rate)\n",
        "    speech = resampler(speech_array).squeeze().numpy()\n",
        "    return speech\n",
        "\n",
        "def label_to_id(label, label_list):\n",
        "\n",
        "    if len(label_list) > 0:\n",
        "        return label_list.index(label) if label in label_list else -1\n",
        "\n",
        "    return label\n",
        "\n",
        "def preprocess_function(examples):\n",
        "    speech_list = [speech_file_to_array_fn(path) for path in examples[input_column]]\n",
        "    target_list = [label_to_id(label, label_list) for label in examples[output_column]]\n",
        "\n",
        "    result = processor(speech_list, sampling_rate=target_sampling_rate)\n",
        "    result[\"labels\"] = list(target_list)\n",
        "\n",
        "    return result"
      ],
      "execution_count": 22,
      "outputs": []
    },
    {
      "cell_type": "code",
      "metadata": {
        "colab": {
          "base_uri": "https://localhost:8080/",
          "height": 315
        },
        "id": "ioP8FfR2GxHi",
        "outputId": "eb1a64ba-88db-4e7b-8892-8f23d12d4f87"
      },
      "source": [
        "train_dataset = train_dataset.map(\n",
        "    preprocess_function,\n",
        "    batch_size=100,\n",
        "    batched=True,\n",
        "    num_proc=4\n",
        ")\n",
        "eval_dataset = eval_dataset.map(\n",
        "    preprocess_function,\n",
        "    batch_size=100,\n",
        "    batched=True,\n",
        "    num_proc=4\n",
        ")"
      ],
      "execution_count": 23,
      "outputs": [
        {
          "output_type": "stream",
          "name": "stderr",
          "text": [
            "/usr/local/lib/python3.7/dist-packages/numpy/core/_asarray.py:83: VisibleDeprecationWarning: Creating an ndarray from ragged nested sequences (which is a list-or-tuple of lists-or-tuples-or ndarrays with different lengths or shapes) is deprecated. If you meant to do this, you must specify 'dtype=object' when creating the ndarray\n",
            "  return array(a, dtype, copy=False, order=order)\n",
            "/usr/local/lib/python3.7/dist-packages/numpy/core/_asarray.py:83: VisibleDeprecationWarning: Creating an ndarray from ragged nested sequences (which is a list-or-tuple of lists-or-tuples-or ndarrays with different lengths or shapes) is deprecated. If you meant to do this, you must specify 'dtype=object' when creating the ndarray\n",
            "  return array(a, dtype, copy=False, order=order)\n",
            "/usr/local/lib/python3.7/dist-packages/numpy/core/_asarray.py:83: VisibleDeprecationWarning: Creating an ndarray from ragged nested sequences (which is a list-or-tuple of lists-or-tuples-or ndarrays with different lengths or shapes) is deprecated. If you meant to do this, you must specify 'dtype=object' when creating the ndarray\n",
            "  return array(a, dtype, copy=False, order=order)\n",
            "/usr/local/lib/python3.7/dist-packages/numpy/core/_asarray.py:83: VisibleDeprecationWarning: Creating an ndarray from ragged nested sequences (which is a list-or-tuple of lists-or-tuples-or ndarrays with different lengths or shapes) is deprecated. If you meant to do this, you must specify 'dtype=object' when creating the ndarray\n",
            "  return array(a, dtype, copy=False, order=order)\n",
            "/usr/local/lib/python3.7/dist-packages/numpy/core/_asarray.py:83: VisibleDeprecationWarning: Creating an ndarray from ragged nested sequences (which is a list-or-tuple of lists-or-tuples-or ndarrays with different lengths or shapes) is deprecated. If you meant to do this, you must specify 'dtype=object' when creating the ndarray\n",
            "  return array(a, dtype, copy=False, order=order)\n",
            "/usr/local/lib/python3.7/dist-packages/numpy/core/_asarray.py:83: VisibleDeprecationWarning: Creating an ndarray from ragged nested sequences (which is a list-or-tuple of lists-or-tuples-or ndarrays with different lengths or shapes) is deprecated. If you meant to do this, you must specify 'dtype=object' when creating the ndarray\n",
            "  return array(a, dtype, copy=False, order=order)\n",
            "/usr/local/lib/python3.7/dist-packages/numpy/core/_asarray.py:83: VisibleDeprecationWarning: Creating an ndarray from ragged nested sequences (which is a list-or-tuple of lists-or-tuples-or ndarrays with different lengths or shapes) is deprecated. If you meant to do this, you must specify 'dtype=object' when creating the ndarray\n",
            "  return array(a, dtype, copy=False, order=order)\n",
            "/usr/local/lib/python3.7/dist-packages/numpy/core/_asarray.py:83: VisibleDeprecationWarning: Creating an ndarray from ragged nested sequences (which is a list-or-tuple of lists-or-tuples-or ndarrays with different lengths or shapes) is deprecated. If you meant to do this, you must specify 'dtype=object' when creating the ndarray\n",
            "  return array(a, dtype, copy=False, order=order)\n"
          ]
        }
      ]
    },
    {
      "cell_type": "code",
      "source": [
        "train_dataset"
      ],
      "metadata": {
        "colab": {
          "base_uri": "https://localhost:8080/"
        },
        "id": "d9lwXQbF2x9f",
        "outputId": "70986d43-19b2-45e4-f980-6f9915badfa0"
      },
      "execution_count": 24,
      "outputs": [
        {
          "output_type": "execute_result",
          "data": {
            "text/plain": [
              "Dataset({\n",
              "    features: ['File Name', 'path', 'Sex', 'input_values', 'attention_mask', 'labels'],\n",
              "    num_rows: 1600\n",
              "})"
            ]
          },
          "metadata": {},
          "execution_count": 24
        }
      ]
    },
    {
      "cell_type": "code",
      "metadata": {
        "id": "eu1qcRucHk6d"
      },
      "source": [
        "idx = 0\n",
        "print(f\"Training input_values: {train_dataset[idx]['input_values']}\")\n",
        "print(f\"Training attention_mask: {train_dataset[idx]['attention_mask']}\")\n",
        "print(f\"Training labels: {train_dataset[idx]['labels']} - {train_dataset[idx]['Sex']}\")"
      ],
      "execution_count": null,
      "outputs": []
    },
    {
      "cell_type": "markdown",
      "metadata": {
        "id": "HcrEgJO9Hmx7"
      },
      "source": [
        "Great, now we've successfully read all the audio files, resampled the audio files to 16kHz, and mapped each audio to the corresponding label."
      ]
    },
    {
      "cell_type": "markdown",
      "metadata": {
        "id": "QL7q6DfcH0Fs"
      },
      "source": [
        "## Model\n",
        "\n",
        "Before diving into the training part, we need to build our classification model based on the merge strategy. "
      ]
    },
    {
      "cell_type": "code",
      "metadata": {
        "id": "uJZoC4T5HpuP"
      },
      "source": [
        "from dataclasses import dataclass\n",
        "from typing import Optional, Tuple\n",
        "import torch\n",
        "from transformers.file_utils import ModelOutput\n",
        "\n",
        "\n",
        "@dataclass\n",
        "class SpeechClassifierOutput(ModelOutput):\n",
        "    loss: Optional[torch.FloatTensor] = None\n",
        "    logits: torch.FloatTensor = None\n",
        "    hidden_states: Optional[Tuple[torch.FloatTensor]] = None\n",
        "    attentions: Optional[Tuple[torch.FloatTensor]] = None\n"
      ],
      "execution_count": 27,
      "outputs": []
    },
    {
      "cell_type": "code",
      "metadata": {
        "id": "Fv62ShDsH5DZ"
      },
      "source": [
        "import torch\n",
        "import torch.nn as nn\n",
        "from torch.nn import BCEWithLogitsLoss, CrossEntropyLoss, MSELoss\n",
        "\n",
        "from transformers.models.wav2vec2.modeling_wav2vec2 import (\n",
        "    Wav2Vec2PreTrainedModel,\n",
        "    Wav2Vec2Model\n",
        ")\n",
        "\n",
        "\n",
        "class Wav2Vec2ClassificationHead(nn.Module):\n",
        "    \"\"\"Head for wav2vec classification task.\"\"\"\n",
        "\n",
        "    def __init__(self, config):\n",
        "        super().__init__()\n",
        "        self.dense = nn.Linear(config.hidden_size, config.hidden_size)\n",
        "        self.dropout = nn.Dropout(config.final_dropout)\n",
        "        self.out_proj = nn.Linear(config.hidden_size, config.num_labels)\n",
        "\n",
        "    def forward(self, features, **kwargs):\n",
        "        x = features\n",
        "        x = self.dropout(x)\n",
        "        x = self.dense(x)\n",
        "        x = torch.tanh(x)\n",
        "        x = self.dropout(x)\n",
        "        x = self.out_proj(x)\n",
        "        return x\n",
        "\n",
        "\n",
        "class Wav2Vec2ForSpeechClassification(Wav2Vec2PreTrainedModel):\n",
        "    def __init__(self, config):\n",
        "        super().__init__(config)\n",
        "        self.num_labels = config.num_labels\n",
        "        self.pooling_mode = config.pooling_mode\n",
        "        self.config = config\n",
        "\n",
        "        self.wav2vec2 = Wav2Vec2Model(config)\n",
        "        self.classifier = Wav2Vec2ClassificationHead(config)\n",
        "\n",
        "        self.init_weights()\n",
        "\n",
        "    def freeze_feature_extractor(self):\n",
        "        self.wav2vec2.feature_extractor._freeze_parameters()\n",
        "\n",
        "    def merged_strategy(\n",
        "            self,\n",
        "            hidden_states,\n",
        "            mode=\"mean\"\n",
        "    ):\n",
        "        if mode == \"mean\":\n",
        "            outputs = torch.mean(hidden_states, dim=1)\n",
        "        elif mode == \"sum\":\n",
        "            outputs = torch.sum(hidden_states, dim=1)\n",
        "        elif mode == \"max\":\n",
        "            outputs = torch.max(hidden_states, dim=1)[0]\n",
        "        else:\n",
        "            raise Exception(\n",
        "                \"The pooling method hasn't been defined! Your pooling mode must be one of these ['mean', 'sum', 'max']\")\n",
        "\n",
        "        return outputs\n",
        "\n",
        "    def forward(\n",
        "            self,\n",
        "            input_values,\n",
        "            attention_mask=None,\n",
        "            output_attentions=None,\n",
        "            output_hidden_states=None,\n",
        "            return_dict=None,\n",
        "            labels=None,\n",
        "    ):\n",
        "        return_dict = return_dict if return_dict is not None else self.config.use_return_dict\n",
        "        outputs = self.wav2vec2(\n",
        "            input_values,\n",
        "            attention_mask=attention_mask,\n",
        "            output_attentions=output_attentions,\n",
        "            output_hidden_states=output_hidden_states,\n",
        "            return_dict=return_dict,\n",
        "        )\n",
        "        hidden_states = outputs[0]\n",
        "        hidden_states = self.merged_strategy(hidden_states, mode=self.pooling_mode)\n",
        "        logits = self.classifier(hidden_states)\n",
        "\n",
        "        loss = None\n",
        "        if labels is not None:\n",
        "            if self.config.problem_type is None:\n",
        "                if self.num_labels == 1:\n",
        "                    self.config.problem_type = \"regression\"\n",
        "                elif self.num_labels > 1 and (labels.dtype == torch.long or labels.dtype == torch.int):\n",
        "                    self.config.problem_type = \"single_label_classification\"\n",
        "                else:\n",
        "                    self.config.problem_type = \"multi_label_classification\"\n",
        "\n",
        "            if self.config.problem_type == \"regression\":\n",
        "                loss_fct = MSELoss()\n",
        "                loss = loss_fct(logits.view(-1, self.num_labels), labels)\n",
        "            elif self.config.problem_type == \"single_label_classification\":\n",
        "                loss_fct = CrossEntropyLoss()\n",
        "                loss = loss_fct(logits.view(-1, self.num_labels), labels.view(-1))\n",
        "            elif self.config.problem_type == \"multi_label_classification\":\n",
        "                loss_fct = BCEWithLogitsLoss()\n",
        "                loss = loss_fct(logits, labels)\n",
        "\n",
        "        if not return_dict:\n",
        "            output = (logits,) + outputs[2:]\n",
        "            return ((loss,) + output) if loss is not None else output\n",
        "\n",
        "        return SpeechClassifierOutput(\n",
        "            loss=loss,\n",
        "            logits=logits,\n",
        "            hidden_states=outputs.hidden_states,\n",
        "            attentions=outputs.attentions,\n",
        "        )\n"
      ],
      "execution_count": 28,
      "outputs": []
    },
    {
      "cell_type": "markdown",
      "metadata": {
        "id": "OrBrR1b7zvUL"
      },
      "source": [
        "## Training\n",
        "\n",
        "The data is processed so that we are ready to start setting up the training pipeline. We will make use of 🤗's [Trainer](https://huggingface.co/transformers/master/main_classes/trainer.html?highlight=trainer) for which we essentially need to do the following:\n",
        "\n",
        "- Define a data collator. In contrast to most NLP models, XLSR-Wav2Vec2 has a much larger input length than output length. *E.g.*, a sample of input length 50000 has an output length of no more than 100. Given the large input sizes, it is much more efficient to pad the training batches dynamically meaning that all training samples should only be padded to the longest sample in their batch and not the overall longest sample. Therefore, fine-tuning XLSR-Wav2Vec2 requires a special padding data collator, which we will define below\n",
        "\n",
        "- Evaluation metric. During training, the model should be evaluated on the word error rate. We should define a `compute_metrics` function accordingly\n",
        "\n",
        "- Load a pretrained checkpoint. We need to load a pretrained checkpoint and configure it correctly for training.\n",
        "\n",
        "- Define the training configuration.\n",
        "\n",
        "After having fine-tuned the model, we will correctly evaluate it on the test data and verify that it has indeed learned to correctly transcribe speech."
      ]
    },
    {
      "cell_type": "markdown",
      "metadata": {
        "id": "Ji9-n1eUIKZc"
      },
      "source": [
        "### Set-up Trainer\n",
        "\n",
        "Let's start by defining the data collator. The code for the data collator was copied from [this example](https://github.com/huggingface/transformers/blob/9a06b6b11bdfc42eea08fa91d0c737d1863c99e3/examples/research_projects/wav2vec2/run_asr.py#L81).\n",
        "\n",
        "Without going into too many details, in contrast to the common data collators, this data collator treats the `input_values` and `labels` differently and thus applies to separate padding functions on them (again making use of XLSR-Wav2Vec2's context manager). This is necessary because in speech input and output are of different modalities meaning that they should not be treated by the same padding function.\n",
        "Analogous to the common data collators, the padding tokens in the labels with `-100` so that those tokens are **not** taken into account when computing the loss."
      ]
    },
    {
      "cell_type": "code",
      "metadata": {
        "id": "rkM0VLIwy903"
      },
      "source": [
        "from dataclasses import dataclass\n",
        "from typing import Dict, List, Optional, Union\n",
        "import torch\n",
        "\n",
        "import transformers\n",
        "from transformers import Wav2Vec2Processor\n",
        "\n",
        "\n",
        "@dataclass\n",
        "class DataCollatorCTCWithPadding:\n",
        "    \"\"\"\n",
        "    Data collator that will dynamically pad the inputs received.\n",
        "    Args:\n",
        "        processor (:class:`~transformers.Wav2Vec2Processor`)\n",
        "            The processor used for proccessing the data.\n",
        "        padding (:obj:`bool`, :obj:`str` or :class:`~transformers.tokenization_utils_base.PaddingStrategy`, `optional`, defaults to :obj:`True`):\n",
        "            Select a strategy to pad the returned sequences (according to the model's padding side and padding index)\n",
        "            among:\n",
        "            * :obj:`True` or :obj:`'longest'`: Pad to the longest sequence in the batch (or no padding if only a single\n",
        "              sequence if provided).\n",
        "            * :obj:`'max_length'`: Pad to a maximum length specified with the argument :obj:`max_length` or to the\n",
        "              maximum acceptable input length for the model if that argument is not provided.\n",
        "            * :obj:`False` or :obj:`'do_not_pad'` (default): No padding (i.e., can output a batch with sequences of\n",
        "              different lengths).\n",
        "        max_length (:obj:`int`, `optional`):\n",
        "            Maximum length of the ``input_values`` of the returned list and optionally padding length (see above).\n",
        "        max_length_labels (:obj:`int`, `optional`):\n",
        "            Maximum length of the ``labels`` returned list and optionally padding length (see above).\n",
        "        pad_to_multiple_of (:obj:`int`, `optional`):\n",
        "            If set will pad the sequence to a multiple of the provided value.\n",
        "            This is especially useful to enable the use of Tensor Cores on NVIDIA hardware with compute capability >=\n",
        "            7.5 (Volta).\n",
        "    \"\"\"\n",
        "\n",
        "    processor: Wav2Vec2Processor\n",
        "    padding: Union[bool, str] = True\n",
        "    max_length: Optional[int] = None\n",
        "    max_length_labels: Optional[int] = None\n",
        "    pad_to_multiple_of: Optional[int] = None\n",
        "    pad_to_multiple_of_labels: Optional[int] = None\n",
        "\n",
        "    def __call__(self, features: List[Dict[str, Union[List[int], torch.Tensor]]]) -> Dict[str, torch.Tensor]:\n",
        "        input_features = [{\"input_values\": feature[\"input_values\"]} for feature in features]\n",
        "        label_features = [feature[\"labels\"] for feature in features]\n",
        "\n",
        "        d_type = torch.long if isinstance(label_features[0], int) else torch.float\n",
        "\n",
        "        batch = self.processor.pad(\n",
        "            input_features,\n",
        "            padding=self.padding,\n",
        "            max_length=self.max_length,\n",
        "            pad_to_multiple_of=self.pad_to_multiple_of,\n",
        "            return_tensors=\"pt\",\n",
        "        )\n",
        "\n",
        "        batch[\"labels\"] = torch.tensor(label_features, dtype=d_type)\n",
        "\n",
        "        return batch"
      ],
      "execution_count": 29,
      "outputs": []
    },
    {
      "cell_type": "code",
      "metadata": {
        "id": "-YhJ0OA4RxQe"
      },
      "source": [
        "data_collator = DataCollatorCTCWithPadding(processor=processor, padding=True)"
      ],
      "execution_count": 30,
      "outputs": []
    },
    {
      "cell_type": "markdown",
      "metadata": {
        "id": "mYxy2IR-KcU2"
      },
      "source": [
        "Next, the evaluation metric is defined. There are many pre-defined metrics for classification/regression problems, but in this case, we would continue with just **Accuracy** for classification and **MSE** for regression. You can define other metrics on your own."
      ]
    },
    {
      "cell_type": "code",
      "metadata": {
        "id": "LL8I5MKvPnth"
      },
      "source": [
        "is_regression = False"
      ],
      "execution_count": 31,
      "outputs": []
    },
    {
      "cell_type": "code",
      "metadata": {
        "id": "XK26Z6IfR36K"
      },
      "source": [
        "import numpy as np\n",
        "from transformers import EvalPrediction\n",
        "\n",
        "\n",
        "def compute_metrics(p: EvalPrediction):\n",
        "    preds = p.predictions[0] if isinstance(p.predictions, tuple) else p.predictions\n",
        "    preds = np.squeeze(preds) if is_regression else np.argmax(preds, axis=1)\n",
        "\n",
        "    if is_regression:\n",
        "        return {\"mse\": ((preds - p.label_ids) ** 2).mean().item()}\n",
        "    else:\n",
        "        return {\"accuracy\": (preds == p.label_ids).astype(np.float32).mean().item()}"
      ],
      "execution_count": 32,
      "outputs": []
    },
    {
      "cell_type": "markdown",
      "metadata": {
        "id": "ZsH_nKJdK28o"
      },
      "source": [
        "Now, we can load the pretrained XLSR-Wav2Vec2 checkpoint into our classification model with a pooling strategy."
      ]
    },
    {
      "cell_type": "code",
      "metadata": {
        "id": "0Tl6iKAUR4EL",
        "colab": {
          "base_uri": "https://localhost:8080/",
          "height": 156,
          "referenced_widgets": [
            "42e5525040234bf0b74c29f8e64b518a",
            "8a047dad368948a0acdb22f45ac2db45",
            "fa97581a27cc4f408a697c902f983bcb",
            "c8d90c9c31094244b04d3aadeac5fb54",
            "40396bae51724a76bfcf9ed55d194914",
            "35e63ef3c8714038b64f01b5811105b4",
            "99022500bfab4682ba2ae29493c58dec",
            "f5e2af430b934b049a30bf063bd4a82c",
            "13e13f9bc2934fd7bfb5e4157c243821",
            "7aa68940ac63443ebfaa84b4a5f2bd32",
            "778e0b25b1a14fdaa45ea77fcc092a49"
          ]
        },
        "outputId": "3a903f7a-7cc1-4e1d-c834-1f4741ed244b"
      },
      "source": [
        "model = Wav2Vec2ForSpeechClassification.from_pretrained(\n",
        "    model_name_or_path,\n",
        "    config=config,\n",
        ")"
      ],
      "execution_count": 33,
      "outputs": [
        {
          "output_type": "display_data",
          "data": {
            "application/vnd.jupyter.widget-view+json": {
              "model_id": "42e5525040234bf0b74c29f8e64b518a",
              "version_minor": 0,
              "version_major": 2
            },
            "text/plain": [
              "Downloading:   0%|          | 0.00/1.18G [00:00<?, ?B/s]"
            ]
          },
          "metadata": {}
        },
        {
          "output_type": "stream",
          "name": "stderr",
          "text": [
            "Some weights of the model checkpoint at facebook/wav2vec2-large-lv60 were not used when initializing Wav2Vec2ForSpeechClassification: ['project_hid.weight', 'quantizer.codevectors', 'project_q.weight', 'quantizer.weight_proj.bias', 'project_hid.bias', 'project_q.bias', 'quantizer.weight_proj.weight']\n",
            "- This IS expected if you are initializing Wav2Vec2ForSpeechClassification from the checkpoint of a model trained on another task or with another architecture (e.g. initializing a BertForSequenceClassification model from a BertForPreTraining model).\n",
            "- This IS NOT expected if you are initializing Wav2Vec2ForSpeechClassification from the checkpoint of a model that you expect to be exactly identical (initializing a BertForSequenceClassification model from a BertForSequenceClassification model).\n",
            "Some weights of Wav2Vec2ForSpeechClassification were not initialized from the model checkpoint at facebook/wav2vec2-large-lv60 and are newly initialized: ['classifier.out_proj.bias', 'classifier.dense.weight', 'classifier.dense.bias', 'classifier.out_proj.weight']\n",
            "You should probably TRAIN this model on a down-stream task to be able to use it for predictions and inference.\n"
          ]
        }
      ]
    },
    {
      "cell_type": "markdown",
      "metadata": {
        "id": "bqF4rNMzI1M5"
      },
      "source": [
        "The first component of XLSR-Wav2Vec2 consists of a stack of CNN layers that are used to extract acoustically meaningful - but contextually independent - features from the raw speech signal. This part of the model has already been sufficiently trained during pretraining and as stated in the [paper](https://arxiv.org/pdf/2006.13979.pdf) does not need to be fine-tuned anymore. \n",
        "Thus, we can set the `requires_grad` to `False` for all parameters of the *feature extraction* part."
      ]
    },
    {
      "cell_type": "code",
      "metadata": {
        "id": "KHMhxFGoR4Hb"
      },
      "source": [
        "model.freeze_feature_extractor()"
      ],
      "execution_count": 34,
      "outputs": []
    },
    {
      "cell_type": "markdown",
      "metadata": {
        "id": "n0HzBneBK84G"
      },
      "source": [
        "In a final step, we define all parameters related to training. \n",
        "To give more explanation on some of the parameters:\n",
        "- `learning_rate` and `weight_decay` were heuristically tuned until fine-tuning has become stable. Note that those parameters strongly depend on the Common Voice dataset and might be suboptimal for other speech datasets.\n",
        "\n",
        "For more explanations on other parameters, one can take a look at the [docs](https://huggingface.co/transformers/master/main_classes/trainer.html?highlight=trainer#trainingarguments).\n",
        "\n",
        "**Note**: If one wants to save the trained models in his/her google drive the commented-out `output_dir` can be used instead."
      ]
    },
    {
      "cell_type": "code",
      "metadata": {
        "id": "3tPqZ12BLCJk"
      },
      "source": [
        "# from google.colab import drive\n",
        "\n",
        "# drive.mount('/gdrive')"
      ],
      "execution_count": null,
      "outputs": []
    },
    {
      "cell_type": "code",
      "metadata": {
        "id": "vUtWjldAI9-H"
      },
      "source": [
        "from transformers import TrainingArguments\n",
        "\n",
        "training_args = TrainingArguments(\n",
        "    output_dir=\"/content/wav2vec2/Sex\",\n",
        "    #output_dir=\"/content/wav2vec2-xlsr-greek-speech-emotion-recognition\",\n",
        "    # output_dir=\"/content/gdrive/MyDrive/wav2vec2-xlsr-greek-speech-emotion-recognition\"\n",
        "    per_device_train_batch_size=4,\n",
        "    per_device_eval_batch_size=4,\n",
        "    gradient_accumulation_steps=2,\n",
        "    evaluation_strategy=\"steps\",\n",
        "    num_train_epochs=1.0,\n",
        "    fp16=True,\n",
        "    save_steps=10,\n",
        "    eval_steps=10,\n",
        "    logging_steps=10,\n",
        "    learning_rate=1e-4,\n",
        "    save_total_limit=2,\n",
        ")"
      ],
      "execution_count": 36,
      "outputs": []
    },
    {
      "cell_type": "markdown",
      "metadata": {
        "id": "XAtuL0APLZSs"
      },
      "source": [
        "For future use we can create our training script, we do it in a simple way. You can add more on you own."
      ]
    },
    {
      "cell_type": "code",
      "metadata": {
        "id": "KfW6uDolJYZv"
      },
      "source": [
        "from typing import Any, Dict, Union\n",
        "\n",
        "import torch\n",
        "from packaging import version\n",
        "from torch import nn\n",
        "\n",
        "from transformers import (\n",
        "    Trainer,\n",
        "    is_apex_available,\n",
        ")\n",
        "\n",
        "if is_apex_available():\n",
        "    from apex import amp\n",
        "\n",
        "if version.parse(torch.__version__) >= version.parse(\"1.6\"):\n",
        "    _is_native_amp_available = True\n",
        "    from torch.cuda.amp import autocast\n",
        "\n",
        "\n",
        "class CTCTrainer(Trainer):\n",
        "    def training_step(self, model: nn.Module, inputs: Dict[str, Union[torch.Tensor, Any]]) -> torch.Tensor:\n",
        "        \"\"\"\n",
        "        Perform a training step on a batch of inputs.\n",
        "\n",
        "        Subclass and override to inject custom behavior.\n",
        "\n",
        "        Args:\n",
        "            model (:obj:`nn.Module`):\n",
        "                The model to train.\n",
        "            inputs (:obj:`Dict[str, Union[torch.Tensor, Any]]`):\n",
        "                The inputs and targets of the model.\n",
        "\n",
        "                The dictionary will be unpacked before being fed to the model. Most models expect the targets under the\n",
        "                argument :obj:`labels`. Check your model's documentation for all accepted arguments.\n",
        "\n",
        "        Return:\n",
        "            :obj:`torch.Tensor`: The tensor with training loss on this batch.\n",
        "        \"\"\"\n",
        "\n",
        "        model.train()\n",
        "        inputs = self._prepare_inputs(inputs)\n",
        "\n",
        "        if self.use_amp:\n",
        "            with autocast():\n",
        "                loss = self.compute_loss(model, inputs)\n",
        "        else:\n",
        "            loss = self.compute_loss(model, inputs)\n",
        "\n",
        "        if self.args.gradient_accumulation_steps > 1:\n",
        "            loss = loss / self.args.gradient_accumulation_steps\n",
        "\n",
        "        if self.use_amp:\n",
        "            self.scaler.scale(loss).backward()\n",
        "        elif self.use_apex:\n",
        "            with amp.scale_loss(loss, self.optimizer) as scaled_loss:\n",
        "                scaled_loss.backward()\n",
        "        elif self.deepspeed:\n",
        "            self.deepspeed.backward(loss)\n",
        "        else:\n",
        "            loss.backward()\n",
        "\n",
        "        return loss.detach()\n"
      ],
      "execution_count": 37,
      "outputs": []
    },
    {
      "cell_type": "markdown",
      "metadata": {
        "id": "Qv7Ju3qYJeJn"
      },
      "source": [
        "Now, all instances can be passed to Trainer and we are ready to start training!"
      ]
    },
    {
      "cell_type": "code",
      "metadata": {
        "id": "nEFkfK45JYiZ",
        "colab": {
          "base_uri": "https://localhost:8080/"
        },
        "outputId": "3a90e294-faa5-4754-c9e2-d4787365ead4"
      },
      "source": [
        "trainer = CTCTrainer(\n",
        "    model=model,\n",
        "    data_collator=data_collator,\n",
        "    args=training_args,\n",
        "    compute_metrics=compute_metrics,\n",
        "    train_dataset=train_dataset,\n",
        "    eval_dataset=eval_dataset,\n",
        "    tokenizer=processor.feature_extractor,\n",
        ")"
      ],
      "execution_count": 38,
      "outputs": [
        {
          "output_type": "stream",
          "name": "stderr",
          "text": [
            "Using amp half precision backend\n"
          ]
        }
      ]
    },
    {
      "cell_type": "markdown",
      "metadata": {
        "id": "0gGLwJAOLtDg"
      },
      "source": [
        "### Training"
      ]
    },
    {
      "cell_type": "markdown",
      "metadata": {
        "id": "UpN6xlWCLxJ7"
      },
      "source": [
        "Training will take between 10 and 60 minutes depending on the GPU allocated to this notebook. \n",
        "\n",
        "In case you want to use this google colab to fine-tune your model, you should make sure that your training doesn't stop due to inactivity. A simple hack to prevent this is to paste the following code into the console of this tab (right mouse click -> inspect -> Console tab and insert code)."
      ]
    },
    {
      "cell_type": "markdown",
      "metadata": {
        "id": "zyYZH7YZL8a9"
      },
      "source": [
        "```javascript\n",
        "function ConnectButton(){\n",
        "    console.log(\"Connect pushed\"); \n",
        "    document.querySelector(\"#top-toolbar > colab-connect-button\").shadowRoot.querySelector(\"#connect\").click() \n",
        "}\n",
        "setInterval(ConnectButton,60000);\n",
        "```"
      ]
    },
    {
      "cell_type": "code",
      "metadata": {
        "colab": {
          "base_uri": "https://localhost:8080/",
          "height": 1000
        },
        "id": "6M8bNvLLJnG1",
        "outputId": "bcc284a4-b4b3-49f1-e6dd-1394aea103c3"
      },
      "source": [
        "trainer.train()"
      ],
      "execution_count": 39,
      "outputs": [
        {
          "output_type": "stream",
          "name": "stderr",
          "text": [
            "The following columns in the training set  don't have a corresponding argument in `Wav2Vec2ForSpeechClassification.forward` and have been ignored: File Name, Sex, path.\n",
            "/usr/local/lib/python3.7/dist-packages/transformers/optimization.py:309: FutureWarning: This implementation of AdamW is deprecated and will be removed in a future version. Use thePyTorch implementation torch.optim.AdamW instead, or set `no_deprecation_warning=True` to disable this warning\n",
            "  FutureWarning,\n",
            "***** Running training *****\n",
            "  Num examples = 1600\n",
            "  Num Epochs = 1\n",
            "  Instantaneous batch size per device = 4\n",
            "  Total train batch size (w. parallel, distributed & accumulation) = 8\n",
            "  Gradient Accumulation steps = 2\n",
            "  Total optimization steps = 200\n"
          ]
        },
        {
          "output_type": "display_data",
          "data": {
            "text/html": [
              "\n",
              "    <div>\n",
              "      \n",
              "      <progress value='200' max='200' style='width:300px; height:20px; vertical-align: middle;'></progress>\n",
              "      [200/200 1:04:13, Epoch 1/1]\n",
              "    </div>\n",
              "    <table border=\"1\" class=\"dataframe\">\n",
              "  <thead>\n",
              " <tr style=\"text-align: left;\">\n",
              "      <th>Step</th>\n",
              "      <th>Training Loss</th>\n",
              "      <th>Validation Loss</th>\n",
              "      <th>Accuracy</th>\n",
              "    </tr>\n",
              "  </thead>\n",
              "  <tbody>\n",
              "    <tr>\n",
              "      <td>10</td>\n",
              "      <td>0.677900</td>\n",
              "      <td>0.667626</td>\n",
              "      <td>0.592500</td>\n",
              "    </tr>\n",
              "    <tr>\n",
              "      <td>20</td>\n",
              "      <td>0.659600</td>\n",
              "      <td>0.610129</td>\n",
              "      <td>0.682500</td>\n",
              "    </tr>\n",
              "    <tr>\n",
              "      <td>30</td>\n",
              "      <td>0.594400</td>\n",
              "      <td>0.491540</td>\n",
              "      <td>0.815000</td>\n",
              "    </tr>\n",
              "    <tr>\n",
              "      <td>40</td>\n",
              "      <td>0.516900</td>\n",
              "      <td>0.355075</td>\n",
              "      <td>0.915000</td>\n",
              "    </tr>\n",
              "    <tr>\n",
              "      <td>50</td>\n",
              "      <td>0.346400</td>\n",
              "      <td>0.215395</td>\n",
              "      <td>0.950000</td>\n",
              "    </tr>\n",
              "    <tr>\n",
              "      <td>60</td>\n",
              "      <td>0.235000</td>\n",
              "      <td>0.147367</td>\n",
              "      <td>0.957500</td>\n",
              "    </tr>\n",
              "    <tr>\n",
              "      <td>70</td>\n",
              "      <td>0.309500</td>\n",
              "      <td>0.387224</td>\n",
              "      <td>0.897500</td>\n",
              "    </tr>\n",
              "    <tr>\n",
              "      <td>80</td>\n",
              "      <td>0.150200</td>\n",
              "      <td>0.083222</td>\n",
              "      <td>0.977500</td>\n",
              "    </tr>\n",
              "    <tr>\n",
              "      <td>90</td>\n",
              "      <td>0.181800</td>\n",
              "      <td>0.190380</td>\n",
              "      <td>0.947500</td>\n",
              "    </tr>\n",
              "    <tr>\n",
              "      <td>100</td>\n",
              "      <td>0.166000</td>\n",
              "      <td>0.115792</td>\n",
              "      <td>0.977500</td>\n",
              "    </tr>\n",
              "    <tr>\n",
              "      <td>110</td>\n",
              "      <td>0.219500</td>\n",
              "      <td>0.092496</td>\n",
              "      <td>0.980000</td>\n",
              "    </tr>\n",
              "    <tr>\n",
              "      <td>120</td>\n",
              "      <td>0.044100</td>\n",
              "      <td>0.128405</td>\n",
              "      <td>0.975000</td>\n",
              "    </tr>\n",
              "    <tr>\n",
              "      <td>130</td>\n",
              "      <td>0.161100</td>\n",
              "      <td>0.062931</td>\n",
              "      <td>0.990000</td>\n",
              "    </tr>\n",
              "    <tr>\n",
              "      <td>140</td>\n",
              "      <td>0.010000</td>\n",
              "      <td>0.098354</td>\n",
              "      <td>0.980000</td>\n",
              "    </tr>\n",
              "    <tr>\n",
              "      <td>150</td>\n",
              "      <td>0.005300</td>\n",
              "      <td>0.071185</td>\n",
              "      <td>0.985000</td>\n",
              "    </tr>\n",
              "    <tr>\n",
              "      <td>160</td>\n",
              "      <td>0.034500</td>\n",
              "      <td>0.155264</td>\n",
              "      <td>0.972500</td>\n",
              "    </tr>\n",
              "    <tr>\n",
              "      <td>170</td>\n",
              "      <td>0.195100</td>\n",
              "      <td>0.150778</td>\n",
              "      <td>0.975000</td>\n",
              "    </tr>\n",
              "    <tr>\n",
              "      <td>180</td>\n",
              "      <td>0.173100</td>\n",
              "      <td>0.092415</td>\n",
              "      <td>0.980000</td>\n",
              "    </tr>\n",
              "    <tr>\n",
              "      <td>190</td>\n",
              "      <td>0.055300</td>\n",
              "      <td>0.079829</td>\n",
              "      <td>0.982500</td>\n",
              "    </tr>\n",
              "    <tr>\n",
              "      <td>200</td>\n",
              "      <td>0.088600</td>\n",
              "      <td>0.062742</td>\n",
              "      <td>0.987500</td>\n",
              "    </tr>\n",
              "  </tbody>\n",
              "</table><p>"
            ],
            "text/plain": [
              "<IPython.core.display.HTML object>"
            ]
          },
          "metadata": {}
        },
        {
          "output_type": "stream",
          "name": "stderr",
          "text": [
            "The following columns in the evaluation set  don't have a corresponding argument in `Wav2Vec2ForSpeechClassification.forward` and have been ignored: File Name, Sex, path.\n",
            "***** Running Evaluation *****\n",
            "  Num examples = 400\n",
            "  Batch size = 4\n",
            "Saving model checkpoint to /content/wav2vec2/Sex/checkpoint-10\n",
            "Configuration saved in /content/wav2vec2/Sex/checkpoint-10/config.json\n",
            "Model weights saved in /content/wav2vec2/Sex/checkpoint-10/pytorch_model.bin\n",
            "Configuration saved in /content/wav2vec2/Sex/checkpoint-10/preprocessor_config.json\n",
            "The following columns in the evaluation set  don't have a corresponding argument in `Wav2Vec2ForSpeechClassification.forward` and have been ignored: File Name, Sex, path.\n",
            "***** Running Evaluation *****\n",
            "  Num examples = 400\n",
            "  Batch size = 4\n",
            "Saving model checkpoint to /content/wav2vec2/Sex/checkpoint-20\n",
            "Configuration saved in /content/wav2vec2/Sex/checkpoint-20/config.json\n",
            "Model weights saved in /content/wav2vec2/Sex/checkpoint-20/pytorch_model.bin\n",
            "Configuration saved in /content/wav2vec2/Sex/checkpoint-20/preprocessor_config.json\n",
            "The following columns in the evaluation set  don't have a corresponding argument in `Wav2Vec2ForSpeechClassification.forward` and have been ignored: File Name, Sex, path.\n",
            "***** Running Evaluation *****\n",
            "  Num examples = 400\n",
            "  Batch size = 4\n",
            "Saving model checkpoint to /content/wav2vec2/Sex/checkpoint-30\n",
            "Configuration saved in /content/wav2vec2/Sex/checkpoint-30/config.json\n",
            "Model weights saved in /content/wav2vec2/Sex/checkpoint-30/pytorch_model.bin\n",
            "Configuration saved in /content/wav2vec2/Sex/checkpoint-30/preprocessor_config.json\n",
            "Deleting older checkpoint [/content/wav2vec2/Sex/checkpoint-10] due to args.save_total_limit\n",
            "The following columns in the evaluation set  don't have a corresponding argument in `Wav2Vec2ForSpeechClassification.forward` and have been ignored: File Name, Sex, path.\n",
            "***** Running Evaluation *****\n",
            "  Num examples = 400\n",
            "  Batch size = 4\n",
            "Saving model checkpoint to /content/wav2vec2/Sex/checkpoint-40\n",
            "Configuration saved in /content/wav2vec2/Sex/checkpoint-40/config.json\n",
            "Model weights saved in /content/wav2vec2/Sex/checkpoint-40/pytorch_model.bin\n",
            "Configuration saved in /content/wav2vec2/Sex/checkpoint-40/preprocessor_config.json\n",
            "Deleting older checkpoint [/content/wav2vec2/Sex/checkpoint-20] due to args.save_total_limit\n",
            "The following columns in the evaluation set  don't have a corresponding argument in `Wav2Vec2ForSpeechClassification.forward` and have been ignored: File Name, Sex, path.\n",
            "***** Running Evaluation *****\n",
            "  Num examples = 400\n",
            "  Batch size = 4\n",
            "Saving model checkpoint to /content/wav2vec2/Sex/checkpoint-50\n",
            "Configuration saved in /content/wav2vec2/Sex/checkpoint-50/config.json\n",
            "Model weights saved in /content/wav2vec2/Sex/checkpoint-50/pytorch_model.bin\n",
            "Configuration saved in /content/wav2vec2/Sex/checkpoint-50/preprocessor_config.json\n",
            "Deleting older checkpoint [/content/wav2vec2/Sex/checkpoint-30] due to args.save_total_limit\n",
            "The following columns in the evaluation set  don't have a corresponding argument in `Wav2Vec2ForSpeechClassification.forward` and have been ignored: File Name, Sex, path.\n",
            "***** Running Evaluation *****\n",
            "  Num examples = 400\n",
            "  Batch size = 4\n",
            "Saving model checkpoint to /content/wav2vec2/Sex/checkpoint-60\n",
            "Configuration saved in /content/wav2vec2/Sex/checkpoint-60/config.json\n",
            "Model weights saved in /content/wav2vec2/Sex/checkpoint-60/pytorch_model.bin\n",
            "Configuration saved in /content/wav2vec2/Sex/checkpoint-60/preprocessor_config.json\n",
            "Deleting older checkpoint [/content/wav2vec2/Sex/checkpoint-40] due to args.save_total_limit\n",
            "The following columns in the evaluation set  don't have a corresponding argument in `Wav2Vec2ForSpeechClassification.forward` and have been ignored: File Name, Sex, path.\n",
            "***** Running Evaluation *****\n",
            "  Num examples = 400\n",
            "  Batch size = 4\n",
            "Saving model checkpoint to /content/wav2vec2/Sex/checkpoint-70\n",
            "Configuration saved in /content/wav2vec2/Sex/checkpoint-70/config.json\n",
            "Model weights saved in /content/wav2vec2/Sex/checkpoint-70/pytorch_model.bin\n",
            "Configuration saved in /content/wav2vec2/Sex/checkpoint-70/preprocessor_config.json\n",
            "Deleting older checkpoint [/content/wav2vec2/Sex/checkpoint-50] due to args.save_total_limit\n",
            "The following columns in the evaluation set  don't have a corresponding argument in `Wav2Vec2ForSpeechClassification.forward` and have been ignored: File Name, Sex, path.\n",
            "***** Running Evaluation *****\n",
            "  Num examples = 400\n",
            "  Batch size = 4\n",
            "Saving model checkpoint to /content/wav2vec2/Sex/checkpoint-80\n",
            "Configuration saved in /content/wav2vec2/Sex/checkpoint-80/config.json\n",
            "Model weights saved in /content/wav2vec2/Sex/checkpoint-80/pytorch_model.bin\n",
            "Configuration saved in /content/wav2vec2/Sex/checkpoint-80/preprocessor_config.json\n",
            "Deleting older checkpoint [/content/wav2vec2/Sex/checkpoint-60] due to args.save_total_limit\n",
            "The following columns in the evaluation set  don't have a corresponding argument in `Wav2Vec2ForSpeechClassification.forward` and have been ignored: File Name, Sex, path.\n",
            "***** Running Evaluation *****\n",
            "  Num examples = 400\n",
            "  Batch size = 4\n",
            "Saving model checkpoint to /content/wav2vec2/Sex/checkpoint-90\n",
            "Configuration saved in /content/wav2vec2/Sex/checkpoint-90/config.json\n",
            "Model weights saved in /content/wav2vec2/Sex/checkpoint-90/pytorch_model.bin\n",
            "Configuration saved in /content/wav2vec2/Sex/checkpoint-90/preprocessor_config.json\n",
            "Deleting older checkpoint [/content/wav2vec2/Sex/checkpoint-70] due to args.save_total_limit\n",
            "The following columns in the evaluation set  don't have a corresponding argument in `Wav2Vec2ForSpeechClassification.forward` and have been ignored: File Name, Sex, path.\n",
            "***** Running Evaluation *****\n",
            "  Num examples = 400\n",
            "  Batch size = 4\n",
            "Saving model checkpoint to /content/wav2vec2/Sex/checkpoint-100\n",
            "Configuration saved in /content/wav2vec2/Sex/checkpoint-100/config.json\n",
            "Model weights saved in /content/wav2vec2/Sex/checkpoint-100/pytorch_model.bin\n",
            "Configuration saved in /content/wav2vec2/Sex/checkpoint-100/preprocessor_config.json\n",
            "Deleting older checkpoint [/content/wav2vec2/Sex/checkpoint-80] due to args.save_total_limit\n",
            "The following columns in the evaluation set  don't have a corresponding argument in `Wav2Vec2ForSpeechClassification.forward` and have been ignored: File Name, Sex, path.\n",
            "***** Running Evaluation *****\n",
            "  Num examples = 400\n",
            "  Batch size = 4\n",
            "Saving model checkpoint to /content/wav2vec2/Sex/checkpoint-110\n",
            "Configuration saved in /content/wav2vec2/Sex/checkpoint-110/config.json\n",
            "Model weights saved in /content/wav2vec2/Sex/checkpoint-110/pytorch_model.bin\n",
            "Configuration saved in /content/wav2vec2/Sex/checkpoint-110/preprocessor_config.json\n",
            "Deleting older checkpoint [/content/wav2vec2/Sex/checkpoint-90] due to args.save_total_limit\n",
            "The following columns in the evaluation set  don't have a corresponding argument in `Wav2Vec2ForSpeechClassification.forward` and have been ignored: File Name, Sex, path.\n",
            "***** Running Evaluation *****\n",
            "  Num examples = 400\n",
            "  Batch size = 4\n",
            "Saving model checkpoint to /content/wav2vec2/Sex/checkpoint-120\n",
            "Configuration saved in /content/wav2vec2/Sex/checkpoint-120/config.json\n",
            "Model weights saved in /content/wav2vec2/Sex/checkpoint-120/pytorch_model.bin\n",
            "Configuration saved in /content/wav2vec2/Sex/checkpoint-120/preprocessor_config.json\n",
            "Deleting older checkpoint [/content/wav2vec2/Sex/checkpoint-100] due to args.save_total_limit\n",
            "The following columns in the evaluation set  don't have a corresponding argument in `Wav2Vec2ForSpeechClassification.forward` and have been ignored: File Name, Sex, path.\n",
            "***** Running Evaluation *****\n",
            "  Num examples = 400\n",
            "  Batch size = 4\n",
            "Saving model checkpoint to /content/wav2vec2/Sex/checkpoint-130\n",
            "Configuration saved in /content/wav2vec2/Sex/checkpoint-130/config.json\n",
            "Model weights saved in /content/wav2vec2/Sex/checkpoint-130/pytorch_model.bin\n",
            "Configuration saved in /content/wav2vec2/Sex/checkpoint-130/preprocessor_config.json\n",
            "Deleting older checkpoint [/content/wav2vec2/Sex/checkpoint-110] due to args.save_total_limit\n",
            "The following columns in the evaluation set  don't have a corresponding argument in `Wav2Vec2ForSpeechClassification.forward` and have been ignored: File Name, Sex, path.\n",
            "***** Running Evaluation *****\n",
            "  Num examples = 400\n",
            "  Batch size = 4\n",
            "Saving model checkpoint to /content/wav2vec2/Sex/checkpoint-140\n",
            "Configuration saved in /content/wav2vec2/Sex/checkpoint-140/config.json\n",
            "Model weights saved in /content/wav2vec2/Sex/checkpoint-140/pytorch_model.bin\n",
            "Configuration saved in /content/wav2vec2/Sex/checkpoint-140/preprocessor_config.json\n",
            "Deleting older checkpoint [/content/wav2vec2/Sex/checkpoint-120] due to args.save_total_limit\n",
            "The following columns in the evaluation set  don't have a corresponding argument in `Wav2Vec2ForSpeechClassification.forward` and have been ignored: File Name, Sex, path.\n",
            "***** Running Evaluation *****\n",
            "  Num examples = 400\n",
            "  Batch size = 4\n",
            "Saving model checkpoint to /content/wav2vec2/Sex/checkpoint-150\n",
            "Configuration saved in /content/wav2vec2/Sex/checkpoint-150/config.json\n",
            "Model weights saved in /content/wav2vec2/Sex/checkpoint-150/pytorch_model.bin\n",
            "Configuration saved in /content/wav2vec2/Sex/checkpoint-150/preprocessor_config.json\n",
            "Deleting older checkpoint [/content/wav2vec2/Sex/checkpoint-130] due to args.save_total_limit\n",
            "The following columns in the evaluation set  don't have a corresponding argument in `Wav2Vec2ForSpeechClassification.forward` and have been ignored: File Name, Sex, path.\n",
            "***** Running Evaluation *****\n",
            "  Num examples = 400\n",
            "  Batch size = 4\n",
            "Saving model checkpoint to /content/wav2vec2/Sex/checkpoint-160\n",
            "Configuration saved in /content/wav2vec2/Sex/checkpoint-160/config.json\n",
            "Model weights saved in /content/wav2vec2/Sex/checkpoint-160/pytorch_model.bin\n",
            "Configuration saved in /content/wav2vec2/Sex/checkpoint-160/preprocessor_config.json\n",
            "Deleting older checkpoint [/content/wav2vec2/Sex/checkpoint-140] due to args.save_total_limit\n",
            "The following columns in the evaluation set  don't have a corresponding argument in `Wav2Vec2ForSpeechClassification.forward` and have been ignored: File Name, Sex, path.\n",
            "***** Running Evaluation *****\n",
            "  Num examples = 400\n",
            "  Batch size = 4\n",
            "Saving model checkpoint to /content/wav2vec2/Sex/checkpoint-170\n",
            "Configuration saved in /content/wav2vec2/Sex/checkpoint-170/config.json\n",
            "Model weights saved in /content/wav2vec2/Sex/checkpoint-170/pytorch_model.bin\n",
            "Configuration saved in /content/wav2vec2/Sex/checkpoint-170/preprocessor_config.json\n",
            "Deleting older checkpoint [/content/wav2vec2/Sex/checkpoint-150] due to args.save_total_limit\n",
            "The following columns in the evaluation set  don't have a corresponding argument in `Wav2Vec2ForSpeechClassification.forward` and have been ignored: File Name, Sex, path.\n",
            "***** Running Evaluation *****\n",
            "  Num examples = 400\n",
            "  Batch size = 4\n",
            "Saving model checkpoint to /content/wav2vec2/Sex/checkpoint-180\n",
            "Configuration saved in /content/wav2vec2/Sex/checkpoint-180/config.json\n",
            "Model weights saved in /content/wav2vec2/Sex/checkpoint-180/pytorch_model.bin\n",
            "Configuration saved in /content/wav2vec2/Sex/checkpoint-180/preprocessor_config.json\n",
            "Deleting older checkpoint [/content/wav2vec2/Sex/checkpoint-160] due to args.save_total_limit\n",
            "The following columns in the evaluation set  don't have a corresponding argument in `Wav2Vec2ForSpeechClassification.forward` and have been ignored: File Name, Sex, path.\n",
            "***** Running Evaluation *****\n",
            "  Num examples = 400\n",
            "  Batch size = 4\n",
            "Saving model checkpoint to /content/wav2vec2/Sex/checkpoint-190\n",
            "Configuration saved in /content/wav2vec2/Sex/checkpoint-190/config.json\n",
            "Model weights saved in /content/wav2vec2/Sex/checkpoint-190/pytorch_model.bin\n",
            "Configuration saved in /content/wav2vec2/Sex/checkpoint-190/preprocessor_config.json\n",
            "Deleting older checkpoint [/content/wav2vec2/Sex/checkpoint-170] due to args.save_total_limit\n",
            "The following columns in the evaluation set  don't have a corresponding argument in `Wav2Vec2ForSpeechClassification.forward` and have been ignored: File Name, Sex, path.\n",
            "***** Running Evaluation *****\n",
            "  Num examples = 400\n",
            "  Batch size = 4\n",
            "Saving model checkpoint to /content/wav2vec2/Sex/checkpoint-200\n",
            "Configuration saved in /content/wav2vec2/Sex/checkpoint-200/config.json\n",
            "Model weights saved in /content/wav2vec2/Sex/checkpoint-200/pytorch_model.bin\n",
            "Configuration saved in /content/wav2vec2/Sex/checkpoint-200/preprocessor_config.json\n",
            "Deleting older checkpoint [/content/wav2vec2/Sex/checkpoint-180] due to args.save_total_limit\n",
            "\n",
            "\n",
            "Training completed. Do not forget to share your model on huggingface.co/models =)\n",
            "\n",
            "\n"
          ]
        },
        {
          "output_type": "execute_result",
          "data": {
            "text/plain": [
              "TrainOutput(global_step=200, training_loss=0.24121755450963975, metrics={'train_runtime': 3857.5815, 'train_samples_per_second': 0.415, 'train_steps_per_second': 0.052, 'total_flos': 1.6014198268125286e+17, 'train_loss': 0.24121755450963975, 'epoch': 1.0})"
            ]
          },
          "metadata": {},
          "execution_count": 39
        }
      ]
    },
    {
      "cell_type": "markdown",
      "metadata": {
        "id": "3prIN9eiMBHo"
      },
      "source": [
        "The training loss goes down and we can see that the Acurracy on the test set also improves nicely. Because this notebook is just for demonstration purposes, we can stop here.\n",
        "\n",
        "The resulting model of this notebook has been saved to [m3hrdadfi/wav2vec2-xlsr-greek-speech-emotion-recognition](https://huggingface.co/m3hrdadfi/wav2vec2-xlsr-greek-speech-emotion-recognition)\n",
        "\n",
        "As a final check, let's load the model and verify that it indeed has learned to recognize the emotion in the speech.\n",
        "\n",
        "Let's first load the pretrained checkpoint."
      ]
    },
    {
      "cell_type": "markdown",
      "metadata": {
        "id": "VsaOTx_FVm0i"
      },
      "source": [
        "## Evaluation"
      ]
    },
    {
      "cell_type": "code",
      "metadata": {
        "id": "4tGNY7hRXO44"
      },
      "source": [
        "import librosa\n",
        "from sklearn.metrics import classification_report"
      ],
      "execution_count": null,
      "outputs": []
    },
    {
      "cell_type": "code",
      "metadata": {
        "id": "IYxg1Tfo2VUw"
      },
      "source": [
        "test_dataset = load_dataset(\"csv\", data_files={\"test\": \"/content/data/test.csv\"}, delimiter=\"\\t\")[\"test\"]\n",
        "test_dataset"
      ],
      "execution_count": null,
      "outputs": []
    },
    {
      "cell_type": "code",
      "metadata": {
        "id": "QgZFkMDHW_Um"
      },
      "source": [
        "device = torch.device(\"cuda\" if torch.cuda.is_available() else \"cpu\")\n",
        "print(f\"Device: {device}\")"
      ],
      "execution_count": null,
      "outputs": []
    },
    {
      "cell_type": "code",
      "metadata": {
        "id": "-ESFEXeaWgua"
      },
      "source": [
        "model_name_or_path = \"m3hrdadfi/wav2vec2-xlsr-greek-speech-emotion-recognition\"\n",
        "config = AutoConfig.from_pretrained(model_name_or_path)\n",
        "processor = Wav2Vec2Processor.from_pretrained(model_name_or_path)\n",
        "model = Wav2Vec2ForSpeechClassification.from_pretrained(model_name_or_path).to(device)"
      ],
      "execution_count": null,
      "outputs": []
    },
    {
      "cell_type": "code",
      "metadata": {
        "id": "BkEd4w8IV7kZ"
      },
      "source": [
        "def speech_file_to_array_fn(batch):\n",
        "    speech_array, sampling_rate = torchaudio.load(batch[\"path\"])\n",
        "    speech_array = speech_array.squeeze().numpy()\n",
        "    speech_array = librosa.resample(np.asarray(speech_array), sampling_rate, processor.feature_extractor.sampling_rate)\n",
        "\n",
        "    batch[\"speech\"] = speech_array\n",
        "    return batch\n",
        "\n",
        "\n",
        "def predict(batch):\n",
        "    features = processor(batch[\"speech\"], sampling_rate=processor.feature_extractor.sampling_rate, return_tensors=\"pt\", padding=True)\n",
        "\n",
        "    input_values = features.input_values.to(device)\n",
        "    attention_mask = features.attention_mask.to(device)\n",
        "\n",
        "    with torch.no_grad():\n",
        "        logits = model(input_values, attention_mask=attention_mask).logits \n",
        "\n",
        "    pred_ids = torch.argmax(logits, dim=-1).detach().cpu().numpy()\n",
        "    batch[\"predicted\"] = pred_ids\n",
        "    return batch"
      ],
      "execution_count": null,
      "outputs": []
    },
    {
      "cell_type": "code",
      "metadata": {
        "id": "S4P6P6XwW85p"
      },
      "source": [
        "test_dataset = test_dataset.map(speech_file_to_array_fn)"
      ],
      "execution_count": null,
      "outputs": []
    },
    {
      "cell_type": "code",
      "metadata": {
        "id": "K_oZJzHsXKHv"
      },
      "source": [
        "result = test_dataset.map(predict, batched=True, batch_size=8)"
      ],
      "execution_count": null,
      "outputs": []
    },
    {
      "cell_type": "code",
      "metadata": {
        "id": "BnfJLZvAaxTo"
      },
      "source": [
        "label_names = [config.id2label[i] for i in range(config.num_labels)]\n",
        "label_names"
      ],
      "execution_count": null,
      "outputs": []
    },
    {
      "cell_type": "code",
      "metadata": {
        "id": "vRtajzvTabeH"
      },
      "source": [
        "y_true = [config.label2id[name] for name in result[\"emotion\"]]\n",
        "y_pred = result[\"predicted\"]\n",
        "\n",
        "print(y_true[:5])\n",
        "print(y_pred[:5])"
      ],
      "execution_count": null,
      "outputs": []
    },
    {
      "cell_type": "code",
      "metadata": {
        "id": "tUt5rIppXrzl"
      },
      "source": [
        "print(classification_report(y_true, y_pred, target_names=label_names))"
      ],
      "execution_count": null,
      "outputs": []
    },
    {
      "cell_type": "markdown",
      "metadata": {
        "id": "Ylb2Z6Xke2ro"
      },
      "source": [
        "# Prediction"
      ]
    },
    {
      "cell_type": "code",
      "metadata": {
        "id": "EQzCioPhWIiX"
      },
      "source": [
        "import torch\n",
        "import torch.nn as nn\n",
        "import torch.nn.functional as F\n",
        "import torchaudio\n",
        "from transformers import AutoConfig, Wav2Vec2Processor\n",
        "\n",
        "import librosa\n",
        "import IPython.display as ipd\n",
        "import numpy as np\n",
        "import pandas as pd"
      ],
      "execution_count": null,
      "outputs": []
    },
    {
      "cell_type": "code",
      "metadata": {
        "id": "DocavTvQWIr_"
      },
      "source": [
        "device = torch.device(\"cuda\" if torch.cuda.is_available() else \"cpu\")\n",
        "model_name_or_path = \"m3hrdadfi/wav2vec2-xlsr-greek-speech-emotion-recognition\"\n",
        "config = AutoConfig.from_pretrained(model_name_or_path)\n",
        "processor = Wav2Vec2Processor.from_pretrained(model_name_or_path)\n",
        "sampling_rate = processor.feature_extractor.sampling_rate\n",
        "model = Wav2Vec2ForSpeechClassification.from_pretrained(model_name_or_path).to(device)"
      ],
      "execution_count": null,
      "outputs": []
    },
    {
      "cell_type": "code",
      "metadata": {
        "id": "1SSs95o9WIvK"
      },
      "source": [
        "def speech_file_to_array_fn(path, sampling_rate):\n",
        "    speech_array, _sampling_rate = torchaudio.load(path)\n",
        "    resampler = torchaudio.transforms.Resample(_sampling_rate)\n",
        "    speech = resampler(speech_array).squeeze().numpy()\n",
        "    return speech\n",
        "\n",
        "\n",
        "def predict(path, sampling_rate):\n",
        "    speech = speech_file_to_array_fn(path, sampling_rate)\n",
        "    features = processor(speech, sampling_rate=sampling_rate, return_tensors=\"pt\", padding=True)\n",
        "\n",
        "    input_values = features.input_values.to(device)\n",
        "    attention_mask = features.attention_mask.to(device)\n",
        "\n",
        "    with torch.no_grad():\n",
        "        logits = model(input_values, attention_mask=attention_mask).logits\n",
        "\n",
        "    scores = F.softmax(logits, dim=1).detach().cpu().numpy()[0]\n",
        "    outputs = [{\"Emotion\": config.id2label[i], \"Score\": f\"{round(score * 100, 3):.1f}%\"} for i, score in enumerate(scores)]\n",
        "    return outputs\n",
        "\n",
        "\n",
        "STYLES = \"\"\"\n",
        "<style>\n",
        "div.display_data {\n",
        "    margin: 0 auto;\n",
        "    max-width: 500px;\n",
        "}\n",
        "table.xxx {\n",
        "    margin: 50px !important;\n",
        "    float: right !important;\n",
        "    clear: both !important;\n",
        "}\n",
        "table.xxx td {\n",
        "    min-width: 300px !important;\n",
        "    text-align: center !important;\n",
        "}\n",
        "</style>\n",
        "\"\"\".strip()\n",
        "\n",
        "def prediction(df_row):\n",
        "    path, emotion = df_row[\"path\"], df_row[\"emotion\"]\n",
        "    df = pd.DataFrame([{\"Emotion\": emotion, \"Sentence\": \"    \"}])\n",
        "    setup = {\n",
        "        'border': 2,\n",
        "        'show_dimensions': True,\n",
        "        'justify': 'center',\n",
        "        'classes': 'xxx',\n",
        "        'escape': False,\n",
        "    }\n",
        "    ipd.display(ipd.HTML(STYLES + df.to_html(**setup) + \"<br />\"))\n",
        "    speech, sr = torchaudio.load(path)\n",
        "    speech = speech[0].numpy().squeeze()\n",
        "    speech = librosa.resample(np.asarray(speech), sr, sampling_rate)\n",
        "    ipd.display(ipd.Audio(data=np.asarray(speech), autoplay=True, rate=sampling_rate))\n",
        "\n",
        "    outputs = predict(path, sampling_rate)\n",
        "    r = pd.DataFrame(outputs)\n",
        "    ipd.display(ipd.HTML(STYLES + r.to_html(**setup) + \"<br />\"))"
      ],
      "execution_count": null,
      "outputs": []
    },
    {
      "cell_type": "code",
      "metadata": {
        "id": "UD7oUP20YwYT"
      },
      "source": [
        "test = pd.read_csv(\"/content/data/test.csv\", sep=\"\\t\")\n",
        "test.head()"
      ],
      "execution_count": null,
      "outputs": []
    },
    {
      "cell_type": "code",
      "metadata": {
        "id": "FlJO2LfVWIyT"
      },
      "source": [
        "prediction(test.iloc[0])"
      ],
      "execution_count": null,
      "outputs": []
    },
    {
      "cell_type": "code",
      "metadata": {
        "id": "hzoKOgpoWI1K"
      },
      "source": [
        "prediction(test.iloc[1])"
      ],
      "execution_count": null,
      "outputs": []
    },
    {
      "cell_type": "code",
      "metadata": {
        "id": "7nqwbTTXSfMO"
      },
      "source": [
        "prediction(test.iloc[2])"
      ],
      "execution_count": null,
      "outputs": []
    }
  ]
}