{
  "nbformat": 4,
  "nbformat_minor": 0,
  "metadata": {
    "colab": {
      "name": "Emotions_Wav2Vec2.ipynb",
      "provenance": [],
      "collapsed_sections": []
    },
    "kernelspec": {
      "name": "python3",
      "display_name": "Python 3"
    },
    "language_info": {
      "name": "python"
    },
    "widgets": {
      "application/vnd.jupyter.widget-state+json": {
        "2d9180f79f224ad7ba9aa9b4c5f77e20": {
          "model_module": "@jupyter-widgets/controls",
          "model_name": "HBoxModel",
          "model_module_version": "1.5.0",
          "state": {
            "_view_name": "HBoxView",
            "_dom_classes": [],
            "_model_name": "HBoxModel",
            "_view_module": "@jupyter-widgets/controls",
            "_model_module_version": "1.5.0",
            "_view_count": null,
            "_view_module_version": "1.5.0",
            "box_style": "",
            "layout": "IPY_MODEL_f91411abb2e54d04814804e60739841d",
            "_model_module": "@jupyter-widgets/controls",
            "children": [
              "IPY_MODEL_697a795304664ae794899babaabbcea9",
              "IPY_MODEL_e700f647296643ceaab209e5b67896c8",
              "IPY_MODEL_58354c1857ba47c08e86f02d21d8fceb"
            ]
          }
        },
        "f91411abb2e54d04814804e60739841d": {
          "model_module": "@jupyter-widgets/base",
          "model_name": "LayoutModel",
          "model_module_version": "1.2.0",
          "state": {
            "_view_name": "LayoutView",
            "grid_template_rows": null,
            "right": null,
            "justify_content": null,
            "_view_module": "@jupyter-widgets/base",
            "overflow": null,
            "_model_module_version": "1.2.0",
            "_view_count": null,
            "flex_flow": null,
            "width": null,
            "min_width": null,
            "border": null,
            "align_items": null,
            "bottom": null,
            "_model_module": "@jupyter-widgets/base",
            "top": null,
            "grid_column": null,
            "overflow_y": null,
            "overflow_x": null,
            "grid_auto_flow": null,
            "grid_area": null,
            "grid_template_columns": null,
            "flex": null,
            "_model_name": "LayoutModel",
            "justify_items": null,
            "grid_row": null,
            "max_height": null,
            "align_content": null,
            "visibility": null,
            "align_self": null,
            "height": null,
            "min_height": null,
            "padding": null,
            "grid_auto_rows": null,
            "grid_gap": null,
            "max_width": null,
            "order": null,
            "_view_module_version": "1.2.0",
            "grid_template_areas": null,
            "object_position": null,
            "object_fit": null,
            "grid_auto_columns": null,
            "margin": null,
            "display": null,
            "left": null
          }
        },
        "697a795304664ae794899babaabbcea9": {
          "model_module": "@jupyter-widgets/controls",
          "model_name": "HTMLModel",
          "model_module_version": "1.5.0",
          "state": {
            "_view_name": "HTMLView",
            "style": "IPY_MODEL_e775e9fc6dc243d9bfcaca611fedfa76",
            "_dom_classes": [],
            "description": "",
            "_model_name": "HTMLModel",
            "placeholder": "​",
            "_view_module": "@jupyter-widgets/controls",
            "_model_module_version": "1.5.0",
            "value": "100%",
            "_view_count": null,
            "_view_module_version": "1.5.0",
            "description_tooltip": null,
            "_model_module": "@jupyter-widgets/controls",
            "layout": "IPY_MODEL_08ce275f7d394416816d011561c792af"
          }
        },
        "e700f647296643ceaab209e5b67896c8": {
          "model_module": "@jupyter-widgets/controls",
          "model_name": "FloatProgressModel",
          "model_module_version": "1.5.0",
          "state": {
            "_view_name": "ProgressView",
            "style": "IPY_MODEL_f27f986cf95841b98cc99a98a2555306",
            "_dom_classes": [],
            "description": "",
            "_model_name": "FloatProgressModel",
            "bar_style": "success",
            "max": 2,
            "_view_module": "@jupyter-widgets/controls",
            "_model_module_version": "1.5.0",
            "value": 2,
            "_view_count": null,
            "_view_module_version": "1.5.0",
            "orientation": "horizontal",
            "min": 0,
            "description_tooltip": null,
            "_model_module": "@jupyter-widgets/controls",
            "layout": "IPY_MODEL_3d0607bf05bb44ecbc11c2353c57f82f"
          }
        },
        "58354c1857ba47c08e86f02d21d8fceb": {
          "model_module": "@jupyter-widgets/controls",
          "model_name": "HTMLModel",
          "model_module_version": "1.5.0",
          "state": {
            "_view_name": "HTMLView",
            "style": "IPY_MODEL_cb7bc259278e4a919e97e8b8dadc6307",
            "_dom_classes": [],
            "description": "",
            "_model_name": "HTMLModel",
            "placeholder": "​",
            "_view_module": "@jupyter-widgets/controls",
            "_model_module_version": "1.5.0",
            "value": " 2/2 [00:00&lt;00:00,  5.91it/s]",
            "_view_count": null,
            "_view_module_version": "1.5.0",
            "description_tooltip": null,
            "_model_module": "@jupyter-widgets/controls",
            "layout": "IPY_MODEL_6d65bb352e02434ab45a2d7ff99e22fc"
          }
        },
        "e775e9fc6dc243d9bfcaca611fedfa76": {
          "model_module": "@jupyter-widgets/controls",
          "model_name": "DescriptionStyleModel",
          "model_module_version": "1.5.0",
          "state": {
            "_view_name": "StyleView",
            "_model_name": "DescriptionStyleModel",
            "description_width": "",
            "_view_module": "@jupyter-widgets/base",
            "_model_module_version": "1.5.0",
            "_view_count": null,
            "_view_module_version": "1.2.0",
            "_model_module": "@jupyter-widgets/controls"
          }
        },
        "08ce275f7d394416816d011561c792af": {
          "model_module": "@jupyter-widgets/base",
          "model_name": "LayoutModel",
          "model_module_version": "1.2.0",
          "state": {
            "_view_name": "LayoutView",
            "grid_template_rows": null,
            "right": null,
            "justify_content": null,
            "_view_module": "@jupyter-widgets/base",
            "overflow": null,
            "_model_module_version": "1.2.0",
            "_view_count": null,
            "flex_flow": null,
            "width": null,
            "min_width": null,
            "border": null,
            "align_items": null,
            "bottom": null,
            "_model_module": "@jupyter-widgets/base",
            "top": null,
            "grid_column": null,
            "overflow_y": null,
            "overflow_x": null,
            "grid_auto_flow": null,
            "grid_area": null,
            "grid_template_columns": null,
            "flex": null,
            "_model_name": "LayoutModel",
            "justify_items": null,
            "grid_row": null,
            "max_height": null,
            "align_content": null,
            "visibility": null,
            "align_self": null,
            "height": null,
            "min_height": null,
            "padding": null,
            "grid_auto_rows": null,
            "grid_gap": null,
            "max_width": null,
            "order": null,
            "_view_module_version": "1.2.0",
            "grid_template_areas": null,
            "object_position": null,
            "object_fit": null,
            "grid_auto_columns": null,
            "margin": null,
            "display": null,
            "left": null
          }
        },
        "f27f986cf95841b98cc99a98a2555306": {
          "model_module": "@jupyter-widgets/controls",
          "model_name": "ProgressStyleModel",
          "model_module_version": "1.5.0",
          "state": {
            "_view_name": "StyleView",
            "_model_name": "ProgressStyleModel",
            "description_width": "",
            "_view_module": "@jupyter-widgets/base",
            "_model_module_version": "1.5.0",
            "_view_count": null,
            "_view_module_version": "1.2.0",
            "bar_color": null,
            "_model_module": "@jupyter-widgets/controls"
          }
        },
        "3d0607bf05bb44ecbc11c2353c57f82f": {
          "model_module": "@jupyter-widgets/base",
          "model_name": "LayoutModel",
          "model_module_version": "1.2.0",
          "state": {
            "_view_name": "LayoutView",
            "grid_template_rows": null,
            "right": null,
            "justify_content": null,
            "_view_module": "@jupyter-widgets/base",
            "overflow": null,
            "_model_module_version": "1.2.0",
            "_view_count": null,
            "flex_flow": null,
            "width": null,
            "min_width": null,
            "border": null,
            "align_items": null,
            "bottom": null,
            "_model_module": "@jupyter-widgets/base",
            "top": null,
            "grid_column": null,
            "overflow_y": null,
            "overflow_x": null,
            "grid_auto_flow": null,
            "grid_area": null,
            "grid_template_columns": null,
            "flex": null,
            "_model_name": "LayoutModel",
            "justify_items": null,
            "grid_row": null,
            "max_height": null,
            "align_content": null,
            "visibility": null,
            "align_self": null,
            "height": null,
            "min_height": null,
            "padding": null,
            "grid_auto_rows": null,
            "grid_gap": null,
            "max_width": null,
            "order": null,
            "_view_module_version": "1.2.0",
            "grid_template_areas": null,
            "object_position": null,
            "object_fit": null,
            "grid_auto_columns": null,
            "margin": null,
            "display": null,
            "left": null
          }
        },
        "cb7bc259278e4a919e97e8b8dadc6307": {
          "model_module": "@jupyter-widgets/controls",
          "model_name": "DescriptionStyleModel",
          "model_module_version": "1.5.0",
          "state": {
            "_view_name": "StyleView",
            "_model_name": "DescriptionStyleModel",
            "description_width": "",
            "_view_module": "@jupyter-widgets/base",
            "_model_module_version": "1.5.0",
            "_view_count": null,
            "_view_module_version": "1.2.0",
            "_model_module": "@jupyter-widgets/controls"
          }
        },
        "6d65bb352e02434ab45a2d7ff99e22fc": {
          "model_module": "@jupyter-widgets/base",
          "model_name": "LayoutModel",
          "model_module_version": "1.2.0",
          "state": {
            "_view_name": "LayoutView",
            "grid_template_rows": null,
            "right": null,
            "justify_content": null,
            "_view_module": "@jupyter-widgets/base",
            "overflow": null,
            "_model_module_version": "1.2.0",
            "_view_count": null,
            "flex_flow": null,
            "width": null,
            "min_width": null,
            "border": null,
            "align_items": null,
            "bottom": null,
            "_model_module": "@jupyter-widgets/base",
            "top": null,
            "grid_column": null,
            "overflow_y": null,
            "overflow_x": null,
            "grid_auto_flow": null,
            "grid_area": null,
            "grid_template_columns": null,
            "flex": null,
            "_model_name": "LayoutModel",
            "justify_items": null,
            "grid_row": null,
            "max_height": null,
            "align_content": null,
            "visibility": null,
            "align_self": null,
            "height": null,
            "min_height": null,
            "padding": null,
            "grid_auto_rows": null,
            "grid_gap": null,
            "max_width": null,
            "order": null,
            "_view_module_version": "1.2.0",
            "grid_template_areas": null,
            "object_position": null,
            "object_fit": null,
            "grid_auto_columns": null,
            "margin": null,
            "display": null,
            "left": null
          }
        },
        "f1d1d75906ca4c9388b18ac953b4d8bf": {
          "model_module": "@jupyter-widgets/controls",
          "model_name": "HBoxModel",
          "model_module_version": "1.5.0",
          "state": {
            "_view_name": "HBoxView",
            "_dom_classes": [],
            "_model_name": "HBoxModel",
            "_view_module": "@jupyter-widgets/controls",
            "_model_module_version": "1.5.0",
            "_view_count": null,
            "_view_module_version": "1.5.0",
            "box_style": "",
            "layout": "IPY_MODEL_11bd6774d00a4be598b264ba4c4815a5",
            "_model_module": "@jupyter-widgets/controls",
            "children": [
              "IPY_MODEL_d2b62db94eb74223a511b699878cd469",
              "IPY_MODEL_e394e625f10749e2989dc548ac6f97a3",
              "IPY_MODEL_f8f9e1f6b10b4038b4dc2d4e3ab98bc8"
            ]
          }
        },
        "11bd6774d00a4be598b264ba4c4815a5": {
          "model_module": "@jupyter-widgets/base",
          "model_name": "LayoutModel",
          "model_module_version": "1.2.0",
          "state": {
            "_view_name": "LayoutView",
            "grid_template_rows": null,
            "right": null,
            "justify_content": null,
            "_view_module": "@jupyter-widgets/base",
            "overflow": null,
            "_model_module_version": "1.2.0",
            "_view_count": null,
            "flex_flow": null,
            "width": null,
            "min_width": null,
            "border": null,
            "align_items": null,
            "bottom": null,
            "_model_module": "@jupyter-widgets/base",
            "top": null,
            "grid_column": null,
            "overflow_y": null,
            "overflow_x": null,
            "grid_auto_flow": null,
            "grid_area": null,
            "grid_template_columns": null,
            "flex": null,
            "_model_name": "LayoutModel",
            "justify_items": null,
            "grid_row": null,
            "max_height": null,
            "align_content": null,
            "visibility": null,
            "align_self": null,
            "height": null,
            "min_height": null,
            "padding": null,
            "grid_auto_rows": null,
            "grid_gap": null,
            "max_width": null,
            "order": null,
            "_view_module_version": "1.2.0",
            "grid_template_areas": null,
            "object_position": null,
            "object_fit": null,
            "grid_auto_columns": null,
            "margin": null,
            "display": null,
            "left": null
          }
        },
        "d2b62db94eb74223a511b699878cd469": {
          "model_module": "@jupyter-widgets/controls",
          "model_name": "HTMLModel",
          "model_module_version": "1.5.0",
          "state": {
            "_view_name": "HTMLView",
            "style": "IPY_MODEL_28dc8a1f129f44e8b1270528af96236e",
            "_dom_classes": [],
            "description": "",
            "_model_name": "HTMLModel",
            "placeholder": "​",
            "_view_module": "@jupyter-widgets/controls",
            "_model_module_version": "1.5.0",
            "value": "100%",
            "_view_count": null,
            "_view_module_version": "1.5.0",
            "description_tooltip": null,
            "_model_module": "@jupyter-widgets/controls",
            "layout": "IPY_MODEL_91d6731fc08d48fab4b0ef938b4272a8"
          }
        },
        "e394e625f10749e2989dc548ac6f97a3": {
          "model_module": "@jupyter-widgets/controls",
          "model_name": "FloatProgressModel",
          "model_module_version": "1.5.0",
          "state": {
            "_view_name": "ProgressView",
            "style": "IPY_MODEL_a40352acd81d430fb623f605e372f3d6",
            "_dom_classes": [],
            "description": "",
            "_model_name": "FloatProgressModel",
            "bar_style": "success",
            "max": 2,
            "_view_module": "@jupyter-widgets/controls",
            "_model_module_version": "1.5.0",
            "value": 2,
            "_view_count": null,
            "_view_module_version": "1.5.0",
            "orientation": "horizontal",
            "min": 0,
            "description_tooltip": null,
            "_model_module": "@jupyter-widgets/controls",
            "layout": "IPY_MODEL_43bc23bb517847cbb325153f9b2031b0"
          }
        },
        "f8f9e1f6b10b4038b4dc2d4e3ab98bc8": {
          "model_module": "@jupyter-widgets/controls",
          "model_name": "HTMLModel",
          "model_module_version": "1.5.0",
          "state": {
            "_view_name": "HTMLView",
            "style": "IPY_MODEL_ccef244e56b54190adbda93606edc3a0",
            "_dom_classes": [],
            "description": "",
            "_model_name": "HTMLModel",
            "placeholder": "​",
            "_view_module": "@jupyter-widgets/controls",
            "_model_module_version": "1.5.0",
            "value": " 2/2 [00:00&lt;00:00,  6.52it/s]",
            "_view_count": null,
            "_view_module_version": "1.5.0",
            "description_tooltip": null,
            "_model_module": "@jupyter-widgets/controls",
            "layout": "IPY_MODEL_06d369fe6647423ab2085eef18569bd7"
          }
        },
        "28dc8a1f129f44e8b1270528af96236e": {
          "model_module": "@jupyter-widgets/controls",
          "model_name": "DescriptionStyleModel",
          "model_module_version": "1.5.0",
          "state": {
            "_view_name": "StyleView",
            "_model_name": "DescriptionStyleModel",
            "description_width": "",
            "_view_module": "@jupyter-widgets/base",
            "_model_module_version": "1.5.0",
            "_view_count": null,
            "_view_module_version": "1.2.0",
            "_model_module": "@jupyter-widgets/controls"
          }
        },
        "91d6731fc08d48fab4b0ef938b4272a8": {
          "model_module": "@jupyter-widgets/base",
          "model_name": "LayoutModel",
          "model_module_version": "1.2.0",
          "state": {
            "_view_name": "LayoutView",
            "grid_template_rows": null,
            "right": null,
            "justify_content": null,
            "_view_module": "@jupyter-widgets/base",
            "overflow": null,
            "_model_module_version": "1.2.0",
            "_view_count": null,
            "flex_flow": null,
            "width": null,
            "min_width": null,
            "border": null,
            "align_items": null,
            "bottom": null,
            "_model_module": "@jupyter-widgets/base",
            "top": null,
            "grid_column": null,
            "overflow_y": null,
            "overflow_x": null,
            "grid_auto_flow": null,
            "grid_area": null,
            "grid_template_columns": null,
            "flex": null,
            "_model_name": "LayoutModel",
            "justify_items": null,
            "grid_row": null,
            "max_height": null,
            "align_content": null,
            "visibility": null,
            "align_self": null,
            "height": null,
            "min_height": null,
            "padding": null,
            "grid_auto_rows": null,
            "grid_gap": null,
            "max_width": null,
            "order": null,
            "_view_module_version": "1.2.0",
            "grid_template_areas": null,
            "object_position": null,
            "object_fit": null,
            "grid_auto_columns": null,
            "margin": null,
            "display": null,
            "left": null
          }
        },
        "a40352acd81d430fb623f605e372f3d6": {
          "model_module": "@jupyter-widgets/controls",
          "model_name": "ProgressStyleModel",
          "model_module_version": "1.5.0",
          "state": {
            "_view_name": "StyleView",
            "_model_name": "ProgressStyleModel",
            "description_width": "",
            "_view_module": "@jupyter-widgets/base",
            "_model_module_version": "1.5.0",
            "_view_count": null,
            "_view_module_version": "1.2.0",
            "bar_color": null,
            "_model_module": "@jupyter-widgets/controls"
          }
        },
        "43bc23bb517847cbb325153f9b2031b0": {
          "model_module": "@jupyter-widgets/base",
          "model_name": "LayoutModel",
          "model_module_version": "1.2.0",
          "state": {
            "_view_name": "LayoutView",
            "grid_template_rows": null,
            "right": null,
            "justify_content": null,
            "_view_module": "@jupyter-widgets/base",
            "overflow": null,
            "_model_module_version": "1.2.0",
            "_view_count": null,
            "flex_flow": null,
            "width": null,
            "min_width": null,
            "border": null,
            "align_items": null,
            "bottom": null,
            "_model_module": "@jupyter-widgets/base",
            "top": null,
            "grid_column": null,
            "overflow_y": null,
            "overflow_x": null,
            "grid_auto_flow": null,
            "grid_area": null,
            "grid_template_columns": null,
            "flex": null,
            "_model_name": "LayoutModel",
            "justify_items": null,
            "grid_row": null,
            "max_height": null,
            "align_content": null,
            "visibility": null,
            "align_self": null,
            "height": null,
            "min_height": null,
            "padding": null,
            "grid_auto_rows": null,
            "grid_gap": null,
            "max_width": null,
            "order": null,
            "_view_module_version": "1.2.0",
            "grid_template_areas": null,
            "object_position": null,
            "object_fit": null,
            "grid_auto_columns": null,
            "margin": null,
            "display": null,
            "left": null
          }
        },
        "ccef244e56b54190adbda93606edc3a0": {
          "model_module": "@jupyter-widgets/controls",
          "model_name": "DescriptionStyleModel",
          "model_module_version": "1.5.0",
          "state": {
            "_view_name": "StyleView",
            "_model_name": "DescriptionStyleModel",
            "description_width": "",
            "_view_module": "@jupyter-widgets/base",
            "_model_module_version": "1.5.0",
            "_view_count": null,
            "_view_module_version": "1.2.0",
            "_model_module": "@jupyter-widgets/controls"
          }
        },
        "06d369fe6647423ab2085eef18569bd7": {
          "model_module": "@jupyter-widgets/base",
          "model_name": "LayoutModel",
          "model_module_version": "1.2.0",
          "state": {
            "_view_name": "LayoutView",
            "grid_template_rows": null,
            "right": null,
            "justify_content": null,
            "_view_module": "@jupyter-widgets/base",
            "overflow": null,
            "_model_module_version": "1.2.0",
            "_view_count": null,
            "flex_flow": null,
            "width": null,
            "min_width": null,
            "border": null,
            "align_items": null,
            "bottom": null,
            "_model_module": "@jupyter-widgets/base",
            "top": null,
            "grid_column": null,
            "overflow_y": null,
            "overflow_x": null,
            "grid_auto_flow": null,
            "grid_area": null,
            "grid_template_columns": null,
            "flex": null,
            "_model_name": "LayoutModel",
            "justify_items": null,
            "grid_row": null,
            "max_height": null,
            "align_content": null,
            "visibility": null,
            "align_self": null,
            "height": null,
            "min_height": null,
            "padding": null,
            "grid_auto_rows": null,
            "grid_gap": null,
            "max_width": null,
            "order": null,
            "_view_module_version": "1.2.0",
            "grid_template_areas": null,
            "object_position": null,
            "object_fit": null,
            "grid_auto_columns": null,
            "margin": null,
            "display": null,
            "left": null
          }
        },
        "cf74556a568e4176848fe8301d420119": {
          "model_module": "@jupyter-widgets/controls",
          "model_name": "HBoxModel",
          "model_module_version": "1.5.0",
          "state": {
            "_view_name": "HBoxView",
            "_dom_classes": [],
            "_model_name": "HBoxModel",
            "_view_module": "@jupyter-widgets/controls",
            "_model_module_version": "1.5.0",
            "_view_count": null,
            "_view_module_version": "1.5.0",
            "box_style": "",
            "layout": "IPY_MODEL_0166eb524e314844bc2546506612a68a",
            "_model_module": "@jupyter-widgets/controls",
            "children": [
              "IPY_MODEL_d9108a81ab2241ddb1e48b74d3981022",
              "IPY_MODEL_42d33eea722b4c4a9c7ecb8696854377",
              "IPY_MODEL_45eed52bcb6e4fc9bfacc06679b2d78a"
            ]
          }
        },
        "0166eb524e314844bc2546506612a68a": {
          "model_module": "@jupyter-widgets/base",
          "model_name": "LayoutModel",
          "model_module_version": "1.2.0",
          "state": {
            "_view_name": "LayoutView",
            "grid_template_rows": null,
            "right": null,
            "justify_content": null,
            "_view_module": "@jupyter-widgets/base",
            "overflow": null,
            "_model_module_version": "1.2.0",
            "_view_count": null,
            "flex_flow": null,
            "width": null,
            "min_width": null,
            "border": null,
            "align_items": null,
            "bottom": null,
            "_model_module": "@jupyter-widgets/base",
            "top": null,
            "grid_column": null,
            "overflow_y": null,
            "overflow_x": null,
            "grid_auto_flow": null,
            "grid_area": null,
            "grid_template_columns": null,
            "flex": null,
            "_model_name": "LayoutModel",
            "justify_items": null,
            "grid_row": null,
            "max_height": null,
            "align_content": null,
            "visibility": null,
            "align_self": null,
            "height": null,
            "min_height": null,
            "padding": null,
            "grid_auto_rows": null,
            "grid_gap": null,
            "max_width": null,
            "order": null,
            "_view_module_version": "1.2.0",
            "grid_template_areas": null,
            "object_position": null,
            "object_fit": null,
            "grid_auto_columns": null,
            "margin": null,
            "display": null,
            "left": null
          }
        },
        "d9108a81ab2241ddb1e48b74d3981022": {
          "model_module": "@jupyter-widgets/controls",
          "model_name": "HTMLModel",
          "model_module_version": "1.5.0",
          "state": {
            "_view_name": "HTMLView",
            "style": "IPY_MODEL_1b5539e6eb6e4bdaa9ff314fd7639b05",
            "_dom_classes": [],
            "description": "",
            "_model_name": "HTMLModel",
            "placeholder": "​",
            "_view_module": "@jupyter-widgets/controls",
            "_model_module_version": "1.5.0",
            "value": "100%",
            "_view_count": null,
            "_view_module_version": "1.5.0",
            "description_tooltip": null,
            "_model_module": "@jupyter-widgets/controls",
            "layout": "IPY_MODEL_41a13da88c9245c280bfb620a8a4d6bf"
          }
        },
        "42d33eea722b4c4a9c7ecb8696854377": {
          "model_module": "@jupyter-widgets/controls",
          "model_name": "FloatProgressModel",
          "model_module_version": "1.5.0",
          "state": {
            "_view_name": "ProgressView",
            "style": "IPY_MODEL_f3ff4a49f0314bd5b6d62f5176b0ab14",
            "_dom_classes": [],
            "description": "",
            "_model_name": "FloatProgressModel",
            "bar_style": "success",
            "max": 2,
            "_view_module": "@jupyter-widgets/controls",
            "_model_module_version": "1.5.0",
            "value": 2,
            "_view_count": null,
            "_view_module_version": "1.5.0",
            "orientation": "horizontal",
            "min": 0,
            "description_tooltip": null,
            "_model_module": "@jupyter-widgets/controls",
            "layout": "IPY_MODEL_7149de7550fa4f6d938ce09510a184fd"
          }
        },
        "45eed52bcb6e4fc9bfacc06679b2d78a": {
          "model_module": "@jupyter-widgets/controls",
          "model_name": "HTMLModel",
          "model_module_version": "1.5.0",
          "state": {
            "_view_name": "HTMLView",
            "style": "IPY_MODEL_456d8092ec764383aeb755c406c59057",
            "_dom_classes": [],
            "description": "",
            "_model_name": "HTMLModel",
            "placeholder": "​",
            "_view_module": "@jupyter-widgets/controls",
            "_model_module_version": "1.5.0",
            "value": " 2/2 [00:00&lt;00:00,  7.27it/s]",
            "_view_count": null,
            "_view_module_version": "1.5.0",
            "description_tooltip": null,
            "_model_module": "@jupyter-widgets/controls",
            "layout": "IPY_MODEL_e21fc34af9024596a3c2c9d38b36312d"
          }
        },
        "1b5539e6eb6e4bdaa9ff314fd7639b05": {
          "model_module": "@jupyter-widgets/controls",
          "model_name": "DescriptionStyleModel",
          "model_module_version": "1.5.0",
          "state": {
            "_view_name": "StyleView",
            "_model_name": "DescriptionStyleModel",
            "description_width": "",
            "_view_module": "@jupyter-widgets/base",
            "_model_module_version": "1.5.0",
            "_view_count": null,
            "_view_module_version": "1.2.0",
            "_model_module": "@jupyter-widgets/controls"
          }
        },
        "41a13da88c9245c280bfb620a8a4d6bf": {
          "model_module": "@jupyter-widgets/base",
          "model_name": "LayoutModel",
          "model_module_version": "1.2.0",
          "state": {
            "_view_name": "LayoutView",
            "grid_template_rows": null,
            "right": null,
            "justify_content": null,
            "_view_module": "@jupyter-widgets/base",
            "overflow": null,
            "_model_module_version": "1.2.0",
            "_view_count": null,
            "flex_flow": null,
            "width": null,
            "min_width": null,
            "border": null,
            "align_items": null,
            "bottom": null,
            "_model_module": "@jupyter-widgets/base",
            "top": null,
            "grid_column": null,
            "overflow_y": null,
            "overflow_x": null,
            "grid_auto_flow": null,
            "grid_area": null,
            "grid_template_columns": null,
            "flex": null,
            "_model_name": "LayoutModel",
            "justify_items": null,
            "grid_row": null,
            "max_height": null,
            "align_content": null,
            "visibility": null,
            "align_self": null,
            "height": null,
            "min_height": null,
            "padding": null,
            "grid_auto_rows": null,
            "grid_gap": null,
            "max_width": null,
            "order": null,
            "_view_module_version": "1.2.0",
            "grid_template_areas": null,
            "object_position": null,
            "object_fit": null,
            "grid_auto_columns": null,
            "margin": null,
            "display": null,
            "left": null
          }
        },
        "f3ff4a49f0314bd5b6d62f5176b0ab14": {
          "model_module": "@jupyter-widgets/controls",
          "model_name": "ProgressStyleModel",
          "model_module_version": "1.5.0",
          "state": {
            "_view_name": "StyleView",
            "_model_name": "ProgressStyleModel",
            "description_width": "",
            "_view_module": "@jupyter-widgets/base",
            "_model_module_version": "1.5.0",
            "_view_count": null,
            "_view_module_version": "1.2.0",
            "bar_color": null,
            "_model_module": "@jupyter-widgets/controls"
          }
        },
        "7149de7550fa4f6d938ce09510a184fd": {
          "model_module": "@jupyter-widgets/base",
          "model_name": "LayoutModel",
          "model_module_version": "1.2.0",
          "state": {
            "_view_name": "LayoutView",
            "grid_template_rows": null,
            "right": null,
            "justify_content": null,
            "_view_module": "@jupyter-widgets/base",
            "overflow": null,
            "_model_module_version": "1.2.0",
            "_view_count": null,
            "flex_flow": null,
            "width": null,
            "min_width": null,
            "border": null,
            "align_items": null,
            "bottom": null,
            "_model_module": "@jupyter-widgets/base",
            "top": null,
            "grid_column": null,
            "overflow_y": null,
            "overflow_x": null,
            "grid_auto_flow": null,
            "grid_area": null,
            "grid_template_columns": null,
            "flex": null,
            "_model_name": "LayoutModel",
            "justify_items": null,
            "grid_row": null,
            "max_height": null,
            "align_content": null,
            "visibility": null,
            "align_self": null,
            "height": null,
            "min_height": null,
            "padding": null,
            "grid_auto_rows": null,
            "grid_gap": null,
            "max_width": null,
            "order": null,
            "_view_module_version": "1.2.0",
            "grid_template_areas": null,
            "object_position": null,
            "object_fit": null,
            "grid_auto_columns": null,
            "margin": null,
            "display": null,
            "left": null
          }
        },
        "456d8092ec764383aeb755c406c59057": {
          "model_module": "@jupyter-widgets/controls",
          "model_name": "DescriptionStyleModel",
          "model_module_version": "1.5.0",
          "state": {
            "_view_name": "StyleView",
            "_model_name": "DescriptionStyleModel",
            "description_width": "",
            "_view_module": "@jupyter-widgets/base",
            "_model_module_version": "1.5.0",
            "_view_count": null,
            "_view_module_version": "1.2.0",
            "_model_module": "@jupyter-widgets/controls"
          }
        },
        "e21fc34af9024596a3c2c9d38b36312d": {
          "model_module": "@jupyter-widgets/base",
          "model_name": "LayoutModel",
          "model_module_version": "1.2.0",
          "state": {
            "_view_name": "LayoutView",
            "grid_template_rows": null,
            "right": null,
            "justify_content": null,
            "_view_module": "@jupyter-widgets/base",
            "overflow": null,
            "_model_module_version": "1.2.0",
            "_view_count": null,
            "flex_flow": null,
            "width": null,
            "min_width": null,
            "border": null,
            "align_items": null,
            "bottom": null,
            "_model_module": "@jupyter-widgets/base",
            "top": null,
            "grid_column": null,
            "overflow_y": null,
            "overflow_x": null,
            "grid_auto_flow": null,
            "grid_area": null,
            "grid_template_columns": null,
            "flex": null,
            "_model_name": "LayoutModel",
            "justify_items": null,
            "grid_row": null,
            "max_height": null,
            "align_content": null,
            "visibility": null,
            "align_self": null,
            "height": null,
            "min_height": null,
            "padding": null,
            "grid_auto_rows": null,
            "grid_gap": null,
            "max_width": null,
            "order": null,
            "_view_module_version": "1.2.0",
            "grid_template_areas": null,
            "object_position": null,
            "object_fit": null,
            "grid_auto_columns": null,
            "margin": null,
            "display": null,
            "left": null
          }
        },
        "d91808de24364767a2b7d12b01fdada5": {
          "model_module": "@jupyter-widgets/controls",
          "model_name": "HBoxModel",
          "model_module_version": "1.5.0",
          "state": {
            "_view_name": "HBoxView",
            "_dom_classes": [],
            "_model_name": "HBoxModel",
            "_view_module": "@jupyter-widgets/controls",
            "_model_module_version": "1.5.0",
            "_view_count": null,
            "_view_module_version": "1.5.0",
            "box_style": "",
            "layout": "IPY_MODEL_b8bee9170ca0442b91b458d55030aec1",
            "_model_module": "@jupyter-widgets/controls",
            "children": [
              "IPY_MODEL_7204b74dde6847e1b6a04a82eca9e6d9",
              "IPY_MODEL_6bf7f014b78b40a4a7051d0127cfda4d",
              "IPY_MODEL_330841b5ba294991a604dd3f28c19f0d"
            ]
          }
        },
        "b8bee9170ca0442b91b458d55030aec1": {
          "model_module": "@jupyter-widgets/base",
          "model_name": "LayoutModel",
          "model_module_version": "1.2.0",
          "state": {
            "_view_name": "LayoutView",
            "grid_template_rows": null,
            "right": null,
            "justify_content": null,
            "_view_module": "@jupyter-widgets/base",
            "overflow": null,
            "_model_module_version": "1.2.0",
            "_view_count": null,
            "flex_flow": null,
            "width": null,
            "min_width": null,
            "border": null,
            "align_items": null,
            "bottom": null,
            "_model_module": "@jupyter-widgets/base",
            "top": null,
            "grid_column": null,
            "overflow_y": null,
            "overflow_x": null,
            "grid_auto_flow": null,
            "grid_area": null,
            "grid_template_columns": null,
            "flex": null,
            "_model_name": "LayoutModel",
            "justify_items": null,
            "grid_row": null,
            "max_height": null,
            "align_content": null,
            "visibility": null,
            "align_self": null,
            "height": null,
            "min_height": null,
            "padding": null,
            "grid_auto_rows": null,
            "grid_gap": null,
            "max_width": null,
            "order": null,
            "_view_module_version": "1.2.0",
            "grid_template_areas": null,
            "object_position": null,
            "object_fit": null,
            "grid_auto_columns": null,
            "margin": null,
            "display": null,
            "left": null
          }
        },
        "7204b74dde6847e1b6a04a82eca9e6d9": {
          "model_module": "@jupyter-widgets/controls",
          "model_name": "HTMLModel",
          "model_module_version": "1.5.0",
          "state": {
            "_view_name": "HTMLView",
            "style": "IPY_MODEL_79f0d1813eca40cb8a8d209d1bc546d9",
            "_dom_classes": [],
            "description": "",
            "_model_name": "HTMLModel",
            "placeholder": "​",
            "_view_module": "@jupyter-widgets/controls",
            "_model_module_version": "1.5.0",
            "value": "Downloading: 100%",
            "_view_count": null,
            "_view_module_version": "1.5.0",
            "description_tooltip": null,
            "_model_module": "@jupyter-widgets/controls",
            "layout": "IPY_MODEL_d846dadc4d8d4c09b20aabef1438788a"
          }
        },
        "6bf7f014b78b40a4a7051d0127cfda4d": {
          "model_module": "@jupyter-widgets/controls",
          "model_name": "FloatProgressModel",
          "model_module_version": "1.5.0",
          "state": {
            "_view_name": "ProgressView",
            "style": "IPY_MODEL_7fe8938886bf4476997134b98ea63e74",
            "_dom_classes": [],
            "description": "",
            "_model_name": "FloatProgressModel",
            "bar_style": "success",
            "max": 1606,
            "_view_module": "@jupyter-widgets/controls",
            "_model_module_version": "1.5.0",
            "value": 1606,
            "_view_count": null,
            "_view_module_version": "1.5.0",
            "orientation": "horizontal",
            "min": 0,
            "description_tooltip": null,
            "_model_module": "@jupyter-widgets/controls",
            "layout": "IPY_MODEL_a2a6a42affc845308fd6dfc37ab0eaf1"
          }
        },
        "330841b5ba294991a604dd3f28c19f0d": {
          "model_module": "@jupyter-widgets/controls",
          "model_name": "HTMLModel",
          "model_module_version": "1.5.0",
          "state": {
            "_view_name": "HTMLView",
            "style": "IPY_MODEL_0711b7afb6344822b4d2231a1c0a05dc",
            "_dom_classes": [],
            "description": "",
            "_model_name": "HTMLModel",
            "placeholder": "​",
            "_view_module": "@jupyter-widgets/controls",
            "_model_module_version": "1.5.0",
            "value": " 1.57k/1.57k [00:00&lt;00:00, 7.08kB/s]",
            "_view_count": null,
            "_view_module_version": "1.5.0",
            "description_tooltip": null,
            "_model_module": "@jupyter-widgets/controls",
            "layout": "IPY_MODEL_011600fd1b204f028333418871570020"
          }
        },
        "79f0d1813eca40cb8a8d209d1bc546d9": {
          "model_module": "@jupyter-widgets/controls",
          "model_name": "DescriptionStyleModel",
          "model_module_version": "1.5.0",
          "state": {
            "_view_name": "StyleView",
            "_model_name": "DescriptionStyleModel",
            "description_width": "",
            "_view_module": "@jupyter-widgets/base",
            "_model_module_version": "1.5.0",
            "_view_count": null,
            "_view_module_version": "1.2.0",
            "_model_module": "@jupyter-widgets/controls"
          }
        },
        "d846dadc4d8d4c09b20aabef1438788a": {
          "model_module": "@jupyter-widgets/base",
          "model_name": "LayoutModel",
          "model_module_version": "1.2.0",
          "state": {
            "_view_name": "LayoutView",
            "grid_template_rows": null,
            "right": null,
            "justify_content": null,
            "_view_module": "@jupyter-widgets/base",
            "overflow": null,
            "_model_module_version": "1.2.0",
            "_view_count": null,
            "flex_flow": null,
            "width": null,
            "min_width": null,
            "border": null,
            "align_items": null,
            "bottom": null,
            "_model_module": "@jupyter-widgets/base",
            "top": null,
            "grid_column": null,
            "overflow_y": null,
            "overflow_x": null,
            "grid_auto_flow": null,
            "grid_area": null,
            "grid_template_columns": null,
            "flex": null,
            "_model_name": "LayoutModel",
            "justify_items": null,
            "grid_row": null,
            "max_height": null,
            "align_content": null,
            "visibility": null,
            "align_self": null,
            "height": null,
            "min_height": null,
            "padding": null,
            "grid_auto_rows": null,
            "grid_gap": null,
            "max_width": null,
            "order": null,
            "_view_module_version": "1.2.0",
            "grid_template_areas": null,
            "object_position": null,
            "object_fit": null,
            "grid_auto_columns": null,
            "margin": null,
            "display": null,
            "left": null
          }
        },
        "7fe8938886bf4476997134b98ea63e74": {
          "model_module": "@jupyter-widgets/controls",
          "model_name": "ProgressStyleModel",
          "model_module_version": "1.5.0",
          "state": {
            "_view_name": "StyleView",
            "_model_name": "ProgressStyleModel",
            "description_width": "",
            "_view_module": "@jupyter-widgets/base",
            "_model_module_version": "1.5.0",
            "_view_count": null,
            "_view_module_version": "1.2.0",
            "bar_color": null,
            "_model_module": "@jupyter-widgets/controls"
          }
        },
        "a2a6a42affc845308fd6dfc37ab0eaf1": {
          "model_module": "@jupyter-widgets/base",
          "model_name": "LayoutModel",
          "model_module_version": "1.2.0",
          "state": {
            "_view_name": "LayoutView",
            "grid_template_rows": null,
            "right": null,
            "justify_content": null,
            "_view_module": "@jupyter-widgets/base",
            "overflow": null,
            "_model_module_version": "1.2.0",
            "_view_count": null,
            "flex_flow": null,
            "width": null,
            "min_width": null,
            "border": null,
            "align_items": null,
            "bottom": null,
            "_model_module": "@jupyter-widgets/base",
            "top": null,
            "grid_column": null,
            "overflow_y": null,
            "overflow_x": null,
            "grid_auto_flow": null,
            "grid_area": null,
            "grid_template_columns": null,
            "flex": null,
            "_model_name": "LayoutModel",
            "justify_items": null,
            "grid_row": null,
            "max_height": null,
            "align_content": null,
            "visibility": null,
            "align_self": null,
            "height": null,
            "min_height": null,
            "padding": null,
            "grid_auto_rows": null,
            "grid_gap": null,
            "max_width": null,
            "order": null,
            "_view_module_version": "1.2.0",
            "grid_template_areas": null,
            "object_position": null,
            "object_fit": null,
            "grid_auto_columns": null,
            "margin": null,
            "display": null,
            "left": null
          }
        },
        "0711b7afb6344822b4d2231a1c0a05dc": {
          "model_module": "@jupyter-widgets/controls",
          "model_name": "DescriptionStyleModel",
          "model_module_version": "1.5.0",
          "state": {
            "_view_name": "StyleView",
            "_model_name": "DescriptionStyleModel",
            "description_width": "",
            "_view_module": "@jupyter-widgets/base",
            "_model_module_version": "1.5.0",
            "_view_count": null,
            "_view_module_version": "1.2.0",
            "_model_module": "@jupyter-widgets/controls"
          }
        },
        "011600fd1b204f028333418871570020": {
          "model_module": "@jupyter-widgets/base",
          "model_name": "LayoutModel",
          "model_module_version": "1.2.0",
          "state": {
            "_view_name": "LayoutView",
            "grid_template_rows": null,
            "right": null,
            "justify_content": null,
            "_view_module": "@jupyter-widgets/base",
            "overflow": null,
            "_model_module_version": "1.2.0",
            "_view_count": null,
            "flex_flow": null,
            "width": null,
            "min_width": null,
            "border": null,
            "align_items": null,
            "bottom": null,
            "_model_module": "@jupyter-widgets/base",
            "top": null,
            "grid_column": null,
            "overflow_y": null,
            "overflow_x": null,
            "grid_auto_flow": null,
            "grid_area": null,
            "grid_template_columns": null,
            "flex": null,
            "_model_name": "LayoutModel",
            "justify_items": null,
            "grid_row": null,
            "max_height": null,
            "align_content": null,
            "visibility": null,
            "align_self": null,
            "height": null,
            "min_height": null,
            "padding": null,
            "grid_auto_rows": null,
            "grid_gap": null,
            "max_width": null,
            "order": null,
            "_view_module_version": "1.2.0",
            "grid_template_areas": null,
            "object_position": null,
            "object_fit": null,
            "grid_auto_columns": null,
            "margin": null,
            "display": null,
            "left": null
          }
        },
        "b5fee5c438fc49be853eb2d86fd26c45": {
          "model_module": "@jupyter-widgets/controls",
          "model_name": "HBoxModel",
          "model_module_version": "1.5.0",
          "state": {
            "_view_name": "HBoxView",
            "_dom_classes": [],
            "_model_name": "HBoxModel",
            "_view_module": "@jupyter-widgets/controls",
            "_model_module_version": "1.5.0",
            "_view_count": null,
            "_view_module_version": "1.5.0",
            "box_style": "",
            "layout": "IPY_MODEL_4067a09f415b4095b59ae780a05fcfb9",
            "_model_module": "@jupyter-widgets/controls",
            "children": [
              "IPY_MODEL_077e457750c04eae9d1c362f011f5bdc",
              "IPY_MODEL_8356a4185313483db6c020e07c2cc36f",
              "IPY_MODEL_d50469b0b3e24ccbb98186e9cb70657b"
            ]
          }
        },
        "4067a09f415b4095b59ae780a05fcfb9": {
          "model_module": "@jupyter-widgets/base",
          "model_name": "LayoutModel",
          "model_module_version": "1.2.0",
          "state": {
            "_view_name": "LayoutView",
            "grid_template_rows": null,
            "right": null,
            "justify_content": null,
            "_view_module": "@jupyter-widgets/base",
            "overflow": null,
            "_model_module_version": "1.2.0",
            "_view_count": null,
            "flex_flow": null,
            "width": null,
            "min_width": null,
            "border": null,
            "align_items": null,
            "bottom": null,
            "_model_module": "@jupyter-widgets/base",
            "top": null,
            "grid_column": null,
            "overflow_y": null,
            "overflow_x": null,
            "grid_auto_flow": null,
            "grid_area": null,
            "grid_template_columns": null,
            "flex": null,
            "_model_name": "LayoutModel",
            "justify_items": null,
            "grid_row": null,
            "max_height": null,
            "align_content": null,
            "visibility": null,
            "align_self": null,
            "height": null,
            "min_height": null,
            "padding": null,
            "grid_auto_rows": null,
            "grid_gap": null,
            "max_width": null,
            "order": null,
            "_view_module_version": "1.2.0",
            "grid_template_areas": null,
            "object_position": null,
            "object_fit": null,
            "grid_auto_columns": null,
            "margin": null,
            "display": null,
            "left": null
          }
        },
        "077e457750c04eae9d1c362f011f5bdc": {
          "model_module": "@jupyter-widgets/controls",
          "model_name": "HTMLModel",
          "model_module_version": "1.5.0",
          "state": {
            "_view_name": "HTMLView",
            "style": "IPY_MODEL_44c7abda9ab049c092c9e941292969e3",
            "_dom_classes": [],
            "description": "",
            "_model_name": "HTMLModel",
            "placeholder": "​",
            "_view_module": "@jupyter-widgets/controls",
            "_model_module_version": "1.5.0",
            "value": "Downloading: 100%",
            "_view_count": null,
            "_view_module_version": "1.5.0",
            "description_tooltip": null,
            "_model_module": "@jupyter-widgets/controls",
            "layout": "IPY_MODEL_10fb1698ce0748998c48c11435680764"
          }
        },
        "8356a4185313483db6c020e07c2cc36f": {
          "model_module": "@jupyter-widgets/controls",
          "model_name": "FloatProgressModel",
          "model_module_version": "1.5.0",
          "state": {
            "_view_name": "ProgressView",
            "style": "IPY_MODEL_102ed97c2f1f4905a491420b8d605cf2",
            "_dom_classes": [],
            "description": "",
            "_model_name": "FloatProgressModel",
            "bar_style": "success",
            "max": 158,
            "_view_module": "@jupyter-widgets/controls",
            "_model_module_version": "1.5.0",
            "value": 158,
            "_view_count": null,
            "_view_module_version": "1.5.0",
            "orientation": "horizontal",
            "min": 0,
            "description_tooltip": null,
            "_model_module": "@jupyter-widgets/controls",
            "layout": "IPY_MODEL_e3c329ab13c6476391b978d1be37017b"
          }
        },
        "d50469b0b3e24ccbb98186e9cb70657b": {
          "model_module": "@jupyter-widgets/controls",
          "model_name": "HTMLModel",
          "model_module_version": "1.5.0",
          "state": {
            "_view_name": "HTMLView",
            "style": "IPY_MODEL_3af34326346c48b5ab4c6e58cf49aedf",
            "_dom_classes": [],
            "description": "",
            "_model_name": "HTMLModel",
            "placeholder": "​",
            "_view_module": "@jupyter-widgets/controls",
            "_model_module_version": "1.5.0",
            "value": " 158/158 [00:00&lt;00:00, 3.92kB/s]",
            "_view_count": null,
            "_view_module_version": "1.5.0",
            "description_tooltip": null,
            "_model_module": "@jupyter-widgets/controls",
            "layout": "IPY_MODEL_2b7def004c0d44e2b262e091c4e6f2cd"
          }
        },
        "44c7abda9ab049c092c9e941292969e3": {
          "model_module": "@jupyter-widgets/controls",
          "model_name": "DescriptionStyleModel",
          "model_module_version": "1.5.0",
          "state": {
            "_view_name": "StyleView",
            "_model_name": "DescriptionStyleModel",
            "description_width": "",
            "_view_module": "@jupyter-widgets/base",
            "_model_module_version": "1.5.0",
            "_view_count": null,
            "_view_module_version": "1.2.0",
            "_model_module": "@jupyter-widgets/controls"
          }
        },
        "10fb1698ce0748998c48c11435680764": {
          "model_module": "@jupyter-widgets/base",
          "model_name": "LayoutModel",
          "model_module_version": "1.2.0",
          "state": {
            "_view_name": "LayoutView",
            "grid_template_rows": null,
            "right": null,
            "justify_content": null,
            "_view_module": "@jupyter-widgets/base",
            "overflow": null,
            "_model_module_version": "1.2.0",
            "_view_count": null,
            "flex_flow": null,
            "width": null,
            "min_width": null,
            "border": null,
            "align_items": null,
            "bottom": null,
            "_model_module": "@jupyter-widgets/base",
            "top": null,
            "grid_column": null,
            "overflow_y": null,
            "overflow_x": null,
            "grid_auto_flow": null,
            "grid_area": null,
            "grid_template_columns": null,
            "flex": null,
            "_model_name": "LayoutModel",
            "justify_items": null,
            "grid_row": null,
            "max_height": null,
            "align_content": null,
            "visibility": null,
            "align_self": null,
            "height": null,
            "min_height": null,
            "padding": null,
            "grid_auto_rows": null,
            "grid_gap": null,
            "max_width": null,
            "order": null,
            "_view_module_version": "1.2.0",
            "grid_template_areas": null,
            "object_position": null,
            "object_fit": null,
            "grid_auto_columns": null,
            "margin": null,
            "display": null,
            "left": null
          }
        },
        "102ed97c2f1f4905a491420b8d605cf2": {
          "model_module": "@jupyter-widgets/controls",
          "model_name": "ProgressStyleModel",
          "model_module_version": "1.5.0",
          "state": {
            "_view_name": "StyleView",
            "_model_name": "ProgressStyleModel",
            "description_width": "",
            "_view_module": "@jupyter-widgets/base",
            "_model_module_version": "1.5.0",
            "_view_count": null,
            "_view_module_version": "1.2.0",
            "bar_color": null,
            "_model_module": "@jupyter-widgets/controls"
          }
        },
        "e3c329ab13c6476391b978d1be37017b": {
          "model_module": "@jupyter-widgets/base",
          "model_name": "LayoutModel",
          "model_module_version": "1.2.0",
          "state": {
            "_view_name": "LayoutView",
            "grid_template_rows": null,
            "right": null,
            "justify_content": null,
            "_view_module": "@jupyter-widgets/base",
            "overflow": null,
            "_model_module_version": "1.2.0",
            "_view_count": null,
            "flex_flow": null,
            "width": null,
            "min_width": null,
            "border": null,
            "align_items": null,
            "bottom": null,
            "_model_module": "@jupyter-widgets/base",
            "top": null,
            "grid_column": null,
            "overflow_y": null,
            "overflow_x": null,
            "grid_auto_flow": null,
            "grid_area": null,
            "grid_template_columns": null,
            "flex": null,
            "_model_name": "LayoutModel",
            "justify_items": null,
            "grid_row": null,
            "max_height": null,
            "align_content": null,
            "visibility": null,
            "align_self": null,
            "height": null,
            "min_height": null,
            "padding": null,
            "grid_auto_rows": null,
            "grid_gap": null,
            "max_width": null,
            "order": null,
            "_view_module_version": "1.2.0",
            "grid_template_areas": null,
            "object_position": null,
            "object_fit": null,
            "grid_auto_columns": null,
            "margin": null,
            "display": null,
            "left": null
          }
        },
        "3af34326346c48b5ab4c6e58cf49aedf": {
          "model_module": "@jupyter-widgets/controls",
          "model_name": "DescriptionStyleModel",
          "model_module_version": "1.5.0",
          "state": {
            "_view_name": "StyleView",
            "_model_name": "DescriptionStyleModel",
            "description_width": "",
            "_view_module": "@jupyter-widgets/base",
            "_model_module_version": "1.5.0",
            "_view_count": null,
            "_view_module_version": "1.2.0",
            "_model_module": "@jupyter-widgets/controls"
          }
        },
        "2b7def004c0d44e2b262e091c4e6f2cd": {
          "model_module": "@jupyter-widgets/base",
          "model_name": "LayoutModel",
          "model_module_version": "1.2.0",
          "state": {
            "_view_name": "LayoutView",
            "grid_template_rows": null,
            "right": null,
            "justify_content": null,
            "_view_module": "@jupyter-widgets/base",
            "overflow": null,
            "_model_module_version": "1.2.0",
            "_view_count": null,
            "flex_flow": null,
            "width": null,
            "min_width": null,
            "border": null,
            "align_items": null,
            "bottom": null,
            "_model_module": "@jupyter-widgets/base",
            "top": null,
            "grid_column": null,
            "overflow_y": null,
            "overflow_x": null,
            "grid_auto_flow": null,
            "grid_area": null,
            "grid_template_columns": null,
            "flex": null,
            "_model_name": "LayoutModel",
            "justify_items": null,
            "grid_row": null,
            "max_height": null,
            "align_content": null,
            "visibility": null,
            "align_self": null,
            "height": null,
            "min_height": null,
            "padding": null,
            "grid_auto_rows": null,
            "grid_gap": null,
            "max_width": null,
            "order": null,
            "_view_module_version": "1.2.0",
            "grid_template_areas": null,
            "object_position": null,
            "object_fit": null,
            "grid_auto_columns": null,
            "margin": null,
            "display": null,
            "left": null
          }
        },
        "b6d09e4487a84c6ca57c7ac44503d576": {
          "model_module": "@jupyter-widgets/controls",
          "model_name": "HBoxModel",
          "model_module_version": "1.5.0",
          "state": {
            "_view_name": "HBoxView",
            "_dom_classes": [],
            "_model_name": "HBoxModel",
            "_view_module": "@jupyter-widgets/controls",
            "_model_module_version": "1.5.0",
            "_view_count": null,
            "_view_module_version": "1.5.0",
            "box_style": "",
            "layout": "IPY_MODEL_7547ff72427a4e1cb4e2cada77da2199",
            "_model_module": "@jupyter-widgets/controls",
            "children": [
              "IPY_MODEL_f1cca3c767374292af2c10a5c7e2c071",
              "IPY_MODEL_f5ea7371d6344cea8d933b89e72607c5",
              "IPY_MODEL_67ecf5f656b54ef7becb99cb00440b38"
            ]
          }
        },
        "7547ff72427a4e1cb4e2cada77da2199": {
          "model_module": "@jupyter-widgets/base",
          "model_name": "LayoutModel",
          "model_module_version": "1.2.0",
          "state": {
            "_view_name": "LayoutView",
            "grid_template_rows": null,
            "right": null,
            "justify_content": null,
            "_view_module": "@jupyter-widgets/base",
            "overflow": null,
            "_model_module_version": "1.2.0",
            "_view_count": null,
            "flex_flow": null,
            "width": null,
            "min_width": null,
            "border": null,
            "align_items": null,
            "bottom": null,
            "_model_module": "@jupyter-widgets/base",
            "top": null,
            "grid_column": null,
            "overflow_y": null,
            "overflow_x": null,
            "grid_auto_flow": null,
            "grid_area": null,
            "grid_template_columns": null,
            "flex": null,
            "_model_name": "LayoutModel",
            "justify_items": null,
            "grid_row": null,
            "max_height": null,
            "align_content": null,
            "visibility": null,
            "align_self": null,
            "height": null,
            "min_height": null,
            "padding": null,
            "grid_auto_rows": null,
            "grid_gap": null,
            "max_width": null,
            "order": null,
            "_view_module_version": "1.2.0",
            "grid_template_areas": null,
            "object_position": null,
            "object_fit": null,
            "grid_auto_columns": null,
            "margin": null,
            "display": null,
            "left": null
          }
        },
        "f1cca3c767374292af2c10a5c7e2c071": {
          "model_module": "@jupyter-widgets/controls",
          "model_name": "HTMLModel",
          "model_module_version": "1.5.0",
          "state": {
            "_view_name": "HTMLView",
            "style": "IPY_MODEL_326cbf199b01476dbc7d77dfec4b82f1",
            "_dom_classes": [],
            "description": "",
            "_model_name": "HTMLModel",
            "placeholder": "​",
            "_view_module": "@jupyter-widgets/controls",
            "_model_module_version": "1.5.0",
            "value": "Downloading: 100%",
            "_view_count": null,
            "_view_module_version": "1.5.0",
            "description_tooltip": null,
            "_model_module": "@jupyter-widgets/controls",
            "layout": "IPY_MODEL_f32c575888e2410c96f4c5ae267670a4"
          }
        },
        "f5ea7371d6344cea8d933b89e72607c5": {
          "model_module": "@jupyter-widgets/controls",
          "model_name": "FloatProgressModel",
          "model_module_version": "1.5.0",
          "state": {
            "_view_name": "ProgressView",
            "style": "IPY_MODEL_c76cef9f0e134339a63764aa18335fca",
            "_dom_classes": [],
            "description": "",
            "_model_name": "FloatProgressModel",
            "bar_style": "success",
            "max": 162,
            "_view_module": "@jupyter-widgets/controls",
            "_model_module_version": "1.5.0",
            "value": 162,
            "_view_count": null,
            "_view_module_version": "1.5.0",
            "orientation": "horizontal",
            "min": 0,
            "description_tooltip": null,
            "_model_module": "@jupyter-widgets/controls",
            "layout": "IPY_MODEL_870046305f074bf3ba9e37760f052e86"
          }
        },
        "67ecf5f656b54ef7becb99cb00440b38": {
          "model_module": "@jupyter-widgets/controls",
          "model_name": "HTMLModel",
          "model_module_version": "1.5.0",
          "state": {
            "_view_name": "HTMLView",
            "style": "IPY_MODEL_8f2a53eb2e574568b83ff531bcc14518",
            "_dom_classes": [],
            "description": "",
            "_model_name": "HTMLModel",
            "placeholder": "​",
            "_view_module": "@jupyter-widgets/controls",
            "_model_module_version": "1.5.0",
            "value": " 162/162 [00:00&lt;00:00, 733B/s]",
            "_view_count": null,
            "_view_module_version": "1.5.0",
            "description_tooltip": null,
            "_model_module": "@jupyter-widgets/controls",
            "layout": "IPY_MODEL_bb3cc3fc4a914bf9a1e9fd4aabfb7ddf"
          }
        },
        "326cbf199b01476dbc7d77dfec4b82f1": {
          "model_module": "@jupyter-widgets/controls",
          "model_name": "DescriptionStyleModel",
          "model_module_version": "1.5.0",
          "state": {
            "_view_name": "StyleView",
            "_model_name": "DescriptionStyleModel",
            "description_width": "",
            "_view_module": "@jupyter-widgets/base",
            "_model_module_version": "1.5.0",
            "_view_count": null,
            "_view_module_version": "1.2.0",
            "_model_module": "@jupyter-widgets/controls"
          }
        },
        "f32c575888e2410c96f4c5ae267670a4": {
          "model_module": "@jupyter-widgets/base",
          "model_name": "LayoutModel",
          "model_module_version": "1.2.0",
          "state": {
            "_view_name": "LayoutView",
            "grid_template_rows": null,
            "right": null,
            "justify_content": null,
            "_view_module": "@jupyter-widgets/base",
            "overflow": null,
            "_model_module_version": "1.2.0",
            "_view_count": null,
            "flex_flow": null,
            "width": null,
            "min_width": null,
            "border": null,
            "align_items": null,
            "bottom": null,
            "_model_module": "@jupyter-widgets/base",
            "top": null,
            "grid_column": null,
            "overflow_y": null,
            "overflow_x": null,
            "grid_auto_flow": null,
            "grid_area": null,
            "grid_template_columns": null,
            "flex": null,
            "_model_name": "LayoutModel",
            "justify_items": null,
            "grid_row": null,
            "max_height": null,
            "align_content": null,
            "visibility": null,
            "align_self": null,
            "height": null,
            "min_height": null,
            "padding": null,
            "grid_auto_rows": null,
            "grid_gap": null,
            "max_width": null,
            "order": null,
            "_view_module_version": "1.2.0",
            "grid_template_areas": null,
            "object_position": null,
            "object_fit": null,
            "grid_auto_columns": null,
            "margin": null,
            "display": null,
            "left": null
          }
        },
        "c76cef9f0e134339a63764aa18335fca": {
          "model_module": "@jupyter-widgets/controls",
          "model_name": "ProgressStyleModel",
          "model_module_version": "1.5.0",
          "state": {
            "_view_name": "StyleView",
            "_model_name": "ProgressStyleModel",
            "description_width": "",
            "_view_module": "@jupyter-widgets/base",
            "_model_module_version": "1.5.0",
            "_view_count": null,
            "_view_module_version": "1.2.0",
            "bar_color": null,
            "_model_module": "@jupyter-widgets/controls"
          }
        },
        "870046305f074bf3ba9e37760f052e86": {
          "model_module": "@jupyter-widgets/base",
          "model_name": "LayoutModel",
          "model_module_version": "1.2.0",
          "state": {
            "_view_name": "LayoutView",
            "grid_template_rows": null,
            "right": null,
            "justify_content": null,
            "_view_module": "@jupyter-widgets/base",
            "overflow": null,
            "_model_module_version": "1.2.0",
            "_view_count": null,
            "flex_flow": null,
            "width": null,
            "min_width": null,
            "border": null,
            "align_items": null,
            "bottom": null,
            "_model_module": "@jupyter-widgets/base",
            "top": null,
            "grid_column": null,
            "overflow_y": null,
            "overflow_x": null,
            "grid_auto_flow": null,
            "grid_area": null,
            "grid_template_columns": null,
            "flex": null,
            "_model_name": "LayoutModel",
            "justify_items": null,
            "grid_row": null,
            "max_height": null,
            "align_content": null,
            "visibility": null,
            "align_self": null,
            "height": null,
            "min_height": null,
            "padding": null,
            "grid_auto_rows": null,
            "grid_gap": null,
            "max_width": null,
            "order": null,
            "_view_module_version": "1.2.0",
            "grid_template_areas": null,
            "object_position": null,
            "object_fit": null,
            "grid_auto_columns": null,
            "margin": null,
            "display": null,
            "left": null
          }
        },
        "8f2a53eb2e574568b83ff531bcc14518": {
          "model_module": "@jupyter-widgets/controls",
          "model_name": "DescriptionStyleModel",
          "model_module_version": "1.5.0",
          "state": {
            "_view_name": "StyleView",
            "_model_name": "DescriptionStyleModel",
            "description_width": "",
            "_view_module": "@jupyter-widgets/base",
            "_model_module_version": "1.5.0",
            "_view_count": null,
            "_view_module_version": "1.2.0",
            "_model_module": "@jupyter-widgets/controls"
          }
        },
        "bb3cc3fc4a914bf9a1e9fd4aabfb7ddf": {
          "model_module": "@jupyter-widgets/base",
          "model_name": "LayoutModel",
          "model_module_version": "1.2.0",
          "state": {
            "_view_name": "LayoutView",
            "grid_template_rows": null,
            "right": null,
            "justify_content": null,
            "_view_module": "@jupyter-widgets/base",
            "overflow": null,
            "_model_module_version": "1.2.0",
            "_view_count": null,
            "flex_flow": null,
            "width": null,
            "min_width": null,
            "border": null,
            "align_items": null,
            "bottom": null,
            "_model_module": "@jupyter-widgets/base",
            "top": null,
            "grid_column": null,
            "overflow_y": null,
            "overflow_x": null,
            "grid_auto_flow": null,
            "grid_area": null,
            "grid_template_columns": null,
            "flex": null,
            "_model_name": "LayoutModel",
            "justify_items": null,
            "grid_row": null,
            "max_height": null,
            "align_content": null,
            "visibility": null,
            "align_self": null,
            "height": null,
            "min_height": null,
            "padding": null,
            "grid_auto_rows": null,
            "grid_gap": null,
            "max_width": null,
            "order": null,
            "_view_module_version": "1.2.0",
            "grid_template_areas": null,
            "object_position": null,
            "object_fit": null,
            "grid_auto_columns": null,
            "margin": null,
            "display": null,
            "left": null
          }
        },
        "eef2747fc7ec46688569d92bb4dd4905": {
          "model_module": "@jupyter-widgets/controls",
          "model_name": "HBoxModel",
          "model_module_version": "1.5.0",
          "state": {
            "_view_name": "HBoxView",
            "_dom_classes": [],
            "_model_name": "HBoxModel",
            "_view_module": "@jupyter-widgets/controls",
            "_model_module_version": "1.5.0",
            "_view_count": null,
            "_view_module_version": "1.5.0",
            "box_style": "",
            "layout": "IPY_MODEL_e5c17969ae754afaa5bc927a90b67c9f",
            "_model_module": "@jupyter-widgets/controls",
            "children": [
              "IPY_MODEL_307eeb5cd4904945a69cbba3674fcac0",
              "IPY_MODEL_a0ffc106c969484ba5e6b419177e3c21",
              "IPY_MODEL_a67a2e8578134e5890798a4a304dcf89"
            ]
          }
        },
        "e5c17969ae754afaa5bc927a90b67c9f": {
          "model_module": "@jupyter-widgets/base",
          "model_name": "LayoutModel",
          "model_module_version": "1.2.0",
          "state": {
            "_view_name": "LayoutView",
            "grid_template_rows": null,
            "right": null,
            "justify_content": null,
            "_view_module": "@jupyter-widgets/base",
            "overflow": null,
            "_model_module_version": "1.2.0",
            "_view_count": null,
            "flex_flow": null,
            "width": null,
            "min_width": null,
            "border": null,
            "align_items": null,
            "bottom": null,
            "_model_module": "@jupyter-widgets/base",
            "top": null,
            "grid_column": null,
            "overflow_y": null,
            "overflow_x": null,
            "grid_auto_flow": null,
            "grid_area": null,
            "grid_template_columns": null,
            "flex": null,
            "_model_name": "LayoutModel",
            "justify_items": null,
            "grid_row": null,
            "max_height": null,
            "align_content": null,
            "visibility": null,
            "align_self": null,
            "height": null,
            "min_height": null,
            "padding": null,
            "grid_auto_rows": null,
            "grid_gap": null,
            "max_width": null,
            "order": null,
            "_view_module_version": "1.2.0",
            "grid_template_areas": null,
            "object_position": null,
            "object_fit": null,
            "grid_auto_columns": null,
            "margin": null,
            "display": null,
            "left": null
          }
        },
        "307eeb5cd4904945a69cbba3674fcac0": {
          "model_module": "@jupyter-widgets/controls",
          "model_name": "HTMLModel",
          "model_module_version": "1.5.0",
          "state": {
            "_view_name": "HTMLView",
            "style": "IPY_MODEL_74c49f181d8148959d33c906ba1bd118",
            "_dom_classes": [],
            "description": "",
            "_model_name": "HTMLModel",
            "placeholder": "​",
            "_view_module": "@jupyter-widgets/controls",
            "_model_module_version": "1.5.0",
            "value": "Downloading: 100%",
            "_view_count": null,
            "_view_module_version": "1.5.0",
            "description_tooltip": null,
            "_model_module": "@jupyter-widgets/controls",
            "layout": "IPY_MODEL_89de5aa986e3452796a4f3cb06aa2725"
          }
        },
        "a0ffc106c969484ba5e6b419177e3c21": {
          "model_module": "@jupyter-widgets/controls",
          "model_name": "FloatProgressModel",
          "model_module_version": "1.5.0",
          "state": {
            "_view_name": "ProgressView",
            "style": "IPY_MODEL_9883d0e9cf0d4f528864e37b43bce378",
            "_dom_classes": [],
            "description": "",
            "_model_name": "FloatProgressModel",
            "bar_style": "success",
            "max": 291,
            "_view_module": "@jupyter-widgets/controls",
            "_model_module_version": "1.5.0",
            "value": 291,
            "_view_count": null,
            "_view_module_version": "1.5.0",
            "orientation": "horizontal",
            "min": 0,
            "description_tooltip": null,
            "_model_module": "@jupyter-widgets/controls",
            "layout": "IPY_MODEL_c7d3d07bd7ab435dbcf8c7ffeafc9a1a"
          }
        },
        "a67a2e8578134e5890798a4a304dcf89": {
          "model_module": "@jupyter-widgets/controls",
          "model_name": "HTMLModel",
          "model_module_version": "1.5.0",
          "state": {
            "_view_name": "HTMLView",
            "style": "IPY_MODEL_1e2287247aef43199c48821aeef8668d",
            "_dom_classes": [],
            "description": "",
            "_model_name": "HTMLModel",
            "placeholder": "​",
            "_view_module": "@jupyter-widgets/controls",
            "_model_module_version": "1.5.0",
            "value": " 291/291 [00:00&lt;00:00, 2.38kB/s]",
            "_view_count": null,
            "_view_module_version": "1.5.0",
            "description_tooltip": null,
            "_model_module": "@jupyter-widgets/controls",
            "layout": "IPY_MODEL_a13b262c05614aff81606e17fbd0265a"
          }
        },
        "74c49f181d8148959d33c906ba1bd118": {
          "model_module": "@jupyter-widgets/controls",
          "model_name": "DescriptionStyleModel",
          "model_module_version": "1.5.0",
          "state": {
            "_view_name": "StyleView",
            "_model_name": "DescriptionStyleModel",
            "description_width": "",
            "_view_module": "@jupyter-widgets/base",
            "_model_module_version": "1.5.0",
            "_view_count": null,
            "_view_module_version": "1.2.0",
            "_model_module": "@jupyter-widgets/controls"
          }
        },
        "89de5aa986e3452796a4f3cb06aa2725": {
          "model_module": "@jupyter-widgets/base",
          "model_name": "LayoutModel",
          "model_module_version": "1.2.0",
          "state": {
            "_view_name": "LayoutView",
            "grid_template_rows": null,
            "right": null,
            "justify_content": null,
            "_view_module": "@jupyter-widgets/base",
            "overflow": null,
            "_model_module_version": "1.2.0",
            "_view_count": null,
            "flex_flow": null,
            "width": null,
            "min_width": null,
            "border": null,
            "align_items": null,
            "bottom": null,
            "_model_module": "@jupyter-widgets/base",
            "top": null,
            "grid_column": null,
            "overflow_y": null,
            "overflow_x": null,
            "grid_auto_flow": null,
            "grid_area": null,
            "grid_template_columns": null,
            "flex": null,
            "_model_name": "LayoutModel",
            "justify_items": null,
            "grid_row": null,
            "max_height": null,
            "align_content": null,
            "visibility": null,
            "align_self": null,
            "height": null,
            "min_height": null,
            "padding": null,
            "grid_auto_rows": null,
            "grid_gap": null,
            "max_width": null,
            "order": null,
            "_view_module_version": "1.2.0",
            "grid_template_areas": null,
            "object_position": null,
            "object_fit": null,
            "grid_auto_columns": null,
            "margin": null,
            "display": null,
            "left": null
          }
        },
        "9883d0e9cf0d4f528864e37b43bce378": {
          "model_module": "@jupyter-widgets/controls",
          "model_name": "ProgressStyleModel",
          "model_module_version": "1.5.0",
          "state": {
            "_view_name": "StyleView",
            "_model_name": "ProgressStyleModel",
            "description_width": "",
            "_view_module": "@jupyter-widgets/base",
            "_model_module_version": "1.5.0",
            "_view_count": null,
            "_view_module_version": "1.2.0",
            "bar_color": null,
            "_model_module": "@jupyter-widgets/controls"
          }
        },
        "c7d3d07bd7ab435dbcf8c7ffeafc9a1a": {
          "model_module": "@jupyter-widgets/base",
          "model_name": "LayoutModel",
          "model_module_version": "1.2.0",
          "state": {
            "_view_name": "LayoutView",
            "grid_template_rows": null,
            "right": null,
            "justify_content": null,
            "_view_module": "@jupyter-widgets/base",
            "overflow": null,
            "_model_module_version": "1.2.0",
            "_view_count": null,
            "flex_flow": null,
            "width": null,
            "min_width": null,
            "border": null,
            "align_items": null,
            "bottom": null,
            "_model_module": "@jupyter-widgets/base",
            "top": null,
            "grid_column": null,
            "overflow_y": null,
            "overflow_x": null,
            "grid_auto_flow": null,
            "grid_area": null,
            "grid_template_columns": null,
            "flex": null,
            "_model_name": "LayoutModel",
            "justify_items": null,
            "grid_row": null,
            "max_height": null,
            "align_content": null,
            "visibility": null,
            "align_self": null,
            "height": null,
            "min_height": null,
            "padding": null,
            "grid_auto_rows": null,
            "grid_gap": null,
            "max_width": null,
            "order": null,
            "_view_module_version": "1.2.0",
            "grid_template_areas": null,
            "object_position": null,
            "object_fit": null,
            "grid_auto_columns": null,
            "margin": null,
            "display": null,
            "left": null
          }
        },
        "1e2287247aef43199c48821aeef8668d": {
          "model_module": "@jupyter-widgets/controls",
          "model_name": "DescriptionStyleModel",
          "model_module_version": "1.5.0",
          "state": {
            "_view_name": "StyleView",
            "_model_name": "DescriptionStyleModel",
            "description_width": "",
            "_view_module": "@jupyter-widgets/base",
            "_model_module_version": "1.5.0",
            "_view_count": null,
            "_view_module_version": "1.2.0",
            "_model_module": "@jupyter-widgets/controls"
          }
        },
        "a13b262c05614aff81606e17fbd0265a": {
          "model_module": "@jupyter-widgets/base",
          "model_name": "LayoutModel",
          "model_module_version": "1.2.0",
          "state": {
            "_view_name": "LayoutView",
            "grid_template_rows": null,
            "right": null,
            "justify_content": null,
            "_view_module": "@jupyter-widgets/base",
            "overflow": null,
            "_model_module_version": "1.2.0",
            "_view_count": null,
            "flex_flow": null,
            "width": null,
            "min_width": null,
            "border": null,
            "align_items": null,
            "bottom": null,
            "_model_module": "@jupyter-widgets/base",
            "top": null,
            "grid_column": null,
            "overflow_y": null,
            "overflow_x": null,
            "grid_auto_flow": null,
            "grid_area": null,
            "grid_template_columns": null,
            "flex": null,
            "_model_name": "LayoutModel",
            "justify_items": null,
            "grid_row": null,
            "max_height": null,
            "align_content": null,
            "visibility": null,
            "align_self": null,
            "height": null,
            "min_height": null,
            "padding": null,
            "grid_auto_rows": null,
            "grid_gap": null,
            "max_width": null,
            "order": null,
            "_view_module_version": "1.2.0",
            "grid_template_areas": null,
            "object_position": null,
            "object_fit": null,
            "grid_auto_columns": null,
            "margin": null,
            "display": null,
            "left": null
          }
        },
        "bad7e4f987ac4d3388588913c467f827": {
          "model_module": "@jupyter-widgets/controls",
          "model_name": "HBoxModel",
          "model_module_version": "1.5.0",
          "state": {
            "_view_name": "HBoxView",
            "_dom_classes": [],
            "_model_name": "HBoxModel",
            "_view_module": "@jupyter-widgets/controls",
            "_model_module_version": "1.5.0",
            "_view_count": null,
            "_view_module_version": "1.5.0",
            "box_style": "",
            "layout": "IPY_MODEL_93e8e8e116f746b59d8c4df3c98fac6a",
            "_model_module": "@jupyter-widgets/controls",
            "children": [
              "IPY_MODEL_68e7464b1f8142fab808d68256f42102",
              "IPY_MODEL_e7132bf2b5e349fbb05fafe1c173c83d",
              "IPY_MODEL_940adbe3ad95410e8ef3407b080f0a99"
            ]
          }
        },
        "93e8e8e116f746b59d8c4df3c98fac6a": {
          "model_module": "@jupyter-widgets/base",
          "model_name": "LayoutModel",
          "model_module_version": "1.2.0",
          "state": {
            "_view_name": "LayoutView",
            "grid_template_rows": null,
            "right": null,
            "justify_content": null,
            "_view_module": "@jupyter-widgets/base",
            "overflow": null,
            "_model_module_version": "1.2.0",
            "_view_count": null,
            "flex_flow": null,
            "width": null,
            "min_width": null,
            "border": null,
            "align_items": null,
            "bottom": null,
            "_model_module": "@jupyter-widgets/base",
            "top": null,
            "grid_column": null,
            "overflow_y": null,
            "overflow_x": null,
            "grid_auto_flow": null,
            "grid_area": null,
            "grid_template_columns": null,
            "flex": null,
            "_model_name": "LayoutModel",
            "justify_items": null,
            "grid_row": null,
            "max_height": null,
            "align_content": null,
            "visibility": null,
            "align_self": null,
            "height": null,
            "min_height": null,
            "padding": null,
            "grid_auto_rows": null,
            "grid_gap": null,
            "max_width": null,
            "order": null,
            "_view_module_version": "1.2.0",
            "grid_template_areas": null,
            "object_position": null,
            "object_fit": null,
            "grid_auto_columns": null,
            "margin": null,
            "display": null,
            "left": null
          }
        },
        "68e7464b1f8142fab808d68256f42102": {
          "model_module": "@jupyter-widgets/controls",
          "model_name": "HTMLModel",
          "model_module_version": "1.5.0",
          "state": {
            "_view_name": "HTMLView",
            "style": "IPY_MODEL_c9c39dca71c5493b8628f2a54c2308e4",
            "_dom_classes": [],
            "description": "",
            "_model_name": "HTMLModel",
            "placeholder": "​",
            "_view_module": "@jupyter-widgets/controls",
            "_model_module_version": "1.5.0",
            "value": "Downloading: 100%",
            "_view_count": null,
            "_view_module_version": "1.5.0",
            "description_tooltip": null,
            "_model_module": "@jupyter-widgets/controls",
            "layout": "IPY_MODEL_437e6c27b1254b4e8b74316098af2512"
          }
        },
        "e7132bf2b5e349fbb05fafe1c173c83d": {
          "model_module": "@jupyter-widgets/controls",
          "model_name": "FloatProgressModel",
          "model_module_version": "1.5.0",
          "state": {
            "_view_name": "ProgressView",
            "style": "IPY_MODEL_9cfe93a2b1f64f6980e90eb5538bee5a",
            "_dom_classes": [],
            "description": "",
            "_model_name": "FloatProgressModel",
            "bar_style": "success",
            "max": 85,
            "_view_module": "@jupyter-widgets/controls",
            "_model_module_version": "1.5.0",
            "value": 85,
            "_view_count": null,
            "_view_module_version": "1.5.0",
            "orientation": "horizontal",
            "min": 0,
            "description_tooltip": null,
            "_model_module": "@jupyter-widgets/controls",
            "layout": "IPY_MODEL_3a88548a902849ad8fe687788519a751"
          }
        },
        "940adbe3ad95410e8ef3407b080f0a99": {
          "model_module": "@jupyter-widgets/controls",
          "model_name": "HTMLModel",
          "model_module_version": "1.5.0",
          "state": {
            "_view_name": "HTMLView",
            "style": "IPY_MODEL_270c82e7c30f4b16b0bc6f0e43abd184",
            "_dom_classes": [],
            "description": "",
            "_model_name": "HTMLModel",
            "placeholder": "​",
            "_view_module": "@jupyter-widgets/controls",
            "_model_module_version": "1.5.0",
            "value": " 85.0/85.0 [00:00&lt;00:00, 491B/s]",
            "_view_count": null,
            "_view_module_version": "1.5.0",
            "description_tooltip": null,
            "_model_module": "@jupyter-widgets/controls",
            "layout": "IPY_MODEL_d5c7d95951f14d05bff8e5465ce1cc76"
          }
        },
        "c9c39dca71c5493b8628f2a54c2308e4": {
          "model_module": "@jupyter-widgets/controls",
          "model_name": "DescriptionStyleModel",
          "model_module_version": "1.5.0",
          "state": {
            "_view_name": "StyleView",
            "_model_name": "DescriptionStyleModel",
            "description_width": "",
            "_view_module": "@jupyter-widgets/base",
            "_model_module_version": "1.5.0",
            "_view_count": null,
            "_view_module_version": "1.2.0",
            "_model_module": "@jupyter-widgets/controls"
          }
        },
        "437e6c27b1254b4e8b74316098af2512": {
          "model_module": "@jupyter-widgets/base",
          "model_name": "LayoutModel",
          "model_module_version": "1.2.0",
          "state": {
            "_view_name": "LayoutView",
            "grid_template_rows": null,
            "right": null,
            "justify_content": null,
            "_view_module": "@jupyter-widgets/base",
            "overflow": null,
            "_model_module_version": "1.2.0",
            "_view_count": null,
            "flex_flow": null,
            "width": null,
            "min_width": null,
            "border": null,
            "align_items": null,
            "bottom": null,
            "_model_module": "@jupyter-widgets/base",
            "top": null,
            "grid_column": null,
            "overflow_y": null,
            "overflow_x": null,
            "grid_auto_flow": null,
            "grid_area": null,
            "grid_template_columns": null,
            "flex": null,
            "_model_name": "LayoutModel",
            "justify_items": null,
            "grid_row": null,
            "max_height": null,
            "align_content": null,
            "visibility": null,
            "align_self": null,
            "height": null,
            "min_height": null,
            "padding": null,
            "grid_auto_rows": null,
            "grid_gap": null,
            "max_width": null,
            "order": null,
            "_view_module_version": "1.2.0",
            "grid_template_areas": null,
            "object_position": null,
            "object_fit": null,
            "grid_auto_columns": null,
            "margin": null,
            "display": null,
            "left": null
          }
        },
        "9cfe93a2b1f64f6980e90eb5538bee5a": {
          "model_module": "@jupyter-widgets/controls",
          "model_name": "ProgressStyleModel",
          "model_module_version": "1.5.0",
          "state": {
            "_view_name": "StyleView",
            "_model_name": "ProgressStyleModel",
            "description_width": "",
            "_view_module": "@jupyter-widgets/base",
            "_model_module_version": "1.5.0",
            "_view_count": null,
            "_view_module_version": "1.2.0",
            "bar_color": null,
            "_model_module": "@jupyter-widgets/controls"
          }
        },
        "3a88548a902849ad8fe687788519a751": {
          "model_module": "@jupyter-widgets/base",
          "model_name": "LayoutModel",
          "model_module_version": "1.2.0",
          "state": {
            "_view_name": "LayoutView",
            "grid_template_rows": null,
            "right": null,
            "justify_content": null,
            "_view_module": "@jupyter-widgets/base",
            "overflow": null,
            "_model_module_version": "1.2.0",
            "_view_count": null,
            "flex_flow": null,
            "width": null,
            "min_width": null,
            "border": null,
            "align_items": null,
            "bottom": null,
            "_model_module": "@jupyter-widgets/base",
            "top": null,
            "grid_column": null,
            "overflow_y": null,
            "overflow_x": null,
            "grid_auto_flow": null,
            "grid_area": null,
            "grid_template_columns": null,
            "flex": null,
            "_model_name": "LayoutModel",
            "justify_items": null,
            "grid_row": null,
            "max_height": null,
            "align_content": null,
            "visibility": null,
            "align_self": null,
            "height": null,
            "min_height": null,
            "padding": null,
            "grid_auto_rows": null,
            "grid_gap": null,
            "max_width": null,
            "order": null,
            "_view_module_version": "1.2.0",
            "grid_template_areas": null,
            "object_position": null,
            "object_fit": null,
            "grid_auto_columns": null,
            "margin": null,
            "display": null,
            "left": null
          }
        },
        "270c82e7c30f4b16b0bc6f0e43abd184": {
          "model_module": "@jupyter-widgets/controls",
          "model_name": "DescriptionStyleModel",
          "model_module_version": "1.5.0",
          "state": {
            "_view_name": "StyleView",
            "_model_name": "DescriptionStyleModel",
            "description_width": "",
            "_view_module": "@jupyter-widgets/base",
            "_model_module_version": "1.5.0",
            "_view_count": null,
            "_view_module_version": "1.2.0",
            "_model_module": "@jupyter-widgets/controls"
          }
        },
        "d5c7d95951f14d05bff8e5465ce1cc76": {
          "model_module": "@jupyter-widgets/base",
          "model_name": "LayoutModel",
          "model_module_version": "1.2.0",
          "state": {
            "_view_name": "LayoutView",
            "grid_template_rows": null,
            "right": null,
            "justify_content": null,
            "_view_module": "@jupyter-widgets/base",
            "overflow": null,
            "_model_module_version": "1.2.0",
            "_view_count": null,
            "flex_flow": null,
            "width": null,
            "min_width": null,
            "border": null,
            "align_items": null,
            "bottom": null,
            "_model_module": "@jupyter-widgets/base",
            "top": null,
            "grid_column": null,
            "overflow_y": null,
            "overflow_x": null,
            "grid_auto_flow": null,
            "grid_area": null,
            "grid_template_columns": null,
            "flex": null,
            "_model_name": "LayoutModel",
            "justify_items": null,
            "grid_row": null,
            "max_height": null,
            "align_content": null,
            "visibility": null,
            "align_self": null,
            "height": null,
            "min_height": null,
            "padding": null,
            "grid_auto_rows": null,
            "grid_gap": null,
            "max_width": null,
            "order": null,
            "_view_module_version": "1.2.0",
            "grid_template_areas": null,
            "object_position": null,
            "object_fit": null,
            "grid_auto_columns": null,
            "margin": null,
            "display": null,
            "left": null
          }
        },
        "4d1bacd50d994635aff3469475181611": {
          "model_module": "@jupyter-widgets/controls",
          "model_name": "HBoxModel",
          "model_module_version": "1.5.0",
          "state": {
            "_view_name": "HBoxView",
            "_dom_classes": [],
            "_model_name": "HBoxModel",
            "_view_module": "@jupyter-widgets/controls",
            "_model_module_version": "1.5.0",
            "_view_count": null,
            "_view_module_version": "1.5.0",
            "box_style": "",
            "layout": "IPY_MODEL_9c0d39188e9c4dcf8019f8790b069851",
            "_model_module": "@jupyter-widgets/controls",
            "children": [
              "IPY_MODEL_243ed6edb1c240df9a6e37c315574751",
              "IPY_MODEL_413c718ed8f645b28cd6cad8ed196883",
              "IPY_MODEL_082322d7e2ee4344bf94c2d0651519fd"
            ]
          }
        },
        "9c0d39188e9c4dcf8019f8790b069851": {
          "model_module": "@jupyter-widgets/base",
          "model_name": "LayoutModel",
          "model_module_version": "1.2.0",
          "state": {
            "_view_name": "LayoutView",
            "grid_template_rows": null,
            "right": null,
            "justify_content": null,
            "_view_module": "@jupyter-widgets/base",
            "overflow": null,
            "_model_module_version": "1.2.0",
            "_view_count": null,
            "flex_flow": null,
            "width": null,
            "min_width": null,
            "border": null,
            "align_items": null,
            "bottom": null,
            "_model_module": "@jupyter-widgets/base",
            "top": null,
            "grid_column": null,
            "overflow_y": null,
            "overflow_x": null,
            "grid_auto_flow": null,
            "grid_area": null,
            "grid_template_columns": null,
            "flex": null,
            "_model_name": "LayoutModel",
            "justify_items": null,
            "grid_row": null,
            "max_height": null,
            "align_content": null,
            "visibility": null,
            "align_self": null,
            "height": null,
            "min_height": null,
            "padding": null,
            "grid_auto_rows": null,
            "grid_gap": null,
            "max_width": null,
            "order": null,
            "_view_module_version": "1.2.0",
            "grid_template_areas": null,
            "object_position": null,
            "object_fit": null,
            "grid_auto_columns": null,
            "margin": null,
            "display": null,
            "left": null
          }
        },
        "243ed6edb1c240df9a6e37c315574751": {
          "model_module": "@jupyter-widgets/controls",
          "model_name": "HTMLModel",
          "model_module_version": "1.5.0",
          "state": {
            "_view_name": "HTMLView",
            "style": "IPY_MODEL_d41f82c7b1824b979efb095ae5682196",
            "_dom_classes": [],
            "description": "",
            "_model_name": "HTMLModel",
            "placeholder": "​",
            "_view_module": "@jupyter-widgets/controls",
            "_model_module_version": "1.5.0",
            "value": "Downloading: 100%",
            "_view_count": null,
            "_view_module_version": "1.5.0",
            "description_tooltip": null,
            "_model_module": "@jupyter-widgets/controls",
            "layout": "IPY_MODEL_96301b1b58ac497a9522f40dbec025c0"
          }
        },
        "413c718ed8f645b28cd6cad8ed196883": {
          "model_module": "@jupyter-widgets/controls",
          "model_name": "FloatProgressModel",
          "model_module_version": "1.5.0",
          "state": {
            "_view_name": "ProgressView",
            "style": "IPY_MODEL_053b317c34864b71bb8a62d59c8f7404",
            "_dom_classes": [],
            "description": "",
            "_model_name": "FloatProgressModel",
            "bar_style": "success",
            "max": 1269737156,
            "_view_module": "@jupyter-widgets/controls",
            "_model_module_version": "1.5.0",
            "value": 1269737156,
            "_view_count": null,
            "_view_module_version": "1.5.0",
            "orientation": "horizontal",
            "min": 0,
            "description_tooltip": null,
            "_model_module": "@jupyter-widgets/controls",
            "layout": "IPY_MODEL_5994642ad9c34ed497de1eb9576e8995"
          }
        },
        "082322d7e2ee4344bf94c2d0651519fd": {
          "model_module": "@jupyter-widgets/controls",
          "model_name": "HTMLModel",
          "model_module_version": "1.5.0",
          "state": {
            "_view_name": "HTMLView",
            "style": "IPY_MODEL_3b2d63390b694720894772966e097fbb",
            "_dom_classes": [],
            "description": "",
            "_model_name": "HTMLModel",
            "placeholder": "​",
            "_view_module": "@jupyter-widgets/controls",
            "_model_module_version": "1.5.0",
            "value": " 1.18G/1.18G [00:35&lt;00:00, 34.0MB/s]",
            "_view_count": null,
            "_view_module_version": "1.5.0",
            "description_tooltip": null,
            "_model_module": "@jupyter-widgets/controls",
            "layout": "IPY_MODEL_0ae4e646a280448bb5455ee51d3d7084"
          }
        },
        "d41f82c7b1824b979efb095ae5682196": {
          "model_module": "@jupyter-widgets/controls",
          "model_name": "DescriptionStyleModel",
          "model_module_version": "1.5.0",
          "state": {
            "_view_name": "StyleView",
            "_model_name": "DescriptionStyleModel",
            "description_width": "",
            "_view_module": "@jupyter-widgets/base",
            "_model_module_version": "1.5.0",
            "_view_count": null,
            "_view_module_version": "1.2.0",
            "_model_module": "@jupyter-widgets/controls"
          }
        },
        "96301b1b58ac497a9522f40dbec025c0": {
          "model_module": "@jupyter-widgets/base",
          "model_name": "LayoutModel",
          "model_module_version": "1.2.0",
          "state": {
            "_view_name": "LayoutView",
            "grid_template_rows": null,
            "right": null,
            "justify_content": null,
            "_view_module": "@jupyter-widgets/base",
            "overflow": null,
            "_model_module_version": "1.2.0",
            "_view_count": null,
            "flex_flow": null,
            "width": null,
            "min_width": null,
            "border": null,
            "align_items": null,
            "bottom": null,
            "_model_module": "@jupyter-widgets/base",
            "top": null,
            "grid_column": null,
            "overflow_y": null,
            "overflow_x": null,
            "grid_auto_flow": null,
            "grid_area": null,
            "grid_template_columns": null,
            "flex": null,
            "_model_name": "LayoutModel",
            "justify_items": null,
            "grid_row": null,
            "max_height": null,
            "align_content": null,
            "visibility": null,
            "align_self": null,
            "height": null,
            "min_height": null,
            "padding": null,
            "grid_auto_rows": null,
            "grid_gap": null,
            "max_width": null,
            "order": null,
            "_view_module_version": "1.2.0",
            "grid_template_areas": null,
            "object_position": null,
            "object_fit": null,
            "grid_auto_columns": null,
            "margin": null,
            "display": null,
            "left": null
          }
        },
        "053b317c34864b71bb8a62d59c8f7404": {
          "model_module": "@jupyter-widgets/controls",
          "model_name": "ProgressStyleModel",
          "model_module_version": "1.5.0",
          "state": {
            "_view_name": "StyleView",
            "_model_name": "ProgressStyleModel",
            "description_width": "",
            "_view_module": "@jupyter-widgets/base",
            "_model_module_version": "1.5.0",
            "_view_count": null,
            "_view_module_version": "1.2.0",
            "bar_color": null,
            "_model_module": "@jupyter-widgets/controls"
          }
        },
        "5994642ad9c34ed497de1eb9576e8995": {
          "model_module": "@jupyter-widgets/base",
          "model_name": "LayoutModel",
          "model_module_version": "1.2.0",
          "state": {
            "_view_name": "LayoutView",
            "grid_template_rows": null,
            "right": null,
            "justify_content": null,
            "_view_module": "@jupyter-widgets/base",
            "overflow": null,
            "_model_module_version": "1.2.0",
            "_view_count": null,
            "flex_flow": null,
            "width": null,
            "min_width": null,
            "border": null,
            "align_items": null,
            "bottom": null,
            "_model_module": "@jupyter-widgets/base",
            "top": null,
            "grid_column": null,
            "overflow_y": null,
            "overflow_x": null,
            "grid_auto_flow": null,
            "grid_area": null,
            "grid_template_columns": null,
            "flex": null,
            "_model_name": "LayoutModel",
            "justify_items": null,
            "grid_row": null,
            "max_height": null,
            "align_content": null,
            "visibility": null,
            "align_self": null,
            "height": null,
            "min_height": null,
            "padding": null,
            "grid_auto_rows": null,
            "grid_gap": null,
            "max_width": null,
            "order": null,
            "_view_module_version": "1.2.0",
            "grid_template_areas": null,
            "object_position": null,
            "object_fit": null,
            "grid_auto_columns": null,
            "margin": null,
            "display": null,
            "left": null
          }
        },
        "3b2d63390b694720894772966e097fbb": {
          "model_module": "@jupyter-widgets/controls",
          "model_name": "DescriptionStyleModel",
          "model_module_version": "1.5.0",
          "state": {
            "_view_name": "StyleView",
            "_model_name": "DescriptionStyleModel",
            "description_width": "",
            "_view_module": "@jupyter-widgets/base",
            "_model_module_version": "1.5.0",
            "_view_count": null,
            "_view_module_version": "1.2.0",
            "_model_module": "@jupyter-widgets/controls"
          }
        },
        "0ae4e646a280448bb5455ee51d3d7084": {
          "model_module": "@jupyter-widgets/base",
          "model_name": "LayoutModel",
          "model_module_version": "1.2.0",
          "state": {
            "_view_name": "LayoutView",
            "grid_template_rows": null,
            "right": null,
            "justify_content": null,
            "_view_module": "@jupyter-widgets/base",
            "overflow": null,
            "_model_module_version": "1.2.0",
            "_view_count": null,
            "flex_flow": null,
            "width": null,
            "min_width": null,
            "border": null,
            "align_items": null,
            "bottom": null,
            "_model_module": "@jupyter-widgets/base",
            "top": null,
            "grid_column": null,
            "overflow_y": null,
            "overflow_x": null,
            "grid_auto_flow": null,
            "grid_area": null,
            "grid_template_columns": null,
            "flex": null,
            "_model_name": "LayoutModel",
            "justify_items": null,
            "grid_row": null,
            "max_height": null,
            "align_content": null,
            "visibility": null,
            "align_self": null,
            "height": null,
            "min_height": null,
            "padding": null,
            "grid_auto_rows": null,
            "grid_gap": null,
            "max_width": null,
            "order": null,
            "_view_module_version": "1.2.0",
            "grid_template_areas": null,
            "object_position": null,
            "object_fit": null,
            "grid_auto_columns": null,
            "margin": null,
            "display": null,
            "left": null
          }
        }
      }
    },
    "accelerator": "GPU"
  },
  "cells": [
    {
      "cell_type": "markdown",
      "metadata": {
        "id": "5fbCls1d2yBs"
      },
      "source": [
        "# Emotion Recognition in Greek Speech Using Wav2Vec 2.0"
      ]
    },
    {
      "cell_type": "markdown",
      "metadata": {
        "id": "sp37lZOV2042"
      },
      "source": [
        "**Wav2Vec 2.0** is a pretrained model for Automatic Speech Recognition (ASR) and was released in [September 2020](https://ai.facebook.com/blog/wav2vec-20-learning-the-structure-of-speech-from-raw-audio/) by Alexei Baevski, Michael Auli, and Alex Conneau.  Soon after the superior performance of Wav2Vec2 was demonstrated on the English ASR dataset LibriSpeech, *Facebook AI* presented XLSR-Wav2Vec2 (click [here](https://arxiv.org/abs/2006.13979)). XLSR stands for *cross-lingual  speech representations* and refers to XLSR-Wav2Vec2`s ability to learn speech representations that are useful across multiple languages.\n",
        "\n",
        "Similar to Wav2Vec2, XLSR-Wav2Vec2 learns powerful speech representations from hundreds of thousands of hours of speech in more than 50 languages of unlabeled speech. Similar, to [BERT's masked language modeling](http://jalammar.github.io/illustrated-bert/), the model learns contextualized speech representations by randomly masking feature vectors before passing them to a transformer network.\n",
        "\n",
        "![wav2vec2_structure](https://raw.githubusercontent.com/patrickvonplaten/scientific_images/master/xlsr_wav2vec2.png)\n",
        "\n",
        "The authors show for the first time that massively pretraining an ASR model on cross-lingual unlabeled speech data, followed by language-specific fine-tuning on very little labeled data achieves state-of-the-art results. See Table 1-5 of the official [paper](https://arxiv.org/pdf/2006.13979.pdf)."
      ]
    },
    {
      "cell_type": "markdown",
      "metadata": {
        "id": "y0xJwDkA3QQR"
      },
      "source": [
        "During fine-tuning week hosted by HuggingFace, more than 300 people participated in tuning XLSR-Wav2Vec2's pretrained on low-resources ASR dataset for more than 50 languages. This model is fine-tuned using [Connectionist Temporal Classification](https://distill.pub/2017/ctc/) (CTC), an algorithm used to train neural networks for sequence-to-sequence problems and mainly in Automatic Speech Recognition and handwriting recognition. Follow this [notebook](https://colab.research.google.com/github/patrickvonplaten/notebooks/blob/master/Fine_Tune_XLSR_Wav2Vec2_on_Turkish_ASR_with_%F0%9F%A4%97_Transformers.ipynb#scrollTo=Gx9OdDYrCtQ1) for more information about XLSR-Wav2Vec2 fine-tuning.\n",
        "\n",
        "This model was shown significant results in many low-resources languages. You can see the [competition board](https://paperswithcode.com/dataset/common-voice) or even testing the models from the [HuggingFace hub](https://huggingface.co/models?filter=xlsr-fine-tuning-week). \n",
        "\n",
        "\n",
        "In this notebook, we will go through how to use this model to recognize the emotional aspects of speech in a language (or even as a general view using for every classification problem). Before going any further, we need to install some handy packages and define some enviroment values."
      ]
    },
    {
      "cell_type": "code",
      "metadata": {
        "id": "TYsw43ULuXC_"
      },
      "source": [
        "# %%capture\n",
        "\n",
        "# !pip install git+https://github.com/huggingface/datasets.git\n",
        "# !pip install git+https://github.com/huggingface/transformers.git\n",
        "# !pip install jiwer\n",
        "# !pip install torchaudio\n",
        "# !pip install librosa\n",
        "\n",
        "# # Monitor the training process\n",
        "# # !pip install wandb"
      ],
      "execution_count": null,
      "outputs": []
    },
    {
      "cell_type": "code",
      "metadata": {
        "colab": {
          "base_uri": "https://localhost:8080/"
        },
        "id": "cp4-LTa2uphv",
        "outputId": "eeb3712f-62cd-45bf-bcca-dc0449e8f4f0"
      },
      "source": [
        "%env LC_ALL=C.UTF-8\n",
        "%env LANG=C.UTF-8\n",
        "%env TRANSFORMERS_CACHE=/content/cache\n",
        "%env HF_DATASETS_CACHE=/content/cache\n",
        "%env CUDA_LAUNCH_BLOCKING=1  "
      ],
      "execution_count": 1,
      "outputs": [
        {
          "output_type": "stream",
          "name": "stdout",
          "text": [
            "env: LC_ALL=C.UTF-8\n",
            "env: LANG=C.UTF-8\n",
            "env: TRANSFORMERS_CACHE=/content/cache\n",
            "env: HF_DATASETS_CACHE=/content/cache\n",
            "env: CUDA_LAUNCH_BLOCKING=1\n"
          ]
        }
      ]
    },
    {
      "cell_type": "code",
      "source": [
        "import os"
      ],
      "metadata": {
        "id": "NqMrDqtA5c3u"
      },
      "execution_count": 2,
      "outputs": []
    },
    {
      "cell_type": "code",
      "source": [
        "os.environ['CUDA_LAUNCH_BLOCKING'] = \"1\" "
      ],
      "metadata": {
        "id": "8aiIO8rwzhza"
      },
      "execution_count": 3,
      "outputs": []
    },
    {
      "cell_type": "code",
      "metadata": {
        "id": "A0B06FRmusKF"
      },
      "source": [
        "# # Uncomment this part if you want to setup your wandb project\n",
        "\n",
        "# %env WANDB_WATCH=all\n",
        "# %env WANDB_LOG_MODEL=1\n",
        "# %env WANDB_PROJECT=YOUR_PROJECT_NAME\n",
        "# !wandb login YOUR_API_KEY --relogin"
      ],
      "execution_count": null,
      "outputs": []
    },
    {
      "cell_type": "markdown",
      "metadata": {
        "id": "krC50MmmvBWJ"
      },
      "source": [
        "## Prepare Data\n",
        "\n",
        "For this particular example, we use [Acted Emotional Speech Dynamic Database – AESDD](http://m3c.web.auth.gr/research/aesdd-speech-emotion-recognition/) provided by Multidisciplinary Media & Mediated Communication Research Group ([M3C](http://m3c.web.auth.gr/)). \n",
        "\n",
        "The Acted Emotional Speech Dynamic Database (AESDD) is a publically available speech emotion recognition dataset that contains utterances of acted emotional speech in the Greek language for five different emotions `sadness`, `disgust`, `happiness`, `anger`, and `fear`.\n",
        "\n",
        "The dataset consists of directories of emotions; each folder includes specific emotions. We need to loop over directories and save the paths related to each class based on the directory name.\n",
        "\n",
        "```bash\n",
        ".\n",
        "├── Tools\\ and\\ Documentation\n",
        "│   ├── ESTrainer.mlapp\n",
        "│   ├── Speech\\ Emotion\\ Recognition\\ Adapted\\ to\\ Multimodal\\ Semantic\\ Repositories_documentation.pdf\n",
        "│   ├── Speech\\ Emotion\\ Recognition\\ for\\ Performance\\ Interaction.pdf\n",
        "│   └── readme.txt\n",
        "├── anger\n",
        "│   ├── a01\\ (1).wav\n",
        "│   ├── a01\\ (2).wav\n",
        "│   ├── ...\n",
        "├── disgust\n",
        "│   ├── d01\\ (1).wav\n",
        "│   ├── d01\\ (2).wav\n",
        "│   ├── ...\n",
        "├── fear\n",
        "│   ├── f01\\ (1).wav\n",
        "│   ├── f01\\ (2).wav\n",
        "│   ├── ...\n",
        "├── happiness\n",
        "│   ├── h01\\ (1).wav\n",
        "│   ├── h01\\ (2).wav\n",
        "│   ├── ...\n",
        "└── sadness\n",
        "    ├── s01\\ (1).wav\n",
        "    ├── s01\\ (2).wav\n",
        "    ├── ...\n",
        "\n",
        "6 directories, 609 files\n",
        "```"
      ]
    },
    {
      "cell_type": "markdown",
      "metadata": {
        "id": "4UVGPPOVCl-Y"
      },
      "source": [
        "Since the dataset is hosted on [Mega](https://mega.nz/#F!0ShVXY7C!-73kVoK05OjTPEA95UUvMw) and unable to access it directly, we upload the dataset on the G-drive to make this tutorial accessible."
      ]
    },
    {
      "cell_type": "code",
      "metadata": {
        "id": "nEKDAy2bCGFM"
      },
      "source": [
        "# # Download the dataset from \n",
        "\n",
        "# !mkdir -p /content/data\n",
        "# !gdown https://drive.google.com/uc?id=1_IAWexEWpH-ly_JaA5EGfZDp-_3flkN1\n",
        "# !unzip -q aesdd.zip -d /content/data/\n",
        "# !mv \"/content/data/Acted Emotional Speech Dynamic Database/\" /content/data/aesdd/"
      ],
      "execution_count": null,
      "outputs": []
    },
    {
      "cell_type": "code",
      "metadata": {
        "id": "pFSqZ0jwCMSv"
      },
      "source": [
        "import numpy as np\n",
        "import pandas as pd\n",
        "\n",
        "from pathlib import Path\n",
        "from tqdm import tqdm\n",
        "\n",
        "import torchaudio\n",
        "from sklearn.model_selection import train_test_split\n",
        "\n",
        "import os\n",
        "import sys"
      ],
      "execution_count": 4,
      "outputs": []
    },
    {
      "cell_type": "code",
      "source": [
        "from google.colab import drive\n",
        "import sys\n",
        "\n",
        "# Mount Google Drive\n",
        "drive.mount('/content/drive')"
      ],
      "metadata": {
        "colab": {
          "base_uri": "https://localhost:8080/"
        },
        "id": "okfcehiyxSfT",
        "outputId": "39bc21c7-af20-44cf-ee88-1ad9f2cf191e"
      },
      "execution_count": 5,
      "outputs": [
        {
          "output_type": "stream",
          "name": "stdout",
          "text": [
            "Mounted at /content/drive\n"
          ]
        }
      ]
    },
    {
      "cell_type": "code",
      "metadata": {
        "id": "7MXAESg_Dqr6"
      },
      "source": [
        "# data = []\n",
        "\n",
        "# for path in tqdm(Path(\"/content/data/aesdd\").glob(\"**/*.wav\")):\n",
        "#     name = str(path).split('/')[-1].split('.')[0]\n",
        "#     label = str(path).split('/')[-2]\n",
        "    \n",
        "#     try:\n",
        "#         # There are some broken files\n",
        "#         s = torchaudio.load(path)\n",
        "#         data.append({\n",
        "#             \"name\": name,\n",
        "#             \"path\": path,\n",
        "#             \"emotion\": label\n",
        "#         })\n",
        "#     except Exception as e:\n",
        "#         # print(str(path), e)\n",
        "#         pass\n",
        "\n",
        "#     # break"
      ],
      "execution_count": null,
      "outputs": []
    },
    {
      "cell_type": "code",
      "source": [
        "csv_path = '/content/drive/My Drive/Speech Detection Data/CREMA-D-master/'\n",
        "df = pd.read_csv(csv_path + 'CREMA.csv', index_col = 0)\n",
        "df = df[['File Name', 'path', 'emotion']]\n",
        "df.head()"
      ],
      "metadata": {
        "colab": {
          "base_uri": "https://localhost:8080/",
          "height": 206
        },
        "id": "sJgnmDgpxjSZ",
        "outputId": "86faba68-f582-4a87-f838-b6c555201a73"
      },
      "execution_count": 6,
      "outputs": [
        {
          "output_type": "execute_result",
          "data": {
            "text/html": [
              "\n",
              "  <div id=\"df-a8cdb246-17e4-4b12-b064-c9c2de23e309\">\n",
              "    <div class=\"colab-df-container\">\n",
              "      <div>\n",
              "<style scoped>\n",
              "    .dataframe tbody tr th:only-of-type {\n",
              "        vertical-align: middle;\n",
              "    }\n",
              "\n",
              "    .dataframe tbody tr th {\n",
              "        vertical-align: top;\n",
              "    }\n",
              "\n",
              "    .dataframe thead th {\n",
              "        text-align: right;\n",
              "    }\n",
              "</style>\n",
              "<table border=\"1\" class=\"dataframe\">\n",
              "  <thead>\n",
              "    <tr style=\"text-align: right;\">\n",
              "      <th></th>\n",
              "      <th>File Name</th>\n",
              "      <th>path</th>\n",
              "      <th>emotion</th>\n",
              "    </tr>\n",
              "  </thead>\n",
              "  <tbody>\n",
              "    <tr>\n",
              "      <th>0</th>\n",
              "      <td>1001_DFA_ANG_XX.wav</td>\n",
              "      <td>/content/drive/My Drive/Speech Detection Data/...</td>\n",
              "      <td>ANG</td>\n",
              "    </tr>\n",
              "    <tr>\n",
              "      <th>1</th>\n",
              "      <td>1001_DFA_DIS_XX.wav</td>\n",
              "      <td>/content/drive/My Drive/Speech Detection Data/...</td>\n",
              "      <td>DIS</td>\n",
              "    </tr>\n",
              "    <tr>\n",
              "      <th>2</th>\n",
              "      <td>1001_DFA_FEA_XX.wav</td>\n",
              "      <td>/content/drive/My Drive/Speech Detection Data/...</td>\n",
              "      <td>FEA</td>\n",
              "    </tr>\n",
              "    <tr>\n",
              "      <th>3</th>\n",
              "      <td>1001_DFA_HAP_XX.wav</td>\n",
              "      <td>/content/drive/My Drive/Speech Detection Data/...</td>\n",
              "      <td>HAP</td>\n",
              "    </tr>\n",
              "    <tr>\n",
              "      <th>4</th>\n",
              "      <td>1001_DFA_NEU_XX.wav</td>\n",
              "      <td>/content/drive/My Drive/Speech Detection Data/...</td>\n",
              "      <td>NEU</td>\n",
              "    </tr>\n",
              "  </tbody>\n",
              "</table>\n",
              "</div>\n",
              "      <button class=\"colab-df-convert\" onclick=\"convertToInteractive('df-a8cdb246-17e4-4b12-b064-c9c2de23e309')\"\n",
              "              title=\"Convert this dataframe to an interactive table.\"\n",
              "              style=\"display:none;\">\n",
              "        \n",
              "  <svg xmlns=\"http://www.w3.org/2000/svg\" height=\"24px\"viewBox=\"0 0 24 24\"\n",
              "       width=\"24px\">\n",
              "    <path d=\"M0 0h24v24H0V0z\" fill=\"none\"/>\n",
              "    <path d=\"M18.56 5.44l.94 2.06.94-2.06 2.06-.94-2.06-.94-.94-2.06-.94 2.06-2.06.94zm-11 1L8.5 8.5l.94-2.06 2.06-.94-2.06-.94L8.5 2.5l-.94 2.06-2.06.94zm10 10l.94 2.06.94-2.06 2.06-.94-2.06-.94-.94-2.06-.94 2.06-2.06.94z\"/><path d=\"M17.41 7.96l-1.37-1.37c-.4-.4-.92-.59-1.43-.59-.52 0-1.04.2-1.43.59L10.3 9.45l-7.72 7.72c-.78.78-.78 2.05 0 2.83L4 21.41c.39.39.9.59 1.41.59.51 0 1.02-.2 1.41-.59l7.78-7.78 2.81-2.81c.8-.78.8-2.07 0-2.86zM5.41 20L4 18.59l7.72-7.72 1.47 1.35L5.41 20z\"/>\n",
              "  </svg>\n",
              "      </button>\n",
              "      \n",
              "  <style>\n",
              "    .colab-df-container {\n",
              "      display:flex;\n",
              "      flex-wrap:wrap;\n",
              "      gap: 12px;\n",
              "    }\n",
              "\n",
              "    .colab-df-convert {\n",
              "      background-color: #E8F0FE;\n",
              "      border: none;\n",
              "      border-radius: 50%;\n",
              "      cursor: pointer;\n",
              "      display: none;\n",
              "      fill: #1967D2;\n",
              "      height: 32px;\n",
              "      padding: 0 0 0 0;\n",
              "      width: 32px;\n",
              "    }\n",
              "\n",
              "    .colab-df-convert:hover {\n",
              "      background-color: #E2EBFA;\n",
              "      box-shadow: 0px 1px 2px rgba(60, 64, 67, 0.3), 0px 1px 3px 1px rgba(60, 64, 67, 0.15);\n",
              "      fill: #174EA6;\n",
              "    }\n",
              "\n",
              "    [theme=dark] .colab-df-convert {\n",
              "      background-color: #3B4455;\n",
              "      fill: #D2E3FC;\n",
              "    }\n",
              "\n",
              "    [theme=dark] .colab-df-convert:hover {\n",
              "      background-color: #434B5C;\n",
              "      box-shadow: 0px 1px 3px 1px rgba(0, 0, 0, 0.15);\n",
              "      filter: drop-shadow(0px 1px 2px rgba(0, 0, 0, 0.3));\n",
              "      fill: #FFFFFF;\n",
              "    }\n",
              "  </style>\n",
              "\n",
              "      <script>\n",
              "        const buttonEl =\n",
              "          document.querySelector('#df-a8cdb246-17e4-4b12-b064-c9c2de23e309 button.colab-df-convert');\n",
              "        buttonEl.style.display =\n",
              "          google.colab.kernel.accessAllowed ? 'block' : 'none';\n",
              "\n",
              "        async function convertToInteractive(key) {\n",
              "          const element = document.querySelector('#df-a8cdb246-17e4-4b12-b064-c9c2de23e309');\n",
              "          const dataTable =\n",
              "            await google.colab.kernel.invokeFunction('convertToInteractive',\n",
              "                                                     [key], {});\n",
              "          if (!dataTable) return;\n",
              "\n",
              "          const docLinkHtml = 'Like what you see? Visit the ' +\n",
              "            '<a target=\"_blank\" href=https://colab.research.google.com/notebooks/data_table.ipynb>data table notebook</a>'\n",
              "            + ' to learn more about interactive tables.';\n",
              "          element.innerHTML = '';\n",
              "          dataTable['output_type'] = 'display_data';\n",
              "          await google.colab.output.renderOutput(dataTable, element);\n",
              "          const docLink = document.createElement('div');\n",
              "          docLink.innerHTML = docLinkHtml;\n",
              "          element.appendChild(docLink);\n",
              "        }\n",
              "      </script>\n",
              "    </div>\n",
              "  </div>\n",
              "  "
            ],
            "text/plain": [
              "             File Name  ... emotion\n",
              "0  1001_DFA_ANG_XX.wav  ...     ANG\n",
              "1  1001_DFA_DIS_XX.wav  ...     DIS\n",
              "2  1001_DFA_FEA_XX.wav  ...     FEA\n",
              "3  1001_DFA_HAP_XX.wav  ...     HAP\n",
              "4  1001_DFA_NEU_XX.wav  ...     NEU\n",
              "\n",
              "[5 rows x 3 columns]"
            ]
          },
          "metadata": {},
          "execution_count": 6
        }
      ]
    },
    {
      "cell_type": "code",
      "metadata": {
        "colab": {
          "base_uri": "https://localhost:8080/"
        },
        "id": "10b89ZpLDqx9",
        "outputId": "6a96384c-bdab-48cc-bba5-dd4372235318"
      },
      "source": [
        "df = df[:2000]\n",
        "len(df)"
      ],
      "execution_count": 7,
      "outputs": [
        {
          "output_type": "execute_result",
          "data": {
            "text/plain": [
              "2000"
            ]
          },
          "metadata": {},
          "execution_count": 7
        }
      ]
    },
    {
      "cell_type": "code",
      "metadata": {
        "id": "iMhTHur8voOp",
        "colab": {
          "base_uri": "https://localhost:8080/",
          "height": 280
        },
        "outputId": "9f6299f3-9b99-4bad-fc5a-1d2bf5e34bdb"
      },
      "source": [
        "# Filter broken and non-existed paths\n",
        "\n",
        "print(f\"Step 0: {len(df)}\")\n",
        "\n",
        "df[\"status\"] = df[\"path\"].apply(lambda path: True if os.path.exists(path) else None)\n",
        "df = df.dropna(subset=[\"path\"])\n",
        "df = df.drop(\"status\", 1)\n",
        "print(f\"Step 1: {len(df)}\")\n",
        "\n",
        "df = df.sample(frac=1)\n",
        "df = df.reset_index(drop=True)\n",
        "df.head()"
      ],
      "execution_count": 8,
      "outputs": [
        {
          "output_type": "stream",
          "name": "stdout",
          "text": [
            "Step 0: 2000\n",
            "Step 1: 2000\n"
          ]
        },
        {
          "output_type": "stream",
          "name": "stderr",
          "text": [
            "/usr/local/lib/python3.7/dist-packages/ipykernel_launcher.py:7: FutureWarning: In a future version of pandas all arguments of DataFrame.drop except for the argument 'labels' will be keyword-only\n",
            "  import sys\n"
          ]
        },
        {
          "output_type": "execute_result",
          "data": {
            "text/html": [
              "\n",
              "  <div id=\"df-ea506163-9f34-4dfe-a099-2c3ce190a165\">\n",
              "    <div class=\"colab-df-container\">\n",
              "      <div>\n",
              "<style scoped>\n",
              "    .dataframe tbody tr th:only-of-type {\n",
              "        vertical-align: middle;\n",
              "    }\n",
              "\n",
              "    .dataframe tbody tr th {\n",
              "        vertical-align: top;\n",
              "    }\n",
              "\n",
              "    .dataframe thead th {\n",
              "        text-align: right;\n",
              "    }\n",
              "</style>\n",
              "<table border=\"1\" class=\"dataframe\">\n",
              "  <thead>\n",
              "    <tr style=\"text-align: right;\">\n",
              "      <th></th>\n",
              "      <th>File Name</th>\n",
              "      <th>path</th>\n",
              "      <th>emotion</th>\n",
              "    </tr>\n",
              "  </thead>\n",
              "  <tbody>\n",
              "    <tr>\n",
              "      <th>0</th>\n",
              "      <td>1008_IEO_SAD_LO.wav</td>\n",
              "      <td>/content/drive/My Drive/Speech Detection Data/...</td>\n",
              "      <td>SAD</td>\n",
              "    </tr>\n",
              "    <tr>\n",
              "      <th>1</th>\n",
              "      <td>1013_ITH_DIS_XX.wav</td>\n",
              "      <td>/content/drive/My Drive/Speech Detection Data/...</td>\n",
              "      <td>DIS</td>\n",
              "    </tr>\n",
              "    <tr>\n",
              "      <th>2</th>\n",
              "      <td>1024_MTI_DIS_XX.wav</td>\n",
              "      <td>/content/drive/My Drive/Speech Detection Data/...</td>\n",
              "      <td>DIS</td>\n",
              "    </tr>\n",
              "    <tr>\n",
              "      <th>3</th>\n",
              "      <td>1006_WSI_SAD_XX.wav</td>\n",
              "      <td>/content/drive/My Drive/Speech Detection Data/...</td>\n",
              "      <td>SAD</td>\n",
              "    </tr>\n",
              "    <tr>\n",
              "      <th>4</th>\n",
              "      <td>1009_IWW_HAP_XX.wav</td>\n",
              "      <td>/content/drive/My Drive/Speech Detection Data/...</td>\n",
              "      <td>HAP</td>\n",
              "    </tr>\n",
              "  </tbody>\n",
              "</table>\n",
              "</div>\n",
              "      <button class=\"colab-df-convert\" onclick=\"convertToInteractive('df-ea506163-9f34-4dfe-a099-2c3ce190a165')\"\n",
              "              title=\"Convert this dataframe to an interactive table.\"\n",
              "              style=\"display:none;\">\n",
              "        \n",
              "  <svg xmlns=\"http://www.w3.org/2000/svg\" height=\"24px\"viewBox=\"0 0 24 24\"\n",
              "       width=\"24px\">\n",
              "    <path d=\"M0 0h24v24H0V0z\" fill=\"none\"/>\n",
              "    <path d=\"M18.56 5.44l.94 2.06.94-2.06 2.06-.94-2.06-.94-.94-2.06-.94 2.06-2.06.94zm-11 1L8.5 8.5l.94-2.06 2.06-.94-2.06-.94L8.5 2.5l-.94 2.06-2.06.94zm10 10l.94 2.06.94-2.06 2.06-.94-2.06-.94-.94-2.06-.94 2.06-2.06.94z\"/><path d=\"M17.41 7.96l-1.37-1.37c-.4-.4-.92-.59-1.43-.59-.52 0-1.04.2-1.43.59L10.3 9.45l-7.72 7.72c-.78.78-.78 2.05 0 2.83L4 21.41c.39.39.9.59 1.41.59.51 0 1.02-.2 1.41-.59l7.78-7.78 2.81-2.81c.8-.78.8-2.07 0-2.86zM5.41 20L4 18.59l7.72-7.72 1.47 1.35L5.41 20z\"/>\n",
              "  </svg>\n",
              "      </button>\n",
              "      \n",
              "  <style>\n",
              "    .colab-df-container {\n",
              "      display:flex;\n",
              "      flex-wrap:wrap;\n",
              "      gap: 12px;\n",
              "    }\n",
              "\n",
              "    .colab-df-convert {\n",
              "      background-color: #E8F0FE;\n",
              "      border: none;\n",
              "      border-radius: 50%;\n",
              "      cursor: pointer;\n",
              "      display: none;\n",
              "      fill: #1967D2;\n",
              "      height: 32px;\n",
              "      padding: 0 0 0 0;\n",
              "      width: 32px;\n",
              "    }\n",
              "\n",
              "    .colab-df-convert:hover {\n",
              "      background-color: #E2EBFA;\n",
              "      box-shadow: 0px 1px 2px rgba(60, 64, 67, 0.3), 0px 1px 3px 1px rgba(60, 64, 67, 0.15);\n",
              "      fill: #174EA6;\n",
              "    }\n",
              "\n",
              "    [theme=dark] .colab-df-convert {\n",
              "      background-color: #3B4455;\n",
              "      fill: #D2E3FC;\n",
              "    }\n",
              "\n",
              "    [theme=dark] .colab-df-convert:hover {\n",
              "      background-color: #434B5C;\n",
              "      box-shadow: 0px 1px 3px 1px rgba(0, 0, 0, 0.15);\n",
              "      filter: drop-shadow(0px 1px 2px rgba(0, 0, 0, 0.3));\n",
              "      fill: #FFFFFF;\n",
              "    }\n",
              "  </style>\n",
              "\n",
              "      <script>\n",
              "        const buttonEl =\n",
              "          document.querySelector('#df-ea506163-9f34-4dfe-a099-2c3ce190a165 button.colab-df-convert');\n",
              "        buttonEl.style.display =\n",
              "          google.colab.kernel.accessAllowed ? 'block' : 'none';\n",
              "\n",
              "        async function convertToInteractive(key) {\n",
              "          const element = document.querySelector('#df-ea506163-9f34-4dfe-a099-2c3ce190a165');\n",
              "          const dataTable =\n",
              "            await google.colab.kernel.invokeFunction('convertToInteractive',\n",
              "                                                     [key], {});\n",
              "          if (!dataTable) return;\n",
              "\n",
              "          const docLinkHtml = 'Like what you see? Visit the ' +\n",
              "            '<a target=\"_blank\" href=https://colab.research.google.com/notebooks/data_table.ipynb>data table notebook</a>'\n",
              "            + ' to learn more about interactive tables.';\n",
              "          element.innerHTML = '';\n",
              "          dataTable['output_type'] = 'display_data';\n",
              "          await google.colab.output.renderOutput(dataTable, element);\n",
              "          const docLink = document.createElement('div');\n",
              "          docLink.innerHTML = docLinkHtml;\n",
              "          element.appendChild(docLink);\n",
              "        }\n",
              "      </script>\n",
              "    </div>\n",
              "  </div>\n",
              "  "
            ],
            "text/plain": [
              "             File Name  ... emotion\n",
              "0  1008_IEO_SAD_LO.wav  ...     SAD\n",
              "1  1013_ITH_DIS_XX.wav  ...     DIS\n",
              "2  1024_MTI_DIS_XX.wav  ...     DIS\n",
              "3  1006_WSI_SAD_XX.wav  ...     SAD\n",
              "4  1009_IWW_HAP_XX.wav  ...     HAP\n",
              "\n",
              "[5 rows x 3 columns]"
            ]
          },
          "metadata": {},
          "execution_count": 8
        }
      ]
    },
    {
      "cell_type": "markdown",
      "metadata": {
        "id": "TWku4ra3Bp52"
      },
      "source": [
        "Let's explore how many labels (emotions) are in the dataset with what distribution."
      ]
    },
    {
      "cell_type": "code",
      "metadata": {
        "id": "beNpKMh5xXmX",
        "colab": {
          "base_uri": "https://localhost:8080/",
          "height": 305
        },
        "outputId": "9ff1955b-0e2a-4f56-ecee-6eaab23bf468"
      },
      "source": [
        "print(\"Labels: \", df[\"emotion\"].unique())\n",
        "print()\n",
        "df.groupby(\"emotion\").count()[[\"path\"]]"
      ],
      "execution_count": 9,
      "outputs": [
        {
          "output_type": "stream",
          "name": "stdout",
          "text": [
            "Labels:  ['SAD' 'DIS' 'HAP' 'ANG' 'NEU' 'FEA']\n",
            "\n"
          ]
        },
        {
          "output_type": "execute_result",
          "data": {
            "text/html": [
              "\n",
              "  <div id=\"df-15489498-2c67-4d4a-b5c3-7d32fbd54acf\">\n",
              "    <div class=\"colab-df-container\">\n",
              "      <div>\n",
              "<style scoped>\n",
              "    .dataframe tbody tr th:only-of-type {\n",
              "        vertical-align: middle;\n",
              "    }\n",
              "\n",
              "    .dataframe tbody tr th {\n",
              "        vertical-align: top;\n",
              "    }\n",
              "\n",
              "    .dataframe thead th {\n",
              "        text-align: right;\n",
              "    }\n",
              "</style>\n",
              "<table border=\"1\" class=\"dataframe\">\n",
              "  <thead>\n",
              "    <tr style=\"text-align: right;\">\n",
              "      <th></th>\n",
              "      <th>path</th>\n",
              "    </tr>\n",
              "    <tr>\n",
              "      <th>emotion</th>\n",
              "      <th></th>\n",
              "    </tr>\n",
              "  </thead>\n",
              "  <tbody>\n",
              "    <tr>\n",
              "      <th>ANG</th>\n",
              "      <td>342</td>\n",
              "    </tr>\n",
              "    <tr>\n",
              "      <th>DIS</th>\n",
              "      <td>342</td>\n",
              "    </tr>\n",
              "    <tr>\n",
              "      <th>FEA</th>\n",
              "      <td>342</td>\n",
              "    </tr>\n",
              "    <tr>\n",
              "      <th>HAP</th>\n",
              "      <td>342</td>\n",
              "    </tr>\n",
              "    <tr>\n",
              "      <th>NEU</th>\n",
              "      <td>291</td>\n",
              "    </tr>\n",
              "    <tr>\n",
              "      <th>SAD</th>\n",
              "      <td>341</td>\n",
              "    </tr>\n",
              "  </tbody>\n",
              "</table>\n",
              "</div>\n",
              "      <button class=\"colab-df-convert\" onclick=\"convertToInteractive('df-15489498-2c67-4d4a-b5c3-7d32fbd54acf')\"\n",
              "              title=\"Convert this dataframe to an interactive table.\"\n",
              "              style=\"display:none;\">\n",
              "        \n",
              "  <svg xmlns=\"http://www.w3.org/2000/svg\" height=\"24px\"viewBox=\"0 0 24 24\"\n",
              "       width=\"24px\">\n",
              "    <path d=\"M0 0h24v24H0V0z\" fill=\"none\"/>\n",
              "    <path d=\"M18.56 5.44l.94 2.06.94-2.06 2.06-.94-2.06-.94-.94-2.06-.94 2.06-2.06.94zm-11 1L8.5 8.5l.94-2.06 2.06-.94-2.06-.94L8.5 2.5l-.94 2.06-2.06.94zm10 10l.94 2.06.94-2.06 2.06-.94-2.06-.94-.94-2.06-.94 2.06-2.06.94z\"/><path d=\"M17.41 7.96l-1.37-1.37c-.4-.4-.92-.59-1.43-.59-.52 0-1.04.2-1.43.59L10.3 9.45l-7.72 7.72c-.78.78-.78 2.05 0 2.83L4 21.41c.39.39.9.59 1.41.59.51 0 1.02-.2 1.41-.59l7.78-7.78 2.81-2.81c.8-.78.8-2.07 0-2.86zM5.41 20L4 18.59l7.72-7.72 1.47 1.35L5.41 20z\"/>\n",
              "  </svg>\n",
              "      </button>\n",
              "      \n",
              "  <style>\n",
              "    .colab-df-container {\n",
              "      display:flex;\n",
              "      flex-wrap:wrap;\n",
              "      gap: 12px;\n",
              "    }\n",
              "\n",
              "    .colab-df-convert {\n",
              "      background-color: #E8F0FE;\n",
              "      border: none;\n",
              "      border-radius: 50%;\n",
              "      cursor: pointer;\n",
              "      display: none;\n",
              "      fill: #1967D2;\n",
              "      height: 32px;\n",
              "      padding: 0 0 0 0;\n",
              "      width: 32px;\n",
              "    }\n",
              "\n",
              "    .colab-df-convert:hover {\n",
              "      background-color: #E2EBFA;\n",
              "      box-shadow: 0px 1px 2px rgba(60, 64, 67, 0.3), 0px 1px 3px 1px rgba(60, 64, 67, 0.15);\n",
              "      fill: #174EA6;\n",
              "    }\n",
              "\n",
              "    [theme=dark] .colab-df-convert {\n",
              "      background-color: #3B4455;\n",
              "      fill: #D2E3FC;\n",
              "    }\n",
              "\n",
              "    [theme=dark] .colab-df-convert:hover {\n",
              "      background-color: #434B5C;\n",
              "      box-shadow: 0px 1px 3px 1px rgba(0, 0, 0, 0.15);\n",
              "      filter: drop-shadow(0px 1px 2px rgba(0, 0, 0, 0.3));\n",
              "      fill: #FFFFFF;\n",
              "    }\n",
              "  </style>\n",
              "\n",
              "      <script>\n",
              "        const buttonEl =\n",
              "          document.querySelector('#df-15489498-2c67-4d4a-b5c3-7d32fbd54acf button.colab-df-convert');\n",
              "        buttonEl.style.display =\n",
              "          google.colab.kernel.accessAllowed ? 'block' : 'none';\n",
              "\n",
              "        async function convertToInteractive(key) {\n",
              "          const element = document.querySelector('#df-15489498-2c67-4d4a-b5c3-7d32fbd54acf');\n",
              "          const dataTable =\n",
              "            await google.colab.kernel.invokeFunction('convertToInteractive',\n",
              "                                                     [key], {});\n",
              "          if (!dataTable) return;\n",
              "\n",
              "          const docLinkHtml = 'Like what you see? Visit the ' +\n",
              "            '<a target=\"_blank\" href=https://colab.research.google.com/notebooks/data_table.ipynb>data table notebook</a>'\n",
              "            + ' to learn more about interactive tables.';\n",
              "          element.innerHTML = '';\n",
              "          dataTable['output_type'] = 'display_data';\n",
              "          await google.colab.output.renderOutput(dataTable, element);\n",
              "          const docLink = document.createElement('div');\n",
              "          docLink.innerHTML = docLinkHtml;\n",
              "          element.appendChild(docLink);\n",
              "        }\n",
              "      </script>\n",
              "    </div>\n",
              "  </div>\n",
              "  "
            ],
            "text/plain": [
              "         path\n",
              "emotion      \n",
              "ANG       342\n",
              "DIS       342\n",
              "FEA       342\n",
              "HAP       342\n",
              "NEU       291\n",
              "SAD       341"
            ]
          },
          "metadata": {},
          "execution_count": 9
        }
      ]
    },
    {
      "cell_type": "markdown",
      "metadata": {
        "id": "i2hwRai7BNrx"
      },
      "source": [
        "Let's display some random sample of the dataset and run it a couple of times to get a feeling for the audio and the emotional label."
      ]
    },
    {
      "cell_type": "code",
      "metadata": {
        "id": "DZaQ_sP5xkIX",
        "colab": {
          "base_uri": "https://localhost:8080/",
          "height": 131
        },
        "outputId": "e539fd4e-c0af-4a68-9143-605259197e75"
      },
      "source": [
        "import torchaudio\n",
        "import librosa\n",
        "import IPython.display as ipd\n",
        "import numpy as np\n",
        "\n",
        "idx = np.random.randint(0, len(df))\n",
        "sample = df.iloc[idx]\n",
        "path = sample[\"path\"]\n",
        "label = sample[\"emotion\"]\n",
        "\n",
        "\n",
        "print(f\"ID Location: {idx}\")\n",
        "print(f\"      Label: {label}\")\n",
        "print()\n",
        "\n",
        "speech, sr = torchaudio.load(path)\n",
        "speech = speech[0].numpy().squeeze()\n",
        "speech = librosa.resample(np.asarray(speech), sr, 16_000)\n",
        "ipd.Audio(data=np.asarray(speech), autoplay=True, rate=16000)"
      ],
      "execution_count": 10,
      "outputs": [
        {
          "output_type": "stream",
          "name": "stdout",
          "text": [
            "ID Location: 642\n",
            "      Label: DIS\n",
            "\n"
          ]
        },
        {
          "output_type": "execute_result",
          "data": {
            "text/html": [
              "\n",
              "                <audio controls=\"controls\" autoplay=\"autoplay\">\n",
              "                    <source src=\"data:audio/wav;base64,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\" type=\"audio/wav\" />\n",
              "                    Your browser does not support the audio element.\n",
              "                </audio>\n",
              "              "
            ],
            "text/plain": [
              "<IPython.lib.display.Audio object>"
            ]
          },
          "metadata": {},
          "execution_count": 10
        }
      ]
    },
    {
      "cell_type": "markdown",
      "metadata": {
        "id": "7WNjWoWRCmPk"
      },
      "source": [
        "For training purposes, we need to split data into train test sets; in this specific example, we break with a `20%` rate for the test set."
      ]
    },
    {
      "cell_type": "code",
      "metadata": {
        "id": "mlim-044xtJN",
        "colab": {
          "base_uri": "https://localhost:8080/"
        },
        "outputId": "f2bea550-41b2-4fad-95f6-d4f0d5daf1df"
      },
      "source": [
        "save_path = csv_path\n",
        "\n",
        "train_df, test_df = train_test_split(df, test_size=0.2, random_state=101, stratify=df[\"emotion\"])\n",
        "\n",
        "train_df = train_df.reset_index(drop=True)\n",
        "test_df = test_df.reset_index(drop=True)\n",
        "\n",
        "train_df.to_csv(f\"{save_path}/train.csv\", sep=\"\\t\", encoding=\"utf-8\", index=False)\n",
        "test_df.to_csv(f\"{save_path}/test.csv\", sep=\"\\t\", encoding=\"utf-8\", index=False)\n",
        "\n",
        "\n",
        "print(train_df.shape)\n",
        "print(test_df.shape)"
      ],
      "execution_count": 11,
      "outputs": [
        {
          "output_type": "stream",
          "name": "stdout",
          "text": [
            "(1600, 3)\n",
            "(400, 3)\n"
          ]
        }
      ]
    },
    {
      "cell_type": "code",
      "source": [
        "pip install datasets"
      ],
      "metadata": {
        "colab": {
          "base_uri": "https://localhost:8080/"
        },
        "id": "fNPz-_kErmrW",
        "outputId": "bbb80494-88fa-4e16-edfe-249b1a5826c3"
      },
      "execution_count": 12,
      "outputs": [
        {
          "output_type": "stream",
          "name": "stdout",
          "text": [
            "Collecting datasets\n",
            "  Downloading datasets-1.18.3-py3-none-any.whl (311 kB)\n",
            "\u001b[K     |████████████████████████████████| 311 kB 4.1 MB/s \n",
            "\u001b[?25hCollecting fsspec[http]>=2021.05.0\n",
            "  Downloading fsspec-2022.1.0-py3-none-any.whl (133 kB)\n",
            "\u001b[K     |████████████████████████████████| 133 kB 46.7 MB/s \n",
            "\u001b[?25hRequirement already satisfied: numpy>=1.17 in /usr/local/lib/python3.7/dist-packages (from datasets) (1.19.5)\n",
            "Requirement already satisfied: pandas in /usr/local/lib/python3.7/dist-packages (from datasets) (1.3.5)\n",
            "Requirement already satisfied: requests>=2.19.0 in /usr/local/lib/python3.7/dist-packages (from datasets) (2.23.0)\n",
            "Requirement already satisfied: pyarrow!=4.0.0,>=3.0.0 in /usr/local/lib/python3.7/dist-packages (from datasets) (6.0.1)\n",
            "Collecting aiohttp\n",
            "  Downloading aiohttp-3.8.1-cp37-cp37m-manylinux_2_5_x86_64.manylinux1_x86_64.manylinux_2_12_x86_64.manylinux2010_x86_64.whl (1.1 MB)\n",
            "\u001b[K     |████████████████████████████████| 1.1 MB 49.7 MB/s \n",
            "\u001b[?25hCollecting huggingface-hub<1.0.0,>=0.1.0\n",
            "  Downloading huggingface_hub-0.4.0-py3-none-any.whl (67 kB)\n",
            "\u001b[K     |████████████████████████████████| 67 kB 5.9 MB/s \n",
            "\u001b[?25hRequirement already satisfied: dill in /usr/local/lib/python3.7/dist-packages (from datasets) (0.3.4)\n",
            "Requirement already satisfied: tqdm>=4.62.1 in /usr/local/lib/python3.7/dist-packages (from datasets) (4.62.3)\n",
            "Requirement already satisfied: multiprocess in /usr/local/lib/python3.7/dist-packages (from datasets) (0.70.12.2)\n",
            "Collecting xxhash\n",
            "  Downloading xxhash-2.0.2-cp37-cp37m-manylinux2010_x86_64.whl (243 kB)\n",
            "\u001b[K     |████████████████████████████████| 243 kB 53.0 MB/s \n",
            "\u001b[?25hRequirement already satisfied: packaging in /usr/local/lib/python3.7/dist-packages (from datasets) (21.3)\n",
            "Requirement already satisfied: importlib-metadata in /usr/local/lib/python3.7/dist-packages (from datasets) (4.10.1)\n",
            "Requirement already satisfied: filelock in /usr/local/lib/python3.7/dist-packages (from huggingface-hub<1.0.0,>=0.1.0->datasets) (3.4.2)\n",
            "Requirement already satisfied: typing-extensions>=3.7.4.3 in /usr/local/lib/python3.7/dist-packages (from huggingface-hub<1.0.0,>=0.1.0->datasets) (3.10.0.2)\n",
            "Requirement already satisfied: pyyaml in /usr/local/lib/python3.7/dist-packages (from huggingface-hub<1.0.0,>=0.1.0->datasets) (3.13)\n",
            "Requirement already satisfied: pyparsing!=3.0.5,>=2.0.2 in /usr/local/lib/python3.7/dist-packages (from packaging->datasets) (3.0.7)\n",
            "Requirement already satisfied: idna<3,>=2.5 in /usr/local/lib/python3.7/dist-packages (from requests>=2.19.0->datasets) (2.10)\n",
            "Requirement already satisfied: urllib3!=1.25.0,!=1.25.1,<1.26,>=1.21.1 in /usr/local/lib/python3.7/dist-packages (from requests>=2.19.0->datasets) (1.24.3)\n",
            "Requirement already satisfied: chardet<4,>=3.0.2 in /usr/local/lib/python3.7/dist-packages (from requests>=2.19.0->datasets) (3.0.4)\n",
            "Requirement already satisfied: certifi>=2017.4.17 in /usr/local/lib/python3.7/dist-packages (from requests>=2.19.0->datasets) (2021.10.8)\n",
            "Collecting frozenlist>=1.1.1\n",
            "  Downloading frozenlist-1.3.0-cp37-cp37m-manylinux_2_5_x86_64.manylinux1_x86_64.manylinux_2_17_x86_64.manylinux2014_x86_64.whl (144 kB)\n",
            "\u001b[K     |████████████████████████████████| 144 kB 9.8 MB/s \n",
            "\u001b[?25hRequirement already satisfied: charset-normalizer<3.0,>=2.0 in /usr/local/lib/python3.7/dist-packages (from aiohttp->datasets) (2.0.11)\n",
            "Collecting multidict<7.0,>=4.5\n",
            "  Downloading multidict-6.0.2-cp37-cp37m-manylinux_2_17_x86_64.manylinux2014_x86_64.whl (94 kB)\n",
            "\u001b[K     |████████████████████████████████| 94 kB 3.5 MB/s \n",
            "\u001b[?25hCollecting aiosignal>=1.1.2\n",
            "  Downloading aiosignal-1.2.0-py3-none-any.whl (8.2 kB)\n",
            "Collecting asynctest==0.13.0\n",
            "  Downloading asynctest-0.13.0-py3-none-any.whl (26 kB)\n",
            "Requirement already satisfied: attrs>=17.3.0 in /usr/local/lib/python3.7/dist-packages (from aiohttp->datasets) (21.4.0)\n",
            "Collecting yarl<2.0,>=1.0\n",
            "  Downloading yarl-1.7.2-cp37-cp37m-manylinux_2_5_x86_64.manylinux1_x86_64.manylinux_2_12_x86_64.manylinux2010_x86_64.whl (271 kB)\n",
            "\u001b[K     |████████████████████████████████| 271 kB 52.3 MB/s \n",
            "\u001b[?25hCollecting async-timeout<5.0,>=4.0.0a3\n",
            "  Downloading async_timeout-4.0.2-py3-none-any.whl (5.8 kB)\n",
            "Requirement already satisfied: zipp>=0.5 in /usr/local/lib/python3.7/dist-packages (from importlib-metadata->datasets) (3.7.0)\n",
            "Requirement already satisfied: python-dateutil>=2.7.3 in /usr/local/lib/python3.7/dist-packages (from pandas->datasets) (2.8.2)\n",
            "Requirement already satisfied: pytz>=2017.3 in /usr/local/lib/python3.7/dist-packages (from pandas->datasets) (2018.9)\n",
            "Requirement already satisfied: six>=1.5 in /usr/local/lib/python3.7/dist-packages (from python-dateutil>=2.7.3->pandas->datasets) (1.15.0)\n",
            "Installing collected packages: multidict, frozenlist, yarl, asynctest, async-timeout, aiosignal, fsspec, aiohttp, xxhash, huggingface-hub, datasets\n",
            "Successfully installed aiohttp-3.8.1 aiosignal-1.2.0 async-timeout-4.0.2 asynctest-0.13.0 datasets-1.18.3 frozenlist-1.3.0 fsspec-2022.1.0 huggingface-hub-0.4.0 multidict-6.0.2 xxhash-2.0.2 yarl-1.7.2\n"
          ]
        }
      ]
    },
    {
      "cell_type": "markdown",
      "metadata": {
        "id": "kcnD-d_rDElt"
      },
      "source": [
        "## Prepare Data for Training"
      ]
    },
    {
      "cell_type": "code",
      "metadata": {
        "colab": {
          "base_uri": "https://localhost:8080/",
          "height": 315,
          "referenced_widgets": [
            "2d9180f79f224ad7ba9aa9b4c5f77e20",
            "f91411abb2e54d04814804e60739841d",
            "697a795304664ae794899babaabbcea9",
            "e700f647296643ceaab209e5b67896c8",
            "58354c1857ba47c08e86f02d21d8fceb",
            "e775e9fc6dc243d9bfcaca611fedfa76",
            "08ce275f7d394416816d011561c792af",
            "f27f986cf95841b98cc99a98a2555306",
            "3d0607bf05bb44ecbc11c2353c57f82f",
            "cb7bc259278e4a919e97e8b8dadc6307",
            "6d65bb352e02434ab45a2d7ff99e22fc",
            "f1d1d75906ca4c9388b18ac953b4d8bf",
            "11bd6774d00a4be598b264ba4c4815a5",
            "d2b62db94eb74223a511b699878cd469",
            "e394e625f10749e2989dc548ac6f97a3",
            "f8f9e1f6b10b4038b4dc2d4e3ab98bc8",
            "28dc8a1f129f44e8b1270528af96236e",
            "91d6731fc08d48fab4b0ef938b4272a8",
            "a40352acd81d430fb623f605e372f3d6",
            "43bc23bb517847cbb325153f9b2031b0",
            "ccef244e56b54190adbda93606edc3a0",
            "06d369fe6647423ab2085eef18569bd7",
            "cf74556a568e4176848fe8301d420119",
            "0166eb524e314844bc2546506612a68a",
            "d9108a81ab2241ddb1e48b74d3981022",
            "42d33eea722b4c4a9c7ecb8696854377",
            "45eed52bcb6e4fc9bfacc06679b2d78a",
            "1b5539e6eb6e4bdaa9ff314fd7639b05",
            "41a13da88c9245c280bfb620a8a4d6bf",
            "f3ff4a49f0314bd5b6d62f5176b0ab14",
            "7149de7550fa4f6d938ce09510a184fd",
            "456d8092ec764383aeb755c406c59057",
            "e21fc34af9024596a3c2c9d38b36312d"
          ]
        },
        "id": "nnVfxQYDDIc6",
        "outputId": "fb7a63ce-1c21-4b90-c719-995f734483a1"
      },
      "source": [
        "# Loading the created dataset using datasets\n",
        "from datasets import load_dataset, load_metric\n",
        "\n",
        "\n",
        "data_files = {\n",
        "    \"train\": csv_path + \"train.csv\", \n",
        "    \"validation\": csv_path + \"test.csv\",\n",
        "}\n",
        "\n",
        "dataset = load_dataset(\"csv\", data_files=data_files, delimiter=\"\\t\", )\n",
        "train_dataset = dataset[\"train\"]\n",
        "eval_dataset = dataset[\"validation\"]\n",
        "\n",
        "print(train_dataset)\n",
        "print(eval_dataset)"
      ],
      "execution_count": 13,
      "outputs": [
        {
          "output_type": "stream",
          "name": "stderr",
          "text": [
            "Using custom data configuration default-e6065d4b1b452933\n"
          ]
        },
        {
          "output_type": "stream",
          "name": "stdout",
          "text": [
            "Downloading and preparing dataset csv/default to /content/cache/csv/default-e6065d4b1b452933/0.0.0/6b9057d9e23d9d8a2f05b985917a0da84d70c5dae3d22ddd8a3f22fb01c69d9e...\n"
          ]
        },
        {
          "output_type": "display_data",
          "data": {
            "application/vnd.jupyter.widget-view+json": {
              "model_id": "2d9180f79f224ad7ba9aa9b4c5f77e20",
              "version_minor": 0,
              "version_major": 2
            },
            "text/plain": [
              "  0%|          | 0/2 [00:00<?, ?it/s]"
            ]
          },
          "metadata": {}
        },
        {
          "output_type": "display_data",
          "data": {
            "application/vnd.jupyter.widget-view+json": {
              "model_id": "f1d1d75906ca4c9388b18ac953b4d8bf",
              "version_minor": 0,
              "version_major": 2
            },
            "text/plain": [
              "  0%|          | 0/2 [00:00<?, ?it/s]"
            ]
          },
          "metadata": {}
        },
        {
          "output_type": "stream",
          "name": "stdout",
          "text": [
            "Dataset csv downloaded and prepared to /content/cache/csv/default-e6065d4b1b452933/0.0.0/6b9057d9e23d9d8a2f05b985917a0da84d70c5dae3d22ddd8a3f22fb01c69d9e. Subsequent calls will reuse this data.\n"
          ]
        },
        {
          "output_type": "display_data",
          "data": {
            "application/vnd.jupyter.widget-view+json": {
              "model_id": "cf74556a568e4176848fe8301d420119",
              "version_minor": 0,
              "version_major": 2
            },
            "text/plain": [
              "  0%|          | 0/2 [00:00<?, ?it/s]"
            ]
          },
          "metadata": {}
        },
        {
          "output_type": "stream",
          "name": "stdout",
          "text": [
            "Dataset({\n",
            "    features: ['File Name', 'path', 'emotion'],\n",
            "    num_rows: 1600\n",
            "})\n",
            "Dataset({\n",
            "    features: ['File Name', 'path', 'emotion'],\n",
            "    num_rows: 400\n",
            "})\n"
          ]
        }
      ]
    },
    {
      "cell_type": "code",
      "source": [
        ""
      ],
      "metadata": {
        "id": "B_ncIjhP_QFw"
      },
      "execution_count": null,
      "outputs": []
    },
    {
      "cell_type": "code",
      "metadata": {
        "id": "rsOrQPBOEVOy"
      },
      "source": [
        "# We need to specify the input and output column\n",
        "input_column = \"path\"\n",
        "output_column = \"emotion\""
      ],
      "execution_count": 14,
      "outputs": []
    },
    {
      "cell_type": "code",
      "metadata": {
        "colab": {
          "base_uri": "https://localhost:8080/"
        },
        "id": "-gh7fQ1XEpC7",
        "outputId": "87a2d721-e0eb-448b-9984-28f78fedccad"
      },
      "source": [
        "# we need to distinguish the unique labels in our SER dataset\n",
        "label_list = train_dataset.unique(output_column)\n",
        "label_list.sort()  # Let's sort it for determinism\n",
        "num_labels = len(label_list)\n",
        "print(f\"A classification problem with {num_labels} classes: {label_list}\")"
      ],
      "execution_count": 15,
      "outputs": [
        {
          "output_type": "stream",
          "name": "stdout",
          "text": [
            "A classification problem with 6 classes: ['ANG', 'DIS', 'FEA', 'HAP', 'NEU', 'SAD']\n"
          ]
        }
      ]
    },
    {
      "cell_type": "code",
      "source": [
        "pip install transformers"
      ],
      "metadata": {
        "colab": {
          "base_uri": "https://localhost:8080/",
          "height": 771
        },
        "id": "QbJCFnRTr0G1",
        "outputId": "34e133fa-dbe1-4ad6-fbc9-846929bfa02a"
      },
      "execution_count": 16,
      "outputs": [
        {
          "output_type": "stream",
          "name": "stdout",
          "text": [
            "Collecting transformers\n",
            "  Downloading transformers-4.16.2-py3-none-any.whl (3.5 MB)\n",
            "\u001b[K     |████████████████████████████████| 3.5 MB 4.3 MB/s \n",
            "\u001b[?25hRequirement already satisfied: packaging>=20.0 in /usr/local/lib/python3.7/dist-packages (from transformers) (21.3)\n",
            "Collecting tokenizers!=0.11.3,>=0.10.1\n",
            "  Downloading tokenizers-0.11.4-cp37-cp37m-manylinux_2_12_x86_64.manylinux2010_x86_64.whl (6.8 MB)\n",
            "\u001b[K     |████████████████████████████████| 6.8 MB 29.2 MB/s \n",
            "\u001b[?25hRequirement already satisfied: regex!=2019.12.17 in /usr/local/lib/python3.7/dist-packages (from transformers) (2019.12.20)\n",
            "Collecting pyyaml>=5.1\n",
            "  Downloading PyYAML-6.0-cp37-cp37m-manylinux_2_5_x86_64.manylinux1_x86_64.manylinux_2_12_x86_64.manylinux2010_x86_64.whl (596 kB)\n",
            "\u001b[K     |████████████████████████████████| 596 kB 10.3 MB/s \n",
            "\u001b[?25hRequirement already satisfied: filelock in /usr/local/lib/python3.7/dist-packages (from transformers) (3.4.2)\n",
            "Requirement already satisfied: requests in /usr/local/lib/python3.7/dist-packages (from transformers) (2.23.0)\n",
            "Requirement already satisfied: importlib-metadata in /usr/local/lib/python3.7/dist-packages (from transformers) (4.10.1)\n",
            "Requirement already satisfied: numpy>=1.17 in /usr/local/lib/python3.7/dist-packages (from transformers) (1.19.5)\n",
            "Collecting sacremoses\n",
            "  Downloading sacremoses-0.0.47-py2.py3-none-any.whl (895 kB)\n",
            "\u001b[K     |████████████████████████████████| 895 kB 10.2 MB/s \n",
            "\u001b[?25hRequirement already satisfied: huggingface-hub<1.0,>=0.1.0 in /usr/local/lib/python3.7/dist-packages (from transformers) (0.4.0)\n",
            "Requirement already satisfied: tqdm>=4.27 in /usr/local/lib/python3.7/dist-packages (from transformers) (4.62.3)\n",
            "Requirement already satisfied: typing-extensions>=3.7.4.3 in /usr/local/lib/python3.7/dist-packages (from huggingface-hub<1.0,>=0.1.0->transformers) (3.10.0.2)\n",
            "Requirement already satisfied: pyparsing!=3.0.5,>=2.0.2 in /usr/local/lib/python3.7/dist-packages (from packaging>=20.0->transformers) (3.0.7)\n",
            "Requirement already satisfied: zipp>=0.5 in /usr/local/lib/python3.7/dist-packages (from importlib-metadata->transformers) (3.7.0)\n",
            "Requirement already satisfied: chardet<4,>=3.0.2 in /usr/local/lib/python3.7/dist-packages (from requests->transformers) (3.0.4)\n",
            "Requirement already satisfied: idna<3,>=2.5 in /usr/local/lib/python3.7/dist-packages (from requests->transformers) (2.10)\n",
            "Requirement already satisfied: certifi>=2017.4.17 in /usr/local/lib/python3.7/dist-packages (from requests->transformers) (2021.10.8)\n",
            "Requirement already satisfied: urllib3!=1.25.0,!=1.25.1,<1.26,>=1.21.1 in /usr/local/lib/python3.7/dist-packages (from requests->transformers) (1.24.3)\n",
            "Requirement already satisfied: six in /usr/local/lib/python3.7/dist-packages (from sacremoses->transformers) (1.15.0)\n",
            "Requirement already satisfied: click in /usr/local/lib/python3.7/dist-packages (from sacremoses->transformers) (7.1.2)\n",
            "Requirement already satisfied: joblib in /usr/local/lib/python3.7/dist-packages (from sacremoses->transformers) (1.1.0)\n",
            "Installing collected packages: pyyaml, tokenizers, sacremoses, transformers\n",
            "  Attempting uninstall: pyyaml\n",
            "    Found existing installation: PyYAML 3.13\n",
            "    Uninstalling PyYAML-3.13:\n",
            "      Successfully uninstalled PyYAML-3.13\n",
            "Successfully installed pyyaml-6.0 sacremoses-0.0.47 tokenizers-0.11.4 transformers-4.16.2\n"
          ]
        },
        {
          "output_type": "display_data",
          "data": {
            "application/vnd.colab-display-data+json": {
              "pip_warning": {
                "packages": [
                  "yaml"
                ]
              }
            }
          },
          "metadata": {}
        }
      ]
    },
    {
      "cell_type": "markdown",
      "metadata": {
        "id": "4TkGYrVTFR6Y"
      },
      "source": [
        "In order to preprocess the audio into our classification model, we need to set up the relevant Wav2Vec2 assets regarding our language in this case `lighteternal/wav2vec2-large-xlsr-53-greek` fine-tuned by [Dimitris Papadopoulos](https://huggingface.co/lighteternal/wav2vec2-large-xlsr-53-greek). To handle the context representations in any audio length we use a merge strategy plan (pooling mode) to concatenate that 3D representations into 2D representations.\n",
        "\n",
        "There are three merge strategies `mean`, `sum`, and `max`. In this example, we achieved better results on the mean approach. In the following, we need to initiate the config and the feature extractor from the Dimitris model."
      ]
    },
    {
      "cell_type": "code",
      "metadata": {
        "id": "rQrGaFohGzVo"
      },
      "source": [
        "from transformers import AutoConfig, Wav2Vec2Processor, UniSpeechSatForXVector"
      ],
      "execution_count": 17,
      "outputs": []
    },
    {
      "cell_type": "code",
      "metadata": {
        "id": "9Y1adr7vFrq7"
      },
      "source": [
        "#model_name_or_path = \"lighteternal/wav2vec2-large-xlsr-53-greek\"----------good\n",
        "#model_name_or_path = \"facebook/wav2vec2-base-960h\" -----------------------poor\n",
        "model_name_or_path1 = \"facebook/wav2vec2-large-960h-lv60-self\"\n",
        "model_name_or_path = \"facebook/wav2vec2-large-xlsr-53\"\n",
        "#model_name_or_path = \"microsoft/unispeech-sat-base-plus-sv\"\n",
        "#model_name_or_path = \"microsoft/wavlm-base-plus-sv\"\n",
        "pooling_mode = \"mean\""
      ],
      "execution_count": 18,
      "outputs": []
    },
    {
      "cell_type": "code",
      "metadata": {
        "id": "AZjDSmBRGqr6",
        "colab": {
          "base_uri": "https://localhost:8080/",
          "height": 48,
          "referenced_widgets": [
            "d91808de24364767a2b7d12b01fdada5",
            "b8bee9170ca0442b91b458d55030aec1",
            "7204b74dde6847e1b6a04a82eca9e6d9",
            "6bf7f014b78b40a4a7051d0127cfda4d",
            "330841b5ba294991a604dd3f28c19f0d",
            "79f0d1813eca40cb8a8d209d1bc546d9",
            "d846dadc4d8d4c09b20aabef1438788a",
            "7fe8938886bf4476997134b98ea63e74",
            "a2a6a42affc845308fd6dfc37ab0eaf1",
            "0711b7afb6344822b4d2231a1c0a05dc",
            "011600fd1b204f028333418871570020"
          ]
        },
        "outputId": "72d9cabf-321c-4ded-9ab7-ab157d085fb4"
      },
      "source": [
        "# config\n",
        "config = AutoConfig.from_pretrained(\n",
        "    model_name_or_path1,\n",
        "    num_labels=num_labels,\n",
        "    label2id={label: i for i, label in enumerate(label_list)},\n",
        "    id2label={i: label for i, label in enumerate(label_list)},\n",
        "    finetuning_task=\"wav2vec2_clf\",\n",
        ")\n",
        "setattr(config, 'pooling_mode', pooling_mode)"
      ],
      "execution_count": 19,
      "outputs": [
        {
          "output_type": "display_data",
          "data": {
            "application/vnd.jupyter.widget-view+json": {
              "model_id": "d91808de24364767a2b7d12b01fdada5",
              "version_minor": 0,
              "version_major": 2
            },
            "text/plain": [
              "Downloading:   0%|          | 0.00/1.57k [00:00<?, ?B/s]"
            ]
          },
          "metadata": {}
        }
      ]
    },
    {
      "cell_type": "code",
      "metadata": {
        "colab": {
          "base_uri": "https://localhost:8080/",
          "height": 163,
          "referenced_widgets": [
            "b5fee5c438fc49be853eb2d86fd26c45",
            "4067a09f415b4095b59ae780a05fcfb9",
            "077e457750c04eae9d1c362f011f5bdc",
            "8356a4185313483db6c020e07c2cc36f",
            "d50469b0b3e24ccbb98186e9cb70657b",
            "44c7abda9ab049c092c9e941292969e3",
            "10fb1698ce0748998c48c11435680764",
            "102ed97c2f1f4905a491420b8d605cf2",
            "e3c329ab13c6476391b978d1be37017b",
            "3af34326346c48b5ab4c6e58cf49aedf",
            "2b7def004c0d44e2b262e091c4e6f2cd",
            "b6d09e4487a84c6ca57c7ac44503d576",
            "7547ff72427a4e1cb4e2cada77da2199",
            "f1cca3c767374292af2c10a5c7e2c071",
            "f5ea7371d6344cea8d933b89e72607c5",
            "67ecf5f656b54ef7becb99cb00440b38",
            "326cbf199b01476dbc7d77dfec4b82f1",
            "f32c575888e2410c96f4c5ae267670a4",
            "c76cef9f0e134339a63764aa18335fca",
            "870046305f074bf3ba9e37760f052e86",
            "8f2a53eb2e574568b83ff531bcc14518",
            "bb3cc3fc4a914bf9a1e9fd4aabfb7ddf",
            "eef2747fc7ec46688569d92bb4dd4905",
            "e5c17969ae754afaa5bc927a90b67c9f",
            "307eeb5cd4904945a69cbba3674fcac0",
            "a0ffc106c969484ba5e6b419177e3c21",
            "a67a2e8578134e5890798a4a304dcf89",
            "74c49f181d8148959d33c906ba1bd118",
            "89de5aa986e3452796a4f3cb06aa2725",
            "9883d0e9cf0d4f528864e37b43bce378",
            "c7d3d07bd7ab435dbcf8c7ffeafc9a1a",
            "1e2287247aef43199c48821aeef8668d",
            "a13b262c05614aff81606e17fbd0265a",
            "bad7e4f987ac4d3388588913c467f827",
            "93e8e8e116f746b59d8c4df3c98fac6a",
            "68e7464b1f8142fab808d68256f42102",
            "e7132bf2b5e349fbb05fafe1c173c83d",
            "940adbe3ad95410e8ef3407b080f0a99",
            "c9c39dca71c5493b8628f2a54c2308e4",
            "437e6c27b1254b4e8b74316098af2512",
            "9cfe93a2b1f64f6980e90eb5538bee5a",
            "3a88548a902849ad8fe687788519a751",
            "270c82e7c30f4b16b0bc6f0e43abd184",
            "d5c7d95951f14d05bff8e5465ce1cc76"
          ]
        },
        "id": "ZXVl9qW1Gw_-",
        "outputId": "5d0626e3-2c47-4a1a-e723-875167709e79"
      },
      "source": [
        "processor = Wav2Vec2Processor.from_pretrained(model_name_or_path1,)\n",
        "target_sampling_rate = processor.feature_extractor.sampling_rate\n",
        "print(f\"The target sampling rate: {target_sampling_rate}\")"
      ],
      "execution_count": 20,
      "outputs": [
        {
          "output_type": "display_data",
          "data": {
            "application/vnd.jupyter.widget-view+json": {
              "model_id": "b5fee5c438fc49be853eb2d86fd26c45",
              "version_minor": 0,
              "version_major": 2
            },
            "text/plain": [
              "Downloading:   0%|          | 0.00/158 [00:00<?, ?B/s]"
            ]
          },
          "metadata": {}
        },
        {
          "output_type": "display_data",
          "data": {
            "application/vnd.jupyter.widget-view+json": {
              "model_id": "b6d09e4487a84c6ca57c7ac44503d576",
              "version_minor": 0,
              "version_major": 2
            },
            "text/plain": [
              "Downloading:   0%|          | 0.00/162 [00:00<?, ?B/s]"
            ]
          },
          "metadata": {}
        },
        {
          "output_type": "display_data",
          "data": {
            "application/vnd.jupyter.widget-view+json": {
              "model_id": "eef2747fc7ec46688569d92bb4dd4905",
              "version_minor": 0,
              "version_major": 2
            },
            "text/plain": [
              "Downloading:   0%|          | 0.00/291 [00:00<?, ?B/s]"
            ]
          },
          "metadata": {}
        },
        {
          "output_type": "display_data",
          "data": {
            "application/vnd.jupyter.widget-view+json": {
              "model_id": "bad7e4f987ac4d3388588913c467f827",
              "version_minor": 0,
              "version_major": 2
            },
            "text/plain": [
              "Downloading:   0%|          | 0.00/85.0 [00:00<?, ?B/s]"
            ]
          },
          "metadata": {}
        },
        {
          "output_type": "stream",
          "name": "stdout",
          "text": [
            "The target sampling rate: 16000\n"
          ]
        }
      ]
    },
    {
      "cell_type": "markdown",
      "metadata": {
        "id": "CbGuYgLqHXZg"
      },
      "source": [
        "# Preprocess Data"
      ]
    },
    {
      "cell_type": "markdown",
      "metadata": {
        "id": "qLk-eM1DFjtE"
      },
      "source": [
        "So far, we downloaded, loaded, and split the SER dataset into train and test sets. The instantiated our strategy configuration for using context representations in our classification problem SER. Now, we need to extract features from the audio path in context representation tensors and feed them into our classification model to determine the emotion in the speech.\n",
        "\n",
        "Since the audio file is saved in the `.wav` format, it is easy to use **[Librosa](https://librosa.org/doc/latest/index.html)** or others, but we suppose that the format may be in the `.mp3` format in case of generality. We found that the **[Torchaudio](https://pytorch.org/audio/stable/index.html)** library works best for reading in `.mp3` data.\n",
        "\n",
        "An audio file usually stores both its values and the sampling rate with which the speech signal was digitalized. We want to store both in the dataset and write a **map(...)** function accordingly. Also, we need to handle the string labels into integers for our specific classification task in this case, the **single-label classification** you may want to use for your **regression** or even **multi-label classification**."
      ]
    },
    {
      "cell_type": "code",
      "metadata": {
        "id": "6UqlIV3uGxDA"
      },
      "source": [
        "def speech_file_to_array_fn(path):\n",
        "    speech_array, sampling_rate = torchaudio.load(path)\n",
        "    resampler = torchaudio.transforms.Resample(sampling_rate, target_sampling_rate)\n",
        "    speech = resampler(speech_array).squeeze().numpy()\n",
        "    return speech\n",
        "\n",
        "def label_to_id(label, label_list):\n",
        "\n",
        "    if len(label_list) > 0:\n",
        "        return label_list.index(label) if label in label_list else -1\n",
        "\n",
        "    return label\n",
        "\n",
        "def preprocess_function(examples):\n",
        "    speech_list = [speech_file_to_array_fn(path) for path in examples[input_column]]\n",
        "    target_list = [label_to_id(label, label_list) for label in examples[output_column]]\n",
        "\n",
        "    result = processor(speech_list, sampling_rate=target_sampling_rate)\n",
        "    result[\"labels\"] = list(target_list)\n",
        "\n",
        "    return result"
      ],
      "execution_count": 21,
      "outputs": []
    },
    {
      "cell_type": "code",
      "source": [
        "# type(train_dataset)"
      ],
      "metadata": {
        "id": "s89fmtufucn4"
      },
      "execution_count": null,
      "outputs": []
    },
    {
      "cell_type": "code",
      "source": [
        "# label_list = ['Happy', 'Sad', 'Angry']\n",
        "# label = \"Digust\"\n",
        "\n",
        "# result = label_to_id(label,label_list)\n",
        "\n"
      ],
      "metadata": {
        "id": "Mao3tL5etUVY"
      },
      "execution_count": null,
      "outputs": []
    },
    {
      "cell_type": "code",
      "source": [
        "# path = df['path'][0]\n",
        "# speech = speech_file_to_array_fn(path)\n",
        "# speech"
      ],
      "metadata": {
        "id": "pT2VE3anw-GJ"
      },
      "execution_count": null,
      "outputs": []
    },
    {
      "cell_type": "code",
      "source": [
        "# train = train_dataset\n",
        "# type(train)"
      ],
      "metadata": {
        "id": "RBPVrAfyvoYb"
      },
      "execution_count": null,
      "outputs": []
    },
    {
      "cell_type": "code",
      "metadata": {
        "colab": {
          "base_uri": "https://localhost:8080/",
          "height": 164
        },
        "id": "ioP8FfR2GxHi",
        "outputId": "b8b251ff-6a1e-4160-93bc-dd1f7a5061f7"
      },
      "source": [
        "train_dataset = train_dataset.map(\n",
        "    preprocess_function,\n",
        "    batch_size=100,\n",
        "    batched=True,\n",
        "    num_proc=4\n",
        ")\n"
      ],
      "execution_count": 22,
      "outputs": [
        {
          "output_type": "stream",
          "name": "stderr",
          "text": [
            "/usr/local/lib/python3.7/dist-packages/numpy/core/_asarray.py:83: VisibleDeprecationWarning: Creating an ndarray from ragged nested sequences (which is a list-or-tuple of lists-or-tuples-or ndarrays with different lengths or shapes) is deprecated. If you meant to do this, you must specify 'dtype=object' when creating the ndarray\n",
            "  return array(a, dtype, copy=False, order=order)\n",
            "/usr/local/lib/python3.7/dist-packages/numpy/core/_asarray.py:83: VisibleDeprecationWarning: Creating an ndarray from ragged nested sequences (which is a list-or-tuple of lists-or-tuples-or ndarrays with different lengths or shapes) is deprecated. If you meant to do this, you must specify 'dtype=object' when creating the ndarray\n",
            "  return array(a, dtype, copy=False, order=order)\n",
            "/usr/local/lib/python3.7/dist-packages/numpy/core/_asarray.py:83: VisibleDeprecationWarning: Creating an ndarray from ragged nested sequences (which is a list-or-tuple of lists-or-tuples-or ndarrays with different lengths or shapes) is deprecated. If you meant to do this, you must specify 'dtype=object' when creating the ndarray\n",
            "  return array(a, dtype, copy=False, order=order)\n",
            "/usr/local/lib/python3.7/dist-packages/numpy/core/_asarray.py:83: VisibleDeprecationWarning: Creating an ndarray from ragged nested sequences (which is a list-or-tuple of lists-or-tuples-or ndarrays with different lengths or shapes) is deprecated. If you meant to do this, you must specify 'dtype=object' when creating the ndarray\n",
            "  return array(a, dtype, copy=False, order=order)\n"
          ]
        }
      ]
    },
    {
      "cell_type": "code",
      "source": [
        "#train_dataset"
      ],
      "metadata": {
        "id": "vWEX491fxdK0"
      },
      "execution_count": null,
      "outputs": []
    },
    {
      "cell_type": "code",
      "source": [
        "eval_dataset = eval_dataset.map(\n",
        "    preprocess_function,\n",
        "    batch_size=100,\n",
        "    batched=True,\n",
        "    num_proc=4\n",
        ")"
      ],
      "metadata": {
        "colab": {
          "base_uri": "https://localhost:8080/",
          "height": 164
        },
        "id": "-rZMDjkww3rk",
        "outputId": "3145fde7-3867-4890-9de1-ad710493ec56"
      },
      "execution_count": 23,
      "outputs": [
        {
          "output_type": "stream",
          "name": "stderr",
          "text": [
            "/usr/local/lib/python3.7/dist-packages/numpy/core/_asarray.py:83: VisibleDeprecationWarning: Creating an ndarray from ragged nested sequences (which is a list-or-tuple of lists-or-tuples-or ndarrays with different lengths or shapes) is deprecated. If you meant to do this, you must specify 'dtype=object' when creating the ndarray\n",
            "  return array(a, dtype, copy=False, order=order)\n",
            "/usr/local/lib/python3.7/dist-packages/numpy/core/_asarray.py:83: VisibleDeprecationWarning: Creating an ndarray from ragged nested sequences (which is a list-or-tuple of lists-or-tuples-or ndarrays with different lengths or shapes) is deprecated. If you meant to do this, you must specify 'dtype=object' when creating the ndarray\n",
            "  return array(a, dtype, copy=False, order=order)\n",
            "/usr/local/lib/python3.7/dist-packages/numpy/core/_asarray.py:83: VisibleDeprecationWarning: Creating an ndarray from ragged nested sequences (which is a list-or-tuple of lists-or-tuples-or ndarrays with different lengths or shapes) is deprecated. If you meant to do this, you must specify 'dtype=object' when creating the ndarray\n",
            "  return array(a, dtype, copy=False, order=order)\n",
            "/usr/local/lib/python3.7/dist-packages/numpy/core/_asarray.py:83: VisibleDeprecationWarning: Creating an ndarray from ragged nested sequences (which is a list-or-tuple of lists-or-tuples-or ndarrays with different lengths or shapes) is deprecated. If you meant to do this, you must specify 'dtype=object' when creating the ndarray\n",
            "  return array(a, dtype, copy=False, order=order)\n"
          ]
        }
      ]
    },
    {
      "cell_type": "code",
      "source": [
        "#train_dataset"
      ],
      "metadata": {
        "id": "d9lwXQbF2x9f"
      },
      "execution_count": null,
      "outputs": []
    },
    {
      "cell_type": "code",
      "source": [
        "#val_dataset"
      ],
      "metadata": {
        "id": "UxDawVGq_AFP"
      },
      "execution_count": null,
      "outputs": []
    },
    {
      "cell_type": "code",
      "metadata": {
        "id": "eu1qcRucHk6d",
        "colab": {
          "base_uri": "https://localhost:8080/"
        },
        "outputId": "0028ec71-a958-427e-fc32-4fff02cf870f"
      },
      "source": [
        "idx = 0\n",
        "print(f\"Training input_values: {train_dataset[idx]['input_values']}\")\n",
        "print(f\"Training attention_mask: {train_dataset[idx]['attention_mask']}\")\n",
        "print(f\"Training labels: {train_dataset[idx]['labels']} - {train_dataset[idx]['emotion']}\")"
      ],
      "execution_count": null,
      "outputs": [
        {
          "output_type": "stream",
          "name": "stdout",
          "text": [
            "Training input_values: [-0.19650042057037354, -0.23630878329277039, -0.27896058559417725, -0.4012291431427002, -0.3983856737613678, -0.4780023992061615, -0.43535059690475464, -0.36426421999931335, -0.35573387145996094, -0.42682021856307983, -0.34720349311828613, -0.384168416261673, -0.25905641913414, -0.21640460193157196, -0.16237898170948029, -0.08560571074485779, -0.060014620423316956, 0.07078428566455841, 0.08784501254558563, 0.24423500895500183, 0.34375593066215515, 0.43190300464630127, 0.48877209424972534, 0.571232259273529, 0.5627018809318542, 0.5854495167732239, 0.5172066688537598, 0.6337882876396179, 0.6025102734565735, 0.5882930159568787, 0.5996668338775635, 0.5627018809318542, 0.5484846234321594, 0.5228935480117798, 0.4660244584083557, 0.4518072009086609, 0.4404333829879761, 0.3608166575431824, 0.3608166575431824, 0.3039475679397583, 0.3181648254394531, 0.2271742820739746, 0.2101135551929474, 0.11627955734729767, 0.16461828351020813, 0.1390271931886673, 0.025289015844464302, 0.08784501254558563, 0.028132470324635506, -0.014519346877932549, 0.025289015844464302, -0.011675892397761345, -0.05432771146297455, -0.12825752794742584, -0.11972716450691223, -0.14247480034828186, -0.1652224361896515, -0.21924805641174316, -0.27043023705482483, -0.25905641913414, -0.3329862356185913, -0.23346532881259918, -0.27611714601516724, -0.26189985871315, -0.28464749455451965, -0.29033440351486206, -0.29602131247520447, -0.27611714601516724, -0.27043023705482483, -0.11972716450691223, -0.1737527996301651, -0.15100516378879547, -0.03158007189631462, -0.07707534730434418, -0.12257061898708344, -0.12541407346725464, -0.11972716450691223, -0.10550989210605621, 0.005384834948927164, -0.11119680106639862, -0.14531825482845306, -0.1709093451499939, -0.20503078401088715, -0.18228314816951752, -0.22493496537208557, -0.3272993266582489, -0.36995112895965576, -0.35573387145996094, -0.415446400642395, -0.3272993266582489, -0.36142078042030334, -0.384168416261673, -0.35004696249961853, -0.387011855840683, -0.3926987648010254, -0.44672441482543945, -0.4040725827217102, -0.3983856737613678, -0.29886478185653687, -0.29033440351486206, -0.244839146733284, -0.1794397085905075, -0.13678789138793945, -0.05717116594314575, 0.11343610286712646, 0.12765337526798248, 0.2129570096731186, 0.27266955375671387, 0.41199883818626404, 0.4631810188293457, 0.4546506404876709, 0.49730247259140015, 0.5257369875907898, 0.5513280630111694, 0.5882930159568787, 0.6337882876396179, 0.6081971526145935, 0.6252579092979431, 0.6565359234809875, 0.6679097414016724, 0.690657377243042, 0.6451621055603027, 0.7134050130844116, 0.642318606376648, 0.642318606376648, 0.571232259273529, 0.5570150017738342, 0.5570150017738342, 0.6394751667976379, 0.6224144697189331, 0.5029893517494202, 0.4546506404876709, 0.42905956506729126, 0.4006250202655792, 0.42052918672561646, 0.34091246128082275, 0.40631192922592163, 0.40631192922592163, 0.33522555232048035, 0.2783564627170563, 0.20158319175243378, 0.1504010111093521, 0.15893137454986572, 0.18452246487140656, 0.2158004641532898, 0.1504010111093521, 0.065097376704216, 0.065097376704216, -0.020206255838274956, -0.06854498386383057, -0.06570152938365936, -0.10550989210605621, -0.008832437917590141, -0.0941360741853714, -0.07991880178451538, -0.11688371002674103, -0.0912926197052002, -0.05432771146297455, -0.04864080250263214, -0.014519346877932549, -0.060014620423316956, -0.03726698085665703, -0.0031455284915864468, -0.017362801358103752, -0.04579734802246094, 0.04803664982318878, -0.000302074127830565, 0.036662835627794266, 0.028132470324635506, 0.07362774014472961, 0.05372355878353119, -0.08560571074485779, -0.07138843834400177, -0.1765962541103363, -0.19081351161003113, -0.27327367663383484, -0.3130820393562317, -0.4012291431427002, -0.42966368794441223, -0.415446400642395, -0.5234977006912231, -0.594584047794342, -0.591740608215332, -0.6173316836357117, -0.6997918486595154, -0.7936258316040039, -0.7907823920249939, -0.9386420249938965, -0.9102074503898621, -0.8959901928901672, -0.9613896608352661, -1.0381629467010498, -1.1263099908828735, -1.1689618825912476, -1.0808147192001343, -1.163274884223938, -1.1689618825912476, -1.151901125907898, -1.1376838684082031, -1.1604315042495728, -1.1007189750671387, -1.0808147192001343, -0.9727634787559509, -0.9812938570976257, -0.9585462212562561, -0.8305907845497131, -0.7822520136833191, -0.7481305599212646, -0.6742007732391357, -0.6486096978187561, -0.5547756552696228, -0.597427487373352, -0.5775232911109924, -0.4979065954685211, -0.3955422341823578, -0.36142078042030334, -0.43535059690475464, -0.29602131247520447, -0.2391522377729416, -0.2562129497528076, -0.2505260407924652, -0.2647433280944824, -0.1765962541103363, -0.19365696609020233, -0.23346532881259918, -0.2391522377729416, -0.14247480034828186, -0.2419956922531128, -0.13110098242759705, -0.16237898170948029, -0.060014620423316956, -0.034423526376485825, -0.04011043533682823, 0.00822828896343708, 0.03381938114762306, 0.10490573942661285, 0.11627955734729767, 0.09921883046627045, 0.26129573583602905, 0.17599210143089294, 0.15324446558952332, 0.2300177365541458, 0.2158004641532898, 0.2868868410587311, 0.34375593066215515, 0.3124779164791107, 0.3665035665035248, 0.3977815508842468, 0.386407732963562, 0.383564293384552, 0.3210082948207855, 0.3665035665035248, 0.23286119103431702, 0.3039475679397583, 0.24139155447483063, 0.19873973727226257, 0.18167901039123535, 0.17883555591106415, 0.1333402842283249, 0.23286119103431702, 0.11627955734729767, 0.1361837387084961, 0.065097376704216, 0.03381938114762306, -0.06285807490348816, -0.12825752794742584, -0.10835334658622742, -0.1709093451499939, -0.22777841985225677, -0.19365696609020233, -0.26758676767349243, -0.18797005712985992, -0.27611714601516724, -0.22493496537208557, -0.1794397085905075, -0.13394443690776825, -0.10550989210605621, -0.04864080250263214, 0.011071743443608284, -0.008832437917590141, 0.09068846702575684, 0.17883555591106415, 0.2897302806377411, 0.3181648254394531, 0.43474647402763367, 0.508676290512085, 0.5001459121704102, 0.5371108055114746, 0.6622228026390076, 0.7020311951637268, 0.7190918922424316, 0.8641080856323242, 0.8641080856323242, 0.9067599177360535, 0.9266640543937683, 1.1143320798873901, 1.1143320798873901, 1.2138530015945435, 1.1569838523864746, 1.3020000457763672, 1.2906262874603271, 1.3503388166427612, 1.4157382249832153, 1.444172739982605, 1.4981982707977295, 1.4953548908233643, 1.5465370416641235, 1.5692846775054932, 1.5436935424804688, 1.4925113916397095, 1.5863454341888428, 1.4356423616409302, 1.4214251041412354, 1.3617125749588013, 1.2934696674346924, 1.2024791240692139, 1.1086452007293701, 0.9949069619178772, 0.9380378723144531, 0.7873347997665405, 0.7532133460044861, 0.6821269989013672, 0.5911364555358887, 0.43190300464630127, 0.3892512023448944, 0.19589628279209137, 0.10490573942661285, -0.04579734802246094, -0.07138843834400177, -0.12541407346725464, -0.20503078401088715, -0.3130820393562317, -0.45525476336479187, -0.6855745911598206, -0.716852605342865, -0.8675556778907776, -0.9670765399932861, -1.1007189750671387, -1.0694409608840942, -1.2258309125900269, -1.2713261842727661, -1.404968500137329, -1.4362465143203735, -1.4476203918457031, -1.4504637718200684, -1.4703680276870728, -1.4220292568206787, -1.4106554985046387, -1.399281620979309, -1.4334031343460083, -1.2827000617980957, -1.2571089267730713, -1.2542654275894165, -1.1661183834075928, -1.0865015983581543, -1.0125718116760254, -0.8846163749694824, -0.8163734674453735, -0.7310698628425598, -0.7054787874221802, -0.6343923807144165, -0.6486096978187561, -0.5490887761116028, -0.4950631260871887, -0.5149673223495483, -0.4808458685874939, -0.4865327775478363, -0.4694720506668091, -0.43819403648376465, -0.2505260407924652, -0.2505260407924652, -0.20218732953071594, -0.2533695101737976, -0.20503078401088715, -0.1652224361896515, -0.14247480034828186, -0.020206255838274956, 0.05372355878353119, 0.0622539222240448, 0.1361837387084961, 0.20158319175243378, 0.20442664623260498, 0.2129570096731186, 0.2840433716773987, 0.3124779164791107, 0.33522555232048035, 0.32669520378112793, 0.3067910075187683, 0.3067910075187683, 0.3011040985584259, 0.35228627920150757, 0.3608166575431824, 0.25276538729667664, 0.3124779164791107, 0.383564293384552, 0.35797318816185, 0.32669520378112793, 0.41199883818626404, 0.35797318816185, 0.3949381113052368, 0.3636600971221924, 0.4489637315273285, 0.4404333829879761, 0.4603375494480133, 0.5200501084327698, 0.505832850933075, 0.49730247259140015, 0.514363169670105, 0.4432768225669861, 0.42052918672561646, 0.42905956506729126, 0.4461202919483185, 0.34375593066215515, 0.27266955375671387, 0.23286119103431702, 0.2243308275938034, 0.2129570096731186, 0.16177482903003693, 0.07078428566455841, 0.050880104303359985, 0.013915197923779488, 0.065097376704216, -0.028736617416143417, -0.0941360741853714, -0.10835334658622742, -0.16237898170948029, -0.14816170930862427, -0.19081351161003113, -0.22493496537208557, -0.3187689483165741, -0.28180405497550964, -0.3159255087375641, -0.36710768938064575, -0.4012291431427002, -0.3813249468803406, -0.3955422341823578, -0.4808458685874939, -0.43535059690475464, -0.4012291431427002, -0.3983856737613678, -0.3017082214355469, -0.2419956922531128, -0.21356114745140076, -0.18228314816951752, -0.11688371002674103, -0.13678789138793945, -0.06285807490348816, -0.11972716450691223, -0.07138843834400177, -0.04864080250263214, -0.04864080250263214, -0.08560571074485779, -0.12825752794742584, -0.1794397085905075, -0.15100516378879547, -0.08844916522502899, -0.0912926197052002, -0.06854498386383057, -0.11688371002674103, -0.0912926197052002, -0.0912926197052002, -0.000302074127830565, -0.034423526376485825, -0.0031455284915864468, 0.04803664982318878, 0.07362774014472961, 0.09353192150592804, -0.000302074127830565, 0.07647119462490082, -0.0031455284915864468, 0.07647119462490082, 0.16177482903003693, 0.11912301182746887, 0.1361837387084961, 0.18736591935157776, 0.19020937383174896, 0.24992191791534424, 0.20727010071277618, 0.218643918633461, 0.19589628279209137, 0.12765337526798248, 0.11912301182746887, 0.17599210143089294, 0.09353192150592804, 0.09353192150592804, 0.16746173799037933, 0.1390271931886673, 0.11912301182746887, 0.04519319906830788, 0.065097376704216, 0.019602106884121895, 0.07931464910507202, 0.10490573942661285, 0.0622539222240448, 0.12196646630764008, 0.050880104303359985, 0.011071743443608284, 0.03381938114762306, 0.08784501254558563, -0.000302074127830565, 0.059410467743873596, 0.065097376704216, 0.036662835627794266, 0.0622539222240448, 0.002541380235925317, 0.1361837387084961, 0.17314864695072174, 0.15893137454986572, 0.2101135551929474, 0.2214873731136322, 0.25845229625701904, 0.3210082948207855, 0.386407732963562, 0.3977815508842468, 0.4432768225669861, 0.32385173439979553, 0.4404333829879761, 0.5541715621948242, 0.6110406517982483, 0.6053537130355835, 0.5826060771942139, 0.6167275309562683, 0.5911364555358887, 0.5427977442741394, 0.5172066688537598, 0.565545380115509, 0.5371108055114746, 0.5513280630111694, 0.5029893517494202, 0.4745548367500305, 0.4688679277896881, 0.5740756988525391, 0.43190300464630127, 0.49445900321006775, 0.3807208240032196, 0.40915536880493164, 0.3693470060825348, 0.4660244584083557, 0.41768574714660645, 0.4006250202655792, 0.3153213858604431, 0.34944283962249756, 0.2868868410587311, 0.24707846343517303, 0.23570464551448822, 0.15893137454986572, 0.1418706476688385, 0.06794083118438721, 0.10774919390678406, 0.025289015844464302, 0.08215810358524323, 0.10206228494644165, 0.09068846702575684, 0.12765337526798248, 0.0622539222240448, 0.08500155806541443, 0.00822828896343708, 0.0224455613642931, -0.060014620423316956, -0.05432771146297455, -0.03726698085665703, -0.13110098242759705, -0.1652224361896515, -0.2505260407924652, -0.2419956922531128, -0.29033440351486206, -0.3159255087375641, -0.35573387145996094, -0.37848150730133057, -0.4069160521030426, -0.44956785440444946, -0.4211333096027374, -0.4040725827217102, -0.4069160521030426, -0.43535059690475464, -0.4979065954685211, -0.5121238827705383, -0.5490887761116028, -0.3813249468803406, -0.5092803835868835, -0.5092803835868835, -0.44103750586509705, -0.4950631260871887, -0.537714958190918, -0.5007500648498535, -0.537714958190918, -0.4694720506668091, -0.4666285812854767, -0.43250712752342224, -0.4723154902458191, -0.5121238827705383, -0.45525476336479187, -0.415446400642395, -0.35857731103897095, -0.29602131247520447, -0.25905641913414, -0.2505260407924652, -0.28464749455451965, -0.22209151089191437, -0.08276225626468658, -0.034423526376485825, 0.05372355878353119, 0.12196646630764008, 0.20158319175243378, 0.26413920521736145, 0.25560882687568665, 0.32953864336013794, 0.3039475679397583, 0.48877209424972534, 0.5001459121704102, 0.508676290512085, 0.6281013488769531, 0.6366317272186279, 0.6337882876396179, 0.6679097414016724, 0.690657377243042, 0.6707531809806824, 0.6622228026390076, 0.6536924242973328, 0.7190918922424316, 0.6764400601387024, 0.6309447884559631, 0.5854495167732239, 0.48877209424972534, 0.43190300464630127, 0.43474647402763367, 0.3608166575431824, 0.2783564627170563, 0.23286119103431702, 0.15893137454986572, 0.18736591935157776, 0.09637537598609924, 0.03381938114762306, -0.07991880178451538, -0.10835334658622742, -0.15669207274913788, -0.0912926197052002, -0.1680658906698227, -0.2533695101737976, -0.22777841985225677, -0.23630878329277039, -0.18228314816951752, -0.23346532881259918, -0.2419956922531128, -0.2476826012134552, -0.26758676767349243, -0.3130820393562317, -0.27896058559417725, -0.3358296751976013, -0.21924805641174316, -0.22777841985225677, -0.14531825482845306, -0.11119680106639862, -0.051484256982803345, -0.05432771146297455, -0.04864080250263214, -0.020206255838274956, 0.00822828896343708, 0.04519319906830788, 0.07078428566455841, 0.05656701326370239, 0.17314864695072174, 0.1361837387084961, 0.10774919390678406, 0.15893137454986572, 0.23570464551448822, 0.18452246487140656, 0.24423500895500183, 0.19305282831192017, 0.26982611417770386, 0.26982611417770386, 0.3636600971221924, 0.3977815508842468, 0.3750339150428772, 0.41199883818626404, 0.4489637315273285, 0.5257369875907898, 0.4489637315273285, 0.5257369875907898, 0.5826060771942139, 0.5314239263534546, 0.5854495167732239, 0.7219353318214417, 0.6252579092979431, 0.7304657101631165, 0.7759609818458557, 0.7190918922424316, 0.6849704384803772, 0.7418395280838013, 0.7048746347427368, 0.6707531809806824, 0.6195709705352783, 0.565545380115509, 0.6337882876396179, 0.5172066688537598, 0.49445900321006775, 0.4461202919483185, 0.40631192922592163, 0.33522555232048035, 0.35512974858283997, 0.3067910075187683, 0.2129570096731186, 0.17030519247055054, 0.065097376704216, 0.04803664982318878, 0.09068846702575684, 0.08500155806541443, 0.0224455613642931, -0.025893162935972214, -0.051484256982803345, -0.0969795286655426, -0.13963134586811066, -0.19081351161003113, -0.29317787289619446, -0.36995112895965576, -0.3898553252220154, -0.43535059690475464, -0.4694720506668091, -0.5462453365325928, -0.42966368794441223, -0.5291845798492432, -0.5633060336112976, -0.5234977006912231, -0.5661494731903076, -0.4950631260871887, -0.5092803835868835, -0.4609416723251343, -0.3813249468803406, -0.3073951303958893, -0.2562129497528076, -0.19934387505054474, -0.04011043533682823, -0.000302074127830565, 0.09921883046627045, 0.12196646630764008, 0.2101135551929474, 0.26698264479637146, 0.3807208240032196, 0.48877209424972534, 0.6707531809806824, 0.7702741026878357, 0.7617437243461609, 0.8840122818946838, 1.006280779838562, 1.0290284156799316, 1.0375587940216064, 0.9892200827598572, 1.1370797157287598, 1.1797314882278442, 1.1257058382034302, 1.0432456731796265, 1.0574629306793213, 1.0432456731796265, 0.9636290073394775, 0.9835331439971924, 0.9408813714981079, 0.875481903553009, 0.7958651781082153, 0.7560567855834961, 0.6480055451393127, 0.5342673659324646, 0.508676290512085, 0.42621609568595886, 0.3153213858604431, 0.2300177365541458, 0.10490573942661285, 0.09637537598609924, 0.019602106884121895, 0.03097592480480671, -0.011675892397761345, -0.14247480034828186, -0.22209151089191437, -0.3415165841579437, -0.37848150730133057, -0.412602961063385, -0.412602961063385, -0.4865327775478363, -0.5604625940322876, -0.594584047794342, -0.6173316836357117, -0.6770442128181458, -0.722539484500885, -0.7054787874221802, -0.6827311515808105, -0.7623478770256042, -0.7566609382629395, -0.8163734674453735, -0.8362776637077332, -0.8078431487083435, -0.8874598145484924, -0.847651481628418, -0.9357985854148865, -0.9329550862312317, -0.8760859966278076, -0.907364010810852, -0.8618687391281128, -0.8334342241287231, -0.7424436807632446, -0.7680347561836243, -0.7879389524459839, -0.6855745911598206, -0.7396002411842346, -0.6571400165557861, -0.6002709269523621, -0.5604625940322876, -0.540558397769928, -0.5633060336112976, -0.5149673223495483, -0.45241132378578186, -0.3955422341823578, -0.4040725827217102, -0.36995112895965576, -0.27327367663383484, -0.1794397085905075, -0.15100516378879547, -0.0969795286655426, 0.050880104303359985, 0.09921883046627045, 0.11059264838695526, 0.12196646630764008, 0.16746173799037933, 0.18736591935157776, 0.20442664623260498, 0.1447141021490097, 0.20158319175243378, 0.1475575566291809, 0.16746173799037933, 0.12480992078781128, 0.019602106884121895, 0.05372355878353119, -0.008832437917590141, -0.017362801358103752, 0.025289015844464302, -0.03158007189631462, 0.019602106884121895, -0.000302074127830565, -0.034423526376485825, -0.08276225626468658, -0.04864080250263214, -0.011675892397761345, -0.11404025554656982, -0.05717116594314575, -0.08844916522502899, -0.06854498386383057, -0.04579734802246094, -0.025893162935972214, -0.04011043533682823, -0.0912926197052002, -0.0941360741853714, -0.07991880178451538, -0.06570152938365936, -0.10550989210605621, -0.10550989210605621, -0.14816170930862427, -0.13110098242759705, -0.1765962541103363, -0.2419956922531128, -0.2391522377729416, -0.3102385997772217, -0.36142078042030334, -0.37279459834098816, -0.5320280194282532, -0.6315489411354065, -0.5718364119529724, -0.6059578657150269, -0.6884180307388306, -0.6116447448730469, -0.6287055015563965, -0.6884180307388306, -0.668513834476471, -0.5718364119529724, -0.6201751232147217, -0.6486096978187561, -0.5604625940322876, -0.5689929723739624, -0.6031144261360168, -0.5633060336112976, -0.543401837348938, -0.5490887761116028, -0.5576191544532776, -0.5661494731903076, -0.6287055015563965, -0.5832102298736572, -0.5689929723739624, -0.4922196865081787, -0.4751589596271515, -0.4097594916820526, -0.4097594916820526, -0.37848150730133057, -0.2647433280944824, -0.18228314816951752, -0.1680658906698227, -0.18228314816951752, -0.0941360741853714, -0.014519346877932549, 0.10490573942661285, 0.12765337526798248, 0.34091246128082275, 0.32953864336013794, 0.35797318816185, 0.41199883818626404, 0.48308518528938293, 0.49161556363105774, 0.571232259273529, 0.5826060771942139, 0.5513280630111694, 0.5598584413528442, 0.5911364555358887, 0.6337882876396179, 0.568388819694519, 0.5968233346939087, 0.4717113673686981, 0.5427977442741394, 0.48592865467071533, 0.4688679277896881, 0.4461202919483185, 0.5257369875907898, 0.508676290512085, 0.6025102734565735, 0.5769191980361938, 0.5371108055114746, 0.5627018809318542, 0.5627018809318542, 0.6650662422180176, 0.6309447884559631, 0.6451621055603027, 0.6110406517982483, 0.7048746347427368, 0.6650662422180176, 0.7418395280838013, 0.6679097414016724, 0.6224144697189331, 0.4802417457103729, 0.5228935480117798, 0.41768574714660645, 0.3693470060825348, 0.40915536880493164, 0.32669520378112793, 0.28119993209838867, 0.2982606589794159, 0.2129570096731186, 0.19873973727226257, 0.16461828351020813, 0.10206228494644165, 0.0224455613642931, -0.025893162935972214, -0.060014620423316956, -0.04579734802246094, -0.12825752794742584, -0.10266643762588501, -0.15669207274913788, -0.1765962541103363, -0.11972716450691223, -0.18797005712985992, -0.244839146733284, -0.20218732953071594, -0.1737527996301651, -0.28180405497550964, -0.23346532881259918, -0.3955422341823578, -0.28749096393585205, -0.4069160521030426, -0.3187689483165741, -0.3329862356185913, -0.3159255087375641, -0.29033440351486206, -0.2419956922531128, -0.25905641913414, -0.22493496537208557, -0.3017082214355469, -0.26758676767349243, -0.20787423849105835, -0.22777841985225677, -0.15384861826896667, -0.13963134586811066, -0.2562129497528076, -0.22493496537208557, -0.14247480034828186, -0.27043023705482483, -0.2476826012134552, -0.2562129497528076, -0.27896058559417725, -0.22209151089191437, -0.28180405497550964, -0.29033440351486206, -0.29886478185653687, -0.1765962541103363, -0.21640460193157196, -0.19365696609020233, -0.244839146733284, -0.19081351161003113, -0.2391522377729416, -0.2391522377729416, -0.3017082214355469, -0.29033440351486206, -0.23630878329277039, -0.27611714601516724, -0.26189985871315, -0.26758676767349243, -0.27896058559417725, -0.2505260407924652, -0.21640460193157196, -0.12825752794742584, -0.18797005712985992, -0.12825752794742584, -0.15669207274913788, -0.20787423849105835, -0.1794397085905075, -0.13110098242759705, -0.13394443690776825, -0.07423189282417297, -0.10266643762588501, -0.06570152938365936, -0.06854498386383057, -0.02304970845580101, -0.05717116594314575, -0.051484256982803345, -0.005988983437418938, -0.042953889816999435, 0.011071743443608284, 0.09637537598609924, 0.11912301182746887, 0.18452246487140656, 0.1504010111093521, 0.19305282831192017, 0.17314864695072174, 0.1333402842283249, 0.16177482903003693, 0.19873973727226257, 0.1304968297481537, 0.18452246487140656, 0.19873973727226257, 0.1447141021490097, 0.08784501254558563, 0.0224455613642931, 0.036662835627794266, 0.03381938114762306, 0.050880104303359985, 0.07647119462490082, 0.05656701326370239, -0.03726698085665703, -0.04011043533682823, 0.011071743443608284, -0.07423189282417297, 0.011071743443608284, 0.005384834948927164, 0.06794083118438721, 0.025289015844464302, 0.03097592480480671, -0.034423526376485825, -0.042953889816999435, -0.10266643762588501, -0.14531825482845306, -0.011675892397761345, -0.2505260407924652, -0.22777841985225677, -0.27043023705482483, -0.29033440351486206, -0.37848150730133057, -0.4211333096027374, -0.5007500648498535, -0.5121238827705383, -0.537714958190918, -0.5263411402702332, -0.5718364119529724, -0.6400793194770813, -0.5121238827705383, -0.5490887761116028, -0.4836893081665039, -0.35573387145996094, -0.37563803791999817, -0.36426421999931335, -0.36710768938064575, -0.3216124176979065, -0.3130820393562317, -0.3130820393562317, -0.3983856737613678, -0.27611714601516724, -0.3073951303958893, -0.3329862356185913, -0.3130820393562317, -0.3130820393562317, -0.2647433280944824, -0.244839146733284, -0.18228314816951752, -0.18797005712985992, -0.14531825482845306, -0.0941360741853714, -0.04864080250263214, -0.10550989210605621, -0.051484256982803345, -0.11404025554656982, -0.05432771146297455, -0.017362801358103752, -0.04011043533682823, -0.017362801358103752, 0.11059264838695526, 0.1447141021490097, 0.07647119462490082, 0.25560882687568665, 0.41199883818626404, 0.42621609568595886, 0.4461202919483185, 0.571232259273529, 0.5541715621948242, 0.5968233346939087, 0.6480055451393127, 0.5911364555358887, 0.5911364555358887, 0.6394751667976379, 0.6025102734565735, 0.6309447884559631, 0.5200501084327698, 0.5371108055114746, 0.40915536880493164, 0.3949381113052368, 0.3124779164791107, 0.20442664623260498, 0.28119993209838867, 0.036662835627794266, 0.04803664982318878, -0.05717116594314575, -0.0941360741853714, -0.14531825482845306, -0.18512660264968872, -0.3159255087375641, -0.3358296751976013, -0.37279459834098816, -0.4836893081665039, -0.3898553252220154, -0.4211333096027374, -0.44672441482543945, -0.4694720506668091, -0.36995112895965576, -0.36995112895965576, -0.3415165841579437, -0.4694720506668091, -0.26189985871315, -0.2533695101737976, -0.13963134586811066, -0.19650042057037354, -0.11688371002674103, 0.050880104303359985, 0.002541380235925317, 0.08784501254558563, 0.2243308275938034, 0.2954171895980835, 0.34091246128082275, 0.4006250202655792, 0.4489637315273285, 0.5456411838531494, 0.5314239263534546, 0.571232259273529, 0.5826060771942139, 0.6735966205596924, 0.7247788310050964, 0.7645871639251709, 0.7333091497421265, 0.7645871639251709, 0.7333091497421265, 0.7247788310050964, 0.7333091497421265, 0.7048746347427368, 0.7276222705841064, 0.6565359234809875, 0.6081971526145935, 0.5228935480117798, 0.5257369875907898, 0.383564293384552, 0.386407732963562, 0.24139155447483063, 0.23854809999465942, 0.08784501254558563, 0.09353192150592804, -0.04579734802246094, -0.04579734802246094, -0.15953552722930908, -0.1794397085905075, -0.29033440351486206, -0.3358296751976013, -0.5206542015075684, -0.5547756552696228, -0.6429227590560913, -0.6742007732391357, -0.8049996495246887, -0.7481305599212646, -0.7623478770256042, -0.7708781957626343, -0.8163734674453735, -0.844808042049408, -0.8277472853660583, -0.7737216949462891, -0.8163734674453735, -0.7538174986839294, -0.597427487373352, -0.668513834476471, -0.537714958190918, -0.540558397769928, -0.412602961063385, -0.43250712752342224, -0.2647433280944824, -0.25905641913414, -0.19365696609020233, -0.12825752794742584, -0.008832437917590141, -0.03726698085665703, 0.1475575566291809, 0.27551302313804626, 0.26413920521736145, 0.42905956506729126, 0.41768574714660645, 0.5001459121704102, 0.5598584413528442, 0.6195709705352783, 0.6650662422180176, 0.7162484526634216, 0.7020311951637268, 0.7873347997665405, 0.7503699064254761, 0.875481903553009, 0.824299693107605, 0.8100824356079102, 0.8100824356079102, 0.7702741026878357, 0.7475264668464661, 0.6053537130355835, 0.6167275309562683, 0.4375899136066437, 0.4375899136066437, 0.3153213858604431, 0.3096344769001007, 0.24992191791534424, 0.1361837387084961, 0.08215810358524323, 0.036662835627794266, -0.10835334658622742, -0.10266643762588501, -0.21356114745140076, -0.2391522377729416, -0.35573387145996094, -0.415446400642395, -0.37848150730133057, -0.5178107619285583, -0.5547756552696228, -0.5547756552696228, -0.5775232911109924, -0.6514531373977661, -0.7282264232635498, -0.6742007732391357, -0.7367567420005798, -0.6770442128181458, -0.6429227590560913, -0.6315489411354065, -0.591740608215332, -0.5263411402702332, -0.5718364119529724, -0.5206542015075684, -0.42682021856307983, -0.44388094544410706, -0.4694720506668091, -0.4097594916820526, -0.37848150730133057, -0.4211333096027374, -0.36995112895965576, -0.35573387145996094, -0.3159255087375641, -0.27043023705482483, -0.21924805641174316, -0.1737527996301651, -0.244839146733284, -0.13678789138793945, -0.13963134586811066, -0.028736617416143417, 0.005384834948927164, 0.08215810358524323, 0.04234974458813667, 0.09068846702575684, 0.2214873731136322, 0.2271742820739746, 0.26129573583602905, 0.3693470060825348, 0.35512974858283997, 0.3665035665035248, 0.3665035665035248, 0.34375593066215515, 0.3067910075187683, 0.3153213858604431, 0.25560882687568665, 0.19873973727226257, 0.2840433716773987, 0.25276538729667664, 0.2243308275938034, 0.23570464551448822, 0.1418706476688385, 0.2925737500190735, 0.24992191791534424, 0.24423500895500183, 0.32953864336013794, 0.33806902170181274, 0.35797318816185, 0.4518072009086609, 0.4546506404876709, 0.6252579092979431, 0.6081971526145935, 0.5826060771942139, 0.6622228026390076, 0.7844913601875305, 0.7048746347427368, 0.7759609818458557, 0.8129258751869202, 0.7788044214248657, 0.815769374370575, 0.7162484526634216, 0.6224144697189331, 0.6650662422180176, 0.6394751667976379, 0.511519730091095, 0.5029893517494202, 0.4717113673686981, 0.383564293384552, 0.28119993209838867, 0.24423500895500183, 0.12765337526798248, 0.065097376704216, 0.013915197923779488, -0.0969795286655426, -0.042953889816999435, -0.20503078401088715, -0.244839146733284, -0.29886478185653687, -0.35004696249961853, -0.3983856737613678, -0.4012291431427002, -0.4040725827217102, -0.4069160521030426, -0.3045516908168793, -0.3301427662372589, -0.3443600535392761, -0.21924805641174316, -0.28180405497550964, -0.3244558572769165, -0.3187689483165741, -0.3301427662372589, -0.3301427662372589, -0.36995112895965576, -0.23630878329277039, -0.25905641913414, -0.2562129497528076, -0.3187689483165741, -0.2647433280944824, -0.35004696249961853, -0.22777841985225677, -0.21071769297122955, -0.35289040207862854, -0.28749096393585205, -0.3358296751976013, -0.3329862356185913, -0.35004696249961853, -0.28180405497550964, -0.29886478185653687, -0.2647433280944824, -0.19934387505054474, -0.15384861826896667, -0.15384861826896667, -0.15953552722930908, -0.10835334658622742, -0.034423526376485825, -0.0912926197052002, -0.011675892397761345, 0.005384834948927164, 0.04803664982318878, 0.05656701326370239, 0.09637537598609924, 0.25276538729667664, 0.12196646630764008, 0.11627955734729767, 0.19873973727226257, 0.12196646630764008, 0.19873973727226257, 0.2243308275938034, 0.26413920521736145, 0.25845229625701904, 0.218643918633461, 0.34659937024116516, 0.42337265610694885, 0.505832850933075, 0.5029893517494202, 0.49730247259140015, 0.6025102734565735, 0.6252579092979431, 0.6480055451393127, 0.6622228026390076, 0.6735966205596924, 0.6593793630599976, 0.7247788310050964, 0.7020311951637268, 0.7134050130844116, 0.7759609818458557, 0.7589002847671509, 0.7446829676628113, 0.7389960885047913, 0.7105615139007568, 0.7475264668464661, 0.6849704384803772, 0.6764400601387024, 0.6394751667976379, 0.565545380115509, 0.5172066688537598, 0.3892512023448944, 0.42621609568595886, 0.3750339150428772, 0.24992191791534424, 0.26129573583602905, 0.218643918633461, 0.16461828351020813, 0.11059264838695526, 0.10206228494644165, -0.0031455284915864468, -0.051484256982803345, -0.06854498386383057, -0.0912926197052002, -0.16237898170948029, -0.20503078401088715, -0.23630878329277039, -0.12541407346725464, -0.20218732953071594, -0.1709093451499939, -0.06854498386383057, -0.11119680106639862, -0.03158007189631462, 0.059410467743873596, 0.07647119462490082, 0.10206228494644165, 0.09068846702575684, 0.10206228494644165, 0.19020937383174896, 0.3124779164791107, 0.3067910075187683, 0.3807208240032196, 0.5001459121704102, 0.5456411838531494, 0.7219353318214417, 0.7361526489257812, 0.7759609818458557, 0.8612646460533142, 0.8641080856323242, 0.881168782711029, 0.821456253528595, 0.8015520572662354, 0.7361526489257812, 0.824299693107605, 0.7816479206085205, 0.7333091497421265, 0.7930217385292053, 0.7475264668464661, 0.7418395280838013, 0.7873347997665405, 0.693500816822052, 0.6764400601387024, 0.5968233346939087, 0.5968233346939087, 0.4773982763290405, 0.4489637315273285, 0.4802417457103729, 0.2783564627170563, 0.3181648254394531, 0.12196646630764008, 0.09637537598609924, 0.04519319906830788, 0.036662835627794266, -0.04579734802246094, -0.07423189282417297, -0.11972716450691223, -0.2391522377729416, -0.3187689483165741, -0.45241132378578186, -0.540558397769928, -0.6713573336601257, -0.6514531373977661, -0.6486096978187561, -0.722539484500885, -0.7140091061592102, -0.6201751232147217, -0.597427487373352, -0.5206542015075684, -0.4666285812854767, -0.35289040207862854, -0.3386731445789337, -0.3102385997772217, -0.27327367663383484, -0.0969795286655426, -0.12541407346725464, -0.1680658906698227, -0.11972716450691223, -0.042953889816999435, -0.020206255838274956, 0.002541380235925317, 0.025289015844464302, 0.059410467743873596, 0.00822828896343708, 0.09353192150592804, 0.028132470324635506, 0.036662835627794266, 0.002541380235925317, 0.09068846702575684, 0.09068846702575684, 0.065097376704216, 0.20442664623260498, 0.2243308275938034, 0.19873973727226257, 0.26698264479637146, 0.3153213858604431, 0.34944283962249756, 0.35512974858283997, 0.3153213858604431, 0.383564293384552, 0.4432768225669861, 0.32953864336013794, 0.3096344769001007, 0.3181648254394531, 0.19589628279209137, 0.25560882687568665, 0.25276538729667664, 0.2868868410587311, 0.20727010071277618, 0.2840433716773987, 0.19589628279209137, 0.19020937383174896, 0.26129573583602905, 0.2101135551929474, 0.218643918633461, 0.2214873731136322, 0.19305282831192017, 0.1504010111093521, 0.11627955734729767, 0.019602106884121895, 0.00822828896343708, -0.13110098242759705, -0.1737527996301651, -0.1709093451499939, -0.19934387505054474, -0.19650042057037354, -0.22209151089191437, -0.37279459834098816, -0.3813249468803406, -0.4808458685874939, -0.4211333096027374, -0.5604625940322876, -0.716852605342865, -0.7367567420005798, -0.6855745911598206, -0.668513834476471, -0.6997918486595154, -0.719696044921875, -0.6997918486595154, -0.6542965769767761, -0.7452871203422546, -0.7083222270011902, -0.6855745911598206, -0.725382924079895, -0.7083222270011902, -0.7054787874221802, -0.7054787874221802, -0.7111656665802002, -0.6855745911598206, -0.6997918486595154, -0.7452871203422546, -0.7111656665802002, -0.7509740591049194, -0.7509740591049194, -0.7282264232635498, -0.7026352882385254, -0.7566609382629395, -0.7111656665802002, -0.7737216949462891, -0.7936258316040039, -0.8305907845497131, -0.8078431487083435, -0.7794085741043091, -0.722539484500885, -0.7424436807632446, -0.719696044921875, -0.8078431487083435, -0.8277472853660583, -0.7737216949462891, -0.7964693307876587, -0.7850955128669739, -0.6713573336601257, -0.7595043778419495, -0.7794085741043091, -0.8021562099456787, -0.7538174986839294, -0.6941049695014954, -0.6770442128181458, -0.7481305599212646, -0.7026352882385254, -0.6827311515808105, -0.6912614703178406, -0.6059578657150269, -0.597427487373352, -0.5576191544532776, -0.45809823274612427, -0.43250712752342224, -0.3415165841579437, -0.384168416261673, -0.3983856737613678, -0.3272993266582489, -0.27043023705482483, -0.26758676767349243, -0.244839146733284, -0.21924805641174316, -0.2562129497528076, -0.2533695101737976, -0.22493496537208557, -0.26758676767349243, -0.3358296751976013, -0.23062187433242798, -0.27043023705482483, -0.27043023705482483, -0.3102385997772217, -0.25905641913414, -0.18797005712985992, -0.04579734802246094, -0.12257061898708344, 0.07931464910507202, 0.1304968297481537, 0.20158319175243378, 0.2840433716773987, 0.3665035665035248, 0.3920946419239044, 0.5456411838531494, 0.6138840913772583, 0.6138840913772583, 0.6707531809806824, 0.7446829676628113, 0.7816479206085205, 0.8043955564498901, 0.8442038893699646, 0.7361526489257812, 0.7645871639251709, 0.6707531809806824, 0.6281013488769531, 0.5598584413528442, 0.511519730091095, 0.4546506404876709, 0.3977815508842468, 0.25276538729667664, 0.16746173799037933, 0.10206228494644165, 0.1475575566291809, 0.005384834948927164, -0.03726698085665703, -0.07138843834400177, -0.10835334658622742, -0.19650042057037354, -0.20503078401088715, -0.18797005712985992, -0.22493496537208557, -0.2476826012134552, -0.3073951303958893, -0.37848150730133057, -0.4097594916820526, -0.3130820393562317, -0.34720349311828613, -0.3017082214355469, -0.3272993266582489, -0.3159255087375641, -0.37279459834098816, -0.35289040207862854, -0.4950631260871887, -0.4097594916820526, -0.43819403648376465, -0.3983856737613678, -0.4950631260871887, -0.4865327775478363, -0.5803667902946472, -0.6343923807144165, -0.540558397769928, -0.6059578657150269, -0.4808458685874939, -0.594584047794342, -0.537714958190918, -0.591740608215332, -0.5291845798492432, -0.4723154902458191, -0.4751589596271515, -0.4012291431427002, -0.412602961063385, -0.4637851417064667, -0.36710768938064575, -0.3898553252220154, -0.3955422341823578, -0.37279459834098816, -0.36142078042030334, -0.3415165841579437, -0.3216124176979065, -0.29886478185653687, -0.29317787289619446, -0.29886478185653687, -0.27043023705482483, -0.2391522377729416, -0.26758676767349243, -0.2647433280944824, -0.2419956922531128, -0.27043023705482483, -0.18228314816951752, -0.1709093451499939, -0.19934387505054474, -0.22209151089191437, -0.19081351161003113, -0.15953552722930908, -0.13963134586811066, -0.07423189282417297, -0.11972716450691223, -0.008832437917590141, -0.042953889816999435, -0.025893162935972214, 0.005384834948927164, 0.005384834948927164, -0.025893162935972214, 0.07931464910507202, 0.07931464910507202, 0.09068846702575684, 0.08215810358524323, 0.10490573942661285, 0.2214873731136322, 0.2271742820739746, 0.2129570096731186, 0.20727010071277618, 0.27551302313804626, 0.26698264479637146, 0.3636600971221924, 0.28119993209838867, 0.26982611417770386, 0.33238211274147034, 0.4404333829879761, 0.49730247259140015, 0.5570150017738342, 0.511519730091095, 0.6480055451393127, 0.7446829676628113, 0.7077180743217468, 0.7048746347427368, 0.6650662422180176, 0.7020311951637268, 0.818612813949585, 0.8413604497909546, 0.8925426006317139, 0.8584211468696594, 0.8100824356079102, 0.7276222705841064, 0.824299693107605, 0.7304657101631165, 0.6565359234809875, 0.5939798951148987, 0.514363169670105, 0.4745548367500305, 0.3807208240032196, 0.2897302806377411, 0.2243308275938034, 0.2214873731136322, 0.17883555591106415, 0.05656701326370239, -0.008832437917590141, -0.07707534730434418, -0.2505260407924652, -0.29033440351486206, -0.4723154902458191, -0.534871518611908, -0.6116447448730469, -0.7481305599212646, -0.8760859966278076, -0.9699200391769409, -1.0665974617004395, -1.0495367050170898, -1.217300534248352, -1.2542654275894165, -1.2571089267730713, -1.3139779567718506, -1.3680036067962646, -1.3651602268218994, -1.3537863492965698, -1.2372047901153564, -1.222987413406372, -1.2400481700897217, -1.2030832767486572, -1.0495367050170898, -0.9869807362556458, -0.9158943891525269, -0.8846163749694824, -0.8220604062080383, -0.6997918486595154, -0.7452871203422546, -0.6400793194770813, -0.5007500648498535, -0.43250712752342224, -0.4182898700237274, -0.3301427662372589, -0.3045516908168793, -0.27043023705482483, -0.29317787289619446, -0.22777841985225677, -0.11119680106639862, -0.18512660264968872, -0.07423189282417297, -0.04579734802246094, -0.04579734802246094, -0.06570152938365936, -0.0912926197052002, -0.21071769297122955, -0.11404025554656982, -0.13394443690776825, -0.19934387505054474, -0.22777841985225677, -0.21356114745140076, -0.22493496537208557, -0.29033440351486206, -0.2533695101737976, -0.3102385997772217, -0.29886478185653687, -0.3415165841579437, -0.45241132378578186, -0.5263411402702332, -0.5661494731903076, -0.6230185627937317, -0.6628269553184509, -0.7595043778419495, -0.8021562099456787, -0.7367567420005798, -0.8021562099456787, -0.7651913166046143, -0.722539484500885, -0.8220604062080383, -0.7538174986839294, -0.6798876523971558, -0.6372358798980713, -0.597427487373352, -0.6770442128181458, -0.6628269553184509, -0.5661494731903076, -0.5291845798492432, -0.44956785440444946, -0.5064369440078735, -0.4751589596271515, -0.4040725827217102, -0.4097594916820526, -0.37563803791999817, -0.23630878329277039, -0.3415165841579437, -0.26758676767349243, -0.1794397085905075, -0.14816170930862427, -0.0998229831457138, 0.03950629010796547, 0.218643918633461, 0.24992191791534424, 0.34944283962249756, 0.42337265610694885, 0.5172066688537598, 0.4745548367500305, 0.6025102734565735, 0.6110406517982483, 0.6849704384803772, 0.7162484526634216, 0.7276222705841064, 0.7077180743217468, 0.6849704384803772, 0.5427977442741394, 0.511519730091095, 0.5826060771942139, 0.49161556363105774, 0.5172066688537598, 0.43474647402763367, 0.4006250202655792, 0.41768574714660645, 0.4802417457103729, 0.4461202919483185, 0.4717113673686981, 0.5257369875907898, 0.40631192922592163, 0.41768574714660645, 0.34091246128082275, 0.4461202919483185, 0.4432768225669861, 0.33806902170181274, 0.32385173439979553, 0.3892512023448944, 0.3210082948207855, 0.35512974858283997, 0.40346845984458923, 0.32953864336013794, 0.3721904754638672, 0.2840433716773987, 0.35512974858283997, 0.3039475679397583, 0.2271742820739746, 0.2783564627170563, 0.24139155447483063, 0.26698264479637146, 0.2214873731136322, 0.2101135551929474, 0.2101135551929474, 0.18167901039123535, 0.09921883046627045, 0.11343610286712646, 0.059410467743873596, 0.04234974458813667, -0.07707534730434418, -0.15669207274913788, -0.13963134586811066, -0.19934387505054474, -0.22777841985225677, -0.14247480034828186, -0.21924805641174316, -0.2505260407924652, -0.2391522377729416, -0.26189985871315, -0.19650042057037354, -0.21640460193157196, -0.2562129497528076, -0.36710768938064575, -0.28749096393585205, -0.3272993266582489, -0.29886478185653687, -0.2476826012134552, -0.22493496537208557, -0.19934387505054474, -0.21356114745140076, -0.18797005712985992, -0.11404025554656982, -0.14247480034828186, -0.0998229831457138, -0.08276225626468658, -0.10550989210605621, 0.07078428566455841, 0.00822828896343708, -0.03726698085665703, -0.060014620423316956, -0.02304970845580101, -0.07707534730434418, -0.10266643762588501, -0.14531825482845306, -0.0998229831457138, -0.1709093451499939, -0.23630878329277039, -0.22493496537208557, -0.34720349311828613, -0.3386731445789337, -0.4040725827217102, -0.3017082214355469, -0.3073951303958893, -0.2419956922531128, -0.20218732953071594, -0.16237898170948029, -0.13963134586811066, -0.11688371002674103, -0.14531825482845306, -0.11688371002674103, -0.005988983437418938, 0.059410467743873596, 0.03097592480480671, 0.10490573942661285, 0.12480992078781128, 0.2129570096731186, 0.17030519247055054, -0.014519346877932549, 0.12480992078781128, 0.12196646630764008, 0.06794083118438721, 0.1504010111093521, 0.1475575566291809, 0.26413920521736145, 0.1475575566291809, 0.26129573583602905, 0.2897302806377411, 0.24707846343517303, 0.28119993209838867, 0.28119993209838867, 0.33238211274147034, 0.32669520378112793, 0.3039475679397583, 0.386407732963562, 0.3608166575431824, 0.3892512023448944, 0.3892512023448944, 0.42337265610694885, 0.35228627920150757, 0.24707846343517303, 0.3210082948207855, 0.40631192922592163, 0.3892512023448944, 0.3153213858604431, 0.3608166575431824, 0.3608166575431824, 0.34659937024116516, 0.23570464551448822, 0.2158004641532898, 0.34659937024116516, 0.33806902170181274, 0.3011040985584259, 0.2243308275938034, 0.32953864336013794, 0.28119993209838867, 0.2954171895980835, 0.27266955375671387, 0.40915536880493164, 0.5001459121704102, 0.505832850933075, 0.505832850933075, 0.5854495167732239, 0.5371108055114746, 0.5769191980361938, 0.6309447884559631, 0.5427977442741394, 0.6337882876396179, 0.565545380115509, 0.5399542450904846, 0.4745548367500305, 0.5314239263534546, 0.5740756988525391, 0.4461202919483185, 0.5172066688537598, 0.5285804271697998, 0.5911364555358887, 0.571232259273529, 0.6650662422180176, 0.6252579092979431, 0.6707531809806824, 0.690657377243042, 0.7674306035041809, 0.8356735110282898, 0.8328300714492798, 0.8925426006317139, 0.9408813714981079, 0.9494116902351379, 0.9238206148147583, 0.9522551894187927, 0.9181337356567383, 0.9522551894187927, 0.8527342677116394, 0.9721593260765076, 0.8925426006317139, 0.8896991610527039, 0.9238206148147583, 0.9152902364730835, 0.8669515252113342, 0.7873347997665405, 0.7304657101631165, 0.7333091497421265, 0.6394751667976379, 0.6337882876396179, 0.5627018809318542, 0.5029893517494202, 0.4574941098690033, 0.5172066688537598, 0.35797318816185, 0.2982606589794159, 0.2925737500190735, 0.19020937383174896, 0.2271742820739746, 0.1304968297481537, 0.10774919390678406, 0.03097592480480671, -0.017362801358103752, -0.0969795286655426, -0.06854498386383057, -0.12541407346725464, -0.15953552722930908, -0.19934387505054474, -0.3415165841579437, -0.3415165841579437, -0.44388094544410706, -0.4239767789840698, -0.4211333096027374, -0.4865327775478363, -0.5490887761116028, -0.543401837348938, -0.6258620619773865, -0.5633060336112976, -0.6742007732391357, -0.722539484500885, -0.6343923807144165, -0.7083222270011902, -0.6941049695014954, -0.6855745911598206, -0.6116447448730469, -0.6173316836357117, -0.5035935044288635, -0.44388094544410706, -0.4097594916820526, -0.3443600535392761, -0.3272993266582489, -0.3073951303958893, -0.3329862356185913, -0.27896058559417725, -0.27327367663383484, -0.19650042057037354, -0.4040725827217102, -0.28749096393585205, -0.2476826012134552, -0.1794397085905075, -0.14247480034828186, -0.14531825482845306, -0.14247480034828186, -0.08560571074485779, -0.0941360741853714, -0.02304970845580101, 0.0224455613642931, -0.014519346877932549, 0.0224455613642931, 0.09353192150592804, 0.11912301182746887, 0.18452246487140656, 0.2271742820739746, 0.27551302313804626, 0.2868868410587311, 0.3721904754638672, 0.4375899136066437, 0.4745548367500305, 0.5257369875907898, 0.4432768225669861, 0.41199883818626404, 0.4432768225669861, 0.41484227776527405, 0.4574941098690033, 0.40631192922592163, 0.5172066688537598, 0.4432768225669861, 0.4745548367500305, 0.49161556363105774, 0.3750339150428772, 0.33238211274147034, 0.3807208240032196, 0.24707846343517303, 0.24992191791534424, 0.20727010071277618, 0.18167901039123535, 0.11912301182746887, 0.09068846702575684, 0.025289015844464302, -0.0031455284915864468, 0.059410467743873596, 0.065097376704216, 0.011071743443608284, 0.1418706476688385, 0.11059264838695526, 0.15893137454986572, 0.17314864695072174, 0.20158319175243378, 0.2982606589794159, 0.2840433716773987, 0.2243308275938034, 0.33522555232048035, 0.3096344769001007, 0.32385173439979553, 0.2897302806377411, 0.35512974858283997, 0.4688679277896881, 0.2954171895980835, 0.33238211274147034, 0.33522555232048035, 0.3067910075187683, 0.25560882687568665, 0.26413920521736145, 0.19589628279209137, 0.11627955734729767, 0.08215810358524323, 0.03381938114762306, -0.000302074127830565, -0.10550989210605621, -0.06570152938365936, -0.08844916522502899, -0.07138843834400177, -0.244839146733284, -0.26189985871315, -0.18512660264968872, -0.18228314816951752, -0.23062187433242798, -0.1709093451499939, -0.2505260407924652, -0.19365696609020233, -0.22209151089191437, -0.25905641913414, -0.27611714601516724, -0.23062187433242798, -0.23062187433242798, -0.20503078401088715, -0.2476826012134552, -0.22493496537208557, -0.20503078401088715, -0.244839146733284, -0.28749096393585205, -0.20218732953071594, -0.1794397085905075, -0.06854498386383057, -0.07423189282417297, 0.002541380235925317, 0.08784501254558563, 0.1475575566291809, 0.18736591935157776, 0.19589628279209137, 0.20158319175243378, 0.42052918672561646, 0.3721904754638672, 0.41768574714660645, 0.5598584413528442, 0.5627018809318542, 0.6394751667976379, 0.7759609818458557, 0.7304657101631165, 0.7105615139007568, 0.878325343132019, 0.8641080856323242, 0.878325343132019, 0.881168782711029, 0.9437248110771179, 0.9664724469184875, 0.9920635223388672, 1.048932671546936, 1.0148111581802368, 1.0517760515213013, 1.0915844440460205, 1.1399232149124146, 1.1313928365707397, 1.2309136390686035, 1.1143320798873901, 1.2053226232528687, 1.2110095024108887, 1.1740446090698242, 1.2024791240692139, 1.1143320798873901, 1.1854184865951538, 1.117175579071045, 1.0034373998641968, 1.0517760515213013, 1.0148111581802368, 0.8896991610527039, 0.8896991610527039, 0.7617437243461609, 0.8356735110282898, 0.7190918922424316, 0.5371108055114746, 0.571232259273529, 0.5598584413528442, 0.41199883818626404, 0.33238211274147034, 0.35512974858283997, 0.27551302313804626, 0.18736591935157776, 0.1304968297481537, 0.12480992078781128, 0.11343610286712646, 0.07078428566455841, 0.00822828896343708, -0.008832437917590141, 0.03097592480480671, -0.07707534730434418, -0.05717116594314575, -0.10835334658622742, -0.025893162935972214, -0.15100516378879547, -0.10266643762588501, -0.10550989210605621, -0.0998229831457138, -0.08276225626468658, -0.06854498386383057, -0.04864080250263214, 0.013915197923779488, 0.011071743443608284, -0.07991880178451538, -0.07991880178451538, -0.12257061898708344, -0.0969795286655426, -0.10835334658622742, -0.06854498386383057, -0.06285807490348816, -0.08560571074485779, -0.12825752794742584, -0.22493496537208557, -0.244839146733284, -0.2562129497528076, -0.29886478185653687, -0.3017082214355469, -0.3045516908168793, -0.4239767789840698, -0.3898553252220154, -0.3983856737613678, -0.3301427662372589, -0.3358296751976013, -0.4040725827217102, -0.3244558572769165, -0.3130820393562317, -0.3415165841579437, -0.29033440351486206, -0.1737527996301651, -0.22493496537208557, -0.21071769297122955, -0.18512660264968872, -0.15100516378879547, -0.12257061898708344, -0.27327367663383484, -0.1765962541103363, -0.21640460193157196, -0.23630878329277039, -0.19934387505054474, -0.12541407346725464, -0.14531825482845306, -0.12257061898708344, -0.025893162935972214, -0.008832437917590141, 0.059410467743873596, 0.09068846702575684, 0.11343610286712646, 0.23286119103431702, 0.2129570096731186, 0.23570464551448822, 0.33806902170181274, 0.40915536880493164, 0.40346845984458923, 0.571232259273529, 0.508676290512085, 0.5911364555358887, 0.6110406517982483, 0.6679097414016724, 0.6622228026390076, 0.7418395280838013, 0.7475264668464661, 0.7873347997665405, 0.6679097414016724, 0.7077180743217468, 0.6366317272186279, 0.5456411838531494, 0.505832850933075, 0.40915536880493164, 0.42052918672561646, 0.2954171895980835, 0.28119993209838867, 0.19305282831192017, 0.1333402842283249, 0.0224455613642931, -0.0031455284915864468, -0.06854498386383057, -0.19081351161003113, -0.27043023705482483, -0.21356114745140076, -0.26758676767349243, -0.21356114745140076, -0.27043023705482483, -0.35289040207862854, -0.37563803791999817, -0.26189985871315, -0.21924805641174316, -0.21071769297122955, -0.20787423849105835, -0.21071769297122955, -0.21071769297122955, -0.20503078401088715, -0.19650042057037354, -0.18228314816951752, -0.20787423849105835, -0.16237898170948029, -0.14816170930862427, -0.13110098242759705, -0.034423526376485825, -0.05717116594314575, -0.034423526376485825, -0.16237898170948029, -0.16237898170948029, -0.06285807490348816, -0.051484256982803345, -0.11972716450691223, -0.13110098242759705, -0.22209151089191437, -0.1680658906698227, -0.2533695101737976, -0.19365696609020233, -0.26189985871315, -0.2647433280944824, -0.3017082214355469, -0.3216124176979065, -0.384168416261673, -0.35289040207862854, -0.4069160521030426, -0.44103750586509705, -0.3926987648010254, -0.44103750586509705, -0.37563803791999817, -0.4893762171268463, -0.44388094544410706, -0.4609416723251343, -0.3983856737613678, -0.3301427662372589, -0.27327367663383484, -0.23630878329277039, -0.2533695101737976, -0.27896058559417725, -0.15384861826896667, -0.1652224361896515, -0.06285807490348816, -0.07991880178451538, 0.03950629010796547, 0.09637537598609924, 0.10206228494644165, 0.07362774014472961, 0.2158004641532898, 0.33238211274147034, 0.2925737500190735, 0.3665035665035248, 0.4745548367500305, 0.48877209424972534, 0.5371108055114746, 0.6025102734565735, 0.5513280630111694, 0.6792835593223572, 0.6650662422180176, 0.7418395280838013, 0.6536924242973328, 0.6536924242973328, 0.5172066688537598, 0.514363169670105, 0.5172066688537598, 0.42905956506729126, 0.33238211274147034, 0.25276538729667664, 0.11627955734729767, 0.013915197923779488, -0.11119680106639862, -0.1652224361896515, -0.35857731103897095, -0.4239767789840698, -0.6173316836357117, -0.6855745911598206, -0.8305907845497131, -0.9756069183349609, -1.0324760675430298, -1.1405272483825684, -1.1234666109085083, -1.2201440334320068, -1.3054476976394653, -1.2713261842727661, -1.3111345767974854, -1.387907862663269, -1.3480994701385498, -1.4021251201629639, -1.333882212638855, -1.3111345767974854, -1.2258309125900269, -1.2201440334320068, -1.2485785484313965, -1.205926775932312, -1.1774921417236328, -1.1149362325668335, -1.023945689201355, -0.9130509495735168, -0.9386420249938965, -0.8959901928901672, -0.8874598145484924, -0.8021562099456787, -0.8817729353904724, -0.8590252995491028, -0.850494921207428, -0.8334342241287231, -0.7964693307876587, -0.7907823920249939, -0.8277472853660583, -0.7680347561836243, -0.7765651345252991, -0.7964693307876587, -0.7680347561836243, -0.7936258316040039, -0.7481305599212646, -0.716852605342865, -0.722539484500885, -0.6827311515808105, -0.7111656665802002, -0.7424436807632446, -0.7424436807632446, -0.722539484500885, -0.6486096978187561, -0.7111656665802002, -0.6855745911598206, -0.716852605342865, -0.6941049695014954, -0.7367567420005798, -0.7054787874221802, -0.8334342241287231, -0.6457661986351013, -0.716852605342865, -0.6457661986351013, -0.6656703948974609, -0.5689929723739624, -0.6173316836357117, -0.5092803835868835, -0.6201751232147217, -0.540558397769928, -0.5007500648498535, -0.42966368794441223, -0.42966368794441223, -0.3443600535392761, -0.2419956922531128, -0.2391522377729416, -0.15384861826896667, -0.0998229831457138, -0.06285807490348816, -0.08560571074485779, -0.017362801358103752, -0.014519346877932549, -0.014519346877932549, 0.09921883046627045, 0.04234974458813667, 0.09068846702575684, 0.065097376704216, 0.17314864695072174, 0.17883555591106415, 0.20727010071277618, 0.20727010071277618, 0.18736591935157776, 0.18736591935157776, 0.20158319175243378, 0.16461828351020813, 0.1504010111093521, 0.19305282831192017, 0.25560882687568665, 0.2214873731136322, 0.3920946419239044, 0.33806902170181274, 0.34375593066215515, 0.4375899136066437, 0.508676290512085, 0.4404333829879761, 0.5484846234321594, 0.5399542450904846, 0.5228935480117798, 0.5172066688537598, 0.6110406517982483, 0.6650662422180176, 0.7077180743217468, 0.699187695980072, 0.6821269989013672, 0.6451621055603027, 0.690657377243042, 0.6451621055603027, 0.6394751667976379, 0.6394751667976379, 0.5882930159568787, 0.40346845984458923, 0.4006250202655792, 0.34091246128082275, 0.17314864695072174, 0.25276538729667664, 0.07362774014472961, 0.05372355878353119, -0.04011043533682823, -0.14247480034828186, -0.10835334658622742, -0.10550989210605621, -0.21640460193157196, -0.19650042057037354, -0.20503078401088715, -0.18228314816951752, -0.11972716450691223, -0.14816170930862427, -0.14816170930862427, -0.1794397085905075, -0.18797005712985992, -0.2391522377729416, -0.28749096393585205, -0.2533695101737976, -0.3102385997772217, -0.35004696249961853, -0.3272993266582489, -0.3017082214355469, -0.3415165841579437, -0.4182898700237274, -0.45241132378578186, -0.4239767789840698, -0.4666285812854767, -0.4893762171268463, -0.4694720506668091, -0.5035935044288635, -0.5263411402702332, -0.4694720506668091, -0.45525476336479187, -0.4012291431427002, -0.36142078042030334, -0.37563803791999817, -0.23630878329277039, -0.21071769297122955, -0.23346532881259918, -0.0998229831457138, -0.034423526376485825, -0.06854498386383057, 0.07078428566455841, 0.1390271931886673, 0.06794083118438721, 0.025289015844464302, 0.12480992078781128, 0.15893137454986572, 0.2129570096731186, 0.2300177365541458, 0.32669520378112793, 0.3067910075187683, 0.35512974858283997, 0.40346845984458923, 0.3920946419239044, 0.40346845984458923, 0.383564293384552, 0.42621609568595886, 0.3949381113052368, 0.2783564627170563, 0.3153213858604431, 0.3067910075187683, 0.3181648254394531, 0.2783564627170563, 0.2101135551929474, 0.24992191791534424, 0.24139155447483063, 0.2158004641532898, 0.08500155806541443, 0.08784501254558563, -0.042953889816999435, -0.07423189282417297, -0.15669207274913788, -0.25905641913414, -0.23346532881259918, -0.27043023705482483, -0.35857731103897095, -0.4182898700237274, -0.4808458685874939, -0.5689929723739624, -0.6002709269523621, -0.6941049695014954, -0.7054787874221802, -0.6969484090805054, -0.7026352882385254, -0.6884180307388306, -0.8192169666290283, -0.7509740591049194, -0.7396002411842346, -0.7879389524459839, -0.7424436807632446, -0.6230185627937317, -0.5519322156906128, -0.6059578657150269, -0.5263411402702332, -0.5263411402702332, -0.43819403648376465, -0.3813249468803406, -0.3813249468803406, -0.3358296751976013, -0.25905641913414, -0.26758676767349243, -0.27611714601516724, -0.20787423849105835, -0.22209151089191437, -0.23346532881259918, -0.3187689483165741, -0.1765962541103363, -0.3216124176979065, -0.3415165841579437, -0.35289040207862854, -0.384168416261673, -0.3926987648010254, -0.3898553252220154, -0.37563803791999817, -0.5604625940322876, -0.543401837348938, -0.6486096978187561, -0.6230185627937317, -0.6343923807144165, -0.6258620619773865, -0.7708781957626343, -0.7737216949462891, -0.7993127703666687, -0.8021562099456787, -0.7481305599212646, -0.7026352882385254, -0.6770442128181458, -0.6088013052940369, -0.5689929723739624, -0.6343923807144165, -0.594584047794342, -0.5462453365325928, -0.5547756552696228, -0.4808458685874939, -0.4666285812854767, -0.4666285812854767, -0.45525476336479187, -0.3926987648010254, -0.42966368794441223, -0.3898553252220154, -0.3187689483165741, -0.34720349311828613, -0.3017082214355469, -0.2533695101737976, -0.19934387505054474, -0.21071769297122955, -0.11972716450691223, -0.04011043533682823, 0.0622539222240448, 0.1304968297481537, 0.2783564627170563, 0.2982606589794159, 0.33238211274147034, 0.4574941098690033, 0.5371108055114746, 0.5314239263534546, 0.565545380115509, 0.6878138780593872, 0.6792835593223572, 0.7020311951637268, 0.7788044214248657, 0.7873347997665405, 0.7048746347427368, 0.7645871639251709, 0.6394751667976379, 0.6025102734565735, 0.5911364555358887, 0.5996668338775635, 0.5285804271697998, 0.41768574714660645, 0.40915536880493164, 0.34375593066215515, 0.33522555232048035, 0.35797318816185, 0.18736591935157776, 0.23570464551448822, 0.19589628279209137, 0.050880104303359985, -0.04011043533682823, -0.05432771146297455, -0.15669207274913788, -0.19365696609020233, -0.2391522377729416, -0.29317787289619446, -0.29317787289619446, -0.29317787289619446, -0.3301427662372589, -0.3443600535392761, -0.3272993266582489, -0.36710768938064575, -0.3102385997772217, -0.22777841985225677, -0.3358296751976013, -0.3187689483165741, -0.3983856737613678, -0.3386731445789337, -0.412602961063385, -0.3955422341823578, -0.35004696249961853, -0.2419956922531128, -0.23062187433242798, -0.13678789138793945, -0.13678789138793945, -0.07707534730434418, -0.05432771146297455, -0.06854498386383057, -0.04864080250263214, 0.0224455613642931, 0.10206228494644165, 0.08784501254558563, 0.15608792006969452, 0.15608792006969452, 0.24423500895500183, 0.3665035665035248, 0.3892512023448944, 0.4375899136066437, 0.4773982763290405, 0.48592865467071533, 0.5627018809318542, 0.5854495167732239, 0.6394751667976379, 0.6707531809806824, 0.6252579092979431, 0.5854495167732239, 0.6281013488769531, 0.6707531809806824, 0.6622228026390076, 0.5826060771942139, 0.6309447884559631, 0.6195709705352783, 0.5968233346939087, 0.4404333829879761, 0.4773982763290405, 0.49445900321006775, 0.4603375494480133, 0.514363169670105, 0.4006250202655792, 0.43190300464630127, 0.41199883818626404, 0.1475575566291809, 0.2925737500190735, 0.24992191791534424, 0.19305282831192017, 0.1418706476688385, 0.09921883046627045, 0.09353192150592804, -0.000302074127830565, -0.028736617416143417, 0.011071743443608284, 0.00822828896343708, -0.025893162935972214, -0.011675892397761345, -0.008832437917590141, -0.04864080250263214, -0.06854498386383057, -0.034423526376485825, -0.07991880178451538, 0.011071743443608284, 0.04234974458813667, 0.10490573942661285, 0.05656701326370239, 0.2101135551929474, 0.20442664623260498, 0.3011040985584259, 0.3181648254394531, 0.3721904754638672, 0.4518072009086609, 0.5314239263534546, 0.5570150017738342, 0.6565359234809875, 0.8015520572662354, 0.7901782393455505, 0.8697949647903442, 1.0261850357055664, 0.997750461101532, 1.0432456731796265, 0.9806897044181824, 1.0915844440460205, 1.0858975648880005, 1.1854184865951538, 1.1200189590454102, 1.1967922449111938, 1.1626708507537842, 1.000593900680542, 1.0460891723632812, 0.9806897044181824, 1.0233415365219116, 0.9579420685768127, 0.8413604497909546, 0.9010729789733887, 0.8271431922912598, 0.7844913601875305, 0.7077180743217468, 0.699187695980072, 0.6593793630599976, 0.6281013488769531, 0.5513280630111694, 0.4574941098690033, 0.5200501084327698, 0.42905956506729126, 0.49445900321006775, 0.386407732963562, 0.34375593066215515, 0.40631192922592163, 0.3124779164791107, 0.3181648254394531, 0.3096344769001007, 0.19305282831192017, 0.09068846702575684, 0.059410467743873596, 0.07362774014472961, 0.12196646630764008, 0.08215810358524323, 0.11343610286712646, 0.08784501254558563, 0.07078428566455841, 0.06794083118438721, 0.07362774014472961, 0.1361837387084961, 0.2129570096731186, 0.11343610286712646, 0.19589628279209137, 0.3096344769001007, 0.3693470060825348, 0.4461202919483185, 0.3778773844242096, 0.3721904754638672, 0.42621609568595886, 0.4518072009086609, 0.5029893517494202, 0.40915536880493164, 0.4773982763290405, 0.4489637315273285, 0.3949381113052368, 0.48877209424972534, 0.386407732963562, 0.42905956506729126, 0.3892512023448944, 0.34375593066215515, 0.2982606589794159, 0.3636600971221924, 0.3636600971221924, 0.3693470060825348, 0.34944283962249756, 0.3210082948207855, 0.35797318816185, 0.3608166575431824, 0.33806902170181274, 0.26129573583602905, 0.33806902170181274, 0.3181648254394531, 0.41484227776527405, 0.41768574714660645, 0.40346845984458923, 0.4375899136066437, 0.3949381113052368, 0.4546506404876709, 0.4489637315273285, 0.4660244584083557, 0.48592865467071533, 0.3977815508842468, 0.4660244584083557, 0.4546506404876709, 0.42905956506729126, 0.42905956506729126, 0.3636600971221924, 0.2868868410587311, 0.27266955375671387, 0.19873973727226257, 0.12480992078781128, -0.017362801358103752, -0.19081351161003113, -0.27896058559417725, -0.2533695101737976, -0.3102385997772217, -0.35857731103897095, -0.4666285812854767, -0.5234977006912231, -0.6088013052940369, -0.6173316836357117, -0.668513834476471, -0.6941049695014954, -0.7026352882385254, -0.6742007732391357, -0.6628269553184509, -0.6031144261360168, -0.5263411402702332, -0.4808458685874939, -0.4865327775478363, -0.4069160521030426, -0.3813249468803406, -0.27896058559417725, -0.18512660264968872, -0.14247480034828186, -0.16237898170948029, -0.10550989210605621, -0.08560571074485779, -0.020206255838274956, 0.025289015844464302, 0.065097376704216, 0.07362774014472961, 0.03097592480480671, 0.059410467743873596, 0.11912301182746887, 0.065097376704216, 0.09637537598609924, -0.014519346877932549, 0.04803664982318878, 0.0622539222240448, 0.05372355878353119, 0.12480992078781128, 0.2158004641532898, 0.2271742820739746, 0.26698264479637146, 0.26698264479637146, 0.26413920521736145, 0.3778773844242096, 0.41484227776527405, 0.49161556363105774, 0.5513280630111694, 0.6252579092979431, 0.6849704384803772, 0.699187695980072, 0.7304657101631165, 0.7077180743217468, 0.7503699064254761, 0.7503699064254761, 0.6764400601387024, 0.6451621055603027, 0.571232259273529, 0.5427977442741394, 0.42905956506729126, 0.34375593066215515, 0.3210082948207855, 0.28119993209838867, 0.16746173799037933, 0.04519319906830788, -0.020206255838274956, -0.025893162935972214, -0.15384861826896667, -0.23346532881259918, -0.23346532881259918, -0.23346532881259918, -0.3301427662372589, -0.37279459834098816, -0.3358296751976013, -0.45525476336479187, -0.5320280194282532, -0.45525476336479187, -0.4751589596271515, -0.5035935044288635, -0.4182898700237274, -0.43819403648376465, -0.36142078042030334, -0.3955422341823578, -0.35004696249961853, -0.2476826012134552, -0.27611714601516724, -0.2533695101737976, -0.3130820393562317, -0.29886478185653687, -0.20218732953071594, -0.19650042057037354, -0.1680658906698227, -0.0941360741853714, -0.1652224361896515, -0.11972716450691223, -0.13394443690776825, -0.0912926197052002, -0.13394443690776825, 0.005384834948927164, -0.04579734802246094, 0.025289015844464302, -0.0031455284915864468, -0.05717116594314575, 0.0224455613642931, -0.034423526376485825, -0.005988983437418938, 0.05372355878353119, 0.08500155806541443, 0.002541380235925317, 0.0224455613642931, 0.03097592480480671, -0.03158007189631462, 0.025289015844464302, -0.04864080250263214, -0.07138843834400177, -0.0031455284915864468, -0.11404025554656982, -0.0912926197052002, -0.1765962541103363, -0.15953552722930908, -0.19650042057037354, -0.20503078401088715, -0.244839146733284, -0.23346532881259918, -0.36142078042030334, -0.3017082214355469, -0.4666285812854767, -0.4780023992061615, -0.5576191544532776, -0.5035935044288635, -0.5206542015075684, -0.6173316836357117, -0.5661494731903076, -0.5320280194282532, -0.6429227590560913, -0.6173316836357117, -0.6343923807144165, -0.6798876523971558, -0.7339133024215698, -0.6457661986351013, -0.7140091061592102, -0.7111656665802002, -0.7396002411842346, -0.7367567420005798, -0.719696044921875, -0.6742007732391357, -0.716852605342865, -0.6400793194770813, -0.5803667902946472, -0.5263411402702332, -0.4211333096027374, -0.5121238827705383, -0.36426421999931335, -0.37563803791999817, -0.387011855840683, -0.29602131247520447, -0.29886478185653687, -0.2533695101737976, -0.2476826012134552, -0.2476826012134552, -0.19365696609020233, -0.0941360741853714, -0.08560571074485779, 0.013915197923779488, -0.028736617416143417, -0.017362801358103752, -0.017362801358103752, -0.011675892397761345, -0.06285807490348816, 0.013915197923779488, -0.08844916522502899, -0.02304970845580101, -0.011675892397761345, 0.05656701326370239, 0.03097592480480671, 0.04519319906830788, -0.03158007189631462, -0.008832437917590141, 0.09068846702575684, -0.005988983437418938, -0.005988983437418938, 0.00822828896343708, -0.025893162935972214, -0.060014620423316956, 0.0622539222240448, 0.10206228494644165, 0.17314864695072174, 0.12480992078781128, 0.1504010111093521, 0.23570464551448822, 0.24423500895500183, 0.25845229625701904, 0.23286119103431702, 0.3124779164791107, 0.23286119103431702, 0.23854809999465942, 0.23286119103431702, 0.20727010071277618, 0.3011040985584259, 0.3096344769001007, 0.24992191791534424, 0.20158319175243378, 0.23854809999465942, 0.19589628279209137, 0.24139155447483063, 0.19589628279209137, 0.12480992078781128, 0.09068846702575684, 0.11627955734729767, 0.11912301182746887, 0.05656701326370239, 0.03097592480480671, -0.05432771146297455, -0.014519346877932549, -0.025893162935972214, -0.03158007189631462, -0.07991880178451538, -0.08276225626468658, -0.0941360741853714, -0.14816170930862427, -0.14247480034828186, -0.15100516378879547, -0.22209151089191437, -0.15953552722930908, -0.21924805641174316, -0.1709093451499939, -0.20503078401088715, -0.21071769297122955, -0.1709093451499939, -0.34720349311828613, -0.25905641913414, -0.34720349311828613, -0.35573387145996094, -0.4666285812854767, -0.537714958190918, -0.5689929723739624, -0.4893762171268463, -0.5149673223495483, -0.6912614703178406, -0.594584047794342, -0.6571400165557861, -0.6912614703178406, -0.6827311515808105, -0.7282264232635498, -0.7794085741043091, -0.7396002411842346, -0.7680347561836243, -0.8192169666290283, -0.844808042049408, -0.7026352882385254, -0.7737216949462891, -0.7794085741043091, -0.7708781957626343, -0.7310698628425598, -0.7509740591049194, -0.7993127703666687, -0.7822520136833191, -0.7310698628425598, -0.722539484500885, -0.7879389524459839, -0.7566609382629395, -0.7282264232635498, -0.725382924079895, -0.7026352882385254, -0.7538174986839294, -0.6884180307388306, -0.6969484090805054, -0.725382924079895, -0.719696044921875, -0.6713573336601257, -0.6941049695014954, -0.6827311515808105, -0.6429227590560913, -0.6287055015563965, -0.591740608215332, -0.5490887761116028, -0.4694720506668091, -0.4097594916820526, -0.42966368794441223, -0.36710768938064575, -0.3955422341823578, -0.35004696249961853, -0.37279459834098816, -0.3955422341823578, -0.23346532881259918, -0.2647433280944824, -0.26189985871315, -0.3073951303958893, -0.34720349311828613, -0.28464749455451965, -0.36142078042030334, -0.37848150730133057, -0.3301427662372589, -0.43535059690475464, -0.3926987648010254, -0.5149673223495483, -0.44672441482543945, -0.4836893081665039, -0.540558397769928, -0.5092803835868835, -0.5547756552696228, -0.5064369440078735, -0.5519322156906128, -0.44672441482543945, -0.5092803835868835, -0.4979065954685211, -0.36995112895965576, -0.43535059690475464, -0.3813249468803406, -0.26189985871315, -0.14531825482845306, -0.29602131247520447, -0.12825752794742584, -0.1709093451499939, -0.04011043533682823, -0.10835334658622742, 0.013915197923779488, -0.008832437917590141, -0.011675892397761345, 0.03097592480480671, -0.0031455284915864468, 0.03097592480480671, 0.04519319906830788, -0.020206255838274956, 0.059410467743873596, 0.03950629010796547, 0.005384834948927164, 0.04803664982318878, 0.11912301182746887, 0.11627955734729767, 0.18736591935157776, 0.24707846343517303, 0.17314864695072174, 0.23286119103431702, 0.2158004641532898, 0.23286119103431702, 0.28119993209838867, 0.2243308275938034, 0.3153213858604431, 0.25845229625701904, 0.19873973727226257, 0.20727010071277618, 0.15324446558952332, 0.05372355878353119, 0.01675865240395069, -0.03726698085665703, -0.11972716450691223, -0.10266643762588501, -0.19650042057037354, -0.18797005712985992, -0.2391522377729416, -0.2505260407924652, -0.28180405497550964, -0.3244558572769165, -0.43819403648376465, -0.43535059690475464, -0.5576191544532776, -0.5064369440078735, -0.5462453365325928, -0.6486096978187561, -0.6372358798980713, -0.6884180307388306, -0.7396002411842346, -0.8049996495246887, -0.7794085741043091, -0.8135300278663635, -0.8590252995491028, -0.8959901928901672, -0.9272682070732117, -0.9272682070732117, -0.9102074503898621, -0.8817729353904724, -0.8533384203910828, -0.850494921207428, -0.8362776637077332, -0.7595043778419495, -0.6884180307388306, -0.5633060336112976, -0.45241132378578186, -0.4637851417064667, -0.4069160521030426, -0.28180405497550964, -0.23062187433242798, -0.18797005712985992, -0.06285807490348816, 0.01675865240395069, 0.07362774014472961, 0.15324446558952332, 0.17883555591106415, 0.10490573942661285, 0.27266955375671387, 0.3949381113052368, 0.3892512023448944, 0.4006250202655792, 0.33238211274147034, 0.3608166575431824, 0.43474647402763367, 0.4660244584083557, 0.4574941098690033, 0.511519730091095, 0.5200501084327698, 0.6081971526145935, 0.5570150017738342, 0.5228935480117798, 0.5826060771942139, 0.5172066688537598, 0.5427977442741394, 0.6025102734565735, 0.5882930159568787, 0.42621609568595886, 0.4574941098690033, 0.3778773844242096, 0.40915536880493164, 0.3892512023448944, 0.41199883818626404, 0.24139155447483063, 0.2158004641532898, 0.17030519247055054, 0.24992191791534424, 0.1447141021490097, 0.1418706476688385, 0.08784501254558563, 0.16177482903003693, 0.17030519247055054, 0.25845229625701904, 0.19020937383174896, 0.2243308275938034, 0.24423500895500183, 0.2783564627170563, 0.27551302313804626, 0.33238211274147034, 0.386407732963562, 0.383564293384552, 0.386407732963562, 0.40346845984458923, 0.3693470060825348, 0.386407732963562, 0.3181648254394531, 0.35797318816185, 0.3693470060825348, 0.23854809999465942, 0.25276538729667664, 0.1361837387084961, 0.1447141021490097, 0.050880104303359985, 0.025289015844464302, -0.017362801358103752, -0.005988983437418938, 0.019602106884121895, -0.028736617416143417, 0.002541380235925317, -0.042953889816999435, -0.08276225626468658, -0.0998229831457138, -0.11688371002674103, -0.1794397085905075, -0.18228314816951752, -0.19650042057037354, -0.2391522377729416, -0.22493496537208557, -0.2505260407924652, -0.2562129497528076, -0.3329862356185913, -0.13678789138793945, -0.2419956922531128, -0.23062187433242798, -0.22209151089191437, -0.2419956922531128, -0.18228314816951752, -0.1709093451499939, -0.13394443690776825, -0.05432771146297455, -0.0031455284915864468, 0.07931464910507202, 0.18452246487140656, 0.24992191791534424, 0.34375593066215515, 0.3693470060825348, 0.508676290512085, 0.505832850933075, 0.49161556363105774, 0.5172066688537598, 0.6508489847183228, 0.6764400601387024, 0.7958651781082153, 0.7958651781082153, 0.824299693107605, 0.8413604497909546, 0.9181337356567383, 0.8498908281326294, 0.9209771752357483, 0.9124467968940735, 0.8840122818946838, 0.8356735110282898, 0.8385170102119446, 0.8328300714492798, 0.8271431922912598, 0.7361526489257812, 0.7731175422668457, 0.6593793630599976, 0.6735966205596924, 0.5939798951148987, 0.6650662422180176, 0.5228935480117798, 0.5456411838531494, 0.3977815508842468, 0.5001459121704102, 0.41484227776527405, 0.40631192922592163, 0.35512974858283997, 0.2783564627170563, 0.18167901039123535, 0.17599210143089294, 0.15893137454986572, 0.12196646630764008, -0.0031455284915864468, -0.06854498386383057, -0.005988983437418938, -0.06570152938365936, -0.04579734802246094, -0.11404025554656982, -0.06854498386383057, -0.13110098242759705, -0.08560571074485779, -0.12257061898708344, -0.12825752794742584, -0.22777841985225677, -0.15100516378879547, -0.15953552722930908, -0.1652224361896515, -0.1652224361896515, -0.14247480034828186, -0.12541407346725464, -0.14531825482845306, -0.21356114745140076, -0.22493496537208557, -0.244839146733284, -0.3159255087375641, -0.29602131247520447, -0.3244558572769165, -0.29886478185653687, -0.35573387145996094, -0.28749096393585205, -0.29886478185653687, -0.35004696249961853, -0.29033440351486206, -0.21356114745140076, -0.2505260407924652, -0.18512660264968872, -0.10835334658622742, -0.11119680106639862, -0.07423189282417297, -0.014519346877932549, 0.002541380235925317, 0.013915197923779488, 0.07078428566455841, 0.1333402842283249, 0.2982606589794159, 0.32385173439979553, 0.3693470060825348, 0.41484227776527405, 0.4717113673686981, 0.5342673659324646, 0.5541715621948242, 0.6081971526145935, 0.6565359234809875, 0.6025102734565735, 0.7247788310050964, 0.7418395280838013, 0.7048746347427368, 0.7247788310050964, 0.699187695980072, 0.7816479206085205, 0.7190918922424316, 0.6195709705352783, 0.5371108055114746, 0.5939798951148987, 0.5200501084327698, 0.5797626376152039, 0.48308518528938293, 0.49445900321006775, 0.5570150017738342, 0.4432768225669861, 0.4603375494480133, 0.41768574714660645, 0.4631810188293457, 0.43474647402763367, 0.42052918672561646, 0.42337265610694885, 0.3608166575431824, 0.40631192922592163, 0.35797318816185, 0.383564293384552, 0.2954171895980835, 0.3181648254394531, 0.3665035665035248, 0.3636600971221924, 0.24707846343517303, 0.23854809999465942, 0.18736591935157776, 0.2101135551929474, 0.23854809999465942, 0.20442664623260498, 0.23854809999465942, 0.24992191791534424, 0.23286119103431702, 0.23286119103431702, 0.15324446558952332, 0.1504010111093521, 0.17030519247055054, 0.1447141021490097, 0.11059264838695526, 0.17599210143089294, 0.16746173799037933, 0.1475575566291809, 0.09637537598609924, 0.25276538729667664, 0.27551302313804626, 0.26413920521736145, 0.3124779164791107, 0.4006250202655792, 0.3124779164791107, 0.3693470060825348, 0.4603375494480133, 0.3920946419239044, 0.3892512023448944, 0.3693470060825348, 0.383564293384552, 0.40631192922592163, 0.3665035665035248, 0.4574941098690033, 0.3039475679397583, 0.3721904754638672, 0.42905956506729126, 0.42337265610694885, 0.3721904754638672, 0.32669520378112793, 0.34375593066215515, 0.2982606589794159, 0.3636600971221924, 0.32953864336013794, 0.3067910075187683, 0.34659937024116516, 0.3807208240032196, 0.42621609568595886, 0.43474647402763367, 0.3153213858604431, 0.41768574714660645, 0.35512974858283997, 0.49445900321006775, 0.3949381113052368, 0.35512974858283997, 0.34091246128082275, 0.2982606589794159, 0.33806902170181274, 0.32385173439979553, 0.3124779164791107, 0.34375593066215515, 0.24992191791534424, 0.26698264479637146, 0.3949381113052368, 0.3181648254394531, 0.28119993209838867, 0.3693470060825348, 0.33806902170181274, 0.3977815508842468, 0.42052918672561646, 0.34659937024116516, 0.4006250202655792, 0.40631192922592163, 0.4375899136066437, 0.4404333829879761, 0.4745548367500305, 0.41199883818626404, 0.4660244584083557, 0.4546506404876709, 0.383564293384552, 0.35512974858283997, 0.32953864336013794, 0.27551302313804626, 0.2101135551929474, 0.26129573583602905, 0.2897302806377411, 0.2897302806377411, 0.2783564627170563, 0.26413920521736145, 0.2897302806377411, 0.2925737500190735, 0.19589628279209137, 0.18167901039123535, 0.23570464551448822, 0.15324446558952332, 0.07931464910507202, 0.1447141021490097, 0.09068846702575684, 0.09637537598609924, 0.11627955734729767, 0.09921883046627045, 0.11627955734729767, 0.06794083118438721, 0.013915197923779488, -0.005988983437418938, 0.011071743443608284, -0.03726698085665703, 0.005384834948927164, -0.0031455284915864468, 0.04519319906830788, 0.06794083118438721, 0.1361837387084961, 0.2243308275938034, 0.20727010071277618, 0.33806902170181274, 0.34091246128082275, 0.41199883818626404, 0.4518072009086609, 0.48308518528938293, 0.5257369875907898, 0.5257369875907898, 0.5911364555358887, 0.6679097414016724, 0.690657377243042, 0.7361526489257812, 0.7532133460044861, 0.7987086176872253, 0.7759609818458557, 0.7645871639251709, 0.7560567855834961, 0.7389960885047913, 0.6792835593223572, 0.6593793630599976, 0.6650662422180176, 0.7589002847671509, 0.7731175422668457, 0.7788044214248657, 0.7759609818458557, 0.7389960885047913, 0.7674306035041809, 0.821456253528595, 0.7162484526634216, 0.7361526489257812, 0.6650662422180176, 0.6821269989013672, 0.7304657101631165, 0.6735966205596924, 0.5939798951148987, 0.4773982763290405, 0.508676290512085, 0.4518072009086609, 0.4717113673686981, 0.33522555232048035, 0.3181648254394531, 0.19305282831192017, 0.12765337526798248, 0.07647119462490082, 0.08500155806541443, -0.011675892397761345, 0.03950629010796547, -0.005988983437418938, -0.12541407346725464, -0.1680658906698227, -0.19650042057037354, -0.21356114745140076, -0.1709093451499939, -0.22777841985225677, -0.2391522377729416, -0.20787423849105835, -0.2562129497528076, -0.2533695101737976, -0.29033440351486206, -0.244839146733284, -0.28180405497550964, -0.28464749455451965, -0.23062187433242798, -0.244839146733284, -0.27611714601516724, -0.27327367663383484, -0.2647433280944824, -0.19081351161003113, -0.0969795286655426, -0.10550989210605621, -0.07423189282417297, -0.08276225626468658, -0.04011043533682823, -0.07991880178451538, -0.03726698085665703, -0.1737527996301651, -0.0941360741853714, -0.0969795286655426, -0.14247480034828186, -0.08560571074485779, -0.07138843834400177, -0.05432771146297455, -0.15669207274913788, -0.04579734802246094, -0.008832437917590141, -0.008832437917590141, 0.050880104303359985, -0.008832437917590141, 0.03381938114762306, 0.050880104303359985, 0.08784501254558563, 0.04803664982318878, 0.11627955734729767, 0.12196646630764008, 0.10490573942661285, 0.11343610286712646, 0.09921883046627045, 0.09637537598609924, 0.2271742820739746, 0.1304968297481537, 0.09068846702575684, 0.17599210143089294, 0.1418706476688385, 0.11343610286712646, 0.1447141021490097, 0.1475575566291809, 0.15608792006969452, 0.07078428566455841, 0.11627955734729767, 0.19020937383174896, 0.17883555591106415, 0.1361837387084961, 0.08784501254558563, 0.12765337526798248, 0.07647119462490082, 0.11912301182746887, 0.11627955734729767, 0.16177482903003693, 0.20442664623260498, 0.17883555591106415, 0.2129570096731186, 0.19305282831192017, 0.15324446558952332, 0.19020937383174896, 0.19589628279209137, 0.23854809999465942, 0.3039475679397583, 0.35797318816185, 0.2925737500190735, 0.34375593066215515, 0.33238211274147034, 0.3693470060825348, 0.2982606589794159, 0.32669520378112793, 0.3920946419239044, 0.34944283962249756, 0.3778773844242096, 0.3892512023448944, 0.4603375494480133, 0.48877209424972534, 0.5172066688537598, 0.4574941098690033, 0.5541715621948242, 0.48308518528938293, 0.4631810188293457, 0.514363169670105, 0.43190300464630127, 0.41199883818626404, 0.3807208240032196, 0.35228627920150757, 0.24992191791534424, 0.2271742820739746, 0.16461828351020813, 0.10774919390678406, 0.07931464910507202, 0.03381938114762306, -0.06285807490348816, -0.11404025554656982, -0.3130820393562317, -0.4694720506668091, -0.5547756552696228, -0.6457661986351013, -0.7595043778419495, -0.8732425570487976, -0.9272682070732117, -0.9869807362556458, -1.0921885967254639, -1.1234666109085083, -1.1831791400909424, -1.3424125909805298, -1.345255970954895, -1.3680036067962646, -1.404968500137329, -1.413498878479004, -1.5357675552368164, -1.4220292568206787, -1.4504637718200684, -1.4362465143203735, -1.4732115268707275, -1.4106554985046387, -1.3537863492965698, -1.3509429693222046, -1.2940738201141357, -1.2030832767486572, -1.151901125907898, -1.0438498258590698, -1.0466933250427246, -0.9983545541763306, -0.8305907845497131, -0.7708781957626343, -0.7026352882385254, -0.6343923807144165, -0.5291845798492432, -0.45809823274612427, -0.43819403648376465, -0.35289040207862854, -0.3045516908168793, -0.29602131247520447, -0.14247480034828186, -0.07707534730434418, -0.04011043533682823, 0.03097592480480671, 0.059410467743873596, 0.17314864695072174, 0.1447141021490097, 0.16461828351020813, 0.2158004641532898, 0.1475575566291809, 0.12765337526798248, 0.11059264838695526, 0.03950629010796547, 0.08784501254558563, -0.020206255838274956, -0.0941360741853714, -0.11972716450691223, -0.11688371002674103, -0.1794397085905075, -0.26189985871315, -0.3386731445789337, -0.4182898700237274, -0.37279459834098816, -0.4836893081665039, -0.5178107619285583, -0.5234977006912231, -0.6287055015563965, -0.7396002411842346, -0.6798876523971558, -0.8647121787071228, -0.8760859966278076, -0.8391211032867432, -0.8874598145484924, -0.8135300278663635, -0.8106865882873535, -0.8106865882873535, -0.7765651345252991, -0.7026352882385254, -0.6742007732391357, -0.5121238827705383, -0.5234977006912231, -0.4609416723251343, -0.37563803791999817, -0.3159255087375641, -0.26758676767349243, -0.18228314816951752, -0.08276225626468658, -0.05717116594314575, 0.0622539222240448, 0.20442664623260498, 0.24139155447483063, 0.3665035665035248, 0.3807208240032196, 0.4546506404876709, 0.5399542450904846, 0.6252579092979431, 0.6025102734565735, 0.6849704384803772, 0.7190918922424316, 0.7475264668464661, 0.7190918922424316, 0.8498908281326294, 0.7873347997665405, 0.7674306035041809, 0.7617437243461609, 0.8072389960289001, 0.7276222705841064, 0.5627018809318542, 0.6025102734565735, 0.5285804271697998, 0.43190300464630127, 0.3920946419239044, 0.3807208240032196, 0.32669520378112793, 0.16461828351020813, 0.1447141021490097, 0.11343610286712646, 0.08784501254558563, 0.0224455613642931, -0.051484256982803345, -0.12825752794742584, -0.15953552722930908, -0.11119680106639862, -0.1680658906698227, -0.15100516378879547, -0.14247480034828186, -0.14531825482845306, -0.1765962541103363, -0.2505260407924652, -0.27611714601516724, -0.2505260407924652, -0.29886478185653687, -0.36710768938064575, -0.384168416261673, -0.3926987648010254, -0.44672441482543945, -0.21356114745140076, -0.29886478185653687, -0.28180405497550964, -0.27327367663383484, -0.26758676767349243, -0.2533695101737976, -0.27611714601516724, -0.26758676767349243, -0.12541407346725464, -0.19365696609020233, -0.1709093451499939, -0.1652224361896515, -0.10266643762588501, -0.0031455284915864468, -0.03158007189631462, 0.07078428566455841, 0.00822828896343708, 0.11343610286712646, 0.16746173799037933, 0.19020937383174896, 0.19873973727226257, 0.25276538729667664, 0.25845229625701904, 0.3977815508842468, 0.32669520378112793, 0.383564293384552, 0.4773982763290405, 0.3892512023448944, 0.41199883818626404, 0.28119993209838867, 0.3096344769001007, 0.3210082948207855, 0.25845229625701904, 0.20442664623260498, 0.26698264479637146, 0.19589628279209137, 0.07931464910507202, 0.09353192150592804, -0.000302074127830565, 0.002541380235925317, -0.1794397085905075, -0.23062187433242798, -0.19081351161003113, -0.3272993266582489, -0.3301427662372589, -0.4751589596271515, -0.44956785440444946, -0.4893762171268463, -0.5121238827705383, -0.5263411402702332, -0.5007500648498535, -0.415446400642395, -0.5775232911109924, -0.5234977006912231, -0.4808458685874939, -0.5547756552696228, -0.5121238827705383, -0.5832102298736572, -0.5775232911109924, -0.6088013052940369, -0.5547756552696228, -0.543401837348938, -0.5490887761116028, -0.4922196865081787, -0.4922196865081787, -0.4637851417064667, -0.5035935044288635, -0.4950631260871887, -0.5462453365325928, -0.4637851417064667, -0.42682021856307983, -0.4069160521030426, -0.37563803791999817, -0.4979065954685211, -0.5263411402702332, -0.5149673223495483, -0.5519322156906128, -0.4723154902458191, -0.594584047794342, -0.6230185627937317, -0.6770442128181458, -0.6429227590560913, -0.7566609382629395, -0.7623478770256042, -0.8249038457870483, -0.9272682070732117, -0.9642331004142761, -0.8903033137321472, -0.8931467533111572, -0.907364010810852, -0.9357985854148865, -0.9670765399932861, -0.9642331004142761, -0.9841372966766357, -0.978450357913971, -1.0438498258590698, -1.0154153108596802, -0.7651913166046143, -0.8049996495246887, -0.7765651345252991, -0.6343923807144165, -0.5547756552696228, -0.5718364119529724, -0.3301427662372589, -0.35289040207862854, -0.3272993266582489, -0.28464749455451965, -0.13963134586811066, -0.1709093451499939, -0.0941360741853714, -0.07707534730434418, 0.028132470324635506, 0.050880104303359985, 0.03950629010796547, 0.03381938114762306, 0.04519319906830788, 0.08215810358524323, 0.08500155806541443, 0.1475575566291809, 0.20442664623260498, 0.2214873731136322, 0.24992191791534424, 0.12196646630764008, 0.26413920521736145, 0.2129570096731186, 0.15608792006969452, 0.15608792006969452, 0.16461828351020813, 0.2897302806377411, 0.1304968297481537, 0.12480992078781128, 0.20442664623260498, 0.1475575566291809, 0.15608792006969452, 0.23854809999465942, 0.16461828351020813, 0.23286119103431702, 0.1447141021490097, 0.10490573942661285, 0.1304968297481537, 0.20158319175243378, 0.08215810358524323, 0.12480992078781128, 0.07362774014472961, 0.10490573942661285, 0.06794083118438721, 0.15324446558952332, 0.025289015844464302, -0.028736617416143417, -0.04011043533682823, -0.0941360741853714, -0.028736617416143417, 0.03950629010796547, -0.028736617416143417, 0.002541380235925317, -0.020206255838274956, -0.07991880178451538, -0.07991880178451538, -0.07138843834400177, -0.20787423849105835, -0.07991880178451538, -0.1652224361896515, -0.11404025554656982, -0.14531825482845306, -0.13678789138793945, -0.1680658906698227, -0.16237898170948029, -0.08844916522502899, -0.13394443690776825, -0.13963134586811066, -0.15953552722930908, -0.1737527996301651, -0.11119680106639862, -0.042953889816999435, -0.11688371002674103, -0.042953889816999435, -0.08844916522502899, -0.02304970845580101, -0.07707534730434418, -0.10835334658622742, -0.017362801358103752, -0.051484256982803345, -0.042953889816999435, -0.10835334658622742, -0.04864080250263214, -0.06854498386383057, -0.060014620423316956, -0.07138843834400177, -0.13678789138793945, -0.05432771146297455, -0.07138843834400177, -0.19650042057037354, -0.060014620423316956, -0.13678789138793945, -0.0969795286655426, -0.042953889816999435, -0.04011043533682823, 0.04234974458813667, 0.04519319906830788, 0.08784501254558563, 0.028132470324635506, 0.11912301182746887, 0.11343610286712646, 0.011071743443608284, -0.1680658906698227, 0.6849704384803772, 0.8669515252113342, 0.43474647402763367, 0.4660244584083557, 0.5541715621948242, 0.508676290512085, 0.3892512023448944, 0.42052918672561646, 0.3210082948207855, 0.19305282831192017, 0.23286119103431702, 0.4717113673686981, 0.3067910075187683, 0.1304968297481537, 0.20442664623260498, 0.09921883046627045, -0.14247480034828186, 0.11059264838695526, 0.41199883818626404, 0.26982611417770386, -0.0031455284915864468, 0.06794083118438721, 0.07931464910507202, 0.036662835627794266, 0.15324446558952332, 0.06794083118438721, -0.000302074127830565, -0.011675892397761345, 0.019602106884121895, -0.05432771146297455, -0.15953552722930908, -0.29602131247520447, -0.28180405497550964, -0.3130820393562317, -0.3272993266582489, -0.44956785440444946, -0.4893762171268463, -0.4609416723251343, -0.6144882440567017, -0.6656703948974609, -0.5206542015075684, -0.44388094544410706, -0.3813249468803406, -0.35289040207862854, -0.3045516908168793, -0.1652224361896515, -0.28464749455451965, -0.25905641913414, -0.20787423849105835, -0.25905641913414, -0.0941360741853714, 0.011071743443608284, 0.04519319906830788, -0.12541407346725464, -0.005988983437418938, -0.05432771146297455, 0.06794083118438721, 0.036662835627794266, -0.000302074127830565, -0.0941360741853714, 0.07931464910507202, 0.18167901039123535, 0.10774919390678406, 0.11627955734729767, 0.04519319906830788, -0.06854498386383057, -0.05432771146297455, -0.05717116594314575, 0.2101135551929474, 0.05372355878353119, -0.0912926197052002, 0.013915197923779488, -0.08844916522502899, -0.0941360741853714, -0.020206255838274956, -0.008832437917590141, -0.034423526376485825, -0.19365696609020233, -0.03726698085665703, 0.10490573942661285, 0.05372355878353119, 0.050880104303359985, -0.0941360741853714, -0.22209151089191437, -0.03158007189631462, 0.05372355878353119, -0.060014620423316956, -0.02304970845580101, -0.04579734802246094, -0.18797005712985992, -0.21356114745140076, -0.27611714601516724, -0.1765962541103363, -0.19081351161003113, -0.28180405497550964, -0.21924805641174316, -0.20787423849105835, -0.244839146733284, -0.19650042057037354, -0.04864080250263214, -0.1765962541103363, 0.00822828896343708, 0.04803664982318878, 0.19589628279209137, 0.28119993209838867, 0.15608792006969452, 0.18167901039123535, 0.1475575566291809, 0.16177482903003693, 0.1390271931886673, 0.26982611417770386, 0.3181648254394531, 0.3892512023448944, 0.386407732963562, 0.3636600971221924, 0.4631810188293457, 0.48308518528938293, 0.5513280630111694, 0.6565359234809875, 0.6480055451393127, 0.5882930159568787, 0.8641080856323242, 0.8612646460533142, 1.0204980373382568, 1.0858975648880005, 0.997750461101532, 1.0290284156799316, 1.0375587940216064, 1.193948745727539, 1.2053226232528687, 1.134236216545105, 1.1001148223876953, 1.0830540657043457, 1.128549337387085, 1.1569838523864746, 1.0375587940216064, 0.9351944327354431, 0.9949069619178772, 0.878325343132019, 0.8612646460533142, 0.6735966205596924, 0.6252579092979431, 0.6337882876396179, 0.33238211274147034, 0.49161556363105774, 0.4773982763290405, 0.26698264479637146, 0.48308518528938293, 0.4660244584083557, 0.2954171895980835, 0.25276538729667664, 0.3807208240032196, 0.34659937024116516, 0.35228627920150757, 0.34375593066215515, 0.3949381113052368, 0.42905956506729126, 0.508676290512085, 0.6536924242973328, 0.4688679277896881, 0.5228935480117798, 0.4688679277896881, 0.5996668338775635, 0.6480055451393127, 0.6025102734565735, 0.571232259273529, 0.511519730091095, 0.5598584413528442, 0.5882930159568787, 0.5996668338775635, 0.5826060771942139, 0.5968233346939087, 0.6138840913772583, 0.568388819694519, 0.6764400601387024, 0.6622228026390076, 0.5968233346939087, 0.7105615139007568, 0.6849704384803772, 0.6081971526145935, 0.6480055451393127, 0.6281013488769531, 0.568388819694519, 0.4717113673686981, 0.41768574714660645, 0.3181648254394531, 0.4006250202655792, 0.3920946419239044, 0.34091246128082275, 0.3778773844242096, 0.48308518528938293, 0.5541715621948242, 0.49161556363105774, 0.49161556363105774, 0.4375899136066437, 0.4006250202655792, 0.23854809999465942, 0.33806902170181274, 0.2101135551929474, 0.23570464551448822, 0.11912301182746887, -0.011675892397761345, -0.028736617416143417, -0.13110098242759705, -0.20218732953071594, -0.22209151089191437, -0.27611714601516724, -0.3358296751976013, -0.2533695101737976, -0.4069160521030426, -0.3926987648010254, -0.4780023992061615, -0.4694720506668091, -0.44103750586509705, -0.4666285812854767, -0.5263411402702332, -0.540558397769928, -0.5803667902946472, -0.6059578657150269, -0.6855745911598206, -0.6486096978187561, -0.6827311515808105, -0.6400793194770813, -0.5746798515319824, -0.6031144261360168, -0.5263411402702332, -0.5035935044288635, -0.5604625940322876, -0.4239767789840698, -0.5633060336112976, -0.43819403648376465, -0.29602131247520447, -0.29317787289619446, -0.34720349311828613, -0.28749096393585205, -0.3187689483165741, -0.23630878329277039, 0.0224455613642931, 0.03381938114762306, 0.04519319906830788, 0.005384834948927164, 0.1418706476688385, 0.09353192150592804, 0.11912301182746887, 0.19020937383174896, 0.19020937383174896, 0.24992191791534424, 0.2954171895980835, 0.3721904754638672, 0.4461202919483185, 0.5996668338775635, 0.5172066688537598, 0.32669520378112793, 0.35228627920150757, 0.4688679277896881, 0.33806902170181274, 0.42621609568595886, 0.4518072009086609, 0.35228627920150757, 0.3608166575431824, 0.5172066688537598, 0.3920946419239044, 0.41199883818626404, 0.383564293384552, 0.4631810188293457, 0.42052918672561646, 0.7048746347427368, 0.5996668338775635, 0.5513280630111694, 0.42052918672561646, 0.4802417457103729, 0.3721904754638672, 0.5427977442741394, 0.6650662422180176, 0.5257369875907898, 0.6849704384803772, 0.6394751667976379, 0.6138840913772583, 0.6536924242973328, 0.5200501084327698, 0.4404333829879761, 0.5854495167732239, 0.40631192922592163, 0.49445900321006775, 0.5342673659324646, 0.3210082948207855, 0.3608166575431824, 0.19589628279209137, 0.2300177365541458, 0.40915536880493164, 0.35512974858283997, 0.4660244584083557, 0.4773982763290405, 0.4574941098690033, 0.5314239263534546, 0.5456411838531494, 0.5826060771942139, 0.6707531809806824, 0.5968233346939087, 0.6167275309562683, 0.5427977442741394, 0.5740756988525391, 0.7048746347427368, 0.5029893517494202, 0.48308518528938293, 0.49161556363105774, 0.34091246128082275, 0.3665035665035248, 0.3977815508842468, 0.27551302313804626, 0.20727010071277618, 0.17314864695072174, 0.17599210143089294, 0.2158004641532898, 0.3608166575431824, 0.25560882687568665, 0.3011040985584259, 0.20727010071277618, 0.24423500895500183, 0.2954171895980835, 0.3124779164791107, 0.18452246487140656, 0.08784501254558563, 0.23570464551448822, 0.20158319175243378, 0.23570464551448822, 0.059410467743873596, 0.019602106884121895, -0.07423189282417297, -0.06854498386383057, -0.014519346877932549, -0.0969795286655426, -0.04579734802246094, 0.07647119462490082, 0.065097376704216, 0.09353192150592804, 0.04519319906830788, 0.03097592480480671, 0.011071743443608284, 0.036662835627794266, 0.20727010071277618, 0.3608166575431824, 0.3693470060825348, 0.48877209424972534, 0.5996668338775635, 0.6679097414016724, 0.7077180743217468, 0.9124467968940735, 0.8328300714492798, 0.9266640543937683, 0.9295075535774231, 0.8129258751869202, 0.8043955564498901, 0.7503699064254761, 0.5769191980361938, 0.508676290512085, 0.40915536880493164, 0.3096344769001007, 0.23286119103431702, 0.2101135551929474, -0.060014620423316956, -0.08276225626468658, -0.18228314816951752, -0.3187689483165741, -0.3329862356185913, -0.4012291431427002, -0.4694720506668091, -0.6486096978187561, -0.6201751232147217, -0.6230185627937317, -0.5178107619285583, -0.5206542015075684, -0.5178107619285583, -0.725382924079895, -0.6514531373977661, -0.5832102298736572, -0.594584047794342, -0.6798876523971558, -0.7765651345252991, -0.8163734674453735, -0.7566609382629395, -0.7026352882385254, -0.6884180307388306, -0.6912614703178406, -0.7282264232635498, -0.7339133024215698, -0.6372358798980713, -0.6713573336601257, -0.415446400642395, -0.415446400642395, -0.26189985871315, -0.3017082214355469, -0.21640460193157196, -0.0998229831457138, -0.05432771146297455, -0.08844916522502899, 0.09637537598609924, 0.11343610286712646, 0.20158319175243378, 0.2868868410587311, 0.4745548367500305, 0.49161556363105774, 0.4546506404876709, 0.5740756988525391, 0.5769191980361938, 0.5001459121704102, 0.5769191980361938, 0.6167275309562683, 0.5740756988525391, 0.49445900321006775, 0.4631810188293457, 0.4432768225669861, 0.3778773844242096, 0.17030519247055054, 0.24423500895500183, 0.19589628279209137, 0.1333402842283249, 0.05372355878353119, 0.03381938114762306, -0.034423526376485825, -0.1680658906698227, -0.2505260407924652, -0.244839146733284, -0.5064369440078735, -0.4097594916820526, -0.45809823274612427, -0.5661494731903076, -0.591740608215332, -0.5206542015075684, -0.5718364119529724, -0.5234977006912231, -0.5775232911109924, -0.6542965769767761, -0.6514531373977661, -0.7424436807632446, -0.7339133024215698, -0.7282264232635498, -0.7538174986839294, -0.7993127703666687, -0.847651481628418, -0.8391211032867432, -0.850494921207428, -0.7737216949462891, -0.7822520136833191, -0.7822520136833191, -0.9158943891525269, -0.8078431487083435, -0.8533384203910828, -0.8305907845497131, -0.8220604062080383, -0.7907823920249939, -0.8305907845497131, -0.7765651345252991, -0.7708781957626343, -0.850494921207428, -0.8305907845497131, -0.7993127703666687, -0.7396002411842346, -0.7651913166046143, -0.597427487373352, -0.543401837348938, -0.534871518611908, -0.415446400642395, -0.34720349311828613, -0.3358296751976013, -0.3272993266582489, -0.43250712752342224, -0.43819403648376465, -0.4182898700237274, -0.36710768938064575, -0.3955422341823578, -0.4040725827217102, -0.4808458685874939, -0.4637851417064667, -0.44672441482543945, -0.5234977006912231, -0.5490887761116028, -0.44956785440444946, -0.5320280194282532, -0.6457661986351013, -0.7140091061592102, -0.6742007732391357, -0.7111656665802002, -0.7737216949462891, -0.7737216949462891, -0.6457661986351013, -0.6315489411354065, -0.5888971090316772, -0.6798876523971558, -0.722539484500885, -0.6258620619773865, -0.716852605342865, -0.7964693307876587, -0.7367567420005798, -0.716852605342865, -0.6713573336601257, -0.5604625940322876, -0.4950631260871887, -0.5149673223495483, -0.4012291431427002, -0.35004696249961853, -0.22493496537208557, -0.13394443690776825, -0.0941360741853714, -0.12825752794742584, -0.042953889816999435, -0.12257061898708344, -0.19650042057037354, -0.16237898170948029, -0.04864080250263214, -0.060014620423316956, -0.19650042057037354, -0.08276225626468658, -0.05432771146297455, -0.12257061898708344, -0.08276225626468658, -0.14247480034828186, -0.10266643762588501, -0.22493496537208557, -0.3813249468803406, -0.25905641913414, -0.27327367663383484, -0.4012291431427002, -0.5576191544532776, -0.5490887761116028, -0.5291845798492432, -0.6144882440567017, -0.5689929723739624, -0.5547756552696228, -0.4865327775478363, -0.43250712752342224, -0.4069160521030426, -0.537714958190918, -0.6088013052940369, -0.5007500648498535, -0.5064369440078735, -0.4922196865081787, -0.43535059690475464, -0.3045516908168793, -0.23062187433242798, -0.35289040207862854, -0.2505260407924652, -0.26189985871315, -0.23062187433242798, -0.18797005712985992, -0.2562129497528076, -0.10835334658622742, -0.14816170930862427, -0.15384861826896667, -0.08276225626468658, -0.04579734802246094, -0.06570152938365936, -0.034423526376485825, -0.042953889816999435, 0.11059264838695526, 0.17314864695072174, 0.16746173799037933, 0.11343610286712646, 0.17599210143089294, 0.11343610286712646, 0.06794083118438721, 0.059410467743873596, -0.05717116594314575, -0.020206255838274956, -0.13110098242759705, -0.08276225626468658, -0.15384861826896667, -0.20787423849105835, -0.20218732953071594, -0.23346532881259918, -0.36426421999931335, -0.4723154902458191, -0.5064369440078735, -0.5035935044288635, -0.5633060336112976, -0.543401837348938, -0.6059578657150269, -0.5775232911109924, -0.5547756552696228, -0.7424436807632446, -0.5832102298736572, -0.5633060336112976, -0.5291845798492432, -0.6144882440567017, -0.5661494731903076, -0.5462453365325928, -0.4694720506668091, -0.34720349311828613, -0.35857731103897095, -0.29886478185653687, -0.4211333096027374, -0.42682021856307983, -0.3813249468803406, -0.44388094544410706, -0.35004696249961853, -0.35289040207862854, -0.3272993266582489, -0.29033440351486206, -0.20787423849105835, -0.22493496537208557, -0.22209151089191437, -0.1737527996301651, -0.21356114745140076, -0.1709093451499939, -0.18228314816951752, -0.1709093451499939, -0.05432771146297455, -0.011675892397761345, -0.07423189282417297, -0.07707534730434418, -0.04579734802246094, -0.051484256982803345, -0.06285807490348816, -0.11119680106639862, -0.060014620423316956, -0.008832437917590141, -0.0031455284915864468, 0.05372355878353119, -0.07423189282417297, -0.26758676767349243, -0.26758676767349243, -0.28749096393585205, -0.35004696249961853, -0.4069160521030426, -0.45525476336479187, -0.44103750586509705, -0.43819403648376465, -0.5121238827705383, -0.3898553252220154, -0.37563803791999817, -0.543401837348938, -0.5576191544532776, -0.44672441482543945, -0.5178107619285583, -0.5576191544532776, -0.44672441482543945, -0.415446400642395, -0.4182898700237274, -0.3443600535392761, -0.3386731445789337, -0.21924805641174316, -0.13678789138793945, -0.19934387505054474, -0.11688371002674103, -0.07991880178451538, -0.03158007189631462, 0.03950629010796547, 0.028132470324635506, 0.10206228494644165, 0.07078428566455841, 0.025289015844464302, 0.065097376704216, 0.059410467743873596, 0.08215810358524323, 0.19873973727226257, 0.12765337526798248, 0.005384834948927164, 0.03381938114762306, 0.002541380235925317, -0.08276225626468658, -0.20218732953071594, -0.12541407346725464, -0.22209151089191437, -0.3073951303958893, -0.29033440351486206, -0.36142078042030334, -0.4097594916820526, -0.3386731445789337, -0.3301427662372589, -0.35289040207862854, -0.412602961063385, -0.5121238827705383, -0.591740608215332, -0.6230185627937317, -0.5775232911109924, -0.5775232911109924, -0.6173316836357117, -0.719696044921875, -0.6798876523971558, -0.722539484500885, -0.8021562099456787, -0.7310698628425598, -0.7595043778419495, -0.6912614703178406, -0.668513834476471, -0.7111656665802002, -0.6457661986351013, -0.6002709269523621, -0.5633060336112976, -0.4808458685874939, -0.4637851417064667, -0.44672441482543945, -0.3159255087375641, -0.2562129497528076, -0.20218732953071594, -0.21356114745140076, 0.00822828896343708, 0.03950629010796547, 0.18452246487140656, 0.15893137454986572, 0.17314864695072174, 0.08500155806541443, 0.2243308275938034, 0.25560882687568665, 0.32953864336013794, 0.3778773844242096, 0.42621609568595886, 0.48592865467071533, 0.514363169670105, 0.6281013488769531, 0.6224144697189331, 0.5598584413528442, 0.6337882876396179, 0.6224144697189331, 0.7247788310050964, 0.7987086176872253, 0.815769374370575, 0.7816479206085205, 0.7276222705841064, 0.690657377243042, 0.5314239263534546, 0.5513280630111694, 0.4432768225669861, 0.43190300464630127, 0.27266955375671387, 0.17314864695072174, 0.10206228494644165, 0.03381938114762306, -0.03726698085665703, -0.08844916522502899, -0.18797005712985992, -0.2391522377729416, -0.3017082214355469, -0.3443600535392761, -0.4239767789840698, -0.3216124176979065, -0.37279459834098816, -0.4012291431427002, -0.36995112895965576, -0.35289040207862854, -0.3386731445789337, -0.387011855840683, -0.3187689483165741, -0.27611714601516724, -0.23062187433242798, -0.2647433280944824, -0.22493496537208557, -0.11972716450691223, -0.14247480034828186, -0.0912926197052002, -0.011675892397761345, 0.00822828896343708, 0.03950629010796547, 0.11343610286712646, 0.1390271931886673, 0.3181648254394531, 0.3039475679397583, 0.2925737500190735, 0.3181648254394531, 0.34659937024116516, 0.4574941098690033, 0.4688679277896881, 0.5371108055114746, 0.49730247259140015, 0.48308518528938293, 0.49730247259140015, 0.5001459121704102, 0.3892512023448944, 0.4717113673686981, 0.43474647402763367, 0.4006250202655792, 0.41768574714660645, 0.3892512023448944, 0.4631810188293457, 0.3608166575431824, 0.3665035665035248, 0.40915536880493164, 0.24423500895500183, 0.25276538729667664, 0.26413920521736145, 0.20442664623260498, 0.11343610286712646, 0.050880104303359985, -0.04579734802246094, 0.07078428566455841, 0.065097376704216, 0.10206228494644165, -0.08844916522502899, -0.06570152938365936, -0.1765962541103363, -0.19934387505054474, -0.14531825482845306, -0.008832437917590141, -0.10266643762588501, -0.27043023705482483, -0.20218732953071594, -0.13110098242759705, -0.14531825482845306, -0.05432771146297455, -0.060014620423316956, -0.060014620423316956, -0.1709093451499939, -0.29317787289619446, -0.26758676767349243, -0.2505260407924652, -0.2562129497528076, -0.3443600535392761, -0.27327367663383484, -0.23062187433242798, -0.2419956922531128, -0.15953552722930908, -0.07707534730434418, -0.04011043533682823, -0.020206255838274956, -0.03726698085665703, 0.16177482903003693, 0.25560882687568665, 0.35512974858283997, 0.3949381113052368, 0.49161556363105774, 0.4745548367500305, 0.5627018809318542, 0.4745548367500305, 0.571232259273529, 0.568388819694519, 0.6224144697189331, 0.568388819694519, 0.5570150017738342, 0.48308518528938293, 0.4745548367500305, 0.5172066688537598, 0.5598584413528442, 0.5570150017738342, 0.5598584413528442, 0.5200501084327698, 0.4546506404876709, 0.511519730091095, 0.5001459121704102, 0.4717113673686981, 0.4717113673686981, 0.4489637315273285, 0.5399542450904846, 0.4688679277896881, 0.5911364555358887, 0.5769191980361938, 0.508676290512085, 0.5200501084327698, 0.5456411838531494, 0.4688679277896881, 0.34091246128082275, 0.2158004641532898, 0.19305282831192017, 0.065097376704216, 0.019602106884121895, -0.020206255838274956, -0.051484256982803345, -0.18512660264968872, -0.2647433280944824, -0.22493496537208557, -0.3216124176979065, -0.28749096393585205, -0.35857731103897095, -0.45809823274612427, -0.4865327775478363, -0.6144882440567017, -0.591740608215332, -0.6173316836357117, -0.6173316836357117, -0.6116447448730469, -0.5519322156906128, -0.4836893081665039, -0.4723154902458191, -0.4097594916820526, -0.4609416723251343, -0.387011855840683, -0.3443600535392761, -0.15953552722930908, -0.014519346877932549, 0.2243308275938034, 0.3665035665035248, 0.6224144697189331, 0.9550986289978027, 1.3076869249343872, 1.5380066633224487, 1.7143008708953857, 1.8792212009429932, 1.990116000175476, 2.08963680267334, 2.2033751010894775, 2.2858352661132812, 2.1720969676971436, 2.1408190727233887, 2.0640456676483154, 2.035611152648926, 1.9588379859924316, 1.8422563076019287, 1.8621604442596436, 1.7143008708953857, 1.5408501625061035, 1.4157382249832153, 1.4015209674835205, 1.2934696674346924, 1.2309136390686035, 1.1967922449111938, 1.2934696674346924, 1.3332780599594116, 1.3247476816177368, 1.4470162391662598, 1.4100513458251953, 1.358869194984436, 1.3389649391174316, 1.1854184865951538, 1.1058017015457153, 0.8982295393943787, 0.8527342677116394, 0.6565359234809875, 0.6309447884559631, 0.4802417457103729, 0.2982606589794159, 0.1333402842283249, 0.03381938114762306, -0.13110098242759705, -0.27043023705482483, -0.412602961063385, -0.4637851417064667, -0.5746798515319824, -0.543401837348938, -0.4808458685874939, -0.412602961063385, -0.3301427662372589, -0.3244558572769165, -0.29317787289619446, -0.3358296751976013, -0.3073951303958893, -0.3301427662372589, -0.35289040207862854, -0.3983856737613678, -0.36995112895965576, -0.25905641913414, -0.1765962541103363, -0.0912926197052002, -0.034423526376485825, 0.0622539222240448, 0.1504010111093521, 0.26129573583602905, 0.3096344769001007, 0.4574941098690033, 0.5484846234321594, 0.6707531809806824, 0.7958651781082153, 1.0318719148635864, 1.262191653251648, 1.4413293600082397, 1.4839810132980347, 1.4726072549819946, 1.5863454341888428, 1.5550674200057983, 1.5209459066390991, 1.3958340883255005, 1.245131015777588, 1.080210566520691, 1.0204980373382568, 1.0204980373382568, 1.0034373998641968, 1.0915844440460205, 1.182574987411499, 1.1626708507537842, 1.0972713232040405, 1.0176546573638916, 1.117175579071045, 1.060306429862976, 0.9152902364730835, 1.006280779838562, 1.0574629306793213, 1.011967658996582, 0.9750028252601624, 0.997750461101532, 0.9010729789733887, 0.9124467968940735, 0.7389960885047913, 0.5484846234321594, 0.4717113673686981, 0.3124779164791107, 0.1447141021490097, 0.07078428566455841, -0.06854498386383057, -0.0941360741853714, -0.1765962541103363, -0.26758676767349243, -0.29886478185653687, -0.3329862356185913, -0.45525476336479187, -0.4609416723251343, -0.6571400165557861, -0.7850955128669739, -0.901677131652832, -1.035319447517395, -1.0068849325180054, -1.0637539625167847, -1.1234666109085083, -1.1007189750671387, -1.0324760675430298, -1.0182586908340454, -0.9301116466522217, -1.041006326675415, -1.0011980533599854, -0.9869807362556458, -0.9869807362556458, -1.0609105825424194, -1.0552237033843994, -0.978450357913971, -0.9187378287315369, -0.7936258316040039, -0.6457661986351013, -0.594584047794342, -0.4979065954685211, -0.35004696249961853, -0.28749096393585205, -0.3045516908168793, -0.1652224361896515, -0.000302074127830565, 0.18736591935157776, 0.3892512023448944, 0.40631192922592163, 0.6735966205596924, 0.7731175422668457, 0.9636290073394775, 1.0290284156799316, 1.0858975648880005, 1.0318719148635864, 1.1512969732284546, 1.1484534740447998, 1.1683577299118042, 1.128549337387085, 1.2223833799362183, 1.1313928365707397, 1.134236216545105, 1.0972713232040405, 1.1370797157287598, 1.000593900680542, 1.054619550704956, 0.8982295393943787, 0.8385170102119446, 0.7247788310050964, 0.6821269989013672, 0.5740756988525391, 0.505832850933075, 0.42052918672561646, 0.4631810188293457, 0.41484227776527405, 0.48308518528938293, 0.48308518528938293, 0.42905956506729126, 0.32385173439979553, 0.20442664623260498, 0.019602106884121895, -0.1680658906698227, -0.22777841985225677, -0.5263411402702332, -0.8078431487083435, -0.9301116466522217, -1.1319968700408936, -1.393594741821289, -1.6125408411026, -1.7319658994674683, -1.8712952136993408, -2.1442668437957764, -2.2949697971343994, -2.3575258255004883, -2.292126417160034, -2.363212823867798, -2.320560932159424, -2.203979253768921, -2.013467788696289, -1.9196338653564453, -1.820112943649292, -1.8229564428329468, -1.7035313844680786, -1.6068538427352905, -1.6466622352600098, -1.6352884769439697, -1.5755759477615356, -1.4646811485290527, -1.404968500137329, -1.2286744117736816, -1.1831791400909424, -0.907364010810852, -0.8078431487083435, -0.4780023992061615, -0.4666285812854767, -0.29033440351486206, -0.29602131247520447, -0.07707534730434418, -0.05432771146297455, 0.08784501254558563, 0.23286119103431702, 0.5541715621948242, 0.5371108055114746, 0.821456253528595, 0.8527342677116394, 1.0318719148635864, 1.0375587940216064, 1.1569838523864746, 1.0631499290466309, 1.0347152948379517, 0.997750461101532, 0.9636290073394775, 0.878325343132019, 0.7674306035041809, 0.7617437243461609, 0.6593793630599976, 0.5740756988525391, 0.41484227776527405, 0.40346845984458923, 0.3210082948207855, 0.16461828351020813, 0.07647119462490082, 0.005384834948927164, -0.08844916522502899, -0.06854498386383057, -0.10550989210605621, -0.15953552722930908, -0.244839146733284, -0.07423189282417297, 0.013915197923779488, 0.01675865240395069, -0.07991880178451538, -0.12257061898708344, -0.27896058559417725, -0.3386731445789337, -0.5718364119529724, -0.5860536694526672, -0.6941049695014954, -0.7737216949462891, -0.847651481628418, -0.9272682070732117, -0.9471724033355713, -1.0011980533599854, -0.9102074503898621, -0.9841372966766357, -0.9443289041519165, -1.0267890691757202, -1.0068849325180054, -0.9244247674942017, -0.904520571231842, -0.9983545541763306, -0.841964602470398, -0.8220604062080383, -0.6884180307388306, -0.6258620619773865, -0.5320280194282532, -0.3329862356185913, -0.21071769297122955, -0.13678789138793945, -0.0031455284915864468, 0.09637537598609924, 0.05372355878353119, 0.08500155806541443, 0.04234974458813667, -0.03158007189631462, -0.14816170930862427, -0.0912926197052002, -0.20218732953071594, -0.22209151089191437, -0.19365696609020233, -0.2391522377729416, -0.28180405497550964, -0.21924805641174316, -0.020206255838274956, 0.11912301182746887, 0.2982606589794159, 0.32385173439979553, 0.6451621055603027, 0.8527342677116394, 1.0944279432296753, 1.176888108253479, 1.4726072549819946, 1.6346840858459473, 1.8308825492858887, 1.8735343217849731, 1.8962819576263428, 1.9190295934677124, 1.8479431867599487, 1.7882306575775146, 1.6744924783706665, 1.6176234483718872, 1.4299554824829102, 1.256504774093628, 1.1029582023620605, 0.8612646460533142, 0.6451621055603027, 0.5257369875907898, 0.4432768225669861, 0.3096344769001007, 0.32953864336013794, 0.3039475679397583, 0.42621609568595886, 0.5371108055114746, 0.6025102734565735, 0.514363169670105, 0.5513280630111694, 0.41199883818626404, 0.32385173439979553, 0.23570464551448822, -0.042953889816999435, -0.10835334658622742, -0.384168416261673, -0.4808458685874939, -0.6372358798980713, -0.8249038457870483, -0.8305907845497131, -0.9102074503898621, -0.844808042049408, -0.8874598145484924, -1.029632568359375, -1.0125718116760254, -1.0609105825424194, -1.1319968700408936, -1.2343612909317017, -1.2372047901153564, -1.2627958059310913, -1.2713261842727661, -1.0267890691757202, -0.9443289041519165, -0.8277472853660583, -0.668513834476471, -0.43819403648376465, -0.3926987648010254, -0.3329862356185913, -0.23346532881259918, -0.14247480034828186, -0.10835334658622742, -0.13110098242759705, -0.22209151089191437, -0.3187689483165741, -0.3045516908168793, -0.35004696249961853, -0.45809823274612427, -0.5291845798492432, -0.6656703948974609, -0.6173316836357117, -0.6969484090805054, -0.5462453365325928, -0.3329862356185913, -0.15669207274913788, -0.02304970845580101, 0.32953864336013794, 0.5797626376152039, 0.9750028252601624, 1.1143320798873901, 1.2593482732772827, 1.3730864524841309, 1.529476284980774, 1.6147799491882324, 1.572128176689148, 1.515259027481079, 1.2877827882766724, 1.1740446090698242, 0.8840122818946838, 0.7674306035041809, 0.4546506404876709, 0.3181648254394531, 0.011071743443608284, -0.19081351161003113, -0.3813249468803406, -0.597427487373352, -0.6514531373977661, -0.7907823920249939, -0.7595043778419495, -0.6770442128181458, -0.591740608215332, -0.4040725827217102, -0.10266643762588501, -0.07991880178451538, 0.036662835627794266, 0.036662835627794266, 0.00822828896343708, -0.034423526376485825, -0.19081351161003113, -0.3926987648010254, -0.4211333096027374, -0.5320280194282532, -0.6941049695014954, -0.9727634787559509, -1.1405272483825684, -1.1376838684082031, -1.333882212638855, -1.5329240560531616, -1.6779402494430542, -1.8599213361740112, -1.8570778369903564, -2.010624408721924, -2.141423225402832, -2.0362155437469482, -1.990720272064209, -2.0077810287475586, -1.8371737003326416, -1.6495057344436646, -1.4021251201629639, -1.1547445058822632, -0.9983545541763306, -0.8220604062080383, -0.6941049695014954, -0.5661494731903076, -0.5291845798492432, -0.6088013052940369, -0.6941049695014954, -0.8931467533111572, -1.1120927333831787, -1.211613655090332, -1.3367255926132202, -1.4760550260543823, -1.498802661895752, -1.584106206893921, -1.4760550260543823, -1.4220292568206787, -1.1718052625656128, -0.8277472853660583, -0.6429227590560913, -0.3017082214355469, 0.11627955734729767, 0.4603375494480133, 0.818612813949585, 1.2650351524353027, 1.6688055992126465, 1.8422563076019287, 1.9559944868087769, 1.9446207284927368, 1.9986462593078613, 1.754109263420105, 1.5408501625061035, 1.4100513458251953, 1.1484534740447998, 0.9152902364730835, 0.6451621055603027, 0.568388819694519, 0.32669520378112793, 0.2271742820739746, 0.17314864695072174, 0.03950629010796547, 0.12765337526798248, 0.24707846343517303, 0.42905956506729126, 0.5911364555358887, 0.8100824356079102, 1.0460891723632812, 1.2877827882766724, 1.3929905891418457, 1.4015209674835205, 1.5124156475067139, 1.427112102508545, 1.3133739233016968, 1.0773671865463257, 0.9181337356567383, 0.511519730091095, 0.3181648254394531, -0.11972716450691223, -0.6343923807144165, -0.9955111145973206, -1.222987413406372, -1.5357675552368164, -1.808739185333252, -1.996407151222229, -2.0504326820373535, -2.110145330429077, -2.121519088745117, -2.0618066787719727, -2.013467788696289, -1.7632439136505127, -1.5471413135528564, -1.3907512426376343, -1.3026041984558105, -1.083658218383789, -0.9585462212562561, -0.8192169666290283, -0.8618687391281128, -0.9955111145973206, -1.109249234199524, -1.285543441772461, -1.441933512687683, -1.6096973419189453, -1.6495057344436646, -1.814426064491272, -1.9281642436981201, -2.0191547870635986, -1.9025731086730957, -1.9736595153808594, -1.985033392906189, -1.8883558511734009, -1.7120617628097534, -1.4021251201629639, -1.146214246749878, -0.9102074503898621, -0.594584047794342, -0.23062187433242798, 0.11059264838695526, 0.3636600971221924, 0.6764400601387024, 0.9522551894187927, 1.2280702590942383, 1.2081661224365234, 1.316217303276062, 1.3730864524841309, 1.2053226232528687, 1.1114885807037354, 0.9238206148147583, 0.8385170102119446, 0.5797626376152039, 0.3920946419239044, 0.3011040985584259, 0.25276538729667664, 0.19020937383174896, 0.07647119462490082, 0.07931464910507202, 0.1304968297481537, 0.19589628279209137, 0.3778773844242096, 0.48592865467071533, 0.7077180743217468, 0.8612646460533142, 0.9636290073394775, 1.0091242790222168, 1.0972713232040405, 1.0517760515213013, 1.0290284156799316, 1.0034373998641968, 0.7873347997665405, 0.699187695980072, 0.33522555232048035, 0.25845229625701904, -0.07707534730434418, -0.36710768938064575, -0.5888971090316772, -0.7140091061592102, -0.9471724033355713, -0.9983545541763306, -1.157588005065918, -1.1661183834075928, -1.1661183834075928, -1.0097284317016602, -0.9187378287315369, -0.844808042049408, -0.6258620619773865, -0.36426421999931335, -0.18797005712985992, -0.0912926197052002, 0.04519319906830788, 0.04803664982318878, 0.15608792006969452, 0.1390271931886673, 0.10774919390678406, 0.065097376704216, -0.042953889816999435, -0.15669207274913788, -0.13394443690776825, -0.2419956922531128, -0.23630878329277039, -0.36426421999931335, -0.3926987648010254, -0.3272993266582489, -0.27611714601516724, -0.27611714601516724, -0.23346532881259918, -0.19081351161003113, -0.15669207274913788, -0.020206255838274956, 0.09637537598609924, 0.25276538729667664, 0.383564293384552, 0.5371108055114746, 0.7276222705841064, 0.9351944327354431, 1.1370797157287598, 1.2707220315933228, 1.4015209674835205, 1.5692846775054932, 1.7228312492370605, 1.6915532350540161, 1.7342050075531006, 1.7996045351028442, 1.6460579633712769, 1.509572148323059, 1.4669203758239746, 1.358869194984436, 1.1797314882278442, 0.997750461101532, 1.1086452007293701, 0.9607855081558228, 1.1143320798873901, 1.0830540657043457, 1.3076869249343872, 1.3446518182754517, 1.5493805408477783, 1.515259027481079, 1.6659621000289917, 1.6631187200546265, 1.8024479150772095, 1.6830228567123413, 1.5863454341888428, 1.5493805408477783, 1.4726072549819946, 1.1569838523864746, 0.881168782711029, 0.696344256401062, 0.34375593066215515, 0.03097592480480671, -0.29317787289619446, -0.4723154902458191, -0.6059578657150269, -0.8220604062080383, -0.9841372966766357, -1.0438498258590698, -1.077971339225769, -1.1376838684082031, -1.2286744117736816, -1.2201440334320068, -1.1661183834075928, -1.1348403692245483, -1.0978754758834839, -1.1234666109085083, -1.083658218383789, -1.0267890691757202, -1.0125718116760254, -1.0267890691757202, -1.0808147192001343, -1.0068849325180054, -1.1234666109085083, -1.1348403692245483, -1.1604315042495728, -1.0466933250427246, -1.077971339225769, -1.0182586908340454, -0.9613896608352661, -0.8903033137321472, -0.8135300278663635, -0.7765651345252991, -0.722539484500885, -0.6201751232147217, -0.5519322156906128, -0.6542965769767761, -0.6088013052940369, -0.5718364119529724, -0.5832102298736572, -0.5121238827705383, -0.4637851417064667, -0.4069160521030426, -0.1737527996301651, -0.051484256982803345, -0.0031455284915864468, 0.16746173799037933, 0.2868868410587311, 0.41199883818626404, 0.49161556363105774, 0.6735966205596924, 0.6593793630599976, 0.696344256401062, 0.7333091497421265, 0.8328300714492798, 0.815769374370575, 0.8669515252113342, 0.9152902364730835, 0.9209771752357483, 0.875481903553009, 0.8015520572662354, 0.7958651781082153, 0.8442038893699646, 0.8413604497909546, 0.7987086176872253, 0.7788044214248657, 0.878325343132019, 0.9607855081558228, 1.0176546573638916, 1.1683577299118042, 1.0631499290466309, 1.1484534740447998, 1.1257058382034302, 1.1029582023620605, 1.0148111581802368, 0.8442038893699646, 0.6593793630599976, 0.4773982763290405, 0.386407732963562, 0.1504010111093521, -0.008832437917590141, -0.29033440351486206, -0.4097594916820526, -0.5633060336112976, -0.6827311515808105, -0.7367567420005798, -0.8362776637077332, -0.8135300278663635, -0.9244247674942017, -0.9301116466522217, -0.9187378287315369, -0.8846163749694824, -0.8703991174697876, -0.8277472853660583, -0.6514531373977661, -0.6742007732391357, -0.5746798515319824, -0.534871518611908, -0.44956785440444946, -0.3443600535392761, -0.2505260407924652, -0.11119680106639862, -0.11119680106639862, 0.00822828896343708, 0.11627955734729767, 0.09068846702575684, 0.16746173799037933, 0.1361837387084961, -0.014519346877932549, 0.011071743443608284, 0.002541380235925317, -0.060014620423316956, -0.034423526376485825, 0.07931464910507202, 0.03097592480480671, 0.17030519247055054, 0.2129570096731186, 0.27266955375671387, 0.34375593066215515, 0.4432768225669861, 0.6252579092979431, 0.8015520572662354, 0.9579420685768127, 1.080210566520691, 1.2735655307769775, 1.3247476816177368, 1.390147089958191, 1.4498597383499146, 1.572128176689148, 1.5010417699813843, 1.5408501625061035, 1.4868245124816895, 1.4128947257995605, 1.4527031183242798, 1.444172739982605, 1.4811376333236694, 1.4839810132980347, 1.4697637557983398, 1.503885269165039, 1.4953548908233643, 1.5266329050064087, 1.4697637557983398, 1.5408501625061035, 1.5863454341888428, 1.6716490983963013, 1.626153826713562, 1.572128176689148, 1.5124156475067139, 1.4498597383499146, 1.262191653251648, 0.9351944327354431, 0.8527342677116394, 0.5285804271697998, 0.2214873731136322, -0.04011043533682823, -0.43250712752342224, -0.6798876523971558, -1.029632568359375, -1.1888660192489624, -1.339569091796875, -1.504489541053772, -1.5897932052612305, -1.7177486419677734, -1.692157506942749, -1.7859915494918823, -1.8911993503570557, -1.8115825653076172, -1.7888349294662476, -1.7006878852844238, -1.5926365852355957, -1.4021251201629639, -1.2258309125900269, -1.1774921417236328, -1.0751278400421143, -0.9528592824935913, -0.7680347561836243, -0.7879389524459839, -0.7026352882385254, -0.6088013052940369, -0.6116447448730469, -0.4694720506668091, -0.44388094544410706, -0.3955422341823578, -0.412602961063385, -0.45525476336479187, -0.5234977006912231, -0.4723154902458191, -0.37848150730133057, -0.43535059690475464, -0.4097594916820526, -0.3898553252220154, -0.2391522377729416, -0.11119680106639862, -0.04579734802246094, 0.218643918633461, 0.4603375494480133, 0.5740756988525391, 0.6195709705352783, 0.9010729789733887, 1.0204980373382568, 1.1427665948867798, 1.2195398807525635, 1.2138530015945435, 1.364556074142456, 1.3730864524841309, 1.432798981666565, 1.5067286491394043, 1.515259027481079, 1.523789405822754, 1.438485860824585, 1.4669203758239746, 1.3730864524841309, 1.3389649391174316, 1.2934696674346924, 1.3787733316421509, 1.3474953174591064, 1.2877827882766724, 1.3275911808013916, 1.256504774093628, 1.3446518182754517, 1.3133739233016968, 1.2877827882766724, 1.2707220315933228, 1.117175579071045, 1.0517760515213013, 0.7873347997665405, 0.7560567855834961, 0.5228935480117798, 0.3778773844242096, 0.1504010111093521, 0.03381938114762306, -0.1737527996301651, -0.27043023705482483, -0.42966368794441223, -0.5718364119529724, -0.6201751232147217, -0.6542965769767761, -0.6827311515808105, -0.6713573336601257, -0.5234977006912231, -0.4211333096027374, -0.4097594916820526, -0.23062187433242798, -0.060014620423316956, 0.09068846702575684, 0.24707846343517303, 0.2925737500190735, 0.4631810188293457, 0.5172066688537598, 0.7020311951637268, 0.7361526489257812, 0.8669515252113342, 0.9039164185523987, 0.8896991610527039, 0.7816479206085205, 0.7247788310050964, 0.6480055451393127, 0.5371108055114746, 0.4717113673686981, 0.4006250202655792, 0.2925737500190735, 0.15324446558952332, 0.065097376704216, 0.07078428566455841, -0.11972716450691223, 0.05656701326370239, -0.04579734802246094, 0.05656701326370239, 0.03950629010796547, 0.12765337526798248, -0.03158007189631462, 0.036662835627794266, 0.011071743443608284, 0.11627955734729767, 0.23286119103431702, 0.2783564627170563, 0.3608166575431824, 0.40631192922592163, 0.33238211274147034, 0.40915536880493164, 0.33238211274147034, 0.383564293384552, 0.3807208240032196, 0.40915536880493164, 0.40631192922592163, 0.3153213858604431, 0.4461202919483185, 0.5314239263534546, 0.5996668338775635, 0.5854495167732239, 0.7219353318214417, 0.7048746347427368, 0.7702741026878357, 0.7333091497421265, 0.7190918922424316, 0.6821269989013672, 0.571232259273529, 0.4574941098690033, 0.3721904754638672, 0.2868868410587311, 0.1361837387084961, 0.019602106884121895, -0.020206255838274956, -0.07138843834400177, -0.15100516378879547, -0.415446400642395, -0.4097594916820526, -0.4950631260871887, -0.6287055015563965, -0.719696044921875, -0.8135300278663635, -0.8931467533111572, -0.9329550862312317, -0.9357985854148865, -0.9670765399932861, -1.0040414333343506, -0.907364010810852, -0.9386420249938965, -0.901677131652832, -0.6941049695014954, -0.7737216949462891, -0.6770442128181458, -0.6173316836357117, -0.6230185627937317, -0.4893762171268463, -0.4666285812854767, -0.43819403648376465, -0.4239767789840698, -0.37563803791999817, -0.26189985871315, -0.3017082214355469, -0.27327367663383484, -0.3017082214355469, -0.2505260407924652, -0.2419956922531128, -0.2419956922531128, -0.20787423849105835, -0.15669207274913788, -0.2391522377729416, -0.11972716450691223, -0.12825752794742584, -0.08844916522502899, 0.04519319906830788, 0.2214873731136322, 0.3181648254394531, 0.514363169670105, 0.5627018809318542, 0.7190918922424316, 0.9579420685768127, 1.1143320798873901, 1.2707220315933228, 1.4157382249832153, 1.4868245124816895, 1.626153826713562, 1.657431721687317, 1.6915532350540161, 1.7398920059204102, 1.7342050075531006, 1.7825437784194946, 1.7285181283950806, 1.7683265209197998, 1.813821792602539, 1.8052914142608643, 1.9503076076507568, 1.8849080801010132, 1.9133427143096924, 1.947464108467102, 1.947464108467102, 1.9161860942840576, 1.941777229309082, 1.808134913444519, 1.7512657642364502, 1.7313616275787354, 1.7427353858947754, 1.6489014625549316, 1.4583899974822998, 1.2849392890930176, 1.236600637435913, 1.0432456731796265, 0.8641080856323242, 0.7162484526634216, 0.6224144697189331, 0.3608166575431824, 0.17030519247055054, -0.042953889816999435, -0.23062187433242798, -0.3187689483165741, -0.4836893081665039, -0.4609416723251343, -0.5035935044288635, -0.5007500648498535, -0.5206542015075684, -0.6656703948974609, -0.7794085741043091, -0.7651913166046143, -0.850494921207428, -0.7993127703666687, -0.8760859966278076, -0.9414854645729065, -0.9585462212562561, -1.077971339225769, -1.1206231117248535, -1.2315177917480469, -1.1831791400909424, -1.2428916692733765, -1.2997606992721558, -1.413498878479004, -1.3850643634796143, -1.399281620979309, -1.387907862663269, -1.333882212638855, -1.3736906051635742, -1.4220292568206787, -1.4646811485290527, -1.4191858768463135, -1.3111345767974854, -1.2684826850891113, -1.3026041984558105, -1.259952425956726, -1.291230320930481, -1.146214246749878, -1.1917095184326172, -1.0978754758834839, -1.041006326675415, -0.8078431487083435, -0.8021562099456787, -0.6656703948974609, -0.591740608215332, -0.3898553252220154, -0.27043023705482483, -0.19934387505054474, -0.05717116594314575, -0.028736617416143417, 0.10206228494644165, 0.1390271931886673, 0.23570464551448822, 0.43474647402763367, 0.41199883818626404, 0.42905956506729126, 0.4717113673686981, 0.3949381113052368, 0.35228627920150757, 0.3807208240032196, 0.33238211274147034, 0.32385173439979553, 0.3210082948207855, 0.16746173799037933, 0.24992191791534424, 0.1304968297481537, 0.04803664982318878, 0.03950629010796547, -0.04579734802246094, -0.11972716450691223, -0.21071769297122955, -0.3187689483165741, -0.29602131247520447, -0.5234977006912231, -0.6400793194770813, -0.7822520136833191, -0.8192169666290283, -0.9130509495735168, -1.0040414333343506, -1.041006326675415, -1.2428916692733765, -1.2315177917480469, -1.3253518342971802, -1.441933512687683, -1.4931156635284424, -1.4817419052124023, -1.584106206893921, -1.5670455694198608, -1.6551926136016846, -1.6750967502593994, -1.6779402494430542, -1.7006878852844238, -1.7234355211257935, -1.754713535308838, -1.7120617628097534, -1.6836271286010742, -1.6551926136016846, -1.5613585710525513, -1.515863299369812, -1.3594732284545898, -1.3310387134552002, -1.2627958059310913, -1.1348403692245483, -1.0211021900177002, -0.9585462212562561, -0.9386420249938965, -0.8703991174697876, -0.7651913166046143, -0.7481305599212646, -0.7282264232635498, -0.668513834476471, -0.4979065954685211, -0.540558397769928, -0.5576191544532776, -0.5718364119529724, -0.44388094544410706, -0.3898553252220154, -0.4069160521030426, -0.4694720506668091, -0.44672441482543945, -0.44956785440444946, -0.45241132378578186, -0.45241132378578186, -0.34720349311828613, -0.21356114745140076, -0.20787423849105835, -0.13963134586811066, -0.06285807490348816, -0.08844916522502899, -0.13110098242759705, -0.15669207274913788, -0.15384861826896667, -0.08560571074485779, -0.042953889816999435, -0.0912926197052002, -0.07138843834400177, -0.06854498386383057, -0.05432771146297455, -0.008832437917590141, -0.020206255838274956, -0.005988983437418938, -0.0998229831457138, -0.02304970845580101, -0.19650042057037354, -0.26189985871315, -0.29602131247520447, -0.27043023705482483, -0.3955422341823578, -0.5689929723739624, -0.5576191544532776, -0.5576191544532776, -0.6542965769767761, -0.5803667902946472, -0.6031144261360168, -0.6457661986351013, -0.6713573336601257, -0.6230185627937317, -0.6201751232147217, -0.5832102298736572, -0.540558397769928, -0.6088013052940369, -0.43819403648376465, -0.3017082214355469, -0.2647433280944824, -0.26189985871315, -0.22777841985225677, -0.020206255838274956, -0.07138843834400177, -0.028736617416143417, -0.12257061898708344, -0.05432771146297455, -0.060014620423316956, -0.21640460193157196, -0.23062187433242798, -0.19650042057037354, -0.21924805641174316, -0.14247480034828186, -0.22493496537208557, -0.20787423849105835, -0.21071769297122955, -0.20787423849105835, -0.3443600535392761, -0.35857731103897095, -0.4097594916820526, -0.4751589596271515, -0.35573387145996094, -0.4211333096027374, -0.3386731445789337, -0.4182898700237274, -0.543401837348938, -0.45809823274612427, -0.44672441482543945, -0.4950631260871887, -0.5832102298736572, -0.5462453365325928, -0.5661494731903076, -0.6059578657150269, -0.5718364119529724, -0.4950631260871887, -0.4979065954685211, -0.4609416723251343, -0.4069160521030426, -0.2476826012134552, -0.11404025554656982, -0.0969795286655426, 0.028132470324635506, 0.09637537598609924, 0.1447141021490097, 0.18167901039123535, 0.24139155447483063, 0.24139155447483063, 0.24707846343517303, 0.3011040985584259, 0.2868868410587311, 0.19589628279209137, 0.2101135551929474, 0.17030519247055054, 0.08500155806541443, -0.04579734802246094, -0.04011043533682823, -0.07707534730434418, -0.034423526376485825, -0.15953552722930908, -0.14531825482845306, -0.18512660264968872, -0.13394443690776825, -0.15384861826896667, -0.28180405497550964, -0.23062187433242798, -0.29602131247520447, -0.35004696249961853, -0.35004696249961853, -0.35573387145996094, -0.3386731445789337, -0.34720349311828613, -0.44672441482543945, -0.36995112895965576, -0.2647433280944824, -0.23630878329277039, -0.10266643762588501, -0.2419956922531128, -0.10550989210605621, 0.03381938114762306, 0.07931464910507202, 0.15324446558952332, 0.1390271931886673, 0.2129570096731186, 0.3011040985584259, 0.218643918633461, 0.2158004641532898, 0.23570464551448822, 0.23570464551448822, 0.20158319175243378, 0.1333402842283249, 0.17030519247055054, 0.17883555591106415, 0.24707846343517303, 0.18167901039123535, 0.19305282831192017, 0.3153213858604431, 0.2300177365541458, 0.23286119103431702, 0.2129570096731186, 0.09353192150592804, 0.065097376704216, -0.028736617416143417, -0.10835334658622742, -0.051484256982803345, -0.13678789138793945, -0.1652224361896515, -0.1652224361896515, -0.1794397085905075, -0.13110098242759705, -0.12825752794742584, -0.18797005712985992, -0.11404025554656982, -0.12825752794742584, -0.03158007189631462, 0.036662835627794266, 0.07362774014472961, 0.19305282831192017, 0.17883555591106415, 0.3210082948207855, 0.4546506404876709, 0.41199883818626404, 0.4546506404876709, 0.4688679277896881, 0.4518072009086609, 0.34944283962249756, 0.33806902170181274, 0.27266955375671387, 0.20442664623260498, 0.0622539222240448, -0.12257061898708344, -0.22777841985225677, -0.36426421999931335, -0.5064369440078735, -0.7054787874221802, -0.8106865882873535, -0.8760859966278076, -0.8789294958114624, -1.089345097541809, -1.1405272483825684, -1.1888660192489624, -1.083658218383789, -1.1973963975906372, -1.1831791400909424, -1.1604315042495728, -1.035319447517395, -0.9869807362556458, -1.109249234199524, -0.9329550862312317, -0.9699200391769409, -0.8959901928901672, -0.8533384203910828, -0.9756069183349609, -0.8959901928901672, -0.8220604062080383, -0.7936258316040039, -0.7396002411842346, -0.9301116466522217, -0.9386420249938965, -0.9272682070732117, -0.8305907845497131, -0.8732425570487976, -0.7623478770256042, -0.7964693307876587, -0.7708781957626343, -0.722539484500885, -0.7907823920249939, -0.6912614703178406, -0.6372358798980713, -0.6372358798980713, -0.5121238827705383, -0.5121238827705383, -0.5234977006912231, -0.540558397769928, -0.4836893081665039, -0.44956785440444946, -0.6201751232147217, -0.6258620619773865, -0.6144882440567017, -0.6201751232147217, -0.534871518611908, -0.5860536694526672, -0.5576191544532776, -0.597427487373352, -0.543401837348938, -0.44388094544410706, -0.37848150730133057, -0.2391522377729416, -0.22493496537208557, -0.15669207274913788, -0.14816170930862427, -0.1652224361896515, -0.15100516378879547, -0.08560571074485779, -0.16237898170948029, -0.15100516378879547, -0.23062187433242798, -0.18797005712985992, -0.23062187433242798, -0.19934387505054474, -0.15669207274913788, -0.19365696609020233, -0.21640460193157196, -0.2505260407924652, -0.20218732953071594, -0.19081351161003113, -0.15953552722930908, -0.16237898170948029, -0.2419956922531128, -0.1652224361896515, -0.11404025554656982, -0.12825752794742584, -0.04864080250263214, -0.014519346877932549, 0.09637537598609924, 0.18452246487140656, 0.2783564627170563, 0.3807208240032196, 0.41199883818626404, 0.49445900321006775, 0.49161556363105774, 0.6337882876396179, 0.7247788310050964, 0.8043955564498901, 0.821456253528595, 0.8925426006317139, 0.9096033573150635, 0.8925426006317139, 0.7844913601875305, 0.8697949647903442, 0.8953860998153687, 0.9096033573150635, 0.8072389960289001, 0.8669515252113342, 0.7674306035041809, 0.8470473289489746, 0.8555777072906494, 0.8328300714492798, 0.9010729789733887, 0.9039164185523987, 0.9067599177360535, 0.8868557214736938, 0.8697949647903442, 0.821456253528595, 0.7162484526634216, 0.7162484526634216, 0.6792835593223572, 0.6337882876396179, 0.6167275309562683, 0.6878138780593872, 0.5826060771942139, 0.5882930159568787, 0.42052918672561646, 0.3608166575431824, 0.33238211274147034, 0.26413920521736145, 0.19873973727226257, 0.23570464551448822, 0.1504010111093521, 0.10774919390678406, 0.11912301182746887, 0.2868868410587311, 0.2300177365541458, 0.19020937383174896, 0.11059264838695526, 0.1447141021490097, 0.09353192150592804, 0.09637537598609924, 0.06794083118438721, 0.013915197923779488, -0.02304970845580101, -0.08276225626468658, -0.08276225626468658, -0.08844916522502899, -0.10550989210605621, -0.21071769297122955, -0.36426421999931335, -0.3244558572769165, -0.35289040207862854, -0.387011855840683, -0.36995112895965576, -0.3386731445789337, -0.4979065954685211, -0.4069160521030426, -0.415446400642395, -0.20787423849105835, -0.12257061898708344, -0.034423526376485825, 0.11912301182746887, 0.19020937383174896, 0.2101135551929474, 0.32385173439979553, 0.41484227776527405, 0.5598584413528442, 0.7190918922424316, 0.7418395280838013, 0.7475264668464661, 0.7788044214248657, 0.8328300714492798, 0.9465682506561279, 0.9380378723144531, 0.9664724469184875, 1.0773671865463257, 1.0318719148635864, 1.0261850357055664, 0.9806897044181824, 1.1114885807037354, 1.1541404724121094, 1.1712011098861694, 1.1996357440948486, 1.1996357440948486, 1.0944279432296753, 1.2678786516189575, 1.304843544960022, 1.2536612749099731, 1.2820959091186523, 1.2053226232528687, 1.3304345607757568, 1.2934696674346924, 1.176888108253479, 1.2309136390686035, 1.1456100940704346, 1.0887409448623657, 1.0233415365219116, 1.0347152948379517, 0.9920635223388672, 0.8641080856323242, 0.8669515252113342, 0.878325343132019, 0.8413604497909546, 0.872638463973999, 0.7048746347427368, 0.7475264668464661, 0.5939798951148987, 0.5228935480117798, 0.514363169670105, 0.41199883818626404, 0.3693470060825348, 0.20727010071277618, 0.07078428566455841, -0.008832437917590141, -0.0969795286655426, -0.11404025554656982, -0.1680658906698227, -0.19081351161003113, -0.37848150730133057, -0.45525476336479187, -0.5064369440078735, -0.4609416723251343, -0.4239767789840698, -0.5320280194282532, -0.5746798515319824, -0.6798876523971558, -0.5718364119529724, -0.4893762171268463, -0.5149673223495483, -0.540558397769928, -0.5121238827705383, -0.45809823274612427, -0.37279459834098816, -0.2391522377729416, -0.2533695101737976, -0.05432771146297455, -0.13110098242759705, -0.06570152938365936, 0.005384834948927164, -0.008832437917590141, 0.12196646630764008, 0.18736591935157776, 0.2214873731136322, 0.24992191791534424, 0.4006250202655792, 0.49730247259140015, 0.5001459121704102, 0.5769191980361938, 0.4717113673686981, 0.48308518528938293, 0.42621609568595886, 0.49161556363105774, 0.41199883818626404, 0.34091246128082275, 0.40631192922592163, 0.33238211274147034, 0.3665035665035248, 0.3721904754638672, 0.3636600971221924, 0.2783564627170563, 0.34375593066215515, 0.24707846343517303, 0.24707846343517303, 0.2300177365541458, 0.3778773844242096, 0.25276538729667664, 0.23570464551448822, 0.25560882687568665, 0.1304968297481537, 0.011071743443608284, 0.12480992078781128, 0.1447141021490097, 0.15608792006969452, 0.17599210143089294, 0.16177482903003693, 0.05372355878353119, 0.16177482903003693, 0.16177482903003693, 0.1475575566291809, 0.19020937383174896, 0.12196646630764008, 0.12480992078781128, -0.008832437917590141, 0.07078428566455841, -0.020206255838274956, 0.0622539222240448, 0.013915197923779488, 0.03381938114762306, 0.07362774014472961, 0.12480992078781128, 0.1447141021490097, 0.1447141021490097, 0.08215810358524323, 0.12196646630764008, 0.08500155806541443, 0.08500155806541443, 0.12480992078781128, 0.09068846702575684, 0.18452246487140656, 0.18452246487140656, 0.19873973727226257, 0.2214873731136322, 0.17599210143089294, 0.23570464551448822, 0.26982611417770386, 0.20727010071277618, 0.2300177365541458, 0.2783564627170563, 0.32385173439979553, 0.40915536880493164, 0.5257369875907898, 0.4773982763290405, 0.48877209424972534, 0.5797626376152039, 0.7020311951637268, 0.7020311951637268, 0.6849704384803772, 0.875481903553009, 0.8953860998153687, 0.8043955564498901, 0.881168782711029, 0.9010729789733887, 0.8043955564498901, 0.7589002847671509, 0.7304657101631165, 0.6025102734565735, 0.7048746347427368, 0.568388819694519, 0.4773982763290405, 0.5029893517494202, 0.33238211274147034, 0.2840433716773987, 0.3011040985584259, 0.24423500895500183, 0.2243308275938034, 0.18167901039123535, 0.24707846343517303, 0.1447141021490097, 0.050880104303359985, -0.03158007189631462, -0.12825752794742584, 0.002541380235925317, 0.036662835627794266, -0.011675892397761345, 0.002541380235925317, 0.065097376704216, 0.19589628279209137, 0.1475575566291809, 0.24992191791534424, 0.25560882687568665, 0.2868868410587311, 0.3750339150428772, 0.3067910075187683, 0.3920946419239044, 0.386407732963562, 0.4574941098690033, 0.5029893517494202, 0.40631192922592163, 0.4631810188293457, 0.5541715621948242, 0.5285804271697998, 0.6536924242973328, 0.642318606376648, 0.642318606376648, 0.5911364555358887, 0.6536924242973328, 0.5797626376152039, 0.5740756988525391, 0.5285804271697998, 0.5570150017738342, 0.5996668338775635, 0.6650662422180176, 0.4717113673686981, 0.5200501084327698, 0.5399542450904846, 0.5456411838531494, 0.5541715621948242, 0.5314239263534546, 0.514363169670105, 0.5257369875907898, 0.505832850933075, 0.5200501084327698, 0.5484846234321594, 0.5541715621948242, 0.5172066688537598, 0.43190300464630127, 0.5513280630111694, 0.3124779164791107, 0.3124779164791107, 0.3693470060825348, 0.3181648254394531, 0.32669520378112793, 0.24423500895500183, 0.10774919390678406, 0.1361837387084961, 0.11912301182746887, 0.08500155806541443, -0.000302074127830565, 0.09068846702575684, -0.10266643762588501, -0.06570152938365936, -0.11119680106639862, -0.15100516378879547, -0.22777841985225677, -0.27611714601516724, -0.3102385997772217, -0.3443600535392761, -0.42682021856307983, -0.4666285812854767, -0.5263411402702332, -0.6088013052940369, -0.7509740591049194, -0.7310698628425598, -0.8391211032867432, -0.7964693307876587, -0.7680347561836243, -0.6230185627937317, -0.6201751232147217, -0.5149673223495483, -0.4694720506668091, -0.3187689483165741, -0.36142078042030334, -0.28749096393585205, -0.23630878329277039, -0.1765962541103363, -0.244839146733284, -0.2533695101737976, -0.19650042057037354, -0.10550989210605621, -0.3159255087375641, -0.15953552722930908, -0.15953552722930908, -0.18512660264968872, -0.25905641913414, -0.1794397085905075, -0.3244558572769165, -0.20503078401088715, -0.2419956922531128, -0.28749096393585205, -0.25905641913414, -0.3272993266582489, -0.3017082214355469, -0.2476826012134552, -0.3187689483165741, -0.3415165841579437, -0.2647433280944824, -0.28464749455451965, -0.2391522377729416, -0.27327367663383484, -0.3415165841579437, -0.2391522377729416, -0.18797005712985992, -0.18228314816951752, -0.13963134586811066, -0.2391522377729416, -0.13394443690776825, -0.1709093451499939, -0.0031455284915864468, 0.011071743443608284, -0.03158007189631462, 0.09353192150592804, 0.16746173799037933, 0.17030519247055054, 0.16746173799037933, 0.17883555591106415, 0.23286119103431702, 0.20442664623260498, 0.1504010111093521, 0.17599210143089294, 0.24139155447483063, 0.2300177365541458, 0.28119993209838867, 0.32669520378112793, 0.386407732963562, 0.35228627920150757, 0.43190300464630127, 0.3039475679397583, 0.34944283962249756, 0.2925737500190735, 0.17599210143089294, 0.24423500895500183, 0.23570464551448822, 0.24423500895500183, 0.11627955734729767, 0.12765337526798248, 0.15893137454986572, 0.019602106884121895, 0.025289015844464302, 0.025289015844464302, -0.008832437917590141, -0.10550989210605621, -0.19365696609020233, -0.11688371002674103, -0.27896058559417725, -0.26189985871315, -0.3216124176979065, -0.3244558572769165, -0.35289040207862854, -0.4097594916820526, -0.43535059690475464, -0.4609416723251343, -0.5490887761116028, -0.5064369440078735, -0.6599835157394409, -0.6201751232147217, -0.6486096978187561, -0.7054787874221802, -0.7054787874221802, -0.7595043778419495, -0.7879389524459839, -0.8277472853660583, -0.6969484090805054, -0.7566609382629395, -0.8305907845497131, -0.907364010810852, -0.847651481628418, -0.904520571231842, -0.8220604062080383, -0.8135300278663635, -0.8277472853660583, -0.8590252995491028, -0.8561818599700928, -0.6628269553184509, -0.8049996495246887, -0.7083222270011902, -0.6713573336601257, -0.591740608215332, -0.5775232911109924, -0.4865327775478363, -0.37563803791999817, -0.3159255087375641, -0.21640460193157196, -0.1794397085905075, -0.10550989210605621, 0.09068846702575684, 0.1333402842283249, 0.218643918633461, 0.26413920521736145, 0.26982611417770386, 0.2925737500190735, 0.17599210143089294, 0.27551302313804626, 0.3011040985584259, 0.27266955375671387, 0.25845229625701904, 0.19020937383174896, 0.10490573942661285, 0.03381938114762306, -0.0998229831457138, -0.11119680106639862, -0.1737527996301651, -0.21924805641174316, -0.3159255087375641, -0.412602961063385, -0.37563803791999817, -0.44103750586509705, -0.540558397769928, -0.5604625940322876, -0.5888971090316772, -0.7396002411842346, -0.8163734674453735, -0.9727634787559509, -0.8988336324691772, -1.0040414333343506, -0.9102074503898621, -1.0466933250427246, -1.1149362325668335, -1.103562355041504, -1.1376838684082031, -1.0694409608840942, -1.146214246749878, -1.0722843408584595, -1.1149362325668335, -1.0267890691757202, -1.0978754758834839, -0.9443289041519165, -0.9528592824935913, -0.850494921207428, -0.8334342241287231, -0.7850955128669739, -0.7538174986839294, -0.6173316836357117, -0.5832102298736572, -0.4666285812854767, -0.412602961063385, -0.36426421999931335, -0.36710768938064575, -0.18797005712985992, -0.1794397085905075, 0.0622539222240448, 0.04234974458813667, 0.05656701326370239, 0.15324446558952332, 0.16461828351020813, 0.23570464551448822, 0.26129573583602905, 0.33238211274147034, 0.3665035665035248, 0.4461202919483185, 0.4660244584083557, 0.4660244584083557, 0.5399542450904846, 0.5371108055114746, 0.5484846234321594, 0.571232259273529, 0.6053537130355835, 0.6849704384803772, 0.6508489847183228, 0.6480055451393127, 0.6167275309562683, 0.5939798951148987, 0.6053537130355835, 0.5257369875907898, 0.514363169670105, 0.25276538729667664, 0.34659937024116516, 0.32385173439979553, 0.2214873731136322, 0.11343610286712646, 0.013915197923779488, -0.017362801358103752, -0.14247480034828186, -0.3187689483165741, -0.45809823274612427, -0.4723154902458191, -0.5462453365325928, -0.5775232911109924, -0.6514531373977661, -0.6941049695014954, -0.7282264232635498, -0.7765651345252991, -0.7765651345252991, -0.8561818599700928, -0.9357985854148865, -0.9642331004142761, -0.907364010810852, -0.8590252995491028, -0.8874598145484924, -0.7623478770256042, -0.7538174986839294, -0.6343923807144165, -0.5234977006912231, -0.5092803835868835, -0.3813249468803406, -0.3386731445789337, -0.3216124176979065, -0.20218732953071594, -0.14247480034828186, -0.028736617416143417, 0.04234974458813667, -0.005988983437418938, 0.09921883046627045, 0.08500155806541443, 0.218643918633461, 0.40915536880493164, 0.3807208240032196, 0.49161556363105774, 0.4489637315273285, 0.48308518528938293, 0.5371108055114746, 0.5257369875907898, 0.5627018809318542, 0.6025102734565735, 0.7048746347427368, 0.6622228026390076, 0.5200501084327698, 0.4660244584083557, 0.5001459121704102, 0.4603375494480133, 0.3920946419239044, 0.24707846343517303, 0.20727010071277618, 0.26982611417770386, 0.1504010111093521, 0.1504010111093521, 0.1361837387084961, 0.01675865240395069, -0.028736617416143417, -0.15384861826896667, -0.20218732953071594, -0.21640460193157196, -0.22209151089191437, -0.3926987648010254, -0.43535059690475464, -0.5888971090316772, -0.6173316836357117, -0.6628269553184509, -0.6884180307388306, -0.7708781957626343, -0.7282264232635498, -0.7026352882385254, -0.722539484500885, -0.7737216949462891, -0.6941049695014954, -0.8362776637077332, -0.7936258316040039, -0.8220604062080383, -0.8135300278663635, -0.9130509495735168, -0.9386420249938965, -0.9301116466522217, -0.901677131652832, -0.9812938570976257, -0.8732425570487976, -0.7936258316040039, -0.8163734674453735, -0.7396002411842346, -0.719696044921875, -0.7026352882385254, -0.719696044921875, -0.6429227590560913, -0.6429227590560913, -0.5320280194282532, -0.5462453365325928, -0.37563803791999817, -0.3130820393562317, -0.21356114745140076, -0.08560571074485779, -0.08844916522502899, 0.07078428566455841, 0.0622539222240448, 0.15324446558952332, 0.2214873731136322, 0.40631192922592163, 0.35512974858283997, 0.3067910075187683, 0.4461202919483185, 0.4745548367500305, 0.6707531809806824, 0.6650662422180176, 0.6565359234809875, 0.6622228026390076, 0.7361526489257812, 0.6679097414016724, 0.7532133460044861, 0.699187695980072, 0.6337882876396179, 0.6508489847183228, 0.511519730091095, 0.4574941098690033, 0.4603375494480133, 0.4717113673686981, 0.5001459121704102, 0.42337265610694885, 0.4574941098690033, 0.4489637315273285, 0.33238211274147034, 0.3039475679397583, 0.3181648254394531, 0.3181648254394531, 0.19873973727226257, 0.1504010111093521, 0.17030519247055054, 0.005384834948927164, 0.065097376704216, -0.03158007189631462, 0.05656701326370239, -0.07423189282417297, 0.002541380235925317, 0.050880104303359985, 0.06794083118438721, 0.1390271931886673, 0.01675865240395069, 0.0224455613642931, 0.059410467743873596, 0.07078428566455841, 0.1390271931886673, 0.059410467743873596, 0.04519319906830788, 0.05372355878353119, 0.11912301182746887, 0.036662835627794266, 0.0622539222240448, 0.11912301182746887, 0.07931464910507202, 0.08215810358524323, 0.10206228494644165, 0.10490573942661285, 0.08500155806541443, 0.08215810358524323, 0.24139155447483063, 0.3153213858604431, 0.2868868410587311, 0.25845229625701904, 0.4518072009086609, 0.3920946419239044, 0.3920946419239044, 0.3807208240032196, 0.3920946419239044, 0.3693470060825348, 0.4006250202655792, 0.43190300464630127, 0.3949381113052368, 0.35228627920150757, 0.2783564627170563, 0.218643918633461, 0.2243308275938034, 0.2129570096731186, 0.1447141021490097, 0.09637537598609924, 0.11343610286712646, 0.10490573942661285, 0.12196646630764008, 0.19589628279209137, 0.1447141021490097, 0.16461828351020813, 0.2101135551929474, 0.19020937383174896, 0.24707846343517303, 0.34375593066215515, 0.34091246128082275, 0.3039475679397583, 0.4006250202655792, 0.42621609568595886, 0.6252579092979431, 0.4631810188293457, 0.505832850933075, 0.5996668338775635, 0.6281013488769531, 0.5001459121704102, 0.5570150017738342, 0.5427977442741394, 0.42621609568595886, 0.48592865467071533, 0.3665035665035248, 0.26129573583602905, 0.3153213858604431, 0.3011040985584259, 0.3721904754638672, 0.26698264479637146, 0.2271742820739746, 0.23570464551448822, 0.2158004641532898, 0.18736591935157776, 0.17030519247055054, 0.11343610286712646, 0.15893137454986572, 0.09353192150592804, 0.2271742820739746, 0.15324446558952332, 0.2783564627170563, 0.35228627920150757, 0.3067910075187683, 0.3039475679397583, 0.41199883818626404, 0.3608166575431824, 0.3949381113052368, 0.4802417457103729, 0.3977815508842468, 0.49161556363105774, 0.42337265610694885, 0.5001459121704102, 0.4631810188293457, 0.42337265610694885, 0.386407732963562, 0.5200501084327698, 0.511519730091095, 0.48877209424972534, 0.6053537130355835, 0.6110406517982483, 0.7276222705841064, 0.6337882876396179, 0.693500816822052, 0.7077180743217468, 0.7162484526634216, 0.7304657101631165, 0.7190918922424316, 0.6053537130355835, 0.6735966205596924, 0.6792835593223572, 0.7958651781082153, 0.7987086176872253, 0.8925426006317139, 0.9778462648391724, 0.8413604497909546, 0.9920635223388672, 0.8271431922912598, 0.9295075535774231, 0.9494116902351379, 0.9579420685768127, 0.9039164185523987, 0.8896991610527039, 0.9010729789733887, 0.8413604497909546, 0.9124467968940735, 0.7645871639251709, 0.7873347997665405, 0.7446829676628113, 0.7873347997665405, 0.7134050130844116, 0.5882930159568787, 0.5541715621948242, 0.4546506404876709, 0.3011040985584259, 0.3210082948207855, 0.20158319175243378, 0.20442664623260498, 0.3011040985584259, 0.3011040985584259, 0.11627955734729767, 0.20727010071277618, 0.08784501254558563, 0.1304968297481537, 0.028132470324635506, -0.02304970845580101, 0.028132470324635506, -0.11404025554656982, -0.000302074127830565, -0.07138843834400177, -0.07991880178451538, -0.12257061898708344, -0.1765962541103363, -0.12825752794742584, -0.1709093451499939, -0.0912926197052002, -0.06570152938365936, -0.05717116594314575, -0.06285807490348816, -0.21356114745140076, -0.21640460193157196, -0.18797005712985992, -0.29033440351486206, -0.36710768938064575, -0.44388094544410706, -0.22209151089191437, -0.27896058559417725, -0.1737527996301651, -0.19934387505054474, -0.18228314816951752, -0.16237898170948029, -0.025893162935972214, -0.034423526376485825, -0.02304970845580101, -0.005988983437418938, 0.1504010111093521, 0.09921883046627045, 0.1418706476688385, 0.15608792006969452, 0.24139155447483063, 0.23854809999465942, 0.24707846343517303, 0.25845229625701904, 0.32953864336013794, 0.34375593066215515, 0.3181648254394531, 0.32669520378112793, 0.34659937024116516, 0.20727010071277618, 0.4717113673686981, 0.3807208240032196, 0.34944283962249756, 0.3636600971221924, 0.505832850933075, 0.3920946419239044, 0.17883555591106415, 0.3067910075187683, 0.3210082948207855, 0.3067910075187683, 0.11912301182746887, 0.07362774014472961, 0.08500155806541443, -0.000302074127830565, -0.19934387505054474, -0.22493496537208557, -0.23630878329277039, -0.37279459834098816, -0.4012291431427002, -0.4694720506668091, -0.4723154902458191, -0.4979065954685211, -0.44388094544410706, -0.3983856737613678, -0.5092803835868835, -0.3045516908168793, -0.37848150730133057, -0.21640460193157196, -0.21640460193157196, -0.14816170930862427, -0.10266643762588501, -0.025893162935972214, 0.08215810358524323, 0.05656701326370239, 0.19020937383174896, 0.2101135551929474, 0.2840433716773987, 0.2840433716773987, 0.26698264479637146, 0.17599210143089294, 0.1504010111093521, 0.16461828351020813, 0.3011040985584259, 0.26982611417770386, 0.15608792006969452, 0.1304968297481537, 0.15324446558952332, 0.20442664623260498, 0.01675865240395069, -0.02304970845580101, 0.04234974458813667, 0.005384834948927164, -0.0031455284915864468, 0.0224455613642931, 0.10774919390678406, 0.07931464910507202, 0.0622539222240448, 0.00822828896343708, 0.025289015844464302, 0.09637537598609924, 0.1333402842283249, 0.2158004641532898, 0.18167901039123535, 0.26413920521736145, 0.19589628279209137, 0.26129573583602905, 0.2868868410587311, 0.3807208240032196, 0.2840433716773987, 0.41484227776527405, 0.43474647402763367, 0.5769191980361938, 0.4461202919483185, 0.5228935480117798, 0.4461202919483185, 0.4574941098690033, 0.5342673659324646, 0.5541715621948242, 0.505832850933075, 0.4518072009086609, 0.4688679277896881, 0.42905956506729126, 0.33806902170181274, 0.3750339150428772, 0.3039475679397583, 0.24992191791534424, 0.26129573583602905, 0.15608792006969452, 0.15608792006969452, 0.09637537598609924, 0.07647119462490082, 0.08215810358524323, 0.1304968297481537, 0.09637537598609924, -0.0031455284915864468, 0.08784501254558563, 0.11627955734729767, 0.2300177365541458, 0.11912301182746887, 0.07931464910507202, 0.17883555591106415, 0.20158319175243378, 0.2101135551929474, 0.25276538729667664, 0.3892512023448944, 0.42905956506729126, 0.4518072009086609, 0.34375593066215515, 0.3636600971221924, 0.20158319175243378, 0.26982611417770386, 0.25560882687568665, 0.32669520378112793, 0.16746173799037933, 0.1504010111093521, 0.16746173799037933, 0.07931464910507202, 0.028132470324635506, 0.065097376704216, -0.08844916522502899, -0.0998229831457138, -0.042953889816999435, -0.12541407346725464, -0.042953889816999435, -0.0969795286655426, -0.03726698085665703, -0.008832437917590141, -0.0998229831457138, -0.1709093451499939, -0.10266643762588501, -0.04579734802246094, -0.1709093451499939, -0.10266643762588501, -0.15953552722930908, -0.0941360741853714, -0.1737527996301651, -0.02304970845580101, -0.0998229831457138, -0.014519346877932549, 0.013915197923779488, -0.03158007189631462, 0.0622539222240448, 0.05372355878353119, 0.07362774014472961, -0.07991880178451538, -0.1765962541103363, -0.10266643762588501, -0.21640460193157196, -0.15100516378879547, -0.23630878329277039, -0.29033440351486206, -0.43250712752342224, -0.37563803791999817, -0.415446400642395, -0.4950631260871887, -0.534871518611908, -0.5604625940322876, -0.6969484090805054, -0.7026352882385254, -0.6599835157394409, -0.6457661986351013, -0.7140091061592102, -0.6855745911598206, -0.6258620619773865, -0.5661494731903076, -0.725382924079895, -0.6088013052940369, -0.6457661986351013, -0.6144882440567017, -0.43250712752342224, -0.45809823274612427, -0.5832102298736572, -0.6173316836357117, -0.4751589596271515, -0.4182898700237274, -0.3159255087375641, -0.27327367663383484, -0.29317787289619446, -0.07991880178451538, -0.15384861826896667, -0.11688371002674103, -0.051484256982803345, 0.03381938114762306, 0.07362774014472961, 0.12196646630764008, 0.09921883046627045, -0.060014620423316956, 0.019602106884121895, -0.04011043533682823, -0.04579734802246094, -0.07138843834400177, -0.11972716450691223, -0.14247480034828186, -0.1680658906698227, -0.20503078401088715, -0.20503078401088715, -0.16237898170948029, -0.3073951303958893, -0.45241132378578186, -0.3983856737613678, -0.44672441482543945, -0.4637851417064667, -0.5234977006912231, -0.5775232911109924, -0.6173316836357117, -0.594584047794342, -0.7054787874221802, -0.6656703948974609, -0.594584047794342, -0.6486096978187561, -0.7452871203422546, -0.5576191544532776, -0.5263411402702332, -0.4922196865081787, -0.3983856737613678, -0.3244558572769165, -0.27043023705482483, -0.1794397085905075, -0.13678789138793945, -0.042953889816999435, -0.15384861826896667, -0.07707534730434418, -0.011675892397761345, 0.04519319906830788, 0.1447141021490097, 0.08215810358524323, 0.2300177365541458, 0.2868868410587311, 0.48308518528938293, 0.42905956506729126, 0.3636600971221924, 0.35228627920150757, 0.508676290512085, 0.4461202919483185, 0.35512974858283997, 0.34375593066215515, 0.41199883818626404, 0.4660244584083557, 0.40346845984458923, 0.42337265610694885, 0.4461202919483185, 0.43474647402763367, 0.41484227776527405, 0.4603375494480133, 0.4546506404876709, 0.43474647402763367, 0.3608166575431824, 0.3665035665035248, 0.2982606589794159, 0.24423500895500183, 0.2158004641532898, 0.26413920521736145, 0.3124779164791107, 0.34091246128082275, 0.3210082948207855, 0.2243308275938034, 0.32385173439979553, 0.3210082948207855, 0.28119993209838867, 0.24139155447483063, 0.2158004641532898, 0.15324446558952332, 0.04234974458813667, 0.09921883046627045, 0.05656701326370239, 0.036662835627794266, 0.07931464910507202, 0.019602106884121895, 0.0622539222240448, -0.05432771146297455, 0.002541380235925317, -0.042953889816999435, -0.11688371002674103, -0.18228314816951752, -0.11119680106639862, -0.12257061898708344, -0.20503078401088715, -0.2562129497528076, -0.35289040207862854, -0.35004696249961853, -0.387011855840683, -0.44672441482543945, -0.4666285812854767, -0.543401837348938, -0.5092803835868835, -0.5519322156906128, -0.6315489411354065, -0.6031144261360168, -0.6116447448730469, -0.5689929723739624, -0.6486096978187561, -0.6884180307388306, -0.7651913166046143, -0.8874598145484924, -0.8078431487083435, -0.8703991174697876, -0.725382924079895, -0.6941049695014954, -0.7737216949462891, -0.7367567420005798, -0.7879389524459839, -0.6201751232147217, -0.543401837348938, -0.5689929723739624, -0.7054787874221802, -0.7083222270011902, -0.7140091061592102, -0.7111656665802002, -0.8590252995491028, -0.722539484500885, -0.6997918486595154, -0.7680347561836243, -0.8192169666290283, -0.850494921207428, -0.8590252995491028, -0.9585462212562561, -0.9244247674942017, -0.8846163749694824, -0.9215812683105469, -0.8078431487083435, -0.7339133024215698, -0.7083222270011902, -0.6599835157394409, -0.5860536694526672, -0.4979065954685211, -0.415446400642395, -0.4239767789840698, -0.28749096393585205, -0.23346532881259918, -0.18797005712985992, -0.06285807490348816, -0.011675892397761345, 0.025289015844464302, 0.19020937383174896, 0.2271742820739746, 0.20158319175243378, 0.1418706476688385, 0.2101135551929474, 0.25560882687568665, 0.2129570096731186, 0.15324446558952332, 0.09921883046627045, 0.16177482903003693, 0.23286119103431702, 0.1361837387084961, 0.2101135551929474, 0.1447141021490097, 0.18167901039123535, 0.1475575566291809, 0.15608792006969452, 0.07078428566455841, 0.06794083118438721, 0.04234974458813667, -0.020206255838274956, -0.060014620423316956, -0.14247480034828186, -0.11972716450691223, -0.2476826012134552, -0.28180405497550964, -0.20503078401088715, -0.1794397085905075, -0.06854498386383057, -0.08844916522502899, -0.05717116594314575, -0.10266643762588501, -0.12825752794742584, -0.04579734802246094, -0.0941360741853714, 0.10774919390678406, 0.07647119462490082, 0.20442664623260498, 0.24423500895500183, 0.3721904754638672, 0.42052918672561646, 0.4688679277896881, 0.5882930159568787, 0.6878138780593872, 0.8413604497909546, 0.9295075535774231, 1.0688368082046509, 0.9949069619178772, 0.9806897044181824, 0.875481903553009, 0.7048746347427368, 0.7048746347427368, 0.5882930159568787, 0.568388819694519, 0.6053537130355835, 0.5371108055114746, 0.5826060771942139, 0.4546506404876709, 0.12765337526798248, 0.059410467743873596, -0.04579734802246094, -0.19365696609020233, -0.1737527996301651, -0.3073951303958893, -0.3358296751976013, -0.5035935044288635, -0.5320280194282532, -0.597427487373352, -0.716852605342865, -0.6969484090805054, -0.7367567420005798, -0.6571400165557861, -0.7651913166046143, -0.7396002411842346, -0.8675556778907776, -0.7708781957626343, -0.8732425570487976, -0.8817729353904724, -0.9357985854148865, -0.9898241758346558, -0.9699200391769409, -0.9357985854148865, -1.1007189750671387, -1.2201440334320068, -1.2969173192977905, -1.328195333480835, -1.333882212638855, -1.2883869409561157, -1.4220292568206787, -1.4248727560043335, -1.3822208642959595, -1.3623167276382446, -1.3424125909805298, -1.5386109352111816, -1.6893141269683838, -1.9765030145645142, -2.184075117111206, -2.098771572113037, -1.868451714515686, -1.3623167276382446, -0.6827311515808105, -0.10835334658622742, 0.48592865467071533, 0.9835331439971924, 1.006280779838562, 0.9209771752357483, 0.8385170102119446, 0.8584211468696594, 0.9096033573150635, 1.0915844440460205, 1.3133739233016968, 1.6602752208709717, 1.8308825492858887, 1.833725929260254, 1.7882306575775146, 1.4015209674835205, 0.7958651781082153, 0.3153213858604431, -0.025893162935972214, -0.36426421999931335, -0.7509740591049194, -0.9585462212562561, -0.9727634787559509, -0.901677131652832, -0.7964693307876587, -0.6742007732391357, -0.4637851417064667, -0.36995112895965576, -0.1765962541103363, -0.1737527996301651, -0.20503078401088715, -0.1765962541103363, 0.050880104303359985, 0.3721904754638672, 0.7389960885047913, 1.1655142307281494, 1.4470162391662598, 1.583501935005188, 1.461233377456665, 1.2934696674346924, 0.9778462648391724, 0.7276222705841064, 0.6849704384803772, 0.5456411838531494, 0.511519730091095, 0.32385173439979553, 0.2271742820739746, 0.019602106884121895, -0.28749096393585205, -0.5803667902946472, -0.8362776637077332, -1.1348403692245483, -1.3111345767974854, -1.4078119993209839, -1.4220292568206787, -1.4732115268707275, -1.3793774843215942, -1.4476203918457031, -1.274169683456421, -1.0722843408584595, -0.9215812683105469, -0.5860536694526672, -0.2419956922531128, -0.011675892397761345, 0.08784501254558563, 0.1390271931886673, 0.011071743443608284, -0.10550989210605621, -0.15953552722930908, -0.5149673223495483, -0.7765651345252991, -1.0125718116760254, -1.441933512687683, -2.0276851654052734, -2.4542033672332764, -2.6361844539642334, -2.6162803173065186, -2.545193910598755, -2.343308687210083, -2.1016149520874023, -1.7234355211257935, -1.328195333480835, -1.0751278400421143, -1.023945689201355, -0.7765651345252991, -0.36142078042030334, 0.1447141021490097, 0.6252579092979431, 1.1655142307281494, 1.7342050075531006, 2.1180713176727295, 2.3881995677948, 2.518998384475708, 2.3540780544281006, 2.132288694381714, 1.8593170642852783, 1.8052914142608643, 1.577815055847168, 1.2849392890930176, 1.0290284156799316, 0.7987086176872253, 0.511519730091095, 0.16177482903003693, -0.0998229831457138, -0.2505260407924652, -0.6258620619773865, -0.8874598145484924, -1.1263099908828735, -1.274169683456421, -1.5954800844192505, -1.552828311920166, -1.2571089267730713, -1.0580670833587646, -0.597427487373352, -0.3983856737613678, -0.2476826012134552, -0.1709093451499939, -0.21071769297122955, -0.22209151089191437, -0.13394443690776825, 0.09353192150592804, 0.5228935480117798, 0.9152902364730835, 1.122862458229065, 1.117175579071045, 0.8328300714492798, 0.4717113673686981, 0.09353192150592804, -0.18228314816951752, -0.5547756552696228, -0.7481305599212646, -0.8249038457870483, -0.9130509495735168, -1.0068849325180054, -1.146214246749878, -1.2514220476150513, -1.2428916692733765, -1.1177796125411987, -0.9699200391769409, -0.7026352882385254, -0.5661494731903076, -0.3813249468803406, -0.37279459834098816, -0.1680658906698227, -0.15669207274913788, -0.005988983437418938, 0.3011040985584259, 0.5769191980361938, 0.5570150017738342, 0.4432768225669861, 0.26698264479637146, 0.24992191791534424, 0.505832850933075, 0.6224144697189331, 0.9010729789733887, 1.358869194984436, 1.7768568992614746, 1.9446207284927368, 1.9076557159423828, 1.7256746292114258, 1.4697637557983398, 1.5010417699813843, 1.5579109191894531, 1.8308825492858887, 1.936090350151062, 1.9986462593078613, 2.132288694381714, 2.1806273460388184, 1.990116000175476, 1.8109782934188843, 1.6602752208709717, 1.5493805408477783, 1.5522239208221436, 1.583501935005188, 1.5124156475067139, 1.4527031183242798, 1.310530424118042, 1.0034373998641968, 0.9152902364730835, 0.7532133460044861, 0.6451621055603027, 0.642318606376648, 0.5854495167732239, 0.3608166575431824, 0.19589628279209137, 0.09921883046627045, -0.051484256982803345, 0.013915197923779488, -0.10550989210605621, -0.3130820393562317, -0.412602961063385, -0.5832102298736572, -0.7452871203422546, -0.9471724033355713, -1.077971339225769, -1.0921885967254639, -0.9102074503898621, -0.6969484090805054, -0.597427487373352, -0.5234977006912231, -0.5803667902946472, -0.7367567420005798, -0.6912614703178406, -0.9557027220726013, -0.9727634787559509, -1.041006326675415, -0.8846163749694824, -0.9443289041519165, -0.6628269553184509, -0.6855745911598206, -0.7680347561836243, -0.8703991174697876, -0.9983545541763306, -0.9272682070732117, -0.722539484500885, -0.5746798515319824, -0.5832102298736572, -0.540558397769928, -0.7282264232635498, -0.8391211032867432, -1.1774921417236328, -1.4476203918457031, -1.760400414466858, -1.8599213361740112, -1.9708160161972046, -2.021998167037964, -2.3148739337921143, -2.3603692054748535, -2.4456729888916016, -2.1897621154785156, -1.6893141269683838, -1.4476203918457031, -0.904520571231842, -0.26189985871315, 0.3210082948207855, 0.4802417457103729, 0.7759609818458557, 1.011967658996582, 1.432798981666565, 1.7199877500534058, 2.2431833744049072, 2.732257604598999, 3.0336639881134033, 3.2611403465270996, 3.2725141048431396, 3.138871669769287, 2.848839282989502, 2.6611711978912354, 2.4479122161865234, 2.3654518127441406, 2.2687745094299316, 2.007176637649536, 1.8365694284439087, 1.3190608024597168, 0.8043955564498901, 0.26129573583602905, 0.03097592480480671, -0.20218732953071594, -0.2505260407924652, -0.23630878329277039, -0.28749096393585205, -0.21071769297122955, -0.29033440351486206, -0.36710768938064575, -0.384168416261673, -0.44103750586509705, -0.36710768938064575, -0.44388094544410706, -0.4808458685874939, -0.6116447448730469, -0.6827311515808105, -0.7964693307876587, -0.8163734674453735, -0.7083222270011902, -0.5206542015075684, -0.4012291431427002, -0.415446400642395, -0.6742007732391357, -1.0182586908340454, -1.328195333480835, -1.3765339851379395, -1.456150770187378, -1.2827000617980957, -1.0040414333343506, -0.8846163749694824, -0.6941049695014954, -0.6912614703178406, -0.9926676750183105, -1.1177796125411987, -1.3168214559555054, -1.3367255926132202, -1.157588005065918, -1.023945689201355, -0.8874598145484924, -0.8391211032867432, -0.850494921207428, -1.1604315042495728, -1.1973963975906372, -1.345255970954895, -1.211613655090332, -1.0694409608840942, -0.9642331004142761, -0.8931467533111572, -0.9727634787559509, -1.0495367050170898, -1.1376838684082031, -1.1120927333831787, -0.6770442128181458, -0.18797005712985992, 0.2158004641532898, 0.7418395280838013, 1.1257058382034302, 1.3361215591430664, 1.529476284980774, 1.5977191925048828, 1.700083613395691, 1.8166651725769043, 1.8365694284439087, 2.166410207748413, 2.1578798294067383, 2.231809616088867, 2.0668892860412598, 2.0128636360168457, 1.8706908226013184, 1.8792212009429932, 1.8564735651016235, 1.9133427143096924, 2.035611152648926, 1.9616813659667969, 1.9645248651504517, 1.7939175367355347, 1.6034061908721924, 1.523789405822754, 1.5607542991638184, 1.6887097358703613, 1.7853872776031494, 1.7797002792358398, 1.6915532350540161, 1.5209459066390991, 1.1598273515701294, 0.6536924242973328, 0.4717113673686981, 0.2271742820739746, 0.03950629010796547, -0.10266643762588501, -0.2419956922531128, -0.27611714601516724, -0.6002709269523621, -1.0438498258590698, -1.404968500137329, -1.6409753561019897, -1.6608794927597046, -1.5187067985534668, -1.2940738201141357, -1.3623167276382446, -1.2627958059310913, -1.399281620979309, -1.339569091796875, -1.2542654275894165, -1.0182586908340454, -0.6742007732391357, -0.25905641913414, 0.08500155806541443, 0.26413920521736145, 0.1361837387084961, -0.18797005712985992, -0.412602961063385, -0.5888971090316772, -0.6997918486595154, -0.8106865882873535, -0.7936258316040039, -0.8362776637077332, -1.0694409608840942, -1.498802661895752, -2.1272060871124268, -2.4371426105499268, -2.599219560623169, -2.6475582122802734, -2.4684205055236816, -2.27790904045105, -2.0362155437469482, -1.8542344570159912, -1.7632439136505127, -1.6665664911270142, -1.686470627784729, -1.1917095184326172, -0.4040725827217102, 0.16461828351020813, 0.9266640543937683, 1.3986774682998657, 1.9787421226501465, 2.2545571327209473, 2.6412670612335205, 2.766378879547119, 2.8033440113067627, 2.902864694595337, 3.0706288814544678, 3.116124153137207, 2.9113950729370117, 2.809030771255493, 2.8147177696228027, 2.9000213146209717, 2.8573694229125977, 2.8260915279388428, 2.6924490928649902, 2.496250867843628, 2.3881995677948, 2.146505832672119, 1.9048123359680176, 1.5522239208221436, 1.4242686033248901, 1.4242686033248901, 1.5209459066390991, 1.5550674200057983, 1.626153826713562, 1.5863454341888428, 1.4157382249832153, 1.054619550704956, 0.699187695980072, 0.3608166575431824, 0.24423500895500183, 0.12765337526798248, -0.020206255838274956, -0.14247480034828186, -0.18228314816951752, -0.3329862356185913, -0.4609416723251343, -0.7850955128669739, -0.8817729353904724, -1.023945689201355, -1.2030832767486572, -1.3111345767974854, -1.3480994701385498, -1.2571089267730713, -0.9670765399932861, -0.7907823920249939, -0.537714958190918, -0.36426421999931335, -0.06854498386383057, 0.26129573583602905, 0.4574941098690033, 0.6337882876396179, 0.7617437243461609, 0.6309447884559631, 0.6565359234809875, 0.5740756988525391, 0.5797626376152039, 0.40631192922592163, 0.218643918633461, -0.06570152938365936, -0.4836893081665039, -0.7367567420005798, -0.9983545541763306, -1.2372047901153564, -1.4106554985046387, -1.4675246477127075, -1.4703680276870728, -1.4447768926620483, -1.339569091796875, -1.1319968700408936, -1.1263099908828735, -0.9869807362556458, -0.8590252995491028, -0.537714958190918, -0.2533695101737976, 0.036662835627794266, 0.49730247259140015, 1.0347152948379517, 1.375929832458496, 1.6204668283462524, 1.7740134000778198, 1.819508671760559, 1.839412808418274, 1.8422563076019287, 1.8024479150772095, 1.8678474426269531, 1.9019688367843628, 2.0299243927001953, 2.189157724380493, 2.37113881111145, 2.328486919403076, 2.302896022796631, 2.1294453144073486, 2.0327677726745605, 1.8536301851272583, 1.7199877500534058, 1.6716490983963013, 1.5124156475067139, 1.4981982707977295, 1.4953548908233643, 1.4100513458251953, 1.370242953300476, 1.4242686033248901, 1.245131015777588, 1.048932671546936, 0.5371108055114746, 0.20727010071277618, 0.08215810358524323, -0.060014620423316956, -0.2391522377729416, -0.36995112895965576, -0.3898553252220154, -0.537714958190918, -0.6372358798980713, -0.9244247674942017, -1.2030832767486572, -1.2997606992721558, -1.3367255926132202, -1.2258309125900269, -1.2030832767486572, -1.1234666109085083, -0.9187378287315369, -0.6770442128181458, -0.415446400642395, -0.20503078401088715, 0.1418706476688385, 0.6224144697189331, 0.9494116902351379, 1.1257058382034302, 1.1967922449111938, 1.3190608024597168, 1.3503388166427612, 1.2820959091186523, 1.1740446090698242, 0.8584211468696594, 0.5513280630111694, 0.2954171895980835, -0.10550989210605621, -0.7083222270011902, -1.3651602268218994, -1.6836271286010742, -2.0902411937713623, -2.459890127182007, -2.5935325622558594, -2.6674623489379883, -2.6560885906219482, -2.5508806705474854, -2.5764718055725098, -2.52528977394104, -2.3688995838165283, -2.0191547870635986, -1.6096973419189453, -1.151901125907898, -0.7538174986839294, -0.29602131247520447, 0.19305282831192017, 0.571232259273529, 0.8641080856323242, 1.1626708507537842, 1.4470162391662598, 1.7143008708953857, 1.7967610359191895, 1.6659621000289917, 1.5920323133468628, 1.4299554824829102, 1.438485860824585, 1.4100513458251953, 1.3531821966171265, 1.2707220315933228, 1.1854184865951538, 1.0716803073883057, 0.6764400601387024, 0.40631192922592163, 0.17030519247055054, -0.014519346877932549, -0.020206255838274956, 0.03381938114762306, 0.15893137454986572, 0.3067910075187683, 0.33238211274147034, 0.35512974858283997, 0.32953864336013794, 0.3181648254394531, 0.3153213858604431, 0.3977815508842468, 0.33806902170181274, 0.3750339150428772, 0.25845229625701904, 0.028132470324635506, -0.22493496537208557, -0.36142078042030334, -0.6230185627937317, -0.8732425570487976, -0.9414854645729065, -1.0978754758834839, -1.279856562614441, -1.4874287843704224, -1.7149051427841187, -1.7319658994674683, -1.6068538427352905, -1.4334031343460083, -1.279856562614441, -1.0552237033843994, -0.9130509495735168, -0.5803667902946472, -0.4836893081665039, -0.28180405497550964, 0.05372355878353119, 0.40631192922592163, 0.6878138780593872, 0.7617437243461609, 0.7446829676628113, 0.5285804271697998, 0.18452246487140656, 0.11059264838695526, -0.29886478185653687, -0.6742007732391357, -1.023945689201355, -1.1604315042495728, -1.2713261842727661, -1.626758098602295, -2.107301950454712, -2.471264123916626, -2.6276540756225586, -2.5963759422302246, -2.661775588989258, -2.6049063205718994, -2.556567668914795, -2.258004903793335, -1.8826689720153809, -1.5130199193954468, -1.3082910776138306, -0.841964602470398, -0.3898553252220154, 0.0622539222240448, 0.3181648254394531, 0.6394751667976379, 0.9664724469184875, 1.432798981666565, 1.7086139917373657, 1.8450998067855835, 2.0213940143585205, 2.0242373943328857, 2.04982852935791, 1.8706908226013184, 1.631840705871582, 1.4185817241668701, 1.2678786516189575, 0.9124467968940735, 0.3892512023448944, -0.0941360741853714, -0.3272993266582489, -0.534871518611908, -0.7509740591049194, -1.0523802042007446, -1.345255970954895, -1.6893141269683838, -2.021998167037964, -2.169857978820801, -2.184075117111206, -2.141423225402832, -1.936694622039795, -1.6893141269683838, -1.2940738201141357, -1.1319968700408936, -1.0211021900177002, -1.0040414333343506, -0.8817729353904724, -0.7879389524459839, -0.6230185627937317, -0.4865327775478363, -0.12541407346725464, 0.01675865240395069, 0.19873973727226257, 0.2954171895980835, 0.33806902170181274, 0.3750339150428772, 0.41484227776527405, 0.4802417457103729, 0.5541715621948242, 0.642318606376648, 0.7702741026878357, 0.8555777072906494, 0.9408813714981079, 0.997750461101532, 1.1541404724121094, 1.3133739233016968, 1.3020000457763672, 1.2934696674346924, 1.2991565465927124, 1.0972713232040405, 0.9067599177360535, 0.824299693107605, 0.7617437243461609, 0.6622228026390076, 0.508676290512085, 0.4745548367500305, 0.3636600971221924, 0.26413920521736145, 0.05656701326370239, -0.03158007189631462, -0.3443600535392761, -0.412602961063385, -0.4893762171268463, -0.4723154902458191, -0.5092803835868835, -0.4609416723251343, -0.3102385997772217, -0.12825752794742584, -0.12825752794742584, -0.08844916522502899, 0.002541380235925317, 0.07647119462490082, 0.059410467743873596, 0.2897302806377411, 0.3977815508842468, 0.6195709705352783, 0.8043955564498901, 0.9806897044181824, 1.0204980373382568, 1.1683577299118042, 1.188261866569519, 1.1911053657531738, 1.134236216545105, 0.9721593260765076, 0.9181337356567383, 0.7475264668464661, 0.4688679277896881, 0.20727010071277618, 0.00822828896343708, -0.04579734802246094, -0.4182898700237274, -0.7282264232635498, -1.0694409608840942, -1.2883869409561157, -1.5755759477615356, -1.8002088069915771, -1.874138593673706, -2.013467788696289, -1.91679048538208, -1.8229564428329468, -1.8911993503570557, -1.9281642436981201, -2.033372163772583, -2.0930845737457275, -1.8428605794906616, -1.6608794927597046, -1.5300806760787964, -1.4504637718200684, -1.3509429693222046, -1.2343612909317017, -1.2400481700897217, -1.279856562614441, -1.0694409608840942, -0.9187378287315369, -0.7424436807632446, -0.6798876523971558, -0.5462453365325928, -0.42966368794441223, -0.36995112895965576, -0.35573387145996094, -0.1794397085905075, -0.11119680106639862, 0.08784501254558563, 0.2101135551929474, 0.15893137454986572, 0.01675865240395069, -0.07423189282417297, -0.2647433280944824, -0.43819403648376465, -0.6031144261360168, -0.6599835157394409, -0.722539484500885, -0.844808042049408, -0.9329550862312317, -1.1547445058822632, -1.3708471059799194, -1.4788984060287476, -1.5755759477615356, -1.7177486419677734, -1.754713535308838, -1.626758098602295, -1.558515191078186, -1.5243936777114868, -1.3822208642959595, -1.2997606992721558, -1.1831791400909424, -1.0125718116760254, -0.5746798515319824, -0.0912926197052002, 0.24139155447483063, 0.5285804271697998, 0.9323509931564331, 1.2280702590942383, 1.3816168308258057, 1.4782941341400146, 1.5351632833480835, 1.7228312492370605, 1.887751579284668, 2.004333257675171, 2.092480182647705, 2.035611152648926, 1.8849080801010132, 1.8052914142608643, 1.5806585550308228, 1.1967922449111938, 0.7617437243461609, 0.4461202919483185, -0.005988983437418938, -0.4097594916820526, -0.7310698628425598, -0.8931467533111572, -1.2002397775650024, -1.3424125909805298, -1.2258309125900269, -1.1973963975906372, -1.1263099908828735, -1.2201440334320068, -1.2400481700897217, -1.285543441772461, -1.3026041984558105, -1.2258309125900269, -0.9386420249938965, -0.8135300278663635, -0.5462453365325928, -0.23630878329277039, -0.12257061898708344, -0.042953889816999435, 0.065097376704216, 0.013915197923779488, -0.15384861826896667, -0.15953552722930908, -0.12541407346725464, 0.019602106884121895, 0.11912301182746887, 0.12765337526798248, 0.12196646630764008, 0.1390271931886673, 0.17883555591106415, -0.0941360741853714, 0.03097592480480671, 0.41768574714660645, 0.6878138780593872, 0.42621609568595886, 0.2129570096731186, 0.04519319906830788, -0.034423526376485825, -0.08844916522502899, -0.12825752794742584, -0.06854498386383057, -0.060014620423316956, -0.16237898170948029, -0.2533695101737976, -0.3017082214355469, -0.5035935044288635, -0.8362776637077332, -0.9727634787559509, -1.205926775932312, -1.3082910776138306, -1.3566298484802246, -1.3651602268218994, -1.4191858768463135, -1.5357675552368164, -1.7262790203094482, -1.638131856918335, -1.5670455694198608, -1.4902722835540771, -1.3509429693222046, -0.9557027220726013, -0.8106865882873535, -0.597427487373352, -0.2562129497528076, -0.05432771146297455, 0.10490573942661285, 0.20158319175243378, 0.43474647402763367, 0.6281013488769531, 0.8555777072906494, 1.0574629306793213, 1.2849392890930176, 1.375929832458496, 1.4726072549819946, 1.4157382249832153, 1.176888108253479, 1.0233415365219116, 0.9380378723144531, 0.696344256401062, 0.32669520378112793, 0.03097592480480671, -0.07138843834400177, -0.36995112895965576, -0.5121238827705383, -0.6599835157394409, -0.6997918486595154, -0.8618687391281128, -0.8846163749694824, -1.1433707475662231, -1.2883869409561157, -1.345255970954895, -1.3367255926132202, -1.3367255926132202, -1.1291534900665283, -0.9272682070732117, -0.7339133024215698, -0.594584047794342, -0.5860536694526672, -0.5746798515319824, -0.5291845798492432, -0.4836893081665039, -0.36426421999931335, -0.387011855840683, -0.16237898170948029, -0.12825752794742584, -0.020206255838274956, 0.07362774014472961, 0.07078428566455841, 0.07931464910507202, 0.10774919390678406, 0.08215810358524323, -0.06854498386383057, 0.005384834948927164, -0.04011043533682823, -0.15669207274913788, -0.29886478185653687, -0.4069160521030426, -0.26758676767349243, -0.37279459834098816, -0.534871518611908, -0.6144882440567017, -0.5320280194282532, -0.6542965769767761, -0.7850955128669739, -0.7737216949462891, -0.7111656665802002, -0.6827311515808105, -0.7708781957626343, -0.8078431487083435, -0.8220604062080383, -0.7452871203422546, -0.7595043778419495, -0.8078431487083435, -0.8078431487083435, -0.8533384203910828, -0.8874598145484924, -0.7367567420005798, -0.4836893081665039, -0.3130820393562317, -0.2533695101737976, -0.1709093451499939, -0.22209151089191437, -0.19650042057037354, -0.2419956922531128, 0.011071743443608284, 0.4546506404876709, 0.5257369875907898, 0.6224144697189331, 0.6878138780593872, 0.7446829676628113, 0.6878138780593872, 0.5882930159568787, 0.7930217385292053, 0.8271431922912598, 0.6878138780593872, 0.6366317272186279, 0.5882930159568787, 0.48308518528938293, 0.35797318816185, 0.3210082948207855, 0.16177482903003693, 0.036662835627794266, 0.036662835627794266, 0.05372355878353119, 0.0622539222240448, 0.10206228494644165, 0.10774919390678406, 0.12765337526798248, 0.10490573942661285, 0.34944283962249756, 0.6764400601387024, 0.6878138780593872, 0.821456253528595, 1.0460891723632812, 1.1484534740447998, 1.193948745727539, 1.2678786516189575, 1.3389649391174316, 1.4498597383499146, 1.685866355895996, 1.8223521709442139, 1.7996045351028442, 1.8450998067855835, 1.7143008708953857, 1.7086139917373657, 1.7427353858947754, 1.7996045351028442, 1.9161860942840576, 1.8052914142608643, 1.754109263420105, 1.5351632833480835, 1.4726072549819946, 1.2906262874603271, 1.1456100940704346, 0.878325343132019, 0.5911364555358887, 0.43474647402763367, 0.2897302806377411, 0.10490573942661285, -0.008832437917590141, -0.18797005712985992, -0.34720349311828613, -0.44672441482543945, -0.5490887761116028, -0.6855745911598206, -0.8817729353904724, -1.0438498258590698, -1.163274884223938, -1.3424125909805298, -1.3367255926132202, -1.2969173192977905, -1.4106554985046387, -1.584106206893921, -1.6580361127853394, -1.6239145994186401, -1.632444977760315, -1.558515191078186, -1.6040104627609253, -1.7035313844680786, -1.6580361127853394, -1.510176420211792, -1.339569091796875, -1.0751278400421143, -0.8305907845497131, -0.7339133024215698, -0.6770442128181458, -0.5291845798492432, -0.28749096393585205, -0.36995112895965576, -0.23630878329277039, -0.18228314816951752, 0.025289015844464302, 0.065097376704216, 0.08215810358524323, 0.11627955734729767, 0.1475575566291809, 0.17883555591106415, 0.2300177365541458, 0.18167901039123535, 0.17599210143089294, 0.1504010111093521, -0.06854498386383057, -0.04864080250263214, -0.011675892397761345, -0.034423526376485825, -0.034423526376485825, 0.0622539222240448, 0.10774919390678406, 0.34091246128082275, 0.4660244584083557, 0.5399542450904846, 0.5740756988525391, 0.6309447884559631, 0.875481903553009, 1.0347152948379517, 1.1484534740447998, 1.2394440174102783, 1.3304345607757568, 1.4839810132980347, 1.529476284980774, 1.4981982707977295, 1.5436935424804688, 1.572128176689148, 1.4754506349563599, 1.4811376333236694, 1.3730864524841309, 1.2764089107513428, 1.1598273515701294, 0.9295075535774231, 0.8271431922912598, 0.7389960885047913, 0.6878138780593872, 0.3920946419239044, 0.42052918672561646, 0.26129573583602905, 0.11912301182746887, 0.16177482903003693, 0.1418706476688385, 0.17030519247055054, 0.26982611417770386, 0.23854809999465942, 0.20158319175243378, 0.20727010071277618, 0.27266955375671387, 0.40346845984458923, 0.3778773844242096, 0.3920946419239044, 0.3096344769001007, 0.10774919390678406, 0.16177482903003693, 0.019602106884121895, -0.14816170930862427, -0.21640460193157196, -0.3130820393562317, -0.43250712752342224, -0.45809823274612427, -0.44956785440444946, -0.5490887761116028, -0.7282264232635498, -0.8903033137321472, -0.8078431487083435, -0.716852605342865, -0.6997918486595154, -0.6343923807144165, -0.7282264232635498, -0.7708781957626343, -0.5775232911109924, -0.4836893081665039, -0.5121238827705383, -0.4097594916820526, -0.27611714601516724, -0.19934387505054474, -0.15384861826896667, -0.12257061898708344, -0.0031455284915864468, 0.03097592480480671, 0.08215810358524323, 0.07931464910507202, 0.17030519247055054, 0.17599210143089294, -0.0031455284915864468, -0.1737527996301651, -0.22493496537208557, -0.15669207274913788, -0.21924805641174316, -0.23630878329277039, -0.25905641913414, -0.244839146733284, -0.29886478185653687, -0.29033440351486206, -0.2562129497528076, -0.2533695101737976, -0.3386731445789337, -0.3955422341823578, -0.3415165841579437, -0.18512660264968872, -0.18797005712985992, -0.14531825482845306, -0.06570152938365936, -0.1794397085905075, -0.07991880178451538, 0.00822828896343708, 0.04234974458813667, 0.2243308275938034, 0.2954171895980835, 0.4688679277896881, 0.6224144697189331, 0.508676290512085, 0.41768574714660645, 0.4603375494480133, 0.5399542450904846, 0.6224144697189331, 0.7788044214248657, 0.696344256401062, 0.7589002847671509, 0.8669515252113342, 0.8896991610527039, 0.8953860998153687, 1.0290284156799316, 1.1257058382034302, 1.0858975648880005, 1.117175579071045, 1.2280702590942383, 1.4157382249832153, 1.3133739233016968, 1.1058017015457153, 1.1200189590454102, 1.1569838523864746, 1.1058017015457153, 1.0233415365219116, 0.8669515252113342, 0.7162484526634216, 0.6735966205596924, 0.6451621055603027, 0.7532133460044861, 0.7532133460044861, 0.7589002847671509, 0.7759609818458557, 0.7702741026878357, 0.5911364555358887, 0.5854495167732239, 0.6764400601387024, 0.8271431922912598, 0.7759609818458557, 0.818612813949585, 0.5797626376152039, 0.3750339150428772, 0.19305282831192017, 0.12196646630764008, 0.09637537598609924, -0.19934387505054474, -0.23346532881259918, -0.42682021856307983, -0.4780023992061615, -0.5320280194282532, -0.847651481628418, -1.205926775932312, -1.2372047901153564, -1.339569091796875, -1.3964382410049438, -1.4788984060287476, -1.4447768926620483, -1.5442979335784912, -1.680783748626709, -1.6580361127853394, -1.504489541053772, -1.4334031343460083, -1.4760550260543823, -1.4902722835540771, -1.404968500137329, -1.3054476976394653, -1.2315177917480469, -1.2343612909317017, -1.3196649551391602, -1.279856562614441, -1.2144571542739868, -1.083658218383789, -0.9500158429145813, -0.9357985854148865, -0.8192169666290283, -0.9500158429145813, -0.978450357913971, -1.0865015983581543, -0.9528592824935913, -0.5490887761116028, 0.03950629010796547, 0.18736591935157776, 0.2243308275938034, 0.5172066688537598, 0.5228935480117798, 0.7958651781082153, 1.080210566520691, 1.2252267599105835, 1.6176234483718872, 1.6659621000289917, 1.8052914142608643, 1.995802879333496, 2.146505832672119, 2.271617889404297, 2.314269781112671, 2.209061861038208, 2.1834707260131836, 2.0867934226989746, 2.04982852935791, 1.711457371711731, 1.3958340883255005, 1.3133739233016968, 0.9892200827598572, 0.9579420685768127, 0.6536924242973328, 0.6849704384803772, 0.5314239263534546, 0.3210082948207855, 0.27551302313804626, 0.3892512023448944, 0.3721904754638672, 0.7077180743217468, 0.7333091497421265, 0.872638463973999, 0.9181337356567383, 0.9949069619178772, 0.9835331439971924, 0.9750028252601624, 0.9863766431808472, 0.8527342677116394, 1.000593900680542, 0.8953860998153687, 0.8925426006317139, 0.6565359234809875, 0.4603375494480133, 0.3721904754638672, 0.26982611417770386, 0.025289015844464302, -0.14531825482845306, -0.5291845798492432, -0.7708781957626343, -1.2372047901153564, -1.552828311920166, -1.6352884769439697, -1.6239145994186401, -1.6125408411026, -1.7689307928085327, -1.8997297286987305, -2.033372163772583, -2.1584839820861816, -2.0817108154296875, -1.803052306175232, -1.5869497060775757, -1.3225083351135254, -1.3310387134552002, -1.2571089267730713, -1.2571089267730713, -1.0808147192001343, -1.1007189750671387, -1.1177796125411987, -0.9301116466522217, -0.6941049695014954, -0.1652224361896515, 0.04519319906830788, 0.11627955734729767, 0.1390271931886673, 0.16746173799037933, 0.32953864336013794, 0.5029893517494202, 0.5826060771942139, 0.7844913601875305, 0.9636290073394775, 1.1313928365707397, 1.006280779838562, 1.176888108253479, 1.4242686033248901, 1.5550674200057983, 1.685866355895996, 1.523789405822754, 1.5465370416641235, 1.5607542991638184, 1.4128947257995605, 1.6034061908721924, 1.6204668283462524, 1.5806585550308228, 1.427112102508545, 1.2337571382522583, 1.0944279432296753, 1.000593900680542, 0.9778462648391724, 0.8840122818946838, 0.6565359234809875, 0.5570150017738342, 0.7901782393455505, 1.3190608024597168, 1.3958340883255005, 0.821456253528595, 0.7617437243461609, 0.5996668338775635, 0.7446829676628113, 0.8641080856323242, 0.9550986289978027, 0.872638463973999, 0.5598584413528442, 0.32385173439979553, 0.065097376704216, 0.0224455613642931, -0.19650042057037354, -0.4211333096027374, -0.7765651345252991, -0.8106865882873535, -0.7623478770256042, -0.6969484090805054, -0.7964693307876587, -0.9699200391769409, -1.1206231117248535, -1.0609105825424194, -1.1120927333831787, -1.0665974617004395, -1.2571089267730713, -1.3623167276382446, -1.291230320930481, -1.2457350492477417, -0.7936258316040039, -0.3358296751976013, -0.27611714601516724, -0.29317787289619446, -0.5547756552696228, -0.6486096978187561, -0.3244558572769165, -0.22209151089191437, -0.10550989210605621, -0.3187689483165741, -0.6997918486595154, -0.8078431487083435, -0.9926676750183105, -1.3253518342971802, -1.2400481700897217, -0.9357985854148865, -0.8220604062080383, -0.7794085741043091, -0.8959901928901672, -0.6287055015563965, -0.43819403648376465, -0.19934387505054474, 0.08784501254558563, 0.3750339150428772, 0.7475264668464661, 1.2792524099349976, 1.765483021736145, 2.0867934226989746, 2.260244131088257, 2.66970157623291, 3.050724506378174, 3.1673061847686768, 3.2952616214752197, 3.3663480281829834, 3.030820369720459, 2.6753885746002197, 2.4820334911346436, 2.2574007511138916, 2.0839500427246094, 1.771169900894165, 1.4157382249832153, 1.000593900680542, 0.6508489847183228, 0.6195709705352783, 0.6167275309562683, 0.3011040985584259, 0.15893137454986572, 0.35228627920150757, 0.6451621055603027, 0.9209771752357483, 0.4489637315273285, 0.08215810358524323, -0.11119680106639862, 0.1504010111093521, 0.33806902170181274, 0.5029893517494202, 0.3949381113052368, 0.1475575566291809, -0.07423189282417297, -0.3017082214355469, -0.5263411402702332, -0.28180405497550964, -0.27327367663383484, -0.45525476336479187, -0.7367567420005798, -1.0438498258590698, -1.1774921417236328, -1.4334031343460083, -1.814426064491272, -1.8656082153320312, -2.0276851654052734, -2.002094030380249, -2.121519088745117, -2.246631145477295, -2.397334337234497, -2.2864394187927246, -2.203979253768921, -1.9708160161972046, -1.6779402494430542, -1.3623167276382446, -1.2969173192977905, -1.3253518342971802, -1.333882212638855, -1.2969173192977905, -1.1348403692245483, -1.1348403692245483, -1.1405272483825684, -1.2428916692733765, -1.5187067985534668, -1.8314868211746216, -2.1982924938201904, -2.459890127182007, -2.2665352821350098, -1.985033392906189, -1.6125408411026, -1.222987413406372, -1.1860225200653076, -1.1831791400909424, -1.0751278400421143, -0.7794085741043091, 0.0224455613642931, 0.7134050130844116, 1.2309136390686035, 1.876377820968628, 2.3540780544281006, 2.6952927112579346, 2.9000213146209717, 3.1673061847686768, 3.3578176498413086, 3.4431214332580566, 3.522737979888916, 3.3436005115509033, 3.030820369720459, 2.840308904647827, 2.678231954574585, 2.4592859745025635, 2.174940586090088, 1.7797002792358398, 1.5380066633224487, 1.245131015777588, 1.0375587940216064, 0.8015520572662354, 0.6281013488769531, 0.4631810188293457, 0.386407732963562, 0.7532133460044861, 0.9010729789733887, 1.0318719148635864, 0.41768574714660645, -0.36710768938064575, -0.6542965769767761, -0.6116447448730469, -0.2562129497528076, -0.12541407346725464, -0.28180405497550964, -0.7680347561836243, -1.291230320930481, -1.692157506942749, -1.7803046703338623, -1.7717742919921875, -1.5613585710525513, -1.6239145994186401, -1.7774611711502075, -1.8883558511734009, -1.9765030145645142, -2.041902542114258, -2.0305285453796387, -1.8997297286987305, -1.5187067985534668, -1.3139779567718506, -1.211613655090332, -1.103562355041504, -0.7765651345252991, -0.5832102298736572, -0.42682021856307983, -0.37848150730133057, -0.07423189282417297, 0.09353192150592804, -0.020206255838274956, -0.21071769297122955, -0.4097594916820526, -0.4865327775478363, -0.4780023992061615, -0.597427487373352, -0.8675556778907776, -0.9756069183349609, -1.2428916692733765, -1.441933512687683, -1.766087293624878, -1.621071219444275, -1.095031976699829, -0.668513834476471, -0.1765962541103363, 0.2300177365541458, 0.7162484526634216, 0.997750461101532, 1.2735655307769775, 1.6631187200546265, 2.2858352661132812, 3.3549742698669434, 3.821300745010376, 4.407052516937256, 4.537851333618164, 4.458234786987305, 4.387148380279541, 4.165358543395996, 4.0516204833984375, 4.188106536865234, 3.9208216667175293, 3.221331834793091, 2.4280078411102295, 1.7939175367355347, 1.529476284980774, 1.2536612749099731, 0.9550986289978027, 0.6195709705352783, 0.3750339150428772, 0.0622539222240448, -0.051484256982803345, 0.17883555591106415, 0.24139155447483063, 0.5826060771942139, 0.5285804271697998, 0.7247788310050964, 1.1626708507537842, 1.5380066633224487, 1.444172739982605, 0.5996668338775635, 0.18452246487140656, -0.15100516378879547, 0.11059264838695526, 0.32953864336013794, 0.27551302313804626, -0.3898553252220154, -1.041006326675415, -1.5869497060775757, -1.808739185333252, -1.814426064491272, -1.808739185333252, -1.6466622352600098, -2.0191547870635986, -2.1869184970855713, -2.3404650688171387, -2.164170980453491, -1.874138593673706, -1.6893141269683838, -1.686470627784729, -1.5130199193954468, -1.279856562614441, -1.103562355041504, -0.5860536694526672, -0.5092803835868835, -0.43250712752342224, -0.35857731103897095, -0.0969795286655426, 0.2101135551929474, 0.18452246487140656, 0.06794083118438721, -0.27043023705482483, -0.44672441482543945, -0.594584047794342, -0.5547756552696228, -0.5007500648498535, -0.5832102298736572, -1.0865015983581543, -1.4163423776626587, -1.9224773645401, -1.754713535308838, -1.2087701559066772, -1.0125718116760254, -0.4950631260871887, -0.18228314816951752, 0.42905956506729126, 0.8299866318702698, 1.0972713232040405, 1.5124156475067139, 1.887751579284668, 2.4194774627685547, 2.880117177963257, 3.4118432998657227, 3.7075626850128174, 3.6023547649383545, 3.372035026550293, 3.124654531478882, 3.050724506378174, 3.24407958984375, 3.25545334815979, 2.9284560680389404, 2.3512346744537354, 1.700083613395691, 1.5749715566635132, 1.4782941341400146, 1.3503388166427612, 1.2536612749099731, 1.1456100940704346, 1.0432456731796265, 0.8413604497909546, 0.7304657101631165, 0.7048746347427368, 0.5826060771942139, 0.3665035665035248, 0.15608792006969452, 0.32669520378112793, 0.5371108055114746, 0.505832850933075, -0.29317787289619446, -1.0722843408584595, -1.985033392906189, -2.013467788696289, -1.7888349294662476, -1.6893141269683838, -1.996407151222229, -2.4655771255493164, -3.0740761756896973, -3.20771861076355, -3.2446835041046143, -2.9290599822998047, -2.459890127182007, -2.2238833904266357, -2.013467788696289, -1.8769820928573608, -1.6950010061264038, -1.151901125907898, -0.9329550862312317, -0.5661494731903076, -0.20503078401088715, 0.2271742820739746, 0.48877209424972534, 0.815769374370575, 0.824299693107605, 0.7020311951637268, 0.7674306035041809, 0.9494116902351379, 1.3020000457763672, 1.432798981666565, 1.2024791240692139, 0.7361526489257812, 0.18736591935157776, -0.21640460193157196, -0.042953889816999435, 0.1361837387084961, 0.09068846702575684, -0.35004696249961853, -0.9414854645729065, -1.4760550260543823, -1.5300806760787964, -0.6941049695014954, -0.23062187433242798, 0.5456411838531494, 1.134236216545105, 1.5607542991638184, 1.9048123359680176, 2.2801482677459717, 2.561650276184082, 2.965420961380005, 3.252609968185425, 3.662067413330078, 4.17388916015625, 4.4895124435424805, 4.321748733520508, 4.028872966766357, 3.3976261615753174, 3.0052292346954346, 2.9113950729370117, 2.9170823097229004, 2.7379443645477295, 1.995802879333496, 0.9835331439971924, 0.5228935480117798, 0.15893137454986572, -0.008832437917590141, -0.19365696609020233, -0.35289040207862854, -0.6827311515808105, -0.901677131652832, -0.9130509495735168, -1.0609105825424194, -1.1177796125411987, -1.2372047901153564, -1.5130199193954468, -1.4646811485290527, -1.274169683456421, -0.7623478770256042, -0.7083222270011902, -1.4106554985046387, -2.5821588039398193, -3.2276227474212646, -2.9262166023254395, -2.4342992305755615, -2.385960340499878, -2.8608171939849854, -3.4636294841766357, -3.7422878742218018, -3.688262462615967, -3.4494121074676514, -3.082606554031372, -2.6674623489379883, -2.5650980472564697, -2.53666353225708, -2.3376216888427734, -1.7319658994674683, -1.2883869409561157, -1.1376838684082031, -1.211613655090332, -1.089345097541809, -0.844808042049408, -0.4979065954685211, -0.27327367663383484, -0.716852605342865, -0.9500158429145813, -1.1007189750671387, -0.8703991174697876, -0.4950631260871887, -0.6144882440567017, -1.0068849325180054, -1.7120617628097534, -2.181231737136841, -2.2978134155273438, -2.1158323287963867, -2.053276300430298, -2.235257387161255, -2.6589319705963135, -3.338517427444458, -3.1394755840301514, -2.280752658843994, -1.5357675552368164, -0.5234977006912231, -0.034423526376485825, 0.4745548367500305, 0.875481903553009, 1.5465370416641235, 1.8280390501022339, 2.0100200176239014, 2.240339994430542, 2.8971779346466064, 3.57676362991333, 3.770118474960327, 3.8810133934020996, 3.5995113849639893, 3.0677852630615234, 2.4166340827941895, 2.143662452697754, 2.305739402770996, 2.561650276184082, 2.260244131088257, 1.444172739982605, 0.872638463973999, 0.386407732963562, 0.26129573583602905, 0.05372355878353119, 0.09068846702575684, -0.051484256982803345, -0.0969795286655426, -0.08276225626468658, -0.19365696609020233, -0.1737527996301651, -0.19934387505054474, -0.4808458685874939, -0.5178107619285583, -0.8959901928901672, -0.9812938570976257, -1.0324760675430298, -1.023945689201355, -1.3566298484802246, -1.8485475778579712, -2.431455612182617, -2.5850021839141846, -2.6504015922546387, -2.8096351623535156, -2.8864083290100098, -2.84660005569458, -2.3688995838165283, -2.1328928470611572, -1.8115825653076172, -1.6296014785766602, -1.3964382410049438, -1.0808147192001343, -0.7481305599212646, -0.14247480034828186, 0.28119993209838867, 0.6337882876396179, 0.7389960885047913, 0.5484846234321594, 0.25845229625701904, 0.19020937383174896, 0.32953864336013794, 0.28119993209838867, -0.02304970845580101, -0.7026352882385254, -1.1433707475662231, -1.2485785484313965, -1.2969173192977905, -1.4476203918457031, -1.8229564428329468, -2.121519088745117, -2.303500175476074, -2.5508806705474854, -2.803948163986206, -2.792574405670166, -2.7954177856445312, -2.8750345706939697, -3.091136932373047, -2.502542018890381, -1.8485475778579712, -0.7964693307876587, -0.005988983437418938, 0.4432768225669861, 0.8612646460533142, 1.4185817241668701, 1.8564735651016235, 2.132288694381714, 2.402416944503784, 2.882960557937622, 3.298105239868164, 3.7388405799865723, 3.9236650466918945, 3.9464128017425537, 3.6905019283294678, 3.1075937747955322, 2.655484199523926, 2.4479122161865234, 2.6981360912323, 2.570180654525757, 2.302896022796631, 1.9503076076507568, 1.5977191925048828, 1.1797314882278442, 0.9039164185523987, 0.6366317272186279, 0.41484227776527405, 0.32669520378112793, 0.18167901039123535, 0.3124779164791107, 0.2214873731136322, 0.17030519247055054, -0.0969795286655426, -0.25905641913414, -0.5178107619285583, -0.7054787874221802, -0.7964693307876587, -0.978450357913971, -1.387907862663269, -1.9821898937225342, -1.9821898937225342, -1.862764835357666, -1.4163423776626587, -0.8903033137321472, -0.8277472853660583, -0.9983545541763306, -1.3680036067962646, -1.1007189750671387, -0.244839146733284, 0.3181648254394531, 0.8527342677116394, 1.0858975648880005, 1.2223833799362183, 1.375929832458496, 1.390147089958191, 1.461233377456665, 1.432798981666565, 1.006280779838562, 0.696344256401062, 0.2243308275938034, 0.08215810358524323, -0.3216124176979065, -0.6571400165557861, -1.4959591627120972, -2.320560932159424, -3.1309452056884766, -3.304395914077759, -3.284491777420044, -2.9489641189575195, -2.6816797256469727, -2.769826650619507, -2.909156084060669, -3.48922061920166, -3.8361220359802246, -3.753661870956421, -3.3754823207855225, -2.8181655406951904, -2.408708095550537, -2.4883248805999756, -2.2750656604766846, -1.814426064491272, -1.2997606992721558, -0.9102074503898621, -0.1737527996301651, 0.7077180743217468, 1.2394440174102783, 1.1854184865951538, 1.427112102508545, 1.7143008708953857, 2.2545571327209473, 2.541746139526367, 2.860213041305542, 3.1530890464782715, 3.124654531478882, 2.9739513397216797, 2.7066664695739746, 2.4166340827941895, 1.9929593801498413, 1.6034061908721924, 1.461233377456665, 1.3531821966171265, 1.176888108253479, 0.7247788310050964, 0.35797318816185, -0.2647433280944824, -0.9357985854148865, -1.0722843408584595, -1.0154153108596802, -0.9215812683105469, -0.9699200391769409, -1.2514220476150513, -1.4362465143203735, -1.6438188552856445, -1.632444977760315, -1.751870036125183, -1.638131856918335, -1.7006878852844238, -1.6495057344436646, -1.814426064491272, -1.8769820928573608, -1.8513909578323364, -1.399281620979309, -0.9869807362556458, -0.6827311515808105, -0.5547756552696228, -0.35289040207862854, 0.013915197923779488, 0.2129570096731186, 0.7816479206085205, 1.1854184865951538, 1.5920323133468628, 1.6972401142120361, 1.6887097358703613, 1.765483021736145, 1.5863454341888428, 1.2764089107513428, 0.9949069619178772, 0.2101135551929474, -0.26189985871315, -0.5746798515319824, -0.6173316836357117, -0.9301116466522217, -1.6409753561019897, -2.4143948554992676, -2.83522629737854, -2.985929012298584, -2.815321922302246, -2.3063437938690186, -1.8400171995162964, -1.1604315042495728, -0.7396002411842346, -0.8931467533111572, -0.9613896608352661, -0.9102074503898621, -0.4097594916820526, 0.3124779164791107, 0.6224144697189331, 0.9181337356567383, 0.5484846234321594, -0.15953552722930908, -0.44956785440444946, -0.1794397085905075, 0.7873347997665405, 1.5806585550308228, 1.7683265209197998, 1.637527585029602, 1.3617125749588013, 1.321904182434082, 1.4726072549819946, 1.8792212009429932, 2.2460267543792725, 2.615675926208496, 2.880117177963257, 3.010916233062744, 3.24407958984375, 3.372035026550293, 3.136028289794922, 2.66970157623291, 2.2858352661132812, 2.1266016960144043, 2.325643539428711, 2.143662452697754, 1.7797002792358398, 1.0347152948379517, 0.2783564627170563, -0.13963134586811066, -0.4808458685874939, -0.668513834476471, -0.7452871203422546, -0.907364010810852, -1.1888660192489624, -1.3225083351135254, -1.4106554985046387, -1.328195333480835, -1.6750967502593994, -1.8940428495407104, -1.7945219278335571, -1.6551926136016846, -1.3310387134552002, -1.217300534248352, -1.2571089267730713, -1.265639305114746, -1.2827000617980957, -1.0182586908340454, -0.412602961063385, 0.050880104303359985, 0.7645871639251709, 1.2735655307769775, 1.4697637557983398, 1.2934696674346924, 1.0034373998641968, 0.9096033573150635, 1.065993309020996, 0.9494116902351379, 0.8271431922912598, 0.3721904754638672, -0.543401837348938, -1.3623167276382446, -1.9622857570648193, -2.374586582183838, -2.84660005569458, -3.3243002891540527, -3.3442044258117676, -3.4949073791503906, -3.3840126991271973, -3.21909236907959, -3.1508495807647705, -2.9404337406158447, -2.5167593955993652, -1.9025731086730957, -1.4021251201629639, -0.6884180307388306, -0.0998229831457138, 0.34659937024116516, 0.7589002847671509, 0.9949069619178772, 0.9920635223388672, 0.7077180743217468, 0.4432768225669861, 0.3067910075187683, 0.06794083118438721, -0.034423526376485825, 0.08215810358524323, 0.218643918633461, 0.2129570096731186, 0.42337265610694885, 0.4574941098690033, 0.7190918922424316, 0.7702741026878357, 1.188261866569519, 1.3361215591430664, 1.8564735651016235, 2.37113881111145, 2.8772737979888916, 3.2838878631591797, 3.2611403465270996, 3.3151657581329346, 2.8886475563049316, 2.655484199523926, 2.476346731185913, 2.120914936065674, 1.8678474426269531, 1.5692846775054932, 1.250817894935608, 0.7475264668464661, 0.07931464910507202, -0.4666285812854767, -0.7396002411842346, -1.1206231117248535, -1.1206231117248535, -1.211613655090332, -1.0808147192001343, -1.1860225200653076, -1.4959591627120972, -1.339569091796875, -1.103562355041504, -0.8078431487083435, -0.5490887761116028, -0.4211333096027374, -0.2647433280944824, -0.3159255087375641, -0.2533695101737976, -0.08844916522502899, 0.08784501254558563, 0.34375593066215515, 1.3474953174591064, 2.4194774627685547, 2.8232481479644775, 2.5787110328674316, 1.7768568992614746, 1.1058017015457153, 0.9522551894187927, 0.9579420685768127, 1.1712011098861694, 0.7731175422668457, 0.10774919390678406, -0.4637851417064667, -1.7205920219421387, -2.439985990524292, -3.0655457973480225, -3.2987091541290283, -3.466472864151001, -3.2987091541290283, -2.9773988723754883, -2.7044272422790527, -2.439985990524292, -2.161327600479126, -1.8400171995162964, -1.7888349294662476, -1.456150770187378, -1.211613655090332, -0.244839146733284, 0.6565359234809875, 1.8280390501022339, 2.305739402770996, 2.120914936065674, 1.6545883417129517, 1.1854184865951538, 1.0375587940216064, 1.1712011098861694, 1.3389649391174316, 1.0148111581802368, 0.2868868410587311, -0.28749096393585205, -0.35573387145996094, 0.1418706476688385, 0.9835331439971924, 1.6204668283462524, 1.6972401142120361, 1.8593170642852783, 2.186314344406128, 2.7578487396240234, 3.0905330181121826, 3.2924182415008545, 3.4971468448638916, 3.9208216667175293, 4.324592113494873, 4.5748162269592285, 4.924561023712158, 4.284783840179443, 3.5909810066223145, 2.7720658779144287, 2.0782630443573, 1.6830228567123413, 1.304843544960022, 1.006280779838562, 0.3807208240032196, -0.4723154902458191, -1.3680036067962646, -1.9878767728805542, -2.7470791339874268, -2.8067915439605713, -2.675992727279663, -2.366056203842163, -2.024841785430908, -2.118675708770752, -1.948068380355835, -2.033372163772583, -1.9111034870147705, -1.4362465143203735, -0.8391211032867432, -0.4666285812854767, -0.12541407346725464, 0.3721904754638672, 0.6451621055603027, 0.8328300714492798, 0.9949069619178772, 1.2593482732772827, 1.1683577299118042, 1.0858975648880005, 1.1313928365707397, 0.8413604497909546, 0.2158004641532898, -0.719696044921875, -1.2713261842727661, -2.0788674354553223, -2.502542018890381, -2.8096351623535156, -3.0001463890075684, -3.531872272491455, -4.114780426025391, -4.4019694328308105, -4.544142246246338, -4.427560329437256, -3.966920852661133, -3.457942485809326, -2.8864083290100098, -2.0191547870635986, -1.3225083351135254, -0.725382924079895, -0.4069160521030426, 0.1304968297481537, 0.875481903553009, 1.771169900894165, 2.1521928310394287, 2.558806896209717, 2.464972734451294, 2.3825125694274902, 2.186314344406128, 1.9844290018081665, 1.7086139917373657, 0.9607855081558228, 0.41484227776527405, -0.06854498386383057, -0.4836893081665039, -0.7367567420005798, -0.8135300278663635, -0.719696044921875, -0.5689929723739624, -0.13678789138793945, 0.17883555591106415, 0.818612813949585, 1.1740446090698242, 1.3020000457763672, 1.631840705871582, 1.9076557159423828, 2.550276517868042, 3.332226514816284, 3.7758054733276367, 3.8895437717437744, 3.6563804149627686, 3.116124153137207, 2.9170823097229004, 2.68107533454895, 2.6441104412078857, 2.2801482677459717, 1.3617125749588013, 0.7844913601875305, -0.10835334658622742, -0.9329550862312317, -1.504489541053772, -1.8229564428329468, -2.1357364654541016, -2.0504326820373535, -1.9736595153808594, -1.9594422578811646, -1.9054166078567505, -1.868451714515686, -1.456150770187378, -1.0182586908340454, -0.25905641913414, 0.49161556363105774, 1.074523687362671, 1.0972713232040405, 1.2820959091186523, 1.364556074142456, 1.5550674200057983, 1.765483021736145, 1.8308825492858887, 2.0242373943328857, 2.0213940143585205, 1.7313616275787354, 0.8868557214736938, -0.13110098242759705, -0.6542965769767761, -1.0495367050170898, -1.3765339851379395, -1.9935636520385742, -2.52528977394104, -3.048485040664673, -3.358421564102173, -3.765035629272461, -3.7366011142730713, -3.702479600906372, -3.4209775924682617, -3.167910099029541, -2.812478542327881, -2.2324137687683105, -1.686470627784729, -1.222987413406372, -0.719696044921875, -0.0998229831457138, 0.2783564627170563, 0.8641080856323242, 1.1569838523864746, 1.4981982707977295, 1.7086139917373657, 1.7398920059204102, 1.7967610359191895, 1.5692846775054932, 1.3361215591430664, 1.080210566520691, 0.7589002847671509, 0.5257369875907898, 0.1447141021490097, -0.5888971090316772, -1.6153842210769653, -2.5395069122314453, -2.8494434356689453, -2.6674623489379883, -1.9992506504058838, -1.2343612909317017, -0.9670765399932861, -0.9613896608352661, -0.7282264232635498, -0.0969795286655426, 0.48592865467071533, 1.054619550704956, 1.936090350151062, 2.8232481479644775, 3.4431214332580566, 3.662067413330078, 3.809926986694336, 3.7814924716949463, 3.306635618209839, 2.891490936279297, 2.34839129447937, 1.9133427143096924, 1.626153826713562, 1.3361215591430664, 0.4745548367500305, -0.5092803835868835, -1.504489541053772, -1.9111034870147705, -2.363212823867798, -2.5537242889404297, -2.619123697280884, -2.599219560623169, -2.8323826789855957, -2.5110723972320557, -1.9111034870147705, -1.4589942693710327, -0.8846163749694824, -0.4865327775478363, 0.036662835627794266, 0.3920946419239044, 0.9408813714981079, 1.5579109191894531, 1.9815856218338013, 2.092480182647705, 2.046984910964966, 1.9787421226501465, 1.9815856218338013, 1.9161860942840576, 1.6119364500045776, 1.1911053657531738, 0.3039475679397583, -0.540558397769928, -0.9557027220726013, -1.4760550260543823, -1.8883558511734009, -2.2978134155273438, -2.6049063205718994, -2.9773988723754883, -3.0854499340057373, -3.0342679023742676, -2.7669832706451416, -2.5935325622558594, -2.107301950454712, -1.515863299369812, -1.1376838684082031, -0.5178107619285583, 0.3153213858604431, 1.1143320798873901, 1.4583899974822998, 2.1066975593566895, 2.7720658779144287, 3.042194366455078, 3.039350748062134, 2.8971779346466064, 2.8971779346466064, 2.891490936279297, 2.882960557937622, 2.6839187145233154, 2.103854179382324, 1.2707220315933228, 0.7077180743217468, -0.2476826012134552, -1.0665974617004395, -1.6836271286010742, -2.110145330429077, -2.6162803173065186, -2.911999225616455, -2.7243313789367676, -2.22672700881958, -1.9082601070404053, -1.5329240560531616, -1.1007189750671387, -0.722539484500885, -0.4723154902458191, -0.03726698085665703, 0.6764400601387024, 1.5635977983474731, 2.035611152648926, 2.4166340827941895, 2.499094247817993, 2.518998384475708, 2.496250867843628, 2.541746139526367, 2.3313305377960205, 2.1408190727233887, 1.8905950784683228, 1.3304345607757568, 0.690657377243042, -0.06285807490348816, -0.387011855840683, -0.8135300278663635, -1.095031976699829, -1.4106554985046387, -1.4732115268707275, -1.686470627784729, -1.7831480503082275, -1.6011669635772705, -1.515863299369812, -0.9244247674942017, -0.35004696249961853, 0.11627955734729767, 0.5285804271697998, 0.821456253528595, 1.2792524099349976, 1.4242686033248901, 1.6147799491882324, 1.6972401142120361, 1.705770492553711, 1.8024479150772095, 1.8024479150772095, 1.6233103275299072, 1.128549337387085, 0.33806902170181274, -0.543401837348938, -1.041006326675415, -1.6153842210769653, -1.9224773645401, -2.0504326820373535, -2.2949697971343994, -2.6589319705963135, -2.8096351623535156, -2.4428296089172363, -2.184075117111206, -1.8002088069915771, -1.6068538427352905, -1.4902722835540771, -1.3480994701385498, -1.023945689201355, -0.3187689483165741, 0.41484227776527405, 0.7674306035041809, 1.182574987411499, 1.1967922449111938, 1.3332780599594116, 1.523789405822754, 1.7342050075531006, 1.8365694284439087, 1.5863454341888428, 1.432798981666565, 1.2707220315933228, 1.2138530015945435, 1.1257058382034302, 1.0091242790222168, 0.2868868410587311, -0.5775232911109924, -1.2087701559066772, -1.5357675552368164, -1.6068538427352905, -1.760400414466858, -2.056119680404663, -2.1755447387695312, -2.2551615238189697, -2.3177175521850586, -2.309187173843384, -1.9821898937225342, -1.8883558511734009, -1.8513909578323364, -1.558515191078186, -1.1263099908828735, -0.9414854645729065, -0.725382924079895, -0.7140091061592102, -0.5576191544532776, -0.5121238827705383, -0.23630878329277039, 0.04519319906830788, 0.23570464551448822, 0.2243308275938034, 0.1390271931886673, -0.0031455284915864468, 0.17883555591106415, 0.5029893517494202, 0.9522551894187927, 1.0972713232040405, 1.0034373998641968, 0.881168782711029, 0.6878138780593872, 0.6138840913772583, 0.7532133460044861, 0.9579420685768127, 1.1313928365707397, 1.1456100940704346, 1.1143320798873901, 1.1200189590454102, 1.304843544960022, 1.3617125749588013, 1.3617125749588013, 1.0148111581802368, 0.8840122818946838, 0.5968233346939087, 0.3608166575431824, 0.25560882687568665, 0.17030519247055054, -0.04864080250263214, -0.27043023705482483, -0.5604625940322876, -0.6827311515808105, -0.8135300278663635, -0.9102074503898621, -0.7964693307876587, -0.6542965769767761, -0.37848150730133057, 0.12765337526798248, 0.5598584413528442, 0.7702741026878357, 1.0915844440460205, 1.1598273515701294, 1.370242953300476, 1.4214251041412354, 1.4555466175079346, 1.4953548908233643, 1.5664411783218384, 1.4726072549819946, 1.3418084383010864, 1.2735655307769775, 1.1626708507537842, 0.9636290073394775, 0.6394751667976379, 0.49445900321006775, 0.4688679277896881, 0.5882930159568787, 0.6138840913772583, 0.6451621055603027, 0.505832850933075, 0.34944283962249756, 0.35512974858283997, 0.2783564627170563, 0.4717113673686981, 0.5257369875907898, 0.5029893517494202, 0.511519730091095, 0.7788044214248657, 0.8669515252113342, 0.9209771752357483, 0.6337882876396179, 0.4546506404876709, 0.17883555591106415, -0.008832437917590141, -0.12541407346725464, -0.23630878329277039, -0.5178107619285583, -0.7282264232635498, -1.1547445058822632, -1.2969173192977905, -1.3082910776138306, -1.3537863492965698, -1.387907862663269, -1.4902722835540771, -1.3765339851379395, -1.3026041984558105, -1.0637539625167847, -0.841964602470398, -0.7651913166046143, -0.7310698628425598, -0.7936258316040039, -0.5206542015075684, -0.3329862356185913, -0.11688371002674103, 0.019602106884121895, 0.12196646630764008, 0.25276538729667664, 0.5769191980361938, 0.8498908281326294, 1.0404022932052612, 1.2593482732772827, 1.316217303276062, 1.321904182434082, 1.1626708507537842, 1.1598273515701294, 0.9295075535774231, 0.6394751667976379, 0.09637537598609924, -0.29602131247520447, -0.725382924079895, -0.9471724033355713, -1.1945528984069824, -1.7092182636260986, -2.1442668437957764, -2.300656795501709, -2.417238473892212, -2.2181966304779053, -2.098771572113037, -1.9025731086730957, -1.4959591627120972, -1.0211021900177002, -0.4040725827217102, -0.11688371002674103, 0.4375899136066437, 0.6451621055603027, 0.6849704384803772, 0.5911364555358887, 0.6849704384803772, 0.9181337356567383, 1.1399232149124146, 1.054619550704956, 0.8385170102119446, 0.43190300464630127, 0.065097376704216, -0.19365696609020233, -0.35857731103897095, -0.6514531373977661, -0.9699200391769409, -1.2428916692733765, -1.5499848127365112, -1.552828311920166, -1.5471413135528564, -1.4675246477127075, -1.4362465143203735, -1.456150770187378, -1.4078119993209839, -1.0495367050170898, -0.8106865882873535, -0.5178107619285583, -0.23062187433242798, 0.0224455613642931, 0.059410467743873596, 0.01675865240395069, 0.19305282831192017, 0.3892512023448944, 0.41484227776527405, 0.3949381113052368, 0.4375899136066437, 0.26982611417770386, 0.2300177365541458, 0.1418706476688385, -0.011675892397761345, -0.3073951303958893, -0.35857731103897095, -0.35857731103897095, -0.4865327775478363, -0.6742007732391357, -0.7282264232635498, -0.844808042049408, -1.1689618825912476, -1.3225083351135254, -1.285543441772461, -1.0694409608840942, -0.844808042049408, -0.6059578657150269, -0.5576191544532776, -0.23062187433242798, 0.10206228494644165, 0.6565359234809875, 0.8697949647903442, 1.2906262874603271, 1.6460579633712769, 2.08963680267334, 2.4393818378448486, 2.655484199523926, 2.7180402278900146, 2.4934074878692627, 2.1066975593566895, 1.8536301851272583, 1.6090930700302124, 1.2877827882766724, 0.6508489847183228, 0.2897302806377411, -0.5178107619285583, -1.1888660192489624, -1.4589942693710327, -1.7831480503082275, -1.9679726362228394, -2.2437877655029297, -2.4769508838653564, -2.5736284255981445, -2.4968550205230713, -2.24947452545166, -1.820112943649292, -1.5784193277359009, -1.4874287843704224, -1.2940738201141357, -1.1433707475662231, -0.907364010810852, -0.6116447448730469, -0.4182898700237274, -0.3272993266582489, -0.3073951303958893, -0.18512660264968872, -0.11119680106639862, -0.034423526376485825, -0.017362801358103752, 0.025289015844464302, -0.26189985871315, -0.27896058559417725, -0.22493496537208557, -0.025893162935972214, 0.11343610286712646, 0.23286119103431702, 0.4546506404876709, 0.4404333829879761, 0.34375593066215515, 0.18452246487140656, -0.008832437917590141, -0.13394443690776825, -0.21924805641174316, -0.1709093451499939, -0.27327367663383484, -0.35857731103897095, -0.5689929723739624, -0.8249038457870483, -1.157588005065918, -1.0609105825424194, -0.8988336324691772, -0.7481305599212646, -0.44388094544410706, -0.3329862356185913, -0.051484256982803345, 0.17030519247055054, 0.2271742820739746, 0.3096344769001007, 0.40346845984458923, 0.5911364555358887, 0.997750461101532, 1.1257058382034302, 1.2906262874603271, 1.0318719148635864, 0.5854495167732239, 0.2954171895980835, 0.03097592480480671, -0.18228314816951752, -0.1680658906698227, -0.2562129497528076, -0.35289040207862854, -0.594584047794342, -0.8362776637077332, -0.7794085741043091, -0.6315489411354065, -0.3926987648010254, -0.060014620423316956, 0.06794083118438721, 0.1304968297481537, 0.42052918672561646, 0.5968233346939087, 0.6081971526145935, 0.7589002847671509, 0.6849704384803772, 0.8413604497909546, 1.0830540657043457, 1.1427665948867798, 1.3076869249343872, 1.438485860824585, 1.4100513458251953, 1.256504774093628, 0.997750461101532, 0.6622228026390076, 0.511519730091095, 0.35512974858283997, 0.32385173439979553, 0.20158319175243378, 0.005384834948927164, -0.19365696609020233, -0.5291845798492432, -0.8590252995491028, -1.3111345767974854, -1.584106206893921, -1.766087293624878, -1.8457040786743164, -1.803052306175232, -1.6352884769439697, -1.4078119993209839, -1.1405272483825684, -1.0381629467010498, -0.9699200391769409, -0.8988336324691772, -0.7907823920249939, -0.35857731103897095, 0.1418706476688385, 0.5172066688537598, 1.0233415365219116, 1.4100513458251953, 1.626153826713562, 1.7398920059204102, 1.7199877500534058, 1.6972401142120361, 1.5635977983474731, 1.4925113916397095, 1.4953548908233643, 1.250817894935608, 0.9607855081558228, 0.5882930159568787, 0.03381938114762306, -0.7026352882385254, -1.2315177917480469, -1.5755759477615356, -1.8457040786743164, -2.0504326820373535, -1.9821898937225342, -1.9651291370391846, -1.751870036125183, -1.5329240560531616, -1.265639305114746, -1.0154153108596802, -0.8078431487083435, -0.5291845798492432, -0.005988983437418938, 0.34944283962249756, 0.8470473289489746, 1.2223833799362183, 1.4839810132980347, 1.4185817241668701, 1.5010417699813843, 1.3816168308258057, 1.2536612749099731, 1.256504774093628, 1.176888108253479, 1.0233415365219116, 0.8015520572662354, 0.33522555232048035, -0.051484256982803345, -0.5746798515319824, -1.0552237033843994, -1.564202070236206, -1.8428605794906616, -2.366056203842163, -2.801104784011841, -2.86934757232666, -2.866504192352295, -2.6361844539642334, -2.3177175521850586, -2.184075117111206, -2.0902411937713623, -1.8513909578323364, -1.820112943649292, -1.4390900135040283, -1.205926775932312, -0.5604625940322876, -0.000302074127830565, 0.6053537130355835, 1.048932671546936, 1.6631187200546265, 1.8308825492858887, 1.9133427143096924, 1.9247164726257324, 1.813821792602539, 1.7313616275787354, 1.700083613395691, 1.6062495708465576, 1.5209459066390991, 0.9522551894187927, 0.4773982763290405, 0.15893137454986572, -0.384168416261673, -0.8988336324691772, -1.3537863492965698, -1.5300806760787964, -1.7234355211257935, -1.7859915494918823, -1.7774611711502075, -1.6694098711013794, -1.6409753561019897, -1.686470627784729, -1.6040104627609253, -1.4504637718200684, -1.109249234199524, -0.7850955128669739, -0.415446400642395, -0.19365696609020233, 0.03950629010796547, 0.2897302806377411, 0.40915536880493164, 0.8498908281326294, 0.9096033573150635, 1.0460891723632812, 0.9323509931564331, 0.7190918922424316, 0.6565359234809875, 0.49445900321006775, 0.3153213858604431, 0.0224455613642931, -0.10835334658622742, -0.36142078042030334, -0.6201751232147217, -0.8817729353904724, -1.077971339225769, -0.9869807362556458, -0.8192169666290283, -0.5775232911109924, -0.37848150730133057, 0.01675865240395069, 0.2101135551929474, 0.4688679277896881, 0.5911364555358887, 0.9522551894187927, 1.1683577299118042, 1.7455788850784302, 2.08963680267334, 2.484877109527588, 2.612832546234131, 2.6867623329162598, 2.655484199523926, 2.624206304550171, 2.456442356109619, 2.217592239379883, 1.7484222650527954, 1.4896680116653442, 0.7930217385292053, 0.1475575566291809, -0.35289040207862854, -0.847651481628418, -1.4732115268707275, -2.161327600479126, -2.812478542327881, -3.1394755840301514, -3.443725347518921, -3.369795560836792, -2.8096351623535156, -2.54803729057312, -1.9651291370391846, -1.4504637718200684, -1.023945689201355, -0.7140091061592102, -0.3898553252220154, 0.19305282831192017, 1.048932671546936, 1.6147799491882324, 2.41094708442688, 3.2952616214752197, 3.7729620933532715, 4.139767646789551, 4.208010673522949, 4.091428756713867, 3.7814924716949463, 3.562546491622925, 3.127497911453247, 2.7692224979400635, 2.476346731185913, 1.936090350151062, 1.4527031183242798, 0.48877209424972534, -0.5832102298736572, -1.6466622352600098, -2.2949697971343994, -2.923373222351074, -3.1622233390808105, -3.148005962371826, -3.0882935523986816, -2.7868874073028564, -2.7101142406463623, -2.4854812622070312, -2.2864394187927246, -2.0362155437469482, -1.5414544343948364, -0.907364010810852, -0.4780023992061615, 0.24707846343517303, 1.0432456731796265, 1.5977191925048828, 1.839412808418274, 1.7882306575775146, 1.7825437784194946, 1.5351632833480835, 1.375929832458496, 1.3873037099838257, 1.5522239208221436, 1.6005626916885376, 1.461233377456665, 0.9323509931564331, 0.514363169670105, 0.07931464910507202, -0.29602131247520447, -0.6315489411354065, -0.722539484500885, -0.6059578657150269, -0.5689929723739624, -0.45809823274612427, -0.21924805641174316, 0.08500155806541443, 0.40346845984458923, 0.34375593066215515, 0.6536924242973328, 1.080210566520691, 1.6688055992126465, 1.9446207284927368, 2.4166340827941895, 2.8744301795959473, 2.8772737979888916, 2.8005003929138184, 2.570180654525757, 2.2915220260620117, 2.3000524044036865, 2.197688102722168, 1.9872725009918213, 1.4839810132980347, 0.9067599177360535, 0.42052918672561646, -0.28749096393585205, -0.9443289041519165, -1.5073330402374268, -1.9082601070404053, -2.533820152282715, -3.091136932373047, -3.767879009246826, -3.884460687637329, -3.7820963859558105, -3.273118019104004, -2.479794502258301, -2.0191547870635986, -1.4277161359786987, -0.7481305599212646, -0.35004696249961853, -0.011675892397761345, 0.6081971526145935, 1.4100513458251953, 2.08963680267334, 2.6640145778656006, 3.3379135131835938, 3.767275094985962, 3.9122912883758545, 3.7502143383026123, 3.4289040565490723, 2.8147177696228027, 2.155036211013794, 1.705770492553711, 1.4072078466415405, 1.0204980373382568, 0.41484227776527405, -0.537714958190918, -1.1718052625656128, -2.0817108154296875, -2.89778208732605, -3.2816483974456787, -3.4067604541778564, -3.2987091541290283, -3.008676767349243, -2.3888039588928223, -2.121519088745117, -1.3964382410049438, -0.8618687391281128, -0.15953552722930908, 0.1418706476688385, 0.9494116902351379, 1.6801793575286865, 2.561650276184082, 3.0166032314300537, 3.701875686645508, 4.0828986167907715, 4.304687976837158, 4.244975566864014, 4.062994480133057, 3.770118474960327, 3.4289040565490723, 3.1872103214263916, 2.8630564212799072, 2.3512346744537354, 1.7342050075531006, 1.054619550704956, 0.3665035665035248, -0.44103750586509705, -1.1149362325668335, -1.6665664911270142, -1.9708160161972046, -2.0703370571136475, -2.0788674354553223, -2.0930845737457275, -1.9395381212234497, -1.5414544343948364, -1.1803356409072876, -0.6372358798980713, -0.28749096393585205, 0.49161556363105774, 1.2024791240692139, 1.8849080801010132, 2.328486919403076, 3.0023858547210693, 3.4772427082061768, 3.844048500061035, 3.86395263671875, 3.7758054733276367, 3.6364762783050537, 3.684814929962158, 3.457338571548462, 2.8658998012542725, 2.081106424331665, 1.4185817241668701, 0.8442038893699646, -0.04011043533682823, -0.8078431487083435, -1.4788984060287476, -1.9793463945388794, -3.0314242839813232, -3.7820963859558105, -4.012416362762451, -3.978294610977173, -3.486377000808716, -2.9688684940338135, -2.1670143604278564, -1.4845854043960571, -1.109249234199524, -0.8078431487083435, -0.2391522377729416, 0.35512974858283997, 0.9266640543937683, 1.9048123359680176, 2.848839282989502, 3.6961886882781982, 3.9037609100341797, 3.9464128017425537, 3.8042399883270264, 3.27820086479187, 3.0450377464294434, 2.5900847911834717, 2.0213940143585205, 1.5351632833480835, 1.0716803073883057, 0.25276538729667664, -0.8334342241287231, -1.9253207445144653, -2.6674623489379883, -3.412447214126587, -4.018103122711182, -4.128997802734375, -3.981138229370117, -3.8105309009552, -3.4693164825439453, -3.1423192024230957, -2.85797381401062, -2.331934690475464, -1.584106206893921, -0.7481305599212646, -0.017362801358103752, 0.7731175422668457, 1.5408501625061035, 2.2460267543792725, 2.6753885746002197, 3.039350748062134, 3.3037919998168945, 3.3862521648406982, 3.4232170581817627, 3.2895748615264893, 3.064941883087158, 2.7606921195983887, 2.445068597793579, 1.887751579284668, 1.2280702590942383, 0.28119993209838867, -0.44388094544410706, -0.9301116466522217, -1.4845854043960571, -1.9395381212234497, -2.292126417160034, -2.630497455596924, -2.792574405670166, -2.8096351623535156, -2.5736284255981445, -2.3177175521850586, -1.6750967502593994, -0.8903033137321472, -0.060014620423316956, 0.4660244584083557, 1.4839810132980347, 2.2915220260620117, 3.0905330181121826, 3.4118432998657227, 3.906604290008545, 4.057307243347168, 4.119863510131836, 4.085741996765137, 3.824144124984741, 3.3549742698669434, 2.6611711978912354, 2.004333257675171, 1.065993309020996, 0.036662835627794266, -0.8163734674453735, -1.399281620979309, -2.044745922088623, -2.792574405670166, -3.4494121074676514, -4.097719669342041, -4.390595436096191, -4.802896499633789, -4.913791179656982, -4.43609094619751, -3.713853359222412, -2.758452892303467, -1.5613585710525513, -0.6173316836357117, -0.18797005712985992, 0.34375593066215515, 0.8868557214736938, 1.4839810132980347, 2.143662452697754, 3.0677852630615234, 3.7957096099853516, 4.375774383544922, 4.384304523468018, 4.409895896911621, 3.832674503326416, 3.136028289794922, 2.6213629245758057, 1.9304033517837524, 1.5635977983474731, 0.9494116902351379, 0.4603375494480133, -0.45525476336479187, -1.569888949394226, -2.6162803173065186, -3.1281018257141113, -3.7707226276397705, -4.001042366027832, -3.85033917427063, -3.659827709197998, -3.2475268840789795, -2.749922513961792, -2.2608485221862793, -1.9537553787231445, -1.3480994701385498, -0.4893762171268463, 0.49445900321006775, 1.4555466175079346, 2.007176637649536, 2.6867623329162598, 3.1019067764282227, 3.4089999198913574, 3.684814929962158, 3.9577865600585938, 4.057307243347168, 3.8611090183258057, 3.6478500366210938, 3.2497663497924805, 2.9711079597473145, 2.2346529960632324, 1.6204668283462524, 0.7247788310050964, -0.23630878329277039, -0.9926676750183105, -1.404968500137329, -1.9054166078567505, -2.3404650688171387, -2.6162803173065186, -2.823852300643921, -2.8835649490356445, -2.6504015922546387, -2.121519088745117, -1.5130199193954468, -0.6742007732391357, 0.26129573583602905, 1.006280779838562, 1.4925113916397095, 1.9275599718093872, 2.4194774627685547, 2.891490936279297, 3.2469229698181152, 3.770118474960327, 3.9037609100341797, 3.724623203277588, 3.1132805347442627, 2.68107533454895, 1.808134913444519, 0.9238206148147583, -0.15100516378879547, -0.8277472853660583, -1.7803046703338623, -2.590689182281494, -3.3015525341033936, -3.8048439025878906, -4.544142246246338, -5.380117893218994, -6.2928667068481445, -6.520342826843262, -6.60564661026001, -5.880565643310547, -4.893887042999268, -4.225675106048584, -3.2162489891052246, -2.312030553817749, -1.7262790203094482, -1.4191858768463135, -0.8959901928901672, -0.13394443690776825, 0.6536924242973328, 1.310530424118042, 2.0412981510162354, 2.837465286254883, 3.1985843181610107, 3.3663480281829834, 3.1132805347442627, 2.828934907913208, 2.263087511062622, 2.0128636360168457, 1.4782941341400146, 1.122862458229065, 0.48877209424972534, -0.12257061898708344, -1.095031976699829, -2.24947452545166, -3.199188232421875, -3.853182792663574, -4.137527942657471, -4.17164945602417, -3.8474957942962646, -3.54040265083313, -3.2361531257629395, -2.7641398906707764, -2.24947452545166, -1.5272371768951416, -1.0011980533599854, -0.06285807490348816, 0.9465682506561279, 1.8308825492858887, 2.37113881111145, 2.9711079597473145, 3.4232170581817627, 3.824144124984741, 4.1369242668151855, 4.503729820251465, 4.594720363616943, 4.338809490203857, 4.062994480133057, 3.2270188331604004, 2.4081037044525146, 1.5579109191894531, 1.0517760515213013, 0.4745548367500305, -0.10835334658622742, -0.5007500648498535, -0.8903033137321472, -1.6182277202606201, -2.1755447387695312, -2.599219560623169, -2.5963759422302246, -2.6077499389648438, -1.936694622039795, -1.1206231117248535, -0.4836893081665039, 0.2271742820739746, 0.818612813949585, 1.1655142307281494, 1.4470162391662598, 1.8109782934188843, 2.484877109527588, 3.2582967281341553, 3.9748473167419434, 4.111332893371582, 4.15114164352417, 3.8355181217193604, 3.0052292346954346, 2.4052603244781494, 1.5948758125305176, 0.7048746347427368, -0.011675892397761345, -0.5633060336112976, -1.4248727560043335, -2.2978134155273438, -3.1935012340545654, -3.8361220359802246, -4.635132789611816, -5.334622383117676, -5.692897796630859, -5.789575099945068, -5.99146032333374, -5.775357723236084, -5.08439826965332, -4.356473922729492, -3.2987091541290283, -2.1442668437957764, -1.279856562614441, -0.7452871203422546, -0.12541407346725464, 0.5513280630111694, 1.3929905891418457, 1.9161860942840576, 2.7294139862060547, 3.403312921524048, 3.7274668216705322, 3.8156137466430664, 3.844048500061035, 3.3976261615753174, 2.9625775814056396, 2.103854179382324, 1.5948758125305176, 0.7247788310050964, -0.29317787289619446, -1.1746487617492676, -1.803052306175232, -2.889251947402954, -3.7053229808807373, -4.450308322906494, -5.018999099731445, -5.448360443115234, -5.616124629974365, -5.3744306564331055, -5.127050399780273, -4.672097682952881, -3.8759303092956543, -2.9887726306915283, -2.4684205055236816, -1.5471413135528564, -0.8391211032867432, 0.05656701326370239, 0.5911364555358887, 1.304843544960022, 2.081106424331665, 2.902864694595337, 3.460181951522827, 3.8781697750091553, 3.983377695083618, 3.6251025199890137, 3.2270188331604004, 2.604302167892456, 1.8991254568099976, 1.1655142307281494, 0.7446829676628113, 0.065097376704216, -0.7054787874221802, -1.5755759477615356, -2.3717432022094727, -2.900625705718994, -3.401073455810547, -3.7394444942474365, -3.6541409492492676, -3.5887415409088135, -3.2475268840789795, -2.479794502258301, -1.734809398651123, -1.1774921417236328, -0.534871518611908, 0.16746173799037933, 1.000593900680542, 1.6773359775543213, 2.561650276184082, 3.414686679840088, 3.8042399883270264, 3.88670015335083, 3.8269877433776855, 3.4943034648895264, 3.1075937747955322, 2.786283254623413, 2.081106424331665, 1.2337571382522583, 0.2982606589794159, -0.28749096393585205, -1.2372047901153564, -2.1670143604278564, -3.136632204055786, -3.713853359222412, -4.592480659484863, -5.121363162994385, -5.337465763092041, -5.510916709899902, -5.94596529006958, -6.1421637535095215, -5.667306423187256, -5.2464752197265625, -4.120467662811279, -2.8380696773529053, -1.7916784286499023, -1.0125718116760254, -0.6230185627937317, -0.08560571074485779, 0.8299866318702698, 1.6631187200546265, 2.2773048877716064, 2.9796383380889893, 3.5824506282806396, 3.8611090183258057, 3.8070836067199707, 3.6791279315948486, 3.232705593109131, 2.5900847911834717, 2.135132074356079, 1.5408501625061035, 0.7446829676628113, -0.13110098242759705, -0.8220604062080383, -1.8172695636749268, -2.89778208732605, -3.8873040676116943, -4.234205722808838, -4.6266021728515625, -4.700531959533691, -4.575419902801514, -4.370691299438477, -3.82759165763855, -3.048485040664673, -2.323404312133789, -1.754713535308838, -0.8817729353904724, 0.07362774014472961, 0.8385170102119446, 1.432798981666565, 2.2232792377471924, 3.096219778060913, 3.4971468448638916, 3.7416839599609375, 3.8269877433776855, 3.7644317150115967, 3.57676362991333, 3.298105239868164, 2.988168716430664, 2.4251644611358643, 1.583501935005188, 0.8299866318702698, 0.34375593066215515, -0.45241132378578186, -1.291230320930481, -2.0276851654052734, -2.4143948554992676, -2.9489641189575195, -3.0257375240325928, -2.985929012298584, -2.83522629737854, -2.602062940597534, -2.235257387161255, -1.5187067985534668, -1.0381629467010498, -0.3045516908168793, 0.3949381113052368, 1.1257058382034302, 1.6233103275299072, 2.4706597328186035, 3.26682710647583, 3.9151346683502197, 4.199480056762695, 4.097115993499756, 3.937882423400879, 3.4715559482574463, 3.138871669769287, 2.8346219062805176, 2.197688102722168, 1.572128176689148, 0.9550986289978027, 0.06794083118438721, -0.8703991174697876, -2.098771572113037, -2.889251947402954, -3.7422878742218018, -4.450308322906494, -4.913791179656982, -5.1810760498046875, -5.434143543243408, -5.604750633239746, -5.508073329925537, -4.9678168296813965, -4.41903018951416, -3.457942485809326, -2.5963759422302246, -1.8485475778579712, -1.4390900135040283, -0.8220604062080383, -0.11119680106639862, 0.6622228026390076, 1.2053226232528687, 2.069732666015625, 2.689605712890625, 3.181523561477661, 3.3236961364746094, 3.147402048110962, 2.9312994480133057, 2.592928171157837, 2.2972090244293213, 2.0412981510162354, 1.6346840858459473, 1.1399232149124146, 0.5371108055114746, -0.5462453365325928, -1.515863299369812, -2.374586582183838, -2.718644618988037, -3.1081976890563965, -3.167910099029541, -3.2816483974456787, -3.1281018257141113, -2.92052960395813, -2.5707850456237793, -2.033372163772583, -1.3623167276382446, -0.9215812683105469, -0.14531825482845306, 0.5399542450904846, 1.2138530015945435, 1.657431721687317, 2.174940586090088, 2.7777528762817383, 3.1644628047943115, 3.340756893157959, 3.534111976623535, 3.534111976623535, 3.1331849098205566, 2.8033440113067627, 2.527528762817383, 2.1920011043548584, 1.8308825492858887, 1.4072078466415405, 0.7674306035041809, -0.011675892397761345, -0.6855745911598206, -1.387907862663269, -1.754713535308838, -1.820112943649292, -1.8457040786743164, -1.7149051427841187, -1.5073330402374268, -0.9187378287315369, -0.5803667902946472, -0.4239767789840698, -0.03726698085665703, 0.5882930159568787, 1.2963131666183472, 1.7910741567611694, 2.615675926208496, 3.127497911453247, 3.511364221572876, 3.5597028732299805, 3.6990323066711426, 3.6108851432800293, 3.372035026550293, 3.150245428085327, 2.766378879547119, 2.39957332611084, 1.5749715566635132, 0.5541715621948242, -0.011675892397761345, -0.9983545541763306, -1.9708160161972046, -2.823852300643921, -3.307239532470703, -3.9754512310028076, -4.595324516296387, -5.3317790031433105, -5.599063873291016, -5.655932903289795, -5.400022029876709, -5.047433376312256, -4.595324516296387, -4.015259742736816, -3.412447214126587, -2.758452892303467, -2.374586582183838, -1.5784193277359009, -0.9841372966766357, -0.028736617416143417, 0.48592865467071533, 1.4100513458251953, 2.123758316040039, 2.743631362915039, 2.9483602046966553, 3.1417150497436523, 3.1019067764282227, 2.95689058303833, 2.9170823097229004, 2.774909257888794, 2.484877109527588, 2.0299243927001953, 1.5010417699813843, 0.6536924242973328, -0.15384861826896667, -0.9301116466522217, -1.4703680276870728, -1.6153842210769653, -1.9765030145645142, -1.9537553787231445, -1.9679726362228394, -1.803052306175232, -1.6722533702850342, -1.3225083351135254, -0.844808042049408, -0.5178107619285583, 0.1390271931886673, 0.7674306035041809, 1.523789405822754, 1.9588379859924316, 2.39957332611084, 2.763535499572754, 3.0706288814544678, 3.4203736782073975, 3.5397987365722656, 3.5995113849639893, 3.2924182415008545, 3.053568124771118, 2.655484199523926, 2.092480182647705, 1.577815055847168, 1.3304345607757568, 0.7190918922424316, -0.03158007189631462, -0.8106865882873535, -1.157588005065918, -1.6523491144180298, -1.6893141269683838, -1.5386109352111816, -1.498802661895752, -1.279856562614441, -1.0267890691757202, -0.37563803791999817, -0.04864080250263214, 0.4631810188293457, 1.2138530015945435, 1.7029269933700562, 2.2773048877716064, 2.7464747428894043, 3.4516515731811523, 3.972003936767578, 4.105646133422852, 4.125550270080566, 3.8042399883270264, 3.5397987365722656, 3.3805654048919678, 3.2383925914764404, 2.7379443645477295, 2.0867934226989746, 1.3332780599594116, 0.5826060771942139, -0.2476826012134552, -0.978450357913971, -1.740496277809143, -2.1357364654541016, -2.687366485595703, -3.1167280673980713, -3.2560572624206543, -3.347047805786133, -3.52902889251709, -3.349891185760498, -3.2560572624206543, -2.963181495666504, -2.462733745574951, -1.8400171995162964, -1.222987413406372, -0.7140091061592102, -0.15953552722930908, 0.4745548367500305, 1.0915844440460205, 1.444172739982605, 1.990116000175476, 2.484877109527588, 2.8232481479644775, 3.008072853088379, 3.2184884548187256, 3.2412359714508057, 2.996699094772339, 2.743631362915039, 2.484877109527588, 2.1066975593566895, 1.7768568992614746, 1.3446518182754517, 0.9465682506561279, 0.5541715621948242, -0.020206255838274956, -0.4950631260871887, -0.7936258316040039, -1.095031976699829, -1.2485785484313965, -1.1490576267242432, -1.1007189750671387, -0.9528592824935913, -0.6628269553184509, -0.3358296751976013, -0.19365696609020233, 0.20442664623260498, 0.7105615139007568, 1.236600637435913, 1.4697637557983398, 1.8479431867599487, 1.9815856218338013, 2.2431833744049072, 2.4280078411102295, 2.592928171157837, 2.7805962562561035, 2.646953821182251, 2.5474328994750977, 2.1720969676971436, 1.9844290018081665, 1.6289972066879272, 1.316217303276062, 0.872638463973999, 0.3153213858604431, -0.27043023705482483, -0.8561818599700928, -1.0609105825424194, -1.2485785484313965, -1.3367255926132202, -1.4220292568206787, -1.3424125909805298, -1.3623167276382446, -1.1917095184326172, -0.9983545541763306, -0.9215812683105469, -0.6258620619773865, -0.19081351161003113, 0.3721904754638672, 0.7930217385292053, 1.4015209674835205, 1.5493805408477783, 1.6489014625549316, 1.5977191925048828, 1.7171443700790405, 1.6631187200546265, 1.6545883417129517, 1.7996045351028442, 1.643214464187622, 1.0773671865463257, 0.3124779164791107, -0.16237898170948029, -0.6457661986351013, -1.1831791400909424, -1.7291224002838135, -1.9537553787231445, -2.312030553817749, -2.579315423965454, -2.9773988723754883, -3.2674310207366943, -3.329987049102783, -3.5148117542266846, -3.5148117542266846, -3.5062813758850098, -3.2276227474212646, -3.0001463890075684, -2.877877950668335, -2.5196027755737305, -2.4030210971832275, -2.053276300430298, -1.5243936777114868, -0.9130509495735168, -0.591740608215332, -0.21356114745140076, 0.2158004641532898, 0.4404333829879761, 0.7134050130844116, 1.054619550704956, 1.2991565465927124, 1.2963131666183472, 1.2053226232528687, 1.0915844440460205, 0.9266640543937683, 0.6536924242973328, 0.5882930159568787, 0.3665035665035248, 0.10490573942661285, -0.19650042057037354, -0.28749096393585205, -0.2562129497528076, -0.3329862356185913, -0.3130820393562317, -0.29886478185653687, -0.18797005712985992, 0.011071743443608284, 0.48308518528938293, 0.8868557214736938, 1.193948745727539, 1.523789405822754, 1.7342050075531006, 1.8308825492858887, 2.2119054794311523, 2.5474328994750977, 2.7351009845733643, 2.8886475563049316, 2.9910120964050293, 3.150245428085327, 3.124654531478882, 2.868743419647217, 2.797657012939453, 2.5133116245269775, 2.03845477104187, 1.7427353858947754, 1.5692846775054932, 1.1655142307281494, 0.5968233346939087, 0.03381938114762306, -0.29317787289619446, -0.4979065954685211, -0.5888971090316772, -0.4808458685874939, -0.5661494731903076, -0.4694720506668091, -0.3272993266582489, -0.36995112895965576, -0.22777841985225677, -0.2647433280944824, -0.005988983437418938, 0.34944283962249756, 0.5456411838531494, 1.2223833799362183, 1.7910741567611694, 1.8593170642852783, 1.9815856218338013, 1.893438458442688, 1.8109782934188843, 1.9104992151260376, 1.9787421226501465, 1.9048123359680176, 1.7342050075531006, 1.3332780599594116, 1.0034373998641968, 0.7788044214248657, 0.1304968297481537, -0.16237898170948029, -0.5178107619285583, -0.9102074503898621, -1.2457350492477417, -1.4447768926620483, -1.7006878852844238, -2.1016149520874023, -2.354682445526123, -2.644714832305908, -2.954651117324829, -2.909156084060669, -2.8636608123779297, -2.83522629737854, -2.772670269012451, -2.653245210647583, -2.4257688522338867, -2.2295703887939453, -1.8058956861495972, -1.552828311920166, -1.3708471059799194, -1.279856562614441, -1.0125718116760254, -0.8305907845497131, -0.5519322156906128, -0.3017082214355469, -0.16237898170948029, -0.1765962541103363, -0.20787423849105835, -0.11972716450691223, -0.13110098242759705, -0.19081351161003113, -0.19081351161003113, -0.22777841985225677, -0.3073951303958893, -0.36142078042030334, -0.3301427662372589, -0.2391522377729416, -0.15384861826896667, -0.15953552722930908, -0.03158007189631462, 0.24423500895500183, 0.4802417457103729, 0.699187695980072, 0.9351944327354431, 1.2849392890930176, 1.4726072549819946, 1.6289972066879272, 1.7199877500534058, 1.694396734237671, 1.8422563076019287, 2.015707015991211, 2.03845477104187, 2.092480182647705, 1.9104992151260376, 1.6688055992126465, 1.4242686033248901, 1.3503388166427612, 1.0944279432296753, 0.6849704384803772, 0.5257369875907898, 0.2243308275938034, 0.03381938114762306, -0.3955422341823578, -0.6002709269523621, -0.8135300278663635, -0.9983545541763306, -1.0068849325180054, -1.0097284317016602, -0.8163734674453735, -0.6997918486595154, -0.5860536694526672, -0.44388094544410706, -0.4723154902458191, -0.1794397085905075, 0.16177482903003693, 0.3665035665035248, 0.6878138780593872, 1.0716803073883057, 1.3190608024597168, 1.3673994541168213, 1.3247476816177368, 1.4015209674835205, 1.3787733316421509, 1.1996357440948486, 1.1143320798873901, 0.815769374370575, 0.41768574714660645, 0.09637537598609924, -0.042953889816999435, -0.44672441482543945, -0.8192169666290283, -1.2684826850891113, -1.4874287843704224, -1.879825472831726, -2.1869184970855713, -2.1584839820861816, -2.2750656604766846, -2.5736284255981445, -2.5821588039398193, -2.789731025695801, -2.8949387073516846, -2.889251947402954, -2.7556095123291016, -2.633340835571289, -2.633340835571289, -2.2978134155273438, -2.0618066787719727, -1.814426064491272, -1.6722533702850342, -1.5755759477615356, -1.4191858768463135, -1.3680036067962646, -1.2627958059310913, -1.0324760675430298, -0.9329550862312317, -0.8021562099456787, -0.7936258316040039, -0.841964602470398, -0.9727634787559509, -1.0182586908340454, -0.9528592824935913, -0.8760859966278076, -0.8675556778907776, -0.6742007732391357, -0.5462453365325928, -0.5775232911109924, -0.534871518611908, -0.3386731445789337, -0.13963134586811066, -0.04864080250263214, 0.2214873731136322, 0.571232259273529, 0.9096033573150635, 1.0631499290466309, 1.503885269165039, 1.887751579284668, 1.9645248651504517, 2.135132074356079, 2.2460267543792725, 2.356921672821045, 2.4678163528442383, 2.5787110328674316, 2.5559632778167725, 2.240339994430542, 2.1578798294067383, 2.0213940143585205, 1.6489014625549316, 1.2138530015945435, 0.9550986289978027, 0.8328300714492798, 0.48308518528938293, 0.1418706476688385, -0.13394443690776825, -0.35857731103897095, -0.5576191544532776, -0.7850955128669739, -0.8192169666290283, -0.850494921207428, -0.7651913166046143, -0.5178107619285583, -0.44672441482543945, -0.4040725827217102, -0.2505260407924652, -0.3045516908168793, -0.08276225626468658, 0.3011040985584259, 0.6053537130355835, 0.8328300714492798, 0.9721593260765076, 0.9181337356567383, 0.9778462648391724, 0.9181337356567383, 0.7901782393455505, 0.7446829676628113, 0.7247788310050964, 0.5968233346939087, 0.2982606589794159, 0.1475575566291809, -0.008832437917590141, -0.3272993266582489, -0.6315489411354065, -0.9187378287315369, -0.9443289041519165, -1.0211021900177002, -0.8789294958114624, -0.9955111145973206, -1.1376838684082031, -1.1120927333831787, -1.2258309125900269, -1.2002397775650024, -1.157588005065918, -1.1433707475662231, -0.9670765399932861, -0.9329550862312317, -0.8106865882873535, -0.5490887761116028, -0.5320280194282532, -0.43535059690475464, -0.29317787289619446, -0.2647433280944824, -0.20218732953071594, -0.1765962541103363, -0.060014620423316956, -0.11119680106639862, -0.14247480034828186, -0.3159255087375641, -0.4723154902458191, -0.6144882440567017, -0.6798876523971558, -0.7282264232635498, -0.847651481628418, -0.8163734674453735, -0.9272682070732117, -0.847651481628418, -0.9244247674942017, -0.8903033137321472, -0.9301116466522217, -0.8249038457870483, -0.5860536694526672, -0.43250712752342224, -0.23346532881259918, -0.0998229831457138, 0.20727010071277618, 0.3693470060825348, 0.6707531809806824, 0.8612646460533142, 1.1143320798873901, 1.1797314882278442, 1.375929832458496, 1.4811376333236694, 1.4413293600082397, 1.4925113916397095, 1.3958340883255005, 1.3275911808013916, 1.358869194984436, 1.2337571382522583, 1.1029582023620605, 0.7873347997665405, 0.7020311951637268, 0.49445900321006775, 0.20158319175243378, -0.05717116594314575, -0.20787423849105835, -0.3955422341823578, -0.5092803835868835, -0.5092803835868835, -0.4723154902458191, -0.415446400642395, -0.4012291431427002, -0.2419956922531128, -0.21071769297122955, 0.00822828896343708, 0.15324446558952332, 0.3011040985584259, 0.5200501084327698, 0.7389960885047913, 0.8555777072906494, 1.0375587940216064, 1.080210566520691, 1.2166963815689087, 1.1257058382034302, 1.011967658996582, 1.0688368082046509, 0.9920635223388672, 0.9607855081558228, 0.7219353318214417, 0.5427977442741394, 0.35512974858283997, 0.10206228494644165, -0.21356114745140076, -0.4012291431427002, -0.6400793194770813, -0.7850955128669739, -1.023945689201355, -1.2713261842727661, -1.3310387134552002, -1.3964382410049438, -1.4817419052124023, -1.6096973419189453, -1.697844386100769, -1.6466622352600098, -1.5755759477615356, -1.4589942693710327, -1.4021251201629639, -1.1206231117248535, -0.9869807362556458, -0.8533384203910828, -0.6599835157394409, -0.4609416723251343, -0.42682021856307983, -0.28464749455451965, -0.23062187433242798, -0.04864080250263214, -0.014519346877932549, 0.025289015844464302, -0.008832437917590141, -0.27611714601516724, -0.3102385997772217, -0.35857731103897095, -0.44672441482543945, -0.44956785440444946, -0.5519322156906128, -0.5775232911109924, -0.6742007732391357, -0.7737216949462891, -0.7822520136833191, -0.8903033137321472, -0.904520571231842, -0.8362776637077332, -0.6628269553184509, -0.6372358798980713, -0.36142078042030334, -0.27896058559417725, -0.20503078401088715, -0.060014620423316956, 0.19305282831192017, 0.42052918672561646, 0.5314239263534546, 0.6167275309562683, 0.7560567855834961, 0.8584211468696594, 0.9295075535774231, 1.0233415365219116, 1.0858975648880005, 1.0830540657043457, 0.997750461101532, 1.0688368082046509, 0.9124467968940735, 0.7873347997665405, 0.48308518528938293, 0.3807208240032196, 0.16461828351020813, -0.07138843834400177, -0.19650042057037354, -0.387011855840683, -0.3926987648010254, -0.4979065954685211, -0.6116447448730469, -0.6088013052940369, -0.4780023992061615, -0.4780023992061615, -0.36710768938064575, -0.4040725827217102, -0.35573387145996094, -0.10266643762588501, -0.02304970845580101, 0.25560882687568665, 0.3977815508842468, 0.5172066688537598, 0.565545380115509, 0.6622228026390076, 0.7162484526634216, 0.7873347997665405, 0.6110406517982483, 0.6224144697189331, 0.6764400601387024, 0.5513280630111694, 0.2783564627170563, -0.0031455284915864468, -0.23346532881259918, -0.3813249468803406, -0.7054787874221802, -0.907364010810852, -1.0011980533599854, -1.0438498258590698, -1.1860225200653076, -1.4788984060287476, -1.6011669635772705, -1.5727324485778809, -1.6239145994186401, -1.7774611711502075, -1.632444977760315, -1.4504637718200684, -1.339569091796875, -1.3054476976394653, -1.217300534248352, -0.9557027220726013, -0.8334342241287231, -0.7651913166046143, -0.6628269553184509, -0.3159255087375641, -0.22493496537208557, -0.1794397085905075, -0.2476826012134552, -0.23630878329277039, -0.29317787289619446, -0.4694720506668091, -0.6400793194770813, -0.7111656665802002, -0.6827311515808105, -0.7026352882385254, -0.8760859966278076, -1.1319968700408936, -1.089345097541809, -1.4248727560043335, -1.498802661895752, -1.504489541053772, -1.584106206893921, -1.5471413135528564, -1.4305596351623535, -1.3822208642959595, -1.2827000617980957, -1.1917095184326172, -1.0125718116760254, -0.7509740591049194, -0.6912614703178406, -0.3102385997772217, -0.10550989210605621, 0.03097592480480671, 0.218643918633461, 0.41768574714660645, 0.4631810188293457, 0.4717113673686981, 0.690657377243042, 0.8271431922912598, 0.8896991610527039, 0.8982295393943787, 1.011967658996582, 0.9408813714981079, 0.6110406517982483, 0.6366317272186279, 0.5911364555358887, 0.5285804271697998, 0.3807208240032196, 0.2954171895980835, 0.4603375494480133, 0.3636600971221924, 0.33806902170181274, 0.4432768225669861, 0.383564293384552, 0.3920946419239044, 0.6081971526145935, 0.8100824356079102, 1.0773671865463257, 1.3418084383010864, 1.444172739982605, 1.5579109191894531, 1.7996045351028442, 2.027080774307251, 2.058358907699585, 2.209061861038208, 2.3626084327697754, 2.6099889278411865, 2.3626084327697754, 2.345547676086426, 2.2858352661132812, 2.112384557723999, 1.8308825492858887, 1.3076869249343872, 1.2309136390686035, 1.2223833799362183, 0.8413604497909546, 0.4631810188293457, 0.25276538729667664, -0.11688371002674103, -0.37279459834098816, -0.6400793194770813, -0.8533384203910828, -0.9727634787559509, -1.2258309125900269, -1.5755759477615356, -1.4874287843704224, -1.5926365852355957, -1.6466622352600098, -1.948068380355835, -1.740496277809143, -1.5016460418701172, -1.4760550260543823, -1.3367255926132202, -1.3623167276382446, -0.8817729353904724, -0.7452871203422546, -0.8533384203910828, -0.9329550862312317, -0.6230185627937317, -0.44956785440444946, -0.7993127703666687, -0.6997918486595154, -0.7964693307876587, -0.847651481628418, -0.9983545541763306, -1.0722843408584595, -1.0267890691757202, -1.1206231117248535, -1.279856562614441, -1.3367255926132202, -1.3793774843215942, -1.5073330402374268, -1.157588005065918, -1.3026041984558105, -1.279856562614441, -0.9983545541763306, -0.904520571231842, -0.8135300278663635, -0.8078431487083435, -0.36995112895965576, -0.18228314816951752, -0.07423189282417297, -0.15669207274913788, 0.19305282831192017, 0.09353192150592804, 0.18736591935157776, 0.27266955375671387, 0.383564293384552, 0.3920946419239044, 0.5570150017738342, 0.4461202919483185, 0.8015520572662354, 0.42052918672561646, 0.2925737500190735, 0.41199883818626404, 0.19873973727226257, 0.2925737500190735, -0.1737527996301651, -0.1709093451499939, -0.051484256982803345, 0.08784501254558563, -0.2647433280944824, -0.35289040207862854, -0.11119680106639862, -0.1765962541103363, 0.1447141021490097, -0.20503078401088715, 0.05656701326370239, 0.5200501084327698, 0.2868868410587311, 0.5029893517494202, 0.4660244584083557, 0.8840122818946838, 0.8271431922912598, 1.122862458229065, 1.2309136390686035, 1.4299554824829102, 1.4839810132980347, 1.509572148323059, 1.6119364500045776, 1.0915844440460205, 1.2820959091186523, 1.0148111581802368, 0.9835331439971924, 0.9863766431808472, 0.7617437243461609, 0.35797318816185, 0.1333402842283249, 0.4461202919483185, 0.35228627920150757, -0.5832102298736572, -0.9841372966766357, -0.5291845798492432, -0.18228314816951752, -1.2457350492477417, -1.6750967502593994, -1.2997606992721558, -0.8817729353904724, -1.1803356409072876, -1.6750967502593994, -1.510176420211792, -0.7765651345252991, -0.6486096978187561, -1.0267890691757202, -1.1746487617492676, -0.6343923807144165, -0.3187689483165741, -0.5519322156906128, -0.8590252995491028, -0.5064369440078735, -0.43250712752342224, -0.2419956922531128, -0.4040725827217102, -0.9557027220726013, -0.45525476336479187, -0.4808458685874939, -0.5832102298736572, -1.1206231117248535, -1.1376838684082031, -0.8049996495246887, -0.9841372966766357, -1.1888660192489624, -1.4191858768463135, -1.3537863492965698, -1.1831791400909424, -0.8703991174697876, -0.9187378287315369, -1.1945528984069824, -0.7452871203422546, -0.3813249468803406, 0.013915197923779488, 0.011071743443608284, 0.11343610286712646, 0.26413920521736145, 0.872638463973999, 0.9920635223388672, 1.0204980373382568, 0.8356735110282898, 1.4868245124816895, 1.7313616275787354, 1.444172739982605, 1.4242686033248901, 1.4782941341400146, 1.6915532350540161, 1.3986774682998657, 1.1313928365707397, 1.1456100940704346, 0.8925426006317139, 0.8442038893699646, 0.7276222705841064, 0.06794083118438721, -0.15953552722930908, 0.19305282831192017, 0.1504010111093521, -0.4893762171268463, -0.4012291431427002, -0.3130820393562317, -0.20787423849105835, -0.1794397085905075, -0.3983856737613678, -0.21924805641174316, 0.09637537598609924, -0.04011043533682823, 0.028132470324635506, 0.1304968297481537, 0.24707846343517303, 0.42621609568595886, 0.49445900321006775, 0.4546506404876709, 0.4489637315273285, 0.7361526489257812, 0.218643918633461, 0.4631810188293457, 0.5996668338775635, 0.5513280630111694, 0.26982611417770386, 0.07078428566455841, 0.07078428566455841, 0.25276538729667664, -0.008832437917590141, -0.2476826012134552, -0.5689929723739624, -0.14531825482845306, -0.23630878329277039, -0.9557027220726013, -0.7993127703666687, -0.5775232911109924, -0.7310698628425598, -1.041006326675415, -0.7993127703666687, -0.5092803835868835, -0.7936258316040039, -0.8959901928901672, -0.7424436807632446, -0.4211333096027374, -0.45809823274612427, -0.6287055015563965, -0.15953552722930908, -0.5035935044288635, -0.19365696609020233, -0.15384861826896667, -0.11972716450691223, -0.21356114745140076, -0.6031144261360168, -0.12541407346725464, -0.11119680106639862, -0.3102385997772217, -0.5718364119529724, -0.5291845798492432, -0.45809823274612427, -0.5149673223495483, -0.43819403648376465, -0.9102074503898621, -0.43819403648376465, -0.5547756552696228, -0.15100516378879547, -0.27327367663383484, -0.415446400642395, -0.10550989210605621, 0.26982611417770386, 0.42905956506729126, 0.011071743443608284, 0.3096344769001007, 0.7446829676628113, 1.006280779838562, 0.7731175422668457, 0.6508489847183228, 0.8641080856323242, 1.1512969732284546, 0.9920635223388672, 0.8385170102119446, 0.8641080856323242, 0.9693158864974976, 0.9351944327354431, 0.7077180743217468, 0.5399542450904846, 0.8982295393943787, 0.5371108055114746, -0.07707534730434418, -0.07991880178451538, 0.2868868410587311, 0.050880104303359985, -0.12257061898708344, -0.28180405497550964, -0.4637851417064667, -0.08276225626468658, 0.09921883046627045, 0.002541380235925317, -0.22493496537208557, -0.04579734802246094, 0.41768574714660645, 0.6821269989013672, 0.2214873731136322, 0.3210082948207855, 0.6480055451393127, 1.048932671546936, 0.8100824356079102, 1.0375587940216064, 0.9863766431808472, 1.2024791240692139, 1.8308825492858887, 1.128549337387085, 1.3133739233016968, 1.2735655307769775, 1.5209459066390991, 1.250817894935608, 0.9494116902351379, 1.3190608024597168, 1.2110095024108887, 0.9607855081558228, 0.6081971526145935, 0.7731175422668457, 0.42621609568595886, 0.565545380115509, 0.5001459121704102, 0.26413920521736145, 0.06794083118438721, 0.07078428566455841, 0.28119993209838867, 0.0622539222240448, 0.1304968297481537, 0.005384834948927164, 0.059410467743873596, 0.08500155806541443, 0.11059264838695526, 0.5257369875907898, 0.32669520378112793, -0.10835334658622742, -0.011675892397761345, 0.7617437243461609, -0.03158007189631462, -0.025893162935972214, -0.06854498386383057, 0.34659937024116516, -0.0031455284915864468, -0.3301427662372589, -0.08560571074485779, -0.15100516378879547, -0.3017082214355469, -0.6997918486595154, -0.8931467533111572, -0.7651913166046143, -0.5832102298736572, -0.6173316836357117, -1.0154153108596802, -1.1490576267242432, -0.9414854645729065, -0.45241132378578186, -0.44103750586509705, -0.7708781957626343, -1.0154153108596802, -0.051484256982803345, 0.09068846702575684, -0.11688371002674103, -0.35573387145996094, 0.07078428566455841, 0.8129258751869202, 0.9323509931564331, 0.7532133460044861, 0.3608166575431824, 1.188261866569519, 1.5664411783218384, 1.4100513458251953, 1.1313928365707397, 0.9408813714981079, 1.6602752208709717, 1.0574629306793213, 1.4583899974822998, 1.117175579071045, 1.0176546573638916, 1.188261866569519, 0.7475264668464661, 1.1655142307281494, 1.3617125749588013, 0.6707531809806824, 0.5427977442741394, 0.6025102734565735, 0.7503699064254761, 0.514363169670105, 0.218643918633461, 0.6451621055603027, 0.40631192922592163, 0.41484227776527405, 0.4802417457103729, 0.23570464551448822, 0.696344256401062, 0.3636600971221924, 0.9465682506561279, 0.2271742820739746, 0.48308518528938293, 0.8470473289489746, 0.5911364555358887, 0.6849704384803772, 0.32385173439979553, 0.5968233346939087, 0.7731175422668457, 0.2954171895980835, 0.48592865467071533, 0.4489637315273285, 0.9522551894187927, 0.5257369875907898, -0.051484256982803345, 0.2954171895980835, 0.2868868410587311, 0.7020311951637268, 0.26129573583602905, -0.3130820393562317, -0.28749096393585205, 0.6508489847183228, 1.054619550704956, 0.17599210143089294, -0.4723154902458191, 0.15608792006969452, 1.1427665948867798, 0.9750028252601624, 0.27551302313804626, 0.27551302313804626, 0.7333091497421265, 0.9067599177360535, 0.9892200827598572, 0.24707846343517303, 0.4432768225669861, 0.6536924242973328, 0.7333091497421265, 0.28119993209838867, 0.07931464910507202, 0.42905956506729126, 0.505832850933075, 0.11343610286712646, -0.37848150730133057, -0.6287055015563965, -0.36142078042030334, -0.35004696249961853, -0.35004696249961853, -1.0154153108596802, -1.4191858768463135, -0.44388094544410706, -0.5007500648498535, -1.2542654275894165, -1.0921885967254639, -0.7850955128669739, -0.4780023992061615, -0.9983545541763306, -0.6400793194770813, -0.3244558572769165, -0.415446400642395, -0.20787423849105835, -0.35289040207862854, 0.34659937024116516, 0.19020937383174896, 0.511519730091095, 0.18736591935157776, 0.6252579092979431, 0.9067599177360535, 0.696344256401062, 0.6366317272186279, 0.42621609568595886, 0.9892200827598572, 0.7702741026878357, 0.40631192922592163, 0.34091246128082275, 0.4773982763290405, 0.7901782393455505, 0.5797626376152039, -0.13678789138793945, -0.15953552722930908, 0.3721904754638672, 0.25560882687568665, 0.09353192150592804, -0.21356114745140076, -0.18228314816951752, 0.4688679277896881, 0.40631192922592163, -0.5576191544532776, -0.3898553252220154, 0.24423500895500183, 0.48877209424972534, 0.2243308275938034, -0.19650042057037354, 0.10774919390678406, 0.41484227776527405, 0.49161556363105774, 0.40346845984458923, 0.1333402842283249, 0.3721904754638672, 0.5740756988525391, 0.24423500895500183, 0.49161556363105774, 0.2271742820739746, 0.505832850933075, 0.3807208240032196, 0.06794083118438721, 0.2129570096731186, 0.24139155447483063, 0.6849704384803772, 0.4603375494480133, 0.49161556363105774, 0.25276538729667664, -0.11119680106639862, 0.3778773844242096, 0.7276222705841064, 0.7134050130844116, -0.13963134586811066, 0.2925737500190735, 0.5570150017738342, 0.8129258751869202, 0.7930217385292053, 0.15608792006969452, 0.23570464551448822, 0.8129258751869202, 0.8555777072906494, 0.3778773844242096, 0.24423500895500183, 0.4404333829879761, 0.8953860998153687, 0.26982611417770386, -0.06570152938365936, 0.2271742820739746, 0.3636600971221924, 0.33238211274147034, -0.25905641913414, -0.5178107619285583, -0.3926987648010254, -0.0912926197052002, -0.4211333096027374, -0.6144882440567017, -0.8049996495246887, -0.6912614703178406, -0.5888971090316772, -0.7964693307876587, -1.083658218383789, -1.041006326675415, -0.29033440351486206, -0.4666285812854767, -1.2883869409561157, -1.0068849325180054, -0.4609416723251343, 0.050880104303359985, -0.2391522377729416, -0.8249038457870483, -0.3813249468803406, 0.1475575566291809, 0.4802417457103729, 0.1475575566291809, -0.042953889816999435, 0.07078428566455841, 0.2954171895980835, 0.5570150017738342, 0.15608792006969452, -0.07707534730434418, 0.002541380235925317, 0.571232259273529, 0.3181648254394531, -0.29033440351486206, -0.44956785440444946, -0.10266643762588501, 0.3096344769001007, 0.03097592480480671, -0.5832102298736572, -0.8533384203910828, 0.07362774014472961, 0.27551302313804626, -0.10550989210605621, -0.3983856737613678, -0.6002709269523621, 0.27551302313804626, 0.49445900321006775, 0.011071743443608284, -0.3443600535392761, 0.04803664982318878, 0.5769191980361938, 0.42052918672561646, -0.03726698085665703, 0.1361837387084961, 0.4432768225669861, 0.49730247259140015, 0.32669520378112793, -0.29033440351486206, -0.19365696609020233, 0.7247788310050964, 0.7560567855834961, 0.16177482903003693, -0.3443600535392761, 0.08215810358524323, 1.1143320798873901, 0.5740756988525391, -0.14531825482845306, -0.028736617416143417, 0.7844913601875305, 1.1797314882278442, 0.4375899136066437, 0.11343610286712646, 0.35512974858283997, 1.4157382249832153, 1.1200189590454102, 0.7901782393455505, 0.3977815508842468, 1.0830540657043457, 1.8422563076019287, 1.3873037099838257, 0.5598584413528442, 0.824299693107605, 1.438485860824585, 1.384460210800171, 0.8470473289489746, 0.5228935480117798, 0.7816479206085205, 1.0176546573638916, 0.6281013488769531, 0.16746173799037933, 0.013915197923779488, 0.07647119462490082, 0.24707846343517303, -0.27327367663383484, -0.5888971090316772, -0.7794085741043091, -0.5746798515319824, -0.6514531373977661, -1.0324760675430298, -1.0097284317016602, -0.8305907845497131, -1.0011980533599854, -1.0381629467010498, -1.1888660192489624, -1.0609105825424194, -1.1973963975906372, -0.9329550862312317, -1.0665974617004395, -1.1689618825912476, -0.6372358798980713, -0.6599835157394409, -1.1234666109085083, -1.1376838684082031, -0.4865327775478363, -0.4979065954685211, -0.597427487373352, -0.6542965769767761, -0.5092803835868835, -0.6742007732391357, -0.5263411402702332, -0.36142078042030334, -0.5661494731903076, -0.7424436807632446, -0.4836893081665039, -0.23346532881259918, -0.3443600535392761, -0.9130509495735168, -0.3216124176979065, -0.25905641913414, -0.36710768938064575, -0.6770442128181458, -0.5718364119529724, -0.3244558572769165, -0.04579734802246094, -0.21071769297122955, -0.6798876523971558, -0.7509740591049194, -0.4922196865081787, 0.16461828351020813, -0.412602961063385, -0.7680347561836243, -0.5519322156906128, -0.0941360741853714, -0.06854498386383057, -0.3301427662372589, -0.4751589596271515, -0.5178107619285583, -0.2391522377729416, -0.07991880178451538, -0.08844916522502899, -0.5689929723739624, -0.5689929723739624, -0.28464749455451965, -0.35289040207862854, -0.4751589596271515, -0.3813249468803406, -0.20503078401088715, 0.05372355878353119, -0.13394443690776825, -0.03158007189631462, -0.014519346877932549, -0.05717116594314575, 0.12765337526798248, 0.3011040985584259, 0.2101135551929474, 0.0622539222240448, 0.40631192922592163, 0.5200501084327698, 0.26982611417770386, 0.4773982763290405, 0.42905956506729126, 0.3153213858604431, 0.35797318816185, 0.2925737500190735, 0.41484227776527405, 0.19305282831192017, 0.2101135551929474, 0.23570464551448822, 0.19305282831192017, 0.3778773844242096, -0.07423189282417297, -0.3415165841579437, -0.3073951303958893, 0.013915197923779488, -0.05432771146297455, -0.716852605342865, -0.7396002411842346, -0.6343923807144165, -0.27327367663383484, -0.9187378287315369, -1.0182586908340454, -1.0665974617004395, -1.035319447517395, -0.5860536694526672, -0.8106865882873535, -1.2087701559066772, -1.0267890691757202, -0.7083222270011902, -0.9585462212562561, -1.2485785484313965, -1.1149362325668335, -0.4211333096027374, -0.42966368794441223, -0.8732425570487976, -0.8533384203910828, -0.5746798515319824, -0.27043023705482483, -0.4182898700237274, -0.5263411402702332, -0.387011855840683, -0.10550989210605621, 0.0622539222240448, -0.060014620423316956, 0.01675865240395069, 0.04519319906830788, 0.005384834948927164, -0.21071769297122955, -0.05717116594314575, 0.08500155806541443, 0.019602106884121895, 0.17314864695072174, 0.013915197923779488, -0.21924805641174316, 0.05656701326370239, -0.21356114745140076, -0.15384861826896667, -0.36995112895965576, -0.37563803791999817, -0.3073951303958893, -0.537714958190918, -0.6457661986351013, -0.5661494731903076, -0.591740608215332, -0.6258620619773865, -0.8106865882873535, -0.8846163749694824, -0.5149673223495483, -0.8732425570487976, -0.9869807362556458, -0.8931467533111572, -0.847651481628418, -0.8106865882873535, -0.9329550862312317, -0.9670765399932861, -0.8106865882873535, -0.4865327775478363, -0.5746798515319824, -0.5775232911109924, -0.8988336324691772, -0.36995112895965576, -0.20218732953071594, -0.37279459834098816, -0.3329862356185913, -0.10550989210605621, 0.1504010111093521, 0.10490573942661285, 0.0224455613642931, 0.27266955375671387, 0.5001459121704102, 0.699187695980072, 0.6394751667976379, 0.386407732963562, 0.5228935480117798, 0.5257369875907898, 0.5769191980361938, 0.5200501084327698, 0.32669520378112793, 0.5513280630111694, 0.5996668338775635, 0.6309447884559631, 0.40915536880493164, 0.5200501084327698, 0.4546506404876709, 0.3807208240032196, 0.5001459121704102, 0.3693470060825348, 0.1504010111093521, -0.14816170930862427, -0.017362801358103752, 0.08500155806541443, -0.04864080250263214, -0.20503078401088715, -0.08276225626468658, -0.28749096393585205, -0.43819403648376465, -0.4637851417064667, -0.5121238827705383, -0.36995112895965576, -0.6315489411354065, -0.6770442128181458, -0.7964693307876587, -0.8135300278663635, -0.7595043778419495, -0.8789294958114624, -0.8391211032867432, -0.8618687391281128, -1.0523802042007446, -1.0154153108596802, -0.8021562099456787, -0.7054787874221802, -0.5519322156906128, -0.6201751232147217, -0.5035935044288635, -0.1709093451499939, -0.3130820393562317, -0.4211333096027374, -0.44956785440444946, 0.03381938114762306, 0.2243308275938034, 0.05656701326370239, 0.19305282831192017, 0.24707846343517303, 0.5882930159568787, 0.7134050130844116, 0.6252579092979431, 0.514363169670105, 0.8896991610527039, 0.9750028252601624, 0.9323509931564331, 0.49161556363105774, 0.8356735110282898, 1.0091242790222168, 0.8840122818946838, 0.5882930159568787, 0.5314239263534546, 0.5740756988525391, 0.9266640543937683, 0.7759609818458557, 0.4489637315273285, 0.4432768225669861, 0.6480055451393127, 0.5996668338775635, 0.4432768225669861, 0.3181648254394531, 0.19020937383174896, 0.3039475679397583, 0.27551302313804626, 0.2925737500190735, 0.06794083118438721, 0.28119993209838867, 0.43474647402763367, 0.33522555232048035, 0.2982606589794159, 0.18167901039123535, 0.18167901039123535, 0.4461202919483185, 0.35228627920150757, 0.40631192922592163, 0.20442664623260498, 0.1333402842283249, 0.2868868410587311, 0.2129570096731186, 0.2840433716773987, 0.08500155806541443, 0.04234974458813667, 0.005384834948927164, 0.1390271931886673, -0.0969795286655426, -0.11404025554656982, -0.23346532881259918, -0.2647433280944824, -0.4609416723251343, -0.6742007732391357, -0.6258620619773865, -0.3955422341823578, -0.597427487373352, -0.9898241758346558, -1.3111345767974854, -1.3225083351135254, -1.1433707475662231, -1.2969173192977905, -1.6495057344436646, -1.6239145994186401, -1.3594732284545898, -1.0267890691757202, -0.5746798515319824, -0.36710768938064575, -0.26189985871315, -0.1680658906698227, 0.11059264838695526, 0.2271742820739746, 0.5797626376152039, 0.8385170102119446, 1.3190608024597168, 1.631840705871582, 1.7256746292114258, 1.5692846775054932, 1.589188814163208, 1.813821792602539, 1.8052914142608643, 1.7143008708953857, 1.6688055992126465, 1.5209459066390991, 1.5920323133468628, 1.262191653251648, 1.074523687362671, 0.878325343132019, 0.5570150017738342, 0.386407732963562, 0.16746173799037933, 0.11059264838695526, -0.011675892397761345, -0.12257061898708344, -0.07707534730434418, -0.14816170930862427, -0.11688371002674103, -0.0969795286655426, -0.025893162935972214, 0.18452246487140656, 0.1504010111093521, 0.3153213858604431, 0.33522555232048035, 0.25276538729667664, 0.12196646630764008, 0.011071743443608284, 0.16746173799037933, 0.40346845984458923, 0.3210082948207855, -0.18228314816951752, -0.27611714601516724, -0.35857731103897095, -0.34720349311828613, -0.6002709269523621, -0.8362776637077332, -0.8021562099456787, -0.7111656665802002, -1.1234666109085083, -1.4760550260543823, -1.5471413135528564, -1.5613585710525513, -1.5016460418701172, -1.9765030145645142, -1.9224773645401, -1.5130199193954468, -1.0722843408584595, -1.1945528984069824, -1.2201440334320068, -0.8135300278663635, 0.019602106884121895, 0.26982611417770386, 0.4574941098690033, 0.48308518528938293, 0.7304657101631165, 1.1370797157287598, 1.3418084383010864, 1.250817894935608, 1.1399232149124146, 1.0375587940216064, 0.997750461101532, 1.080210566520691, 0.5200501084327698, -0.18797005712985992, -0.5064369440078735, -0.43250712752342224, 0.0224455613642931, 0.013915197923779488, -0.13963134586811066, -0.21640460193157196, -0.008832437917590141, -0.14247480034828186, -0.2647433280944824, -0.034423526376485825, 0.511519730091095, 1.0631499290466309, 1.2906262874603271, 1.6460579633712769, 2.0441415309906006, 2.4081037044525146, 2.4735031127929688, 2.445068597793579, 2.612832546234131, 2.794813632965088, 3.127497911453247, 3.201427698135376, 2.965420961380005, 2.5047812461853027, 2.174940586090088, 1.9104992151260376, 1.583501935005188, 1.2166963815689087, 1.0034373998641968, 0.7020311951637268, 0.2925737500190735, -0.16237898170948029, -0.5178107619285583, -0.7794085741043091, -0.7509740591049194, -1.083658218383789, -1.1689618825912476, -1.095031976699829, -0.8988336324691772, -0.719696044921875, -0.8163734674453735, -0.9500158429145813, -1.0068849325180054, -0.7339133024215698, 0.005384834948927164, 0.4518072009086609, 0.4546506404876709, 0.35797318816185, 0.43190300464630127, 0.5371108055114746, 0.5627018809318542, 0.42905956506729126, 0.5285804271697998, 0.6081971526145935, 0.565545380115509, 0.1447141021490097, -0.1652224361896515, -0.15100516378879547, -0.16237898170948029, -0.668513834476471, -1.1263099908828735, -1.2258309125900269, -1.146214246749878, -1.0097284317016602, -1.2372047901153564, -1.5414544343948364, -1.5897932052612305, -1.2627958059310913, -0.9386420249938965, -0.9329550862312317, -0.7680347561836243, -0.4609416723251343, -0.07991880178451538, -0.000302074127830565, -0.12541407346725464, -0.08844916522502899, 0.10774919390678406, 0.4489637315273285, 0.4773982763290405, 0.09068846702575684, -0.2391522377729416, -0.4239767789840698, -0.7054787874221802, -1.0182586908340454, -1.2315177917480469, -0.9357985854148865, -0.6173316836357117, -0.3017082214355469, -0.21640460193157196, -0.06854498386383057, -0.005988983437418938, 0.3067910075187683, 0.508676290512085, 0.7873347997665405, 1.1911053657531738, 1.6119364500045776, 2.0839500427246094, 2.3540780544281006, 2.638423442840576, 2.7180402278900146, 2.9199256896972656, 2.8971779346466064, 2.7891266345977783, 2.6412670612335205, 2.5900847911834717, 2.464972734451294, 2.2261226177215576, 1.7768568992614746, 1.1257058382034302, 0.7446829676628113, 0.27551302313804626, -0.1652224361896515, -0.8903033137321472, -1.387907862663269, -1.4390900135040283, -1.6580361127853394, -2.0731804370880127, -2.3603692054748535, -2.471264123916626, -2.3944907188415527, -2.4342992305755615, -2.545193910598755, -2.22672700881958, -1.9537553787231445, -1.584106206893921, -1.4703680276870728, -1.4248727560043335, -1.1917095184326172, -0.5803667902946472, -0.29317787289619446, -0.13110098242759705, -0.13110098242759705, 0.11627955734729767, 0.42621609568595886, 0.3807208240032196, 0.04234974458813667, -0.18228314816951752, -0.3045516908168793, -0.19365696609020233, -0.5263411402702332, -0.6088013052940369, -0.9585462212562561, -1.0466933250427246, -1.2997606992721558, -1.5755759477615356, -1.569888949394226, -1.1803356409072876, -0.9357985854148865, -0.7026352882385254, -0.35857731103897095, -0.08844916522502899, -0.10266643762588501, 0.025289015844464302, 0.16461828351020813, 0.33238211274147034, 0.6110406517982483, 1.0517760515213013, 1.8422563076019287, 2.2915220260620117, 2.1635665893554688, 1.9986462593078613, 1.5351632833480835, 1.2991565465927124, 0.9693158864974976, 0.7589002847671509, 0.32669520378112793, 0.00822828896343708, -0.4836893081665039, -0.850494921207428, -1.2684826850891113, -0.7509740591049194, -0.07707534730434418, 0.12480992078781128, 0.3153213858604431, 0.5172066688537598, 0.6735966205596924, 1.1143320798873901, 1.5067286491394043, 1.8536301851272583, 2.2886786460876465, 2.9369864463806152, 3.426060676574707, 3.758744716644287, 3.724623203277588, 3.809926986694336, 3.5255815982818604, 3.042194366455078, 2.4934074878692627, 2.456442356109619, 2.209061861038208, 1.7143008708953857, 1.1456100940704346, 0.04234974458813667, -0.6798876523971558, -1.498802661895752, -1.985033392906189, -2.6276540756225586, -2.943277359008789, -3.0769195556640625, -3.0683891773223877, -3.091136932373047, -2.9063124656677246, -2.85797381401062, -2.8636608123779297, -2.7954177856445312, -2.3802735805511475, -1.8855124711990356, -1.345255970954895, -0.668513834476471, -0.44103750586509705, -0.26189985871315, -0.08560571074485779, 0.2954171895980835, 0.23286119103431702, 0.2271742820739746, 0.06794083118438721, -0.12541407346725464, -0.6770442128181458, -1.0011980533599854, -1.2542654275894165, -1.7774611711502075, -2.0305285453796387, -2.24947452545166, -2.3063437938690186, -2.363212823867798, -2.5423502922058105, -2.7641398906707764, -3.1963448524475098, -3.125258445739746, -2.6361844539642334, -2.246631145477295, -2.053276300430298, -1.4106554985046387, -0.5604625940322876, 0.1504010111093521, 0.7987086176872253, 1.1086452007293701, 1.3673994541168213, 1.6289972066879272, 1.8536301851272583, 1.9616813659667969, 1.8706908226013184, 2.0668892860412598, 2.2972090244293213, 1.9076557159423828, 1.1626708507537842, 0.5342673659324646, -0.04579734802246094, -0.6457661986351013, -0.9244247674942017, -1.1860225200653076, -1.5869497060775757, -2.098771572113037, -2.889251947402954, -3.412447214126587, -3.4323513507843018, -2.3404650688171387, -0.8817729353904724, 0.4546506404876709, 0.9721593260765076, 1.4640768766403198, 2.1806273460388184, 3.1673061847686768, 3.6961886882781982, 4.176732540130615, 4.492355823516846, 5.14350700378418, 5.584242343902588, 5.862901210784912, 5.624051094055176, 4.779544830322266, 4.085741996765137, 2.8658998012542725, 2.186314344406128, 1.8422563076019287, 1.6090930700302124, 1.048932671546936, 0.036662835627794266, -1.441933512687683, -2.385960340499878, -3.0655457973480225, -3.329987049102783, -3.1508495807647705, -3.1849708557128906, -2.8920953273773193, -2.4229252338409424, -1.751870036125183, -1.3850643634796143, -1.1263099908828735, -0.7737216949462891, 0.18736591935157776, 0.7873347997665405, 1.5692846775054932, 1.771169900894165, 1.9702117443084717, 2.1379754543304443, 1.9815856218338013, 1.7853872776031494, 1.4128947257995605, 1.122862458229065, 0.9152902364730835, 0.41199883818626404, -0.3017082214355469, -0.7452871203422546, -0.9955111145973206, -1.393594741821289, -2.098771572113037, -2.92052960395813, -2.9063124656677246, -2.9034690856933594, -2.866504192352295, -3.037111282348633, -3.145162582397461, -3.0769195556640625, -2.8721911907196045, -2.2636919021606445, -1.8002088069915771, -0.904520571231842, -0.19934387505054474, 0.42052918672561646, 0.8356735110282898, 1.3986774682998657, 2.209061861038208, 2.806187391281128, 2.9796383380889893, 3.1218109130859375, 3.022289991378784, 2.7777528762817383, 2.6952927112579346, 2.4194774627685547, 2.0981671810150146, 1.4640768766403198, 0.9266640543937683, -0.051484256982803345, -0.8817729353904724, -1.621071219444275, -1.8513909578323364, -2.0475893020629883, -2.5850021839141846, -3.210561990737915, -3.8986780643463135, -4.197240829467773, -4.015259742736816, -2.7328617572784424, -0.8106865882873535, 0.17030519247055054, 1.1683577299118042, 1.8109782934188843, 2.4479122161865234, 2.914238691329956, 3.5397987365722656, 3.716093063354492, 3.980534315109253, 4.227914810180664, 4.492355823516846, 4.5435380935668945, 4.102802753448486, 3.4715559482574463, 2.2972090244293213, 0.9806897044181824, 0.20442664623260498, -0.017362801358103752, -0.13963134586811066, -0.5832102298736572, -1.7092182636260986, -2.4655771255493164, -3.2475268840789795, -3.210561990737915, -2.718644618988037, -2.408708095550537, -1.814426064491272, -1.2258309125900269, -0.7424436807632446, -0.13678789138793945, 0.12765337526798248, 0.4489637315273285, 0.9465682506561279, 1.310530424118042, 1.5380066633224487, 1.6744924783706665, 1.4299554824829102, 1.0148111581802368, 0.6679097414016724, 0.005384834948927164, -0.591740608215332, -1.404968500137329, -1.5414544343948364, -1.8257999420166016, -2.2750656604766846, -2.9489641189575195, -3.21909236907959, -3.261744260787964, -3.1508495807647705, -2.909156084060669, -2.8266959190368652, -2.6703059673309326, -2.6560885906219482, -2.505385398864746, -2.3063437938690186, -1.9139469861984253, -1.1888660192489624, -0.5206542015075684, -0.14531825482845306, 0.2271742820739746, 0.8100824356079102, 1.4583899974822998, 1.7939175367355347, 1.833725929260254, 1.833725929260254, 1.9986462593078613, 2.314269781112671, 2.558806896209717, 2.1948447227478027, 1.461233377456665, 0.9096033573150635, 0.6138840913772583, 0.16177482903003693, -0.35004696249961853, -0.7794085741043091, -0.8760859966278076, -1.3537863492965698, -1.8940428495407104, -2.351839065551758, -2.5650980472564697, -2.8210089206695557, -3.028580904006958, -3.176440477371216, -3.136632204055786, -3.020050525665283, -2.675992727279663, -1.9395381212234497, -1.0495367050170898, 0.7418395280838013, 2.3938865661621094, 3.619415521621704, 3.929352045059204, 4.276253700256348, 4.50657320022583, 4.532164573669434, 4.353026866912842, 4.1369242668151855, 3.8696393966674805, 3.6222589015960693, 3.3009486198425293, 2.6640145778656006, 1.6602752208709717, 0.32669520378112793, -0.4239767789840698, -1.0211021900177002, -1.1376838684082031, -1.1234666109085083, -1.3139779567718506, -1.766087293624878, -1.990720272064209, -1.7376527786254883, -1.2713261842727661, -1.0495367050170898, -0.9272682070732117, -0.5178107619285583, 0.11059264838695526, 0.6451621055603027, 1.4100513458251953, 1.7910741567611694, 1.515259027481079, 1.4100513458251953, 1.1200189590454102, 0.8982295393943787, 0.5541715621948242, 0.20727010071277618, -0.36710768938064575, -1.259952425956726, -1.7803046703338623, -1.868451714515686, -1.91679048538208, -2.2181966304779053, -2.2608485221862793, -2.2409441471099854, -1.8997297286987305, -1.217300534248352, -0.7850955128669739, -0.44672441482543945, -0.07138843834400177, 0.5627018809318542, 1.3247476816177368, 1.631840705871582, 2.0640456676483154, 2.209061861038208, 2.2232792377471924, 2.2687745094299316, 2.1095409393310547, 1.8678474426269531, 1.5692846775054932, 1.5465370416641235, 1.4953548908233643, 1.3446518182754517, 1.1029582023620605, 0.7674306035041809, 0.6110406517982483, 0.25560882687568665, -0.27327367663383484, -0.6912614703178406, -0.9699200391769409, -1.0011980533599854, -1.1831791400909424, -1.3594732284545898, -1.3196649551391602, -1.1376838684082031, -1.0808147192001343, -1.2827000617980957, -1.5471413135528564, -1.9281642436981201, -2.010624408721924, -2.0163114070892334, -1.9452250003814697, -1.8940428495407104, -1.5442979335784912, -1.5187067985534668, -1.8229564428329468, -2.0788674354553223, -1.4845854043960571, -0.0912926197052002, 0.9949069619178772, 2.345547676086426, 3.1303412914276123, 3.2298622131347656, 3.0791592597961426, 2.584398031234741, 1.9247164726257324, 1.5920323133468628, 1.4811376333236694, 1.754109263420105, 1.8280390501022339, 1.694396734237671, 1.134236216545105, 0.49730247259140015, -0.543401837348938, -1.2542654275894165, -1.279856562614441, -1.0637539625167847, -0.591740608215332, -0.5121238827705383, -0.9926676750183105, -1.413498878479004, -1.8314868211746216, -1.8570778369903564, -1.6950010061264038, -1.4902722835540771, -1.2030832767486572, -1.035319447517395, -0.9500158429145813, -0.9329550862312317, -0.901677131652832, -0.841964602470398, -0.7765651345252991, -0.6173316836357117, -0.44388094544410706, -0.3926987648010254, -0.591740608215332, -0.7680347561836243, -1.0211021900177002, -1.1433707475662231, -1.1206231117248535, -0.9329550862312317, -0.4836893081665039, 0.04519319906830788, 0.40915536880493164, 0.3124779164791107, 0.35228627920150757, 0.5228935480117798, 0.7844913601875305, 0.8925426006317139, 0.7589002847671509, 0.4375899136066437, 0.10206228494644165, -0.44103750586509705, -0.6742007732391357, -1.0381629467010498, -1.151901125907898, -1.211613655090332, -1.2087701559066772, -1.333882212638855, -0.9102074503898621, -0.3017082214355469, 0.013915197923779488, 0.514363169670105, 1.0233415365219116, 1.6460579633712769, 1.882064700126648, 2.2545571327209473, 2.337017297744751, 2.337017297744751, 2.4479122161865234, 2.6867623329162598, 2.5957717895507812, 2.197688102722168, 1.6517448425292969, 0.6878138780593872, -0.13394443690776825, -0.6713573336601257, -0.8618687391281128, -1.0125718116760254, -1.1433707475662231, -1.157588005065918, -1.3793774843215942, -1.6665664911270142, -1.9708160161972046, -2.292126417160034, -2.1869184970855713, -1.510176420211792, 0.2243308275938034, 2.248870372772217, 3.5938243865966797, 4.862005233764648, 5.129289627075195, 4.634528636932373, 3.9435691833496094, 3.5397987365722656, 3.1957406997680664, 3.0251336097717285, 2.8232481479644775, 2.5445895195007324, 2.1635665893554688, 1.6972401142120361, 0.5740756988525391, -0.3073951303958893, -1.3367255926132202, -1.8172695636749268, -1.766087293624878, -1.4788984060287476, -1.1746487617492676, -1.2542654275894165, -1.7291224002838135, -2.164170980453491, -2.431455612182617, -2.2750656604766846, -1.4390900135040283, -0.978450357913971, -0.35573387145996094, 0.00822828896343708, 0.3721904754638672, 0.7788044214248657, 1.1854184865951538, 1.5067286491394043, 1.577815055847168, 1.4896680116653442, 1.4128947257995605, 1.1996357440948486, 0.8299866318702698, 0.3636600971221924, -0.5121238827705383, -1.1291534900665283, -1.5130199193954468, -1.4220292568206787, -0.8988336324691772, -0.6486096978187561, -0.7936258316040039, -1.3765339851379395, -1.5983235836029053, -1.4447768926620483, -1.0865015983581543, -0.6941049695014954, -0.6201751232147217, -0.901677131652832, -1.2002397775650024, -1.3964382410049438, -1.498802661895752, -1.510176420211792, -1.5357675552368164, -1.4106554985046387, -1.0182586908340454, -0.08844916522502899, 0.9693158864974976, 1.4754506349563599, 1.4981982707977295, 1.3446518182754517, 1.3531821966171265, 1.6090930700302124, 1.9559944868087769, 2.3000524044036865, 2.209061861038208, 1.6915532350540161, 1.1683577299118042, 0.35512974858283997, -0.3130820393562317, -0.9557027220726013, -1.3822208642959595, -2.0390589237213135, -2.6390278339385986, -2.8920953273773193, -2.889251947402954, -2.8323826789855957, -2.7442357540130615, -2.451359748840332, -2.0589630603790283, -1.6523491144180298, -1.1348403692245483, -0.8931467533111572, -0.3955422341823578, 0.18167901039123535, 1.4043644666671753, 2.570180654525757, 3.6535370349884033, 4.358713626861572, 4.614624500274658, 3.926508665084839, 2.541746139526367, 1.3929905891418457, 0.11059264838695526, -0.5092803835868835, -0.4751589596271515, -0.5263411402702332, -0.5746798515319824, -0.9471724033355713, -1.4646811485290527, -1.931007742881775, -2.4030210971832275, -2.3063437938690186, -2.1016149520874023, -1.9111034870147705, -1.515863299369812, -1.2940738201141357, -0.8675556778907776, -0.6400793194770813, -0.6088013052940369, -0.5604625940322876, -0.37563803791999817, 0.10490573942661285, 0.9693158864974976, 1.5579109191894531, 1.9730552434921265, 1.9986462593078613, 2.1493494510650635, 2.2801482677459717, 2.2033751010894775, 1.833725929260254, 1.4214251041412354, 0.5371108055114746, -0.5661494731903076, -1.3651602268218994, -1.6153842210769653, -1.740496277809143, -1.5556716918945312, -1.1917095184326172, -1.029632568359375, -0.7452871203422546, -0.3159255087375641, 0.11059264838695526, 0.27266955375671387, 0.2925737500190735, 0.1504010111093521, 0.08500155806541443, -0.020206255838274956, -0.15384861826896667, -0.35857731103897095, -0.9528592824935913, -1.0921885967254639, -1.2400481700897217, -0.9955111145973206, -0.540558397769928, -0.0912926197052002, 0.2783564627170563, 0.4660244584083557, 0.5541715621948242, 0.5001459121704102, 1.0432456731796265, 1.685866355895996, 2.186314344406128, 2.3853561878204346, 2.2801482677459717, 2.1607232093811035, 1.711457371711731, 1.262191653251648, 0.3778773844242096, -0.6230185627937317, -1.0495367050170898, -1.3594732284545898, -1.5471413135528564, -1.985033392906189, -2.474107503890991, -2.761296510696411, -2.707270860671997, -2.300656795501709, -1.4618377685546875, -0.6628269553184509, -0.26189985871315, -0.15953552722930908, -0.29886478185653687, -0.20218732953071594, 0.12480992078781128, 1.128549337387085, 2.3114264011383057, 3.332226514816284, 3.6762845516204834, 3.659223794937134, 2.487720489501953, 0.7816479206085205, -0.2476826012134552, -1.0722843408584595, -0.8959901928901672, -0.20503078401088715, 0.17314864695072174, 0.6536924242973328, 0.642318606376648, 0.35797318816185, -0.04864080250263214, -0.4239767789840698, -0.45241132378578186, -0.1652224361896515, 0.0622539222240448, 0.2243308275938034, 0.10206228494644165, -0.26189985871315, -0.5746798515319824, -0.9357985854148865, -0.8732425570487976, -0.6144882440567017, -0.27896058559417725, -0.35289040207862854, -0.19081351161003113, -0.26758676767349243, -0.020206255838274956, 0.26982611417770386, 0.508676290512085, 0.568388819694519, 0.09637537598609924, -0.36142078042030334, -1.0665974617004395, -1.7063747644424438, -1.8485475778579712, -1.5983235836029053, -1.0921885967254639, -0.4182898700237274, -0.2419956922531128, -0.11972716450691223, -0.16237898170948029, -0.37279459834098816, -0.23062187433242798, 0.07362774014472961, 0.514363169670105, 0.6252579092979431, -0.0969795286655426, -0.6144882440567017, -1.4277161359786987, -2.192605495452881, -2.431455612182617, -2.2437877655029297, -1.584106206893921, -0.3813249468803406, 0.2783564627170563, 0.49445900321006775, 0.505832850933075, 0.383564293384552, 0.49161556363105774, 0.9096033573150635, 1.432798981666565, 2.527528762817383, 3.190053939819336, 3.340756893157959, 3.1445586681365967, 2.433694839477539, 1.515259027481079, 0.7617437243461609, 0.3636600971221924, -0.11972716450691223, -0.6969484090805054, -1.3537863492965698, -1.8940428495407104, -2.621967077255249, -3.0882935523986816, -3.1281018257141113, -2.9290599822998047, -2.2096662521362305, -1.205926775932312, -0.020206255838274956, 0.5968233346939087, 0.9920635223388672, 0.5456411838531494, -0.0912926197052002, -0.1765962541103363, 0.24707846343517303, 1.250817894935608, 2.510468006134033, 3.0052292346954346, 2.8858041763305664, 2.197688102722168, 0.9209771752357483, 0.26982611417770386, -0.5775232911109924, -1.2571089267730713, -1.1888660192489624, -0.668513834476471, 0.43474647402763367, 1.4157382249832153, 1.4356423616409302, 0.9124467968940735, 0.23570464551448822, -0.5576191544532776, -0.9869807362556458, -0.9215812683105469, -0.6031144261360168, -0.534871518611908, -0.8618687391281128, -1.4305596351623535, -1.6466622352600098, -1.7149051427841187, -1.7262790203094482, -1.7433396577835083, -1.5983235836029053, -1.265639305114746, -0.29317787289619446, 0.7560567855834961, 1.3361215591430664, 1.6005626916885376, 1.3816168308258057, 0.6451621055603027, 0.019602106884121895, -0.6542965769767761, -1.0011980533599854, -0.8703991174697876, -0.8334342241287231, -0.8249038457870483, -0.7339133024215698, -0.6457661986351013, -0.5263411402702332, -0.6542965769767761, -0.9869807362556458, -1.4732115268707275, -1.5357675552368164, -1.1689618825912476, -0.7367567420005798, -0.4865327775478363, -0.668513834476471, -1.339569091796875, -1.7092182636260986, -1.6466622352600098, -0.904520571231842, -0.27327367663383484, 0.3181648254394531, 0.8299866318702698, 0.9607855081558228, 1.2650351524353027, 1.643214464187622, 2.1408190727233887, 2.35976505279541, 2.430851459503174, 2.314269781112671, 2.430851459503174, 2.5986151695251465, 2.5531198978424072, 2.1180713176727295, 1.1683577299118042, 0.1390271931886673, -0.37563803791999817, -1.1973963975906372, -2.021998167037964, -2.7982614040374756, -3.1735970973968506, -3.4323513507843018, -3.358421564102173, -2.9034690856933594, -2.431455612182617, -1.4817419052124023, -0.6770442128181458, -0.42966368794441223, -0.1794397085905075, 0.19020937383174896, 0.5484846234321594, 0.09637537598609924, -0.5178107619285583, -1.3537863492965698, -1.6466622352600098, -1.2457350492477417, -0.7879389524459839, 0.06794083118438721, 0.5911364555358887, 0.5911364555358887, -0.008832437917590141, -0.6230185627937317, -1.5329240560531616, -1.746183156967163, -1.339569091796875, -0.7396002411842346, 0.4461202919483185, 1.572128176689148, 1.8223521709442139, 1.461233377456665, 0.2101135551929474, -1.4845854043960571, -2.812478542327881, -3.295865535736084, -3.093980312347412, -2.4570467472076416, -2.138579845428467, -1.879825472831726, -1.9111034870147705, -2.138579845428467, -2.0504326820373535, -1.8570778369903564, -1.205926775932312, 0.08215810358524323, 1.8166651725769043, 3.0990633964538574, 4.273409843444824, 4.688554286956787, 3.991908073425293, 3.1673061847686768, 1.7313616275787354, 0.5826060771942139, -0.10266643762588501, -0.387011855840683, -0.25905641913414, -0.1652224361896515, -0.08276225626468658, -0.042953889816999435, -0.0941360741853714, -0.27043023705482483, -0.35857731103897095, -0.0941360741853714, 0.3608166575431824, 1.134236216545105, 1.6972401142120361, 1.7683265209197998, 1.4527031183242798, 0.9721593260765076, 0.7532133460044861, 0.8697949647903442, 1.0944279432296753, 1.9048123359680176, 2.2574007511138916, 2.3654518127441406, 2.413790702819824, 2.3341739177703857, 2.5758676528930664, 2.7066664695739746, 2.774909257888794, 3.082002639770508, 3.480086326599121, 4.011812210083008, 3.969160318374634, 3.221331834793091, 2.217592239379883, 1.0233415365219116, 0.23570464551448822, -0.7026352882385254, -1.4504637718200684, -1.8542344570159912, -1.9992506504058838, -2.1584839820861816, -2.1556406021118164, -2.0504326820373535, -2.056119680404663, -1.948068380355835, -1.8570778369903564, -1.751870036125183, -1.5556716918945312, -1.4760550260543823, -1.2343612909317017, -1.3196649551391602, -2.0163114070892334, -2.8380696773529053, -3.935642957687378, -4.3792219161987305, -3.8474957942962646, -3.2589006423950195, -2.1016149520874023, -0.9869807362556458, -0.25905641913414, -0.04011043533682823, -0.011675892397761345, -0.14247480034828186, -0.19650042057037354, 0.05656701326370239, 0.818612813949585, 1.7427353858947754, 2.5133116245269775, 2.65832781791687, 2.1493494510650635, 0.7418395280838013, -0.8903033137321472, -1.7092182636260986, -2.4883248805999756, -2.641871213912964, -2.3802735805511475, -2.1044583320617676, -1.6153842210769653, -0.9500158429145813, -0.37563803791999817, 0.03381938114762306, 0.821456253528595, 1.7313616275787354, 2.809030771255493, 3.55401611328125, 4.537851333618164, 5.117916107177734, 4.716989040374756, 3.6478500366210938, 2.638423442840576, 1.1712011098861694, -0.08560571074485779, -0.9443289041519165, -1.3054476976394653, -1.5073330402374268, -1.2087701559066772, -1.1405272483825684, -1.1945528984069824, -1.3623167276382446, -1.3793774843215942, -0.8675556778907776, -0.35004696249961853, 0.43474647402763367, 1.2053226232528687, 1.5664411783218384, 1.5977191925048828, 1.1257058382034302, 0.1447141021490097, -0.6855745911598206, -0.8874598145484924, -0.6542965769767761, -0.15669207274913788, 0.33238211274147034, 0.5911364555358887, 0.7816479206085205, 0.5541715621948242, 0.11912301182746887, 0.028132470324635506, -0.06285807490348816, 0.3892512023448944, 1.0176546573638916, 1.4185817241668701, 1.7882306575775146, 1.6119364500045776, 0.6878138780593872, -0.19365696609020233, -1.5414544343948364, -2.4684205055236816, -2.951807737350464, -2.9034690856933594, -2.6077499389648438, -1.936694622039795, -1.3111345767974854, -0.8675556778907776, -0.9244247674942017, -1.3736906051635742, -1.8513909578323364, -2.0305285453796387, -1.803052306175232, -1.2087701559066772, -0.594584047794342, -0.25905641913414, -0.29033440351486206, -0.8021562099456787, -1.7291224002838135, -2.23810076713562, -2.323404312133789, -1.8058956861495972, -0.7452871203422546, 0.42905956506729126, 1.2991565465927124, 2.0441415309906006, 2.2972090244293213, 1.7967610359191895, 1.3986774682998657, 1.0460891723632812, 1.2195398807525635, 1.4953548908233643, 1.631840705871582, 1.577815055847168, 1.128549337387085, 0.025289015844464302, -0.7396002411842346, -1.9679726362228394, -2.4428296089172363, -2.3944907188415527, -1.7774611711502075, -1.3168214559555054, -0.6343923807144165, 0.05656701326370239, 0.696344256401062, 1.0261850357055664, 1.657431721687317, 2.4052603244781494, 3.3037919998168945, 3.872483015060425, 4.509416580200195, 4.589033603668213, 3.9663169384002686, 3.170149803161621, 1.700083613395691, 0.4404333829879761, -0.5234977006912231, -0.7879389524459839, -0.6628269553184509, -0.44103750586509705, -0.36142078042030334, -0.4723154902458191, -0.7907823920249939, -0.9329550862312317, -0.8703991174697876, -0.6315489411354065, -0.08560571074485779, 0.6366317272186279, 1.3076869249343872, 1.5124156475067139, 1.3474953174591064, 0.815769374370575, -0.060014620423316956, -0.597427487373352, -0.9955111145973206, -0.7339133024215698, -0.07138843834400177, 0.33238211274147034, 0.5172066688537598, 0.4802417457103729, 0.025289015844464302, -0.22209151089191437, -0.3045516908168793, -0.1652224361896515, 0.2954171895980835, 0.571232259273529, 0.642318606376648, 0.7361526489257812, 0.48877209424972534, -0.19081351161003113, -0.6372358798980713, -1.4390900135040283, -2.1982924938201904, -2.5423502922058105, -2.505385398864746, -2.203979253768921, -1.9509118795394897, -1.7575570344924927, -1.8428605794906616, -1.91679048538208, -1.9878767728805542, -1.7973653078079224, -1.7234355211257935, -1.279856562614441, -1.0125718116760254, -0.8533384203910828, -0.9613896608352661, -1.035319447517395, -1.285543441772461, -1.803052306175232, -2.320560932159424, -2.7868874073028564, -2.545193910598755, -1.5442979335784912, -0.7794085741043091, 0.2868868410587311, 0.8413604497909546, 0.9351944327354431, 0.9323509931564331, 0.7190918922424316, 0.6792835593223572, 0.7190918922424316, 0.5456411838531494, 0.6849704384803772, 0.5314239263534546, 0.5570150017738342, 0.23286119103431702, -0.12257061898708344, -1.0808147192001343, -1.862764835357666, -2.2750656604766846, -2.1243627071380615, -1.6409753561019897, -1.1490576267242432, -0.6997918486595154, -0.5035935044288635, -0.27611714601516724, 0.011071743443608284, 0.6167275309562683, 1.1996357440948486, 2.0839500427246094, 2.9597339630126953, 3.5284249782562256, 3.6222589015960693, 3.460181951522827, 2.7351009845733643, 1.6489014625549316, 0.9380378723144531, 0.01675865240395069, -0.13110098242759705, 0.2158004641532898, 0.5285804271697998, 0.7759609818458557, 0.7077180743217468, 0.24423500895500183, -0.005988983437418938, -0.18797005712985992, 0.12765337526798248, 0.7247788310050964, 1.176888108253479, 1.6517448425292969, 1.6147799491882324, 1.3816168308258057, 0.9323509931564331, 0.42052918672561646, 0.20158319175243378, 0.18736591935157776, 0.7190918922424316, 1.2934696674346924, 1.7939175367355347, 2.046984910964966, 1.4413293600082397, 0.8299866318702698, 0.10774919390678406, -0.3983856737613678, -0.3301427662372589, -0.000302074127830565, 0.505832850933075, 1.0460891723632812, 1.182574987411499, 1.0091242790222168, 0.49730247259140015, -0.1652224361896515, -0.7054787874221802, -0.9329550862312317, -0.8049996495246887, -0.6287055015563965, -0.27896058559417725, -0.3073951303958893, -0.34720349311828613, -0.7879389524459839, -1.2343612909317017, -1.2627958059310913, -1.2997606992721558, -0.9841372966766357, -0.5490887761116028, -0.3813249468803406, -0.4040725827217102, -0.9500158429145813, -1.632444977760315, -2.4769508838653564, -2.877877950668335, -3.176440477371216, -2.877877950668335, -2.27790904045105, -1.5073330402374268, -0.6429227590560913, 0.05372355878353119, 0.07078428566455841, 0.04803664982318878, -0.06854498386383057, -0.08560571074485779, 0.03381938114762306, 0.08215810358524323, -0.060014620423316956, -0.1794397085905075, -0.45525476336479187, -0.7111656665802002, -1.399281620979309, -2.024841785430908, -2.3916473388671875, -2.613436698913574, -2.448516368865967, -2.0163114070892334, -1.632444977760315, -1.3964382410049438, -1.1945528984069824, -0.850494921207428, -0.36426421999931335, 0.218643918633461, 1.2110095024108887, 2.282991647720337, 3.1872103214263916, 3.619415521621704, 3.8355181217193604, 3.6051981449127197, 2.8033440113067627, 2.1834707260131836, 1.3730864524841309, 0.9750028252601624, 1.0176546573638916, 1.0404022932052612, 0.9863766431808472, 0.9010729789733887, 0.34944283962249756, 0.07931464910507202, -0.07707534730434418, -0.03726698085665703, 0.35512974858283997, 0.7987086176872253, 1.1512969732284546, 1.7171443700790405, 1.8678474426269531, 1.5579109191894531, 1.3873037099838257, 0.8669515252113342, 0.7759609818458557, 0.9806897044181824, 1.2593482732772827, 1.711457371711731, 1.8678474426269531, 1.5977191925048828, 1.3418084383010864, 0.7418395280838013, 0.34944283962249756, 0.19305282831192017, 0.00822828896343708, 0.013915197923779488, 0.12196646630764008, 0.1447141021490097, 0.08215810358524323, -0.017362801358103752, -0.3244558572769165, -0.9244247674942017, -1.0609105825424194, -1.333882212638855, -1.3139779567718506, -1.035319447517395, -0.9272682070732117, -0.6997918486595154, -0.8277472853660583, -1.1973963975906372, -1.5926365852355957, -1.9111034870147705, -2.1897621154785156, -1.9679726362228394, -1.8656082153320312, -1.8229564428329468, -1.8855124711990356, -2.1783881187438965, -2.6504015922546387, -3.0001463890075684, -3.2873353958129883, -3.2674310207366943, -2.923373222351074, -2.471264123916626, -1.6040104627609253, -0.8874598145484924, -0.28464749455451965, -0.27611714601516724, -0.3244558572769165, -0.4069160521030426, -0.19934387505054474, -0.000302074127830565, 0.5939798951148987, 0.8982295393943787, 0.9039164185523987, 0.6508489847183228, 0.06794083118438721, -0.4069160521030426, -0.8903033137321472, -1.1718052625656128, -1.1803356409072876, -1.023945689201355, -0.8220604062080383, -0.6941049695014954, -0.7310698628425598, -0.5718364119529724, -0.25905641913414, -0.06854498386383057, 0.5570150017738342, 1.509572148323059, 2.34839129447937, 3.0677852630615234, 3.1872103214263916, 3.1019067764282227, 2.689605712890625, 1.9019688367843628, 1.4669203758239746, 0.878325343132019, 0.6451621055603027, 0.7020311951637268, 0.7304657101631165, 0.5882930159568787, 0.35228627920150757, -0.25905641913414, -0.5149673223495483, -0.6969484090805054, -0.7083222270011902, -0.45525476336479187, -0.2391522377729416, 0.1304968297481537, 0.4006250202655792, 0.5627018809318542, 0.6394751667976379, 0.6622228026390076, 0.7958651781082153, 0.8356735110282898, 0.8555777072906494, 0.9124467968940735, 1.0233415365219116, 1.2707220315933228, 1.2764089107513428, 1.1058017015457153, 0.9579420685768127, 0.7930217385292053, 0.6792835593223572, 0.8612646460533142, 0.8982295393943787, 0.9579420685768127, 0.696344256401062, 0.568388819694519, 0.23570464551448822, 0.1418706476688385, -0.29317787289619446, -0.3898553252220154, -0.6258620619773865, -0.6287055015563965, -0.4211333096027374, -0.27896058559417725, 0.1390271931886673, 0.3636600971221924, 0.15324446558952332, -0.011675892397761345, -0.4239767789840698, -0.6031144261360168, -0.6031144261360168, -0.5490887761116028, -0.35004696249961853, -0.3926987648010254, -0.5007500648498535, -0.9272682070732117, -1.4874287843704224, -1.7205920219421387, -1.8400171995162964, -1.6665664911270142, -1.3026041984558105, -0.850494921207428, -0.3415165841579437, -0.2647433280944824, -0.10266643762588501, -0.27043023705482483, -0.4893762171268463, -0.7595043778419495, -0.6969484090805054, -0.6372358798980713, -0.14531825482845306, 0.19873973727226257, 0.4660244584083557, 0.571232259273529, 0.32385173439979553, 0.03097592480480671, -0.11688371002674103, -0.34720349311828613, -0.35004696249961853, -0.26758676767349243, -0.12257061898708344, 0.08215810358524323, 0.218643918633461, 0.025289015844464302, 0.04234974458813667, 0.04519319906830788, 0.42621609568595886, 0.8527342677116394, 1.245131015777588, 1.6887097358703613, 2.2886786460876465, 2.510468006134033, 2.5360591411590576, 2.1834707260131836, 1.8166651725769043, 1.4925113916397095, 1.5465370416641235, 1.819508671760559, 2.2886786460876465, 2.510468006134033, 2.4479122161865234, 1.941777229309082, 1.3446518182754517, 0.8072389960289001, 0.7816479206085205, 0.6735966205596924, 0.7589002847671509, 0.872638463973999, 0.9010729789733887, 1.1001148223876953, 1.236600637435913, 1.4527031183242798, 1.4527031183242798, 1.5607542991638184, 1.7199877500534058, 2.0014898777008057, 2.325643539428711, 2.6327366828918457, 2.723727226257324, 2.752161741256714, 2.430851459503174, 2.0526719093322754, 1.813821792602539, 1.631840705871582, 1.3133739233016968, 1.2138530015945435, 0.696344256401062, 0.1390271931886673, -0.35573387145996094, -0.6941049695014954, -0.9869807362556458, -1.0609105825424194, -1.0722843408584595, -0.9244247674942017, -0.7452871203422546, -0.3415165841579437, -0.1709093451499939, -0.04011043533682823, -0.12825752794742584, -0.36710768938064575, -0.6941049695014954, -0.8760859966278076, -0.8675556778907776, -0.9244247674942017, -0.9983545541763306, -1.0722843408584595, -1.3537863492965698, -1.936694622039795, -2.4371426105499268, -2.781200647354126, -2.8920953273773193, -2.55941104888916, -1.9992506504058838, -1.6580361127853394, -1.3480994701385498, -1.0751278400421143, -1.2002397775650024, -1.2428916692733765, -1.3310387134552002, -1.413498878479004, -1.5386109352111816, -1.4760550260543823, -1.1945528984069824, -0.7993127703666687, -0.415446400642395, -0.3926987648010254, -0.4780023992061615, -0.7850955128669739, -0.8703991174697876, -0.594584047794342, -0.37279459834098816, -0.18512660264968872, -0.1652224361896515, -0.3358296751976013, -0.384168416261673, -0.6742007732391357, -0.7026352882385254, -0.35857731103897095, -0.2562129497528076, 0.3210082948207855, 0.7389960885047913, 0.8925426006317139, 1.1114885807037354, 1.1569838523864746, 1.006280779838562, 0.9806897044181824, 1.0460891723632812, 1.2024791240692139, 1.515259027481079, 1.577815055847168, 1.4839810132980347, 1.384460210800171, 0.9550986289978027, 0.7361526489257812, 0.3011040985584259, 0.26698264479637146, 0.26129573583602905, 0.32385173439979553, 0.1475575566291809, -0.03726698085665703, -0.5832102298736572, -0.5320280194282532, -0.4182898700237274, -0.06854498386383057, 0.6110406517982483, 1.074523687362671, 1.3304345607757568, 1.4811376333236694, 1.4811376333236694, 1.4242686033248901, 1.4157382249832153, 1.4839810132980347, 1.2991565465927124, 1.1029582023620605, 0.8669515252113342, 0.6622228026390076, 0.12196646630764008, -0.3244558572769165, -0.9471724033355713, -1.3537863492965698, -1.6665664911270142, -1.7490266561508179, -1.5983235836029053, -1.4931156635284424, -1.0523802042007446, -0.7396002411842346, -0.5035935044288635, -0.387011855840683, -0.19650042057037354, -0.0998229831457138, -0.18512660264968872, -0.15100516378879547, -0.21356114745140076, -0.2419956922531128, -0.35573387145996094, -0.37279459834098816, -0.6770442128181458, -1.0154153108596802, -1.6125408411026, -2.1129887104034424, -2.343308687210083, -2.3262479305267334, -2.121519088745117, -1.7575570344924927, -1.504489541053772, -1.1547445058822632, -0.9244247674942017, -0.7310698628425598, -0.5718364119529724, -0.244839146733284, -0.06570152938365936, 0.03381938114762306, -0.017362801358103752, 0.11627955734729767, 0.48877209424972534, 0.7759609818458557, 0.878325343132019, 1.0290284156799316, 1.128549337387085, 1.0233415365219116, 0.9920635223388672, 0.9465682506561279, 1.0176546573638916, 0.9664724469184875, 0.8840122818946838, 0.7105615139007568, 0.6593793630599976, 0.7020311951637268, 0.8868557214736938, 0.9494116902351379, 0.9437248110771179, 1.0716803073883057, 1.0432456731796265, 1.0773671865463257, 1.1484534740447998, 1.3418084383010864, 1.358869194984436, 1.358869194984436, 1.4043644666671753, 1.5522239208221436, 1.6403710842132568, 1.754109263420105, 1.887751579284668, 1.7285181283950806, 1.5749715566635132, 1.427112102508545, 1.0574629306793213, 0.5968233346939087, 0.2243308275938034, 0.013915197923779488, -0.36995112895965576, -0.6002709269523621, -0.6230185627937317, -0.7083222270011902, -0.6969484090805054, -0.4666285812854767, -0.21640460193157196, -0.07423189282417297, 0.1333402842283249, 0.3153213858604431, 0.40346845984458923, 0.5513280630111694, 0.7048746347427368, 0.6565359234809875, 0.41199883818626404, 0.3067910075187683, -0.11404025554656982, -0.4069160521030426, -0.7765651345252991, -0.978450357913971, -1.3907512426376343, -1.632444977760315, -1.766087293624878, -1.6296014785766602, -1.2713261842727661, -1.023945689201355, -0.6173316836357117, -0.27896058559417725, -0.12825752794742584, 0.06794083118438721, 0.23286119103431702, 0.26698264479637146, 0.16461828351020813, 0.1475575566291809, -0.017362801358103752, -0.3017082214355469, -0.4239767789840698, -0.7396002411842346, -1.0751278400421143, -1.4078119993209839, -1.6011669635772705, -1.8428605794906616, -1.8513909578323364, -1.697844386100769, -1.5016460418701172, -1.1263099908828735, -0.7452871203422546, -0.4211333096027374, -0.3045516908168793, -0.244839146733284, -0.26758676767349243, 0.09353192150592804, 0.2925737500190735, 0.4660244584083557, 0.4603375494480133, 0.3608166575431824, 0.1418706476688385, 0.01675865240395069, 0.04803664982318878, 0.036662835627794266, 0.1333402842283249, 0.16461828351020813, 0.26129573583602905, 0.20442664623260498, 0.10206228494644165, 0.03097592480480671, -0.0941360741853714, -0.07138843834400177, -0.025893162935972214, 0.10206228494644165, 0.3608166575431824, 0.3153213858604431, 0.3693470060825348, 0.09068846702575684, -0.13678789138793945, -0.19365696609020233, -0.0941360741853714, 0.059410467743873596, 0.2101135551929474, 0.3892512023448944, 0.3693470060825348, 0.35797318816185, 0.3210082948207855, 0.24139155447483063, 0.03381938114762306, -0.04579734802246094, -0.22777841985225677, -0.3443600535392761, -0.3358296751976013, -0.45809823274612427, -0.6088013052940369, -0.7879389524459839, -0.9613896608352661, -1.0751278400421143, -0.9414854645729065, -0.725382924079895, -0.27896058559417725, -0.008832437917590141, 0.386407732963562, 0.4489637315273285, 0.49730247259140015, 0.5541715621948242, 0.6281013488769531, 0.8271431922912598, 0.9920635223388672, 1.0887409448623657, 1.128549337387085, 1.0261850357055664, 0.9351944327354431, 0.568388819694519, 0.35512974858283997, 0.12480992078781128, -0.26758676767349243, -0.5263411402702332, -0.6144882440567017, -0.6571400165557861, -0.6457661986351013, -0.387011855840683, -0.42966368794441223, -0.36710768938064575, -0.5604625940322876, -0.44956785440444946, -0.5490887761116028, -0.43819403648376465, -0.3358296751976013, -0.3415165841579437, -0.3045516908168793, -0.13394443690776825, -0.017362801358103752, -0.04579734802246094, -0.04011043533682823, -0.19365696609020233, -0.4182898700237274, -0.534871518611908, -0.5149673223495483, -0.44388094544410706, -0.34720349311828613, -0.3926987648010254, -0.5519322156906128, -0.7993127703666687, -0.9727634787559509, -0.9528592824935913, -0.844808042049408, -0.7538174986839294, -0.8647121787071228, -0.9955111145973206, -1.2684826850891113, -1.3367255926132202, -1.3424125909805298, -1.2258309125900269, -0.9841372966766357, -0.8192169666290283, -0.7566609382629395, -0.6002709269523621, -0.45241132378578186, -0.3358296751976013, -0.44103750586509705, -0.45809823274612427, -0.6258620619773865, -0.6827311515808105, -0.7481305599212646, -0.725382924079895, -0.7396002411842346, -0.7623478770256042, -0.8277472853660583, -1.0495367050170898, -1.0609105825424194, -0.904520571231842, -0.8078431487083435, -0.4666285812854767, -0.0998229831457138, 0.025289015844464302, 0.1333402842283249, 0.19873973727226257, 0.23854809999465942, 0.23286119103431702, 0.33806902170181274, 0.24423500895500183, 0.19589628279209137, 0.2271742820739746, 0.32385173439979553, 0.35228627920150757, 0.2300177365541458, 0.2897302806377411, 0.2982606589794159, 0.34659937024116516, 0.4518072009086609, 0.6622228026390076, 0.7702741026878357, 1.122862458229065, 1.3730864524841309, 1.5408501625061035, 1.5550674200057983, 1.3446518182754517, 1.3673994541168213, 1.4640768766403198, 1.4896680116653442, 1.5550674200057983, 1.432798981666565, 1.1200189590454102, 0.8584211468696594, 0.4773982763290405, 0.24423500895500183, 0.002541380235925317, -0.020206255838274956, -0.025893162935972214, -0.08276225626468658, 0.019602106884121895, 0.05372355878353119, -0.011675892397761345, -0.3244558572769165, -0.6031144261360168, -0.8192169666290283, -0.8703991174697876, -0.6656703948974609, -0.4182898700237274, -0.3102385997772217, -0.20503078401088715, -0.25905641913414, -0.27896058559417725, -0.23630878329277039, -0.0912926197052002, 0.011071743443608284, 0.0622539222240448, -0.011675892397761345, -0.1680658906698227, -0.35857731103897095, -0.4694720506668091, -0.6059578657150269, -0.850494921207428, -1.0637539625167847, -1.3623167276382446, -1.5755759477615356, -1.5073330402374268, -1.339569091796875, -1.2770130634307861, -1.3680036067962646, -1.4874287843704224, -1.4248727560043335, -1.2315177917480469, -1.0267890691757202, -0.7850955128669739, -0.4239767789840698, -0.11688371002674103, 0.23854809999465942, 0.35512974858283997, 0.49730247259140015, 0.5342673659324646, 0.41484227776527405, 0.3920946419239044, 0.2271742820739746, 0.2101135551929474, -0.05432771146297455, -0.11404025554656982, -0.35289040207862854, -0.45809823274612427, -0.6088013052940369, -0.44672441482543945, -0.37563803791999817, -0.12825752794742584, 0.07931464910507202, 0.25560882687568665, 0.35797318816185, 0.5001459121704102, 0.6252579092979431, 0.8043955564498901, 0.8669515252113342, 0.9863766431808472, 1.080210566520691, 1.2166963815689087, 1.2110095024108887, 1.2195398807525635, 1.2223833799362183, 1.1313928365707397, 0.9693158864974976, 0.7702741026878357, 0.6138840913772583, 0.7190918922424316, 0.6337882876396179, 0.7389960885047913, 0.815769374370575, 0.9295075535774231, 1.2081661224365234, 1.3247476816177368, 1.2309136390686035, 1.364556074142456, 1.5209459066390991, 1.705770492553711, 1.6034061908721924, 1.461233377456665, 1.304843544960022, 0.8129258751869202, 0.6366317272186279, 0.5484846234321594, 0.3892512023448944, 0.1390271931886673, 0.05656701326370239, -0.0941360741853714, -0.16237898170948029, -0.08844916522502899, 0.00822828896343708, -0.10550989210605621, -0.11404025554656982, -0.21356114745140076, -0.12541407346725464, -0.10835334658622742, 0.07078428566455841, 0.1447141021490097, 0.26129573583602905, 0.26129573583602905, 0.3039475679397583, 0.3039475679397583, 0.49445900321006775, 0.43190300464630127, 0.3807208240032196, 0.34944283962249756, 0.4603375494480133, 0.4631810188293457, 0.32385173439979553, 0.19305282831192017, 0.08215810358524323, -0.0912926197052002, -0.3329862356185913, -0.37848150730133057, -0.29033440351486206, -0.3386731445789337, -0.3216124176979065, -0.3443600535392761, -0.412602961063385, -0.4609416723251343, -0.5035935044288635, -0.4097594916820526, -0.3187689483165741, -0.1709093451499939, -0.060014620423316956, 0.11627955734729767, 0.32953864336013794, 0.42337265610694885, 0.40915536880493164, 0.3210082948207855, 0.33238211274147034, 0.20727010071277618, 0.20158319175243378, 0.15324446558952332, 0.1418706476688385, -0.017362801358103752, 0.09637537598609924, 0.005384834948927164, 0.10774919390678406, 0.15608792006969452, 0.34375593066215515, 0.511519730091095, 0.5228935480117798, 0.6792835593223572, 0.6735966205596924, 0.7475264668464661, 0.8015520572662354, 0.7333091497421265, 0.8584211468696594, 0.9806897044181824, 0.9721593260765076, 0.9892200827598572, 0.9721593260765076, 0.9266640543937683, 0.9181337356567383, 0.9607855081558228, 0.9693158864974976, 0.9408813714981079, 0.9323509931564331, 0.8868557214736938, 0.9380378723144531, 0.9664724469184875, 0.8470473289489746, 0.8271431922912598, 0.7645871639251709, 0.8328300714492798, 0.7930217385292053, 0.8953860998153687, 1.0034373998641968, 0.9607855081558228, 0.8470473289489746, 0.9181337356567383, 0.6735966205596924, 0.5314239263534546, 0.33522555232048035, 0.2271742820739746, 0.09637537598609924, -0.08276225626468658, -0.06285807490348816, -0.19365696609020233, -0.0969795286655426, -0.35573387145996094, -0.3102385997772217, -0.4012291431427002, -0.3102385997772217, -0.35004696249961853, -0.3045516908168793, -0.28180405497550964, -0.29317787289619446, -0.35573387145996094, -0.44103750586509705, -0.4666285812854767, -0.5035935044288635, -0.6144882440567017, -0.5121238827705383, -0.5178107619285583, -0.5064369440078735, -0.5576191544532776, -0.6144882440567017, -0.6429227590560913, -0.6912614703178406, -0.8220604062080383, -0.7481305599212646, -0.8789294958114624, -1.0068849325180054, -1.2514220476150513, -1.2997606992721558, -1.3651602268218994, -1.291230320930481, -1.2372047901153564, -1.2315177917480469, -1.1774921417236328, -1.222987413406372, -1.2457350492477417, -1.0665974617004395, -0.7964693307876587, -0.7481305599212646, -0.4950631260871887, -0.2391522377729416, -0.03726698085665703, 0.09068846702575684, 0.2783564627170563, 0.40631192922592163, 0.4745548367500305, 0.5257369875907898, 0.5598584413528442, 0.6451621055603027, 0.8470473289489746, 0.9437248110771179, 1.1143320798873901, 1.256504774093628, 1.427112102508545, 1.4754506349563599, 1.6830228567123413, 1.6517448425292969, 1.8564735651016235, 1.8308825492858887, 1.8621604442596436, 1.8365694284439087, 1.833725929260254, 1.7797002792358398, 1.8024479150772095, 1.5436935424804688, 1.5436935424804688, 1.5010417699813843, 1.4811376333236694, 1.6034061908721924, 1.5806585550308228, 1.6489014625549316, 1.6517448425292969, 1.694396734237671, 1.685866355895996, 1.7569526433944702, 1.8536301851272583, 1.7512657642364502, 1.7285181283950806, 1.7313616275787354, 1.626153826713562, 1.4697637557983398, 1.4242686033248901, 1.3133739233016968, 1.2707220315933228, 1.1512969732284546, 0.9437248110771179, 0.7077180743217468, 0.5314239263534546, 0.383564293384552, 0.27266955375671387, 0.050880104303359985, 0.08784501254558563, 0.013915197923779488, -0.03726698085665703, -0.0941360741853714, -0.10550989210605621, -0.060014620423316956, -0.07991880178451538, -0.06854498386383057, -0.017362801358103752, 0.20727010071277618, 0.2214873731136322, 0.3636600971221924, 0.32669520378112793, 0.20727010071277618, 0.11059264838695526, -0.005988983437418938, 0.050880104303359985, -0.06285807490348816, -0.12257061898708344, -0.3358296751976013, -0.42966368794441223, -0.6628269553184509, -0.8249038457870483, -0.8931467533111572, -0.978450357913971, -0.9756069183349609, -0.9670765399932861, -0.9898241758346558, -1.0097284317016602, -1.0665974617004395, -0.9727634787559509, -0.7396002411842346, -0.6941049695014954, -0.668513834476471, -0.7111656665802002, -0.6287055015563965, -0.6628269553184509, -0.6258620619773865, -0.5291845798492432, -0.4808458685874939, -0.3898553252220154, -0.35004696249961853, -0.22777841985225677, -0.011675892397761345, 0.1333402842283249, 0.1504010111093521, 0.25560882687568665, 0.24423500895500183, 0.3693470060825348, 0.4006250202655792, 0.5228935480117798, 0.5797626376152039, 0.6821269989013672, 0.7077180743217468, 0.6053537130355835, 0.7162484526634216, 0.6081971526145935, 0.5769191980361938, 0.4006250202655792, 0.2840433716773987, 0.23286119103431702, 0.1333402842283249, -0.03726698085665703, -0.22777841985225677, -0.27611714601516724, -0.36426421999931335, -0.36426421999931335, -0.3955422341823578, -0.28749096393585205, -0.23630878329277039, -0.2562129497528076, -0.244839146733284, -0.28464749455451965, -0.2647433280944824, -0.2391522377729416, -0.16237898170948029, -0.20503078401088715, -0.244839146733284, -0.25905641913414, -0.3983856737613678, -0.4751589596271515, -0.4950631260871887, -0.6258620619773865, -0.7566609382629395, -0.8760859966278076, -0.9102074503898621, -0.9812938570976257, -1.1064058542251587, -1.083658218383789, -1.0552237033843994, -1.1120927333831787, -1.077971339225769, -0.9357985854148865, -0.841964602470398, -0.6997918486595154, -0.5121238827705383, -0.37848150730133057, -0.21640460193157196, -0.2647433280944824, -0.21640460193157196, -0.06570152938365936, -0.0998229831457138, -0.10835334658622742, 0.036662835627794266, -0.07138843834400177, -0.06285807490348816, -0.11972716450691223, -0.1737527996301651, -0.042953889816999435, -0.12825752794742584, -0.11972716450691223, -0.07991880178451538, -0.21356114745140076, -0.36426421999931335, -0.3130820393562317, -0.3272993266582489, -0.27327367663383484, -0.1652224361896515, -0.14531825482845306, -0.05717116594314575, -0.03726698085665703, -0.04864080250263214, 0.19873973727226257, 0.2101135551929474, 0.40346845984458923, 0.4773982763290405, 0.4802417457103729, 0.41199883818626404, 0.33238211274147034, 0.24707846343517303, 0.24992191791534424, 0.23286119103431702, 0.2840433716773987, 0.3153213858604431, 0.383564293384552, 0.3977815508842468, 0.41768574714660645, 0.34091246128082275, 0.4745548367500305, 0.4375899136066437, 0.5001459121704102, 0.514363169670105, 0.5769191980361938, 0.5285804271697998, 0.3892512023448944, 0.3067910075187683, 0.2868868410587311, 0.10774919390678406, 0.11343610286712646, 0.09637537598609924, 0.04803664982318878, -0.0969795286655426, -0.28464749455451965, -0.29033440351486206, -0.4950631260871887, -0.5604625940322876, -0.534871518611908, -0.5092803835868835, -0.6088013052940369, -0.5775232911109924, -0.5007500648498535, -0.4012291431427002, -0.415446400642395, -0.3073951303958893, -0.28464749455451965, -0.3102385997772217, -0.3244558572769165, -0.3386731445789337, -0.3017082214355469, -0.19365696609020233, -0.12825752794742584, -0.0912926197052002, -0.10835334658622742, -0.10266643762588501, -0.2476826012134552, -0.3216124176979065, -0.4040725827217102, -0.35004696249961853, -0.36142078042030334, -0.3358296751976013, -0.3955422341823578, -0.5064369440078735, -0.5178107619285583, -0.5178107619285583, -0.5775232911109924, -0.415446400642395, -0.37563803791999817, -0.3045516908168793, -0.19365696609020233, -0.03726698085665703, -0.04011043533682823, -0.07707534730434418, -0.19081351161003113, -0.22493496537208557, -0.23062187433242798, -0.3216124176979065, -0.384168416261673, -0.387011855840683, -0.43535059690475464, -0.44672441482543945, -0.4922196865081787, -0.4836893081665039, -0.5633060336112976, -0.6343923807144165, -0.6855745911598206, -0.7566609382629395, -0.7282264232635498, -0.7936258316040039, -0.8675556778907776, -0.9756069183349609, -1.1604315042495728, -1.2827000617980957, -1.3822208642959595, -1.4476203918457031, -1.3822208642959595, -1.3253518342971802, -1.2514220476150513, -1.2002397775650024, -1.222987413406372, -1.3367255926132202, -1.3594732284545898, -1.4106554985046387, -1.4845854043960571, -1.3253518342971802, -1.205926775932312, -1.1661183834075928, -1.146214246749878, -0.9926676750183105, -0.9841372966766357, -0.9557027220726013, -0.9272682070732117, -0.8789294958114624, -0.6912614703178406, -0.5718364119529724, -0.5547756552696228, -0.5519322156906128, -0.45525476336479187, -0.4239767789840698, -0.4069160521030426, -0.35004696249961853, -0.1652224361896515, -0.07707534730434418, -0.04864080250263214, 0.07647119462490082, 0.08784501254558563, 0.028132470324635506, 0.05372355878353119, 0.15893137454986572, 0.18452246487140656, 0.2783564627170563, 0.3124779164791107, 0.4006250202655792, 0.3920946419239044, 0.48592865467071533, 0.5996668338775635, 0.6735966205596924, 0.7844913601875305, 0.7816479206085205, 0.7048746347427368, 0.7446829676628113, 0.8470473289489746, 0.8498908281326294, 0.7844913601875305, 0.8584211468696594, 0.8612646460533142, 0.8385170102119446, 0.8072389960289001, 0.7162484526634216, 0.7020311951637268, 0.6394751667976379, 0.5314239263534546, 0.4631810188293457, 0.4006250202655792, 0.3892512023448944, 0.20727010071277618, 0.218643918633461, 0.1504010111093521, 0.11059264838695526, 0.050880104303359985, 0.03950629010796547, 0.03097592480480671, -0.07707534730434418, -0.05432771146297455, -0.0941360741853714, -0.3272993266582489, -0.4609416723251343, -0.5547756552696228, -0.6429227590560913, -0.8220604062080383, -0.8760859966278076, -1.0068849325180054, -1.0722843408584595, -1.1490576267242432, -1.1803356409072876, -1.2684826850891113, -1.393594741821289, -1.5300806760787964, -1.638131856918335, -1.874138593673706, -1.9224773645401, -1.8997297286987305, -1.8712952136993408, -1.9622857570648193, -1.9765030145645142, -2.002094030380249, -2.0703370571136475, -2.0475893020629883, -2.0191547870635986, -1.9111034870147705, -1.8257999420166016, -1.874138593673706, -1.751870036125183, -1.760400414466858, -1.7319658994674683, -1.6125408411026, -1.4874287843704224, -1.4589942693710327, -1.2571089267730713, -1.2087701559066772, -1.0154153108596802, -0.9983545541763306, -0.8931467533111572, -0.8305907845497131, -0.7140091061592102, -0.5803667902946472, -0.5121238827705383, -0.3244558572769165, -0.28180405497550964, -0.1765962541103363, -0.11119680106639862, 0.011071743443608284, -0.014519346877932549, -0.025893162935972214, -0.020206255838274956, 0.1390271931886673, 0.16461828351020813, 0.18736591935157776, 0.24423500895500183, 0.3011040985584259, 0.3636600971221924, 0.4461202919483185, 0.32953864336013794, 0.34375593066215515, 0.4688679277896881, 0.383564293384552, 0.3665035665035248, 0.40346845984458923, 0.41199883818626404, 0.3750339150428772, 0.2982606589794159, 0.1418706476688385, 0.15893137454986572, 0.09921883046627045, 0.11912301182746887, 0.036662835627794266, 0.019602106884121895, 0.03381938114762306, -0.028736617416143417, -0.042953889816999435, -0.12825752794742584, -0.2419956922531128, -0.18228314816951752, -0.27896058559417725, -0.22777841985225677, -0.3244558572769165, -0.28749096393585205, -0.36142078042030334, -0.3017082214355469, -0.28180405497550964, -0.35857731103897095, -0.3813249468803406, -0.21640460193157196, -0.13963134586811066, -0.2505260407924652, -0.3415165841579437, -0.35573387145996094, -0.3926987648010254, -0.5234977006912231, -0.5149673223495483, -0.4922196865081787, -0.412602961063385, -0.36710768938064575, -0.35004696249961853, -0.29886478185653687, -0.11404025554656982, -0.06854498386383057, -0.15384861826896667, -0.10550989210605621, -0.14531825482845306, -0.20218732953071594, -0.2476826012134552, -0.26758676767349243, -0.5149673223495483, -0.5775232911109924, -0.6542965769767761, -0.7651913166046143, -0.9500158429145813, -1.0267890691757202, -0.9301116466522217, -0.9471724033355713, -0.9812938570976257, -0.9983545541763306, -0.9841372966766357, -1.0211021900177002, -1.1149362325668335, -1.1007189750671387, -0.9955111145973206, -0.9357985854148865, -1.0011980533599854, -0.9414854645729065, -0.9158943891525269, -0.8590252995491028, -0.7879389524459839, -0.719696044921875, -0.6713573336601257, -0.6457661986351013, -0.4609416723251343, -0.45241132378578186, -0.34720349311828613, -0.244839146733284, -0.14816170930862427, -0.10266643762588501, -0.051484256982803345, -0.008832437917590141, 0.09921883046627045, 0.12480992078781128, 0.25845229625701904, 0.218643918633461, 0.24992191791534424, 0.20727010071277618, 0.2271742820739746, 0.18736591935157776, 0.2101135551929474, 0.19020937383174896, 0.2897302806377411, 0.2271742820739746, 0.26413920521736145, 0.15893137454986572, 0.2129570096731186, 0.24707846343517303, 0.1475575566291809, 0.18452246487140656, 0.10490573942661285, 0.19873973727226257, 0.08784501254558563, 0.16461828351020813, 0.19305282831192017, 0.17314864695072174, 0.17883555591106415, 0.17883555591106415, 0.08784501254558563, 0.18736591935157776, 0.16461828351020813, 0.24423500895500183, 0.24139155447483063, 0.3011040985584259, 0.3977815508842468, 0.4006250202655792, 0.4773982763290405, 0.565545380115509, 0.5172066688537598, 0.5456411838531494, 0.6138840913772583, 0.6053537130355835, 0.6508489847183228, 0.875481903553009, 0.8015520572662354, 0.8868557214736938, 0.9209771752357483, 1.0347152948379517, 0.9949069619178772, 1.000593900680542, 1.074523687362671, 1.1541404724121094, 1.1086452007293701, 1.1456100940704346, 1.1712011098861694, 1.0574629306793213, 1.0716803073883057, 0.9920635223388672, 0.9949069619178772, 0.9238206148147583, 0.8896991610527039, 0.693500816822052, 0.5513280630111694, 0.4660244584083557, 0.23286119103431702, 0.08215810358524323, -0.005988983437418938, -0.13394443690776825, -0.14531825482845306, -0.10550989210605621, -0.19934387505054474, -0.18797005712985992, -0.2647433280944824, -0.3216124176979065, -0.34720349311828613, -0.44956785440444946, -0.44388094544410706, -0.5121238827705383, -0.6400793194770813, -0.597427487373352, -0.5291845798492432, -0.5576191544532776, -0.44956785440444946, -0.5121238827705383, -0.4751589596271515, -0.4097594916820526, -0.29317787289619446, -0.2391522377729416, -0.04011043533682823, 0.050880104303359985, 0.16461828351020813, 0.17030519247055054, 0.24139155447483063, 0.41768574714660645, 0.6138840913772583, 0.6707531809806824, 0.8584211468696594, 1.0347152948379517, 1.0944279432296753, 1.1484534740447998, 1.2110095024108887, 1.2678786516189575, 1.304843544960022, 1.3418084383010864, 1.3304345607757568, 1.2479743957519531, 1.2024791240692139, 1.117175579071045, 1.0830540657043457, 0.9835331439971924, 0.8953860998153687, 0.8328300714492798, 0.7020311951637268, 0.7503699064254761, 0.6480055451393127, 0.6309447884559631, 0.5797626376152039, 0.571232259273529, 0.48308518528938293, 0.41768574714660645, 0.3721904754638672, 0.32953864336013794, 0.24707846343517303, 0.09353192150592804, 0.065097376704216, -0.020206255838274956, -0.1737527996301651, -0.14816170930862427, -0.20218732953071594, -0.26758676767349243, -0.18797005712985992, -0.20503078401088715, -0.10266643762588501, -0.05717116594314575, -0.020206255838274956, -0.051484256982803345, 0.08215810358524323, 0.12765337526798248, 0.19873973727226257, 0.3096344769001007, 0.24423500895500183, 0.3181648254394531, 0.4660244584083557, 0.511519730091095, 0.5285804271697998, 0.6366317272186279, 0.6622228026390076, 0.6593793630599976, 0.6821269989013672, 0.6849704384803772, 0.7418395280838013, 0.7475264668464661, 0.6821269989013672, 0.6281013488769531, 0.6707531809806824, 0.5996668338775635, 0.5968233346939087, 0.4717113673686981, 0.4717113673686981, 0.33806902170181274, 0.33806902170181274, 0.34375593066215515, 0.32669520378112793, 0.2271742820739746, 0.1390271931886673, 0.15893137454986572, 0.059410467743873596, 0.09637537598609924, 0.09068846702575684, 0.0224455613642931, 0.01675865240395069, -0.12541407346725464, -0.19934387505054474, -0.19934387505054474, -0.25905641913414, -0.3813249468803406, -0.44103750586509705, -0.42682021856307983, -0.5149673223495483, -0.4694720506668091, -0.4723154902458191, -0.4723154902458191, -0.45809823274612427, -0.5064369440078735, -0.43535059690475464, -0.35573387145996094, -0.36995112895965576, -0.29602131247520447, -0.23346532881259918, -0.29033440351486206, -0.1709093451499939, -0.18797005712985992, -0.22209151089191437, -0.3301427662372589, -0.29317787289619446, -0.27896058559417725, -0.28464749455451965, -0.3244558572769165, -0.28464749455451965, -0.36995112895965576, -0.42682021856307983, -0.44956785440444946, -0.3926987648010254, -0.4211333096027374, -0.3926987648010254, -0.4239767789840698, -0.4097594916820526, -0.42682021856307983, -0.4751589596271515, -0.5320280194282532, -0.5547756552696228, -0.6031144261360168, -0.5092803835868835, -0.5092803835868835, -0.4097594916820526, -0.45525476336479187, -0.43535059690475464, -0.4609416723251343, -0.5007500648498535, -0.3955422341823578, -0.3301427662372589, -0.28180405497550964, -0.1680658906698227, -0.1794397085905075, -0.02304970845580101, 0.1475575566291809, 0.2840433716773987, 0.505832850933075, 0.6081971526145935, 0.8356735110282898, 0.881168782711029, 1.065993309020996, 1.2024791240692139, 1.2593482732772827, 1.375929832458496, 1.4356423616409302, 1.4128947257995605, 1.3929905891418457, 1.5436935424804688, 1.4356423616409302, 1.4299554824829102, 1.4498597383499146, 1.5209459066390991, 1.4299554824829102, 1.4868245124816895, 1.4640768766403198, 1.3503388166427612, 1.245131015777588, 1.2991565465927124, 1.242287516593933, 1.1655142307281494, 1.1257058382034302, 1.0858975648880005, 1.0204980373382568, 0.9835331439971924, 0.8697949647903442, 0.8641080856323242, 0.7788044214248657, 0.696344256401062, 0.7020311951637268, 0.6167275309562683, 0.5996668338775635, 0.40915536880493164, 0.4375899136066437, 0.4688679277896881, 0.4404333829879761, 0.4717113673686981, 0.49445900321006775, 0.5740756988525391, 0.5200501084327698, 0.5598584413528442, 0.49445900321006775, 0.514363169670105, 0.6252579092979431, 0.5314239263534546, 0.6366317272186279, 0.5769191980361938, 0.5200501084327698, 0.5826060771942139, 0.6224144697189331, 0.5371108055114746, 0.5314239263534546, 0.4802417457103729, 0.48592865467071533, 0.48592865467071533, 0.3750339150428772, 0.4006250202655792, 0.34091246128082275, 0.3181648254394531, 0.26698264479637146, 0.218643918633461, 0.04803664982318878, -0.02304970845580101, -0.1709093451499939, -0.2647433280944824, -0.3272993266582489, -0.35289040207862854, -0.43250712752342224, -0.4211333096027374, -0.5888971090316772, -0.6429227590560913, -0.6827311515808105, -0.7367567420005798, -0.6798876523971558, -0.6400793194770813, -0.540558397769928, -0.591740608215332, -0.6770442128181458, -0.6542965769767761, -0.6486096978187561, -0.6571400165557861, -0.5860536694526672, -0.6343923807144165, -0.5775232911109924, -0.45241132378578186, -0.43819403648376465, -0.3216124176979065, -0.35857731103897095, -0.244839146733284, -0.1765962541103363, -0.14247480034828186, -0.05432771146297455, -0.017362801358103752, 0.0622539222240448, 0.1304968297481537, 0.17030519247055054, 0.26129573583602905, 0.25560882687568665, 0.26982611417770386, 0.2982606589794159, 0.24707846343517303, 0.2897302806377411, 0.3039475679397583, 0.3124779164791107, 0.40631192922592163, 0.3636600971221924, 0.40631192922592163, 0.40346845984458923, 0.5001459121704102, 0.5513280630111694, 0.5627018809318542, 0.5797626376152039, 0.4688679277896881, 0.3949381113052368, 0.4631810188293457, 0.3920946419239044, 0.4461202919483185, 0.3665035665035248, 0.19305282831192017, 0.1504010111093521, 0.05656701326370239, 0.028132470324635506, -0.042953889816999435, -0.06570152938365936, -0.07707534730434418, -0.15953552722930908, -0.21924805641174316, -0.2647433280944824, -0.21640460193157196, -0.1709093451499939, -0.11119680106639862, -0.12541407346725464, -0.05717116594314575, 0.050880104303359985, 0.019602106884121895, 0.04519319906830788, 0.05372355878353119, 0.15893137454986572, 0.17314864695072174, 0.2129570096731186, 0.2214873731136322, 0.19589628279209137, 0.27266955375671387, 0.3153213858604431, 0.18452246487140656, 0.3949381113052368, 0.4717113673686981, 0.48308518528938293, 0.5001459121704102, 0.41768574714660645, 0.4404333829879761, 0.34091246128082275, 0.34375593066215515, 0.35512974858283997, 0.33806902170181274, 0.32669520378112793, 0.33806902170181274, 0.3153213858604431, 0.2954171895980835, 0.4432768225669861, 0.33522555232048035, 0.34091246128082275, 0.35797318816185, 0.2954171895980835, 0.32385173439979553, 0.3750339150428772, 0.4518072009086609, 0.43474647402763367, 0.32953864336013794, 0.3153213858604431, 0.2101135551929474, 0.2101135551929474, 0.17314864695072174, 0.11912301182746887, 0.07078428566455841, -0.025893162935972214, -0.0998229831457138, -0.0941360741853714, -0.060014620423316956, -0.11119680106639862, -0.0998229831457138, -0.13963134586811066, -0.15384861826896667, -0.08560571074485779, -0.1737527996301651, -0.14531825482845306, 0.028132470324635506, -0.008832437917590141, -0.0031455284915864468, 0.05656701326370239, 0.09068846702575684, 0.20158319175243378, 0.17314864695072174, 0.20442664623260498, 0.26129573583602905, 0.3693470060825348, 0.3608166575431824, 0.3067910075187683, 0.4375899136066437, 0.5371108055114746, 0.5200501084327698, 0.5200501084327698, 0.5285804271697998, 0.5598584413528442, 0.5740756988525391, 0.5911364555358887, 0.49730247259140015, 0.35512974858283997, 0.3778773844242096, 0.35512974858283997, 0.25845229625701904, 0.2158004641532898, 0.19020937383174896, 0.2214873731136322, 0.17314864695072174, 0.15324446558952332, 0.1361837387084961, 0.11059264838695526, 0.1333402842283249, 0.08500155806541443, -0.011675892397761345, 0.12196646630764008, 0.09068846702575684, 0.12480992078781128, 0.17314864695072174, 0.17314864695072174, 0.1418706476688385, 0.20442664623260498, 0.27266955375671387, 0.3011040985584259, 0.2783564627170563, 0.4546506404876709, 0.565545380115509, 0.4802417457103729, 0.5029893517494202, 0.49730247259140015, 0.5257369875907898, 0.49161556363105774, 0.40915536880493164, 0.3124779164791107, 0.3011040985584259, 0.2271742820739746, 0.25560882687568665, 0.07931464910507202, 0.005384834948927164, -0.0969795286655426, -0.2533695101737976, -0.415446400642395, -0.44388094544410706, -0.36995112895965576, -0.5462453365325928, -0.6599835157394409, -0.8021562099456787, -0.847651481628418, -0.7424436807632446, -0.7737216949462891, -0.9756069183349609, -1.0097284317016602, -0.6969484090805054, -0.35004696249961853, -0.35573387145996094, -0.8192169666290283, -1.1803356409072876, -1.3793774843215942, -1.4703680276870728, -1.2997606992721558, -1.0438498258590698, -0.9699200391769409, -1.1661183834075928, -1.0921885967254639, -1.1291534900665283, -1.1291534900665283, -1.0694409608840942, -0.9613896608352661, -0.8220604062080383, -0.7481305599212646, -0.7111656665802002, -0.4893762171268463, -0.35004696249961853, -0.19365696609020233, 0.04803664982318878, 0.2925737500190735, 0.3693470060825348, 0.35797318816185, 0.3636600971221924, 0.6622228026390076, 0.7475264668464661, 0.9096033573150635, 0.9522551894187927, 0.9295075535774231, 0.9835331439971924, 0.8982295393943787, 0.9949069619178772, 1.074523687362671, 1.1996357440948486, 1.134236216545105, 1.0887409448623657, 0.9351944327354431, 0.9238206148147583, 0.9721593260765076, 0.9494116902351379, 0.8612646460533142, 0.8868557214736938, 0.6622228026390076, 0.5740756988525391, 0.5456411838531494, 0.43474647402763367, 0.3608166575431824, 0.28119993209838867, 0.27266955375671387, 0.013915197923779488, -0.06854498386383057, -0.02304970845580101, -0.19365696609020233, -0.4239767789840698, -0.43535059690475464, -0.34720349311828613, -0.5320280194282532, -0.8760859966278076, -0.9670765399932861, -0.9329550862312317, -1.0808147192001343, -1.217300534248352, -1.2258309125900269, -1.279856562614441, -1.3623167276382446, -1.3111345767974854, -1.3253518342971802, -1.3623167276382446, -1.4277161359786987, -1.4874287843704224, -1.6523491144180298, -1.6950010061264038, -1.498802661895752, -1.2514220476150513, -1.441933512687683, -1.3736906051635742, -1.1007189750671387, -0.9272682070732117, -0.7566609382629395, -0.6941049695014954, -0.7367567420005798, -0.5462453365325928, -0.44103750586509705, -0.3898553252220154, -0.3415165841579437, -0.15953552722930908, -0.10835334658622742, -0.06285807490348816, -0.2419956922531128, -0.0941360741853714, 0.08500155806541443, 0.2158004641532898, 0.1361837387084961, 0.005384834948927164, -0.06854498386383057, -0.1737527996301651, -0.10550989210605621, 0.16177482903003693, 0.3210082948207855, 0.33238211274147034, 0.2243308275938034, 0.050880104303359985, 0.2840433716773987, 0.3181648254394531, 0.3693470060825348, 0.23854809999465942, 0.07931464910507202, 0.059410467743873596, 0.06794083118438721, 0.218643918633461, 0.019602106884121895, 0.05372355878353119, -0.0998229831457138, -0.034423526376485825, -0.384168416261673, -0.5035935044288635, -0.3244558572769165, -0.35573387145996094, -0.44103750586509705, -0.5149673223495483, -0.7452871203422546, -0.8049996495246887, -0.8334342241287231, -0.7026352882385254, -0.6656703948974609, -0.6230185627937317, -0.4694720506668091, -0.4239767789840698, -0.6486096978187561, -0.6429227590560913, -0.5291845798492432, -0.4609416723251343, -0.534871518611908, -0.3443600535392761, -0.20218732953071594, -0.35289040207862854, -0.27327367663383484, -0.19081351161003113, -0.07991880178451538, -0.07138843834400177, -0.14531825482845306, -0.20218732953071594, -0.18512660264968872, 0.002541380235925317, 0.24423500895500183, 0.1418706476688385, -0.04579734802246094, 0.019602106884121895, 0.25560882687568665, 0.16746173799037933, 0.17599210143089294, 0.27551302313804626, 0.2300177365541458, 0.2101135551929474, 0.218643918633461, 0.218643918633461, 0.32953864336013794, 0.34375593066215515, 0.3807208240032196, 0.3153213858604431, 0.2925737500190735, 0.4660244584083557, 0.3977815508842468, 0.2897302806377411, 0.3608166575431824, 0.6138840913772583, 0.5598584413528442, 0.4802417457103729, 0.565545380115509, 0.6707531809806824, 0.6593793630599976, 0.6679097414016724, 0.6707531809806824, 0.7475264668464661, 0.642318606376648, 0.565545380115509, 0.6593793630599976, 0.5826060771942139, 0.693500816822052, 0.6764400601387024, 0.6735966205596924, 0.6081971526145935, 0.6707531809806824, 0.7617437243461609, 0.5826060771942139, 0.4518072009086609, 0.5769191980361938, 0.7304657101631165, 0.875481903553009, 0.8982295393943787, 0.8527342677116394, 0.7560567855834961, 0.7560567855834961, 0.7731175422668457, 0.818612813949585, 0.7788044214248657, 0.7276222705841064, 0.5484846234321594, 0.35228627920150757, 0.42905956506729126, 0.48592865467071533, 0.4518072009086609, 0.508676290512085, 0.5029893517494202, 0.34659937024116516, 0.08500155806541443, 0.05372355878353119, 0.2158004641532898, 0.25276538729667664, 0.1475575566291809, 0.09637537598609924, -0.06285807490348816, -0.244839146733284, -0.1680658906698227, -0.11404025554656982, -0.15953552722930908, -0.35573387145996094, -0.3102385997772217, -0.21356114745140076, -0.20218732953071594, -0.43535059690475464, -0.3813249468803406, -0.4893762171268463, -0.44388094544410706, -0.3130820393562317, -0.3329862356185913, -0.4666285812854767, -0.591740608215332, -0.6287055015563965, -0.5689929723739624, -0.43819403648376465, -0.3926987648010254, -0.6429227590560913, -0.6599835157394409, -0.6798876523971558, -0.4666285812854767, -0.412602961063385, -0.25905641913414, -0.44388094544410706, -0.5661494731903076, -0.6400793194770813, -0.3813249468803406, -0.28180405497550964, -0.23630878329277039, -0.18228314816951752, -0.1794397085905075, -0.3898553252220154, -0.23062187433242798, -0.10835334658622742, 0.05372355878353119, -0.000302074127830565, -0.05717116594314575, -0.04011043533682823, 0.0224455613642931, 0.07078428566455841, 0.09921883046627045, 0.12196646630764008, 0.24707846343517303, 0.17883555591106415, 0.04519319906830788, -0.042953889816999435, 0.028132470324635506, -0.08276225626468658, 0.01675865240395069, 0.07078428566455841, 0.26982611417770386, 0.00822828896343708, -0.10266643762588501, -0.13678789138793945, -0.0912926197052002, 0.002541380235925317, 0.16746173799037933, 0.11912301182746887, 0.05372355878353119, 0.0224455613642931, 0.23570464551448822, 0.1390271931886673, -0.07138843834400177, 0.09637537598609924, 0.07362774014472961, 0.059410467743873596, 0.17599210143089294, 0.3096344769001007, 0.17030519247055054, -0.10835334658622742, -0.15100516378879547, -0.0998229831457138, 0.065097376704216, 0.08784501254558563, 0.0224455613642931, -0.1680658906698227, -0.3216124176979065, -0.2419956922531128, -0.19650042057037354, -0.2562129497528076, -0.07423189282417297, -0.06854498386383057, -0.19650042057037354, -0.384168416261673, -0.26758676767349243, -0.15100516378879547, -0.14247480034828186, -0.12257061898708344, -0.13963134586811066, -0.1652224361896515, -0.21356114745140076, -0.11404025554656982, 0.08215810358524323, 0.09068846702575684, 0.0622539222240448, 0.25276538729667664, 0.17599210143089294, 0.15324446558952332, 0.1447141021490097, 0.15324446558952332, 0.1418706476688385, 0.2868868410587311, 0.49445900321006775, 0.5342673659324646, 0.3665035665035248, 0.24139155447483063, 0.383564293384552, 0.5570150017738342, 0.5427977442741394, 0.49445900321006775, 0.40915536880493164, 0.41484227776527405, 0.32669520378112793, 0.5399542450904846, 0.383564293384552, 0.3181648254394531, 0.2271742820739746, 0.27266955375671387, 0.2897302806377411, 0.1333402842283249, 0.04519319906830788, 0.12480992078781128, -0.025893162935972214, 0.00822828896343708, -0.042953889816999435, -0.13963134586811066, -0.3244558572769165, -0.42682021856307983, -0.4182898700237274, -0.4637851417064667, -0.4040725827217102, -0.36710768938064575, -0.42966368794441223, -0.5320280194282532, -0.42682021856307983, -0.5064369440078735, -0.537714958190918, -0.5490887761116028, -0.4637851417064667, -0.3102385997772217, -0.35857731103897095, -0.4808458685874939, -0.3244558572769165, -0.4097594916820526, -0.4182898700237274, -0.44388094544410706, -0.3926987648010254, -0.3159255087375641, -0.27896058559417725, -0.5547756552696228, -0.6855745911598206, -0.8049996495246887, -0.8277472853660583, -0.7282264232635498, -0.6855745911598206, -0.7367567420005798, -0.8049996495246887, -0.7850955128669739, -0.7367567420005798, -0.4922196865081787, -0.4097594916820526, -0.4069160521030426, -0.4893762171268463, -0.4182898700237274, -0.3955422341823578, -0.2533695101737976, -0.29317787289619446, -0.2391522377729416, -0.19081351161003113, -0.15100516378879547, -0.21071769297122955, -0.06285807490348816, 0.08500155806541443, 0.10490573942661285, 0.11343610286712646, -0.07707534730434418, -0.11688371002674103, -0.13963134586811066, -0.051484256982803345, 0.07362774014472961, 0.0224455613642931, 0.025289015844464302, 0.2101135551929474, 0.19873973727226257, 0.23570464551448822, 0.2783564627170563, 0.2954171895980835, 0.2783564627170563, 0.20727010071277618, 0.25845229625701904, 0.26129573583602905, 0.19873973727226257, 0.3011040985584259, 0.18452246487140656, 0.2158004641532898, 0.2925737500190735, 0.16746173799037933, 0.11627955734729767, 0.08500155806541443, -0.017362801358103752, 0.01675865240395069, 0.07078428566455841, -0.020206255838274956, 0.07078428566455841, 0.013915197923779488, 0.10206228494644165, -0.0998229831457138, -0.22493496537208557, -0.11972716450691223, -0.08844916522502899, -0.2647433280944824, -0.35004696249961853, -0.4239767789840698, -0.412602961063385, -0.5007500648498535, -0.597427487373352, -0.5888971090316772, -0.668513834476471, -0.7054787874221802, -0.5860536694526672, -0.6713573336601257, -0.6258620619773865, -0.6969484090805054, -0.5490887761116028, -0.4950631260871887, -0.5689929723739624, -0.6059578657150269, -0.5291845798492432, -0.5860536694526672, -0.543401837348938, -0.4666285812854767, -0.35857731103897095, -0.5178107619285583, -0.5007500648498535, -0.3955422341823578, -0.27043023705482483, -0.2505260407924652, -0.20218732953071594, -0.20218732953071594, -0.14247480034828186, -0.12257061898708344, -0.06570152938365936, -0.03726698085665703, -0.04579734802246094, -0.0998229831457138, 0.002541380235925317, 0.059410467743873596, 0.05656701326370239, 0.12196646630764008, 0.11912301182746887, 0.050880104303359985, -0.034423526376485825, 0.01675865240395069, 0.2214873731136322, 0.17314864695072174, 0.16461828351020813, 0.25845229625701904, 0.35512974858283997, 0.3693470060825348, 0.4717113673686981, 0.5740756988525391, 0.5996668338775635, 0.505832850933075, 0.5314239263534546, 0.5570150017738342, 0.6650662422180176, 0.8299866318702698, 0.7589002847671509, 0.6878138780593872, 0.6764400601387024, 0.511519730091095, 0.505832850933075, 0.5371108055114746, 0.5854495167732239, 0.6167275309562683, 0.6195709705352783, 0.49730247259140015, 0.5541715621948242, 0.4375899136066437, 0.5882930159568787, 0.6366317272186279, 0.6508489847183228, 0.7162484526634216, 0.6195709705352783, 0.6309447884559631, 0.7162484526634216, 0.7105615139007568, 0.8129258751869202, 0.821456253528595, 0.8100824356079102, 0.8470473289489746, 0.8442038893699646, 0.8015520572662354, 0.7731175422668457, 0.878325343132019, 0.7645871639251709, 0.7134050130844116, 0.7020311951637268, 0.6707531809806824, 0.6451621055603027, 0.6480055451393127, 0.6394751667976379, 0.6878138780593872, 0.6252579092979431, 0.5456411838531494, 0.386407732963562, 0.3665035665035248, 0.2868868410587311, 0.41199883818626404, 0.3807208240032196, 0.4489637315273285, 0.20158319175243378, 0.1447141021490097, 0.01675865240395069, 0.013915197923779488, 0.03381938114762306, 0.002541380235925317, -0.13110098242759705, -0.12257061898708344, -0.0912926197052002, -0.07707534730434418, -0.07991880178451538, -0.11404025554656982, -0.005988983437418938, 0.036662835627794266, 0.05372355878353119, 0.04803664982318878, -0.017362801358103752, -0.11404025554656982, -0.19650042057037354, -0.1709093451499939, -0.03726698085665703, 0.03097592480480671, 0.07078428566455841, -0.042953889816999435, -0.12541407346725464, -0.23346532881259918, -0.08844916522502899, 0.10206228494644165, 0.19589628279209137, 0.24707846343517303, 0.26982611417770386, 0.1475575566291809, 0.05372355878353119, 0.2840433716773987, 0.2982606589794159, 0.4688679277896881, 0.514363169670105, 0.48308518528938293, 0.2982606589794159, 0.43474647402763367, 0.514363169670105, 0.5228935480117798, 0.49445900321006775, 0.40915536880493164, 0.2982606589794159, 0.26982611417770386, 0.3067910075187683, 0.27551302313804626, 0.27266955375671387, 0.17314864695072174, 0.03097592480480671, -0.12825752794742584, -0.10835334658622742, -0.12541407346725464, -0.04579734802246094, -0.2419956922531128, -0.3926987648010254, -0.5490887761116028, -0.5718364119529724, -0.6201751232147217, -0.7310698628425598, -0.904520571231842, -0.8732425570487976, -0.9215812683105469, -1.0438498258590698, -1.0921885967254639, -1.0068849325180054, -1.0523802042007446, -1.0324760675430298, -0.9443289041519165, -0.9329550862312317, -0.9670765399932861, -0.9357985854148865, -0.8647121787071228, -0.7993127703666687, -0.8163734674453735, -0.6542965769767761, -0.540558397769928, -0.5775232911109924, -0.594584047794342, -0.6429227590560913, -0.537714958190918, -0.45525476336479187, -0.4040725827217102, -0.3415165841579437, -0.3415165841579437, -0.25905641913414, -0.27043023705482483, -0.017362801358103752, -0.06570152938365936, -0.08560571074485779, -0.2419956922531128, -0.1737527996301651, -0.2647433280944824, -0.19934387505054474, -0.06854498386383057, 0.013915197923779488, 0.11059264838695526, 0.11059264838695526, 0.17883555591106415, 0.3067910075187683, 0.48308518528938293, 0.5968233346939087, 0.696344256401062, 0.7162484526634216, 0.9067599177360535, 0.9664724469184875, 0.9920635223388672, 1.000593900680542, 1.0347152948379517, 1.0432456731796265, 0.9351944327354431, 0.8555777072906494, 0.7532133460044861, 0.8498908281326294, 0.6508489847183228, 0.4631810188293457, 0.26982611417770386, 0.23286119103431702, 0.11059264838695526, 0.013915197923779488, -0.03158007189631462, -0.15100516378879547, -0.18797005712985992, -0.2391522377729416, -0.2647433280944824, -0.2419956922531128, -0.3955422341823578, -0.3898553252220154, -0.415446400642395, -0.42966368794441223, -0.384168416261673, -0.3073951303958893, -0.2476826012134552, -0.3386731445789337, -0.43819403648376465, -0.3415165841579437, -0.22209151089191437, -0.1794397085905075, -0.10266643762588501, -0.2562129497528076, -0.37848150730133057, -0.4609416723251343, -0.4182898700237274, -0.4751589596271515, -0.4069160521030426, -0.594584047794342, -0.6514531373977661, -0.8391211032867432, -0.9500158429145813, -0.904520571231842, -0.8647121787071228, -0.8561818599700928, -0.904520571231842, -0.9841372966766357, -0.9926676750183105, -0.8959901928901672, -0.716852605342865, -0.4979065954685211, -0.22493496537208557, -0.15100516378879547, -0.07991880178451538, 0.04234974458813667, 0.17883555591106415, 0.3807208240032196, 0.48877209424972534, 0.4717113673686981, 0.5342673659324646, 0.5427977442741394, 0.6281013488769531, 0.6679097414016724, 0.6622228026390076, 0.5996668338775635, 0.4745548367500305, 0.3096344769001007, 0.32669520378112793, 0.25560882687568665, 0.24992191791534424, 0.17599210143089294, 0.1447141021490097, 0.05656701326370239, -0.0031455284915864468, -0.028736617416143417, 0.013915197923779488, -0.000302074127830565, -0.028736617416143417, -0.08560571074485779, -0.12541407346725464, 0.050880104303359985, 0.16461828351020813, 0.28119993209838867, 0.26982611417770386, 0.1447141021490097, 0.2158004641532898, 0.23854809999465942, 0.2982606589794159, 0.4802417457103729, 0.5968233346939087, 0.6735966205596924, 0.6081971526145935, 0.6792835593223572, 0.5882930159568787, 0.5826060771942139, 0.5968233346939087, 0.7077180743217468, 0.642318606376648, 0.5996668338775635, 0.5200501084327698, 0.3807208240032196, 0.2101135551929474, 0.15324446558952332, 0.03381938114762306, -0.04579734802246094, -0.1765962541103363, -0.14531825482845306, -0.0998229831457138, -0.12541407346725464, -0.21356114745140076, -0.12541407346725464, -0.028736617416143417, 0.019602106884121895, 0.11912301182746887, 0.15608792006969452, 0.17883555591106415, 0.32385173439979553, 0.3665035665035248, 0.40631192922592163, 0.4773982763290405, 0.42621609568595886, 0.383564293384552, 0.3608166575431824, 0.26129573583602905, 0.34091246128082275, 0.33806902170181274, 0.26982611417770386, 0.18736591935157776, 0.15324446558952332, 0.011071743443608284, 0.002541380235925317, -0.12825752794742584, -0.20787423849105835, -0.34720349311828613, -0.4893762171268463, -0.5519322156906128, -0.5633060336112976, -0.5519322156906128, -0.6969484090805054, -0.7310698628425598, -0.6770442128181458, -0.6628269553184509, -0.5206542015075684, -0.4922196865081787, -0.44103750586509705, -0.35289040207862854, -0.19081351161003113, -0.1709093451499939, -0.1709093451499939, -0.12541407346725464, -0.1737527996301651, -0.1737527996301651, -0.26189985871315, -0.2391522377729416, -0.19365696609020233, -0.13678789138793945, -0.2505260407924652, -0.4893762171268463, -0.6855745911598206, -1.0808147192001343, -1.0523802042007446, -1.0324760675430298, -1.1120927333831787, -1.1803356409072876, -1.2770130634307861, -1.404968500137329, -1.3793774843215942, -1.4163423776626587, -1.259952425956726, -1.109249234199524, -0.8874598145484924, -0.8163734674453735, -0.6941049695014954, -0.5035935044288635, -0.45809823274612427, -0.3301427662372589, -0.23062187433242798, -0.19365696609020233, 0.036662835627794266, 0.19873973727226257, 0.19305282831192017, 0.32953864336013794, 0.3011040985584259, 0.35228627920150757, 0.3124779164791107, 0.3920946419239044, 0.4489637315273285, 0.4603375494480133, 0.3778773844242096, 0.15893137454986572, 0.03381938114762306, -0.028736617416143417, -0.12825752794742584, -0.23630878329277039, -0.2476826012134552, -0.2533695101737976, -0.19650042057037354, -0.35289040207862854, -0.2562129497528076, -0.36426421999931335, -0.2505260407924652, -0.21356114745140076, -0.04579734802246094, 0.09068846702575684, 0.1361837387084961, 0.10774919390678406, 0.1475575566291809, 0.26698264479637146, 0.43474647402763367, 0.3636600971221924, 0.4404333829879761, 0.40915536880493164, 0.41199883818626404, 0.3807208240032196, 0.5882930159568787, 0.6366317272186279, 0.693500816822052, 0.5996668338775635, 0.5427977442741394, 0.5627018809318542, 0.4773982763290405, 0.4489637315273285, 0.5172066688537598, 0.43474647402763367, 0.4603375494480133, 0.41484227776527405, 0.41484227776527405, 0.32669520378112793, 0.3920946419239044, 0.34375593066215515, 0.24992191791534424, 0.07078428566455841, 0.20442664623260498, 0.2897302806377411, 0.3124779164791107, 0.26982611417770386, 0.3067910075187683, 0.3665035665035248, 0.41199883818626404, 0.4631810188293457, 0.508676290512085, 0.568388819694519, 0.42621609568595886, 0.25560882687568665, 0.1418706476688385, 0.025289015844464302, 0.07078428566455841, -0.14247480034828186, -0.35857731103897095, -0.6997918486595154, -0.8391211032867432, -0.978450357913971, -1.0182586908340454, -1.1007189750671387, -1.1860225200653076, -1.2485785484313965, -1.2428916692733765, -1.2542654275894165, -1.222987413406372, -1.2827000617980957, -1.2343612909317017, -1.0694409608840942, -0.9102074503898621, -0.6287055015563965, -0.4836893081665039, -0.35857731103897095, -0.19934387505054474, 0.05372355878353119, 0.15893137454986572, 0.3665035665035248, 0.4717113673686981, 0.5029893517494202, 0.6451621055603027, 0.7020311951637268, 0.7503699064254761, 0.7844913601875305, 0.7105615139007568, 0.6878138780593872, 0.511519730091095, 0.48308518528938293, 0.19020937383174896, 0.07078428566455841, -0.27611714601516724, -0.36142078042030334, -0.5149673223495483, -0.8334342241287231, -1.0580670833587646, -1.0154153108596802, -1.0211021900177002, -1.151901125907898, -1.1774921417236328, -1.1661183834075928, -1.0381629467010498, -0.8874598145484924, -0.7054787874221802, -0.6088013052940369, -0.44956785440444946, -0.27896058559417725, -0.10835334658622742, -0.04011043533682823, 0.07362774014472961, 0.2101135551929474, 0.26982611417770386, 0.1447141021490097, -0.04011043533682823, -0.11404025554656982, -0.10550989210605621, -0.11972716450691223, -0.36426421999931335, -0.37848150730133057, -0.35289040207862854, -0.2647433280944824, -0.3955422341823578, -0.597427487373352, -0.7396002411842346, -0.725382924079895, -0.7481305599212646, -0.591740608215332, -0.4609416723251343, -0.27611714601516724, -0.10835334658622742, -0.02304970845580101, 0.11627955734729767, 0.25276538729667664, 0.4660244584083557, 0.6224144697189331, 1.0261850357055664, 1.2053226232528687, 1.384460210800171, 1.5124156475067139, 1.321904182434082, 1.3730864524841309, 1.3617125749588013, 1.375929832458496, 1.3133739233016968, 0.9892200827598572, 0.7276222705841064, 0.571232259273529, 0.15893137454986572, -0.0998229831457138, -0.27327367663383484, -0.35573387145996094, -0.716852605342865, -1.0523802042007446, -1.2514220476150513, -1.4589942693710327, -1.4277161359786987, -1.3623167276382446, -1.3367255926132202, -1.3367255926132202, -1.3594732284545898, -1.2770130634307861, -1.2485785484313965, -1.1746487617492676, -0.9386420249938965, -0.7680347561836243, -0.5320280194282532, -0.4637851417064667, -0.20787423849105835, -0.07991880178451538, -0.06854498386383057, -0.0941360741853714, -0.07423189282417297, 0.11343610286712646, 0.3181648254394531, 0.42621609568595886, 0.33806902170181274, 0.20158319175243378, -0.005988983437418938, -0.19365696609020233, -0.13394443690776825, -0.2533695101737976, -0.21640460193157196, -0.37563803791999817, -0.6969484090805054, -0.9557027220726013, -1.0438498258590698, -1.0466933250427246, -1.151901125907898, -1.146214246749878, -1.1007189750671387, -0.9926676750183105, -0.9443289041519165, -0.6514531373977661, -0.43250712752342224, -0.22777841985225677, -0.0031455284915864468, 0.08784501254558563, 0.34944283962249756, 0.5939798951148987, 0.9380378723144531, 1.1484534740447998, 1.1911053657531738, 1.2024791240692139, 1.2394440174102783, 1.1569838523864746, 1.0915844440460205, 0.9778462648391724, 0.9806897044181824, 0.7361526489257812, 0.5257369875907898, 0.2214873731136322, 0.26129573583602905, 0.11627955734729767, -0.22209151089191437, -0.3130820393562317, -0.20218732953071594, -0.034423526376485825, -0.10550989210605621, -0.2562129497528076, -0.2533695101737976, -0.3017082214355469, -0.16237898170948029, -0.008832437917590141, 0.12765337526798248, 0.2300177365541458, 0.24139155447483063, 0.3124779164791107, 0.2214873731136322, 0.2982606589794159, 0.34659937024116516, 0.41768574714660645, 0.41199883818626404, 0.42905956506729126, 0.4489637315273285, 0.26982611417770386, 0.15608792006969452, -0.06854498386383057, 0.00822828896343708, -0.0912926197052002, -0.11688371002674103, -0.3443600535392761, -0.4979065954685211, -0.6372358798980713, -0.7623478770256042, -0.9102074503898621, -0.9926676750183105, -0.8220604062080383, -0.7481305599212646, -0.8220604062080383, -0.8703991174697876, -0.8931467533111572, -0.7907823920249939, -0.7623478770256042, -0.5803667902946472, -0.4979065954685211, -0.37563803791999817, -0.3358296751976013, -0.22777841985225677, -0.05432771146297455, 0.09068846702575684, 0.19020937383174896, 0.3693470060825348, 0.4660244584083557, 0.5342673659324646, 0.5541715621948242, 0.5627018809318542, 0.7475264668464661, 0.6536924242973328, 0.6224144697189331, 0.7105615139007568, 0.7475264668464661, 0.8271431922912598, 0.7702741026878357, 0.7731175422668457, 0.6622228026390076, 0.7532133460044861, 0.690657377243042, 0.7731175422668457, 0.7532133460044861, 0.6764400601387024, 0.642318606376648, 0.6735966205596924, 0.7816479206085205, 0.8129258751869202, 0.7361526489257812, 0.7020311951637268, 0.8527342677116394, 0.9607855081558228, 1.000593900680542, 1.0375587940216064, 1.011967658996582, 1.0261850357055664, 0.8982295393943787, 0.8299866318702698, 0.6764400601387024, 0.4375899136066437, 0.4518072009086609, 0.3067910075187683, 0.10206228494644165, -0.1737527996301651, -0.27327367663383484, -0.384168416261673, -0.6031144261360168, -0.722539484500885, -1.0125718116760254, -1.0495367050170898, -1.339569091796875, -1.2827000617980957, -1.163274884223938, -1.095031976699829, -1.1689618825912476, -1.2087701559066772, -0.9613896608352661, -0.8277472853660583, -0.7538174986839294, -0.7140091061592102, -0.6571400165557861, -0.6486096978187561, -0.6201751232147217, -0.5604625940322876, -0.412602961063385, -0.35573387145996094, -0.25905641913414, -0.29886478185653687, -0.35857731103897095, -0.26758676767349243, -0.3301427662372589, -0.3358296751976013, -0.4865327775478363, -0.6400793194770813, -0.7822520136833191, -0.8305907845497131, -1.0211021900177002, -1.0609105825424194, -1.2002397775650024, -1.3082910776138306, -1.441933512687683, -1.4589942693710327, -1.4078119993209839, -1.3480994701385498, -1.3594732284545898, -1.456150770187378, -1.339569091796875, -1.3850643634796143, -1.222987413406372, -0.9301116466522217, -0.9244247674942017, -0.7310698628425598, -0.5746798515319824, -0.387011855840683, -0.3955422341823578, -0.3329862356185913, -0.28180405497550964, -0.15384861826896667, -0.15953552722930908, 0.07078428566455841, 0.03950629010796547, -0.07423189282417297, -0.042953889816999435, -0.005988983437418938, 0.09921883046627045, 0.0622539222240448, 0.05656701326370239, 0.1475575566291809, 0.1390271931886673, 0.1333402842283249, 0.12196646630764008, 0.19589628279209137, 0.3039475679397583, 0.20442664623260498, 0.19873973727226257, 0.2954171895980835, 0.3608166575431824, 0.5456411838531494, 0.5200501084327698, 0.6252579092979431, 0.5456411838531494, 0.508676290512085, 0.6309447884559631, 0.690657377243042, 0.7645871639251709, 0.7930217385292053, 0.9039164185523987, 0.8271431922912598, 0.9579420685768127, 0.7759609818458557, 0.7048746347427368, 0.642318606376648, 0.7560567855834961, 0.6622228026390076, 0.48877209424972534, 0.43190300464630127, 0.3636600971221924, 0.1447141021490097, -0.07423189282417297, -0.18228314816951752, -0.18797005712985992, -0.37279459834098816, -0.35289040207862854, -0.4694720506668091, -0.4097594916820526, -0.35573387145996094, -0.18228314816951752, -0.23630878329277039, -0.23346532881259918, 0.1447141021490097, 0.43190300464630127, 0.4546506404876709, 0.32953864336013794, 0.1504010111093521, 0.17883555591106415, 0.218643918633461, 0.12765337526798248, 0.2243308275938034, 0.33238211274147034, 0.20158319175243378, 0.05372355878353119, -0.3216124176979065, -0.43535059690475464, -0.42682021856307983, -0.44672441482543945, -0.4780023992061615, -0.4780023992061615, -0.5519322156906128, -0.6571400165557861, -0.8021562099456787, -0.8647121787071228, -0.9955111145973206, -1.0381629467010498, -0.9955111145973206, -0.978450357913971, -0.9756069183349609, -0.9102074503898621, -0.9670765399932861, -0.9528592824935913, -0.9983545541763306, -1.0097284317016602, -0.8135300278663635, -0.7509740591049194, -0.6486096978187561, -0.5718364119529724, -0.594584047794342, -0.6230185627937317, -0.5462453365325928, -0.45525476336479187, -0.21071769297122955, 0.03097592480480671, 0.16177482903003693, 0.2101135551929474, 0.25276538729667664, 0.16177482903003693, 0.2954171895980835, 0.5541715621948242, 0.7276222705841064, 0.7958651781082153, 0.8641080856323242, 0.8953860998153687, 1.065993309020996, 0.9835331439971924, 1.2252267599105835, 1.1456100940704346, 1.2280702590942383, 1.4754506349563599, 1.5948758125305176, 1.5408501625061035, 1.6631187200546265, 1.6716490983963013, 1.808134913444519, 1.8024479150772095, 1.7342050075531006, 1.7171443700790405, 1.819508671760559, 1.819508671760559, 1.7256746292114258, 1.5920323133468628, 1.4072078466415405, 1.4413293600082397, 1.4100513458251953, 1.375929832458496, 1.242287516593933, 1.1626708507537842, 1.193948745727539, 1.0290284156799316, 0.8896991610527039, 0.8868557214736938, 0.9181337356567383, 1.0432456731796265, 1.0574629306793213, 0.9408813714981079, 1.0347152948379517, 0.9238206148147583, 0.9550986289978027, 1.0887409448623657, 1.1996357440948486, 1.3531821966171265, 1.3247476816177368, 1.438485860824585, 1.5266329050064087, 1.5522239208221436, 1.7313616275787354, 1.5863454341888428, 1.515259027481079, 1.4100513458251953, 1.3020000457763672, 1.1996357440948486, 1.0944279432296753, 0.9721593260765076, 0.8584211468696594, 0.696344256401062, 0.4802417457103729, 0.4461202919483185, 0.33806902170181274, 0.20727010071277618, -0.04579734802246094, -0.18228314816951752, -0.3955422341823578, -0.42682021856307983, -0.2533695101737976, -0.3329862356185913, -0.3955422341823578, -0.5832102298736572, -0.7566609382629395, -0.8192169666290283, -0.7879389524459839, -0.8135300278663635, -0.8703991174697876, -0.8732425570487976, -1.0523802042007446, -1.0040414333343506, -1.0154153108596802, -1.265639305114746, -1.217300534248352, -1.3111345767974854, -1.2997606992721558, -1.0466933250427246, -1.083658218383789, -0.9500158429145813, -1.0466933250427246, -1.041006326675415, -0.904520571231842, -0.9301116466522217, -0.719696044921875, -0.5661494731903076, -0.6315489411354065, -0.6059578657150269, -0.6742007732391357, -0.5291845798492432, -0.37848150730133057, -0.23062187433242798, -0.08844916522502899, -0.034423526376485825, -0.042953889816999435, 0.17314864695072174, 0.23570464551448822, 0.23570464551448822, 0.3181648254394531, 0.3807208240032196, 0.5740756988525391, 0.7560567855834961, 0.878325343132019, 1.1029582023620605, 1.1114885807037354, 1.1911053657531738, 1.1712011098861694, 1.3247476816177368, 1.4839810132980347, 1.6233103275299072, 1.6801793575286865, 1.6915532350540161, 1.7797002792358398, 1.7683265209197998, 1.819508671760559, 1.9588379859924316, 2.1379754543304443, 2.092480182647705, 1.9133427143096924, 1.8024479150772095, 1.7853872776031494, 1.7484222650527954, 1.7285181283950806, 1.6688055992126465, 1.7342050075531006, 1.5920323133468628, 1.4782941341400146, 1.432798981666565, 1.444172739982605, 1.3304345607757568, 1.236600637435913, 1.1512969732284546, 0.9465682506561279, 0.8896991610527039, 0.9892200827598572, 0.9380378723144531, 0.7958651781082153, 0.7532133460044861, 0.7190918922424316, 0.7048746347427368, 0.6025102734565735, 0.4745548367500305, 0.3977815508842468, 0.3153213858604431, 0.09353192150592804, -0.011675892397761345, 0.011071743443608284, 0.01675865240395069, -0.15384861826896667, -0.3130820393562317, -0.4609416723251343, -0.5007500648498535, -0.5746798515319824, -0.5092803835868835, -0.4723154902458191, -0.5206542015075684, -0.6002709269523621, -0.6599835157394409, -0.7623478770256042, -0.8988336324691772, -0.8391211032867432, -0.7452871203422546, -0.8789294958114624, -0.8561818599700928, -0.9329550862312317, -0.9670765399932861, -0.9613896608352661, -0.9471724033355713, -0.9244247674942017, -0.7595043778419495, -0.6457661986351013, -0.37279459834098816, -0.3926987648010254, -0.18797005712985992, -0.07138843834400177, 0.059410467743873596, 0.24707846343517303, 0.4432768225669861, 0.5399542450904846, 0.7645871639251709, 0.824299693107605, 0.997750461101532, 0.9778462648391724, 1.0517760515213013, 1.0347152948379517, 1.0375587940216064, 1.1996357440948486, 1.2053226232528687, 1.080210566520691, 0.9636290073394775, 0.7162484526634216, 0.6110406517982483, 0.5513280630111694, 0.6281013488769531, 0.6480055451393127, 0.5484846234321594, 0.42621609568595886, 0.3636600971221924, 0.26698264479637146, 0.33522555232048035, 0.5570150017738342, 0.5854495167732239, 0.5854495167732239, 0.5826060771942139, 0.6081971526145935, 0.7020311951637268, 0.7361526489257812, 0.7134050130844116, 0.6650662422180176, 0.5371108055114746, 0.5513280630111694, 0.565545380115509, 0.5228935480117798, 0.4546506404876709, 0.24992191791534424, 0.002541380235925317, -0.07991880178451538, -0.025893162935972214, 0.028132470324635506, -0.04864080250263214, -0.21071769297122955, -0.36142078042030334, -0.45525476336479187, -0.45525476336479187, -0.4751589596271515, -0.534871518611908, -0.5547756552696228, -0.6827311515808105, -0.8078431487083435, -0.8391211032867432, -0.9414854645729065, -0.9215812683105469, -1.0466933250427246, -1.0609105825424194, -1.1120927333831787, -1.2030832767486572, -1.211613655090332, -1.1860225200653076, -1.1689618825912476, -1.259952425956726, -1.217300534248352, -1.2684826850891113, -1.291230320930481, -1.3168214559555054, -1.1831791400909424, -1.083658218383789, -1.103562355041504, -1.2485785484313965, -1.2343612909317017, -1.1348403692245483, -1.0154153108596802, -0.844808042049408, -0.8846163749694824, -1.0125718116760254, -1.029632568359375, -1.0808147192001343, -1.0011980533599854, -0.8789294958114624, -0.8220604062080383, -0.844808042049408, -0.9613896608352661, -0.8988336324691772, -0.8362776637077332, -0.6628269553184509, -0.4979065954685211, -0.37563803791999817, -0.2533695101737976, -0.060014620423316956, 0.1390271931886673, 0.2868868410587311, 0.4546506404876709, 0.514363169670105, 0.6195709705352783, 0.7077180743217468, 0.9010729789733887, 0.8442038893699646, 0.9351944327354431, 0.8015520572662354, 0.6281013488769531, 0.6053537130355835, 0.5484846234321594, 0.5172066688537598, 0.2783564627170563, 0.11912301182746887, -0.000302074127830565, -0.11119680106639862, -0.22777841985225677, -0.29886478185653687, -0.28749096393585205, -0.23346532881259918, -0.244839146733284, -0.18512660264968872, -0.034423526376485825, 0.09068846702575684, 0.09921883046627045, 0.1390271931886673, 0.35512974858283997, 0.4745548367500305, 0.565545380115509, 0.7162484526634216, 0.7987086176872253, 0.7617437243461609, 0.6565359234809875, 0.7560567855834961, 0.8669515252113342, 0.8527342677116394, 0.8129258751869202, 0.7560567855834961, 0.5228935480117798, 0.5228935480117798, 0.505832850933075, 0.49730247259140015, 0.3721904754638672, 0.25276538729667664, 0.2243308275938034, 0.10206228494644165, 0.06794083118438721, -0.05717116594314575, -0.06570152938365936, -0.017362801358103752, -0.04864080250263214, -0.034423526376485825, 0.1333402842283249, 0.1304968297481537, 0.17314864695072174, 0.2158004641532898, 0.2243308275938034, 0.26698264479637146, 0.2840433716773987, 0.19589628279209137, 0.16177482903003693, 0.07647119462490082, 0.036662835627794266, 0.03097592480480671, -0.12541407346725464, -0.10835334658622742, -0.25905641913414, -0.3898553252220154, -0.5490887761116028, -0.6258620619773865, -0.7509740591049194, -0.8874598145484924, -0.9642331004142761, -0.9926676750183105, -0.9898241758346558, -1.0523802042007446, -1.0068849325180054, -0.9613896608352661, -0.9102074503898621, -0.8846163749694824, -0.7794085741043091, -0.7026352882385254, -0.5775232911109924, -0.5149673223495483, -0.3898553252220154, -0.3358296751976013, -0.19934387505054474, -0.0941360741853714, -0.03726698085665703, 0.08784501254558563, 0.16746173799037933, 0.34659937024116516, 0.3920946419239044, 0.5854495167732239, 0.5826060771942139, 0.6508489847183228, 0.6735966205596924, 0.7134050130844116, 0.6565359234809875, 0.6081971526145935, 0.5257369875907898, 0.3920946419239044, 0.26982611417770386, 0.17314864695072174, 0.050880104303359985, -0.034423526376485825, -0.1709093451499939, -0.20218732953071594, -0.37563803791999817, -0.29317787289619446, -0.28749096393585205, -0.21924805641174316, -0.27043023705482483, 0.00822828896343708, 0.03950629010796547, 0.04803664982318878, 0.23854809999465942, 0.27551302313804626, 0.3011040985584259, 0.40631192922592163, 0.4802417457103729, 0.4631810188293457, 0.49730247259140015, 0.568388819694519, 0.5513280630111694, 0.4773982763290405, 0.5314239263534546, 0.5740756988525391, 0.5769191980361938, 0.3693470060825348, 0.1447141021490097, 0.028132470324635506, -0.10266643762588501, -0.02304970845580101, 0.019602106884121895, -0.07991880178451538, -0.0998229831457138, -0.04579734802246094, -0.034423526376485825, 0.03950629010796547, 0.08215810358524323, 0.09353192150592804, 0.011071743443608284, 0.07647119462490082, 0.1418706476688385, 0.2783564627170563, 0.18736591935157776, 0.20442664623260498, 0.08500155806541443, -0.04579734802246094, -0.06854498386383057, -0.22493496537208557, -0.3415165841579437, -0.5178107619285583, -0.7993127703666687, -0.9955111145973206, -1.0865015983581543, -1.3424125909805298, -1.510176420211792, -1.754713535308838, -2.0504326820373535, -2.0475893020629883, -2.2011358737945557, -2.24947452545166, -2.2011358737945557, -2.27790904045105, -2.4456729888916016, -2.363212823867798, -2.1442668437957764, -2.067493438720703, -1.8599213361740112, -1.6523491144180298, -1.5897932052612305, -1.4902722835540771, -1.4845854043960571, -1.2770130634307861, -0.9528592824935913, -0.8590252995491028, -0.6201751232147217, -0.4751589596271515, -0.412602961063385, -0.29886478185653687, -0.14816170930862427, -0.0941360741853714, 0.0224455613642931, 0.18167901039123535, 0.3067910075187683, 0.5314239263534546, 0.5285804271697998, 0.5854495167732239, 0.5285804271697998, 0.386407732963562, 0.34375593066215515, 0.42052918672561646, 0.48592865467071533, 0.6167275309562683, 0.5797626376152039, 0.5257369875907898, 0.4631810188293457, 0.4773982763290405, 0.5342673659324646, 0.5001459121704102, 0.6735966205596924, 0.6622228026390076, 0.6025102734565735, 0.699187695980072, 0.7446829676628113, 0.8697949647903442, 0.7702741026878357, 0.7276222705841064, 0.7589002847671509, 0.9806897044181824, 0.9778462648391724, 0.815769374370575, 0.6337882876396179, 0.505832850933075, 0.41768574714660645, 0.41768574714660645, 0.42621609568595886, 0.3608166575431824, 0.2954171895980835, 0.10206228494644165, -0.06854498386383057, -0.13394443690776825, -0.22493496537208557, -0.27896058559417725, -0.3045516908168793, -0.3813249468803406, -0.44388094544410706, -0.3813249468803406, -0.26758676767349243, -0.3045516908168793, -0.36995112895965576, -0.2391522377729416, -0.244839146733284, -0.1652224361896515, -0.05717116594314575, 0.12480992078781128, 0.2783564627170563, 0.26413920521736145, 0.2129570096731186, 0.24707846343517303, 0.2158004641532898, 0.18452246487140656, 0.17599210143089294, 0.09921883046627045, -0.13963134586811066, -0.3272993266582489, -0.37563803791999817, -0.540558397769928, -0.6372358798980713, -0.7566609382629395, -0.9613896608352661, -1.0466933250427246, -0.9955111145973206, -1.0751278400421143, -0.9727634787559509, -0.9272682070732117, -0.7936258316040039, -0.7794085741043091, -0.6997918486595154, -0.5888971090316772, -0.5035935044288635, -0.4979065954685211, -0.4012291431427002, -0.28464749455451965, -0.28749096393585205, -0.26758676767349243, -0.22777841985225677, -0.244839146733284, -0.27043023705482483, -0.27327367663383484, -0.23346532881259918, -0.18228314816951752, -0.20218732953071594, -0.244839146733284, -0.3159255087375641, -0.3102385997772217, -0.28464749455451965, -0.14247480034828186, -0.18228314816951752, -0.18512660264968872, -0.21071769297122955, -0.18512660264968872, -0.18797005712985992, -0.13110098242759705, -0.08560571074485779, -0.06570152938365936, -0.02304970845580101, 0.0224455613642931, 0.19305282831192017, 0.2783564627170563, 0.2954171895980835, 0.2101135551929474, 0.1475575566291809, 0.2300177365541458, 0.26698264479637146, 0.27551302313804626, 0.2300177365541458, 0.12196646630764008, 0.09353192150592804, 0.10206228494644165, 0.10206228494644165, 0.04519319906830788, 0.04803664982318878, -0.12541407346725464, -0.2476826012134552, -0.29886478185653687, -0.3187689483165741, -0.3415165841579437, -0.4979065954685211, -0.6343923807144165, -0.6599835157394409, -0.6514531373977661, -0.5718364119529724, -0.5178107619285583, -0.5206542015075684, -0.4666285812854767, -0.27611714601516724, -0.23346532881259918, -0.12825752794742584, -0.020206255838274956, 0.03381938114762306, 0.17030519247055054, 0.26982611417770386, 0.34659937024116516, 0.35797318816185, 0.35512974858283997, 0.41199883818626404, 0.3721904754638672, 0.41484227776527405, 0.3778773844242096, 0.2925737500190735, 0.24139155447483063, 0.16177482903003693, 0.0622539222240448, 0.002541380235925317, -0.005988983437418938, -0.10835334658622742, -0.19934387505054474, -0.3073951303958893, -0.35289040207862854, -0.37279459834098816, -0.42966368794441223, -0.3898553252220154, -0.4211333096027374, -0.3102385997772217, -0.34720349311828613, -0.3102385997772217, -0.20218732953071594, -0.244839146733284, -0.10266643762588501, -0.06854498386383057, 0.1475575566291809, 0.12196646630764008, 0.27266955375671387, 0.33238211274147034, 0.2897302806377411, 0.35512974858283997, 0.2954171895980835, 0.2925737500190735, 0.3210082948207855, 0.383564293384552, 0.3778773844242096, 0.40915536880493164, 0.3608166575431824, 0.3153213858604431, 0.32953864336013794, 0.2840433716773987, 0.26698264479637146, 0.386407732963562, 0.5029893517494202, 0.5399542450904846, 0.5484846234321594, 0.6252579092979431, 0.7247788310050964, 0.9124467968940735, 1.011967658996582, 1.0432456731796265, 1.1001148223876953, 1.1541404724121094, 1.1626708507537842, 1.242287516593933, 1.3247476816177368, 1.1683577299118042, 1.0915844440460205, 1.0176546573638916, 0.9949069619178772, 0.9494116902351379, 0.8896991610527039, 0.7475264668464661, 0.5257369875907898, 0.386407732963562, 0.3011040985584259, 0.23570464551448822, 0.218643918633461, 0.09068846702575684, -0.13110098242759705, -0.1709093451499939, -0.21071769297122955, -0.2419956922531128, -0.3130820393562317, -0.3102385997772217, -0.4040725827217102, -0.3329862356185913, -0.3415165841579437, -0.21071769297122955, -0.11972716450691223, -0.27043023705482483, -0.21356114745140076, 0.00822828896343708, 0.1304968297481537, 0.4631810188293457, 0.7844913601875305, 0.8840122818946838, 1.0290284156799316, 1.1484534740447998, 1.2223833799362183, 1.4185817241668701, 1.4100513458251953, 1.4669203758239746, 1.5266329050064087, 1.7029269933700562, 1.631840705871582, 1.5635977983474731, 1.4242686033248901, 1.188261866569519, 1.0915844440460205, 0.9181337356567383, 0.7532133460044861, 0.7190918922424316, 0.690657377243042, 0.4404333829879761, 0.2214873731136322, 0.05656701326370239, -0.017362801358103752, -0.060014620423316956, -0.1737527996301651, -0.2391522377729416, -0.2533695101737976, -0.21071769297122955, -0.2419956922531128, -0.3073951303958893, -0.27896058559417725, -0.37279459834098816, -0.44956785440444946, -0.537714958190918, -0.5092803835868835, -0.5206542015075684, -0.537714958190918, -0.6997918486595154, -0.7452871203422546, -0.8618687391281128, -0.8703991174697876, -0.8789294958114624, -0.7424436807632446, -0.7623478770256042, -0.7936258316040039, -0.850494921207428, -0.8675556778907776, -0.8732425570487976, -0.8760859966278076, -0.9557027220726013, -0.8988336324691772, -0.7850955128669739, -0.7424436807632446, -0.6400793194770813, -0.5234977006912231, -0.5035935044288635, -0.4751589596271515, -0.384168416261673, -0.14816170930862427, -0.008832437917590141, 0.2214873731136322, 0.40915536880493164, 0.5541715621948242, 0.5541715621948242, 0.6707531809806824, 0.7077180743217468, 0.6878138780593872, 0.7788044214248657, 0.7759609818458557, 0.690657377243042, 0.7589002847671509, 0.6508489847183228, 0.6622228026390076, 0.5200501084327698, 0.2925737500190735, 0.28119993209838867, 0.12196646630764008, 0.00822828896343708, -0.04864080250263214, -0.11972716450691223, -0.18797005712985992, -0.21356114745140076, -0.4097594916820526, -0.3045516908168793, -0.3358296751976013, -0.28464749455451965, -0.2533695101737976, -0.11404025554656982, -0.06285807490348816, 0.03097592480480671, 0.08500155806541443, 0.16746173799037933, 0.2868868410587311, 0.26129573583602905, 0.34944283962249756, 0.4375899136066437, 0.4745548367500305, 0.5570150017738342, 0.41484227776527405, 0.40631192922592163, 0.24992191791534424, 0.23570464551448822, 0.2243308275938034, 0.03950629010796547, -0.020206255838274956, -0.11119680106639862, -0.2419956922531128, -0.412602961063385, -0.5718364119529724, -0.722539484500885, -0.7623478770256042, -0.7651913166046143, -0.8334342241287231, -0.7993127703666687, -0.9244247674942017, -0.6912614703178406, -0.7907823920249939, -0.7452871203422546, -0.6884180307388306, -0.5633060336112976, -0.4893762171268463, -0.43819403648376465, -0.36995112895965576, -0.2533695101737976, -0.06570152938365936, -0.15384861826896667, -0.05717116594314575, -0.0969795286655426, -0.000302074127830565, 0.03381938114762306, 0.1361837387084961, 0.10206228494644165, -0.008832437917590141, 0.00822828896343708, -0.1709093451499939, -0.20503078401088715, -0.22777841985225677, -0.20503078401088715, -0.22777841985225677, -0.20787423849105835, -0.0998229831457138, -0.02304970845580101, 0.002541380235925317, 0.04234974458813667, 0.16746173799037933, 0.19305282831192017, 0.42905956506729126, 0.5314239263534546, 0.7190918922424316, 0.818612813949585, 0.8953860998153687, 0.8527342677116394, 1.065993309020996, 1.0290284156799316, 1.080210566520691, 1.134236216545105, 1.1114885807037354, 1.0887409448623657, 1.0091242790222168, 0.9607855081558228, 0.8356735110282898, 0.6622228026390076, 0.565545380115509, 0.43190300464630127, 0.3181648254394531, 0.15893137454986572, 0.17314864695072174, -0.08276225626468658, -0.051484256982803345, -0.11119680106639862, -0.19934387505054474, -0.15953552722930908, -0.23630878329277039, -0.10550989210605621, -0.1680658906698227, -0.20503078401088715, -0.08276225626468658, -0.014519346877932549, -0.014519346877932549, 0.036662835627794266, 0.10774919390678406, 0.10490573942661285, 0.15893137454986572, 0.1304968297481537, 0.17314864695072174, 0.19305282831192017, 0.09921883046627045, 0.16177482903003693, 0.04519319906830788, 0.09921883046627045, 0.16177482903003693, 0.1304968297481537, -0.005988983437418938, -0.13678789138793945, -0.15384861826896667, -0.07707534730434418, -0.19934387505054474, -0.07707534730434418, -0.07423189282417297, -0.06570152938365936, -0.034423526376485825, -0.04011043533682823, 0.11059264838695526, 0.2158004641532898, 0.386407732963562, 0.40631192922592163, 0.5001459121704102, 0.4802417457103729, 0.4773982763290405, 0.568388819694519, 0.565545380115509, 0.514363169670105, 0.42052918672561646, 0.4461202919483185, 0.32385173439979553, 0.26129573583602905, 0.09637537598609924, -0.05432771146297455, -0.3187689483165741, -0.42682021856307983, -0.7111656665802002, -0.8618687391281128, -0.9528592824935913, -1.083658218383789, -1.146214246749878, -1.291230320930481, -1.3424125909805298, -1.3367255926132202, -1.2400481700897217, -1.2201440334320068, -1.2002397775650024, -1.2286744117736816, -1.1547445058822632, -0.9613896608352661, -0.841964602470398, -0.7111656665802002, -0.5576191544532776, -0.4637851417064667, -0.22777841985225677, -0.13394443690776825, 0.0224455613642931, 0.09921883046627045, 0.2158004641532898, 0.3608166575431824, 0.3039475679397583, 0.3778773844242096, 0.34375593066215515, 0.34091246128082275, 0.17314864695072174, 0.25845229625701904, 0.019602106884121895, -0.051484256982803345, -0.0998229831457138, -0.3073951303958893, -0.27896058559417725, -0.37563803791999817, -0.44388094544410706, -0.597427487373352, -0.5746798515319824, -0.7282264232635498, -0.725382924079895, -0.7310698628425598, -0.6798876523971558, -0.6059578657150269, -0.5576191544532776, -0.5803667902946472, -0.5718364119529724, -0.4979065954685211, -0.4808458685874939, -0.4637851417064667, -0.3329862356185913, -0.2391522377729416, -0.1737527996301651, -0.21924805641174316, -0.14247480034828186, -0.0941360741853714, -0.1765962541103363, -0.13963134586811066, -0.06570152938365936, -0.05432771146297455, 0.05656701326370239, 0.04803664982318878, 0.11059264838695526, 0.059410467743873596, -0.04011043533682823, -0.07138843834400177, -0.1794397085905075, -0.20787423849105835, -0.2647433280944824, -0.29317787289619446, -0.2476826012134552, -0.3898553252220154, -0.45241132378578186, -0.4694720506668091, -0.4922196865081787, -0.44672441482543945, -0.4694720506668091, -0.35857731103897095, -0.3415165841579437, -0.1794397085905075, -0.18512660264968872, -0.12825752794742584, -0.15953552722930908, -0.11404025554656982, -0.0969795286655426, -0.13110098242759705, -0.04011043533682823, -0.005988983437418938, -0.000302074127830565, 0.028132470324635506, -0.028736617416143417, -0.10550989210605621, -0.11688371002674103, -0.0998229831457138, -0.18228314816951752, -0.19934387505054474, -0.2391522377729416, -0.26189985871315, -0.21640460193157196, -0.28180405497550964, -0.18228314816951752, -0.20503078401088715, -0.15669207274913788, -0.18228314816951752, -0.16237898170948029, 0.050880104303359985, 0.12765337526798248, 0.15608792006969452, 0.2868868410587311, 0.4660244584083557, 0.5427977442741394, 0.6252579092979431, 0.7589002847671509, 0.9295075535774231, 1.000593900680542, 1.060306429862976, 1.0887409448623657, 1.0887409448623657, 1.0716803073883057, 1.1029582023620605, 1.0261850357055664, 1.0204980373382568, 0.9380378723144531, 0.872638463973999, 0.8498908281326294, 0.6281013488769531, 0.5427977442741394, 0.4006250202655792, 0.2129570096731186, 0.11912301182746887, 0.10206228494644165, 0.11059264838695526, -0.03726698085665703, -0.034423526376485825, -0.08276225626468658, -0.03726698085665703, -0.06570152938365936, -0.0998229831457138, 0.019602106884121895, -0.0969795286655426, -0.07423189282417297, -0.0912926197052002, 0.005384834948927164, 0.002541380235925317, 0.01675865240395069, -0.025893162935972214, -0.04864080250263214, -0.05717116594314575, -0.08560571074485779, -0.13678789138793945, -0.28180405497550964, -0.26758676767349243, -0.42682021856307983, -0.6542965769767761, -0.7140091061592102, -0.8106865882873535, -0.8931467533111572, -1.0552237033843994, -1.1945528984069824, -1.265639305114746, -1.1689618825912476, -1.1064058542251587, -1.0751278400421143, -1.0438498258590698, -1.0381629467010498, -0.9557027220726013, -0.8078431487083435, -0.7310698628425598, -0.6599835157394409, -0.5149673223495483, -0.28749096393585205, -0.12257061898708344, -0.08844916522502899, 0.013915197923779488, 0.1447141021490097, 0.12196646630764008, 0.12765337526798248, 0.16177482903003693, 0.04234974458813667, 0.10490573942661285, 0.05656701326370239, -0.034423526376485825, -0.22493496537208557, -0.3216124176979065, -0.37563803791999817, -0.5149673223495483, -0.716852605342865, -0.8249038457870483, -0.8590252995491028, -1.0637539625167847, -1.2002397775650024, -1.3139779567718506, -1.3850643634796143, -1.4334031343460083, -1.4476203918457031, -1.4191858768463135, -1.4191858768463135, -1.291230320930481, -1.211613655090332, -1.0665974617004395, -1.0495367050170898, -0.7765651345252991, -0.6656703948974609, -0.43819403648376465, -0.36142078042030334, -0.18797005712985992, -0.02304970845580101, 0.10490573942661285, 0.3039475679397583, 0.26698264479637146, 0.33806902170181274, 0.2982606589794159, 0.25560882687568665, 0.27551302313804626, 0.2954171895980835, 0.35512974858283997, 0.34091246128082275, 0.33238211274147034, 0.3949381113052368, 0.383564293384552, 0.41768574714660645, 0.41199883818626404, 0.40346845984458923, 0.3892512023448944, 0.4745548367500305, 0.4574941098690033, 0.5740756988525391, 0.6081971526145935, 0.5769191980361938, 0.5911364555358887, 0.5939798951148987, 0.7475264668464661, 0.6622228026390076, 0.6480055451393127, 0.6309447884559631, 0.699187695980072, 0.6679097414016724, 0.6821269989013672, 0.6138840913772583, 0.5797626376152039, 0.5257369875907898, 0.4461202919483185, 0.4375899136066437, 0.4631810188293457, 0.43190300464630127, 0.42905956506729126, 0.4745548367500305, 0.32669520378112793, 0.33522555232048035, 0.1447141021490097, 0.26413920521736145, 0.24423500895500183, 0.24707846343517303, 0.17599210143089294, 0.19020937383174896, 0.24707846343517303, 0.20158319175243378, 0.25845229625701904, 0.20158319175243378, 0.27266955375671387, 0.2783564627170563, 0.2129570096731186, 0.2300177365541458, 0.11912301182746887, 0.07078428566455841, -0.011675892397761345, -0.008832437917590141, -0.017362801358103752, -0.08560571074485779, -0.1680658906698227, -0.1794397085905075, -0.36995112895965576, -0.3813249468803406, -0.44672441482543945, -0.5490887761116028, -0.597427487373352, -0.6798876523971558, -0.8078431487083435, -0.8078431487083435, -0.7737216949462891, -0.8988336324691772, -0.9613896608352661, -0.9841372966766357, -0.9642331004142761, -0.9699200391769409, -0.7765651345252991, -0.8618687391281128, -0.7595043778419495, -0.716852605342865, -0.7140091061592102, -0.6429227590560913, -0.4950631260871887, -0.4182898700237274, -0.3159255087375641, -0.23062187433242798, -0.2419956922531128, -0.14247480034828186, -0.03158007189631462, 0.04803664982318878, 0.00822828896343708, 0.05372355878353119, 0.10206228494644165, 0.17030519247055054, 0.19020937383174896, 0.25276538729667664, 0.25845229625701904, 0.33238211274147034, 0.3750339150428772, 0.35512974858283997, 0.3778773844242096, 0.511519730091095, 0.49730247259140015, 0.5484846234321594, 0.49730247259140015, 0.5456411838531494, 0.5854495167732239, 0.6224144697189331, 0.6536924242973328, 0.5769191980361938, 0.693500816822052, 0.5598584413528442, 0.5826060771942139, 0.508676290512085, 0.5342673659324646, 0.4404333829879761, 0.40915536880493164, 0.3665035665035248, 0.3210082948207855, 0.26982611417770386, 0.15608792006969452, 0.16461828351020813, 0.011071743443608284, 0.013915197923779488, -0.04579734802246094, -0.04864080250263214, -0.0912926197052002, -0.11688371002674103, -0.1709093451499939, -0.11404025554656982, -0.07991880178451538, -0.1680658906698227, -0.0941360741853714, -0.13678789138793945, -0.13110098242759705, -0.0998229831457138, -0.008832437917590141, 0.09068846702575684, 0.17314864695072174, 0.18167901039123535, 0.11912301182746887, 0.07647119462490082, 0.1304968297481537, 0.18736591935157776, 0.12196646630764008, 0.3665035665035248, 0.3210082948207855, 0.3608166575431824, 0.43190300464630127, 0.48308518528938293, 0.40346845984458923, 0.40915536880493164, 0.40915536880493164, 0.4546506404876709, 0.34659937024116516, 0.34375593066215515, 0.3039475679397583, 0.27266955375671387, 0.19873973727226257, 0.07362774014472961, 0.028132470324635506, -0.07991880178451538, -0.10266643762588501, -0.12257061898708344, -0.1680658906698227, -0.16237898170948029, -0.1652224361896515, -0.14247480034828186, -0.14247480034828186, -0.11688371002674103, -0.005988983437418938, -0.011675892397761345, 0.1418706476688385, 0.08500155806541443, 0.2271742820739746, 0.3181648254394531, 0.3181648254394531, 0.3977815508842468, 0.5257369875907898, 0.5769191980361938, 0.6138840913772583, 0.6366317272186279, 0.6138840913772583, 0.696344256401062, 0.690657377243042, 0.7816479206085205, 0.7645871639251709, 0.7816479206085205, 0.881168782711029, 0.8584211468696594, 0.7816479206085205, 0.7418395280838013, 0.7077180743217468, 0.7560567855834961, 0.7532133460044861, 0.7304657101631165, 0.7816479206085205, 0.8413604497909546, 0.8498908281326294, 0.7617437243461609, 0.7134050130844116, 0.5826060771942139, 0.5371108055114746, 0.32385173439979553, 0.1447141021490097, 0.07931464910507202, 0.028132470324635506, -0.0998229831457138, -0.387011855840683, -0.3955422341823578, -0.5775232911109924, -0.7680347561836243, -0.904520571231842, -0.9898241758346558, -1.1490576267242432, -1.3424125909805298, -1.3480994701385498, -1.393594741821289, -1.6438188552856445, -1.6409753561019897, -1.680783748626709, -1.7006878852844238, -1.7490266561508179, -1.6125408411026, -1.569888949394226, -1.5897932052612305, -1.5243936777114868, -1.339569091796875, -1.2002397775650024, -1.077971339225769, -0.9642331004142761, -0.7936258316040039, -0.6116447448730469, -0.5803667902946472, -0.43250712752342224, -0.4012291431427002, -0.244839146733284, -0.18797005712985992, -0.060014620423316956, -0.03158007189631462, 0.12196646630764008, 0.11343610286712646, 0.11059264838695526, 0.1475575566291809, 0.25845229625701904, 0.26129573583602905, 0.2954171895980835, 0.25276538729667664, 0.24423500895500183, 0.24992191791534424, 0.2243308275938034, 0.26129573583602905, 0.2158004641532898, 0.32385173439979553, 0.2783564627170563, 0.32385173439979553, 0.3920946419239044, 0.3693470060825348, 0.35512974858283997, 0.40346845984458923, 0.3807208240032196, 0.383564293384552, 0.3920946419239044, 0.4773982763290405, 0.4688679277896881, 0.5314239263534546, 0.5172066688537598, 0.511519730091095, 0.5627018809318542, 0.5797626376152039, 0.505832850933075, 0.5257369875907898, 0.4745548367500305, 0.42052918672561646, 0.3892512023448944, 0.4631810188293457, 0.4631810188293457, 0.42337265610694885, 0.34944283962249756, 0.386407732963562, 0.49445900321006775, 0.49445900321006775, 0.4660244584083557, 0.5427977442741394, 0.4489637315273285, 0.42905956506729126, 0.4006250202655792, 0.3920946419239044, 0.4688679277896881, 0.4802417457103729, 0.4518072009086609, 0.4404333829879761, 0.41199883818626404, 0.42052918672561646, 0.40346845984458923, 0.3807208240032196, 0.35228627920150757, 0.25560882687568665, 0.2271742820739746, 0.2271742820739746, 0.2101135551929474, 0.12196646630764008, 0.17883555591106415, 0.09637537598609924, -0.014519346877932549, -0.02304970845580101, -0.005988983437418938, -0.02304970845580101, -0.020206255838274956, -0.034423526376485825, -0.13963134586811066, -0.10550989210605621, -0.11688371002674103, -0.13110098242759705, -0.060014620423316956, -0.14816170930862427, -0.14531825482845306, -0.23346532881259918, -0.13110098242759705, -0.23630878329277039, -0.21356114745140076, -0.1765962541103363, -0.16237898170948029, -0.18512660264968872, -0.15953552722930908, -0.15384861826896667, -0.18512660264968872, -0.2505260407924652, -0.19650042057037354, -0.25905641913414, -0.3329862356185913, -0.27043023705482483, -0.3244558572769165, -0.3358296751976013, -0.21640460193157196, -0.13110098242759705, -0.11688371002674103, -0.04864080250263214, 0.025289015844464302, 0.028132470324635506, 0.025289015844464302, 0.20158319175243378, 0.19589628279209137, 0.2300177365541458, 0.16746173799037933, 0.26413920521736145, 0.20727010071277618, 0.24707846343517303, 0.218643918633461, 0.24423500895500183, 0.17030519247055054, 0.24707846343517303, 0.18452246487140656, 0.19305282831192017, 0.16746173799037933, 0.12480992078781128, 0.03950629010796547, 0.12196646630764008, -0.0031455284915864468, -0.03726698085665703, -0.04579734802246094, -0.07138843834400177, -0.22777841985225677, -0.19650042057037354, -0.27327367663383484, -0.3272993266582489, -0.3045516908168793, -0.3358296751976013, -0.36710768938064575, -0.4069160521030426, -0.44388094544410706, -0.29317787289619446, -0.29033440351486206, -0.3017082214355469, -0.29602131247520447, -0.14531825482845306, -0.22777841985225677, -0.13394443690776825, -0.0912926197052002, -0.07138843834400177, -0.07707534730434418, 0.10774919390678406, 0.07078428566455841, 0.1361837387084961, 0.10490573942661285, 0.1504010111093521, 0.1333402842283249, 0.19305282831192017, 0.15893137454986572, 0.10490573942661285, 0.1418706476688385, 0.11343610286712646, 0.05656701326370239, 0.09068846702575684, 0.1304968297481537, 0.09353192150592804, -0.020206255838274956, -0.04579734802246094, -0.10835334658622742, -0.14247480034828186, -0.07138843834400177, -0.14816170930862427, -0.1652224361896515, -0.12541407346725464, -0.11404025554656982, -0.12257061898708344, -0.11688371002674103, -0.3017082214355469, -0.15100516378879547, -0.20218732953071594, -0.19934387505054474, -0.22209151089191437, -0.22209151089191437, -0.27043023705482483, -0.3386731445789337, -0.387011855840683, -0.35289040207862854, -0.43250712752342224, -0.4211333096027374, -0.42966368794441223, -0.5064369440078735, -0.4723154902458191, -0.4694720506668091, -0.537714958190918, -0.4723154902458191, -0.5547756552696228, -0.5519322156906128, -0.6031144261360168, -0.597427487373352, -0.5860536694526672, -0.594584047794342, -0.4694720506668091, -0.4922196865081787, -0.43819403648376465, -0.44388094544410706, -0.3272993266582489, -0.3415165841579437, -0.2533695101737976, -0.29033440351486206, -0.2647433280944824, -0.12825752794742584, -0.11404025554656982, -0.0912926197052002, -0.05432771146297455, -0.000302074127830565, -0.03158007189631462, -0.020206255838274956, -0.000302074127830565, 0.03950629010796547, -0.014519346877932549, 0.01675865240395069, -0.034423526376485825, 0.036662835627794266, 0.05656701326370239, 0.00822828896343708, -0.06570152938365936, 0.04234974458813667, -0.025893162935972214, 0.011071743443608284, 0.01675865240395069, 0.00822828896343708, 0.09921883046627045, 0.11343610286712646, 0.17030519247055054, 0.15324446558952332, 0.2783564627170563, 0.2783564627170563, 0.33238211274147034, 0.3920946419239044, 0.42337265610694885, 0.3636600971221924, 0.35512974858283997, 0.42905956506729126, 0.40631192922592163, 0.3778773844242096, 0.386407732963562, 0.3210082948207855, 0.3721904754638672, 0.26129573583602905, 0.32669520378112793, 0.27551302313804626, 0.059410467743873596, 0.05656701326370239, -0.0031455284915864468, -0.06285807490348816, -0.11688371002674103, -0.21071769297122955, -0.2533695101737976, -0.27327367663383484, -0.37279459834098816, -0.36710768938064575, -0.3130820393562317, -0.3898553252220154, -0.43535059690475464, -0.45241132378578186, -0.44388094544410706, -0.4780023992061615, -0.43819403648376465, -0.4097594916820526, -0.42682021856307983, -0.384168416261673, -0.34720349311828613, -0.37563803791999817, -0.37279459834098816, -0.3358296751976013, -0.3159255087375641, -0.3244558572769165, -0.22777841985225677, -0.28180405497550964, -0.0998229831457138, -0.1652224361896515, 0.00822828896343708, -0.05432771146297455, -0.017362801358103752, -0.025893162935972214, -0.06854498386383057, 0.11343610286712646, 0.05656701326370239, 0.05656701326370239, 0.04519319906830788, -0.020206255838274956, -0.10835334658622742, 0.03097592480480671, 0.025289015844464302, -0.10835334658622742, -0.0969795286655426, -0.15384861826896667, -0.1652224361896515, -0.21640460193157196, -0.21640460193157196, -0.1794397085905075, -0.2505260407924652, -0.3244558572769165, -0.3130820393562317, -0.35289040207862854, -0.3813249468803406, -0.3244558572769165, -0.4239767789840698, -0.36995112895965576, -0.4723154902458191, -0.5547756552696228, -0.45809823274612427, -0.4922196865081787, -0.5121238827705383, -0.5234977006912231, -0.4836893081665039, -0.5234977006912231, -0.44672441482543945, -0.44388094544410706, -0.36426421999931335, -0.4694720506668091, -0.36426421999931335, -0.36142078042030334, -0.3955422341823578, -0.5149673223495483, -0.45241132378578186, -0.36710768938064575, -0.37848150730133057, -0.35004696249961853, -0.22493496537208557, -0.12257061898708344, -0.14247480034828186, -0.06854498386383057, -0.04579734802246094, 0.025289015844464302, 0.12765337526798248, 0.1418706476688385, 0.2214873731136322, 0.3067910075187683, 0.3665035665035248, 0.48877209424972534, 0.4745548367500305, 0.5200501084327698, 0.505832850933075, 0.5826060771942139, 0.6252579092979431, 0.6792835593223572, 0.6195709705352783, 0.6622228026390076, 0.7020311951637268, 0.8129258751869202, 0.9238206148147583, 0.9010729789733887, 0.9266640543937683, 0.9266640543937683, 0.8641080856323242, 0.9323509931564331, 1.0347152948379517, 0.9579420685768127, 1.0318719148635864, 1.0204980373382568, 1.0688368082046509, 1.080210566520691, 0.9892200827598572, 1.0204980373382568, 0.9806897044181824, 0.8982295393943787, 0.8470473289489746, 0.8413604497909546, 0.7219353318214417, 0.7987086176872253, 0.7816479206085205, 0.6394751667976379, 0.6878138780593872, 0.642318606376648, 0.5371108055114746, 0.5484846234321594, 0.5200501084327698, 0.4546506404876709, 0.35512974858283997, 0.20158319175243378, 0.17030519247055054, -0.0031455284915864468, -0.08560571074485779, -0.22493496537208557, -0.3187689483165741, -0.43250712752342224, -0.591740608215332, -0.716852605342865, -0.7339133024215698, -0.8732425570487976, -1.041006326675415, -1.1973963975906372, -1.2144571542739868, -1.2400481700897217, -1.3480994701385498, -1.3537863492965698, -1.4334031343460083, -1.3736906051635742, -1.404968500137329, -1.393594741821289, -1.4106554985046387, -1.4191858768463135, -1.456150770187378, -1.393594741821289, -1.393594741821289, -1.3026041984558105, -1.1774921417236328, -1.1007189750671387, -0.9727634787559509, -0.9301116466522217, -0.8618687391281128, -0.7850955128669739, -0.7509740591049194, -0.6514531373977661, -0.5633060336112976, -0.37848150730133057, -0.3443600535392761, -0.13394443690776825, -0.15100516378879547, 0.0622539222240448, 0.12196646630764008, 0.17883555591106415, 0.32669520378112793, 0.42337265610694885, 0.4717113673686981, 0.6025102734565735, 0.6878138780593872, 0.7105615139007568, 0.8072389960289001, 0.7702741026878357, 0.9067599177360535, 0.9607855081558228, 1.0460891723632812, 1.054619550704956, 1.1143320798873901, 1.000593900680542, 1.0375587940216064, 0.8470473289489746, 0.8413604497909546, 0.8925426006317139, 0.7589002847671509, 0.6878138780593872, 0.7134050130844116, 0.6167275309562683, 0.5797626376152039, 0.4489637315273285, 0.3636600971221924, 0.32953864336013794, 0.2129570096731186, 0.12480992078781128, 0.1361837387084961, 0.11627955734729767, -0.0998229831457138, -0.15953552722930908, -0.22493496537208557, -0.35004696249961853, -0.44672441482543945, -0.5291845798492432, -0.5547756552696228, -0.6941049695014954, -0.719696044921875, -0.8732425570487976, -0.9158943891525269, -1.0694409608840942, -1.1291534900665283, -1.2258309125900269, -1.2770130634307861, -1.3424125909805298, -1.456150770187378, -1.4902722835540771, -1.6665664911270142, -1.6551926136016846, -1.7262790203094482, -1.8314868211746216, -1.7291224002838135, -1.814426064491272, -1.6551926136016846, -1.7291224002838135, -1.7575570344924927, -1.6352884769439697, -1.632444977760315, -1.4447768926620483, -1.3424125909805298, -1.2684826850891113, -1.103562355041504, -0.9386420249938965, -0.8903033137321472, -0.6969484090805054, -0.5604625940322876, -0.3955422341823578, -0.3159255087375641, -0.1680658906698227, -0.06285807490348816, 0.0622539222240448, 0.16461828351020813, 0.2840433716773987, 0.3920946419239044, 0.505832850933075, 0.5172066688537598, 0.5996668338775635, 0.6792835593223572, 0.6821269989013672, 0.7987086176872253, 0.7674306035041809, 0.7788044214248657, 0.821456253528595, 0.7162484526634216, 0.7674306035041809, 0.7304657101631165, 0.7048746347427368, 0.6309447884559631, 0.5541715621948242, 0.508676290512085, 0.4461202919483185, 0.40915536880493164, 0.3011040985584259, 0.3693470060825348, 0.2868868410587311, 0.25276538729667664, 0.23570464551448822, 0.24992191791534424, 0.1504010111093521, 0.12480992078781128, 0.10490573942661285, 0.04519319906830788, 0.01675865240395069, 0.0224455613642931, -0.28180405497550964, -0.23630878329277039, -0.18797005712985992, -0.34720349311828613, -0.3329862356185913, -0.412602961063385, -0.4239767789840698, -0.44672441482543945, -0.4609416723251343, -0.4865327775478363, -0.5576191544532776, -0.5462453365325928, -0.6002709269523621, -0.6173316836357117, -0.6628269553184509, -0.6827311515808105, -0.722539484500885, -0.7026352882385254, -0.6201751232147217, -0.6059578657150269, -0.5149673223495483, -0.4950631260871887, -0.4950631260871887, -0.42966368794441223, -0.4609416723251343, -0.37848150730133057, -0.3159255087375641, -0.14247480034828186, -0.15669207274913788, -0.06570152938365936, -0.04579734802246094, -0.028736617416143417, 0.07078428566455841, -0.020206255838274956, 0.11343610286712646, 0.15893137454986572, 0.15893137454986572, 0.26698264479637146, 0.20727010071277618, 0.26982611417770386, 0.3721904754638672, 0.41768574714660645, 0.41768574714660645, 0.4603375494480133, 0.5029893517494202, 0.5427977442741394, 0.6025102734565735, 0.5854495167732239, 0.7048746347427368, 0.6849704384803772, 0.7219353318214417, 0.7247788310050964, 0.6167275309562683, 0.7503699064254761, 0.7247788310050964, 0.5996668338775635, 0.5541715621948242, 0.4717113673686981, 0.4404333829879761, 0.3949381113052368, 0.3920946419239044, 0.383564293384552, 0.2868868410587311, 0.3210082948207855, 0.16177482903003693, 0.2868868410587311, 0.24423500895500183, 0.2214873731136322, 0.20158319175243378, 0.24707846343517303, 0.2840433716773987, 0.28119993209838867, 0.2243308275938034, 0.2271742820739746, 0.2300177365541458, 0.1361837387084961, 0.09637537598609924, 0.07931464910507202, 0.059410467743873596, 0.019602106884121895, -0.03158007189631462, -0.02304970845580101, -0.11972716450691223, -0.15953552722930908, -0.22493496537208557, -0.28749096393585205, -0.35857731103897095, -0.35289040207862854, -0.4780023992061615, -0.44956785440444946, -0.5178107619285583, -0.6429227590560913, -0.591740608215332, -0.6599835157394409, -0.8135300278663635, -0.7310698628425598, -0.9244247674942017, -0.9613896608352661, -0.8675556778907776, -0.9215812683105469, -0.9443289041519165, -1.0011980533599854, -0.9898241758346558, -1.0211021900177002, -0.8760859966278076, -0.9301116466522217, -0.8703991174697876, -0.7936258316040039, -0.7481305599212646, -0.6002709269523621, -0.543401837348938, -0.4637851417064667, -0.4239767789840698, -0.3102385997772217, -0.28749096393585205, -0.19365696609020233, -0.11404025554656982, 0.002541380235925317, 0.08215810358524323, 0.09353192150592804, 0.10490573942661285, 0.16461828351020813, 0.24423500895500183, 0.2158004641532898, 0.28119993209838867, 0.2925737500190735, 0.386407732963562, 0.33806902170181274, 0.33238211274147034, 0.41199883818626404, 0.34375593066215515, 0.32385173439979553, 0.34375593066215515, 0.24139155447483063, 0.26982611417770386, 0.3096344769001007, 0.24992191791534424, 0.2840433716773987, 0.27266955375671387, 0.17314864695072174, 0.09637537598609924, -0.0031455284915864468, -0.000302074127830565, -0.03726698085665703, -0.11972716450691223, -0.16237898170948029, -0.27611714601516724, -0.4012291431427002, -0.43250712752342224, -0.5007500648498535, -0.5604625940322876, -0.7367567420005798, -0.7879389524459839, -0.7765651345252991, -0.8732425570487976, -0.9158943891525269, -1.023945689201355, -1.0466933250427246, -1.1746487617492676, -1.1149362325668335, -1.1007189750671387, -1.1348403692245483, -1.0097284317016602, -0.9414854645729065, -0.8249038457870483, -0.8135300278663635, -0.716852605342865, -0.5888971090316772, -0.44672441482543945, -0.5064369440078735, -0.27327367663383484, -0.1794397085905075, 0.019602106884121895, 0.16461828351020813, 0.3721904754638672, 0.49730247259140015, 0.6792835593223572, 0.7560567855834961, 0.8925426006317139, 1.054619550704956, 1.236600637435913, 1.1996357440948486, 1.3873037099838257, 1.4356423616409302, 1.4839810132980347, 1.5067286491394043, 1.6403710842132568, 1.7370485067367554, 1.7171443700790405, 1.765483021736145, 1.808134913444519, 1.7996045351028442, 1.7910741567611694, 1.711457371711731, 1.7910741567611694, 1.685866355895996, 1.6887097358703613, 1.6915532350540161, 1.6659621000289917, 1.6517448425292969, 1.5380066633224487, 1.427112102508545, 1.4697637557983398, 1.3275911808013916, 1.2138530015945435, 1.0034373998641968, 0.9295075535774231, 0.7503699064254761, 0.6849704384803772, 0.48308518528938293, 0.48308518528938293, 0.32385173439979553, 0.20727010071277618, 0.03381938114762306, -0.08560571074485779, -0.16237898170948029, -0.3955422341823578, -0.4694720506668091, -0.5320280194282532, -0.6486096978187561, -0.8533384203910828, -0.9756069183349609, -0.9983545541763306, -1.083658218383789, -1.163274884223938, -1.1803356409072876, -1.1888660192489624, -1.2428916692733765, -1.1945528984069824, -1.1263099908828735, -1.1490576267242432, -1.1689618825912476, -1.1945528984069824, -1.1234666109085083, -1.1405272483825684, -1.0011980533599854, -0.9329550862312317, -0.8903033137321472, -0.8220604062080383, -0.7509740591049194, -0.7339133024215698, -0.5803667902946472, -0.5263411402702332, -0.3926987648010254, -0.28749096393585205, -0.18797005712985992, -0.05432771146297455, 0.1447141021490097, 0.2300177365541458, 0.3750339150428772, 0.5285804271697998, 0.5769191980361938, 0.7532133460044861, 0.824299693107605, 1.0858975648880005, 1.188261866569519, 1.3617125749588013, 1.5067286491394043, 1.637527585029602, 1.7313616275787354, 1.941777229309082, 2.0213940143585205, 2.146505832672119, 2.174940586090088, 2.3427042961120605, 2.356921672821045, 2.4052603244781494, 2.456442356109619, 2.570180654525757, 2.4934074878692627, 2.6071455478668213, 2.6014585494995117, 2.538902759552002, 2.5360591411590576, 2.402416944503784, 2.41094708442688, 2.2659311294555664, 2.1578798294067383, 1.9986462593078613, 1.7967610359191895, 1.7228312492370605, 1.5948758125305176, 1.4299554824829102, 1.2820959091186523, 1.182574987411499, 0.8868557214736938, 0.7475264668464661, 0.6451621055603027, 0.5797626376152039, 0.35797318816185, 0.2214873731136322, 0.25276538729667664, 0.07362774014472961, 0.025289015844464302, -0.15384861826896667, -0.1737527996301651, -0.2505260407924652, -0.2505260407924652, -0.23630878329277039, -0.3102385997772217, -0.3102385997772217, -0.412602961063385, -0.4922196865081787, -0.42966368794441223, -0.42682021856307983, -0.42966368794441223, -0.45241132378578186, -0.43819403648376465, -0.3443600535392761, -0.384168416261673, -0.3130820393562317, -0.3244558572769165, -0.3130820393562317, -0.3017082214355469, -0.20787423849105835, -0.18228314816951752, -0.21924805641174316, -0.19650042057037354, -0.21356114745140076, -0.11972716450691223, -0.02304970845580101, 0.09921883046627045, 0.011071743443608284, 0.17030519247055054, 0.1504010111093521, 0.24992191791534424, 0.3608166575431824, 0.41199883818626404, 0.5513280630111694, 0.5257369875907898, 0.7162484526634216, 0.7361526489257812, 0.7418395280838013, 0.7674306035041809, 0.818612813949585, 0.8584211468696594, 0.9437248110771179, 0.9607855081558228, 0.9579420685768127, 0.9351944327354431, 0.8612646460533142, 0.9494116902351379, 0.8925426006317139, 0.875481903553009, 0.8868557214736938, 0.7987086176872253, 0.8129258751869202, 0.7674306035041809, 0.7077180743217468, 0.6735966205596924, 0.642318606376648, 0.5854495167732239, 0.4688679277896881, 0.4489637315273285, 0.3778773844242096, 0.3096344769001007, 0.2897302806377411, 0.20442664623260498, 0.218643918633461, 0.17030519247055054, 0.16746173799037933, 0.06794083118438721, 0.11912301182746887, 0.11627955734729767, 0.04803664982318878, -0.05432771146297455, -0.05432771146297455, -0.15669207274913788, -0.1765962541103363, -0.21640460193157196, -0.2391522377729416, -0.22493496537208557, -0.3358296751976013, -0.26758676767349243, -0.28180405497550964, -0.2505260407924652, -0.19365696609020233, -0.18228314816951752, -0.0941360741853714, -0.025893162935972214, -0.020206255838274956, 0.11912301182746887, 0.2214873731136322, 0.3181648254394531, 0.2954171895980835, 0.33238211274147034, 0.40631192922592163, 0.4518072009086609, 0.42905956506729126, 0.5627018809318542, 0.5598584413528442, 0.5541715621948242, 0.5371108055114746, 0.6195709705352783, 0.6224144697189331, 0.6110406517982483, 0.5342673659324646, 0.6309447884559631, 0.5342673659324646, 0.7219353318214417, 0.6394751667976379, 0.6878138780593872, 0.6337882876396179, 0.5996668338775635, 0.5484846234321594, 0.5200501084327698, 0.5285804271697998, 0.5797626376152039, 0.5740756988525391, 0.4631810188293457, 0.49730247259140015, 0.3778773844242096, 0.4660244584083557, 0.3153213858604431, 0.3807208240032196, 0.3608166575431824, 0.34944283962249756, 0.3153213858604431, 0.33522555232048035, 0.26698264479637146, 0.2954171895980835, 0.32385173439979553, 0.18167901039123535, 0.15608792006969452, 0.18452246487140656, 0.08215810358524323, 0.013915197923779488, -0.06570152938365936, -0.13963134586811066, -0.22209151089191437, -0.3358296751976013, -0.37563803791999817, -0.44956785440444946, -0.4893762171268463, -0.5007500648498535, -0.5490887761116028, -0.5462453365325928, -0.4808458685874939, -0.5064369440078735, -0.5263411402702332, -0.5547756552696228, -0.5263411402702332, -0.5121238827705383, -0.5604625940322876, -0.5547756552696228, -0.5490887761116028, -0.6088013052940369, -0.6315489411354065, -0.6429227590560913, -0.6031144261360168, -0.5121238827705383, -0.4922196865081787, -0.4836893081665039, -0.4637851417064667, -0.5320280194282532, -0.3983856737613678, -0.4069160521030426, -0.35004696249961853, -0.3386731445789337, -0.35004696249961853, -0.29886478185653687, -0.2647433280944824, -0.21924805641174316, -0.08560571074485779, -0.13678789138793945, -0.04864080250263214, 0.036662835627794266, 0.03097592480480671, 0.05656701326370239, 0.17599210143089294, 0.1475575566291809, 0.24423500895500183, 0.3096344769001007, 0.26413920521736145, 0.3210082948207855, 0.383564293384552, 0.40915536880493164, 0.25276538729667664, 0.218643918633461, 0.26129573583602905, 0.26413920521736145, 0.2158004641532898, 0.19020937383174896, 0.2243308275938034, 0.18167901039123535, 0.12196646630764008, 0.09637537598609924, 0.08784501254558563, 0.08500155806541443, 0.1333402842283249, -0.011675892397761345, -0.02304970845580101, -0.04579734802246094, -0.13394443690776825, -0.1737527996301651, -0.22777841985225677, -0.3045516908168793, -0.3443600535392761, -0.3926987648010254, -0.3926987648010254, -0.37563803791999817, -0.4069160521030426, -0.3926987648010254, -0.4922196865081787, -0.44672441482543945, -0.4637851417064667, -0.4040725827217102, -0.42682021856307983, -0.34720349311828613, -0.27043023705482483, -0.37563803791999817, -0.3443600535392761, -0.3301427662372589, -0.3187689483165741, -0.29602131247520447, -0.3244558572769165, -0.36426421999931335, -0.28180405497550964, -0.3386731445789337, -0.22209151089191437, -0.15953552722930908, -0.0912926197052002, -0.11688371002674103, -0.07423189282417297, 0.03097592480480671, 0.12196646630764008, 0.1304968297481537, 0.19589628279209137, 0.3721904754638672, 0.4745548367500305, 0.5740756988525391, 0.7048746347427368, 0.8697949647903442, 0.9579420685768127, 0.9494116902351379, 1.1058017015457153, 1.2252267599105835, 1.3020000457763672, 1.364556074142456, 1.370242953300476, 1.3474953174591064, 1.4669203758239746, 1.503885269165039, 1.7199877500534058, 1.6716490983963013, 1.7768568992614746, 1.759796142578125, 1.7285181283950806, 1.7484222650527954, 1.583501935005188, 1.5550674200057983, 1.5977191925048828, 1.4413293600082397, 1.2195398807525635, 1.1541404724121094, 0.9522551894187927, 0.9152902364730835, 0.7532133460044861, 0.7247788310050964, 0.5968233346939087, 0.3181648254394531, 0.1475575566291809, 0.00822828896343708, -0.06285807490348816, -0.16237898170948029, -0.3159255087375641, -0.5291845798492432, -0.6031144261360168, -0.6457661986351013, -0.725382924079895, -0.8561818599700928, -0.8817729353904724, -1.1007189750671387, -1.205926775932312, -1.2030832767486572, -1.2684826850891113, -1.3680036067962646, -1.4959591627120972, -1.5187067985534668, -1.6466622352600098, -1.6750967502593994, -1.7234355211257935, -1.7006878852844238, -1.8002088069915771, -1.7774611711502075, -1.7689307928085327, -1.760400414466858, -1.814426064491272, -1.7177486419677734, -1.7063747644424438, -1.692157506942749, -1.5442979335784912, -1.5471413135528564, -1.3480994701385498, -1.3139779567718506, -1.2144571542739868, -1.0381629467010498, -0.9244247674942017, -0.8959901928901672, -0.7765651345252991, -0.6230185627937317, -0.29602131247520447, -0.20787423849105835, -0.11119680106639862, 0.025289015844464302, 0.12480992078781128, 0.19305282831192017, 0.3693470060825348, 0.4404333829879761, 0.5001459121704102, 0.4745548367500305, 0.6195709705352783, 0.5968233346939087, 0.6593793630599976, 0.6252579092979431, 0.6764400601387024, 0.6792835593223572, 0.6707531809806824, 0.6451621055603027, 0.6309447884559631, 0.6252579092979431, 0.6451621055603027, 0.5769191980361938, 0.5200501084327698, 0.508676290512085, 0.4773982763290405, 0.26982611417770386, 0.2214873731136322, 0.26413920521736145, 0.0224455613642931, -0.14816170930862427, -0.23630878329277039, -0.3329862356185913, -0.43819403648376465, -0.597427487373352, -0.7310698628425598, -0.8789294958114624, -1.0324760675430298, -1.1689618825912476, -1.2485785484313965, -1.4476203918457031, -1.4931156635284424, -1.5556716918945312, -1.6011669635772705, -1.734809398651123, -1.8371737003326416, -1.7689307928085327, -1.8172695636749268, -1.8656082153320312, -1.8371737003326416, -1.7916784286499023, -1.7006878852844238, -1.6125408411026, -1.6438188552856445, -1.5016460418701172, -1.5187067985534668, -1.3850643634796143, -1.285543441772461, -1.2514220476150513, -1.083658218383789, -1.0324760675430298, -0.8931467533111572, -0.847651481628418, -0.6542965769767761, -0.5547756552696228, -0.5206542015075684, -0.4780023992061615, -0.3813249468803406, -0.29886478185653687, -0.27043023705482483, -0.21071769297122955, -0.1737527996301651, -0.23630878329277039, -0.12825752794742584, -0.060014620423316956, -0.06570152938365936, 0.09637537598609924, 0.1390271931886673, 0.2158004641532898, 0.20727010071277618, 0.18452246487140656, 0.33522555232048035, 0.3067910075187683, 0.3636600971221924, 0.3636600971221924, 0.32669520378112793, 0.24992191791534424, 0.18736591935157776, 0.1418706476688385, 0.07078428566455841, 0.059410467743873596, -0.011675892397761345, 0.04234974458813667, 0.002541380235925317, 0.002541380235925317, -0.011675892397761345, -0.0031455284915864468, -0.011675892397761345, 0.002541380235925317, -0.06285807490348816, -0.04579734802246094, -0.08560571074485779, -0.07138843834400177, -0.13678789138793945, -0.10835334658622742, -0.0912926197052002, -0.11404025554656982, -0.0969795286655426, -0.12541407346725464, -0.0969795286655426, -0.1794397085905075, -0.0969795286655426, -0.03726698085665703, -0.10550989210605621, -0.10266643762588501, -0.11972716450691223, -0.02304970845580101, -0.05717116594314575, -0.04011043533682823, 0.028132470324635506, -0.03158007189631462, 0.028132470324635506, -0.000302074127830565, -0.051484256982803345, -0.008832437917590141, -0.11972716450691223, -0.15953552722930908, -0.21356114745140076, -0.34720349311828613, -0.36995112895965576, -0.5462453365325928, -0.5519322156906128, -0.5576191544532776, -0.6315489411354065, -0.7054787874221802, -0.7765651345252991, -0.7794085741043091, -0.841964602470398, -0.8647121787071228, -0.8703991174697876, -0.8846163749694824, -0.8618687391281128, -0.7026352882385254, -0.6855745911598206, -0.7452871203422546, -0.668513834476471, -0.7140091061592102, -0.7083222270011902, -0.7282264232635498, -0.6201751232147217, -0.7424436807632446, -0.7111656665802002, -0.6770442128181458, -0.7026352882385254, -0.7396002411842346, -0.7367567420005798, -0.725382924079895, -0.6429227590560913, -0.6628269553184509, -0.5576191544532776, -0.5860536694526672, -0.5661494731903076, -0.4865327775478363, -0.4069160521030426, -0.35573387145996094, -0.35004696249961853, -0.2505260407924652, -0.27327367663383484, -0.3045516908168793, -0.27327367663383484, -0.4040725827217102, -0.36142078042030334, -0.3813249468803406, -0.36426421999931335, -0.412602961063385, -0.4182898700237274, -0.35004696249961853, -0.29602131247520447, -0.35857731103897095, -0.3187689483165741, -0.42966368794441223, -0.3983856737613678, -0.43535059690475464, -0.45525476336479187, -0.5092803835868835, -0.4609416723251343, -0.4922196865081787, -0.4865327775478363, -0.5178107619285583, -0.5263411402702332, -0.5206542015075684, -0.5320280194282532, -0.5064369440078735, -0.415446400642395, -0.42682021856307983, -0.4012291431427002, -0.4893762171268463, -0.44103750586509705, -0.42682021856307983, -0.5462453365325928, -0.5291845798492432, -0.5149673223495483, -0.43535059690475464, -0.387011855840683, -0.36995112895965576, -0.387011855840683, -0.3386731445789337, -0.27327367663383484, -0.22209151089191437, -0.20787423849105835, -0.1652224361896515, -0.11119680106639862, -0.051484256982803345, -0.10550989210605621, -0.000302074127830565, -0.0998229831457138, -0.18228314816951752, -0.07707534730434418, -0.05432771146297455, -0.11972716450691223, -0.11972716450691223, -0.060014620423316956, -0.08276225626468658, -0.07991880178451538, -0.020206255838274956, -0.04864080250263214, -0.1794397085905075, -0.10550989210605621, -0.1709093451499939, -0.11972716450691223, -0.13963134586811066, -0.19081351161003113, -0.20218732953071594, -0.26758676767349243, -0.25905641913414, -0.20787423849105835, -0.1709093451499939, -0.13678789138793945, -0.06854498386383057, -0.13394443690776825, -0.12257061898708344, -0.11119680106639862, -0.07423189282417297, -0.14247480034828186, -0.02304970845580101, -0.08844916522502899, -0.06570152938365936, -0.08560571074485779, -0.13963134586811066, -0.0998229831457138, -0.11119680106639862, -0.11972716450691223, -0.2533695101737976, -0.15669207274913788, -0.19934387505054474, -0.14247480034828186, -0.18228314816951752, -0.18228314816951752, -0.21640460193157196, -0.3358296751976013, -0.3415165841579437, -0.3216124176979065, -0.3272993266582489, -0.36995112895965576, -0.36426421999931335, -0.5291845798492432, -0.5121238827705383, -0.5490887761116028, -0.5718364119529724, -0.6144882440567017, -0.7396002411842346, -0.594584047794342, -0.5576191544532776, -0.6542965769767761, -0.6315489411354065, -0.5519322156906128, -0.5291845798492432, -0.43819403648376465, -0.4751589596271515, -0.4040725827217102, -0.4666285812854767, -0.3898553252220154, -0.35004696249961853, -0.4012291431427002, -0.3443600535392761, -0.27043023705482483, -0.20787423849105835, -0.13394443690776825, -0.15384861826896667, 0.0224455613642931, 0.11627955734729767, 0.059410467743873596, 0.16746173799037933, 0.18736591935157776, 0.17030519247055054, 0.18167901039123535, 0.1504010111093521, 0.23286119103431702, 0.26129573583602905, 0.3181648254394531, 0.3210082948207855, 0.3693470060825348, 0.43190300464630127, 0.5371108055114746, 0.4574941098690033, 0.5314239263534546, 0.511519730091095, 0.5371108055114746, 0.6167275309562683, 0.508676290512085, 0.4461202919483185, 0.4745548367500305, 0.42052918672561646, 0.42905956506729126, 0.3892512023448944, 0.3807208240032196, 0.25560882687568665, 0.24707846343517303, 0.1304968297481537, 0.10774919390678406, 0.08500155806541443, 0.07362774014472961, 0.019602106884121895, -0.10550989210605621, -0.1765962541103363, -0.1709093451499939, -0.22493496537208557, -0.35004696249961853, -0.3187689483165741, -0.3443600535392761, -0.42682021856307983, -0.44956785440444946, -0.5604625940322876, -0.5519322156906128, -0.5035935044288635, -0.5661494731903076, -0.594584047794342, -0.6372358798980713, -0.6628269553184509, -0.7595043778419495, -0.7822520136833191, -0.7850955128669739, -0.7083222270011902, -0.7595043778419495, -0.6969484090805054, -0.6002709269523621, -0.6400793194770813, -0.537714958190918, -0.5064369440078735, -0.37279459834098816, -0.3159255087375641, -0.28749096393585205, -0.29317787289619446, -0.15100516378879547, -0.10550989210605621, -0.03158007189631462, 0.12196646630764008, 0.2243308275938034, 0.3011040985584259, 0.4745548367500305, 0.514363169670105, 0.49161556363105774, 0.6224144697189331, 0.642318606376648, 0.6593793630599976, 0.7333091497421265, 0.7389960885047913, 0.7105615139007568, 0.7759609818458557, 0.8043955564498901, 0.9380378723144531, 0.9209771752357483, 0.9892200827598572, 1.0176546573638916, 1.0204980373382568, 0.9806897044181824, 1.0091242790222168, 0.9550986289978027, 0.8868557214736938, 0.8271431922912598, 0.818612813949585, 0.8072389960289001, 0.7418395280838013, 0.7901782393455505, 0.7276222705841064, 0.7560567855834961, 0.7219353318214417, 0.7048746347427368, 0.6792835593223572, 0.6764400601387024, 0.6394751667976379, 0.6878138780593872, 0.6536924242973328, 0.571232259273529, 0.5371108055114746, 0.4660244584083557, 0.3920946419239044, 0.3608166575431824, 0.2868868410587311, 0.386407732963562, 0.28119993209838867, 0.32669520378112793, 0.2158004641532898, 0.2840433716773987, 0.18452246487140656, 0.11343610286712646, 0.04803664982318878, 0.10206228494644165, 0.002541380235925317, -0.011675892397761345, -0.03158007189631462, -0.03726698085665703, -0.12541407346725464, -0.12257061898708344, -0.12541407346725464, -0.27043023705482483, -0.22777841985225677, -0.244839146733284, -0.26758676767349243, -0.28464749455451965, -0.35573387145996094, -0.36142078042030334, -0.3358296751976013, -0.3415165841579437, -0.3983856737613678, -0.43250712752342224, -0.42682021856307983, -0.3073951303958893, -0.387011855840683, -0.4865327775478363, -0.4808458685874939, -0.3813249468803406, -0.4012291431427002, -0.37279459834098816, -0.3926987648010254, -0.25905641913414, -0.2476826012134552, -0.23630878329277039, -0.22777841985225677, -0.1794397085905075, -0.13394443690776825, -0.11972716450691223, -0.05717116594314575, 0.08215810358524323, 0.09921883046627045, 0.24139155447483063, 0.17314864695072174, 0.2868868410587311, 0.35228627920150757, 0.4489637315273285, 0.27551302313804626, 0.3892512023448944, 0.4432768225669861, 0.42621609568595886, 0.41484227776527405, 0.4461202919483185, 0.4006250202655792, 0.32669520378112793, 0.24992191791534424, 0.218643918633461, 0.18736591935157776, 0.19873973727226257, 0.19305282831192017, 0.1304968297481537, 0.16461828351020813, 0.10206228494644165, 0.1361837387084961, 0.01675865240395069, 0.12196646630764008, 0.05656701326370239, 0.11059264838695526, 0.15893137454986572, 0.25276538729667664, 0.34944283962249756, 0.3807208240032196, 0.41199883818626404, 0.35512974858283997, 0.386407732963562, 0.3807208240032196, 0.3124779164791107, 0.32669520378112793, 0.3892512023448944, 0.42337265610694885, 0.49445900321006775, 0.4518072009086609, 0.508676290512085, 0.41768574714660645, 0.4518072009086609, 0.42052918672561646, 0.3778773844242096, 0.42052918672561646, 0.24992191791534424, 0.3039475679397583, 0.25560882687568665, 0.3181648254394531, 0.2925737500190735, 0.20158319175243378, 0.3124779164791107, 0.3011040985584259, 0.3181648254394531, 0.2783564627170563, 0.3750339150428772, 0.3750339150428772, 0.3636600971221924, 0.3124779164791107, 0.3210082948207855, 0.35512974858283997, 0.3181648254394531, 0.3636600971221924, 0.43474647402763367, 0.3693470060825348, 0.3721904754638672, 0.3011040985584259, 0.3778773844242096, 0.2982606589794159, 0.34375593066215515, 0.3721904754638672, 0.3608166575431824, 0.40346845984458923, 0.49730247259140015, 0.41199883818626404, 0.40346845984458923, 0.48308518528938293, 0.511519730091095, 0.4404333829879761, 0.508676290512085, 0.3608166575431824, 0.49161556363105774, 0.42621609568595886, 0.49161556363105774, 0.49730247259140015, 0.5285804271697998, 0.505832850933075, 0.49161556363105774, 0.5797626376152039, 0.6053537130355835, 0.5513280630111694, 0.6167275309562683, 0.642318606376648, 0.5797626376152039, 0.6252579092979431, 0.5996668338775635, 0.6764400601387024, 0.6025102734565735, 0.6224144697189331, 0.5513280630111694, 0.6366317272186279, 0.6309447884559631, 0.5371108055114746, 0.5371108055114746, 0.49730247259140015, 0.40346845984458923, 0.3750339150428772, 0.3124779164791107, 0.2129570096731186, 0.1361837387084961, 0.10490573942661285, 0.12480992078781128, 0.065097376704216, 0.04234974458813667, 0.05372355878353119, -0.051484256982803345, -0.028736617416143417, -0.0941360741853714, -0.1652224361896515, -0.23062187433242798, -0.28749096393585205, -0.3415165841579437, -0.3017082214355469, -0.387011855840683, -0.44388094544410706, -0.35573387145996094, -0.3983856737613678, -0.36142078042030334, -0.43819403648376465, -0.3386731445789337, -0.384168416261673, -0.3244558572769165, -0.3358296751976013, -0.2419956922531128, -0.37563803791999817, -0.2391522377729416, -0.15953552722930908, -0.14531825482845306, -0.07423189282417297, -0.025893162935972214, 0.04234974458813667, 0.04519319906830788, 0.1361837387084961, 0.17883555591106415, 0.17314864695072174, 0.18452246487140656, 0.2300177365541458, 0.32669520378112793, 0.3124779164791107, 0.40915536880493164, 0.5371108055114746, 0.7077180743217468, 0.6707531809806824, 0.9067599177360535, 0.9152902364730835, 0.9778462648391724, 0.9295075535774231, 0.9124467968940735, 0.9892200827598572, 1.0460891723632812, 1.0716803073883057, 1.0688368082046509, 1.0204980373382568, 1.0773671865463257, 1.0176546573638916, 1.0858975648880005, 1.0091242790222168, 1.011967658996582, 1.000593900680542, 1.0318719148635864, 0.997750461101532, 0.9494116902351379, 0.821456253528595, 0.8868557214736938, 0.8356735110282898, 0.7503699064254761, 0.6821269989013672, 0.6394751667976379, 0.508676290512085, 0.5541715621948242, 0.43474647402763367, 0.34091246128082275, 0.34659937024116516, 0.23854809999465942, 0.20727010071277618, 0.11343610286712646, -0.000302074127830565, -0.060014620423316956, -0.03726698085665703, -0.06570152938365936, -0.042953889816999435, -0.05717116594314575, -0.11688371002674103, -0.1765962541103363, -0.04579734802246094, -0.020206255838274956, 0.002541380235925317, -0.07707534730434418, -0.034423526376485825, -0.08276225626468658, -0.0031455284915864468, -0.042953889816999435, -0.020206255838274956, -0.005988983437418938, -0.04864080250263214, -0.051484256982803345, -0.03158007189631462, -0.10550989210605621, -0.0969795286655426, -0.051484256982803345, 0.036662835627794266, 0.059410467743873596, 0.08500155806541443, 0.12765337526798248, 0.12480992078781128, 0.16746173799037933, 0.11627955734729767, 0.2868868410587311, 0.3067910075187683, 0.34659937024116516, 0.3778773844242096, 0.4717113673686981, 0.48877209424972534, 0.5257369875907898, 0.508676290512085, 0.5882930159568787, 0.5200501084327698, 0.4717113673686981, 0.5371108055114746, 0.5882930159568787, 0.6053537130355835, 0.5882930159568787, 0.49445900321006775, 0.4404333829879761, 0.40346845984458923, 0.33238211274147034, 0.32385173439979553, 0.19305282831192017, 0.19020937383174896, 0.20158319175243378, 0.05372355878353119, -0.11119680106639862, -0.13394443690776825, -0.18228314816951752, -0.3983856737613678, -0.43535059690475464, -0.6343923807144165, -0.6713573336601257, -0.6571400165557861, -0.8391211032867432, -0.9869807362556458, -0.9983545541763306, -1.0751278400421143, -1.0808147192001343, -1.2087701559066772, -1.1888660192489624, -1.2627958059310913, -1.2428916692733765, -1.1490576267242432, -1.2144571542739868, -1.1405272483825684, -1.1064058542251587, -1.1376838684082031, -0.9926676750183105, -0.9244247674942017, -0.7623478770256042, -0.7367567420005798, -0.7651913166046143, -0.6855745911598206, -0.6343923807144165, -0.537714958190918, -0.5149673223495483, -0.3898553252220154, -0.36426421999931335, -0.15100516378879547, -0.04864080250263214, 0.05656701326370239, 0.12480992078781128, 0.1390271931886673, 0.23854809999465942, 0.25845229625701904, 0.2840433716773987, 0.34091246128082275, 0.41484227776527405, 0.49161556363105774, 0.5257369875907898, 0.5342673659324646, 0.6224144697189331, 0.5627018809318542, 0.6735966205596924, 0.6480055451393127, 0.7105615139007568, 0.6281013488769531, 0.8043955564498901, 0.7560567855834961, 0.9039164185523987, 0.881168782711029, 0.9124467968940735, 0.9579420685768127, 0.9323509931564331, 0.9323509931564331, 0.9010729789733887, 0.8072389960289001, 0.821456253528595, 0.7788044214248657, 0.7333091497421265, 0.6337882876396179, 0.5172066688537598, 0.4375899136066437, 0.3778773844242096, 0.3039475679397583, 0.24139155447483063, 0.10490573942661285, 0.10206228494644165, -0.060014620423316956, -0.12825752794742584, -0.27327367663383484, -0.34720349311828613, -0.3386731445789337, -0.4040725827217102, -0.4609416723251343, -0.5092803835868835, -0.5234977006912231, -0.597427487373352, -0.540558397769928, -0.591740608215332, -0.594584047794342, -0.6599835157394409, -0.6400793194770813, -0.5604625940322876, -0.6059578657150269, -0.5576191544532776, -0.4723154902458191, -0.5633060336112976, -0.5035935044288635, -0.4637851417064667, -0.415446400642395, -0.4808458685874939, -0.4012291431427002, -0.36426421999931335, -0.28180405497550964, -0.21640460193157196, -0.14247480034828186, -0.13110098242759705, -0.12541407346725464, -0.07138843834400177, -0.05432771146297455, 0.025289015844464302, 0.08215810358524323, 0.1447141021490097, 0.17883555591106415, 0.09353192150592804, 0.2243308275938034, 0.25276538729667664, 0.3039475679397583, 0.33238211274147034, 0.5172066688537598, 0.4802417457103729, 0.5968233346939087, 0.6480055451393127, 0.7048746347427368, 0.6451621055603027, 0.6593793630599976, 0.7617437243461609, 0.7333091497421265, 0.7930217385292053, 0.7162484526634216, 0.7930217385292053, 0.6593793630599976, 0.7788044214248657, 0.6792835593223572, 0.7844913601875305, 0.6735966205596924, 0.6650662422180176, 0.696344256401062, 0.6366317272186279, 0.6394751667976379, 0.6081971526145935, 0.6565359234809875, 0.6081971526145935, 0.5854495167732239, 0.5484846234321594, 0.4631810188293457, 0.5172066688537598, 0.4631810188293457, 0.48592865467071533, 0.386407732963562, 0.3920946419239044, 0.33522555232048035, 0.3693470060825348, 0.34944283962249756, 0.34944283962249756, 0.2243308275938034, 0.2158004641532898, 0.218643918633461, 0.11912301182746887, 0.0622539222240448, 0.025289015844464302, -0.06570152938365936, -0.03726698085665703, -0.19934387505054474, -0.21640460193157196, -0.22493496537208557, -0.20218732953071594, -0.21924805641174316, -0.23062187433242798, -0.21924805641174316, -0.2391522377729416, -0.1737527996301651, -0.28464749455451965, -0.3386731445789337, -0.387011855840683, -0.5064369440078735, -0.543401837348938, -0.5320280194282532, -0.5121238827705383, -0.5121238827705383, -0.5320280194282532, -0.5007500648498535, -0.4865327775478363, -0.5803667902946472, -0.5263411402702332, -0.5121238827705383, -0.4865327775478363, -0.4865327775478363, -0.4097594916820526, -0.4922196865081787, -0.44103750586509705, -0.3955422341823578, -0.43535059690475464, -0.36995112895965576, -0.3216124176979065, -0.29886478185653687, -0.3386731445789337, -0.26189985871315, -0.3073951303958893, -0.244839146733284, -0.1709093451499939, -0.28180405497550964, -0.2505260407924652, -0.23062187433242798, -0.21640460193157196, -0.26758676767349243, -0.29602131247520447, -0.28180405497550964, -0.244839146733284, -0.29317787289619446, -0.3983856737613678, -0.35004696249961853, -0.43250712752342224, -0.4012291431427002, -0.2647433280944824, -0.23346532881259918, -0.20503078401088715, -0.2533695101737976, -0.2419956922531128, -0.23346532881259918, -0.1680658906698227, -0.21640460193157196, -0.19934387505054474, -0.25905641913414, -0.29886478185653687, -0.29317787289619446, -0.3017082214355469, -0.387011855840683, -0.37279459834098816, -0.3102385997772217, -0.4751589596271515, -0.36426421999931335, -0.4751589596271515, -0.4012291431427002, -0.4637851417064667, -0.4836893081665039, -0.5121238827705383, -0.5178107619285583, -0.6542965769767761, -0.6486096978187561, -0.8163734674453735, -0.8163734674453735, -1.023945689201355, -1.103562355041504, -1.1149362325668335, -1.1917095184326172, -1.2258309125900269, -1.3225083351135254, -1.328195333480835, -1.4277161359786987, -1.4362465143203735, -1.6040104627609253, -1.5329240560531616, -1.7035313844680786, -1.6495057344436646, -1.754713535308838, -1.7490266561508179, -1.7319658994674683, -1.7149051427841187, -1.6296014785766602, -1.5670455694198608, -1.510176420211792, -1.498802661895752, -1.3822208642959595, -1.413498878479004, -1.328195333480835, -1.2940738201141357, -1.2343612909317017, -1.2400481700897217, -1.2144571542739868, -1.095031976699829, -1.0011980533599854, -0.9158943891525269, -0.844808042049408, -0.7140091061592102, -0.6059578657150269, -0.5718364119529724, -0.4922196865081787, -0.3926987648010254, -0.4012291431427002, -0.37563803791999817, -0.2476826012134552, -0.19650042057037354, -0.13110098242759705, -0.15384861826896667, -0.10835334658622742, -0.11119680106639862, -0.07138843834400177, 0.028132470324635506, 0.03950629010796547, 0.04803664982318878, 0.050880104303359985, 0.12196646630764008, 0.04519319906830788, 0.04234974458813667, 0.09353192150592804, 0.08215810358524323, 0.03097592480480671, 0.002541380235925317, -0.04579734802246094, -0.06285807490348816, 0.005384834948927164, -0.18512660264968872, -0.13394443690776825, -0.19934387505054474, -0.2562129497528076, -0.2647433280944824, -0.29602131247520447, -0.3244558572769165, -0.412602961063385, -0.3272993266582489, -0.43819403648376465, -0.36995112895965576, -0.4040725827217102, -0.3301427662372589, -0.37848150730133057, -0.3329862356185913, -0.43250712752342224, -0.29602131247520447, -0.2562129497528076, -0.2476826012134552, -0.2391522377729416, -0.3017082214355469, -0.19365696609020233, -0.18797005712985992, -0.10550989210605621, -0.03726698085665703, 0.0622539222240448, -0.0912926197052002, 0.07362774014472961, 0.050880104303359985, 0.16177482903003693, 0.16461828351020813, 0.2101135551929474, 0.19305282831192017, 0.18736591935157776, 0.34659937024116516, 0.26413920521736145, 0.3096344769001007, 0.3750339150428772, 0.41484227776527405, 0.4375899136066437, 0.3977815508842468, 0.42052918672561646, 0.4432768225669861, 0.4461202919483185, 0.3721904754638672, 0.34375593066215515, 0.34659937024116516, 0.41768574714660645, 0.3153213858604431, 0.33238211274147034, 0.26129573583602905, 0.3124779164791107, 0.2840433716773987, 0.24139155447483063, 0.18736591935157776, 0.16177482903003693, 0.10490573942661285, 0.05372355878353119, 0.1361837387084961, 0.08784501254558563, -0.000302074127830565, -0.025893162935972214, -0.0969795286655426, -0.13678789138793945, -0.1680658906698227, -0.11404025554656982, -0.2647433280944824, -0.23346532881259918, -0.3301427662372589, -0.36426421999931335, -0.4012291431427002, -0.4012291431427002, -0.4239767789840698, -0.4893762171268463, -0.4922196865081787, -0.4979065954685211, -0.5604625940322876, -0.5519322156906128, -0.4893762171268463, -0.5206542015075684, -0.5234977006912231, -0.540558397769928, -0.6400793194770813, -0.6827311515808105, -0.6429227590560913, -0.7026352882385254, -0.7054787874221802, -0.7054787874221802, -0.668513834476471, -0.5860536694526672, -0.591740608215332, -0.5035935044288635, -0.43250712752342224, -0.4012291431427002, -0.28180405497550964, -0.26758676767349243, -0.19081351161003113, -0.10550989210605621, -0.11972716450691223, -0.060014620423316956, 0.050880104303359985, 0.04234974458813667, 0.09353192150592804, 0.07078428566455841, 0.17883555591106415, 0.23286119103431702, 0.27266955375671387, 0.3181648254394531, 0.43190300464630127, 0.4773982763290405, 0.4546506404876709, 0.5314239263534546, 0.49445900321006775, 0.4404333829879761, 0.4631810188293457, 0.5029893517494202, 0.505832850933075, 0.5257369875907898, 0.5172066688537598, 0.41484227776527405, 0.386407732963562, 0.3721904754638672, 0.3807208240032196, 0.34944283962249756, 0.218643918633461, 0.2982606589794159, 0.25560882687568665, 0.2271742820739746, 0.2101135551929474, 0.1447141021490097, 0.09637537598609924, 0.10206228494644165, 0.050880104303359985, 0.00822828896343708, -0.0031455284915864468, -0.008832437917590141, -0.07138843834400177, -0.12541407346725464, -0.22493496537208557, -0.25905641913414, -0.18797005712985992, -0.28180405497550964, -0.35004696249961853, -0.3898553252220154, -0.45241132378578186, -0.43250712752342224, -0.3983856737613678, -0.4609416723251343, -0.35004696249961853, -0.3386731445789337, -0.3329862356185913, -0.2505260407924652, -0.15100516378879547, -0.14816170930862427, -0.13678789138793945, -0.10266643762588501, -0.02304970845580101, -0.08276225626468658, 0.019602106884121895, 0.011071743443608284, 0.07931464910507202, -0.04011043533682823, 0.059410467743873596, 0.09637537598609924, 0.10206228494644165, 0.10774919390678406, 0.1361837387084961, 0.18167901039123535, 0.23286119103431702, 0.17883555591106415, 0.1333402842283249, 0.10774919390678406, 0.025289015844464302, 0.05372355878353119, 0.04803664982318878, 0.025289015844464302, 0.05372355878353119, 0.07931464910507202, 0.08215810358524323, 0.09637537598609924, 0.1390271931886673, 0.12765337526798248, 0.1361837387084961, 0.17314864695072174, 0.25560882687568665, 0.3039475679397583, 0.24707846343517303, 0.27266955375671387, 0.3124779164791107, 0.35228627920150757, 0.3124779164791107, 0.383564293384552, 0.32669520378112793, 0.34091246128082275, 0.25845229625701904, 0.2783564627170563, 0.23854809999465942, 0.24139155447483063, 0.17030519247055054, 0.11343610286712646, 0.10206228494644165, 0.059410467743873596, 0.002541380235925317, 0.03381938114762306, -0.02304970845580101, -0.07707534730434418, -0.034423526376485825, -0.05717116594314575, -0.13963134586811066, -0.13110098242759705, -0.11404025554656982, -0.20218732953071594, -0.13963134586811066, -0.18512660264968872, -0.23346532881259918, -0.2419956922531128, -0.2391522377729416, -0.26758676767349243, -0.22209151089191437, -0.12825752794742584, -0.27896058559417725, -0.21640460193157196, -0.23346532881259918, -0.16237898170948029, -0.11972716450691223, -0.14816170930862427, -0.12825752794742584, -0.06854498386383057, -0.08560571074485779, -0.08560571074485779, -0.10550989210605621, -0.10550989210605621, -0.23630878329277039, -0.12257061898708344, -0.0998229831457138, -0.10550989210605621, -0.11119680106639862, -0.12825752794742584, -0.1737527996301651, -0.07423189282417297, -0.06285807490348816, -0.04579734802246094, -0.10550989210605621, -0.000302074127830565, -0.051484256982803345, -0.10835334658622742, -0.13678789138793945, -0.15953552722930908, -0.07991880178451538, -0.05432771146297455, 0.03097592480480671, 0.036662835627794266, 0.07647119462490082, 0.12196646630764008, 0.20727010071277618, 0.19305282831192017, 0.2214873731136322, 0.2982606589794159, 0.24423500895500183, 0.33806902170181274, 0.3181648254394531, 0.35228627920150757, 0.33806902170181274, 0.24139155447483063, 0.3124779164791107, 0.3210082948207855, 0.33522555232048035, 0.26982611417770386, 0.2897302806377411, 0.27266955375671387, 0.19589628279209137, 0.08784501254558563, 0.04803664982318878, 0.059410467743873596, 0.10490573942661285, -0.011675892397761345, 0.04519319906830788, -0.04864080250263214, 0.05656701326370239, -0.08844916522502899, -0.000302074127830565, -0.000302074127830565, 0.036662835627794266, 0.005384834948927164, -0.028736617416143417, -0.07707534730434418, -0.028736617416143417, -0.04864080250263214, -0.0998229831457138, -0.23630878329277039, -0.12257061898708344, -0.27896058559417725, -0.23062187433242798, -0.3045516908168793, -0.3045516908168793, -0.29033440351486206, -0.3187689483165741, -0.3301427662372589, -0.23062187433242798, -0.15953552722930908, -0.13678789138793945, -0.15669207274913788, -0.10266643762588501, -0.0969795286655426, -0.028736617416143417, 0.059410467743873596, 0.12765337526798248, 0.11627955734729767, 0.16177482903003693, 0.19020937383174896, 0.23286119103431702, 0.25276538729667664, 0.2243308275938034, 0.25560882687568665, 0.33806902170181274, 0.34944283962249756, 0.2840433716773987, 0.28119993209838867, 0.4006250202655792, 0.4375899136066437, 0.4631810188293457, 0.5314239263534546, 0.5769191980361938, 0.6110406517982483, 0.7190918922424316, 0.9323509931564331, 0.9664724469184875, 1.011967658996582, 1.1399232149124146, 1.2110095024108887, 1.3020000457763672, 1.2593482732772827, 1.432798981666565, 1.523789405822754, 1.515259027481079, 1.444172739982605, 1.4527031183242798, 1.5522239208221436, 1.5863454341888428, 1.6289972066879272, 1.5323197841644287, 1.6034061908721924, 1.5380066633224487, 1.4583899974822998, 1.4527031183242798, 1.5436935424804688, 1.4072078466415405, 1.4128947257995605, 1.3787733316421509, 1.3929905891418457, 1.2536612749099731, 1.2195398807525635, 1.250817894935608, 1.0830540657043457, 1.000593900680542, 0.9465682506561279, 0.821456253528595, 0.7645871639251709, 0.6565359234809875, 0.5968233346939087, 0.4404333829879761, 0.33522555232048035, 0.19020937383174896, 0.1418706476688385, 0.059410467743873596, 0.05656701326370239, -0.04864080250263214, -0.11688371002674103, -0.244839146733284, -0.34720349311828613, -0.3272993266582489, -0.3102385997772217, -0.3443600535392761, -0.36426421999931335, -0.3358296751976013, -0.3983856737613678, -0.3130820393562317, -0.3187689483165741, -0.22209151089191437, -0.12541407346725464, -0.14816170930862427, -0.11404025554656982, -0.10266643762588501, -0.0031455284915864468, 0.09637537598609924, 0.18736591935157776, 0.18452246487140656, 0.26413920521736145, 0.33238211274147034, 0.2840433716773987, 0.34375593066215515, 0.26129573583602905, 0.33522555232048035, 0.41484227776527405, 0.5172066688537598, 0.48308518528938293, 0.4802417457103729, 0.4631810188293457, 0.5029893517494202, 0.42052918672561646, 0.4375899136066437, 0.3693470060825348, 0.34091246128082275, 0.3920946419239044, 0.33806902170181274, 0.26982611417770386, 0.26413920521736145, 0.1447141021490097, 0.23570464551448822, 0.2300177365541458, 0.11912301182746887, 0.12480992078781128, 0.059410467743873596, -0.000302074127830565, -0.07707534730434418, -0.0941360741853714, -0.10550989210605621, -0.14816170930862427, -0.14247480034828186, -0.20218732953071594, -0.22209151089191437, -0.19650042057037354, -0.23630878329277039, -0.19650042057037354, -0.29317787289619446, -0.27327367663383484, -0.26189985871315, -0.2505260407924652, -0.3898553252220154, -0.37279459834098816, -0.36995112895965576, -0.3983856737613678, -0.412602961063385, -0.3102385997772217, -0.36995112895965576, -0.3301427662372589, -0.35573387145996094, -0.3443600535392761, -0.29602131247520447, -0.2505260407924652, -0.18228314816951752, -0.12541407346725464, -0.0912926197052002, -0.011675892397761345, 0.08215810358524323, 0.03950629010796547, 0.08215810358524323, 0.2300177365541458, 0.3181648254394531, 0.3949381113052368, 0.5427977442741394, 0.5001459121704102, 0.6707531809806824, 0.8072389960289001, 0.8584211468696594, 0.8925426006317139, 0.9266640543937683, 0.9863766431808472, 1.0404022932052612, 1.0347152948379517, 1.0631499290466309, 0.997750461101532, 0.9892200827598572, 0.9636290073394775, 0.878325343132019, 0.8385170102119446, 0.7475264668464661, 0.7702741026878357, 0.8271431922912598, 0.6650662422180176, 0.6878138780593872, 0.6508489847183228, 0.6394751667976379, 0.5854495167732239, 0.5996668338775635, 0.6878138780593872, 0.5029893517494202, 0.48877209424972534, 0.5342673659324646, 0.4603375494480133, 0.4688679277896881, 0.40915536880493164, 0.35512974858283997, 0.3949381113052368, 0.2925737500190735, 0.2129570096731186, 0.18167901039123535, 0.1418706476688385, 0.10206228494644165, -0.020206255838274956, -0.1765962541103363, -0.18512660264968872, -0.3045516908168793, -0.415446400642395, -0.4979065954685211, -0.5718364119529724, -0.6542965769767761, -0.8163734674453735, -0.9386420249938965, -1.029632568359375, -0.9585462212562561, -1.1206231117248535, -1.2428916692733765, -1.2286744117736816, -1.3139779567718506, -1.2684826850891113, -1.2201440334320068, -1.265639305114746, -1.1831791400909424, -1.1945528984069824, -1.1803356409072876, -1.2571089267730713, -1.1888660192489624, -1.0580670833587646, -1.0751278400421143, -1.0011980533599854, -0.9528592824935913, -0.904520571231842, -0.7452871203422546, -0.6201751232147217, -0.5206542015075684, -0.4893762171268463, -0.29886478185653687, -0.23346532881259918, -0.0998229831457138, 0.013915197923779488, 0.18167901039123535, 0.3011040985584259, 0.3039475679397583, 0.4802417457103729, 0.5371108055114746, 0.565545380115509, 0.696344256401062, 0.7560567855834961, 0.8385170102119446, 1.011967658996582, 1.0091242790222168, 1.0915844440460205, 1.1712011098861694, 1.310530424118042, 1.2991565465927124, 1.4583899974822998, 1.4299554824829102, 1.3560256958007812, 1.4555466175079346, 1.4583899974822998, 1.4299554824829102, 1.304843544960022, 1.1399232149124146, 1.1541404724121094, 1.1143320798873901, 1.006280779838562, 0.9152902364730835, 0.8328300714492798, 0.7532133460044861, 0.6252579092979431, 0.4802417457103729, 0.3067910075187683, 0.17883555591106415, 0.1333402842283249, -0.13394443690776825, -0.13110098242759705, -0.27611714601516724, -0.37563803791999817, -0.5291845798492432, -0.5888971090316772, -0.7623478770256042, -0.8106865882873535, -0.8846163749694824, -0.9215812683105469, -1.023945689201355, -1.0040414333343506, -1.0495367050170898, -1.151901125907898, -1.1945528984069824, -1.2514220476150513, -1.2485785484313965, -1.3480994701385498, -1.3680036067962646, -1.4504637718200684, -1.3509429693222046, -1.3480994701385498, -1.4646811485290527, -1.404968500137329, -1.3736906051635742, -1.2571089267730713, -1.279856562614441, -1.279856562614441, -1.1917095184326172, -1.1661183834075928, -1.2201440334320068, -1.1718052625656128, -1.1774921417236328, -1.0097284317016602, -1.0267890691757202, -0.9414854645729065, -0.8789294958114624, -0.7907823920249939, -0.7367567420005798, -0.6486096978187561, -0.5860536694526672, -0.4609416723251343, -0.5206542015075684, -0.4865327775478363, -0.3813249468803406, -0.384168416261673, -0.4637851417064667, -0.29033440351486206, -0.2505260407924652, -0.23346532881259918, -0.15669207274913788, -0.11688371002674103, -0.07138843834400177, 0.028132470324635506, -0.005988983437418938, 0.00822828896343708, 0.04234974458813667, -0.03158007189631462, 0.09921883046627045, 0.03950629010796547, 0.10206228494644165, 0.059410467743873596, 0.01675865240395069, 0.065097376704216, 0.07931464910507202, 0.05372355878353119, 0.11343610286712646, 0.0622539222240448, -0.008832437917590141, -0.11404025554656982, -0.04011043533682823, -0.14531825482845306, -0.22209151089191437, -0.23630878329277039, -0.22777841985225677, -0.28180405497550964, -0.35289040207862854, -0.4751589596271515, -0.3955422341823578, -0.4182898700237274, -0.5633060336112976, -0.5689929723739624, -0.6002709269523621, -0.6656703948974609, -0.6542965769767761, -0.8106865882873535, -0.8732425570487976, -0.8789294958114624, -0.9272682070732117, -0.9357985854148865, -0.9613896608352661, -0.9841372966766357, -1.1376838684082031, -1.1007189750671387, -1.1149362325668335, -1.2002397775650024, -1.2286744117736816, -1.2428916692733765, -1.1831791400909424, -1.2627958059310913, -1.2002397775650024, -1.2087701559066772, -1.3082910776138306, -1.205926775932312, -1.2315177917480469, -1.1917095184326172, -1.2087701559066772, -1.1405272483825684, -1.2087701559066772, -1.1064058542251587, -1.0609105825424194, -0.9841372966766357, -0.9500158429145813, -0.7993127703666687, -0.6798876523971558, -0.537714958190918, -0.4893762171268463, -0.3955422341823578, -0.21924805641174316, -0.0998229831457138, -0.042953889816999435, 0.036662835627794266, 0.18452246487140656, 0.2129570096731186, 0.32669520378112793, 0.43190300464630127, 0.565545380115509, 0.6508489847183228, 0.7048746347427368, 0.7674306035041809, 0.818612813949585, 0.8356735110282898, 0.8527342677116394, 0.875481903553009, 0.9437248110771179, 0.9124467968940735, 0.9835331439971924, 0.8385170102119446, 0.9380378723144531, 0.818612813949585, 0.8413604497909546, 0.7361526489257812, 0.7987086176872253, 0.6565359234809875, 0.6224144697189331, 0.6025102734565735, 0.4404333829879761, 0.2840433716773987, 0.2129570096731186, 0.19020937383174896, 0.04519319906830788, -0.042953889816999435, -0.12257061898708344, -0.28180405497550964, -0.4211333096027374, -0.597427487373352, -0.6343923807144165, -0.6912614703178406, -0.7424436807632446, -0.8817729353904724, -0.847651481628418, -0.8988336324691772, -0.9158943891525269, -1.0808147192001343, -1.0552237033843994, -1.1120927333831787, -1.0978754758834839, -1.089345097541809, -1.1433707475662231, -1.1376838684082031, -1.1547445058822632, -1.205926775932312, -1.1718052625656128, -1.2002397775650024, -1.0609105825424194, -1.083658218383789, -1.023945689201355, -0.9727634787559509, -1.0068849325180054, -0.8959901928901672, -0.8049996495246887, -0.7396002411842346, -0.6144882440567017, -0.6173316836357117, -0.36995112895965576, -0.28749096393585205, -0.20787423849105835, 0.013915197923779488, 0.011071743443608284, 0.04803664982318878, 0.08784501254558563, 0.12765337526798248, 0.20727010071277618, 0.2300177365541458, 0.34091246128082275, 0.35512974858283997, 0.4631810188293457, 0.41484227776527405, 0.4432768225669861, 0.4603375494480133, 0.48877209424972534, 0.49730247259140015, 0.49730247259140015, 0.514363169670105, 0.4802417457103729, 0.43190300464630127, 0.3721904754638672, 0.2868868410587311, 0.2271742820739746, 0.07931464910507202, 0.09637537598609924, 0.06794083118438721, 0.10490573942661285, 0.06794083118438721, -0.011675892397761345, -0.005988983437418938, -0.10835334658622742, -0.14247480034828186, -0.0912926197052002, -0.10835334658622742, -0.03158007189631462, -0.19650042057037354, -0.29602131247520447, -0.3045516908168793, -0.3926987648010254, -0.3045516908168793, -0.35004696249961853, -0.35857731103897095, -0.4040725827217102, -0.4239767789840698, -0.4239767789840698, -0.4836893081665039, -0.44672441482543945, -0.3983856737613678, -0.44956785440444946, -0.4808458685874939, -0.5035935044288635, -0.5206542015075684, -0.5178107619285583, -0.4979065954685211, -0.4637851417064667, -0.42682021856307983, -0.36710768938064575, -0.3301427662372589, -0.29602131247520447, -0.21640460193157196, -0.21071769297122955, -0.18797005712985992, -0.0941360741853714, -0.05717116594314575, -0.000302074127830565, 0.002541380235925317, 0.04519319906830788, 0.07362774014472961, 0.1390271931886673, 0.20727010071277618, 0.2868868410587311, 0.35797318816185, 0.4489637315273285, 0.5001459121704102, 0.642318606376648, 0.6138840913772583, 0.6707531809806824, 0.8072389960289001, 0.8982295393943787, 0.9494116902351379, 1.0091242790222168, 1.0432456731796265, 0.9892200827598572, 1.0375587940216064, 1.0944279432296753, 1.0915844440460205, 1.1001148223876953, 0.9949069619178772, 0.8953860998153687, 0.8527342677116394, 0.7077180743217468, 0.6451621055603027, 0.4802417457103729, 0.49161556363105774, 0.383564293384552, 0.24139155447483063, 0.1475575566291809, -0.017362801358103752, 0.03950629010796547, -0.0998229831457138, -0.07138843834400177, -0.22777841985225677, -0.2505260407924652, -0.22493496537208557, -0.28464749455451965, -0.44103750586509705, -0.45525476336479187, -0.4808458685874939, -0.5661494731903076, -0.5860536694526672, -0.6372358798980713, -0.6002709269523621, -0.6059578657150269, -0.6486096978187561, -0.6656703948974609, -0.722539484500885, -0.7964693307876587, -0.8618687391281128, -0.907364010810852, -0.8249038457870483, -0.8789294958114624, -0.8988336324691772, -0.9357985854148865, -0.9642331004142761, -0.8903033137321472, -0.907364010810852, -0.8959901928901672, -0.9158943891525269, -0.8874598145484924, -0.9130509495735168, -0.8931467533111572, -0.9244247674942017, -0.8220604062080383, -0.7111656665802002, -0.6542965769767761, -0.6628269553184509, -0.5633060336112976, -0.537714958190918, -0.3955422341823578, -0.3926987648010254, -0.28180405497550964, -0.2562129497528076, -0.15669207274913788, -0.15384861826896667, -0.13963134586811066, -0.12257061898708344, -0.13963134586811066, -0.042953889816999435, 0.025289015844464302, 0.002541380235925317, 0.1447141021490097, 0.17314864695072174, 0.20158319175243378, 0.17030519247055054, 0.17883555591106415, 0.26413920521736145, 0.2783564627170563, 0.24139155447483063, 0.23570464551448822, 0.25276538729667664, 0.3124779164791107, 0.2271742820739746, 0.1504010111093521, 0.32669520378112793, 0.23570464551448822, 0.24139155447483063, 0.23854809999465942, 0.16746173799037933, 0.20158319175243378, 0.17883555591106415, 0.09068846702575684, 0.07647119462490082, 0.11627955734729767, 0.08215810358524323, 0.04803664982318878, 0.011071743443608284, 0.013915197923779488, 0.011071743443608284, 0.002541380235925317, -0.011675892397761345, -0.011675892397761345, -0.014519346877932549, -0.042953889816999435, -0.042953889816999435, -0.07423189282417297, 0.059410467743873596, 0.09353192150592804, 0.10490573942661285, 0.05656701326370239, 0.1475575566291809, 0.1390271931886673, 0.2214873731136322, 0.26129573583602905, 0.32669520378112793, 0.3096344769001007, 0.3892512023448944, 0.4006250202655792, 0.4375899136066437, 0.5001459121704102, 0.4404333829879761, 0.5342673659324646, 0.565545380115509, 0.5968233346939087, 0.6252579092979431, 0.5826060771942139, 0.7020311951637268, 0.7361526489257812, 0.7276222705841064, 0.8271431922912598, 0.7674306035041809, 0.7731175422668457, 0.7389960885047913, 0.7816479206085205, 0.821456253528595, 0.815769374370575, 0.8072389960289001, 0.8072389960289001, 0.8527342677116394, 0.7731175422668457, 0.7589002847671509, 0.7020311951637268, 0.7617437243461609, 0.7361526489257812, 0.6622228026390076, 0.7304657101631165, 0.642318606376648, 0.7844913601875305, 0.7503699064254761, 0.7816479206085205, 0.7816479206085205, 0.8413604497909546, 0.9067599177360535, 0.8868557214736938, 0.8470473289489746, 0.9607855081558228, 0.8356735110282898, 0.8584211468696594, 0.8953860998153687, 0.8555777072906494, 0.8840122818946838, 0.9096033573150635, 0.9209771752357483, 0.9152902364730835, 0.9408813714981079, 1.0261850357055664, 1.0233415365219116, 0.9636290073394775, 0.9806897044181824, 0.9295075535774231, 0.9721593260765076, 0.9408813714981079, 0.9892200827598572, 0.8925426006317139, 0.8555777072906494, 0.8470473289489746, 0.7617437243461609, 0.5797626376152039, 0.6025102734565735, 0.4461202919483185, 0.3892512023448944, 0.3039475679397583, 0.17599210143089294, 0.20158319175243378, 0.07078428566455841, -0.05432771146297455, -0.03726698085665703, -0.15953552722930908, -0.06854498386383057, -0.051484256982803345, -0.13963134586811066, -0.08560571074485779, -0.06854498386383057, -0.13394443690776825, -0.04864080250263214, 0.00822828896343708, 0.019602106884121895, -0.042953889816999435, 0.08500155806541443, 0.12480992078781128, 0.07078428566455841, 0.059410467743873596, 0.028132470324635506, 0.1361837387084961, 0.11627955734729767, 0.07078428566455841, 0.1361837387084961, 0.07078428566455841, 0.002541380235925317, 0.0224455613642931, 0.002541380235925317, -0.04864080250263214, -0.028736617416143417, -0.10550989210605621, -0.060014620423316956, -0.1765962541103363, -0.16237898170948029, -0.18797005712985992, -0.22777841985225677, -0.22777841985225677, -0.28180405497550964, -0.22493496537208557, -0.29317787289619446, -0.2533695101737976, -0.2647433280944824, -0.3415165841579437, -0.28464749455451965, -0.35573387145996094, -0.3983856737613678, -0.45525476336479187, -0.5547756552696228, -0.6400793194770813, -0.8021562099456787, -0.7850955128669739, -0.8760859966278076, -0.8362776637077332, -0.7936258316040039, -0.844808042049408, -0.9414854645729065, -0.9869807362556458, -0.8732425570487976, -0.9727634787559509, -1.0808147192001343, -1.041006326675415, -1.0665974617004395, -1.0381629467010498, -1.0609105825424194, -0.9898241758346558, -0.9158943891525269, -0.8135300278663635, -0.8362776637077332, -0.8334342241287231, -0.7538174986839294, -0.7424436807632446, -0.6941049695014954, -0.6002709269523621, -0.5718364119529724, -0.45809823274612427, -0.3955422341823578, -0.3926987648010254, -0.3272993266582489, -0.3187689483165741, -0.29033440351486206, -0.2476826012134552, -0.12541407346725464, -0.10550989210605621, -0.0998229831457138, 0.01675865240395069, 0.08215810358524323, 0.05656701326370239, 0.19020937383174896, 0.19020937383174896, 0.3096344769001007, 0.3153213858604431, 0.28119993209838867, 0.3665035665035248, 0.3807208240032196, 0.41199883818626404, 0.3608166575431824, 0.3949381113052368, 0.4489637315273285, 0.5541715621948242, 0.5342673659324646, 0.6195709705352783, 0.5228935480117798, 0.508676290512085, 0.42905956506729126, 0.5029893517494202, 0.514363169670105, 0.48592865467071533, 0.5797626376152039, 0.5570150017738342, 0.5769191980361938, 0.5342673659324646, 0.5371108055114746, 0.4574941098690033, 0.508676290512085, 0.4745548367500305, 0.4404333829879761, 0.35512974858283997, 0.3665035665035248, 0.3096344769001007, 0.27266955375671387, 0.1333402842283249, 0.025289015844464302, 0.013915197923779488, -0.04011043533682823, -0.16237898170948029, -0.3272993266582489, -0.44956785440444946, -0.537714958190918, -0.6770442128181458, -0.7083222270011902, -0.7651913166046143, -0.7879389524459839, -0.8391211032867432, -0.8760859966278076, -0.850494921207428, -0.8533384203910828, -0.8106865882873535, -0.844808042049408, -0.7850955128669739, -0.7282264232635498, -0.7083222270011902, -0.6457661986351013, -0.725382924079895, -0.5860536694526672, -0.5035935044288635, -0.5206542015075684, -0.44672441482543945, -0.3329862356185913, -0.387011855840683, -0.27043023705482483, -0.1737527996301651, -0.10835334658622742, -0.06854498386383057, 0.03097592480480671, 0.019602106884121895, 0.06794083118438721, 0.065097376704216, 0.1475575566291809, 0.2300177365541458, 0.32669520378112793, 0.23286119103431702, 0.32669520378112793, 0.34659937024116516, 0.3039475679397583, 0.40915536880493164, 0.5172066688537598, 0.6309447884559631, 0.6849704384803772, 0.642318606376648, 0.6593793630599976, 0.7560567855834961, 0.7105615139007568, 0.7987086176872253, 0.818612813949585, 0.9209771752357483, 0.8527342677116394, 0.8953860998153687, 0.875481903553009, 0.9636290073394775, 0.9039164185523987, 0.8697949647903442, 0.9096033573150635, 0.8868557214736938, 0.8982295393943787, 0.8868557214736938, 0.872638463973999, 0.8498908281326294, 0.8299866318702698, 0.7247788310050964, 0.7645871639251709, 0.6679097414016724, 0.7503699064254761, 0.6735966205596924, 0.6224144697189331, 0.5996668338775635, 0.6224144697189331, 0.5513280630111694, 0.4518072009086609, 0.3949381113052368, 0.3977815508842468, 0.3181648254394531, 0.3181648254394531, 0.26413920521736145, 0.2214873731136322, 0.20727010071277618, 0.2214873731136322, 0.19305282831192017, 0.11343610286712646, 0.1504010111093521, 0.1361837387084961, 0.10774919390678406, 0.08500155806541443, 0.013915197923779488, 0.07931464910507202, -0.000302074127830565, 0.019602106884121895, 0.1333402842283249, 0.17314864695072174, 0.2101135551929474, 0.25276538729667664, 0.27266955375671387, 0.34091246128082275, 0.3892512023448944, 0.3181648254394531, 0.4574941098690033, 0.5513280630111694, 0.5598584413528442, 0.5797626376152039, 0.7162484526634216, 0.7446829676628113, 0.7816479206085205, 0.8868557214736938, 0.9750028252601624, 0.9437248110771179, 0.9096033573150635, 1.0204980373382568, 1.060306429862976, 1.0176546573638916, 1.0887409448623657, 1.122862458229065, 1.0915844440460205, 1.1029582023620605, 1.0972713232040405, 1.128549337387085, 1.134236216545105, 1.0830540657043457, 1.1001148223876953, 1.054619550704956, 1.0631499290466309, 1.0716803073883057, 1.1626708507537842, 1.0432456731796265, 1.0858975648880005, 0.9664724469184875, 0.9920635223388672, 0.9295075535774231, 0.8868557214736938, 0.7162484526634216, 0.6138840913772583, 0.49161556363105774, 0.4546506404876709, 0.3096344769001007, 0.15608792006969452, 0.09353192150592804, 0.1333402842283249, 0.05656701326370239, -0.07423189282417297, -0.13963134586811066, -0.21640460193157196, -0.3216124176979065, -0.42966368794441223, -0.45525476336479187, -0.6088013052940369, -0.6713573336601257, -0.668513834476471, -0.7538174986839294, -0.7822520136833191, -0.8618687391281128, -0.904520571231842, -0.8931467533111572, -0.8675556778907776, -0.8931467533111572, -0.8163734674453735, -0.844808042049408, -0.8931467533111572, -0.7964693307876587, -0.668513834476471, -0.7339133024215698, -0.6599835157394409, -0.6400793194770813, -0.5860536694526672, -0.5746798515319824, -0.5633060336112976, -0.44672441482543945, -0.45241132378578186, -0.412602961063385, -0.3073951303958893, -0.20503078401088715, -0.1765962541103363, -0.15384861826896667, -0.0912926197052002, -0.06854498386383057, 0.04519319906830788, 0.03381938114762306, 0.028132470324635506, 0.05372355878353119, 0.15893137454986572, 0.2129570096731186, 0.26129573583602905, 0.3011040985584259, 0.3778773844242096, 0.43474647402763367, 0.505832850933075, 0.6337882876396179, 0.6281013488769531, 0.7589002847671509, 0.7446829676628113, 0.9209771752357483, 0.9920635223388672, 0.9465682506561279, 0.9806897044181824, 1.0773671865463257, 1.1001148223876953, 1.0631499290466309, 1.054619550704956, 1.134236216545105, 1.1029582023620605, 1.074523687362671, 1.080210566520691, 1.0233415365219116, 0.9437248110771179, 0.8669515252113342, 0.8982295393943787, 0.7589002847671509, 0.8697949647903442, 0.8072389960289001, 0.7645871639251709, 0.6878138780593872, 0.6536924242973328, 0.6622228026390076, 0.6650662422180176, 0.5427977442741394, 0.5598584413528442, 0.4404333829879761, 0.3636600971221924, 0.3665035665035248, 0.24423500895500183, 0.16177482903003693, 0.09068846702575684, 0.065097376704216, 0.03097592480480671, 0.04234974458813667, -0.042953889816999435, -0.07138843834400177, -0.12541407346725464, -0.1737527996301651, -0.244839146733284, -0.2505260407924652, -0.27327367663383484, -0.23630878329277039, -0.3159255087375641, -0.34720349311828613, -0.5064369440078735, -0.4865327775478363, -0.4637851417064667, -0.4211333096027374, -0.44672441482543945, -0.45809823274612427, -0.5234977006912231, -0.42682021856307983, -0.44956785440444946, -0.4808458685874939, -0.44956785440444946, -0.3813249468803406, -0.36995112895965576, -0.2391522377729416, -0.27611714601516724, -0.14247480034828186, 0.011071743443608284, 0.01675865240395069, 0.09921883046627045, 0.23286119103431702, 0.35512974858283997, 0.33238211274147034, 0.4546506404876709, 0.565545380115509, 0.5882930159568787, 0.6053537130355835, 0.7219353318214417, 0.7418395280838013, 0.7788044214248657, 0.8100824356079102, 0.9067599177360535, 0.9124467968940735, 0.8840122818946838, 0.9664724469184875, 0.9664724469184875, 0.9949069619178772, 0.8982295393943787, 0.9835331439971924, 0.9096033573150635, 0.8498908281326294, 0.875481903553009, 0.7958651781082153, 0.6707531809806824, 0.6281013488769531, 0.5314239263534546, 0.42905956506729126, 0.3124779164791107, 0.15324446558952332, 0.07362774014472961, 0.04803664982318878, -0.04864080250263214, -0.22777841985225677, -0.3329862356185913, -0.45525476336479187, -0.4012291431427002, -0.5490887761116028, -0.7282264232635498, -0.8675556778907776, -0.9500158429145813, -1.0523802042007446, -1.2713261842727661, -1.265639305114746, -1.3196649551391602, -1.4021251201629639, -1.3765339851379395, -1.4277161359786987, -1.4390900135040283, -1.4106554985046387, -1.4078119993209839, -1.345255970954895, -1.328195333480835, -1.3850643634796143, -1.3054476976394653, -1.2883869409561157, -1.146214246749878, -1.0865015983581543, -1.0154153108596802, -0.9926676750183105, -0.8334342241287231, -0.6855745911598206, -0.5576191544532776, -0.5035935044288635, -0.3813249468803406, -0.25905641913414, -0.1680658906698227, -0.020206255838274956, 0.04519319906830788, 0.17030519247055054, 0.20442664623260498, 0.26698264479637146, 0.33238211274147034, 0.3096344769001007, 0.41199883818626404, 0.5740756988525391, 0.5797626376152039, 0.6622228026390076, 0.7503699064254761, 0.8641080856323242, 0.8697949647903442, 0.8953860998153687, 1.011967658996582, 0.9920635223388672, 1.0034373998641968, 1.0261850357055664, 1.0830540657043457, 1.0432456731796265, 1.048932671546936, 1.0290284156799316, 0.9351944327354431, 0.9465682506561279, 0.9295075535774231, 0.9863766431808472, 0.8129258751869202, 0.8043955564498901, 0.7503699064254761, 0.7134050130844116, 0.6167275309562683, 0.6081971526145935, 0.5769191980361938, 0.5996668338775635, 0.5200501084327698, 0.5257369875907898, 0.41768574714660645, 0.42621609568595886, 0.3693470060825348, 0.3721904754638672, 0.3721904754638672, 0.35797318816185, 0.24707846343517303, 0.25560882687568665, 0.26413920521736145, 0.20158319175243378, 0.11912301182746887, 0.09921883046627045, 0.10490573942661285, 0.08215810358524323, 0.06794083118438721, -0.028736617416143417, -0.0941360741853714, -0.03158007189631462, -0.014519346877932549, -0.08276225626468658, -0.11972716450691223, -0.11972716450691223, -0.12541407346725464, -0.12257061898708344, -0.11404025554656982, -0.05717116594314575, -0.1680658906698227, -0.12257061898708344, -0.04011043533682823, -0.020206255838274956, -0.06854498386383057, -0.017362801358103752, -0.000302074127830565, 0.011071743443608284, 0.12196646630764008, 0.11627955734729767, 0.005384834948927164, 0.059410467743873596, 0.10206228494644165, 0.08500155806541443, 0.16746173799037933, 0.1504010111093521, 0.12196646630764008, 0.17883555591106415, 0.2158004641532898, 0.19873973727226257, 0.1447141021490097, 0.08500155806541443, 0.04519319906830788, -0.04011043533682823, -0.028736617416143417, -0.12541407346725464, -0.2505260407924652, -0.3272993266582489, -0.3216124176979065, -0.4012291431427002, -0.4751589596271515, -0.6343923807144165, -0.6372358798980713, -0.6628269553184509, -0.6031144261360168, -0.6912614703178406, -0.7680347561836243, -0.7850955128669739, -0.7054787874221802, -0.7481305599212646, -0.6628269553184509, -0.7083222270011902, -0.7595043778419495, -0.6770442128181458, -0.7708781957626343, -0.7282264232635498, -0.7595043778419495, -0.597427487373352, -0.7282264232635498, -0.6201751232147217, -0.5689929723739624, -0.6116447448730469, -0.6656703948974609, -0.6742007732391357, -0.5803667902946472, -0.5888971090316772, -0.5490887761116028, -0.540558397769928, -0.5576191544532776, -0.5519322156906128, -0.5320280194282532, -0.5206542015075684, -0.4950631260871887, -0.4836893081665039, -0.27043023705482483, -0.2533695101737976, -0.13394443690776825, -0.13394443690776825, -0.020206255838274956, 0.09068846702575684, 0.12196646630764008, 0.1504010111093521, 0.2214873731136322, 0.24423500895500183, 0.24992191791534424, 0.32385173439979553, 0.40346845984458923, 0.4006250202655792, 0.3949381113052368, 0.3892512023448944, 0.3721904754638672, 0.4006250202655792, 0.48877209424972534, 0.4546506404876709, 0.43190300464630127, 0.383564293384552, 0.383564293384552, 0.2101135551929474, 0.2982606589794159, 0.3721904754638672, 0.26982611417770386, 0.2840433716773987, 0.2982606589794159, 0.24139155447483063, 0.24992191791534424, 0.23854809999465942, 0.20158319175243378, 0.1418706476688385, 0.17883555591106415, 0.05656701326370239, 0.08500155806541443, 0.00822828896343708, 0.01675865240395069, -0.07138843834400177, -0.06285807490348816, -0.07138843834400177, -0.11119680106639862, -0.05432771146297455, -0.07707534730434418, -0.14531825482845306, -0.15100516378879547, -0.23630878329277039, -0.20787423849105835, -0.15953552722930908, -0.14531825482845306, -0.23630878329277039, -0.26189985871315, -0.22209151089191437, -0.2476826012134552, -0.27327367663383484, -0.3329862356185913, -0.29602131247520447, -0.3187689483165741, -0.3216124176979065, -0.36710768938064575, -0.4182898700237274, -0.5149673223495483, -0.534871518611908, -0.4922196865081787, -0.5661494731903076, -0.5490887761116028, -0.5746798515319824, -0.6599835157394409, -0.6912614703178406, -0.7054787874221802, -0.7651913166046143, -0.7708781957626343, -0.7339133024215698, -0.7282264232635498, -0.7879389524459839, -0.7452871203422546, -0.7907823920249939, -0.8618687391281128, -0.8305907845497131, -0.9272682070732117, -0.8618687391281128, -0.841964602470398, -0.8647121787071228, -0.9386420249938965, -0.9386420249938965, -0.9557027220726013, -0.9528592824935913, -0.9329550862312317, -0.847651481628418, -0.8647121787071228, -0.7850955128669739, -0.7651913166046143, -0.725382924079895, -0.7424436807632446, -0.594584047794342, -0.6287055015563965, -0.5803667902946472, -0.5035935044288635, -0.4239767789840698, -0.3955422341823578, -0.4069160521030426, -0.3017082214355469, -0.23062187433242798, -0.1680658906698227, -0.15953552722930908, -0.028736617416143417, -0.020206255838274956, -0.005988983437418938, 0.04234974458813667, 0.005384834948927164, 0.036662835627794266, 0.050880104303359985, 0.17599210143089294, 0.16177482903003693, 0.24423500895500183, 0.2243308275938034, 0.2897302806377411, 0.2840433716773987, 0.33522555232048035, 0.3039475679397583, 0.24992191791534424, 0.17599210143089294, 0.2158004641532898, 0.1333402842283249, 0.1504010111093521, 0.11912301182746887, 0.01675865240395069, 0.09921883046627045, -0.0969795286655426, -0.06570152938365936, -0.12825752794742584, -0.1680658906698227, -0.19650042057037354, -0.28464749455451965, -0.44388094544410706, -0.4666285812854767, -0.5149673223495483, -0.6116447448730469, -0.7026352882385254, -0.7822520136833191, -0.8561818599700928, -0.8703991174697876, -0.8931467533111572, -0.9699200391769409, -0.9158943891525269, -0.9812938570976257, -1.0438498258590698, -0.9471724033355713, -1.041006326675415, -1.0609105825424194, -1.0609105825424194, -1.151901125907898, -1.1945528984069824, -1.0751278400421143, -0.9613896608352661, -1.041006326675415, -0.9301116466522217, -0.8391211032867432, -0.7083222270011902, -0.7111656665802002, -0.5547756552696228, -0.5007500648498535, -0.3045516908168793, -0.16237898170948029, -0.07423189282417297, 0.013915197923779488, 0.218643918633461, 0.2868868410587311, 0.3124779164791107, 0.42621609568595886, 0.4461202919483185, 0.48877209424972534, 0.49161556363105774, 0.642318606376648, 0.568388819694519, 0.5541715621948242, 0.5513280630111694, 0.696344256401062, 0.5740756988525391, 0.5371108055114746, 0.514363169670105, 0.5570150017738342, 0.4688679277896881, 0.42052918672561646, 0.4660244584083557, 0.40915536880493164, 0.3721904754638672, 0.3636600971221924, 0.28119993209838867, 0.26698264479637146, 0.35797318816185, 0.33522555232048035, 0.20727010071277618, 0.19305282831192017, 0.17883555591106415, 0.04234974458813667, 0.07362774014472961, 0.07931464910507202, -0.06570152938365936, -0.08844916522502899, -0.14247480034828186, -0.2391522377729416, -0.3187689483165741, -0.35573387145996094, -0.4182898700237274, -0.5661494731903076, -0.5832102298736572, -0.6429227590560913, -0.7651913166046143, -0.6770442128181458, -0.7367567420005798, -0.7509740591049194, -0.7879389524459839, -0.6969484090805054, -0.7026352882385254, -0.7026352882385254, -0.6230185627937317, -0.6173316836357117, -0.5633060336112976, -0.5291845798492432, -0.42682021856307983, -0.4012291431427002, -0.4723154902458191, -0.3926987648010254, -0.37563803791999817, -0.3415165841579437, -0.36142078042030334, -0.3358296751976013, -0.36142078042030334, -0.28180405497550964, -0.3272993266582489, -0.23346532881259918, -0.2533695101737976, -0.23062187433242798, -0.1652224361896515, -0.20787423849105835, -0.19934387505054474, 0.011071743443608284, 0.0224455613642931, 0.07362774014472961, 0.2129570096731186, 0.26982611417770386, 0.28119993209838867, 0.3750339150428772, 0.42337265610694885, 0.3750339150428772, 0.4688679277896881, 0.48877209424972534, 0.5228935480117798, 0.3636600971221924, 0.42621609568595886, 0.383564293384552, 0.3693470060825348, 0.43190300464630127, 0.3210082948207855, 0.2129570096731186, 0.23854809999465942, 0.1475575566291809, 0.08784501254558563, 0.12196646630764008, 0.00822828896343708, -0.0969795286655426, -0.13678789138793945, -0.26189985871315, -0.20787423849105835, -0.22777841985225677, -0.21924805641174316, -0.3102385997772217, -0.3898553252220154, -0.3813249468803406, -0.44388094544410706, -0.3813249468803406, -0.43535059690475464, -0.3983856737613678, -0.384168416261673, -0.4097594916820526, -0.35004696249961853, -0.3955422341823578, -0.36995112895965576, -0.3102385997772217, -0.3443600535392761, -0.22209151089191437, -0.244839146733284, -0.19365696609020233, -0.19365696609020233, -0.15953552722930908, -0.20787423849105835, -0.13678789138793945, -0.04011043533682823, -0.07423189282417297, 0.011071743443608284, -0.014519346877932549, -0.06285807490348816, 0.059410467743873596, 0.08215810358524323, 0.09353192150592804, 0.08784501254558563, 0.08500155806541443, 0.20727010071277618, 0.20727010071277618, 0.1333402842283249, 0.09068846702575684, 0.1361837387084961, 0.16746173799037933, 0.19589628279209137, 0.16177482903003693, 0.2158004641532898, 0.218643918633461, 0.18167901039123535, 0.23570464551448822, 0.24992191791534424, 0.2214873731136322, 0.17314864695072174, 0.16177482903003693, 0.0622539222240448, 0.05372355878353119, -0.025893162935972214, -0.0969795286655426, -0.060014620423316956, -0.07707534730434418, -0.03726698085665703, -0.18228314816951752, -0.13963134586811066, -0.15100516378879547, -0.19650042057037354, -0.21924805641174316, -0.3187689483165741, -0.29602131247520447, -0.22209151089191437, -0.19650042057037354, -0.22777841985225677, -0.3102385997772217, -0.3329862356185913, -0.1680658906698227, -0.2391522377729416, -0.15669207274913788, -0.14247480034828186, -0.21640460193157196, -0.1652224361896515, -0.14247480034828186, -0.1652224361896515, -0.07991880178451538, -0.12541407346725464, -0.08276225626468658, -0.07423189282417297, -0.014519346877932549, 0.0622539222240448, 0.12480992078781128, 0.19589628279209137, 0.26129573583602905, 0.3011040985584259, 0.40915536880493164, 0.43190300464630127, 0.5797626376152039, 0.6252579092979431, 0.7105615139007568, 0.7077180743217468, 0.7702741026878357, 0.8328300714492798, 0.9295075535774231, 1.006280779838562, 0.9124467968940735, 0.9636290073394775, 0.9920635223388672, 0.9039164185523987, 0.9209771752357483, 0.8982295393943787, 0.8584211468696594, 0.7958651781082153, 0.824299693107605, 0.8470473289489746, 0.8413604497909546, 0.7816479206085205, 0.8498908281326294, 0.875481903553009, 0.8498908281326294, 0.821456253528595, 0.7418395280838013, 0.696344256401062, 0.7020311951637268, 0.6281013488769531, 0.6849704384803772, 0.5996668338775635, 0.5939798951148987, 0.5968233346939087, 0.6224144697189331, 0.4603375494480133, 0.5826060771942139, 0.4006250202655792, 0.43190300464630127, 0.3636600971221924, 0.3807208240032196, 0.27551302313804626, 0.3067910075187683, 0.35228627920150757, 0.27266955375671387, 0.24992191791534424, 0.34091246128082275, 0.24423500895500183, 0.2300177365541458, 0.23570464551448822, 0.24139155447483063, 0.2954171895980835, 0.28119993209838867, 0.32953864336013794, 0.25560882687568665, 0.23570464551448822, 0.28119993209838867, 0.20727010071277618, 0.20442664623260498, 0.20727010071277618, 0.2954171895980835, 0.1361837387084961, 0.16461828351020813, 0.12196646630764008, 0.059410467743873596, 0.00822828896343708, -0.034423526376485825, -0.12825752794742584, -0.22493496537208557, -0.2419956922531128, -0.29317787289619446, -0.34720349311828613, -0.35857731103897095, -0.387011855840683, -0.36995112895965576, -0.3358296751976013, -0.3983856737613678, -0.4069160521030426, -0.45809823274612427, -0.4723154902458191, -0.415446400642395, -0.36710768938064575, -0.4012291431427002, -0.37563803791999817, -0.37563803791999817, -0.29886478185653687, -0.20218732953071594, -0.2476826012134552, -0.12257061898708344, -0.08844916522502899, -0.07707534730434418, -0.05717116594314575, 0.03381938114762306, 0.04519319906830788, 0.1390271931886673, 0.17883555591106415, 0.19589628279209137, 0.2840433716773987, 0.3039475679397583, 0.2982606589794159, 0.386407732963562, 0.3750339150428772, 0.3608166575431824, 0.4404333829879761, 0.42052918672561646, 0.41484227776527405, 0.48308518528938293, 0.5257369875907898, 0.5314239263534546, 0.6195709705352783, 0.6821269989013672, 0.6735966205596924, 0.6878138780593872, 0.5826060771942139, 0.5854495167732239, 0.6138840913772583, 0.5427977442741394, 0.508676290512085, 0.5484846234321594, 0.4688679277896881, 0.5285804271697998, 0.505832850933075, 0.49730247259140015, 0.4518072009086609, 0.508676290512085, 0.571232259273529, 0.5456411838531494, 0.5854495167732239, 0.5172066688537598, 0.5001459121704102, 0.3636600971221924, 0.32385173439979553, 0.3067910075187683, 0.25845229625701904, 0.24992191791534424, 0.25560882687568665, 0.20158319175243378, 0.12196646630764008, 0.1418706476688385, 0.1333402842283249, 0.050880104303359985, 0.09068846702575684, -0.028736617416143417, -0.18797005712985992, -0.19365696609020233, -0.3244558572769165, -0.37563803791999817, -0.4922196865081787, -0.5832102298736572, -0.5689929723739624, -0.6855745911598206, -0.7282264232635498, -0.8135300278663635, -0.8249038457870483, -0.8277472853660583, -0.8192169666290283, -0.8533384203910828, -0.8732425570487976, -0.8305907845497131, -0.7964693307876587, -0.8220604062080383, -0.7509740591049194, -0.719696044921875, -0.7111656665802002, -0.6997918486595154, -0.6343923807144165, -0.5888971090316772, -0.5206542015075684, -0.5007500648498535, -0.4950631260871887, -0.44672441482543945, -0.42682021856307983, -0.42682021856307983, -0.3159255087375641, -0.29317787289619446, -0.27043023705482483, -0.18512660264968872, -0.10266643762588501, -0.0912926197052002, -0.04579734802246094, -0.0969795286655426, -0.04011043533682823, -0.06285807490348816, -0.060014620423316956, 0.04234974458813667, -0.04011043533682823, -0.042953889816999435, -0.060014620423316956, -0.034423526376485825, -0.07423189282417297, -0.07138843834400177, -0.08276225626468658, 0.036662835627794266, -0.005988983437418938, -0.017362801358103752, -0.05432771146297455, 0.05656701326370239, 0.005384834948927164, 0.0622539222240448, 0.12196646630764008, 0.1418706476688385, 0.17883555591106415, 0.16746173799037933, 0.2101135551929474, 0.20442664623260498, 0.19305282831192017, 0.24992191791534424, 0.2300177365541458, 0.33238211274147034, 0.33806902170181274, 0.3636600971221924, 0.40346845984458923, 0.4802417457103729, 0.5371108055114746, 0.6138840913772583, 0.6110406517982483, 0.6679097414016724, 0.6110406517982483, 0.6593793630599976, 0.6536924242973328, 0.5427977442741394, 0.48308518528938293, 0.48592865467071533, 0.42621609568595886, 0.4006250202655792, 0.33522555232048035, 0.3665035665035248, 0.24139155447483063, 0.25560882687568665, 0.26413920521736145, 0.24707846343517303, 0.2243308275938034, 0.17314864695072174, 0.17883555591106415, 0.1304968297481537, 0.17883555591106415, 0.18452246487140656, 0.1418706476688385, 0.218643918633461, 0.20158319175243378, 0.32385173439979553, 0.2897302806377411, 0.34944283962249756, 0.3977815508842468, 0.4432768225669861, 0.5001459121704102, 0.511519730091095, 0.49730247259140015, 0.5826060771942139, 0.4773982763290405, 0.4773982763290405, 0.48308518528938293, 0.4660244584083557, 0.4745548367500305, 0.511519730091095, 0.5314239263534546, 0.568388819694519, 0.6309447884559631, 0.5740756988525391, 0.5228935480117798, 0.5228935480117798, 0.5513280630111694, 0.505832850933075, 0.4717113673686981, 0.40915536880493164, 0.40346845984458923, 0.34091246128082275, 0.2129570096731186, 0.18452246487140656, 0.10206228494644165, 0.05372355878353119, -0.05432771146297455, -0.13963134586811066, -0.15669207274913788, -0.3216124176979065, -0.3017082214355469, -0.35289040207862854, -0.3301427662372589, -0.42966368794441223, -0.4666285812854767, -0.5092803835868835, -0.4069160521030426, -0.42682021856307983, -0.45241132378578186, -0.4069160521030426, -0.4694720506668091, -0.37279459834098816, -0.3244558572769165, -0.3216124176979065, -0.3017082214355469, -0.29033440351486206, -0.20503078401088715, -0.28180405497550964, -0.3073951303958893, -0.29317787289619446, -0.25905641913414, -0.2533695101737976, -0.3216124176979065, -0.3017082214355469, -0.36142078042030334, -0.4182898700237274, -0.45809823274612427, -0.37563803791999817, -0.3813249468803406, -0.36995112895965576, -0.37848150730133057, -0.28749096393585205, -0.28464749455451965, -0.3329862356185913, -0.28749096393585205, -0.23630878329277039, -0.1765962541103363, -0.13963134586811066, -0.12257061898708344, -0.14531825482845306, -0.11972716450691223, -0.07138843834400177, -0.10835334658622742, -0.011675892397761345, -0.03726698085665703, 0.025289015844464302, -0.0941360741853714, -0.06285807490348816, -0.12541407346725464, -0.21356114745140076, -0.1794397085905075, -0.35004696249961853, -0.3329862356185913, -0.412602961063385, -0.5291845798492432, -0.537714958190918, -0.6144882440567017, -0.6912614703178406, -0.7907823920249939, -0.8192169666290283, -0.850494921207428, -0.9727634787559509, -1.0211021900177002, -1.1149362325668335, -1.1064058542251587, -1.2030832767486572, -1.2457350492477417, -1.2571089267730713, -1.4277161359786987, -1.5016460418701172, -1.4390900135040283, -1.4305596351623535, -1.5556716918945312, -1.4277161359786987, -1.4959591627120972, -1.4447768926620483, -1.4476203918457031, -1.399281620979309, -1.3310387134552002, -1.3139779567718506, -1.2713261842727661, -1.2684826850891113, -1.083658218383789, -1.1206231117248535, -1.0865015983581543, -0.9841372966766357, -0.850494921207428, -0.841964602470398, -0.844808042049408, -0.722539484500885, -0.7054787874221802, -0.7026352882385254, -0.5604625940322876, -0.5576191544532776, -0.5035935044288635, -0.3955422341823578, -0.3073951303958893, -0.23630878329277039, -0.11688371002674103, -0.000302074127830565, 0.05656701326370239, 0.0622539222240448, 0.17030519247055054, 0.2954171895980835, 0.28119993209838867, 0.3693470060825348, 0.43190300464630127, 0.5001459121704102, 0.5570150017738342, 0.5541715621948242, 0.6281013488769531, 0.6735966205596924, 0.6508489847183228, 0.7276222705841064, 0.6821269989013672, 0.7503699064254761, 0.7589002847671509, 0.821456253528595, 0.815769374370575, 0.9465682506561279, 0.8840122818946838, 0.7589002847671509, 0.8470473289489746, 0.7816479206085205, 0.7844913601875305, 0.7645871639251709, 0.6195709705352783, 0.6764400601387024, 0.6508489847183228, 0.5939798951148987, 0.4745548367500305, 0.4518072009086609, 0.3892512023448944, 0.35512974858283997, 0.2214873731136322, 0.26982611417770386, 0.10206228494644165, 0.1390271931886673, 0.03950629010796547, -0.05717116594314575, -0.04864080250263214, -0.18512660264968872, -0.16237898170948029, -0.3216124176979065, -0.37279459834098816, -0.4723154902458191, -0.5064369440078735, -0.5519322156906128, -0.6144882440567017, -0.7424436807632446, -0.844808042049408, -0.844808042049408, -0.9642331004142761, -0.9613896608352661, -1.0324760675430298, -1.0523802042007446, -1.0722843408584595, -1.0267890691757202, -1.0495367050170898, -1.0154153108596802, -1.023945689201355, -1.0978754758834839, -1.1064058542251587, -1.0267890691757202, -0.8618687391281128, -0.8959901928901672, -0.841964602470398, -0.8846163749694824, -0.8931467533111572, -0.7907823920249939, -0.7111656665802002, -0.6855745911598206, -0.597427487373352, -0.5746798515319824, -0.4950631260871887, -0.27327367663383484, -0.20218732953071594, -0.10835334658622742, -0.14247480034828186, -0.0031455284915864468, 0.1475575566291809, 0.27266955375671387, 0.2954171895980835, 0.35228627920150757, 0.511519730091095, 0.5228935480117798, 0.642318606376648, 0.7190918922424316, 0.7731175422668457, 0.8697949647903442, 0.878325343132019, 0.8612646460533142, 0.9522551894187927, 1.0176546573638916, 1.0290284156799316, 1.054619550704956, 1.0375587940216064, 1.134236216545105, 1.1399232149124146, 1.2820959091186523, 1.1854184865951538, 1.2536612749099731, 1.188261866569519, 1.2536612749099731, 1.128549337387085, 1.2223833799362183, 1.256504774093628, 1.2877827882766724, 1.2593482732772827, 1.193948745727539, 1.0176546573638916, 1.060306429862976, 1.0460891723632812, 0.9380378723144531, 0.8271431922912598, 0.821456253528595, 0.7162484526634216, 0.5541715621948242, 0.5740756988525391, 0.42337265610694885, 0.42052918672561646, 0.2897302806377411, 0.2158004641532898, 0.19589628279209137, 0.04803664982318878, -0.005988983437418938, -0.19365696609020233, -0.2533695101737976, -0.27043023705482483, -0.3045516908168793, -0.4182898700237274, -0.43535059690475464, -0.5206542015075684, -0.5092803835868835, -0.591740608215332, -0.5149673223495483, -0.534871518611908, -0.5178107619285583, -0.591740608215332, -0.543401837348938, -0.4865327775478363, -0.4694720506668091, -0.3955422341823578, -0.37563803791999817, -0.43250712752342224, -0.29033440351486206, -0.3102385997772217, -0.21356114745140076, -0.28180405497550964, -0.22493496537208557, -0.1680658906698227, -0.10266643762588501, -0.12541407346725464, 0.019602106884121895, -0.017362801358103752, 0.05656701326370239, 0.002541380235925317, 0.059410467743873596, 0.1504010111093521, 0.17314864695072174, 0.17883555591106415, 0.12480992078781128, 0.2214873731136322, 0.2271742820739746, 0.2101135551929474, 0.27551302313804626, 0.3181648254394531, 0.3750339150428772, 0.42621609568595886, 0.42621609568595886, 0.3039475679397583, 0.42337265610694885, 0.35797318816185, 0.568388819694519, 0.48877209424972534, 0.49445900321006775, 0.42621609568595886, 0.48592865467071533, 0.35512974858283997, 0.35512974858283997, 0.3067910075187683, 0.3096344769001007, 0.18167901039123535, 0.18736591935157776, 0.03950629010796547, 0.03950629010796547, -0.13963134586811066, -0.15953552722930908, -0.4097594916820526, -0.415446400642395, -0.5746798515319824, -0.6116447448730469, -0.5633060336112976, -0.7140091061592102, -0.7595043778419495, -0.7680347561836243, -0.9301116466522217, -0.8959901928901672, -0.9642331004142761, -0.9329550862312317, -0.8135300278663635, -0.8334342241287231, -0.7623478770256042, -0.7538174986839294, -0.7339133024215698, -0.7140091061592102, -0.5832102298736572, -0.5633060336112976, -0.4751589596271515, -0.37848150730133057, -0.22777841985225677, -0.13394443690776825, -0.07423189282417297, 0.09353192150592804, 0.23854809999465942, 0.35228627920150757, 0.4489637315273285, 0.42621609568595886, 0.5939798951148987, 0.5627018809318542, 0.7134050130844116, 0.7134050130844116, 0.7617437243461609, 0.872638463973999, 0.9266640543937683, 0.8982295393943787, 1.0176546573638916, 1.0034373998641968, 0.9494116902351379, 0.9579420685768127, 0.9636290073394775, 0.9522551894187927, 0.9323509931564331, 0.8925426006317139, 0.9067599177360535, 0.9181337356567383, 0.7077180743217468, 0.6565359234809875, 0.693500816822052, 0.7333091497421265, 0.7048746347427368, 0.6138840913772583, 0.5740756988525391, 0.5911364555358887, 0.4404333829879761, 0.4518072009086609, 0.40915536880493164, 0.2840433716773987, 0.3636600971221924, 0.1475575566291809, 0.08215810358524323, 0.11627955734729767, 0.005384834948927164, -0.06854498386383057, -0.15384861826896667, -0.20218732953071594, -0.3130820393562317, -0.3017082214355469, -0.44388094544410706, -0.3983856737613678, -0.5604625940322876, -0.4723154902458191, -0.5519322156906128, -0.4950631260871887, -0.5888971090316772, -0.4808458685874939, -0.722539484500885, -0.5803667902946472, -0.6230185627937317, -0.6258620619773865, -0.5547756552696228, -0.5689929723739624, -0.3926987648010254, -0.4040725827217102, -0.35573387145996094, -0.37848150730133057, -0.29317787289619446, -0.4069160521030426, -0.28749096393585205, -0.35573387145996094, -0.21071769297122955, -0.21356114745140076, -0.15384861826896667, -0.07991880178451538, -0.0031455284915864468, 0.11059264838695526, 0.16177482903003693, 0.23286119103431702, 0.3067910075187683, 0.3039475679397583, 0.3039475679397583, 0.42905956506729126, 0.3636600971221924, 0.49161556363105774, 0.5228935480117798, 0.48592865467071533, 0.6081971526145935, 0.6622228026390076, 0.5627018809318542, 0.571232259273529, 0.6366317272186279, 0.6394751667976379, 0.6679097414016724, 0.6536924242973328, 0.5456411838531494, 0.5826060771942139, 0.6110406517982483, 0.49161556363105774, 0.5228935480117798, 0.42337265610694885, 0.5399542450904846, 0.5427977442741394, 0.5996668338775635, 0.5911364555358887, 0.6309447884559631, 0.5882930159568787, 0.6195709705352783, 0.5769191980361938, 0.5968233346939087, 0.568388819694519, 0.5484846234321594, 0.4717113673686981, 0.514363169670105, 0.5029893517494202, 0.42337265610694885, 0.3181648254394531, 0.35512974858283997, 0.17883555591106415, 0.23854809999465942, 0.10774919390678406, 0.1333402842283249, -0.011675892397761345, 0.036662835627794266, -0.11119680106639862, -0.19365696609020233, -0.1709093451499939, -0.3187689483165741, -0.36710768938064575, -0.5149673223495483, -0.5178107619285583, -0.5746798515319824, -0.6599835157394409, -0.6855745911598206, -0.6144882440567017, -0.6798876523971558, -0.6258620619773865, -0.7054787874221802, -0.6628269553184509, -0.6258620619773865, -0.6258620619773865, -0.5860536694526672, -0.6002709269523621, -0.6173316836357117, -0.6088013052940369, -0.5860536694526672, -0.6258620619773865, -0.5206542015075684, -0.5064369440078735, -0.4239767789840698, -0.29602131247520447, -0.28464749455451965, -0.18228314816951752, -0.21071769297122955, -0.11119680106639862, 0.00822828896343708, 0.08215810358524323, 0.11912301182746887, 0.17030519247055054, 0.2954171895980835, 0.23570464551448822, 0.26413920521736145, 0.3636600971221924, 0.4006250202655792, 0.386407732963562, 0.4660244584083557, 0.5314239263534546, 0.4688679277896881, 0.5797626376152039, 0.514363169670105, 0.565545380115509, 0.5939798951148987, 0.6622228026390076, 0.7731175422668457, 0.7560567855834961, 0.8641080856323242, 0.8498908281326294, 0.8527342677116394, 0.7958651781082153, 0.8043955564498901, 0.6366317272186279, 0.7134050130844116, 0.642318606376648, 0.48592865467071533, 0.4802417457103729, 0.42052918672561646, 0.34659937024116516, 0.2840433716773987, 0.1361837387084961, 0.09353192150592804, 0.12480992078781128, -0.011675892397761345, -0.10550989210605621, -0.12257061898708344, -0.14531825482845306, -0.1794397085905075, -0.2505260407924652, -0.21924805641174316, -0.3244558572769165, -0.2505260407924652, -0.36995112895965576, -0.3130820393562317, -0.4069160521030426, -0.43535059690475464, -0.44672441482543945, -0.4097594916820526, -0.4808458685874939, -0.36142078042030334, -0.35857731103897095, -0.4182898700237274, -0.3386731445789337, -0.3017082214355469, -0.384168416261673, -0.3130820393562317, -0.27043023705482483, -0.22493496537208557, -0.20787423849105835, -0.22493496537208557, -0.244839146733284, -0.19365696609020233, -0.27896058559417725, -0.22209151089191437, -0.22777841985225677, -0.23346532881259918, -0.2562129497528076, -0.3301427662372589, -0.36710768938064575, -0.44103750586509705, -0.4211333096027374, -0.37848150730133057, -0.42966368794441223, -0.3983856737613678, -0.43250712752342224, -0.4637851417064667, -0.43535059690475464, -0.4694720506668091, -0.5206542015075684, -0.4950631260871887, -0.4211333096027374, -0.43250712752342224, -0.4609416723251343, -0.4666285812854767, -0.45809823274612427, -0.4040725827217102, -0.4182898700237274, -0.5007500648498535, -0.4780023992061615, -0.4865327775478363, -0.5234977006912231, -0.45809823274612427, -0.4979065954685211, -0.3898553252220154, -0.3955422341823578, -0.26189985871315, -0.3102385997772217, -0.2533695101737976, -0.1765962541103363, -0.0912926197052002, -0.10266643762588501, -0.05717116594314575, -0.06570152938365936, -0.08560571074485779, -0.04864080250263214, -0.04011043533682823, 0.036662835627794266, -0.028736617416143417, 0.036662835627794266, 0.12765337526798248, 0.07647119462490082, 0.04803664982318878, 0.07362774014472961, 0.09068846702575684, 0.0622539222240448, 0.028132470324635506, 0.04519319906830788, 0.05656701326370239, 0.025289015844464302, -0.13963134586811066, -0.1737527996301651, -0.15669207274913788, -0.25905641913414, -0.2391522377729416, -0.3329862356185913, -0.3244558572769165, -0.29317787289619446, -0.3017082214355469, -0.3329862356185913, -0.35573387145996094, -0.3045516908168793, -0.3329862356185913, -0.3216124176979065, -0.35289040207862854, -0.384168416261673, -0.4609416723251343, -0.4808458685874939, -0.4609416723251343, -0.44388094544410706, -0.44672441482543945, -0.4040725827217102, -0.36710768938064575, -0.3216124176979065, -0.3045516908168793, -0.3045516908168793, -0.20218732953071594, -0.26758676767349243, -0.12541407346725464, -0.18512660264968872, -0.0912926197052002, -0.08844916522502899, -0.05432771146297455, -0.04579734802246094, -0.008832437917590141, -0.034423526376485825, 0.08215810358524323, 0.0622539222240448, 0.1361837387084961, 0.19020937383174896, 0.12196646630764008, 0.24992191791534424, 0.25560882687568665, 0.2158004641532898, 0.26698264479637146, 0.2214873731136322, 0.2925737500190735, 0.34091246128082275, 0.33806902170181274, 0.24992191791534424, 0.3608166575431824, 0.25845229625701904, 0.34659937024116516, 0.2982606589794159, 0.32385173439979553, 0.34091246128082275, 0.34375593066215515, 0.35228627920150757, 0.3949381113052368, 0.34944283962249756, 0.32385173439979553, 0.33238211274147034, 0.25845229625701904, 0.25560882687568665, 0.26982611417770386, 0.19020937383174896, 0.1504010111093521, 0.065097376704216, 0.11627955734729767, 0.09637537598609924, 0.11912301182746887, 0.013915197923779488, 0.03097592480480671, 0.01675865240395069, -0.014519346877932549, 0.005384834948927164, -0.03726698085665703, -0.03158007189631462, -0.03158007189631462, -0.025893162935972214, -0.051484256982803345, -0.014519346877932549, -0.014519346877932549, -0.0969795286655426, -0.06854498386383057, -0.051484256982803345, -0.05717116594314575, 0.0224455613642931, 0.0224455613642931, 0.04803664982318878, 0.2101135551929474, 0.2300177365541458, 0.2897302806377411, 0.2954171895980835, 0.3067910075187683, 0.3636600971221924, 0.5172066688537598, 0.5371108055114746, 0.693500816822052, 0.7617437243461609, 0.824299693107605, 0.8612646460533142, 0.9323509931564331, 0.9181337356567383, 0.9664724469184875, 0.9437248110771179, 0.9721593260765076, 0.9323509931564331, 0.9465682506561279, 0.8015520572662354, 0.7077180743217468, 0.6735966205596924, 0.565545380115509, 0.508676290512085, 0.35797318816185, 0.3210082948207855, 0.24707846343517303, 0.24992191791534424, 0.19873973727226257, 0.12765337526798248, 0.07647119462490082, 0.011071743443608284, 0.028132470324635506, -0.000302074127830565, 0.013915197923779488, -0.07138843834400177, 0.019602106884121895, -0.07138843834400177, -0.11688371002674103, -0.13678789138793945, -0.20218732953071594, -0.2562129497528076, -0.1737527996301651, -0.19365696609020233, -0.29033440351486206, -0.23062187433242798, -0.21071769297122955, -0.25905641913414, -0.26189985871315, -0.2476826012134552, -0.2647433280944824, -0.3244558572769165, -0.29317787289619446, -0.35004696249961853, -0.3073951303958893, -0.3329862356185913, -0.21356114745140076, -0.28464749455451965, -0.2476826012134552, -0.2476826012134552, -0.22777841985225677, -0.2419956922531128, -0.14531825482845306, -0.2505260407924652, -0.1709093451499939, -0.2391522377729416, -0.22209151089191437, -0.18512660264968872, -0.23630878329277039, -0.244839146733284, -0.1794397085905075, -0.244839146733284, -0.2476826012134552, -0.28749096393585205, -0.28749096393585205, -0.27611714601516724, -0.3017082214355469, -0.23062187433242798, -0.27327367663383484, -0.3130820393562317, -0.29886478185653687, -0.2419956922531128, -0.3272993266582489, -0.3130820393562317, -0.4069160521030426, -0.412602961063385, -0.5775232911109924, -0.5775232911109924, -0.591740608215332, -0.6400793194770813, -0.7538174986839294, -0.6173316836357117, -0.6400793194770813, -0.6457661986351013, -0.534871518611908, -0.534871518611908, -0.4182898700237274, -0.4182898700237274, -0.36995112895965576, -0.2476826012134552, -0.18797005712985992, -0.22209151089191437, -0.04864080250263214, 0.0622539222240448, 0.050880104303359985, 0.19305282831192017, 0.11059264838695526, 0.1361837387084961, 0.218643918633461, 0.2129570096731186, 0.2214873731136322, 0.3096344769001007, 0.3096344769001007, 0.41199883818626404, 0.33522555232048035, 0.43474647402763367, 0.4461202919483185, 0.48592865467071533, 0.42905956506729126, 0.3977815508842468, 0.42337265610694885, 0.3807208240032196, 0.3750339150428772, 0.3011040985584259, 0.24139155447483063, 0.24423500895500183, 0.18452246487140656, 0.11059264838695526, 0.04519319906830788, -0.0031455284915864468, -0.028736617416143417, -0.15384861826896667, -0.28749096393585205, -0.3926987648010254, -0.45809823274612427, -0.5860536694526672, -0.6429227590560913, -0.6457661986351013, -0.7452871203422546, -0.7850955128669739, -0.7538174986839294, -0.8931467533111572, -0.9528592824935913, -0.9471724033355713, -0.9642331004142761, -0.9955111145973206, -0.9585462212562561, -0.9443289041519165, -0.9301116466522217, -0.9869807362556458, -0.9102074503898621, -0.8647121787071228, -0.7339133024215698, -0.722539484500885, -0.6827311515808105, -0.591740608215332, -0.4808458685874939, -0.387011855840683, -0.4069160521030426, -0.21640460193157196, -0.19365696609020233, -0.1737527996301651, -0.06285807490348816, -0.05432771146297455, -0.08276225626468658, 0.011071743443608284, -0.04011043533682823, 0.025289015844464302, -0.017362801358103752, 0.01675865240395069, 0.04803664982318878, 0.04519319906830788, 0.1361837387084961, 0.1333402842283249, 0.16461828351020813, 0.07362774014472961, 0.17599210143089294, 0.18452246487140656, 0.15608792006969452, 0.1304968297481537, 0.2300177365541458, 0.16177482903003693, 0.12480992078781128, 0.12196646630764008, 0.08784501254558563, 0.03097592480480671, 0.07647119462490082, 0.059410467743873596, 0.08784501254558563, 0.07078428566455841, 0.011071743443608284, 0.11343610286712646, 0.1304968297481537, 0.1418706476688385, 0.24423500895500183, 0.35228627920150757, 0.33238211274147034, 0.3608166575431824, 0.32953864336013794, 0.2868868410587311, 0.5001459121704102, 0.5513280630111694, 0.5029893517494202, 0.511519730091095, 0.3807208240032196, 0.3721904754638672, 0.383564293384552, 0.4660244584083557, 0.3892512023448944, 0.5001459121704102, 0.5769191980361938, 0.696344256401062, 0.6167275309562683, 0.5854495167732239, 0.6167275309562683, 0.6593793630599976, 0.6337882876396179, 0.693500816822052, 0.7389960885047913, 0.6138840913772583, 0.6650662422180176, 0.6593793630599976, 0.6138840913772583, 0.7105615139007568, 0.7105615139007568, 0.7134050130844116, 0.5996668338775635, 0.6281013488769531, 0.5541715621948242, 0.5797626376152039, 0.5001459121704102, 0.3750339150428772, 0.32953864336013794, 0.3124779164791107, 0.19873973727226257, 0.011071743443608284, -0.028736617416143417, -0.03726698085665703, -0.1680658906698227, -0.0998229831457138, -0.1794397085905075, -0.19934387505054474, -0.3813249468803406, -0.28180405497550964, -0.3386731445789337, -0.36995112895965576, -0.415446400642395, -0.29886478185653687, -0.3358296751976013, -0.23062187433242798, -0.3017082214355469, -0.3813249468803406, -0.4780023992061615, -0.4723154902458191, -0.412602961063385, -0.4808458685874939, -0.5320280194282532, -0.6088013052940369, -0.7026352882385254, -0.722539484500885, -0.7282264232635498, -0.7623478770256042, -0.7396002411842346, -0.8049996495246887, -0.844808042049408, -0.8305907845497131, -0.9130509495735168, -0.904520571231842, -0.850494921207428, -0.8817729353904724, -0.7907823920249939, -0.7481305599212646, -0.6884180307388306, -0.7623478770256042, -0.7794085741043091, -0.7936258316040039, -0.6400793194770813, -0.6855745911598206, -0.725382924079895, -0.7481305599212646, -0.7481305599212646, -0.7651913166046143, -0.6542965769767761, -0.6827311515808105, -0.5263411402702332, -0.5604625940322876, -0.5661494731903076, -0.5234977006912231, -0.5092803835868835, -0.4808458685874939, -0.4012291431427002, -0.35857731103897095, -0.28749096393585205, -0.15669207274913788, -0.1680658906698227, -0.005988983437418938, 0.11627955734729767, 0.218643918633461, 0.34091246128082275, 0.3892512023448944, 0.5427977442741394, 0.565545380115509, 0.5769191980361938, 0.6394751667976379, 0.7702741026878357, 0.872638463973999, 0.875481903553009, 0.8840122818946838, 0.9494116902351379, 0.9835331439971924, 1.000593900680542, 1.0404022932052612, 1.0233415365219116, 0.9494116902351379, 0.9863766431808472, 0.8584211468696594, 0.872638463973999, 0.818612813949585, 0.693500816822052, 0.6281013488769531, 0.6480055451393127, 0.6508489847183228, 0.6167275309562683, 0.505832850933075, 0.4432768225669861, 0.4404333829879761, 0.40915536880493164, 0.4375899136066437, 0.4745548367500305, 0.3750339150428772, 0.41768574714660645, 0.42621609568595886, 0.5257369875907898, 0.48308518528938293, 0.5456411838531494, 0.5399542450904846, 0.49161556363105774, 0.5826060771942139, 0.5740756988525391, 0.5371108055114746, 0.5342673659324646, 0.6025102734565735, 0.6195709705352783, 0.5740756988525391, 0.6224144697189331, 0.5968233346939087, 0.6679097414016724, 0.6565359234809875, 0.7333091497421265, 0.5968233346939087, 0.5797626376152039, 0.565545380115509, 0.6252579092979431, 0.6337882876396179, 0.6622228026390076, 0.6025102734565735, 0.6480055451393127, 0.6394751667976379, 0.6480055451393127, 0.6053537130355835, 0.6508489847183228, 0.6792835593223572, 0.6821269989013672, 0.6536924242973328, 0.6821269989013672, 0.6679097414016724, 0.6025102734565735, 0.568388819694519, 0.5172066688537598, 0.3665035665035248, 0.23286119103431702, 0.12480992078781128, 0.08784501254558563, -0.042953889816999435, -0.05717116594314575, -0.19081351161003113, -0.28749096393585205, -0.384168416261673, -0.6287055015563965, -0.6486096978187561, -0.7424436807632446, -0.6770442128181458, -0.8049996495246887, -0.8590252995491028, -0.9301116466522217, -0.9158943891525269, -0.8277472853660583, -0.8931467533111572, -0.8703991174697876, -0.9215812683105469, -0.9585462212562561, -0.847651481628418, -0.8618687391281128, -0.7310698628425598, -0.7680347561836243, -0.9215812683105469, -0.8817729353904724, -0.9272682070732117, -0.8817729353904724, -0.8590252995491028, -0.8590252995491028, -0.8760859966278076, -0.9670765399932861, -0.9983545541763306, -0.9727634787559509, -0.9301116466522217, -0.8220604062080383, -0.8675556778907776, -0.8192169666290283, -0.725382924079895, -0.7111656665802002, -0.5689929723739624, -0.4950631260871887, -0.3898553252220154, -0.27327367663383484, -0.1680658906698227, -0.04864080250263214, -0.000302074127830565, 0.07362774014472961, 0.1447141021490097, 0.24707846343517303, 0.33806902170181274, 0.43474647402763367, 0.48877209424972534, 0.5172066688537598, 0.6167275309562683, 0.7020311951637268, 0.6735966205596924, 0.7134050130844116, 0.7219353318214417, 0.7674306035041809, 0.8072389960289001, 0.815769374370575, 0.8470473289489746, 0.8982295393943787, 0.8527342677116394, 0.8527342677116394, 0.8840122818946838, 0.9096033573150635, 0.9607855081558228, 0.8641080856323242, 0.878325343132019, 0.9863766431808472, 0.9295075535774231, 0.9806897044181824, 0.9607855081558228, 0.8498908281326294, 0.9437248110771179, 0.8442038893699646, 0.7873347997665405, 0.8498908281326294, 0.9039164185523987, 0.9010729789733887, 0.8555777072906494, 0.824299693107605, 0.8697949647903442, 0.8328300714492798, 0.7589002847671509, 0.693500816822052, 0.6536924242973328, 0.508676290512085, 0.4461202919483185, 0.3665035665035248, 0.3210082948207855, 0.24992191791534424, 0.07078428566455841, 0.09921883046627045, -0.04579734802246094, -0.08560571074485779, -0.244839146733284, -0.23346532881259918, -0.27043023705482483, -0.3244558572769165, -0.37848150730133057, -0.35573387145996094, -0.3955422341823578, -0.412602961063385, -0.415446400642395, -0.44388094544410706, -0.4780023992061615, -0.4609416723251343, -0.5320280194282532, -0.540558397769928, -0.4922196865081787, -0.36426421999931335, -0.4097594916820526, -0.4609416723251343, -0.4211333096027374, -0.35857731103897095, -0.3272993266582489, -0.35289040207862854, -0.2533695101737976, -0.3329862356185913, -0.1794397085905075, -0.12541407346725464, -0.13110098242759705, -0.06854498386383057, -0.005988983437418938, 0.00822828896343708, 0.11627955734729767, 0.10490573942661285, 0.2925737500190735, 0.27551302313804626, 0.34659937024116516, 0.3778773844242096, 0.2868868410587311, 0.32669520378112793, 0.2954171895980835, 0.3721904754638672, 0.4688679277896881, 0.4461202919483185, 0.43190300464630127, 0.3693470060825348, 0.4375899136066437, 0.3721904754638672, 0.4546506404876709, 0.3693470060825348, 0.32385173439979553, 0.3067910075187683, 0.24139155447483063, 0.25276538729667664, 0.2101135551929474, 0.19020937383174896, 0.16177482903003693, 0.08784501254558563, 0.16177482903003693, 0.005384834948927164, -0.028736617416143417, -0.0998229831457138, -0.12825752794742584, -0.28464749455451965, -0.27043023705482483, -0.3415165841579437, -0.4040725827217102, -0.5263411402702332, -0.5178107619285583, -0.5320280194282532, -0.6031144261360168, -0.6201751232147217, -0.6201751232147217, -0.7083222270011902, -0.668513834476471, -0.8078431487083435, -0.7310698628425598, -0.7310698628425598, -0.7310698628425598, -0.7850955128669739, -0.6884180307388306, -0.716852605342865, -0.6173316836357117, -0.5832102298736572, -0.6116447448730469, -0.6031144261360168, -0.415446400642395, -0.27043023705482483, -0.21640460193157196, -0.1680658906698227, -0.21356114745140076, -0.1680658906698227, -0.028736617416143417, -0.025893162935972214, 0.10774919390678406, 0.17030519247055054, 0.15324446558952332, 0.24707846343517303, 0.17883555591106415, 0.2158004641532898, 0.33238211274147034, 0.3067910075187683, 0.2954171895980835, 0.41199883818626404, 0.3949381113052368, 0.4432768225669861, 0.4546506404876709, 0.4574941098690033, 0.48308518528938293, 0.568388819694519, 0.6167275309562683, 0.6110406517982483, 0.6110406517982483, 0.5968233346939087, 0.6081971526145935, 0.5427977442741394, 0.4802417457103729, 0.4603375494480133, 0.40346845984458923, 0.32669520378112793, 0.33238211274147034, 0.24423500895500183, 0.27551302313804626, 0.23854809999465942, 0.15324446558952332, 0.1390271931886673, 0.1475575566291809, 0.08500155806541443, -0.008832437917590141, -0.000302074127830565, -0.06285807490348816, -0.014519346877932549, -0.028736617416143417, -0.0941360741853714, -0.15669207274913788, -0.19365696609020233, -0.26758676767349243, -0.3358296751976013, -0.3102385997772217, -0.5320280194282532, -0.6059578657150269, -0.6201751232147217, -0.5576191544532776, -0.6315489411354065, -0.6656703948974609, -0.6884180307388306, -0.7623478770256042, -0.7794085741043091, -0.7680347561836243, -0.7651913166046143, -0.7396002411842346, -0.6770442128181458, -0.6827311515808105, -0.6912614703178406, -0.6486096978187561, -0.6230185627937317, -0.5775232911109924, -0.5178107619285583, -0.45525476336479187, -0.4666285812854767, -0.4211333096027374, -0.27327367663383484, -0.27327367663383484, -0.21924805641174316, -0.11688371002674103, -0.051484256982803345, -0.05717116594314575, -0.07991880178451538, 0.019602106884121895, 0.065097376704216, 0.065097376704216, 0.09921883046627045, 0.1390271931886673, -0.000302074127830565, 0.04234974458813667, 0.01675865240395069, 0.059410467743873596, -0.05717116594314575, -0.011675892397761345, -0.08560571074485779, -0.0998229831457138, -0.0912926197052002, -0.14531825482845306, -0.07423189282417297, -0.12541407346725464, -0.12257061898708344, -0.11119680106639862, -0.04011043533682823, 0.00822828896343708, 0.09353192150592804, 0.1333402842283249, 0.1418706476688385, 0.23854809999465942, 0.26129573583602905, 0.3153213858604431, 0.32385173439979553, 0.3693470060825348, 0.34375593066215515, 0.3807208240032196, 0.3807208240032196, 0.40631192922592163, 0.3778773844242096, 0.4461202919483185, 0.42621609568595886, 0.3949381113052368, 0.34944283962249756, 0.27266955375671387, 0.24707846343517303, 0.17883555591106415, 0.11059264838695526, 0.059410467743873596, -0.04579734802246094, -0.034423526376485825, -0.11404025554656982, -0.20218732953071594, -0.23630878329277039, -0.27327367663383484, -0.3244558572769165, -0.4211333096027374, -0.4012291431427002, -0.5007500648498535, -0.5860536694526672, -0.6144882440567017, -0.6770442128181458, -0.6798876523971558, -0.7339133024215698, -0.6969484090805054, -0.6201751232147217, -0.6258620619773865, -0.5832102298736572, -0.4836893081665039, -0.4694720506668091, -0.4069160521030426, -0.36426421999931335, -0.3102385997772217, -0.3415165841579437, -0.27896058559417725, -0.29602131247520447, -0.27896058559417725, -0.23630878329277039, -0.22493496537208557, -0.21071769297122955, -0.19934387505054474, -0.27611714601516724, -0.35289040207862854, -0.35004696249961853, -0.35004696249961853, -0.36710768938064575, -0.43535059690475464, -0.412602961063385, -0.3983856737613678, -0.4040725827217102, -0.4637851417064667, -0.3983856737613678, -0.43535059690475464, -0.42682021856307983, -0.26189985871315, -0.2419956922531128, -0.28180405497550964, -0.22493496537208557, -0.2476826012134552, -0.26758676767349243, -0.27896058559417725, -0.26758676767349243, -0.21356114745140076, -0.20218732953071594, -0.21071769297122955, -0.1737527996301651, -0.19365696609020233, -0.11119680106639862, -0.07423189282417297, -0.15100516378879547, -0.18228314816951752, -0.005988983437418938, -0.07423189282417297, -0.017362801358103752, -0.0031455284915864468, -0.008832437917590141, 0.09921883046627045, 0.2158004641532898, 0.33522555232048035, 0.34659937024116516, 0.3153213858604431, 0.43190300464630127, 0.5342673659324646, 0.5513280630111694, 0.6025102734565735, 0.642318606376648, 0.7503699064254761, 0.7389960885047913, 0.7304657101631165, 0.699187695980072, 0.5968233346939087, 0.6565359234809875, 0.5854495167732239, 0.5513280630111694, 0.4518072009086609, 0.41199883818626404, 0.33806902170181274, 0.26413920521736145, 0.17314864695072174, 0.0622539222240448, 0.03097592480480671, -0.03726698085665703, -0.07707534730434418, -0.22493496537208557, -0.3216124176979065, -0.2562129497528076, -0.3130820393562317, -0.3926987648010254, -0.3216124176979065, -0.36995112895965576, -0.3272993266582489, -0.4666285812854767, -0.412602961063385, -0.4808458685874939, -0.45525476336479187, -0.5832102298736572, -0.5718364119529724, -0.5860536694526672, -0.716852605342865, -0.7282264232635498, -0.6742007732391357, -0.8277472853660583, -0.8078431487083435, -0.7879389524459839, -0.8249038457870483, -0.8618687391281128, -0.844808042049408, -0.8249038457870483, -0.7737216949462891, -0.7424436807632446, -0.8078431487083435, -0.8049996495246887, -0.6656703948974609, -0.6855745911598206, -0.5519322156906128, -0.5291845798492432, -0.4097594916820526, -0.4040725827217102, -0.42682021856307983, -0.387011855840683, -0.3386731445789337, -0.3329862356185913, -0.20787423849105835, -0.15953552722930908, -0.2533695101737976, -0.21071769297122955, -0.10835334658622742, -0.06285807490348816, 0.00822828896343708, 0.025289015844464302, 0.005384834948927164, 0.11059264838695526, 0.16746173799037933, 0.17030519247055054, 0.17883555591106415, 0.20442664623260498, 0.23286119103431702, 0.2300177365541458, 0.24992191791534424, 0.16177482903003693, 0.15893137454986572, 0.11343610286712646, 0.1418706476688385, 0.09921883046627045, 0.005384834948927164, 0.025289015844464302, 0.04519319906830788, -0.0031455284915864468, 0.07078428566455841, 0.10490573942661285, 0.07078428566455841, 0.08215810358524323, 0.09068846702575684, 0.005384834948927164, 0.04519319906830788, -0.025893162935972214, -0.07138843834400177, -0.1765962541103363, -0.15669207274913788, -0.10835334658622742, -0.11688371002674103, -0.10266643762588501, -0.03158007189631462, -0.06285807490348816, -0.06570152938365936, -0.0031455284915864468, 0.03381938114762306, 0.059410467743873596, 0.1447141021490097, 0.15608792006969452, 0.23286119103431702, 0.32953864336013794, 0.3665035665035248, 0.4717113673686981, 0.5257369875907898, 0.49730247259140015, 0.6110406517982483, 0.7077180743217468, 0.7418395280838013, 0.7361526489257812, 0.7788044214248657, 0.7617437243461609, 0.818612813949585, 0.7873347997665405, 0.7446829676628113, 0.7475264668464661, 0.6849704384803772, 0.7105615139007568, 0.6536924242973328, 0.6593793630599976, 0.6110406517982483, 0.5285804271697998, 0.5257369875907898, 0.3977815508842468, 0.33238211274147034, 0.35512974858283997, 0.3096344769001007, 0.20158319175243378, 0.15324446558952332, 0.09921883046627045, 0.09068846702575684, 0.0622539222240448, 0.04803664982318878, 0.0224455613642931, -0.0031455284915864468, -0.025893162935972214, -0.08844916522502899, -0.14531825482845306, -0.18797005712985992, -0.12257061898708344, -0.20218732953071594, -0.15669207274913788, -0.19934387505054474, -0.25905641913414, -0.29033440351486206, -0.23062187433242798, -0.3358296751976013, -0.28464749455451965, -0.3244558572769165, -0.28749096393585205, -0.3443600535392761, -0.23062187433242798, -0.21924805641174316, -0.18797005712985992, -0.08560571074485779, -0.0998229831457138, -0.13394443690776825, -0.0998229831457138, -0.07707534730434418, -0.11119680106639862, -0.13394443690776825, -0.21924805641174316, -0.21356114745140076, -0.29033440351486206, -0.3386731445789337, -0.2562129497528076, -0.35573387145996094, -0.29602131247520447, -0.29317787289619446, -0.3216124176979065, -0.35004696249961853, -0.3358296751976013, -0.35004696249961853, -0.384168416261673, -0.43819403648376465, -0.4922196865081787, -0.5291845798492432, -0.4751589596271515, -0.5178107619285583, -0.5547756552696228, -0.5718364119529724, -0.594584047794342, -0.6599835157394409, -0.6258620619773865, -0.6372358798980713, -0.7339133024215698, -0.7452871203422546, -0.7310698628425598, -0.6855745911598206, -0.8305907845497131, -0.6827311515808105, -0.7623478770256042, -0.7083222270011902, -0.6201751232147217, -0.6429227590560913, -0.5689929723739624, -0.4893762171268463, -0.4239767789840698, -0.387011855840683, -0.3386731445789337, -0.26189985871315, -0.22777841985225677, -0.2562129497528076, -0.1794397085905075, -0.1709093451499939, -0.07991880178451538, -0.0998229831457138, -0.05432771146297455, 0.005384834948927164, 0.04803664982318878, 0.11627955734729767, 0.17314864695072174, 0.09353192150592804, 0.16461828351020813, 0.2129570096731186, 0.3096344769001007, 0.32953864336013794, 0.33238211274147034, 0.2954171895980835, 0.32953864336013794, 0.3693470060825348, 0.4375899136066437, 0.4717113673686981, 0.5001459121704102, 0.5627018809318542, 0.5427977442741394, 0.5427977442741394, 0.5911364555358887, 0.6167275309562683, 0.690657377243042, 0.6593793630599976, 0.7219353318214417, 0.7190918922424316, 0.7560567855834961, 0.6821269989013672, 0.7702741026878357, 0.7560567855834961, 0.7702741026878357, 0.7503699064254761, 0.7276222705841064, 0.815769374370575, 0.7304657101631165, 0.7304657101631165, 0.7361526489257812, 0.6849704384803772, 0.5570150017738342, 0.5996668338775635, 0.7077180743217468, 0.5172066688537598, 0.5399542450904846, 0.42052918672561646, 0.43474647402763367, 0.3011040985584259, 0.33522555232048035, 0.2129570096731186, 0.11343610286712646, -0.08844916522502899, -0.011675892397761345, -0.10550989210605621, -0.13963134586811066, -0.27896058559417725, -0.3073951303958893, -0.44388094544410706, -0.3386731445789337, -0.4040725827217102, -0.4666285812854767, -0.5263411402702332, -0.5633060336112976, -0.5263411402702332, -0.4922196865081787, -0.415446400642395, -0.4012291431427002, -0.43535059690475464, -0.4012291431427002, -0.4069160521030426, -0.37279459834098816, -0.21924805641174316, -0.21924805641174316, -0.12257061898708344, -0.14816170930862427, 0.04519319906830788, 0.03950629010796547, 0.24139155447483063, 0.3124779164791107, 0.35797318816185, 0.40915536880493164, 0.42052918672561646, 0.48877209424972534, 0.5172066688537598, 0.5484846234321594, 0.568388819694519, 0.5427977442741394, 0.4660244584083557, 0.5627018809318542, 0.6281013488769531, 0.6337882876396179, 0.5996668338775635, 0.5911364555358887, 0.6053537130355835, 0.5598584413528442, 0.48592865467071533, 0.4546506404876709, 0.4461202919483185, 0.3807208240032196, 0.24707846343517303, 0.25276538729667664, 0.2214873731136322, 0.1390271931886673, 0.07362774014472961, 0.013915197923779488, -0.008832437917590141, -0.0969795286655426, -0.0998229831457138, -0.10550989210605621, -0.1652224361896515, -0.23062187433242798, -0.20503078401088715, -0.3159255087375641, -0.2419956922531128, -0.35289040207862854, -0.3045516908168793, -0.36142078042030334, -0.3898553252220154, -0.4637851417064667, -0.3926987648010254, -0.5121238827705383, -0.5234977006912231, -0.543401837348938, -0.5718364119529724, -0.5462453365325928, -0.5035935044288635, -0.4694720506668091, -0.4609416723251343, -0.43819403648376465, -0.35289040207862854, -0.2533695101737976, -0.19650042057037354, -0.1765962541103363, -0.042953889816999435, 0.07362774014472961, 0.1475575566291809, 0.32953864336013794, 0.40631192922592163, 0.40346845984458923, 0.6451621055603027, 0.7247788310050964, 0.8697949647903442, 0.9522551894187927, 0.997750461101532, 1.074523687362671, 1.2223833799362183, 1.242287516593933, 1.256504774093628, 1.2877827882766724, 1.3133739233016968, 1.3929905891418457, 1.3332780599594116, 1.3730864524841309, 1.4925113916397095, 1.4782941341400146, 1.4214251041412354, 1.358869194984436, 1.4100513458251953, 1.2707220315933228, 1.2877827882766724, 1.1797314882278442, 1.1740446090698242, 1.2081661224365234, 1.0858975648880005, 0.9949069619178772, 0.8868557214736938, 0.8612646460533142, 0.7333091497421265, 0.6508489847183228, 0.5399542450904846, 0.5029893517494202, 0.3721904754638672, 0.33522555232048035, 0.1418706476688385, 0.05372355878353119, -0.06285807490348816, -0.08276225626468658, -0.244839146733284, -0.22493496537208557, -0.4097594916820526, -0.34720349311828613, -0.42966368794441223, -0.5291845798492432, -0.5803667902946472, -0.6088013052940369, -0.719696044921875, -0.6372358798980713, -0.7310698628425598, -0.7310698628425598, -0.8277472853660583, -0.8874598145484924, -0.850494921207428, -0.8334342241287231, -0.841964602470398, -0.8362776637077332, -0.7907823920249939, -0.6912614703178406, -0.6713573336601257, -0.7054787874221802, -0.6713573336601257, -0.6656703948974609, -0.5320280194282532, -0.5064369440078735, -0.4723154902458191, -0.3301427662372589, -0.3017082214355469, -0.19934387505054474, -0.04579734802246094, 0.0224455613642931, 0.03097592480480671, 0.15893137454986572, 0.2868868410587311, 0.23854809999465942, 0.40346845984458923, 0.48592865467071533, 0.5740756988525391, 0.6622228026390076, 0.6650662422180176, 0.7731175422668457, 0.875481903553009, 0.7958651781082153, 0.9408813714981079, 0.9892200827598572, 1.0432456731796265, 1.0631499290466309, 1.048932671546936, 1.1029582023620605, 1.0858975648880005, 1.128549337387085, 1.0830540657043457, 1.1001148223876953, 0.9323509931564331, 0.9664724469184875, 0.9949069619178772, 0.8697949647903442, 0.8072389960289001, 0.7219353318214417, 0.6679097414016724, 0.5911364555358887, 0.508676290512085, 0.514363169670105, 0.49445900321006775, 0.4375899136066437, 0.4773982763290405, 0.3721904754638672, 0.3124779164791107, 0.2954171895980835, 0.3210082948207855, 0.2925737500190735, 0.26698264479637146, 0.2243308275938034, 0.24423500895500183, 0.20158319175243378, 0.17599210143089294, 0.18452246487140656, 0.09068846702575684, 0.10490573942661285, 0.013915197923779488, 0.013915197923779488, -0.000302074127830565, -0.04579734802246094, -0.07138843834400177, -0.13394443690776825, -0.21924805641174316, -0.23346532881259918, -0.22777841985225677, -0.4069160521030426, -0.3244558572769165, -0.4012291431427002, -0.42682021856307983, -0.4893762171268463, -0.597427487373352, -0.6571400165557861, -0.5490887761116028, -0.6514531373977661, -0.6258620619773865, -0.6173316836357117, -0.6343923807144165, -0.6770442128181458, -0.6912614703178406, -0.722539484500885, -0.6941049695014954, -0.7367567420005798, -0.7879389524459839, -0.6912614703178406, -0.6855745911598206, -0.6315489411354065, -0.6742007732391357, -0.5860536694526672, -0.5633060336112976, -0.43819403648376465, -0.37563803791999817, -0.29317787289619446, -0.13110098242759705, -0.15669207274913788, 0.04234974458813667, 0.08215810358524323, 0.1333402842283249, 0.19020937383174896, 0.27551302313804626, 0.33806902170181274, 0.4461202919483185, 0.5598584413528442, 0.5456411838531494, 0.642318606376648, 0.696344256401062, 0.7446829676628113, 0.7219353318214417, 0.7276222705841064, 0.7873347997665405, 0.7617437243461609, 0.872638463973999, 0.815769374370575, 0.8043955564498901, 0.8271431922912598, 0.7532133460044861, 0.881168782711029, 0.8328300714492798, 0.8385170102119446, 0.8271431922912598, 0.8612646460533142, 0.9323509931564331, 0.8868557214736938, 1.006280779838562, 0.9835331439971924, 1.0176546573638916, 0.9295075535774231, 0.9806897044181824, 0.8896991610527039, 0.8840122818946838, 0.7816479206085205, 0.7333091497421265, 0.7048746347427368, 0.5200501084327698, 0.43190300464630127, 0.34091246128082275, 0.19873973727226257, 0.10774919390678406, 0.05372355878353119, -0.020206255838274956, -0.12541407346725464, -0.23346532881259918, -0.3272993266582489, -0.3415165841579437, -0.43535059690475464, -0.4808458685874939, -0.5775232911109924, -0.5661494731903076, -0.6287055015563965, -0.6230185627937317, -0.7367567420005798, -0.7509740591049194, -0.8647121787071228, -0.7623478770256042, -0.8249038457870483, -0.7452871203422546, -0.7481305599212646, -0.7993127703666687, -0.7794085741043091, -0.668513834476471, -0.6969484090805054, -0.6343923807144165, -0.6088013052940369, -0.5234977006912231, -0.4637851417064667, -0.35573387145996094, -0.2505260407924652, -0.08844916522502899, -0.042953889816999435, -0.03158007189631462, 0.08215810358524323, 0.2783564627170563, 0.26129573583602905, 0.218643918633461, 0.3067910075187683, 0.3636600971221924, 0.32669520378112793, 0.3124779164791107, 0.27266955375671387, 0.17599210143089294, 0.18167901039123535, 0.09921883046627045, 0.04803664982318878, -0.017362801358103752, -0.04579734802246094, -0.10550989210605621, -0.11972716450691223, -0.20218732953071594, -0.2505260407924652, -0.244839146733284, -0.2419956922531128, -0.2505260407924652, -0.35004696249961853, -0.3045516908168793, -0.4211333096027374, -0.4069160521030426, -0.44103750586509705, -0.45525476336479187, -0.591740608215332, -0.4865327775478363, -0.5035935044288635, -0.534871518611908, -0.43250712752342224, -0.3813249468803406, -0.45525476336479187, -0.4609416723251343, -0.4808458685874939, -0.4808458685874939, -0.45809823274612427, -0.4836893081665039, -0.4979065954685211, -0.4979065954685211, -0.44103750586509705, -0.4182898700237274, -0.37563803791999817, -0.29317787289619446, -0.3045516908168793, -0.29033440351486206, -0.2505260407924652, -0.22493496537208557, -0.21356114745140076, -0.3045516908168793, -0.2533695101737976, -0.22493496537208557, -0.2647433280944824, -0.2419956922531128, -0.20218732953071594, -0.11972716450691223, -0.020206255838274956, 0.011071743443608284, 0.07362774014472961, 0.10206228494644165, 0.09068846702575684, 0.09921883046627045, 0.2271742820739746, 0.15893137454986572, 0.16461828351020813, 0.2214873731136322, 0.25845229625701904, 0.2925737500190735, 0.2982606589794159, 0.35228627920150757, 0.33238211274147034, 0.27266955375671387, 0.3778773844242096, 0.3778773844242096, 0.3807208240032196, 0.41484227776527405, 0.3096344769001007, 0.3210082948207855, 0.3039475679397583, 0.3665035665035248, 0.2868868410587311, 0.3181648254394531, 0.32385173439979553, 0.2925737500190735, 0.25276538729667664, 0.27266955375671387, 0.25845229625701904, 0.26982611417770386, 0.26413920521736145, 0.35512974858283997, 0.25560882687568665, 0.33806902170181274, 0.3124779164791107, 0.33238211274147034, 0.27266955375671387, 0.3067910075187683, 0.3665035665035248, 0.26698264479637146, 0.34659937024116516, 0.32385173439979553, 0.3636600971221924, 0.41768574714660645, 0.3949381113052368, 0.42621609568595886, 0.383564293384552, 0.42337265610694885, 0.3892512023448944, 0.383564293384552, 0.26698264479637146, 0.3665035665035248, 0.32385173439979553, 0.27266955375671387, 0.2897302806377411, 0.3210082948207855, 0.2840433716773987, 0.3153213858604431, 0.3153213858604431, 0.27551302313804626, 0.2101135551929474, 0.26698264479637146, 0.12196646630764008, 0.12765337526798248, 0.11059264838695526, 0.08500155806541443, 0.07362774014472961, -0.03158007189631462, 0.07647119462490082, 0.07647119462490082, 0.050880104303359985, 0.025289015844464302, 0.07362774014472961, 0.09353192150592804, 0.05372355878353119, 0.09637537598609924, 0.036662835627794266, 0.07647119462490082, 0.03097592480480671, 0.065097376704216, 0.03381938114762306, -0.000302074127830565, -0.04579734802246094, -0.0941360741853714, -0.06285807490348816, -0.13963134586811066, -0.23630878329277039, -0.29033440351486206, -0.36142078042030334, -0.4666285812854767, -0.4865327775478363, -0.6770442128181458, -0.7993127703666687, -0.8135300278663635, -0.8931467533111572, -0.9926676750183105, -1.023945689201355, -1.077971339225769, -1.0495367050170898, -1.103562355041504, -1.029632568359375, -0.9898241758346558, -0.9898241758346558, -0.9272682070732117, -0.9329550862312317, -0.8703991174697876, -0.9812938570976257, -0.8789294958114624, -0.8249038457870483, -0.7509740591049194, -0.7509740591049194, -0.6656703948974609, -0.6258620619773865, -0.6144882440567017, -0.4893762171268463, -0.5604625940322876, -0.44956785440444946, -0.3898553252220154, -0.3358296751976013, -0.2533695101737976, -0.2419956922531128, -0.1737527996301651, -0.13394443690776825, -0.0941360741853714, -0.05432771146297455, 0.050880104303359985, 0.09068846702575684, 0.1475575566291809, 0.15893137454986572, 0.20158319175243378, 0.17030519247055054, 0.23854809999465942, 0.27551302313804626, 0.3892512023448944, 0.3920946419239044, 0.4802417457103729, 0.3693470060825348, 0.4006250202655792, 0.4375899136066437, 0.35512974858283997, 0.34659937024116516, 0.3011040985584259, 0.3210082948207855, 0.23570464551448822, 0.19305282831192017, 0.24139155447483063, 0.26413920521736145, 0.25845229625701904, 0.2243308275938034, 0.17314864695072174, 0.16177482903003693, 0.09921883046627045, 0.04519319906830788, -0.11119680106639862, -0.15384861826896667, -0.22209151089191437, -0.3187689483165741, -0.3244558572769165, -0.4040725827217102, -0.415446400642395, -0.4808458685874939, -0.5007500648498535, -0.5519322156906128, -0.534871518611908, -0.6031144261360168, -0.5547756552696228, -0.6656703948974609, -0.6855745911598206, -0.7026352882385254, -0.6798876523971558, -0.6230185627937317, -0.594584047794342, -0.5519322156906128, -0.5234977006912231, -0.5007500648498535, -0.412602961063385, -0.4211333096027374, -0.3301427662372589, -0.3415165841579437, -0.2419956922531128, -0.22777841985225677, -0.27611714601516724, -0.19650042057037354, -0.20218732953071594, -0.19081351161003113, -0.21924805641174316, -0.18228314816951752, -0.21071769297122955, -0.1765962541103363, -0.10550989210605621, -0.11688371002674103, -0.08276225626468658, -0.07423189282417297, 0.04234974458813667, 0.08215810358524323, 0.08784501254558563, 0.16746173799037933, 0.25845229625701904, 0.15608792006969452, 0.17599210143089294, 0.20158319175243378, 0.1333402842283249, 0.15324446558952332, 0.11059264838695526, 0.08500155806541443, 0.09637537598609924, 0.07362774014472961, -0.0031455284915864468, -0.02304970845580101, -0.10550989210605621, -0.07707534730434418, -0.10550989210605621, -0.16237898170948029, -0.18228314816951752, -0.23346532881259918, -0.27043023705482483, -0.2391522377729416, -0.21640460193157196, -0.2419956922531128, -0.244839146733284, -0.15100516378879547, -0.1680658906698227, -0.18228314816951752, -0.18797005712985992, -0.15669207274913788, -0.1680658906698227, -0.23062187433242798, -0.20787423849105835, -0.1794397085905075, -0.26758676767349243, -0.2533695101737976, -0.1709093451499939, -0.20218732953071594, -0.1652224361896515, -0.25905641913414, -0.29317787289619446, -0.20503078401088715, -0.2505260407924652, -0.22209151089191437, -0.23346532881259918, -0.2391522377729416, -0.28464749455451965, -0.29033440351486206, -0.2476826012134552, -0.3244558572769165, -0.2419956922531128, -0.2562129497528076, -0.26758676767349243, -0.244839146733284, -0.27611714601516724, -0.4211333096027374, -0.44672441482543945, -0.4723154902458191, -0.4694720506668091, -0.5547756552696228, -0.537714958190918, -0.5064369440078735, -0.5178107619285583, -0.5178107619285583, -0.5633060336112976, -0.5490887761116028, -0.45809823274612427, -0.4780023992061615, -0.415446400642395, -0.45809823274612427, -0.37848150730133057, -0.3926987648010254, -0.35289040207862854, -0.3159255087375641, -0.3415165841579437, -0.25905641913414, -0.23630878329277039, -0.20218732953071594, -0.21640460193157196, -0.2562129497528076, -0.15669207274913788, -0.12257061898708344, -0.07423189282417297, -0.028736617416143417, -0.042953889816999435, 0.08215810358524323, 0.11343610286712646, 0.08215810358524323, 0.05372355878353119, 0.11912301182746887, 0.12196646630764008, 0.16746173799037933, 0.1333402842283249, 0.17599210143089294, 0.15893137454986572, 0.17314864695072174, 0.1504010111093521, 0.08215810358524323, 0.17314864695072174, 0.17314864695072174, 0.11343610286712646, 0.06794083118438721, 0.1447141021490097, 0.15324446558952332, 0.050880104303359985, -0.04011043533682823, 0.0224455613642931, 0.0224455613642931, 0.03381938114762306, -0.12541407346725464, -0.14816170930862427, -0.07423189282417297, -0.12825752794742584, -0.2391522377729416, -0.3017082214355469, -0.26758676767349243, -0.3045516908168793, -0.2647433280944824, -0.28464749455451965, -0.37563803791999817, -0.36142078042030334, -0.35289040207862854, -0.45525476336479187, -0.412602961063385, -0.5206542015075684, -0.43250712752342224, -0.543401837348938, -0.4836893081665039, -0.4922196865081787, -0.4950631260871887, -0.412602961063385, -0.43535059690475464, -0.387011855840683, -0.2533695101737976, -0.26189985871315, -0.27611714601516724, -0.18228314816951752, -0.0941360741853714, -0.0969795286655426, -0.005988983437418938, 0.07362774014472961, 0.08500155806541443, 0.11059264838695526, 0.17883555591106415, 0.25560882687568665, 0.2897302806377411, 0.3977815508842468, 0.4603375494480133, 0.505832850933075, 0.568388819694519, 0.5968233346939087, 0.7219353318214417, 0.7873347997665405, 0.9152902364730835, 0.9124467968940735, 0.9067599177360535, 0.997750461101532, 1.0574629306793213, 1.0204980373382568, 1.0432456731796265, 1.1029582023620605, 1.117175579071045, 1.1399232149124146, 1.0716803073883057, 1.1114885807037354, 1.0972713232040405, 1.0091242790222168, 0.8953860998153687, 0.7617437243461609, 0.6622228026390076, 0.6337882876396179, 0.5854495167732239, 0.43190300464630127, 0.4745548367500305, 0.35797318816185, 0.2300177365541458, 0.2129570096731186, 0.16746173799037933, 0.09637537598609924, 0.04519319906830788, -0.05432771146297455, -0.14816170930862427, -0.13110098242759705, -0.2391522377729416, -0.29033440351486206, -0.35289040207862854, -0.4239767789840698, -0.4893762171268463, -0.5291845798492432, -0.6486096978187561, -0.6343923807144165, -0.6628269553184509, -0.6571400165557861, -0.5633060336112976, -0.5832102298736572, -0.6230185627937317, -0.5490887761116028, -0.5633060336112976, -0.6457661986351013, -0.6258620619773865, -0.6571400165557861, -0.7424436807632446, -0.6798876523971558, -0.591740608215332, -0.6628269553184509, -0.668513834476471, -0.6656703948974609, -0.5832102298736572, -0.5121238827705383, -0.412602961063385, -0.36995112895965576, -0.35004696249961853, -0.20503078401088715, -0.13963134586811066, -0.1765962541103363, -0.011675892397761345, 0.050880104303359985, 0.10206228494644165, 0.0622539222240448, 0.11912301182746887, 0.11912301182746887, 0.16177482903003693, 0.19305282831192017, 0.25276538729667664, 0.3750339150428772, 0.4006250202655792, 0.4461202919483185, 0.5342673659324646, 0.6281013488769531, 0.5854495167732239, 0.6224144697189331, 0.6053537130355835, 0.6508489847183228, 0.5172066688537598, 0.49730247259140015, 0.4574941098690033, 0.40915536880493164, 0.5029893517494202, 0.386407732963562, 0.4461202919483185, 0.41199883818626404, 0.42052918672561646, 0.48308518528938293, 0.34944283962249756, 0.3153213858604431, 0.32669520378112793, 0.3181648254394531, 0.2783564627170563, 0.2158004641532898, 0.1475575566291809, 0.12480992078781128, 0.09637537598609924, 0.12765337526798248, 0.0224455613642931, 0.08500155806541443, 0.0224455613642931, 0.08500155806541443, 0.050880104303359985, 0.04803664982318878, -0.011675892397761345, 0.059410467743873596, 0.005384834948927164, 0.036662835627794266, -0.0912926197052002, -0.06570152938365936, -0.05717116594314575, -0.05432771146297455, -0.028736617416143417, -0.05717116594314575, -0.05717116594314575, -0.1680658906698227, -0.12541407346725464, -0.1794397085905075, -0.16237898170948029, -0.07707534730434418, -0.10550989210605621, -0.06854498386383057, -0.05432771146297455, -0.12825752794742584, -0.08560571074485779, -0.10835334658622742, -0.017362801358103752, 0.00822828896343708, 0.04234974458813667, 0.07647119462490082, 0.09068846702575684, 0.11627955734729767, 0.19305282831192017, 0.2243308275938034, 0.23570464551448822, 0.28119993209838867, 0.33238211274147034, 0.33238211274147034, 0.33806902170181274, 0.3977815508842468, 0.42905956506729126, 0.3977815508842468, 0.4432768225669861, 0.3778773844242096, 0.33522555232048035, 0.35228627920150757, 0.3096344769001007, 0.26413920521736145, 0.25845229625701904, 0.26129573583602905, 0.20442664623260498, 0.1390271931886673, 0.10206228494644165, -0.011675892397761345, 0.036662835627794266, 0.036662835627794266, -0.11404025554656982, -0.08844916522502899, -0.1794397085905075, -0.3415165841579437, -0.28464749455451965, -0.4069160521030426, -0.4239767789840698, -0.4040725827217102, -0.415446400642395, -0.5234977006912231, -0.5064369440078735, -0.4780023992061615, -0.5035935044288635, -0.36710768938064575, -0.29886478185653687, -0.34720349311828613, -0.2647433280944824, -0.21640460193157196, -0.26758676767349243, -0.19934387505054474, -0.18512660264968872, -0.0941360741853714, -0.05432771146297455, -0.020206255838274956, -0.05717116594314575, 0.09068846702575684, 0.07078428566455841, -0.034423526376485825, 0.11627955734729767, 0.028132470324635506, 0.15324446558952332, 0.15608792006969452, 0.1504010111093521, 0.06794083118438721, 0.08500155806541443, 0.013915197923779488, 0.04234974458813667, 0.11059264838695526, 0.17314864695072174, 0.08784501254558563, 0.19020937383174896, 0.218643918633461, 0.17314864695072174, 0.218643918633461, 0.2840433716773987, 0.3750339150428772, 0.33238211274147034, 0.40631192922592163, 0.34944283962249756, 0.35512974858283997, 0.35512974858283997, 0.3778773844242096, 0.3920946419239044, 0.33522555232048035, 0.26129573583602905, 0.3011040985584259, 0.3124779164791107, 0.2783564627170563, 0.2783564627170563, 0.2214873731136322, 0.17030519247055054, 0.20727010071277618, 0.12196646630764008, 0.15324446558952332, 0.17883555591106415, 0.24139155447483063, 0.15324446558952332, 0.1361837387084961, 0.11343610286712646, 0.11627955734729767, 0.1333402842283249, 0.2271742820739746, 0.2101135551929474, 0.26698264479637146, 0.2840433716773987, 0.33522555232048035, 0.2783564627170563, 0.3750339150428772, 0.4461202919483185, 0.41199883818626404, 0.48877209424972534, 0.5399542450904846, 0.5285804271697998, 0.6224144697189331, 0.6849704384803772, 0.6252579092979431, 0.7134050130844116, 0.8612646460533142, 0.7389960885047913, 0.815769374370575, 0.815769374370575, 0.7134050130844116, 0.7958651781082153, 0.6764400601387024, 0.7190918922424316, 0.6679097414016724, 0.6735966205596924, 0.565545380115509, 0.4603375494480133, 0.3750339150428772, 0.3636600971221924, 0.24992191791534424, 0.19020937383174896, 0.09637537598609924, 0.1504010111093521, 0.065097376704216, -0.051484256982803345, -0.08560571074485779, -0.10266643762588501, -0.18512660264968872, -0.27043023705482483, -0.3187689483165741, -0.4182898700237274, -0.4950631260871887, -0.5576191544532776, -0.5746798515319824, -0.6571400165557861, -0.7140091061592102, -0.6088013052940369, -0.6969484090805054, -0.6628269553184509, -0.6258620619773865, -0.6287055015563965, -0.5320280194282532, -0.540558397769928, -0.44672441482543945, -0.3926987648010254, -0.387011855840683, -0.29602131247520447, -0.3159255087375641, -0.14531825482845306, -0.13963134586811066, -0.14531825482845306, -0.017362801358103752, -0.000302074127830565, 0.05656701326370239, 0.12765337526798248, 0.23570464551448822, 0.1475575566291809, 0.19020937383174896, 0.19873973727226257, 0.24423500895500183, 0.3153213858604431, 0.34091246128082275, 0.3807208240032196, 0.42621609568595886, 0.40346845984458923, 0.48592865467071533, 0.514363169670105, 0.5826060771942139, 0.5513280630111694, 0.5996668338775635, 0.5456411838531494, 0.5200501084327698, 0.49730247259140015, 0.4375899136066437, 0.4461202919483185, 0.42052918672561646, 0.41199883818626404, 0.35512974858283997, 0.2982606589794159, 0.26129573583602905, 0.16461828351020813, 0.065097376704216, -0.04011043533682823, -0.07423189282417297, -0.08560571074485779, -0.13678789138793945, -0.15100516378879547, -0.16237898170948029, -0.2505260407924652, -0.4239767789840698, -0.5462453365325928, -0.5661494731903076, -0.6372358798980713, -0.6201751232147217, -0.722539484500885, -0.7026352882385254, -0.6656703948974609, -0.6542965769767761, -0.6656703948974609, -0.6742007732391357, -0.5462453365325928, -0.6287055015563965, -0.4780023992061615, -0.4922196865081787, -0.5007500648498535, -0.4723154902458191, -0.45241132378578186, -0.42682021856307983, -0.4865327775478363, -0.44388094544410706, -0.3159255087375641, -0.3813249468803406, -0.27611714601516724, -0.244839146733284, -0.13110098242759705, -0.11688371002674103, -0.12257061898708344, -0.0941360741853714, -0.04011043533682823, 0.025289015844464302, 0.07647119462490082, 0.19020937383174896, 0.18167901039123535, 0.2214873731136322, 0.3011040985584259, 0.2214873731136322, 0.32385173439979553, 0.40631192922592163, 0.4688679277896881, 0.41199883818626404, 0.42052918672561646, 0.35512974858283997, 0.4006250202655792, 0.35797318816185, 0.41768574714660645, 0.3124779164791107, 0.27266955375671387, 0.2158004641532898, 0.26129573583602905, 0.3096344769001007, 0.4006250202655792, 0.3807208240032196, 0.3011040985584259, 0.3067910075187683, 0.2214873731136322, 0.26698264479637146, 0.16746173799037933, 0.07931464910507202, 0.11912301182746887, 0.12196646630764008, 0.059410467743873596, 0.09921883046627045, 0.05372355878353119, -0.014519346877932549, 0.011071743443608284, -0.028736617416143417, -0.060014620423316956, -0.19081351161003113, -0.21071769297122955, -0.18797005712985992, -0.3130820393562317, -0.35573387145996094, -0.3443600535392761, -0.4239767789840698, -0.5519322156906128, -0.5604625940322876, -0.5689929723739624, -0.5178107619285583, -0.5775232911109924, -0.537714958190918, -0.534871518611908, -0.4637851417064667, -0.4922196865081787, -0.3983856737613678, -0.3983856737613678, -0.3415165841579437, -0.29602131247520447, -0.20787423849105835, -0.15384861826896667, -0.13963134586811066, -0.04579734802246094, -0.025893162935972214, 0.065097376704216, 0.11627955734729767, 0.20442664623260498, 0.27266955375671387, 0.27266955375671387, 0.3636600971221924, 0.3778773844242096, 0.4745548367500305, 0.48308518528938293, 0.5200501084327698, 0.48877209424972534, 0.5968233346939087, 0.5968233346939087, 0.6508489847183228, 0.7190918922424316, 0.821456253528595, 0.8982295393943787, 0.9124467968940735, 0.8299866318702698, 0.7048746347427368, 0.7048746347427368, 0.6081971526145935, 0.6081971526145935, 0.4375899136066437, 0.41768574714660645, 0.2840433716773987, 0.2243308275938034, 0.06794083118438721, -0.11404025554656982, -0.1680658906698227, -0.2647433280944824, -0.37563803791999817, -0.4723154902458191, -0.5035935044288635, -0.6457661986351013, -0.6855745911598206, -0.7879389524459839, -0.9414854645729065, -0.9244247674942017, -0.8703991174697876, -0.841964602470398, -0.8675556778907776, -0.8561818599700928, -0.7964693307876587, -0.8277472853660583, -0.8647121787071228, -0.7708781957626343, -0.8277472853660583, -0.7452871203422546, -0.8163734674453735, -0.844808042049408, -0.850494921207428, -0.907364010810852, -0.8703991174697876, -0.8305907845497131, -0.8959901928901672, -0.907364010810852, -0.7993127703666687, -0.7822520136833191, -0.6912614703178406, -0.6713573336601257, -0.6372358798980713, -0.5718364119529724, -0.5519322156906128, -0.4012291431427002, -0.3813249468803406, -0.35573387145996094, -0.28749096393585205, -0.2505260407924652, -0.19081351161003113, -0.11972716450691223, -0.14247480034828186, -0.14531825482845306, -0.13678789138793945, -0.07138843834400177, -0.04864080250263214, -0.025893162935972214, -0.04579734802246094, -0.051484256982803345, -0.060014620423316956, -0.05717116594314575, -0.07423189282417297, -0.07991880178451538, -0.07991880178451538, -0.07138843834400177, -0.06285807490348816, -0.051484256982803345, -0.034423526376485825, -0.03158007189631462, -0.02304970845580101, -0.017362801358103752, -0.017362801358103752, -0.02304970845580101, -0.028736617416143417, -0.04011043533682823, -0.042953889816999435, -0.051484256982803345, -0.04579734802246094, -0.042953889816999435, -0.03726698085665703, -0.025893162935972214, -0.014519346877932549, -0.005988983437418938, 0.002541380235925317, 0.002541380235925317, 0.013915197923779488, 0.013915197923779488, 0.011071743443608284, 0.011071743443608284, 0.011071743443608284, 0.013915197923779488, 0.013915197923779488, 0.01675865240395069, 0.01675865240395069, 0.01675865240395069, 0.01675865240395069, 0.013915197923779488, 0.005384834948927164, 0.002541380235925317, -0.000302074127830565, -0.005988983437418938, -0.014519346877932549, -0.020206255838274956, -0.02304970845580101, -0.020206255838274956, -0.017362801358103752, -0.017362801358103752, -0.014519346877932549, -0.011675892397761345, -0.011675892397761345, -0.008832437917590141, -0.008832437917590141, -0.008832437917590141, -0.005988983437418938, -0.000302074127830565, 0.00822828896343708, 0.013915197923779488, 0.019602106884121895, 0.025289015844464302, 0.03097592480480671, 0.03097592480480671, 0.03097592480480671, 0.025289015844464302, 0.01675865240395069, 0.011071743443608284, 0.005384834948927164, -0.000302074127830565, -0.0031455284915864468, -0.0031455284915864468, -0.0031455284915864468, 0.002541380235925317, 0.011071743443608284, 0.013915197923779488, 0.019602106884121895, 0.0224455613642931, 0.025289015844464302, 0.025289015844464302, 0.028132470324635506, 0.025289015844464302, 0.0224455613642931, 0.01675865240395069, 0.01675865240395069, 0.01675865240395069, 0.01675865240395069, 0.01675865240395069, 0.01675865240395069, 0.01675865240395069, 0.019602106884121895, 0.0224455613642931, 0.025289015844464302, 0.025289015844464302, 0.03097592480480671, 0.03381938114762306, 0.03381938114762306, 0.03381938114762306, 0.028132470324635506, 0.028132470324635506, 0.0224455613642931, 0.019602106884121895, 0.01675865240395069, 0.013915197923779488, 0.013915197923779488, 0.013915197923779488, 0.01675865240395069, 0.0224455613642931, 0.025289015844464302, 0.036662835627794266, 0.036662835627794266, 0.04234974458813667, 0.03950629010796547, 0.036662835627794266, 0.03381938114762306, 0.028132470324635506, 0.0224455613642931, 0.013915197923779488, 0.00822828896343708, 0.002541380235925317, -0.000302074127830565, -0.000302074127830565, -0.000302074127830565, -0.000302074127830565, -0.000302074127830565, -0.000302074127830565, -0.0031455284915864468, -0.0031455284915864468, -0.0031455284915864468, -0.008832437917590141, -0.014519346877932549, -0.020206255838274956, -0.02304970845580101, -0.025893162935972214, -0.03158007189631462, -0.03158007189631462, -0.034423526376485825, -0.03158007189631462, -0.028736617416143417, -0.028736617416143417, -0.025893162935972214, -0.02304970845580101, -0.02304970845580101, -0.02304970845580101, -0.028736617416143417, -0.028736617416143417, -0.03158007189631462, -0.03726698085665703]\n",
            "Training attention_mask: [1, 1, 1, 1, 1, 1, 1, 1, 1, 1, 1, 1, 1, 1, 1, 1, 1, 1, 1, 1, 1, 1, 1, 1, 1, 1, 1, 1, 1, 1, 1, 1, 1, 1, 1, 1, 1, 1, 1, 1, 1, 1, 1, 1, 1, 1, 1, 1, 1, 1, 1, 1, 1, 1, 1, 1, 1, 1, 1, 1, 1, 1, 1, 1, 1, 1, 1, 1, 1, 1, 1, 1, 1, 1, 1, 1, 1, 1, 1, 1, 1, 1, 1, 1, 1, 1, 1, 1, 1, 1, 1, 1, 1, 1, 1, 1, 1, 1, 1, 1, 1, 1, 1, 1, 1, 1, 1, 1, 1, 1, 1, 1, 1, 1, 1, 1, 1, 1, 1, 1, 1, 1, 1, 1, 1, 1, 1, 1, 1, 1, 1, 1, 1, 1, 1, 1, 1, 1, 1, 1, 1, 1, 1, 1, 1, 1, 1, 1, 1, 1, 1, 1, 1, 1, 1, 1, 1, 1, 1, 1, 1, 1, 1, 1, 1, 1, 1, 1, 1, 1, 1, 1, 1, 1, 1, 1, 1, 1, 1, 1, 1, 1, 1, 1, 1, 1, 1, 1, 1, 1, 1, 1, 1, 1, 1, 1, 1, 1, 1, 1, 1, 1, 1, 1, 1, 1, 1, 1, 1, 1, 1, 1, 1, 1, 1, 1, 1, 1, 1, 1, 1, 1, 1, 1, 1, 1, 1, 1, 1, 1, 1, 1, 1, 1, 1, 1, 1, 1, 1, 1, 1, 1, 1, 1, 1, 1, 1, 1, 1, 1, 1, 1, 1, 1, 1, 1, 1, 1, 1, 1, 1, 1, 1, 1, 1, 1, 1, 1, 1, 1, 1, 1, 1, 1, 1, 1, 1, 1, 1, 1, 1, 1, 1, 1, 1, 1, 1, 1, 1, 1, 1, 1, 1, 1, 1, 1, 1, 1, 1, 1, 1, 1, 1, 1, 1, 1, 1, 1, 1, 1, 1, 1, 1, 1, 1, 1, 1, 1, 1, 1, 1, 1, 1, 1, 1, 1, 1, 1, 1, 1, 1, 1, 1, 1, 1, 1, 1, 1, 1, 1, 1, 1, 1, 1, 1, 1, 1, 1, 1, 1, 1, 1, 1, 1, 1, 1, 1, 1, 1, 1, 1, 1, 1, 1, 1, 1, 1, 1, 1, 1, 1, 1, 1, 1, 1, 1, 1, 1, 1, 1, 1, 1, 1, 1, 1, 1, 1, 1, 1, 1, 1, 1, 1, 1, 1, 1, 1, 1, 1, 1, 1, 1, 1, 1, 1, 1, 1, 1, 1, 1, 1, 1, 1, 1, 1, 1, 1, 1, 1, 1, 1, 1, 1, 1, 1, 1, 1, 1, 1, 1, 1, 1, 1, 1, 1, 1, 1, 1, 1, 1, 1, 1, 1, 1, 1, 1, 1, 1, 1, 1, 1, 1, 1, 1, 1, 1, 1, 1, 1, 1, 1, 1, 1, 1, 1, 1, 1, 1, 1, 1, 1, 1, 1, 1, 1, 1, 1, 1, 1, 1, 1, 1, 1, 1, 1, 1, 1, 1, 1, 1, 1, 1, 1, 1, 1, 1, 1, 1, 1, 1, 1, 1, 1, 1, 1, 1, 1, 1, 1, 1, 1, 1, 1, 1, 1, 1, 1, 1, 1, 1, 1, 1, 1, 1, 1, 1, 1, 1, 1, 1, 1, 1, 1, 1, 1, 1, 1, 1, 1, 1, 1, 1, 1, 1, 1, 1, 1, 1, 1, 1, 1, 1, 1, 1, 1, 1, 1, 1, 1, 1, 1, 1, 1, 1, 1, 1, 1, 1, 1, 1, 1, 1, 1, 1, 1, 1, 1, 1, 1, 1, 1, 1, 1, 1, 1, 1, 1, 1, 1, 1, 1, 1, 1, 1, 1, 1, 1, 1, 1, 1, 1, 1, 1, 1, 1, 1, 1, 1, 1, 1, 1, 1, 1, 1, 1, 1, 1, 1, 1, 1, 1, 1, 1, 1, 1, 1, 1, 1, 1, 1, 1, 1, 1, 1, 1, 1, 1, 1, 1, 1, 1, 1, 1, 1, 1, 1, 1, 1, 1, 1, 1, 1, 1, 1, 1, 1, 1, 1, 1, 1, 1, 1, 1, 1, 1, 1, 1, 1, 1, 1, 1, 1, 1, 1, 1, 1, 1, 1, 1, 1, 1, 1, 1, 1, 1, 1, 1, 1, 1, 1, 1, 1, 1, 1, 1, 1, 1, 1, 1, 1, 1, 1, 1, 1, 1, 1, 1, 1, 1, 1, 1, 1, 1, 1, 1, 1, 1, 1, 1, 1, 1, 1, 1, 1, 1, 1, 1, 1, 1, 1, 1, 1, 1, 1, 1, 1, 1, 1, 1, 1, 1, 1, 1, 1, 1, 1, 1, 1, 1, 1, 1, 1, 1, 1, 1, 1, 1, 1, 1, 1, 1, 1, 1, 1, 1, 1, 1, 1, 1, 1, 1, 1, 1, 1, 1, 1, 1, 1, 1, 1, 1, 1, 1, 1, 1, 1, 1, 1, 1, 1, 1, 1, 1, 1, 1, 1, 1, 1, 1, 1, 1, 1, 1, 1, 1, 1, 1, 1, 1, 1, 1, 1, 1, 1, 1, 1, 1, 1, 1, 1, 1, 1, 1, 1, 1, 1, 1, 1, 1, 1, 1, 1, 1, 1, 1, 1, 1, 1, 1, 1, 1, 1, 1, 1, 1, 1, 1, 1, 1, 1, 1, 1, 1, 1, 1, 1, 1, 1, 1, 1, 1, 1, 1, 1, 1, 1, 1, 1, 1, 1, 1, 1, 1, 1, 1, 1, 1, 1, 1, 1, 1, 1, 1, 1, 1, 1, 1, 1, 1, 1, 1, 1, 1, 1, 1, 1, 1, 1, 1, 1, 1, 1, 1, 1, 1, 1, 1, 1, 1, 1, 1, 1, 1, 1, 1, 1, 1, 1, 1, 1, 1, 1, 1, 1, 1, 1, 1, 1, 1, 1, 1, 1, 1, 1, 1, 1, 1, 1, 1, 1, 1, 1, 1, 1, 1, 1, 1, 1, 1, 1, 1, 1, 1, 1, 1, 1, 1, 1, 1, 1, 1, 1, 1, 1, 1, 1, 1, 1, 1, 1, 1, 1, 1, 1, 1, 1, 1, 1, 1, 1, 1, 1, 1, 1, 1, 1, 1, 1, 1, 1, 1, 1, 1, 1, 1, 1, 1, 1, 1, 1, 1, 1, 1, 1, 1, 1, 1, 1, 1, 1, 1, 1, 1, 1, 1, 1, 1, 1, 1, 1, 1, 1, 1, 1, 1, 1, 1, 1, 1, 1, 1, 1, 1, 1, 1, 1, 1, 1, 1, 1, 1, 1, 1, 1, 1, 1, 1, 1, 1, 1, 1, 1, 1, 1, 1, 1, 1, 1, 1, 1, 1, 1, 1, 1, 1, 1, 1, 1, 1, 1, 1, 1, 1, 1, 1, 1, 1, 1, 1, 1, 1, 1, 1, 1, 1, 1, 1, 1, 1, 1, 1, 1, 1, 1, 1, 1, 1, 1, 1, 1, 1, 1, 1, 1, 1, 1, 1, 1, 1, 1, 1, 1, 1, 1, 1, 1, 1, 1, 1, 1, 1, 1, 1, 1, 1, 1, 1, 1, 1, 1, 1, 1, 1, 1, 1, 1, 1, 1, 1, 1, 1, 1, 1, 1, 1, 1, 1, 1, 1, 1, 1, 1, 1, 1, 1, 1, 1, 1, 1, 1, 1, 1, 1, 1, 1, 1, 1, 1, 1, 1, 1, 1, 1, 1, 1, 1, 1, 1, 1, 1, 1, 1, 1, 1, 1, 1, 1, 1, 1, 1, 1, 1, 1, 1, 1, 1, 1, 1, 1, 1, 1, 1, 1, 1, 1, 1, 1, 1, 1, 1, 1, 1, 1, 1, 1, 1, 1, 1, 1, 1, 1, 1, 1, 1, 1, 1, 1, 1, 1, 1, 1, 1, 1, 1, 1, 1, 1, 1, 1, 1, 1, 1, 1, 1, 1, 1, 1, 1, 1, 1, 1, 1, 1, 1, 1, 1, 1, 1, 1, 1, 1, 1, 1, 1, 1, 1, 1, 1, 1, 1, 1, 1, 1, 1, 1, 1, 1, 1, 1, 1, 1, 1, 1, 1, 1, 1, 1, 1, 1, 1, 1, 1, 1, 1, 1, 1, 1, 1, 1, 1, 1, 1, 1, 1, 1, 1, 1, 1, 1, 1, 1, 1, 1, 1, 1, 1, 1, 1, 1, 1, 1, 1, 1, 1, 1, 1, 1, 1, 1, 1, 1, 1, 1, 1, 1, 1, 1, 1, 1, 1, 1, 1, 1, 1, 1, 1, 1, 1, 1, 1, 1, 1, 1, 1, 1, 1, 1, 1, 1, 1, 1, 1, 1, 1, 1, 1, 1, 1, 1, 1, 1, 1, 1, 1, 1, 1, 1, 1, 1, 1, 1, 1, 1, 1, 1, 1, 1, 1, 1, 1, 1, 1, 1, 1, 1, 1, 1, 1, 1, 1, 1, 1, 1, 1, 1, 1, 1, 1, 1, 1, 1, 1, 1, 1, 1, 1, 1, 1, 1, 1, 1, 1, 1, 1, 1, 1, 1, 1, 1, 1, 1, 1, 1, 1, 1, 1, 1, 1, 1, 1, 1, 1, 1, 1, 1, 1, 1, 1, 1, 1, 1, 1, 1, 1, 1, 1, 1, 1, 1, 1, 1, 1, 1, 1, 1, 1, 1, 1, 1, 1, 1, 1, 1, 1, 1, 1, 1, 1, 1, 1, 1, 1, 1, 1, 1, 1, 1, 1, 1, 1, 1, 1, 1, 1, 1, 1, 1, 1, 1, 1, 1, 1, 1, 1, 1, 1, 1, 1, 1, 1, 1, 1, 1, 1, 1, 1, 1, 1, 1, 1, 1, 1, 1, 1, 1, 1, 1, 1, 1, 1, 1, 1, 1, 1, 1, 1, 1, 1, 1, 1, 1, 1, 1, 1, 1, 1, 1, 1, 1, 1, 1, 1, 1, 1, 1, 1, 1, 1, 1, 1, 1, 1, 1, 1, 1, 1, 1, 1, 1, 1, 1, 1, 1, 1, 1, 1, 1, 1, 1, 1, 1, 1, 1, 1, 1, 1, 1, 1, 1, 1, 1, 1, 1, 1, 1, 1, 1, 1, 1, 1, 1, 1, 1, 1, 1, 1, 1, 1, 1, 1, 1, 1, 1, 1, 1, 1, 1, 1, 1, 1, 1, 1, 1, 1, 1, 1, 1, 1, 1, 1, 1, 1, 1, 1, 1, 1, 1, 1, 1, 1, 1, 1, 1, 1, 1, 1, 1, 1, 1, 1, 1, 1, 1, 1, 1, 1, 1, 1, 1, 1, 1, 1, 1, 1, 1, 1, 1, 1, 1, 1, 1, 1, 1, 1, 1, 1, 1, 1, 1, 1, 1, 1, 1, 1, 1, 1, 1, 1, 1, 1, 1, 1, 1, 1, 1, 1, 1, 1, 1, 1, 1, 1, 1, 1, 1, 1, 1, 1, 1, 1, 1, 1, 1, 1, 1, 1, 1, 1, 1, 1, 1, 1, 1, 1, 1, 1, 1, 1, 1, 1, 1, 1, 1, 1, 1, 1, 1, 1, 1, 1, 1, 1, 1, 1, 1, 1, 1, 1, 1, 1, 1, 1, 1, 1, 1, 1, 1, 1, 1, 1, 1, 1, 1, 1, 1, 1, 1, 1, 1, 1, 1, 1, 1, 1, 1, 1, 1, 1, 1, 1, 1, 1, 1, 1, 1, 1, 1, 1, 1, 1, 1, 1, 1, 1, 1, 1, 1, 1, 1, 1, 1, 1, 1, 1, 1, 1, 1, 1, 1, 1, 1, 1, 1, 1, 1, 1, 1, 1, 1, 1, 1, 1, 1, 1, 1, 1, 1, 1, 1, 1, 1, 1, 1, 1, 1, 1, 1, 1, 1, 1, 1, 1, 1, 1, 1, 1, 1, 1, 1, 1, 1, 1, 1, 1, 1, 1, 1, 1, 1, 1, 1, 1, 1, 1, 1, 1, 1, 1, 1, 1, 1, 1, 1, 1, 1, 1, 1, 1, 1, 1, 1, 1, 1, 1, 1, 1, 1, 1, 1, 1, 1, 1, 1, 1, 1, 1, 1, 1, 1, 1, 1, 1, 1, 1, 1, 1, 1, 1, 1, 1, 1, 1, 1, 1, 1, 1, 1, 1, 1, 1, 1, 1, 1, 1, 1, 1, 1, 1, 1, 1, 1, 1, 1, 1, 1, 1, 1, 1, 1, 1, 1, 1, 1, 1, 1, 1, 1, 1, 1, 1, 1, 1, 1, 1, 1, 1, 1, 1, 1, 1, 1, 1, 1, 1, 1, 1, 1, 1, 1, 1, 1, 1, 1, 1, 1, 1, 1, 1, 1, 1, 1, 1, 1, 1, 1, 1, 1, 1, 1, 1, 1, 1, 1, 1, 1, 1, 1, 1, 1, 1, 1, 1, 1, 1, 1, 1, 1, 1, 1, 1, 1, 1, 1, 1, 1, 1, 1, 1, 1, 1, 1, 1, 1, 1, 1, 1, 1, 1, 1, 1, 1, 1, 1, 1, 1, 1, 1, 1, 1, 1, 1, 1, 1, 1, 1, 1, 1, 1, 1, 1, 1, 1, 1, 1, 1, 1, 1, 1, 1, 1, 1, 1, 1, 1, 1, 1, 1, 1, 1, 1, 1, 1, 1, 1, 1, 1, 1, 1, 1, 1, 1, 1, 1, 1, 1, 1, 1, 1, 1, 1, 1, 1, 1, 1, 1, 1, 1, 1, 1, 1, 1, 1, 1, 1, 1, 1, 1, 1, 1, 1, 1, 1, 1, 1, 1, 1, 1, 1, 1, 1, 1, 1, 1, 1, 1, 1, 1, 1, 1, 1, 1, 1, 1, 1, 1, 1, 1, 1, 1, 1, 1, 1, 1, 1, 1, 1, 1, 1, 1, 1, 1, 1, 1, 1, 1, 1, 1, 1, 1, 1, 1, 1, 1, 1, 1, 1, 1, 1, 1, 1, 1, 1, 1, 1, 1, 1, 1, 1, 1, 1, 1, 1, 1, 1, 1, 1, 1, 1, 1, 1, 1, 1, 1, 1, 1, 1, 1, 1, 1, 1, 1, 1, 1, 1, 1, 1, 1, 1, 1, 1, 1, 1, 1, 1, 1, 1, 1, 1, 1, 1, 1, 1, 1, 1, 1, 1, 1, 1, 1, 1, 1, 1, 1, 1, 1, 1, 1, 1, 1, 1, 1, 1, 1, 1, 1, 1, 1, 1, 1, 1, 1, 1, 1, 1, 1, 1, 1, 1, 1, 1, 1, 1, 1, 1, 1, 1, 1, 1, 1, 1, 1, 1, 1, 1, 1, 1, 1, 1, 1, 1, 1, 1, 1, 1, 1, 1, 1, 1, 1, 1, 1, 1, 1, 1, 1, 1, 1, 1, 1, 1, 1, 1, 1, 1, 1, 1, 1, 1, 1, 1, 1, 1, 1, 1, 1, 1, 1, 1, 1, 1, 1, 1, 1, 1, 1, 1, 1, 1, 1, 1, 1, 1, 1, 1, 1, 1, 1, 1, 1, 1, 1, 1, 1, 1, 1, 1, 1, 1, 1, 1, 1, 1, 1, 1, 1, 1, 1, 1, 1, 1, 1, 1, 1, 1, 1, 1, 1, 1, 1, 1, 1, 1, 1, 1, 1, 1, 1, 1, 1, 1, 1, 1, 1, 1, 1, 1, 1, 1, 1, 1, 1, 1, 1, 1, 1, 1, 1, 1, 1, 1, 1, 1, 1, 1, 1, 1, 1, 1, 1, 1, 1, 1, 1, 1, 1, 1, 1, 1, 1, 1, 1, 1, 1, 1, 1, 1, 1, 1, 1, 1, 1, 1, 1, 1, 1, 1, 1, 1, 1, 1, 1, 1, 1, 1, 1, 1, 1, 1, 1, 1, 1, 1, 1, 1, 1, 1, 1, 1, 1, 1, 1, 1, 1, 1, 1, 1, 1, 1, 1, 1, 1, 1, 1, 1, 1, 1, 1, 1, 1, 1, 1, 1, 1, 1, 1, 1, 1, 1, 1, 1, 1, 1, 1, 1, 1, 1, 1, 1, 1, 1, 1, 1, 1, 1, 1, 1, 1, 1, 1, 1, 1, 1, 1, 1, 1, 1, 1, 1, 1, 1, 1, 1, 1, 1, 1, 1, 1, 1, 1, 1, 1, 1, 1, 1, 1, 1, 1, 1, 1, 1, 1, 1, 1, 1, 1, 1, 1, 1, 1, 1, 1, 1, 1, 1, 1, 1, 1, 1, 1, 1, 1, 1, 1, 1, 1, 1, 1, 1, 1, 1, 1, 1, 1, 1, 1, 1, 1, 1, 1, 1, 1, 1, 1, 1, 1, 1, 1, 1, 1, 1, 1, 1, 1, 1, 1, 1, 1, 1, 1, 1, 1, 1, 1, 1, 1, 1, 1, 1, 1, 1, 1, 1, 1, 1, 1, 1, 1, 1, 1, 1, 1, 1, 1, 1, 1, 1, 1, 1, 1, 1, 1, 1, 1, 1, 1, 1, 1, 1, 1, 1, 1, 1, 1, 1, 1, 1, 1, 1, 1, 1, 1, 1, 1, 1, 1, 1, 1, 1, 1, 1, 1, 1, 1, 1, 1, 1, 1, 1, 1, 1, 1, 1, 1, 1, 1, 1, 1, 1, 1, 1, 1, 1, 1, 1, 1, 1, 1, 1, 1, 1, 1, 1, 1, 1, 1, 1, 1, 1, 1, 1, 1, 1, 1, 1, 1, 1, 1, 1, 1, 1, 1, 1, 1, 1, 1, 1, 1, 1, 1, 1, 1, 1, 1, 1, 1, 1, 1, 1, 1, 1, 1, 1, 1, 1, 1, 1, 1, 1, 1, 1, 1, 1, 1, 1, 1, 1, 1, 1, 1, 1, 1, 1, 1, 1, 1, 1, 1, 1, 1, 1, 1, 1, 1, 1, 1, 1, 1, 1, 1, 1, 1, 1, 1, 1, 1, 1, 1, 1, 1, 1, 1, 1, 1, 1, 1, 1, 1, 1, 1, 1, 1, 1, 1, 1, 1, 1, 1, 1, 1, 1, 1, 1, 1, 1, 1, 1, 1, 1, 1, 1, 1, 1, 1, 1, 1, 1, 1, 1, 1, 1, 1, 1, 1, 1, 1, 1, 1, 1, 1, 1, 1, 1, 1, 1, 1, 1, 1, 1, 1, 1, 1, 1, 1, 1, 1, 1, 1, 1, 1, 1, 1, 1, 1, 1, 1, 1, 1, 1, 1, 1, 1, 1, 1, 1, 1, 1, 1, 1, 1, 1, 1, 1, 1, 1, 1, 1, 1, 1, 1, 1, 1, 1, 1, 1, 1, 1, 1, 1, 1, 1, 1, 1, 1, 1, 1, 1, 1, 1, 1, 1, 1, 1, 1, 1, 1, 1, 1, 1, 1, 1, 1, 1, 1, 1, 1, 1, 1, 1, 1, 1, 1, 1, 1, 1, 1, 1, 1, 1, 1, 1, 1, 1, 1, 1, 1, 1, 1, 1, 1, 1, 1, 1, 1, 1, 1, 1, 1, 1, 1, 1, 1, 1, 1, 1, 1, 1, 1, 1, 1, 1, 1, 1, 1, 1, 1, 1, 1, 1, 1, 1, 1, 1, 1, 1, 1, 1, 1, 1, 1, 1, 1, 1, 1, 1, 1, 1, 1, 1, 1, 1, 1, 1, 1, 1, 1, 1, 1, 1, 1, 1, 1, 1, 1, 1, 1, 1, 1, 1, 1, 1, 1, 1, 1, 1, 1, 1, 1, 1, 1, 1, 1, 1, 1, 1, 1, 1, 1, 1, 1, 1, 1, 1, 1, 1, 1, 1, 1, 1, 1, 1, 1, 1, 1, 1, 1, 1, 1, 1, 1, 1, 1, 1, 1, 1, 1, 1, 1, 1, 1, 1, 1, 1, 1, 1, 1, 1, 1, 1, 1, 1, 1, 1, 1, 1, 1, 1, 1, 1, 1, 1, 1, 1, 1, 1, 1, 1, 1, 1, 1, 1, 1, 1, 1, 1, 1, 1, 1, 1, 1, 1, 1, 1, 1, 1, 1, 1, 1, 1, 1, 1, 1, 1, 1, 1, 1, 1, 1, 1, 1, 1, 1, 1, 1, 1, 1, 1, 1, 1, 1, 1, 1, 1, 1, 1, 1, 1, 1, 1, 1, 1, 1, 1, 1, 1, 1, 1, 1, 1, 1, 1, 1, 1, 1, 1, 1, 1, 1, 1, 1, 1, 1, 1, 1, 1, 1, 1, 1, 1, 1, 1, 1, 1, 1, 1, 1, 1, 1, 1, 1, 1, 1, 1, 1, 1, 1, 1, 1, 1, 1, 1, 1, 1, 1, 1, 1, 1, 1, 1, 1, 1, 1, 1, 1, 1, 1, 1, 1, 1, 1, 1, 1, 1, 1, 1, 1, 1, 1, 1, 1, 1, 1, 1, 1, 1, 1, 1, 1, 1, 1, 1, 1, 1, 1, 1, 1, 1, 1, 1, 1, 1, 1, 1, 1, 1, 1, 1, 1, 1, 1, 1, 1, 1, 1, 1, 1, 1, 1, 1, 1, 1, 1, 1, 1, 1, 1, 1, 1, 1, 1, 1, 1, 1, 1, 1, 1, 1, 1, 1, 1, 1, 1, 1, 1, 1, 1, 1, 1, 1, 1, 1, 1, 1, 1, 1, 1, 1, 1, 1, 1, 1, 1, 1, 1, 1, 1, 1, 1, 1, 1, 1, 1, 1, 1, 1, 1, 1, 1, 1, 1, 1, 1, 1, 1, 1, 1, 1, 1, 1, 1, 1, 1, 1, 1, 1, 1, 1, 1, 1, 1, 1, 1, 1, 1, 1, 1, 1, 1, 1, 1, 1, 1, 1, 1, 1, 1, 1, 1, 1, 1, 1, 1, 1, 1, 1, 1, 1, 1, 1, 1, 1, 1, 1, 1, 1, 1, 1, 1, 1, 1, 1, 1, 1, 1, 1, 1, 1, 1, 1, 1, 1, 1, 1, 1, 1, 1, 1, 1, 1, 1, 1, 1, 1, 1, 1, 1, 1, 1, 1, 1, 1, 1, 1, 1, 1, 1, 1, 1, 1, 1, 1, 1, 1, 1, 1, 1, 1, 1, 1, 1, 1, 1, 1, 1, 1, 1, 1, 1, 1, 1, 1, 1, 1, 1, 1, 1, 1, 1, 1, 1, 1, 1, 1, 1, 1, 1, 1, 1, 1, 1, 1, 1, 1, 1, 1, 1, 1, 1, 1, 1, 1, 1, 1, 1, 1, 1, 1, 1, 1, 1, 1, 1, 1, 1, 1, 1, 1, 1, 1, 1, 1, 1, 1, 1, 1, 1, 1, 1, 1, 1, 1, 1, 1, 1, 1, 1, 1, 1, 1, 1, 1, 1, 1, 1, 1, 1, 1, 1, 1, 1, 1, 1, 1, 1, 1, 1, 1, 1, 1, 1, 1, 1, 1, 1, 1, 1, 1, 1, 1, 1, 1, 1, 1, 1, 1, 1, 1, 1, 1, 1, 1, 1, 1, 1, 1, 1, 1, 1, 1, 1, 1, 1, 1, 1, 1, 1, 1, 1, 1, 1, 1, 1, 1, 1, 1, 1, 1, 1, 1, 1, 1, 1, 1, 1, 1, 1, 1, 1, 1, 1, 1, 1, 1, 1, 1, 1, 1, 1, 1, 1, 1, 1, 1, 1, 1, 1, 1, 1, 1, 1, 1, 1, 1, 1, 1, 1, 1, 1, 1, 1, 1, 1, 1, 1, 1, 1, 1, 1, 1, 1, 1, 1, 1, 1, 1, 1, 1, 1, 1, 1, 1, 1, 1, 1, 1, 1, 1, 1, 1, 1, 1, 1, 1, 1, 1, 1, 1, 1, 1, 1, 1, 1, 1, 1, 1, 1, 1, 1, 1, 1, 1, 1, 1, 1, 1, 1, 1, 1, 1, 1, 1, 1, 1, 1, 1, 1, 1, 1, 1, 1, 1, 1, 1, 1, 1, 1, 1, 1, 1, 1, 1, 1, 1, 1, 1, 1, 1, 1, 1, 1, 1, 1, 1, 1, 1, 1, 1, 1, 1, 1, 1, 1, 1, 1, 1, 1, 1, 1, 1, 1, 1, 1, 1, 1, 1, 1, 1, 1, 1, 1, 1, 1, 1, 1, 1, 1, 1, 1, 1, 1, 1, 1, 1, 1, 1, 1, 1, 1, 1, 1, 1, 1, 1, 1, 1, 1, 1, 1, 1, 1, 1, 1, 1, 1, 1, 1, 1, 1, 1, 1, 1, 1, 1, 1, 1, 1, 1, 1, 1, 1, 1, 1, 1, 1, 1, 1, 1, 1, 1, 1, 1, 1, 1, 1, 1, 1, 1, 1, 1, 1, 1, 1, 1, 1, 1, 1, 1, 1, 1, 1, 1, 1, 1, 1, 1, 1, 1, 1, 1, 1, 1, 1, 1, 1, 1, 1, 1, 1, 1, 1, 1, 1, 1, 1, 1, 1, 1, 1, 1, 1, 1, 1, 1, 1, 1, 1, 1, 1, 1, 1, 1, 1, 1, 1, 1, 1, 1, 1, 1, 1, 1, 1, 1, 1, 1, 1, 1, 1, 1, 1, 1, 1, 1, 1, 1, 1, 1, 1, 1, 1, 1, 1, 1, 1, 1, 1, 1, 1, 1, 1, 1, 1, 1, 1, 1, 1, 1, 1, 1, 1, 1, 1, 1, 1, 1, 1, 1, 1, 1, 1, 1, 1, 1, 1, 1, 1, 1, 1, 1, 1, 1, 1, 1, 1, 1, 1, 1, 1, 1, 1, 1, 1, 1, 1, 1, 1, 1, 1, 1, 1, 1, 1, 1, 1, 1, 1, 1, 1, 1, 1, 1, 1, 1, 1, 1, 1, 1, 1, 1, 1, 1, 1, 1, 1, 1, 1, 1, 1, 1, 1, 1, 1, 1, 1, 1, 1, 1, 1, 1, 1, 1, 1, 1, 1, 1, 1, 1, 1, 1, 1, 1, 1, 1, 1, 1, 1, 1, 1, 1, 1, 1, 1, 1, 1, 1, 1, 1, 1, 1, 1, 1, 1, 1, 1, 1, 1, 1, 1, 1, 1, 1, 1, 1, 1, 1, 1, 1, 1, 1, 1, 1, 1, 1, 1, 1, 1, 1, 1, 1, 1, 1, 1, 1, 1, 1, 1, 1, 1, 1, 1, 1, 1, 1, 1, 1, 1, 1, 1, 1, 1, 1, 1, 1, 1, 1, 1, 1, 1, 1, 1, 1, 1, 1, 1, 1, 1, 1, 1, 1, 1, 1, 1, 1, 1, 1, 1, 1, 1, 1, 1, 1, 1, 1, 1, 1, 1, 1, 1, 1, 1, 1, 1, 1, 1, 1, 1, 1, 1, 1, 1, 1, 1, 1, 1, 1, 1, 1, 1, 1, 1, 1, 1, 1, 1, 1, 1, 1, 1, 1, 1, 1, 1, 1, 1, 1, 1, 1, 1, 1, 1, 1, 1, 1, 1, 1, 1, 1, 1, 1, 1, 1, 1, 1, 1, 1, 1, 1, 1, 1, 1, 1, 1, 1, 1, 1, 1, 1, 1, 1, 1, 1, 1, 1, 1, 1, 1, 1, 1, 1, 1, 1, 1, 1, 1, 1, 1, 1, 1, 1, 1, 1, 1, 1, 1, 1, 1, 1, 1, 1, 1, 1, 1, 1, 1, 1, 1, 1, 1, 1, 1, 1, 1, 1, 1, 1, 1, 1, 1, 1, 1, 1, 1, 1, 1, 1, 1, 1, 1, 1, 1, 1, 1, 1, 1, 1, 1, 1, 1, 1, 1, 1, 1, 1, 1, 1, 1, 1, 1, 1, 1, 1, 1, 1, 1, 1, 1, 1, 1, 1, 1, 1, 1, 1, 1, 1, 1, 1, 1, 1, 1, 1, 1, 1, 1, 1, 1, 1, 1, 1, 1, 1, 1, 1, 1, 1, 1, 1, 1, 1, 1, 1, 1, 1, 1, 1, 1, 1, 1, 1, 1, 1, 1, 1, 1, 1, 1, 1, 1, 1, 1, 1, 1, 1, 1, 1, 1, 1, 1, 1, 1, 1, 1, 1, 1, 1, 1, 1, 1, 1, 1, 1, 1, 1, 1, 1, 1, 1, 1, 1, 1, 1, 1, 1, 1, 1, 1, 1, 1, 1, 1, 1, 1, 1, 1, 1, 1, 1, 1, 1, 1, 1, 1, 1, 1, 1, 1, 1, 1, 1, 1, 1, 1, 1, 1, 1, 1, 1, 1, 1, 1, 1, 1, 1, 1, 1, 1, 1, 1, 1, 1, 1, 1, 1, 1, 1, 1, 1, 1, 1, 1, 1, 1, 1, 1, 1, 1, 1, 1, 1, 1, 1, 1, 1, 1, 1, 1, 1, 1, 1, 1, 1, 1, 1, 1, 1, 1, 1, 1, 1, 1, 1, 1, 1, 1, 1, 1, 1, 1, 1, 1, 1, 1, 1, 1, 1, 1, 1, 1, 1, 1, 1, 1, 1, 1, 1, 1, 1, 1, 1, 1, 1, 1, 1, 1, 1, 1, 1, 1, 1, 1, 1, 1, 1, 1, 1, 1, 1, 1, 1, 1, 1, 1, 1, 1, 1, 1, 1, 1, 1, 1, 1, 1, 1, 1, 1, 1, 1, 1, 1, 1, 1, 1, 1, 1, 1, 1, 1, 1, 1, 1, 1, 1, 1, 1, 1, 1, 1, 1, 1, 1, 1, 1, 1, 1, 1, 1, 1, 1, 1, 1, 1, 1, 1, 1, 1, 1, 1, 1, 1, 1, 1, 1, 1, 1, 1, 1, 1, 1, 1, 1, 1, 1, 1, 1, 1, 1, 1, 1, 1, 1, 1, 1, 1, 1, 1, 1, 1, 1, 1, 1, 1, 1, 1, 1, 1, 1, 1, 1, 1, 1, 1, 1, 1, 1, 1, 1, 1, 1, 1, 1, 1, 1, 1, 1, 1, 1, 1, 1, 1, 1, 1, 1, 1, 1, 1, 1, 1, 1, 1, 1, 1, 1, 1, 1, 1, 1, 1, 1, 1, 1, 1, 1, 1, 1, 1, 1, 1, 1, 1, 1, 1, 1, 1, 1, 1, 1, 1, 1, 1, 1, 1, 1, 1, 1, 1, 1, 1, 1, 1, 1, 1, 1, 1, 1, 1, 1, 1, 1, 1, 1, 1, 1, 1, 1, 1, 1, 1, 1, 1, 1, 1, 1, 1, 1, 1, 1, 1, 1, 1, 1, 1, 1, 1, 1, 1, 1, 1, 1, 1, 1, 1, 1, 1, 1, 1, 1, 1, 1, 1, 1, 1, 1, 1, 1, 1, 1, 1, 1, 1, 1, 1, 1, 1, 1, 1, 1, 1, 1, 1, 1, 1, 1, 1, 1, 1, 1, 1, 1, 1, 1, 1, 1, 1, 1, 1, 1, 1, 1, 1, 1, 1, 1, 1, 1, 1, 1, 1, 1, 1, 1, 1, 1, 1, 1, 1, 1, 1, 1, 1, 1, 1, 1, 1, 1, 1, 1, 1, 1, 1, 1, 1, 1, 1, 1, 1, 1, 1, 1, 1, 1, 1, 1, 1, 1, 1, 1, 1, 1, 1, 1, 1, 1, 1, 1, 1, 1, 1, 1, 1, 1, 1, 1, 1, 1, 1, 1, 1, 1, 1, 1, 1, 1, 1, 1, 1, 1, 1, 1, 1, 1, 1, 1, 1, 1, 1, 1, 1, 1, 1, 1, 1, 1, 1, 1, 1, 1, 1, 1, 1, 1, 1, 1, 1, 1, 1, 1, 1, 1, 1, 1, 1, 1, 1, 1, 1, 1, 1, 1, 1, 1, 1, 1, 1, 1, 1, 1, 1, 1, 1, 1, 1, 1, 1, 1, 1, 1, 1, 1, 1, 1, 1, 1, 1, 1, 1, 1, 1, 1, 1, 1, 1, 1, 1, 1, 1, 1, 1, 1, 1, 1, 1, 1, 1, 1, 1, 1, 1, 1, 1, 1, 1, 1, 1, 1, 1, 1, 1, 1, 1, 1, 1, 1, 1, 1, 1, 1, 1, 1, 1, 1, 1, 1, 1, 1, 1, 1, 1, 1, 1, 1, 1, 1, 1, 1, 1, 1, 1, 1, 1, 1, 1, 1, 1, 1, 1, 1, 1, 1, 1, 1, 1, 1, 1, 1, 1, 1, 1, 1, 1, 1, 1, 1, 1, 1, 1, 1, 1, 1, 1, 1, 1, 1, 1, 1, 1, 1, 1, 1, 1, 1, 1, 1, 1, 1, 1, 1, 1, 1, 1, 1, 1, 1, 1, 1, 1, 1, 1, 1, 1, 1, 1, 1, 1, 1, 1, 1, 1, 1, 1, 1, 1, 1, 1, 1, 1, 1, 1, 1, 1, 1, 1, 1, 1, 1, 1, 1, 1, 1, 1, 1, 1, 1, 1, 1, 1, 1, 1, 1, 1, 1, 1, 1, 1, 1, 1, 1, 1, 1, 1, 1, 1, 1, 1, 1, 1, 1, 1, 1, 1, 1, 1, 1, 1, 1, 1, 1, 1, 1, 1, 1, 1, 1, 1, 1, 1, 1, 1, 1, 1, 1, 1, 1, 1, 1, 1, 1, 1, 1, 1, 1, 1, 1, 1, 1, 1, 1, 1, 1, 1, 1, 1, 1, 1, 1, 1, 1, 1, 1, 1, 1, 1, 1, 1, 1, 1, 1, 1, 1, 1, 1, 1, 1, 1, 1, 1, 1, 1, 1, 1, 1, 1, 1, 1, 1, 1, 1, 1, 1, 1, 1, 1, 1, 1, 1, 1, 1, 1, 1, 1, 1, 1, 1, 1, 1, 1, 1, 1, 1, 1, 1, 1, 1, 1, 1, 1, 1, 1, 1, 1, 1, 1, 1, 1, 1, 1, 1, 1, 1, 1, 1, 1, 1, 1, 1, 1, 1, 1, 1, 1, 1, 1, 1, 1, 1, 1, 1, 1, 1, 1, 1, 1, 1, 1, 1, 1, 1, 1, 1, 1, 1, 1, 1, 1, 1, 1, 1, 1, 1, 1, 1, 1, 1, 1, 1, 1, 1, 1, 1, 1, 1, 1, 1, 1, 1, 1, 1, 1, 1, 1, 1, 1, 1, 1, 1, 1, 1, 1, 1, 1, 1, 1, 1, 1, 1, 1, 1, 1, 1, 1, 1, 1, 1, 1, 1, 1, 1, 1, 1, 1, 1, 1, 1, 1, 1, 1, 1, 1, 1, 1, 1, 1, 1, 1, 1, 1, 1, 1, 1, 1, 1, 1, 1, 1, 1, 1, 1, 1, 1, 1, 1, 1, 1, 1, 1, 1, 1, 1, 1, 1, 1, 1, 1, 1, 1, 1, 1, 1, 1, 1, 1, 1, 1, 1, 1, 1, 1, 1, 1, 1, 1, 1, 1, 1, 1, 1, 1, 1, 1, 1, 1, 1, 1, 1, 1, 1, 1, 1, 1, 1, 1, 1, 1, 1, 1, 1, 1, 1, 1, 1, 1, 1, 1, 1, 1, 1, 1, 1, 1, 1, 1, 1, 1, 1, 1, 1, 1, 1, 1, 1, 1, 1, 1, 1, 1, 1, 1, 1, 1, 1, 1, 1, 1, 1, 1, 1, 1, 1, 1, 1, 1, 1, 1, 1, 1, 1, 1, 1, 1, 1, 1, 1, 1, 1, 1, 1, 1, 1, 1, 1, 1, 1, 1, 1, 1, 1, 1, 1, 1, 1, 1, 1, 1, 1, 1, 1, 1, 1, 1, 1, 1, 1, 1, 1, 1, 1, 1, 1, 1, 1, 1, 1, 1, 1, 1, 1, 1, 1, 1, 1, 1, 1, 1, 1, 1, 1, 1, 1, 1, 1, 1, 1, 1, 1, 1, 1, 1, 1, 1, 1, 1, 1, 1, 1, 1, 1, 1, 1, 1, 1, 1, 1, 1, 1, 1, 1, 1, 1, 1, 1, 1, 1, 1, 1, 1, 1, 1, 1, 1, 1, 1, 1, 1, 1, 1, 1, 1, 1, 1, 1, 1, 1, 1, 1, 1, 1, 1, 1, 1, 1, 1, 1, 1, 1, 1, 1, 1, 1, 1, 1, 1, 1, 1, 1, 1, 1, 1, 1, 1, 1, 1, 1, 1, 1, 1, 1, 1, 1, 1, 1, 1, 1, 1, 1, 1, 1, 1, 1, 1, 1, 1, 1, 1, 1, 1, 1, 1, 1, 1, 1, 1, 1, 1, 1, 1, 1, 1, 1, 1, 1, 1, 1, 1, 1, 1, 1, 1, 1, 1, 1, 1, 1, 1, 1, 1, 1, 1, 1, 1, 1, 1, 1, 1, 1, 1, 1, 1, 1, 1, 1, 1, 1, 1, 1, 1, 1, 1, 1, 1, 1, 1, 1, 1, 1, 1, 1, 1, 1, 1, 1, 1, 1, 1, 1, 1, 1, 1, 1, 1, 1, 1, 1, 1, 1, 1, 1, 1, 1, 1, 1, 1, 1, 1, 1, 1, 1, 1, 1, 1, 1, 1, 1, 1, 1, 1, 1, 1, 1, 1, 1, 1, 1, 1, 1, 1, 1, 1, 1, 1, 1, 1, 1, 1, 1, 1, 1, 1, 1, 1, 1, 1, 1, 1, 1, 1, 1, 1, 1, 1, 1, 1, 1, 1, 1, 1, 1, 1, 1, 1, 1, 1, 1, 1, 1, 1, 1, 1, 1, 1, 1, 1, 1, 1, 1, 1, 1, 1, 1, 1, 1, 1, 1, 1, 1, 1, 1, 1, 1, 1, 1, 1, 1, 1, 1, 1, 1, 1, 1, 1, 1, 1, 1, 1, 1, 1, 1, 1, 1, 1, 1, 1, 1, 1, 1, 1, 1, 1, 1, 1, 1, 1, 1, 1, 1, 1, 1, 1, 1, 1, 1, 1, 1, 1, 1, 1, 1, 1, 1, 1, 1, 1, 1, 1, 1, 1, 1, 1, 1, 1, 1, 1, 1, 1, 1, 1, 1, 1, 1, 1, 1, 1, 1, 1, 1, 1, 1, 1, 1, 1, 1, 1, 1, 1, 1, 1, 1, 1, 1, 1, 1, 1, 1, 1, 1, 1, 1, 1, 1, 1, 1, 1, 1, 1, 1, 1, 1, 1, 1, 1, 1, 1, 1, 1, 1, 1, 1, 1, 1, 1, 1, 1, 1, 1, 1, 1, 1, 1, 1, 1, 1, 1, 1, 1, 1, 1, 1, 1, 1, 1, 1, 1, 1, 1, 1, 1, 1, 1, 1, 1, 1, 1, 1, 1, 1, 1, 1, 1, 1, 1, 1, 1, 1, 1, 1, 1, 1, 1, 1, 1, 1, 1, 1, 1, 1, 1, 1, 1, 1, 1, 1, 1, 1, 1, 1, 1, 1, 1, 1, 1, 1, 1, 1, 1, 1, 1, 1, 1, 1, 1, 1, 1, 1, 1, 1, 1, 1, 1, 1, 1, 1, 1, 1, 1, 1, 1, 1, 1, 1, 1, 1, 1, 1, 1, 1, 1, 1, 1, 1, 1, 1, 1, 1, 1, 1, 1, 1, 1, 1, 1, 1, 1, 1, 1, 1, 1, 1, 1, 1, 1, 1, 1, 1, 1, 1, 1, 1, 1, 1, 1, 1, 1, 1, 1, 1, 1, 1, 1, 1, 1, 1, 1, 1, 1, 1, 1, 1, 1, 1, 1, 1, 1, 1, 1, 1, 1, 1, 1, 1, 1, 1, 1, 1, 1, 1, 1, 1, 1, 1, 1, 1, 1, 1, 1, 1, 1, 1, 1, 1, 1, 1, 1, 1, 1, 1, 1, 1, 1, 1, 1, 1, 1, 1, 1, 1, 1, 1, 1, 1, 1, 1, 1, 1, 1, 1, 1, 1, 1, 1, 1, 1, 1, 1, 1, 1, 1, 1, 1, 1, 1, 1, 1, 1, 1, 1, 1, 1, 1, 1, 1, 1, 1, 1, 1, 1, 1, 1, 1, 1, 1, 1, 1, 1, 1, 1, 1, 1, 1, 1, 1, 1, 1, 1, 1, 1, 1, 1, 1, 1, 1, 1, 1, 1, 1, 1, 1, 1, 1, 1, 1, 1, 1, 1, 1, 1, 1, 1, 1, 1, 1, 1, 1, 1, 1, 1, 1, 1, 1, 1, 1, 1, 1, 1, 1, 1, 1, 1, 1, 1, 1, 1, 1, 1, 1, 1, 1, 1, 1, 1, 1, 1, 1, 1, 1, 1, 1, 1, 1, 1, 1, 1, 1, 1, 1, 1, 1, 1, 1, 1, 1, 1, 1, 1, 1, 1, 1, 1, 1, 1, 1, 1, 1, 1, 1, 1, 1, 1, 1, 1, 1, 1, 1, 1, 1, 1, 1, 1, 1, 1, 1, 1, 1, 1, 1, 1, 1, 1, 1, 1, 1, 1, 1, 1, 1, 1, 1, 1, 1, 1, 1, 1, 1, 1, 1, 1, 1, 1, 1, 1, 1, 1, 1, 1, 1, 1, 1, 1, 1, 1, 1, 1, 1, 1, 1, 1, 1, 1, 1, 1, 1, 1, 1, 1, 1, 1, 1, 1, 1, 1, 1, 1, 1, 1, 1, 1, 1, 1, 1, 1, 1, 1, 1, 1, 1, 1, 1, 1, 1, 1, 1, 1, 1, 1, 1, 1, 1, 1, 1, 1, 1, 1, 1, 1, 1, 1, 1, 1, 1, 1, 1, 1, 1, 1, 1, 1, 1, 1, 1, 1, 1, 1, 1, 1, 1, 1, 1, 1, 1, 1, 1, 1, 1, 1, 1, 1, 1, 1, 1, 1, 1, 1, 1, 1, 1, 1, 1, 1, 1, 1, 1, 1, 1, 1, 1, 1, 1, 1, 1, 1, 1, 1, 1, 1, 1, 1, 1, 1, 1, 1, 1, 1, 1, 1, 1, 1, 1, 1, 1, 1, 1, 1, 1, 1, 1, 1, 1, 1, 1, 1, 1, 1, 1, 1, 1, 1, 1, 1, 1, 1, 1, 1, 1, 1, 1, 1, 1, 1, 1, 1, 1, 1, 1, 1, 1, 1, 1, 1, 1, 1, 1, 1, 1, 1, 1, 1, 1, 1, 1, 1, 1, 1, 1, 1, 1, 1, 1, 1, 1, 1, 1, 1, 1, 1, 1, 1, 1, 1, 1, 1, 1, 1, 1, 1, 1, 1, 1, 1, 1, 1, 1, 1, 1, 1, 1, 1, 1, 1, 1, 1, 1, 1, 1, 1, 1, 1, 1, 1, 1, 1, 1, 1, 1, 1, 1, 1, 1, 1, 1, 1, 1, 1, 1, 1, 1, 1, 1, 1, 1, 1, 1, 1, 1, 1, 1, 1, 1, 1, 1, 1, 1, 1, 1, 1, 1, 1, 1, 1, 1, 1, 1, 1, 1, 1, 1, 1, 1, 1, 1, 1, 1, 1, 1, 1, 1, 1, 1, 1, 1, 1, 1, 1, 1, 1, 1, 1, 1, 1, 1, 1, 1, 1, 1, 1, 1, 1, 1, 1, 1, 1, 1, 1, 1, 1, 1, 1, 1, 1, 1, 1, 1, 1, 1, 1, 1, 1, 1, 1, 1, 1, 1, 1, 1, 1, 1, 1, 1, 1, 1, 1, 1, 1, 1, 1, 1, 1, 1, 1, 1, 1, 1, 1, 1, 1, 1, 1, 1, 1, 1, 1, 1, 1, 1, 1, 1, 1, 1, 1, 1, 1, 1, 1, 1, 1, 1, 1, 1, 1, 1, 1, 1, 1, 1, 1, 1, 1, 1, 1, 1, 1, 1, 1, 1, 1, 1, 1, 1, 1, 1, 1, 1, 1, 1, 1, 1, 1, 1, 1, 1, 1, 1, 1, 1, 1, 1, 1, 1, 1, 1, 1, 1, 1, 1, 1, 1, 1, 1, 1, 1, 1, 1, 1, 1, 1, 1, 1, 1, 1, 1, 1, 1, 1, 1, 1, 1, 1, 1, 1, 1, 1, 1, 1, 1, 1, 1, 1, 1, 1, 1, 1, 1, 1, 1, 1, 1, 1, 1, 1, 1, 1, 1, 1, 1, 1, 1, 1, 1, 1, 1, 1, 1, 1, 1, 1, 1, 1, 1, 1, 1, 1, 1, 1, 1, 1, 1, 1, 1, 1, 1, 1, 1, 1, 1, 1, 1, 1, 1, 1, 1, 1, 1, 1, 1, 1, 1, 1, 1, 1, 1, 1, 1, 1, 1, 1, 1, 1, 1, 1, 1, 1, 1, 1, 1, 1, 1, 1, 1, 1, 1, 1, 1, 1, 1, 1, 1, 1, 1, 1, 1, 1, 1, 1, 1, 1, 1, 1, 1, 1, 1, 1, 1, 1, 1, 1, 1, 1, 1, 1, 1, 1, 1, 1, 1, 1, 1, 1, 1, 1, 1, 1, 1, 1, 1, 1, 1, 1, 1, 1, 1, 1, 1, 1, 1, 1, 1, 1, 1, 1, 1, 1, 1, 1, 1, 1, 1, 1, 1, 1, 1, 1, 1, 1, 1, 1, 1, 1, 1, 1, 1, 1, 1, 1, 1, 1, 1, 1, 1, 1, 1, 1, 1, 1, 1, 1, 1, 1, 1, 1, 1, 1, 1, 1, 1, 1, 1, 1, 1, 1, 1, 1, 1, 1, 1, 1, 1, 1, 1, 1, 1, 1, 1, 1, 1, 1, 1, 1, 1, 1, 1, 1, 1, 1, 1, 1, 1, 1, 1, 1, 1, 1, 1, 1, 1, 1, 1, 1, 1, 1, 1, 1, 1, 1, 1, 1, 1, 1, 1, 1, 1, 1, 1, 1, 1, 1, 1, 1, 1, 1, 1, 1, 1, 1, 1, 1, 1, 1, 1, 1, 1, 1, 1, 1, 1, 1, 1, 1, 1, 1, 1, 1, 1, 1, 1, 1, 1, 1, 1, 1, 1, 1, 1, 1, 1, 1, 1, 1, 1, 1, 1, 1, 1, 1, 1, 1, 1, 1, 1, 1, 1, 1, 1, 1, 1, 1, 1, 1, 1, 1, 1, 1, 1, 1, 1, 1, 1, 1, 1, 1, 1, 1, 1, 1, 1, 1, 1, 1, 1, 1, 1, 1, 1, 1, 1, 1, 1, 1, 1, 1, 1, 1, 1, 1, 1, 1, 1, 1, 1, 1, 1, 1, 1, 1, 1, 1, 1, 1, 1, 1, 1, 1, 1, 1, 1, 1, 1, 1, 1, 1, 1, 1, 1, 1, 1, 1, 1, 1, 1, 1, 1, 1, 1, 1, 1, 1, 1, 1, 1, 1, 1, 1, 1, 1, 1, 1, 1, 1, 1, 1, 1, 1, 1, 1, 1, 1, 1, 1, 1, 1, 1, 1, 1, 1, 1, 1, 1, 1, 1, 1, 1, 1, 1, 1, 1, 1, 1, 1, 1, 1, 1, 1, 1, 1, 1, 1, 1, 1, 1, 1, 1, 1, 1, 1, 1, 1, 1, 1, 1, 1, 1, 1, 1, 1, 1, 1, 1, 1, 1, 1, 1, 1, 1, 1, 1, 1, 1, 1, 1, 1, 1, 1, 1, 1, 1, 1, 1, 1, 1, 1, 1, 1, 1, 1, 1, 1, 1, 1, 1, 1, 1, 1, 1, 1, 1, 1, 1, 1, 1, 1, 1, 1, 1, 1, 1, 1, 1, 1, 1, 1, 1, 1, 1, 1, 1, 1, 1, 1, 1, 1, 1, 1, 1, 1, 1, 1, 1, 1, 1, 1, 1, 1, 1, 1, 1, 1, 1, 1, 1, 1, 1, 1, 1, 1, 1, 1, 1, 1, 1, 1, 1, 1, 1, 1, 1, 1, 1, 1, 1, 1, 1, 1, 1, 1, 1, 1, 1, 1, 1, 1, 1, 1, 1, 1, 1, 1, 1, 1, 1, 1, 1, 1, 1, 1, 1, 1, 1, 1, 1, 1, 1, 1, 1, 1, 1, 1, 1, 1, 1, 1, 1, 1, 1, 1, 1, 1, 1, 1, 1, 1, 1, 1, 1, 1, 1, 1, 1, 1, 1, 1, 1, 1, 1, 1, 1, 1, 1, 1, 1, 1, 1, 1, 1, 1, 1, 1, 1, 1, 1, 1, 1, 1, 1, 1, 1, 1, 1, 1, 1, 1, 1, 1, 1, 1, 1, 1, 1, 1, 1, 1, 1, 1, 1, 1, 1, 1, 1, 1, 1, 1, 1, 1, 1, 1, 1, 1, 1, 1, 1, 1, 1, 1, 1, 1, 1, 1, 1, 1, 1, 1, 1, 1, 1, 1, 1, 1, 1, 1, 1, 1, 1, 1, 1, 1, 1, 1, 1, 1, 1, 1, 1, 1, 1, 1, 1, 1, 1, 1, 1, 1, 1, 1, 1, 1, 1, 1, 1, 1, 1, 1, 1, 1, 1, 1, 1, 1, 1, 1, 1, 1, 1, 1, 1, 1, 1, 1, 1, 1, 1, 1, 1, 1, 1, 1, 1, 1, 1, 1, 1, 1, 1, 1, 1, 1, 1, 1, 1, 1, 1, 1, 1, 1, 1, 1, 1, 1, 1, 1, 1, 1, 1, 1, 1, 1, 1, 1, 1, 1, 1, 1, 1, 1, 1, 1, 1, 1, 1, 1, 1, 1, 1, 1, 1, 1, 1, 1, 1, 1, 1, 1, 1, 1, 1, 1, 1, 1, 1, 1, 1, 1, 1, 1, 1, 1, 1, 1, 1, 1, 1, 1, 1, 1, 1, 1, 1, 1, 1, 1, 1, 1, 1, 1, 1, 1, 1, 1, 1, 1, 1, 1, 1, 1, 1, 1, 1, 1, 1, 1, 1, 1, 1, 1, 1, 1, 1, 1, 1, 1, 1, 1, 1, 1, 1, 1, 1, 1, 1, 1, 1, 1, 1, 1, 1, 1, 1, 1, 1, 1, 1, 1, 1, 1, 1, 1, 1, 1, 1, 1, 1, 1, 1, 1, 1, 1, 1, 1, 1, 1, 1, 1, 1, 1, 1, 1, 1, 1, 1, 1, 1, 1, 1, 1, 1, 1, 1, 1, 1, 1, 1, 1, 1, 1, 1, 1, 1, 1, 1, 1, 1, 1, 1, 1, 1, 1, 1, 1, 1, 1, 1, 1, 1, 1, 1, 1, 1, 1, 1, 1, 1, 1, 1, 1, 1, 1, 1, 1, 1, 1, 1, 1, 1, 1, 1, 1, 1, 1, 1, 1, 1, 1, 1, 1, 1, 1, 1, 1, 1, 1, 1, 1, 1, 1, 1, 1, 1, 1, 1, 1, 1, 1, 1, 1, 1, 1, 1, 1, 1, 1, 1, 1, 1, 1, 1, 1, 1, 1, 1, 1, 1, 1, 1, 1, 1, 1, 1, 1, 1, 1, 1, 1, 1, 1, 1, 1, 1, 1, 1, 1, 1, 1, 1, 1, 1, 1, 1, 1, 1, 1, 1, 1, 1, 1, 1, 1, 1, 1, 1, 1, 1, 1, 1, 1, 1, 1, 1, 1, 1, 1, 1, 1, 1, 1, 1, 1, 1, 1, 1, 1, 1, 1, 1, 1, 1, 1, 1, 1, 1, 1, 1, 1, 1, 1, 1, 1, 1, 1, 1, 1, 1, 1, 1, 1, 1, 1, 1, 1, 1, 1, 1, 1, 1, 1, 1, 1, 1, 1, 1, 1, 1, 1, 1, 1, 1, 1, 1, 1, 1, 1, 1, 1, 1, 1, 1, 1, 1, 1, 1, 1, 1, 1, 1, 1, 1, 1, 1, 1, 1, 1, 1, 1, 1, 1, 1, 1, 1, 1, 1, 1, 1, 1, 1, 1, 1, 1, 1, 1, 1, 1, 1, 1, 1, 1, 1, 1, 1, 1, 1, 1, 1, 1, 1, 1, 1, 1, 1, 1, 1, 1, 1, 1, 1, 1, 1, 1, 1, 1, 1, 1, 1, 1, 1, 1, 1, 1, 1, 1, 1, 1, 1, 1, 1, 1, 1, 1, 1, 1, 1, 1, 1, 1, 1, 1, 1, 1, 1, 1, 1, 1, 1, 1, 1, 1, 1, 1, 1, 1, 1, 1, 1, 1, 1, 1, 1, 1, 1, 1, 1, 1, 1, 1, 1, 1, 1, 1, 1, 1, 1, 1, 1, 1, 1, 1, 1, 1, 1, 1, 1, 1, 1, 1, 1, 1, 1, 1, 1, 1, 1, 1, 1, 1, 1, 1, 1, 1, 1, 1, 1, 1, 1, 1, 1, 1, 1, 1, 1, 1, 1, 1, 1, 1, 1, 1, 1, 1, 1, 1, 1, 1, 1, 1, 1, 1, 1, 1, 1, 1, 1, 1, 1, 1, 1, 1, 1, 1, 1, 1, 1, 1, 1, 1, 1, 1, 1, 1, 1, 1, 1, 1, 1, 1, 1, 1, 1, 1, 1, 1, 1, 1, 1, 1, 1, 1, 1, 1, 1, 1, 1, 1, 1, 1, 1, 1, 1, 1, 1, 1, 1, 1, 1, 1, 1, 1, 1, 1, 1, 1, 1, 1, 1, 1, 1, 1, 1, 1, 1, 1, 1, 1, 1, 1, 1, 1, 1, 1, 1, 1, 1, 1, 1, 1, 1, 1, 1, 1, 1, 1, 1, 1, 1, 1, 1, 1, 1, 1, 1, 1, 1, 1, 1, 1, 1, 1, 1, 1, 1, 1, 1, 1, 1, 1, 1, 1, 1, 1, 1, 1, 1, 1, 1, 1, 1, 1, 1, 1, 1, 1, 1, 1, 1, 1, 1, 1, 1, 1, 1, 1, 1, 1, 1, 1, 1, 1, 1, 1, 1, 1, 1, 1, 1, 1, 1, 1, 1, 1, 1, 1, 1, 1, 1, 1, 1, 1, 1, 1, 1, 1, 1, 1, 1, 1, 1, 1, 1, 1, 1, 1, 1, 1, 1, 1, 1, 1, 1, 1, 1, 1, 1, 1, 1, 1, 1, 1, 1, 1, 1, 1, 1, 1, 1, 1, 1, 1, 1, 1, 1, 1, 1, 1, 1, 1, 1, 1, 1, 1, 1, 1, 1, 1, 1, 1, 1, 1, 1, 1, 1, 1, 1, 1, 1, 1, 1, 1, 1, 1, 1, 1, 1, 1, 1, 1, 1, 1, 1, 1, 1, 1, 1, 1, 1, 1, 1, 1, 1, 1, 1, 1, 1, 1, 1, 1, 1, 1, 1, 1, 1, 1, 1, 1, 1, 1, 1, 1, 1, 1, 1, 1, 1, 1, 1, 1, 1, 1, 1, 1, 1, 1, 1, 1, 1, 1, 1, 1, 1, 1, 1, 1, 1, 1, 1, 1, 1, 1, 1, 1, 1, 1, 1, 1, 1, 1, 1, 1, 1, 1, 1, 1, 1, 1, 1, 1, 1, 1, 1, 1, 1, 1, 1, 1, 1, 1, 1, 1, 1, 1, 1, 1, 1, 1, 1, 1, 1, 1, 1, 1, 1, 1, 1, 1, 1, 1, 1, 1, 1, 1, 1, 1, 1, 1, 1, 1, 1, 1, 1, 1, 1, 1, 1, 1, 1, 1, 1, 1, 1, 1, 1, 1, 1, 1, 1, 1, 1, 1, 1, 1, 1, 1, 1, 1, 1, 1, 1, 1, 1, 1, 1, 1, 1, 1, 1, 1, 1, 1, 1, 1, 1, 1, 1, 1, 1, 1, 1, 1, 1, 1, 1, 1, 1, 1, 1, 1, 1, 1, 1, 1, 1, 1, 1, 1, 1, 1, 1, 1, 1, 1, 1, 1, 1, 1, 1, 1, 1, 1, 1, 1, 1, 1, 1, 1, 1, 1, 1, 1, 1, 1, 1, 1, 1, 1, 1, 1, 1, 1, 1, 1, 1, 1, 1, 1, 1, 1, 1, 1, 1, 1, 1, 1, 1, 1, 1, 1, 1, 1, 1, 1, 1, 1, 1, 1, 1, 1, 1, 1, 1, 1, 1, 1, 1, 1, 1, 1, 1, 1, 1, 1, 1, 1, 1, 1, 1, 1, 1, 1, 1, 1, 1, 1, 1, 1, 1, 1, 1, 1, 1, 1, 1, 1, 1, 1, 1, 1, 1, 1, 1, 1, 1, 1, 1, 1, 1, 1, 1, 1, 1, 1, 1, 1, 1, 1, 1, 1, 1, 1, 1, 1, 1, 1, 1, 1, 1, 1, 1, 1, 1, 1, 1, 1, 1, 1, 1, 1, 1, 1, 1, 1, 1, 1, 1, 1, 1, 1, 1, 1, 1, 1, 1, 1, 1, 1, 1, 1, 1, 1, 1, 1, 1, 1, 1, 1, 1, 1, 1, 1, 1, 1, 1, 1, 1, 1, 1, 1, 1, 1, 1, 1, 1, 1, 1, 1, 1, 1, 1, 1, 1, 1, 1, 1, 1, 1, 1, 1, 1, 1, 1, 1, 1, 1, 1, 1, 1, 1, 1, 1, 1, 1, 1, 1, 1, 1, 1, 1, 1, 1, 1, 1, 1, 1, 1, 1, 1, 1, 1, 1, 1, 1, 1, 1, 1, 1, 1, 1, 1, 1, 1, 1, 1, 1, 1, 1, 1, 1, 1, 1, 1, 1, 1, 1, 1, 1, 1, 1, 1, 1, 1, 1, 1, 1, 1, 1, 1, 1, 1, 1, 1, 1, 1, 1, 1, 1, 1, 1, 1, 1, 1, 1, 1, 1, 1, 1, 1, 1, 1, 1, 1, 1, 1, 1, 1, 1, 1, 1, 1, 1, 1, 1, 1, 1, 1, 1, 1, 1, 1, 1, 1, 1, 1, 1, 1, 1, 1, 1, 1, 1, 1, 1, 1, 1, 1, 1, 1, 1, 1, 1, 1, 1, 1, 1, 1, 1, 1, 1, 1, 1, 1, 1, 1, 1, 1, 1, 1, 1, 1, 1, 1, 1, 1, 1, 1, 1, 1, 1, 1, 1, 1, 1, 1, 1, 1, 1, 1, 1, 1, 1, 1, 1, 1, 1, 1, 1, 1, 1, 1, 1, 1, 1, 1, 1, 1, 1, 1, 1, 1, 1, 1, 1, 1, 1, 1, 1, 1, 1, 1, 1, 1, 1, 1, 1, 1, 1, 1, 1, 1, 1, 1, 1, 1, 1, 1, 1, 1, 1, 1, 1, 1, 1, 1, 1, 1, 1, 1, 1, 1, 1, 1, 1, 1, 1, 1, 1, 1, 1, 1, 1, 1, 1, 1, 1, 1, 1, 1, 1, 1, 1, 1, 1, 1, 1, 1, 1, 1, 1, 1, 1, 1, 1, 1, 1, 1, 1, 1, 1, 1, 1, 1, 1, 1, 1, 1, 1, 1, 1, 1, 1, 1, 1, 1, 1, 1, 1, 1, 1, 1, 1, 1, 1, 1, 1, 1, 1, 1, 1, 1, 1, 1, 1, 1, 1, 1, 1, 1, 1, 1, 1, 1, 1, 1, 1, 1, 1, 1, 1, 1, 1, 1, 1, 1, 1, 1, 1, 1, 1, 1, 1, 1, 1, 1, 1, 1, 1, 1, 1, 1, 1, 1, 1, 1, 1, 1, 1, 1, 1, 1, 1, 1, 1, 1, 1, 1, 1, 1, 1, 1, 1, 1, 1, 1, 1, 1, 1, 1, 1, 1, 1, 1, 1, 1, 1, 1, 1, 1, 1, 1, 1, 1, 1, 1, 1, 1, 1, 1, 1, 1, 1, 1, 1, 1, 1, 1, 1, 1, 1, 1, 1, 1, 1, 1, 1, 1, 1, 1, 1, 1, 1, 1, 1, 1, 1, 1, 1, 1, 1, 1, 1, 1, 1, 1, 1, 1, 1, 1, 1, 1, 1, 1, 1, 1, 1, 1, 1, 1, 1, 1, 1, 1, 1, 1, 1, 1, 1, 1, 1, 1, 1, 1, 1, 1, 1, 1, 1, 1, 1, 1, 1, 1, 1, 1, 1, 1, 1, 1, 1, 1, 1, 1, 1, 1, 1, 1, 1, 1, 1, 1, 1, 1, 1, 1, 1, 1, 1, 1, 1, 1, 1, 1, 1, 1, 1, 1, 1, 1, 1, 1, 1, 1, 1, 1, 1, 1, 1, 1, 1, 1, 1, 1, 1, 1, 1, 1, 1, 1, 1, 1, 1, 1, 1, 1, 1, 1, 1, 1, 1, 1, 1, 1, 1, 1, 1, 1, 1, 1, 1, 1, 1, 1, 1, 1, 1, 1, 1, 1, 1, 1, 1, 1, 1, 1, 1, 1, 1, 1, 1, 1, 1, 1, 1, 1, 1, 1, 1, 1, 1, 1, 1, 1, 1, 1, 1, 1, 1, 1, 1, 1, 1, 1, 1, 1, 1, 1, 1, 1, 1, 1, 1, 1, 1, 1, 1, 1, 1, 1, 1, 1, 1, 1, 1, 1, 1, 1, 1, 1, 1, 1, 1, 1, 1, 1, 1, 1, 1, 1, 1, 1, 1, 1, 1, 1, 1, 1, 1, 1, 1, 1, 1, 1, 1, 1, 1, 1, 1, 1, 1, 1, 1, 1, 1, 1, 1, 1, 1, 1, 1, 1, 1, 1, 1, 1, 1, 1, 1, 1, 1, 1, 1, 1, 1, 1, 1, 1, 1, 1, 1, 1, 1, 1, 1, 1, 1, 1, 1, 1, 1, 1, 1, 1, 1, 1, 1, 1, 1, 1, 1, 1, 1, 1, 1, 1, 1, 1, 1, 1, 1, 1, 1, 1, 1, 1, 1, 1, 1, 1, 1, 1, 1, 1, 1, 1, 1, 1, 1, 1, 1, 1, 1, 1, 1, 1, 1, 1, 1, 1, 1, 1, 1, 1, 1, 1, 1, 1, 1, 1, 1, 1, 1, 1, 1, 1, 1, 1, 1, 1, 1, 1, 1, 1, 1, 1, 1, 1, 1, 1, 1, 1, 1, 1, 1, 1, 1, 1, 1, 1, 1, 1, 1, 1, 1, 1, 1, 1, 1, 1, 1, 1, 1, 1, 1, 1, 1, 1, 1, 1, 1, 1, 1, 1, 1, 1, 1, 1, 1, 1, 1, 1, 1, 1, 1, 1, 1, 1, 1, 1, 1, 1, 1, 1, 1, 1, 1, 1, 1, 1, 1, 1, 1, 1, 1, 1, 1, 1, 1, 1, 1, 1, 1, 1, 1, 1, 1, 1, 1, 1, 1, 1, 1, 1, 1, 1, 1, 1, 1, 1, 1, 1, 1, 1, 1, 1, 1, 1, 1, 1, 1, 1, 1, 1, 1, 1, 1, 1, 1, 1, 1, 1, 1, 1, 1, 1, 1, 1, 1, 1, 1, 1, 1, 1, 1, 1, 1, 1, 1, 1, 1, 1, 1, 1, 1, 1, 1, 1, 1, 1, 1, 1, 1, 1, 1, 1, 1, 1, 1, 1, 1, 1, 1, 1, 1, 1, 1, 1, 1, 1, 1, 1, 1, 1, 1, 1, 1, 1, 1, 1, 1, 1, 1, 1, 1, 1, 1, 1, 1, 1, 1, 1, 1, 1, 1, 1, 1, 1, 1, 1, 1, 1, 1, 1, 1, 1, 1, 1, 1, 1, 1, 1, 1, 1, 1, 1, 1, 1, 1, 1, 1, 1, 1, 1, 1, 1, 1, 1, 1, 1, 1, 1, 1, 1, 1, 1, 1, 1, 1, 1, 1, 1, 1, 1, 1, 1, 1, 1, 1, 1, 1, 1, 1, 1, 1, 1, 1, 1, 1, 1, 1, 1, 1, 1, 1, 1, 1, 1, 1, 1, 1, 1, 1, 1, 1, 1, 1, 1, 1, 1, 1, 1, 1, 1, 1, 1, 1, 1, 1, 1, 1, 1, 1, 1, 1, 1, 1, 1, 1, 1, 1, 1, 1, 1, 1, 1, 1, 1, 1, 1, 1, 1, 1, 1, 1, 1, 1, 1, 1, 1, 1, 1, 1, 1, 1, 1, 1, 1, 1, 1, 1, 1, 1, 1, 1, 1, 1, 1, 1, 1, 1, 1, 1, 1, 1, 1, 1, 1, 1, 1, 1, 1, 1, 1, 1, 1, 1, 1, 1, 1, 1, 1, 1, 1, 1, 1, 1, 1, 1, 1, 1, 1, 1, 1, 1, 1, 1, 1, 1, 1, 1, 1, 1, 1, 1, 1, 1, 1, 1, 1, 1, 1, 1, 1, 1, 1, 1, 1, 1, 1, 1, 1, 1, 1, 1, 1, 1, 1, 1, 1, 1, 1, 1, 1, 1, 1, 1, 1, 1, 1, 1, 1, 1, 1, 1, 1, 1, 1, 1, 1, 1, 1, 1, 1, 1, 1, 1, 1, 1, 1, 1, 1, 1, 1, 1, 1, 1, 1, 1, 1, 1, 1, 1, 1, 1, 1, 1, 1, 1, 1, 1, 1, 1, 1, 1, 1, 1, 1, 1, 1, 1, 1, 1, 1, 1, 1, 1, 1, 1, 1, 1, 1, 1, 1, 1, 1, 1, 1, 1, 1, 1, 1, 1, 1, 1, 1, 1, 1, 1, 1, 1, 1, 1, 1, 1, 1, 1, 1, 1, 1, 1, 1, 1, 1, 1, 1, 1, 1, 1, 1, 1, 1, 1, 1, 1, 1, 1, 1, 1, 1, 1, 1, 1, 1, 1, 1, 1, 1, 1, 1, 1, 1, 1, 1, 1, 1, 1, 1, 1, 1, 1, 1, 1, 1, 1, 1, 1, 1, 1, 1, 1, 1, 1, 1, 1, 1, 1, 1, 1, 1, 1, 1, 1, 1, 1, 1, 1, 1, 1, 1, 1, 1, 1, 1, 1, 1, 1, 1, 1, 1, 1, 1, 1, 1, 1, 1, 1, 1, 1, 1, 1, 1, 1, 1, 1, 1, 1, 1, 1, 1, 1, 1, 1, 1, 1, 1, 1, 1, 1, 1, 1, 1, 1, 1, 1, 1, 1, 1, 1, 1, 1, 1, 1, 1, 1, 1, 1, 1, 1, 1, 1, 1, 1, 1, 1, 1, 1, 1, 1, 1, 1, 1, 1, 1, 1, 1, 1, 1, 1, 1, 1, 1, 1, 1, 1, 1, 1, 1, 1, 1, 1, 1, 1, 1, 1, 1, 1, 1, 1, 1, 1, 1, 1, 1, 1, 1, 1, 1, 1, 1, 1, 1, 1, 1, 1, 1, 1, 1, 1, 1, 1, 1, 1, 1, 1, 1, 1, 1, 1, 1, 1, 1, 1, 1, 1, 1, 1, 1, 1, 1, 1, 1, 1, 1, 1, 1, 1, 1, 1, 1, 1, 1, 1, 1, 1, 1, 1, 1, 1, 1, 1, 1, 1, 1, 1, 1, 1, 1, 1, 1, 1, 1, 1, 1, 1, 1, 1, 1, 1, 1, 1, 1, 1, 1, 1, 1, 1, 1, 1, 1, 1, 1, 1, 1, 1, 1, 1, 1, 1, 1, 1, 1, 1, 1, 1, 1, 1, 1, 1, 1, 1, 1, 1, 1, 1, 1, 1, 1, 1, 1, 1, 1, 1, 1, 1, 1, 1, 1, 1, 1, 1, 1, 1, 1, 1, 1, 1, 1, 1, 1, 1, 1, 1, 1, 1, 1, 1, 1, 1, 1, 1, 1, 1, 1, 1, 1, 1, 1, 1, 1, 1, 1, 1, 1, 1, 1, 1, 1, 1, 1, 1, 1, 1, 1, 1, 1, 1, 1, 1, 1, 1, 1, 1, 1, 1, 1, 1, 1, 1, 1, 1, 1, 1, 1, 1, 1, 1, 1, 1, 1, 1, 1, 1, 1, 1, 1, 1, 1, 1, 1, 1, 1, 1, 1, 1, 1, 1, 1, 1, 1, 1, 1, 1, 1, 1, 1, 1, 1, 1, 1, 1, 1, 1, 1, 1, 1, 1, 1, 1, 1, 1, 1, 1, 1, 1, 1, 1, 1, 1, 1, 1, 1, 1, 1, 1, 1, 1, 1, 1, 1, 1, 1, 1, 1, 1, 1, 1, 1, 1, 1, 1, 1, 1, 1, 1, 1, 1, 1, 1, 1, 1, 1, 1, 1, 1, 1, 1, 1, 1, 1, 1, 1, 1, 1, 1, 1, 1, 1, 1, 1, 1, 1, 1, 1, 1, 1, 1, 1, 1, 1, 1, 1, 1, 1, 1, 1, 1, 1, 1, 1, 1, 1, 1, 1, 1, 1, 1, 1, 1, 1, 1, 1, 1, 1, 1, 1, 1, 1, 1, 1, 1, 1, 1, 1, 1, 1, 1, 1, 1, 1, 1, 1, 1, 1, 1, 1, 1, 1, 1, 1, 1, 1, 1, 1, 1, 1, 1, 1, 1, 1, 1, 1, 1, 1, 1, 1, 1, 1, 1, 1, 1, 1, 1, 1, 1, 1, 1, 1, 1, 1, 1, 1, 1, 1, 1, 1, 1, 1, 1, 1, 1, 1, 1, 1, 1, 1, 1, 1, 1, 1, 1, 1, 1, 1, 1, 1, 1, 1, 1, 1, 1, 1, 1, 1, 1, 1, 1, 1, 1, 1, 1, 1, 1, 1, 1, 1, 1, 1, 1, 1, 1, 1, 1, 1, 1, 1, 1, 1, 1, 1, 1, 1, 1, 1, 1, 1, 1, 1, 1, 1, 1, 1, 1, 1, 1, 1, 1, 1, 1, 1, 1, 1, 1, 1, 1, 1, 1, 1, 1, 1, 1, 1, 1, 1, 1, 1, 1, 1, 1, 1, 1, 1, 1, 1, 1, 1, 1, 1, 1, 1, 1, 1, 1, 1, 1, 1, 1, 1, 1, 1, 1, 1, 1, 1, 1, 1, 1, 1, 1, 1, 1, 1, 1, 1, 1, 1, 1, 1, 1, 1, 1, 1, 1, 1, 1, 1, 1, 1, 1, 1, 1, 1, 1, 1, 1, 1, 1, 1, 1, 1, 1, 1, 1, 1, 1, 1, 1, 1, 1, 1, 1, 1, 1, 1, 1, 1, 1, 1, 1, 1, 1, 1, 1, 1, 1, 1, 1, 1, 1, 1, 1, 1, 1, 1, 1, 1, 1, 1, 1, 1, 1, 1, 1, 1, 1, 1, 1, 1, 1, 1, 1, 1, 1, 1, 1, 1, 1, 1, 1, 1, 1, 1, 1, 1, 1, 1, 1, 1, 1, 1, 1, 1, 1, 1, 1, 1, 1, 1, 1, 1, 1, 1, 1, 1, 1, 1, 1, 1, 1, 1, 1, 1, 1, 1, 1, 1, 1, 1, 1, 1, 1, 1, 1, 1, 1, 1, 1, 1, 1, 1, 1, 1, 1, 1, 1, 1, 1, 1, 1, 1, 1, 1, 1, 1, 1, 1, 1, 1, 1, 1, 1, 1, 1, 1, 1, 1, 1, 1, 1, 1, 1, 1, 1, 1, 1, 1, 1, 1, 1, 1, 1, 1, 1, 1, 1, 1, 1, 1, 1, 1, 1, 1, 1, 1, 1, 1, 1, 1, 1, 1, 1, 1, 1, 1, 1, 1, 1, 1, 1, 1, 1, 1, 1, 1, 1, 1, 1, 1, 1, 1, 1, 1, 1, 1, 1, 1, 1, 1, 1, 1, 1, 1, 1, 1, 1, 1, 1, 1, 1, 1, 1, 1, 1, 1, 1, 1, 1, 1, 1, 1, 1, 1, 1, 1, 1, 1, 1, 1, 1, 1, 1, 1, 1, 1, 1, 1, 1, 1, 1, 1, 1, 1, 1, 1, 1, 1, 1, 1, 1, 1, 1, 1, 1, 1, 1, 1, 1, 1, 1, 1, 1, 1, 1, 1, 1, 1, 1, 1, 1, 1, 1, 1, 1, 1, 1, 1, 1, 1, 1, 1, 1, 1, 1, 1, 1, 1, 1, 1, 1, 1, 1, 1, 1, 1, 1, 1, 1, 1, 1, 1, 1, 1, 1, 1, 1, 1, 1, 1, 1, 1, 1, 1, 1, 1, 1, 1, 1, 1, 1, 1, 1, 1, 1, 1, 1, 1, 1, 1, 1, 1, 1, 1, 1, 1, 1, 1, 1, 1, 1, 1, 1, 1, 1, 1, 1, 1, 1, 1, 1, 1, 1, 1, 1, 1, 1, 1, 1, 1, 1, 1, 1, 1, 1, 1, 1, 1, 1, 1, 1, 1, 1, 1, 1, 1, 1, 1, 1, 1, 1, 1, 1, 1, 1, 1, 1, 1, 1, 1, 1, 1, 1, 1, 1, 1, 1, 1, 1, 1, 1, 1, 1, 1, 1, 1, 1, 1, 1, 1, 1, 1, 1, 1, 1, 1, 1, 1, 1, 1, 1, 1, 1, 1, 1, 1, 1, 1, 1, 1, 1, 1, 1, 1, 1, 1, 1, 1, 1, 1, 1, 1, 1, 1, 1, 1, 1, 1, 1, 1, 1, 1, 1, 1, 1, 1, 1, 1, 1, 1, 1, 1, 1, 1, 1, 1, 1, 1, 1, 1, 1, 1, 1, 1, 1, 1, 1, 1, 1, 1, 1, 1, 1, 1, 1, 1, 1, 1, 1, 1, 1, 1, 1, 1, 1, 1, 1, 1, 1, 1, 1, 1, 1, 1, 1, 1, 1, 1, 1, 1, 1, 1, 1, 1, 1, 1, 1, 1, 1, 1, 1, 1, 1, 1, 1, 1, 1, 1, 1, 1, 1, 1, 1, 1, 1, 1, 1, 1, 1, 1, 1, 1, 1, 1, 1, 1, 1, 1, 1, 1, 1, 1, 1, 1, 1, 1, 1, 1, 1, 1, 1, 1, 1, 1, 1, 1, 1, 1, 1, 1, 1, 1, 1, 1, 1, 1, 1, 1, 1, 1, 1, 1, 1, 1, 1, 1, 1, 1, 1, 1, 1, 1, 1, 1, 1, 1, 1, 1, 1, 1, 1, 1, 1, 1, 1, 1, 1, 1, 1, 1, 1, 1, 1, 1, 1, 1, 1, 1, 1, 1, 1, 1, 1, 1, 1, 1, 1, 1, 1, 1, 1, 1, 1, 1, 1, 1, 1, 1, 1, 1, 1, 1, 1, 1, 1, 1, 1, 1, 1, 1, 1, 1, 1, 1, 1, 1, 1, 1, 1, 1, 1, 1, 1, 1, 1, 1, 1, 1, 1, 1, 1, 1, 1, 1, 1, 1, 1, 1, 1, 1, 1, 1, 1, 1, 1, 1, 1, 1, 1, 1, 1, 1, 1, 1, 1, 1, 1, 1, 1, 1, 1, 1, 1, 1, 1, 1, 1, 1, 1, 1, 1, 1, 1, 1, 1, 1, 1, 1, 1, 1, 1, 1, 1, 1, 1, 1, 1, 1, 1, 1, 1, 1, 1, 1, 1, 1, 1, 1, 1, 1, 1, 1, 1, 1, 1, 1, 1, 1, 1, 1, 1, 1, 1, 1, 1, 1, 1, 1, 1, 1, 1, 1, 1, 1, 1, 1, 1, 1, 1, 1, 1, 1, 1, 1, 1, 1, 1, 1, 1, 1, 1, 1, 1, 1, 1, 1, 1, 1, 1, 1, 1, 1, 1, 1, 1, 1, 1, 1, 1, 1, 1, 1, 1, 1, 1, 1, 1, 1, 1, 1, 1, 1, 1, 1, 1, 1, 1, 1, 1, 1, 1, 1, 1, 1, 1, 1, 1, 1, 1, 1, 1, 1, 1, 1, 1, 1, 1, 1, 1, 1, 1, 1, 1, 1, 1, 1, 1, 1, 1, 1, 1, 1, 1, 1, 1, 1, 1, 1, 1, 1, 1, 1, 1, 1, 1, 1, 1, 1, 1, 1, 1, 1, 1, 1, 1, 1, 1, 1, 1, 1, 1, 1, 1, 1, 1, 1, 1, 1, 1, 1, 1, 1, 1, 1, 1, 1, 1, 1, 1, 1, 1, 1, 1, 1, 1, 1, 1, 1, 1, 1, 1, 1, 1, 1, 1, 1, 1, 1, 1, 1, 1, 1, 1, 1, 1, 1, 1, 1, 1, 1, 1, 1, 1, 1, 1, 1, 1, 1, 1, 1, 1, 1, 1, 1, 1, 1, 1, 1, 1, 1, 1, 1, 1, 1, 1, 1, 1, 1, 1, 1, 1, 1, 1, 1, 1, 1, 1, 1, 1, 1, 1, 1, 1, 1, 1, 1, 1, 1, 1, 1, 1, 1, 1, 1, 1, 1, 1, 1, 1, 1, 1, 1, 1, 1, 1, 1, 1, 1, 1, 1, 1, 1, 1, 1, 1, 1, 1, 1, 1, 1, 1, 1, 1, 1, 1, 1, 1, 1, 1, 1, 1, 1, 1, 1, 1, 1, 1, 1, 1, 1, 1, 1, 1, 1, 1, 1, 1, 1, 1, 1, 1, 1, 1, 1, 1, 1, 1, 1, 1, 1, 1, 1, 1, 1, 1, 1, 1, 1, 1, 1, 1, 1, 1, 1, 1, 1, 1, 1, 1, 1, 1, 1, 1, 1, 1, 1, 1, 1, 1, 1, 1, 1, 1, 1, 1, 1, 1, 1, 1, 1, 1, 1, 1, 1, 1, 1, 1, 1, 1, 1, 1, 1, 1, 1, 1, 1, 1, 1, 1, 1, 1, 1, 1, 1, 1, 1, 1, 1, 1, 1, 1, 1, 1, 1, 1, 1, 1, 1, 1, 1, 1, 1, 1, 1, 1, 1, 1, 1, 1, 1, 1, 1, 1, 1, 1, 1, 1, 1, 1, 1, 1, 1, 1, 1, 1, 1, 1, 1, 1, 1, 1, 1, 1, 1, 1, 1, 1, 1, 1, 1, 1, 1, 1, 1, 1, 1, 1, 1, 1, 1, 1, 1, 1, 1, 1, 1, 1, 1, 1, 1, 1, 1, 1, 1, 1, 1, 1, 1, 1, 1, 1, 1, 1, 1, 1, 1, 1, 1, 1, 1, 1, 1, 1, 1, 1, 1, 1, 1, 1, 1, 1, 1, 1, 1, 1, 1, 1, 1, 1, 1, 1, 1, 1, 1, 1, 1, 1, 1, 1, 1, 1, 1, 1, 1, 1, 1, 1, 1, 1, 1, 1, 1, 1, 1, 1, 1, 1, 1, 1, 1, 1, 1, 1, 1, 1, 1, 1, 1, 1, 1, 1, 1, 1, 1, 1, 1, 1, 1, 1, 1, 1, 1, 1, 1, 1, 1, 1, 1, 1, 1, 1, 1, 1, 1, 1, 1, 1, 1, 1, 1, 1, 1, 1, 1, 1, 1, 1, 1, 1, 1, 1, 1, 1, 1, 1, 1, 1, 1, 1, 1, 1, 1, 1, 1, 1, 1, 1, 1, 1, 1, 1, 1, 1, 1, 1, 1, 1, 1, 1, 1, 1, 1, 1, 1, 1, 1, 1, 1, 1, 1, 1, 1, 1, 1, 1, 1, 1, 1, 1, 1, 1, 1, 1, 1, 1, 1, 1, 1, 1, 1, 1, 1, 1, 1, 1, 1, 1, 1, 1, 1, 1, 1, 1, 1, 1, 1, 1, 1, 1, 1, 1, 1, 1, 1, 1, 1, 1, 1, 1, 1, 1, 1, 1, 1, 1, 1, 1, 1, 1, 1, 1, 1, 1, 1, 1, 1, 1, 1, 1, 1, 1, 1, 1, 1, 1, 1, 1, 1, 1, 1, 1, 1, 1, 1, 1, 1, 1, 1, 1, 1, 1, 1, 1, 1, 1, 1, 1, 1, 1, 1, 1, 1, 1, 1, 1, 1, 1, 1, 1, 1, 1, 1, 1, 1, 1, 1, 1, 1, 1, 1, 1, 1, 1, 1, 1, 1, 1, 1, 1, 1, 1, 1, 1, 1, 1, 1, 1, 1, 1, 1, 1, 1, 1, 1, 1, 1, 1, 1, 1, 1, 1, 1, 1, 1, 1, 1, 1, 1, 1, 1, 1, 1, 1, 1, 1, 1, 1, 1, 1, 1, 1, 1, 1, 1, 1, 1, 1, 1, 1, 1, 1, 1, 1, 1, 1, 1, 1, 1, 1, 1, 1, 1, 1, 1, 1, 1, 1, 1, 1, 1, 1, 1, 1, 1, 1, 1, 1, 1, 1, 1, 1, 1, 1, 1, 1, 1, 1, 1, 1, 1, 1, 1, 1, 1, 1, 1, 1, 1, 1, 1, 1, 1, 1, 1, 1, 1, 1, 1, 1, 1, 1, 1, 1, 1, 1, 1, 1, 1, 1, 1, 1, 1, 1, 1, 1, 1, 1, 1, 1, 1, 1, 1, 1, 1, 1, 1, 1, 1, 1, 1, 1, 1, 1, 1, 1, 1, 1, 1, 1, 1, 1, 1, 1, 1, 1, 1, 1, 1, 1, 1, 1, 1, 1, 1, 1, 1, 1, 1, 1, 1, 1, 1, 1, 1, 1, 1, 1, 1, 1, 1, 1, 1, 1, 1, 1, 1, 1, 1, 1, 1, 1, 1, 1, 1, 1, 1, 1, 1, 1, 1, 1, 1, 1, 1, 1, 1, 1, 1, 1, 1, 1, 1, 1, 1, 1, 1, 1, 1, 1, 1, 1, 1, 1, 1, 1, 1, 1, 1, 1, 1, 1, 1, 1, 1, 1, 1, 1, 1, 1, 1, 1, 1, 1, 1, 1, 1, 1, 1, 1, 1, 1, 1, 1, 1, 1, 1, 1, 1, 1, 1, 1, 1, 1, 1, 1, 1, 1, 1, 1, 1, 1, 1, 1, 1, 1, 1, 1, 1, 1, 1, 1, 1, 1, 1, 1, 1, 1, 1, 1, 1, 1, 1, 1, 1, 1, 1, 1, 1, 1, 1, 1, 1, 1, 1, 1, 1, 1, 1, 1, 1, 1, 1, 1, 1, 1, 1, 1, 1, 1, 1, 1, 1, 1, 1, 1, 1, 1, 1, 1, 1, 1, 1, 1, 1, 1, 1, 1, 1, 1, 1, 1, 1, 1, 1, 1, 1, 1, 1, 1, 1, 1, 1, 1, 1, 1, 1, 1, 1, 1, 1, 1, 1, 1, 1, 1, 1, 1, 1, 1, 1, 1, 1, 1, 1, 1, 1, 1, 1, 1, 1, 1, 1, 1, 1, 1, 1, 1, 1, 1, 1, 1, 1, 1, 1, 1, 1, 1, 1, 1, 1, 1, 1, 1, 1, 1, 1, 1, 1, 1, 1, 1, 1, 1, 1, 1, 1, 1, 1, 1, 1, 1, 1, 1, 1, 1, 1, 1, 1, 1, 1, 1, 1, 1, 1, 1, 1, 1, 1, 1, 1, 1, 1, 1, 1, 1, 1, 1, 1, 1, 1, 1, 1, 1, 1, 1, 1, 1, 1, 1, 1, 1, 1, 1, 1, 1, 1, 1, 1, 1, 1, 1, 1, 1, 1, 1, 1, 1, 1, 1, 1, 1, 1, 1, 1, 1, 1, 1, 1, 1, 1, 1, 1, 1, 1, 1, 1, 1, 1, 1, 1, 1, 1, 1, 1, 1, 1, 1, 1, 1, 1, 1, 1, 1, 1, 1, 1, 1, 1, 1, 1, 1, 1, 1, 1, 1, 1, 1, 1, 1, 1, 1, 1, 1, 1, 1, 1, 1, 1, 1, 1, 1, 1, 1, 1, 1, 1, 1, 1, 1, 1, 1, 1, 1, 1, 1, 1, 1, 1, 1, 1, 1, 1, 1, 1, 1, 1, 1, 1, 1, 1, 1, 1, 1, 1, 1, 1, 1, 1, 1, 1, 1, 1, 1, 1, 1, 1, 1, 1, 1, 1, 1, 1, 1, 1, 1, 1, 1, 1, 1, 1, 1, 1, 1, 1, 1, 1, 1, 1, 1, 1, 1, 1, 1, 1, 1, 1, 1, 1, 1, 1, 1, 1, 1, 1, 1, 1, 1, 1, 1, 1, 1, 1, 1, 1, 1, 1, 1, 1, 1, 1, 1, 1, 1, 1, 1, 1, 1, 1, 1, 1, 1, 1, 1, 1, 1, 1, 1, 1, 1, 1, 1, 1, 1, 1, 1, 1, 1, 1, 1, 1, 1, 1, 1, 1, 1, 1, 1, 1, 1, 1, 1, 1, 1, 1, 1, 1, 1, 1, 1, 1, 1, 1, 1, 1, 1, 1, 1, 1, 1, 1, 1, 1, 1, 1, 1, 1, 1, 1, 1, 1, 1, 1, 1, 1, 1, 1, 1, 1, 1, 1, 1, 1, 1, 1, 1, 1, 1, 1, 1, 1, 1, 1, 1, 1, 1, 1, 1, 1, 1, 1, 1, 1, 1, 1, 1, 1, 1, 1, 1, 1, 1, 1, 1, 1, 1, 1, 1, 1, 1, 1, 1, 1, 1, 1, 1, 1, 1, 1, 1, 1, 1, 1, 1, 1, 1, 1, 1, 1, 1, 1, 1, 1, 1, 1, 1, 1, 1, 1, 1, 1, 1, 1, 1, 1, 1, 1, 1, 1, 1, 1, 1, 1, 1, 1, 1, 1, 1, 1, 1, 1, 1, 1, 1, 1, 1, 1, 1, 1, 1, 1, 1, 1, 1, 1, 1, 1, 1, 1, 1, 1, 1, 1, 1, 1, 1, 1, 1, 1, 1, 1, 1, 1, 1, 1, 1, 1, 1, 1, 1, 1, 1, 1, 1, 1, 1, 1, 1, 1, 1, 1, 1, 1, 1, 1, 1, 1, 1, 1, 1, 1, 1, 1, 1, 1, 1, 1, 1, 1, 1, 1, 1, 1, 1, 1, 1, 1, 1, 1, 1, 1, 1, 1, 1, 1, 1, 1, 1, 1, 1, 1, 1, 1, 1, 1, 1, 1, 1, 1, 1, 1, 1, 1, 1, 1, 1, 1, 1, 1, 1, 1, 1, 1, 1, 1, 1, 1, 1, 1, 1, 1, 1, 1, 1, 1, 1, 1, 1, 1, 1, 1, 1, 1, 1, 1, 1, 1, 1, 1, 1, 1, 1, 1, 1, 1, 1, 1, 1, 1, 1, 1, 1, 1, 1, 1, 1, 1, 1, 1, 1, 1, 1, 1, 1, 1, 1, 1, 1, 1, 1, 1, 1, 1, 1, 1, 1, 1, 1, 1, 1, 1, 1, 1, 1, 1, 1, 1, 1, 1, 1, 1, 1, 1, 1, 1, 1, 1, 1, 1, 1, 1, 1, 1, 1, 1, 1, 1, 1, 1, 1, 1, 1, 1, 1, 1, 1, 1, 1, 1, 1, 1, 1, 1, 1, 1, 1, 1, 1, 1, 1, 1, 1, 1, 1, 1, 1, 1, 1, 1, 1, 1, 1, 1, 1, 1, 1, 1, 1, 1, 1, 1, 1, 1, 1, 1, 1, 1, 1, 1, 1, 1, 1, 1, 1, 1, 1, 1, 1, 1, 1, 1, 1, 1, 1, 1, 1, 1, 1, 1, 1, 1, 1, 1, 1, 1, 1, 1, 1, 1, 1, 1, 1, 1, 1, 1, 1, 1, 1, 1, 1, 1, 1, 1, 1, 1, 1, 1, 1, 1, 1, 1, 1, 1, 1, 1, 1, 1, 1, 1, 1, 1, 1, 1, 1, 1, 1, 1, 1, 1, 1, 1, 1, 1, 1, 1, 1, 1, 1, 1, 1, 1, 1, 1, 1, 1, 1, 1, 1, 1, 1, 1, 1, 1, 1, 1, 1, 1, 1, 1, 1, 1, 1, 1, 1, 1, 1, 1, 1, 1, 1, 1, 1, 1, 1, 1, 1, 1, 1, 1, 1, 1, 1, 1, 1, 1, 1, 1, 1, 1, 1, 1, 1, 1, 1, 1, 1, 1, 1, 1, 1, 1, 1, 1, 1, 1, 1, 1, 1, 1, 1, 1, 1, 1, 1, 1, 1, 1, 1, 1, 1, 1, 1, 1, 1, 1, 1, 1, 1, 1, 1, 1, 1, 1, 1, 1, 1, 1, 1, 1, 1, 1, 1, 1, 1, 1, 1, 1, 1, 1, 1, 1, 1, 1, 1, 1, 1, 1, 1, 1, 1, 1, 1, 1, 1, 1, 1, 1, 1, 1, 1, 1, 1, 1, 1, 1, 1, 1, 1, 1, 1, 1, 1, 1, 1, 1, 1, 1, 1, 1, 1, 1, 1, 1, 1, 1, 1, 1, 1, 1, 1, 1, 1, 1, 1, 1, 1, 1, 1, 1, 1, 1, 1, 1, 1, 1, 1, 1, 1, 1, 1, 1, 1, 1, 1, 1, 1, 1, 1, 1, 1, 1, 1, 1, 1, 1, 1, 1, 1, 1, 1, 1, 1, 1, 1, 1, 1, 1, 1, 1, 1, 1, 1, 1, 1, 1, 1, 1, 1, 1, 1, 1, 1, 1, 1, 1, 1, 1, 1, 1, 1, 1, 1, 1, 1, 1, 1, 1, 1, 1, 1, 1, 1, 1, 1, 1, 1, 1, 1, 1, 1, 1, 1, 1, 1, 1, 1, 1, 1, 1, 1, 1, 1, 1, 1, 1, 1, 1, 1, 1, 1, 1, 1, 1, 1, 1, 1, 1, 1, 1, 1, 1, 1, 1, 1, 1, 1, 1, 1, 1, 1, 1, 1, 1, 1, 1, 1, 1, 1, 1, 1, 1, 1, 1, 1, 1, 1, 1, 1, 1, 1, 1, 1, 1, 1, 1, 1, 1, 1, 1, 1, 1, 1, 1, 1, 1, 1, 1, 1, 1, 1, 1, 1, 1, 1, 1, 1, 1, 1, 1, 1, 1, 1, 1, 1, 1, 1, 1, 1, 1, 1, 1, 1, 1, 1, 1, 1, 1, 1, 1, 1, 1, 1, 1, 1, 1, 1, 1, 1, 1, 1, 1, 1, 1, 1, 1, 1, 1, 1, 1, 1, 1, 1, 1, 1, 1, 1, 1, 1, 1, 1, 1, 1, 1, 1, 1, 1, 1, 1, 1, 1, 1, 1, 1, 1, 1, 1, 1, 1, 1, 1, 1, 1, 1, 1, 1, 1, 1, 1, 1, 1, 1, 1, 1, 1, 1, 1, 1, 1, 1, 1, 1, 1, 1, 1, 1, 1, 1, 1, 1, 1, 1, 1, 1, 1, 1, 1, 1, 1, 1, 1, 1, 1, 1, 1, 1, 1, 1, 1, 1, 1, 1, 1, 1, 1, 1, 1, 1, 1, 1, 1, 1, 1, 1, 1, 1, 1, 1, 1, 1, 1, 1, 1, 1, 1, 1, 1, 1, 1, 1, 1, 1, 1, 1, 1, 1, 1, 1, 1, 1, 1, 1, 1, 1, 1, 1, 1, 1, 1, 1, 1, 1, 1, 1, 1, 1, 1, 1, 1, 1, 1, 1, 1, 1, 1, 1, 1, 1, 1, 1, 1, 1, 1, 1, 1, 1, 1, 1, 1, 1, 1, 1, 1, 1, 1, 1, 1, 1, 1, 1, 1, 1, 1, 1, 1, 1, 1, 1, 1, 1, 1, 1, 1, 1, 1, 1, 1, 1, 1, 1, 1, 1, 1, 1, 1, 1, 1, 1, 1, 1, 1, 1, 1, 1, 1, 1, 1, 1, 1, 1, 1, 1, 1, 1, 1, 1, 1, 1, 1, 1, 1, 1, 1, 1, 1, 1, 1, 1, 1, 1, 1, 1, 1, 1, 1, 1, 1, 1, 1, 1, 1, 1, 1, 1, 1, 1, 1, 1, 1, 1, 1, 1, 1, 1, 1, 1, 1, 1, 1, 1, 1, 1, 1, 1, 1, 1, 1, 1, 1, 1, 1, 1, 1, 1, 1, 1, 1, 1, 1, 1, 1, 1, 1, 1, 1, 1, 1, 1, 1, 1, 1, 1, 1, 1, 1, 1, 1, 1, 1, 1, 1, 1, 1, 1, 1, 1, 1, 1, 1, 1, 1, 1, 1, 1, 1, 1, 1, 1, 1, 1, 1, 1, 1, 1, 1, 1, 1, 1, 1, 1, 1, 1, 1, 1, 1, 1, 1, 1, 1, 1, 1, 1, 1, 1, 1, 1, 1, 1, 1, 1, 1, 1, 1, 1, 1, 1, 1, 1, 1, 1, 1, 1, 1, 1, 1, 1, 1, 1, 1, 1, 1, 1, 1, 1, 1, 1, 1, 1, 1, 1, 1, 1, 1, 1, 1, 1, 1, 1, 1, 1, 1, 1, 1, 1, 1, 1, 1, 1, 1, 1, 1, 1, 1, 1, 1, 1, 1, 1, 1, 1, 1, 1, 1, 1, 1, 1, 1, 1, 1, 1, 1, 1, 1, 1, 1, 1, 1, 1, 1, 1, 1, 1, 1, 1, 1, 1, 1, 1, 1, 1, 1, 1, 1, 1, 1, 1, 1, 1, 1, 1, 1, 1, 1, 1, 1, 1, 1, 1, 1, 1, 1, 1, 1, 1, 1, 1, 1, 1, 1, 1, 1, 1, 1, 1, 1, 1, 1, 1, 1, 1, 1, 1, 1, 1, 1, 1, 1, 1, 1, 1, 1, 1, 1, 1, 1, 1, 1, 1, 1, 1, 1, 1, 1, 1, 1, 1, 1, 1, 1, 1, 1, 1, 1, 1, 1, 1, 1, 1, 1, 1, 1, 1, 1, 1, 1, 1, 1, 1, 1, 1, 1, 1, 1, 1, 1, 1, 1, 1, 1, 1, 1, 1, 1, 1, 1, 1, 1, 1, 1, 1, 1, 1, 1, 1, 1, 1, 1, 1, 1, 1, 1, 1, 1, 1, 1, 1, 1, 1, 1, 1, 1, 1, 1, 1, 1, 1, 1, 1, 1, 1, 1, 1, 1, 1, 1, 1, 1, 1, 1, 1, 1, 1, 1, 1, 1, 1, 1, 1, 1, 1, 1, 1, 1, 1, 1, 1, 1, 1, 1, 1, 1, 1, 1, 1, 1, 1, 1, 1, 1, 1, 1, 1, 1, 1, 1, 1, 1, 1, 1, 1, 1, 1, 1, 1, 1, 1, 1, 1, 1, 1, 1, 1, 1, 1, 1, 1, 1, 1, 1, 1, 1, 1, 1, 1, 1, 1, 1, 1, 1, 1, 1, 1, 1, 1, 1, 1, 1, 1, 1, 1, 1, 1, 1, 1, 1, 1, 1, 1, 1, 1, 1, 1, 1, 1, 1, 1, 1, 1, 1, 1, 1, 1, 1, 1, 1, 1, 1, 1, 1, 1, 1, 1, 1, 1, 1, 1, 1, 1, 1, 1, 1, 1, 1, 1, 1, 1, 1, 1, 1, 1, 1, 1, 1, 1, 1, 1, 1, 1, 1, 1, 1, 1, 1, 1, 1, 1, 1, 1, 1, 1, 1, 1, 1, 1, 1, 1, 1, 1, 1, 1, 1, 1, 1, 1, 1, 1, 1, 1, 1, 1, 1, 1, 1, 1, 1, 1, 1, 1, 1, 1, 1, 1, 1, 1, 1, 1, 1, 1, 1, 1, 1, 1, 1, 1, 1, 1, 1, 1, 1, 1, 1, 1, 1, 1, 1, 1, 1, 1, 1, 1, 1, 1, 1, 1, 1, 1, 1, 1, 1, 1, 1, 1, 1, 1, 1, 1, 1, 1, 1, 1, 1, 1, 1, 1, 1, 1, 1, 1, 1, 1, 1, 1, 1, 1, 1, 1, 1, 1, 1, 1, 1, 1, 1, 1, 1, 1, 1, 1, 1, 1, 1, 1, 1, 1, 1, 1, 1, 1, 1, 1, 1, 1, 1, 1, 1, 1, 1, 1, 1, 1, 1, 1, 1, 1, 1, 1, 1, 1, 1, 1, 1, 1, 1, 1, 1, 1, 1, 1, 1, 1, 1, 1, 1, 1, 1, 1, 1, 1, 1, 1, 1, 1, 1, 1, 1, 1, 1, 1, 1, 1, 1, 1, 1, 1, 1, 1, 1, 1, 1, 1, 1, 1, 1, 1, 1, 1, 1, 1, 1, 1, 1, 1, 1, 1, 1, 1, 1, 1, 1, 1, 1, 1, 1, 1, 1, 1, 1, 1, 1, 1, 1, 1, 1, 1, 1, 1, 1, 1, 1, 1, 1, 1, 1, 1, 1, 1, 1, 1, 1, 1, 1, 1, 1, 1, 1, 1, 1, 1, 1, 1, 1, 1, 1, 1, 1, 1, 1, 1, 1, 1, 1, 1, 1, 1, 1, 1, 1, 1, 1, 1, 1, 1, 1, 1, 1, 1, 1, 1, 1, 1, 1, 1, 1, 1, 1, 1, 1, 1, 1, 1, 1, 1, 1, 1, 1, 1, 1, 1, 1, 1, 1, 1, 1, 1, 1, 1, 1, 1, 1, 1, 1, 1, 1, 1, 1, 1, 1, 1, 1, 1, 1, 1, 1, 1, 1, 1, 1, 1, 1, 1, 1, 1, 1, 1, 1, 1, 1, 1, 1, 1, 1, 1, 1, 1, 1, 1, 1, 1, 1, 1, 1, 1, 1, 1, 1, 1, 1, 1, 1, 1, 1, 1, 1, 1, 1, 1, 1, 1, 1, 1, 1, 1, 1, 1, 1, 1, 1, 1, 1, 1, 1, 1, 1, 1, 1, 1, 1, 1, 1, 1, 1, 1, 1, 1, 1, 1, 1, 1, 1, 1, 1, 1, 1, 1, 1, 1, 1, 1, 1, 1, 1, 1, 1, 1, 1, 1, 1, 1, 1, 1, 1, 1, 1, 1, 1, 1, 1, 1, 1, 1, 1, 1, 1, 1, 1, 1, 1, 1, 1, 1, 1, 1, 1, 1, 1, 1, 1, 1, 1, 1, 1, 1, 1, 1, 1, 1, 1, 1, 1, 1, 1, 1, 1, 1, 1, 1, 1, 1, 1, 1, 1, 1, 1, 1, 1, 1, 1, 1, 1, 1, 1, 1, 1, 1, 1, 1, 1, 1, 1, 1, 1, 1, 1, 1, 1, 1, 1, 1, 1, 1, 1, 1, 1, 1, 1, 1, 1, 1, 1, 1, 1, 1, 1, 1, 1, 1, 1, 1, 1, 1, 1, 1, 1, 1, 1, 1, 1, 1, 1, 1, 1, 1, 1, 1, 1, 1, 1, 1, 1, 1, 1, 1, 1, 1, 1, 1, 1, 1, 1, 1, 1, 1, 1, 1, 1, 1, 1, 1, 1, 1, 1, 1, 1, 1, 1, 1, 1, 1, 1, 1, 1, 1, 1, 1, 1, 1, 1, 1, 1, 1, 1, 1, 1, 1, 1, 1, 1, 1, 1, 1, 1, 1, 1, 1, 1, 1, 1, 1, 1, 1, 1, 1, 1, 1, 1, 1, 1, 1, 1, 1, 1, 1, 1, 1, 1, 1, 1, 1, 1, 1, 1, 1, 1, 1, 1, 1, 1, 1, 1, 1, 1, 1, 1, 1, 1, 1, 1, 1, 1, 1, 1, 1, 1, 1, 1, 1, 1, 1, 1, 1, 1, 1, 1, 1, 1, 1, 1, 1, 1, 1, 1, 1, 1, 1, 1, 1, 1, 1, 1, 1, 1, 1, 1, 1, 1, 1, 1, 1, 1, 1, 1, 1, 1, 1, 1, 1, 1, 1, 1, 1, 1, 1, 1, 1, 1, 1, 1, 1, 1, 1, 1, 1, 1, 1, 1, 1, 1, 1, 1, 1, 1, 1, 1, 1, 1, 1, 1, 1, 1, 1, 1, 1, 1, 1, 1, 1, 1, 1, 1, 1, 1, 1, 1, 1, 1, 1, 1, 1, 1, 1, 1, 1, 1, 1, 1, 1, 1, 1, 1, 1, 1, 1, 1, 1, 1, 1, 1, 1, 1, 1, 1, 1, 1, 1, 1, 1, 1, 1, 1, 1, 1, 1, 1, 1, 1, 1, 1, 1, 1, 1, 1, 1, 1, 1, 1, 1, 1, 1, 1, 1, 1, 1, 1, 1, 1, 1, 1, 1, 1, 1, 1, 1, 1, 1, 1, 1, 1, 1, 1, 1, 1, 1, 1, 1, 1, 1, 1, 1, 1, 1, 1, 1, 1, 1, 1, 1, 1, 1, 1, 1, 1, 1, 1, 1, 1, 1, 1, 1, 1, 1, 1, 1, 1, 1, 1, 1, 1, 1, 1, 1, 1, 1, 1, 1, 1, 1, 1, 1, 1, 1, 1, 1, 1, 1, 1, 1, 1, 1, 1, 1, 1, 1, 1, 1, 1, 1, 1, 1, 1, 1, 1, 1, 1, 1, 1, 1, 1, 1, 1, 1, 1, 1, 1, 1, 1, 1, 1, 1, 1, 1, 1, 1, 1, 1, 1, 1, 1, 1, 1, 1, 1, 1, 1, 1, 1, 1, 1, 1, 1, 1, 1, 1, 1, 1, 1, 1, 1, 1, 1, 1, 1, 1, 1, 1, 1, 1, 1, 1, 1, 1, 1, 1, 1, 1, 1, 1, 1, 1, 1, 1, 1, 1, 1, 1, 1, 1, 1, 1, 1, 1, 1, 1, 1, 1, 1, 1, 1, 1, 1, 1, 1, 1, 1, 1, 1, 1, 1, 1, 1, 1, 1, 1, 1, 1, 1, 1, 1, 1, 1, 1, 1, 1, 1, 1, 1, 1, 1, 1, 1, 1, 1, 1, 1, 1, 1, 1, 1, 1, 1, 1, 1, 1, 1, 1, 1, 1, 1, 1, 1, 1, 1, 1, 1, 1, 1, 1, 1, 1, 1, 1, 1, 1, 1, 1, 1, 1, 1, 1, 1, 1, 1, 1, 1, 1, 1, 1, 1, 1, 1, 1, 1, 1, 1, 1, 1, 1, 1, 1, 1, 1, 1, 1, 1, 1, 1, 1, 1, 1, 1, 1, 1, 1, 1, 1, 1, 1, 1, 1, 1, 1, 1, 1, 1, 1, 1, 1, 1, 1, 1, 1, 1, 1, 1, 1, 1, 1, 1, 1, 1, 1, 1, 1, 1, 1, 1, 1, 1, 1, 1, 1, 1, 1, 1, 1, 1, 1, 1, 1, 1, 1, 1, 1, 1, 1, 1, 1, 1, 1, 1, 1, 1, 1, 1, 1, 1, 1, 1, 1, 1, 1, 1, 1, 1, 1, 1, 1, 1, 1, 1, 1, 1, 1, 1, 1, 1, 1, 1, 1, 1, 1, 1, 1, 1, 1, 1, 1, 1, 1, 1, 1, 1, 1, 1, 1, 1, 1, 1, 1, 1, 1, 1, 1, 1, 1, 1, 1, 1, 1, 1, 1, 1, 1, 1, 1, 1, 1, 1, 1, 1, 1, 1, 1, 1, 1, 1, 1, 1, 1, 1, 1, 1, 1, 1, 1, 1, 1, 1, 1, 1, 1, 1, 1, 1, 1, 1, 1, 1, 1, 1, 1, 1, 1, 1, 1, 1, 1, 1, 1, 1, 1, 1, 1, 1, 1, 1, 1, 1, 1, 1, 1, 1, 1, 1, 1, 1, 1, 1, 1, 1, 1, 1, 1, 1, 1, 1, 1, 1, 1, 1, 1, 1, 1, 1, 1, 1, 1, 1, 1, 1, 1, 1, 1, 1, 1, 1, 1, 1, 1, 1, 1, 1, 1, 1, 1, 1, 1, 1, 1, 1, 1, 1, 1, 1, 1, 1, 1, 1, 1, 1, 1, 1, 1, 1, 1, 1, 1, 1, 1, 1, 1, 1, 1, 1, 1, 1, 1, 1, 1, 1, 1, 1, 1, 1, 1, 1, 1, 1, 1, 1, 1, 1, 1, 1, 1, 1, 1, 1, 1, 1, 1, 1, 1, 1, 1, 1, 1, 1, 1, 1, 1, 1, 1, 1, 1, 1, 1, 1, 1, 1, 1, 1, 1, 1, 1, 1, 1, 1, 1, 1, 1, 1, 1, 1, 1, 1, 1, 1, 1, 1, 1, 1, 1, 1, 1, 1, 1, 1, 1, 1, 1, 1, 1, 1, 1, 1, 1, 1, 1, 1, 1, 1, 1, 1, 1, 1, 1, 1, 1, 1, 1, 1, 1, 1, 1, 1, 1, 1, 1, 1, 1, 1, 1, 1, 1, 1, 1, 1, 1, 1, 1, 1, 1, 1, 1, 1, 1, 1, 1, 1, 1, 1, 1, 1, 1, 1, 1, 1, 1, 1, 1, 1, 1, 1, 1, 1, 1, 1, 1, 1, 1, 1, 1, 1, 1, 1, 1, 1, 1, 1, 1, 1, 1, 1, 1, 1, 1, 1, 1, 1, 1, 1, 1, 1, 1, 1, 1, 1, 1, 1, 1, 1, 1, 1, 1, 1, 1, 1, 1, 1, 1, 1, 1, 1, 1, 1, 1, 1, 1, 1, 1, 1, 1, 1, 1, 1, 1, 1, 1, 1, 1, 1, 1, 1, 1, 1, 1, 1, 1, 1, 1, 1, 1, 1, 1, 1, 1, 1, 1, 1, 1, 1, 1, 1, 1, 1, 1, 1, 1, 1, 1, 1, 1, 1, 1, 1, 1, 1, 1, 1, 1, 1, 1, 1, 1, 1, 1, 1, 1, 1, 1, 1, 1, 1, 1, 1, 1, 1, 1, 1, 1, 1, 1, 1, 1, 1, 1, 1, 1, 1, 1, 1, 1, 1, 1, 1, 1, 1, 1, 1, 1, 1, 1, 1, 1, 1, 1, 1, 1, 1, 1, 1, 1, 1, 1, 1, 1, 1, 1, 1, 1, 1, 1, 1, 1, 1, 1, 1, 1, 1, 1, 1, 1, 1, 1, 1, 1, 1, 1, 1, 1, 1, 1, 1, 1, 1, 1, 1, 1, 1, 1, 1, 1, 1, 1, 1, 1, 1, 1, 1, 1, 1, 1, 1, 1, 1, 1, 1, 1, 1, 1, 1, 1, 1, 1, 1, 1, 1, 1, 1, 1, 1, 1, 1, 1, 1, 1, 1, 1, 1, 1, 1, 1, 1, 1, 1, 1, 1, 1, 1, 1, 1, 1, 1, 1, 1, 1, 1, 1, 1, 1, 1, 1, 1, 1, 1, 1, 1, 1, 1, 1, 1, 1, 1, 1, 1, 1, 1, 1, 1, 1, 1, 1, 1, 1, 1, 1, 1, 1, 1, 1, 1, 1, 1, 1, 1, 1, 1, 1, 1, 1, 1, 1, 1, 1, 1, 1, 1, 1, 1, 1, 1, 1, 1, 1, 1, 1, 1, 1, 1, 1, 1, 1, 1, 1, 1, 1, 1, 1, 1, 1, 1, 1, 1, 1, 1, 1, 1, 1, 1, 1, 1, 1, 1, 1, 1, 1, 1, 1, 1, 1, 1, 1, 1, 1, 1, 1, 1, 1, 1, 1, 1, 1, 1, 1, 1, 1, 1, 1, 1, 1, 1, 1, 1, 1, 1, 1, 1, 1, 1, 1, 1, 1, 1, 1, 1, 1, 1, 1, 1, 1, 1, 1, 1, 1, 1, 1, 1, 1, 1, 1, 1, 1, 1, 1, 1, 1, 1, 1, 1, 1, 1, 1, 1, 1, 1, 1, 1, 1, 1, 1, 1, 1, 1, 1, 1, 1, 1, 1, 1, 1, 1, 1, 1, 1, 1, 1, 1, 1, 1, 1, 1, 1, 1, 1, 1, 1, 1, 1, 1, 1, 1, 1, 1, 1, 1, 1, 1, 1, 1, 1, 1, 1, 1, 1, 1, 1, 1, 1, 1, 1, 1, 1, 1, 1, 1, 1, 1, 1, 1, 1, 1, 1, 1, 1, 1, 1, 1, 1, 1, 1, 1, 1, 1, 1, 1, 1, 1, 1, 1, 1, 1, 1, 1, 1, 1, 1, 1, 1, 1, 1, 1, 1, 1, 1, 1, 1, 1, 1, 1, 1, 1, 1, 1, 1, 1, 1, 1, 1, 1, 1, 1, 1, 1, 1, 1, 1, 1, 1, 1, 1, 1, 1, 1, 1, 1, 1, 1, 1, 1, 1, 1, 1, 1, 1, 1, 1, 1, 1, 1, 1, 1, 1, 1, 1, 1, 1, 1, 1, 1, 1, 1, 1, 1, 1, 1, 1, 1, 1, 1, 1, 1, 1, 1, 1, 1, 1, 1, 1, 1, 1, 1, 1, 1, 1, 1, 1, 1, 1, 1, 1, 1, 1, 1, 1, 1, 1, 1, 1, 1, 1, 1, 1, 1, 1, 1, 1, 1, 1, 1, 1, 1, 1, 1, 1, 1, 1, 1, 1, 1, 1, 1, 1, 1, 1, 1, 1, 1, 1, 1, 1, 1, 1, 1, 1, 1, 1, 1, 1, 1, 1, 1, 1, 1, 1, 1, 1, 1, 1, 1, 1, 1, 1, 1, 1, 1, 1, 1, 1, 1, 1, 1, 1, 1, 1, 1, 1, 1, 1, 1, 1, 1, 1, 1, 1, 1, 1, 1, 1, 1, 1, 1, 1, 1, 1, 1, 1, 1, 1, 1, 1, 1, 1, 1, 1, 1, 1, 1, 1, 1, 1, 1, 1, 1, 1, 1, 1, 1, 1, 1, 1, 1, 1, 1, 1, 1, 1, 1, 1, 1, 1, 1, 1, 1, 1, 1, 1, 1, 1, 1, 1, 1, 1, 1, 1, 1, 1, 1, 1, 1, 1, 1, 1, 1, 1, 1, 1, 1, 1, 1, 1, 1, 1, 1, 1, 1, 1, 1, 1, 1, 1, 1, 1, 1, 1, 1, 1, 1, 1, 1, 1, 1, 1, 1, 1, 1, 1, 1, 1, 1, 1, 1, 1, 1, 1, 1, 1, 1, 1, 1, 1, 1, 1, 1, 1, 1, 1, 1, 1, 1, 1, 1, 1, 1, 1, 1, 1, 1, 1, 1, 1, 1, 1, 1, 1, 1, 1, 1, 1, 1, 1, 1, 1, 1, 1, 1, 1, 1, 1, 1, 1, 1, 1, 1, 1, 1, 1, 1, 1, 1, 1, 1, 1, 1, 1, 1, 1, 1, 1, 1, 1, 1, 1, 1, 1, 1, 1, 1, 1, 1, 1, 1, 1, 1, 1, 1, 1, 1, 1, 1, 1, 1, 1, 1, 1, 1, 1, 1, 1, 1, 1, 1, 1, 1, 1, 1, 1, 1, 1, 1, 1, 1, 1, 1, 1, 1, 1, 1, 1, 1, 1, 1, 1, 1, 1, 1, 1, 1, 1, 1, 1, 1, 1, 1, 1, 1, 1, 1, 1, 1, 1, 1, 1, 1, 1, 1, 1, 1, 1, 1, 1, 1, 1, 1, 1, 1, 1, 1, 1, 1, 1, 1, 1, 1, 1, 1, 1, 1, 1, 1, 1, 1, 1, 1, 1, 1, 1, 1, 1, 1, 1, 1, 1, 1, 1, 1, 1, 1, 1, 1, 1, 1, 1, 1, 1, 1, 1, 1, 1, 1, 1, 1, 1, 1, 1, 1, 1, 1, 1, 1, 1, 1, 1, 1, 1, 1, 1, 1, 1, 1, 1, 1, 1, 1, 1, 1, 1, 1, 1, 1, 1, 1, 1, 1, 1, 1, 1, 1, 1, 1, 1, 1, 1, 1, 1, 1, 1, 1, 1, 1, 1, 1, 1, 1, 1, 1, 1, 1, 1, 1, 1, 1, 1, 1, 1, 1, 1, 1, 1, 1, 1, 1, 1, 1, 1, 1, 1, 1, 1, 1, 1, 1, 1, 1, 1, 1, 1, 1, 1, 1, 1, 1, 1, 1, 1, 1, 1, 1, 1, 1, 1, 1, 1, 1, 1, 1, 1, 1, 1, 1, 1, 1, 1, 1, 1, 1, 1, 1, 1, 1, 1, 1, 1, 1, 1, 1, 1, 1, 1, 1, 1, 1, 1, 1, 1, 1, 1, 1, 1, 1, 1, 1, 1, 1, 1, 1, 1, 1, 1, 1, 1, 1, 1, 1, 1, 1, 1, 1, 1, 1, 1, 1, 1, 1, 1, 1, 1, 1, 1, 1, 1, 1, 1, 1, 1, 1, 1, 1, 1, 1, 1, 1, 1, 1, 1, 1, 1, 1, 1, 1, 1, 1, 1, 1, 1, 1, 1, 1, 1, 1, 1, 1, 1, 1, 1, 1, 1, 1, 1, 1, 1, 1, 1, 1, 1, 1, 1, 1, 1, 1, 1, 1, 1, 1, 1, 1, 1, 1, 1, 1, 1, 1, 1, 1, 1, 1, 1, 1, 1, 1, 1, 1, 1, 1, 1, 1, 1, 1, 1, 1, 1, 1, 1, 1, 1, 1, 1, 1, 1, 1, 1, 1, 1, 1, 1, 1, 1, 1, 1, 1, 1, 1, 1, 1, 1, 1, 1, 1, 1, 1, 1, 1, 1, 1, 1, 1, 1, 1, 1, 1, 1, 1, 1, 1, 1, 1, 1, 1, 1, 1, 1, 1, 1, 1, 1, 1, 1, 1, 1, 1, 1, 1, 1, 1, 1, 1, 1, 1, 1, 1, 1, 1, 1, 1, 1, 1, 1, 1, 1, 1, 1, 1, 1, 1, 1, 1, 1, 1, 1, 1, 1, 1, 1, 1, 1, 1, 1, 1, 1, 1, 1, 1, 1, 1, 1, 1, 1, 1, 1, 1, 1, 1, 1, 1, 1, 1, 1, 1, 1, 1, 1, 1, 1, 1, 1, 1, 1, 1, 1, 1, 1, 1, 1, 1, 1, 1, 1, 1, 1, 1, 1, 1, 1, 1, 1, 1, 1, 1, 1, 1, 1, 1, 1, 1, 1, 1, 1, 1, 1, 1, 1, 1, 1, 1, 1, 1, 1, 1, 1, 1, 1, 1, 1, 1, 1, 1, 1, 1, 1, 1, 1, 1, 1, 1, 1, 1, 1, 1, 1, 1, 1, 1, 1, 1, 1, 1, 1, 1, 1, 1, 1, 1, 1, 1, 1, 1, 1, 1, 1, 1, 1, 1, 1, 1, 1, 1, 1, 1, 1, 1, 1, 1, 1, 1, 1, 1, 1, 1, 1, 1, 1, 1, 1, 1, 1, 1, 1, 1, 1, 1, 1, 1, 1, 1, 1, 1, 1, 1, 1, 1, 1, 1, 1, 1, 1, 1, 1, 1, 1, 1, 1, 1, 1, 1, 1, 1, 1, 1, 1, 1, 1, 1, 1, 1, 1, 1, 1, 1, 1, 1, 1, 1, 1, 1, 1, 1, 1, 1, 1, 1, 1, 1, 1, 1, 1, 1, 1, 1, 1, 1, 1, 1, 1, 1, 1, 1, 1, 1, 1, 1, 1, 1, 1, 1, 1, 1, 1, 1, 1, 1, 1, 1, 1, 1, 1, 1, 1, 1, 1, 1, 1, 1, 1, 1, 1, 1, 1, 1, 1, 1, 1, 1, 1, 1, 1, 1, 1, 1, 1, 1, 1, 1, 1, 1, 1, 1, 1, 1, 1, 1, 1, 1, 1, 1, 1, 1, 1, 1, 1, 1, 1, 1, 1, 1, 1, 1, 1, 1, 1, 1, 1, 1, 1, 1, 1, 1, 1, 1, 1, 1, 1, 1, 1, 1, 1, 1, 1, 1, 1, 1, 1, 1, 1, 1, 1, 1, 1, 1, 1, 1, 1, 1, 1, 1, 1, 1, 1, 1, 1, 1, 1, 1, 1, 1, 1, 1, 1, 1, 1, 1, 1, 1, 1, 1, 1, 1, 1, 1, 1, 1, 1, 1, 1, 1, 1, 1, 1, 1, 1, 1, 1, 1, 1, 1, 1, 1, 1, 1, 1, 1, 1, 1, 1, 1, 1, 1, 1, 1, 1, 1, 1, 1, 1, 1, 1, 1, 1, 1, 1, 1, 1, 1, 1, 1, 1, 1, 1, 1, 1, 1, 1, 1, 1, 1, 1, 1, 1, 1, 1, 1, 1, 1, 1, 1, 1, 1, 1, 1, 1, 1, 1, 1, 1, 1, 1, 1, 1, 1, 1, 1, 1, 1, 1, 1, 1, 1, 1, 1, 1, 1, 1, 1, 1, 1, 1, 1, 1, 1, 1, 1, 1, 1, 1, 1, 1, 1, 1, 1, 1, 1, 1, 1, 1, 1, 1, 1, 1, 1, 1, 1, 1, 1, 1, 1, 1, 1, 1, 1, 1, 1, 1, 1, 1, 1, 1, 1, 1, 1, 1, 1, 1, 1, 1, 1, 1, 1, 1, 1, 1, 1, 1, 1, 1, 1, 1, 1, 1, 1, 1, 1, 1, 1, 1, 1, 1, 1, 1, 1, 1, 1, 1, 1, 1, 1, 1, 1, 1, 1, 1, 1, 1, 1, 1, 1, 1, 1, 1, 1, 1, 1, 1, 1, 1, 1, 1, 1, 1, 1, 1, 1, 1, 1, 1, 1, 1, 1, 1, 1, 1, 1, 1, 1, 1, 1, 1, 1, 1, 1, 1, 1, 1, 1, 1, 1, 1, 1, 1, 1, 1, 1, 1, 1, 1, 1, 1, 1, 1, 1, 1, 1, 1, 1, 1, 1, 1, 1, 1, 1, 1, 1, 1, 1, 1, 1, 1, 1, 1, 1, 1, 1, 1, 1, 1, 1, 1, 1, 1, 1, 1, 1, 1, 1, 1, 1, 1, 1, 1, 1, 1, 1, 1, 1, 1, 1, 1, 1, 1, 1, 1, 1, 1, 1, 1, 1, 1, 1, 1, 1, 1, 1, 1, 1, 1, 1, 1, 1, 1, 1, 1, 1, 1, 1, 1, 1, 1, 1, 1, 1, 1, 1, 1, 1, 1, 1, 1, 1, 1, 1, 1, 1, 1, 1, 1, 1, 1, 1, 1, 1, 1, 1, 1, 1, 1, 1, 1, 1, 1, 1, 1, 1, 1, 1, 1, 1, 1, 1, 1, 1, 1, 1, 1, 1, 1, 1, 1, 1, 1, 1, 1, 1, 1, 1, 1, 1, 1, 1, 1, 1, 1, 1, 1, 1, 1, 1, 1, 1, 1, 1, 1, 1, 1, 1, 1, 1, 1, 1, 1, 1, 1, 1, 1, 1, 1, 1, 1, 1, 1, 1, 1, 1, 1, 1, 1, 1, 1, 1, 1, 1, 1, 1, 1, 1, 1, 1, 1, 1, 1, 1, 1, 1, 1, 1, 1, 1, 1, 1, 1, 1, 1, 1, 1, 1, 1, 1, 1, 1, 1, 1, 1, 1, 1, 1, 1, 1, 1, 1, 1, 1, 1, 1, 1, 1, 1, 1, 1, 1, 1, 1, 1, 1, 1, 1, 1, 1, 1, 1, 1, 1, 1, 1, 1, 1, 1, 1, 1, 1, 1, 1, 1, 1, 1, 1, 1, 1, 1, 1, 1, 1, 1, 1, 1, 1, 1, 1, 1, 1, 1, 1, 1, 1, 1, 1, 1, 1, 1, 1, 1, 1, 1, 1, 1, 1, 1, 1, 1, 1, 1, 1, 1, 1, 1, 1, 1, 1, 1, 1, 1, 1, 1, 1, 1, 1, 1, 1, 1, 1, 1, 1, 1, 1, 1, 1, 1, 1, 1, 1, 1, 1, 1, 1, 1, 1, 1, 1, 1, 1, 1, 1, 1, 1, 1, 1, 1, 1, 1, 1, 1, 1, 1, 1, 1, 1, 1, 1, 1, 1, 1, 1, 1, 1, 1, 1, 1, 1, 1, 1, 1, 1, 1, 1, 1, 1, 1, 1, 1, 1, 1, 1, 1, 1, 1, 1, 1, 1, 1, 1, 1, 1, 1, 1, 1, 1, 1, 1, 1, 1, 1, 1, 1, 1, 1, 1, 1, 1, 1, 1, 1, 1, 1, 1, 1, 1, 1, 1, 1, 1, 1, 1, 1, 1, 1, 1, 1, 1, 1, 1, 1, 1, 1, 1, 1, 1, 1, 1, 1, 1, 1, 1, 1, 1, 1, 1, 1, 1, 1, 1, 1, 1, 1, 1, 1, 1, 1, 1, 1, 1, 1, 1, 1, 1, 1, 1, 1, 1, 1, 1, 1, 1, 1, 1, 1, 1, 1, 1, 1, 1, 1, 1, 1, 1, 1, 1, 1, 1, 1, 1, 1, 1, 1, 1, 1, 1, 1, 1, 1, 1, 1, 1, 1, 1, 1, 1, 1, 1, 1, 1, 1, 1, 1, 1, 1, 1, 1, 1, 1, 1, 1, 1, 1, 1, 1, 1, 1, 1, 1, 1, 1, 1, 1, 1, 1, 1, 1, 1, 1, 1, 1, 1, 1, 1, 1, 1, 1, 1, 1, 1, 1, 1, 1, 1, 1, 1, 1, 1, 1, 1, 1, 1, 1, 1, 1, 1, 1, 1, 1, 1, 1, 1, 1, 1, 1, 1, 1, 1, 1, 1, 1, 1, 1, 1, 1, 1, 1, 1, 1, 1, 1, 1, 1, 1, 1, 1, 1, 1, 1, 1, 1, 1, 1, 1, 1, 1, 1, 1, 1, 1, 1, 1, 1, 1, 1, 1, 1, 1, 1, 1, 1, 1, 1, 1, 1, 1, 1, 1, 1, 1, 1, 1, 1, 1, 1, 1, 1, 1, 1, 1, 1, 1, 1, 1, 1, 1, 1, 1, 1, 1, 1, 1, 1, 1, 1, 1, 1, 1, 1, 1, 1, 1, 1, 1, 1, 1, 1, 1, 1, 1, 1, 1, 1, 1, 1, 1, 1, 1, 1, 1, 1, 1, 1, 1, 1, 1, 1, 1, 1, 1, 1, 1, 1, 1, 1, 1, 1, 1, 1, 1, 1, 1, 1, 1, 1, 1, 1, 1, 1, 1, 1, 1, 1, 1, 1, 1, 1, 1, 1, 1, 1, 1, 1, 1, 1, 1, 1, 1, 1, 1, 1, 1, 1, 1, 1, 1, 1, 1, 1, 1, 1, 1, 1, 1, 1, 1, 1, 1, 1, 1, 1, 1, 1, 1, 1, 1, 1, 1, 1, 1, 1, 1, 1, 1, 1, 1, 1, 1, 1, 1, 1, 1, 1, 1, 1, 1, 1, 1, 1, 1, 1, 1, 1, 1, 1, 1, 1, 1, 1, 1, 1, 1, 1, 1, 1, 1, 1, 1, 1, 1, 1, 1, 1, 1, 1, 1, 1, 1, 1, 1, 1, 1, 1, 1, 1, 1, 1, 1, 1, 1, 1, 1, 1, 1, 1, 1, 1, 1, 1, 1, 1, 1, 1, 1, 1, 1, 1, 1, 1, 1, 1, 1, 1, 1, 1, 1, 1, 1, 1, 1, 1, 1, 1, 1, 1, 1, 1, 1, 1, 1, 1, 1, 1, 1, 1, 1, 1, 1, 1, 1, 1, 1, 1, 1, 1, 1, 1, 1, 1, 1, 1, 1, 1, 1, 1, 1, 1, 1, 1, 1, 1, 1, 1, 1, 1, 1, 1, 1, 1, 1, 1, 1, 1, 1, 1, 1, 1, 1, 1, 1, 1, 1, 1, 1, 1, 1, 1, 1, 1, 1, 1, 1, 1, 1, 1, 1, 1, 1, 1, 1, 1, 1, 1, 1, 1, 1, 1, 1, 1, 1, 1, 1, 1, 1, 1, 1, 1, 1, 1, 1, 1, 1, 1, 1, 1, 1, 1, 1, 1, 1, 1, 1, 1, 1, 1, 1, 1, 1, 1, 1, 1, 1, 1, 1, 1, 1, 1, 1, 1, 1, 1, 1, 1, 1, 1, 1, 1, 1, 1, 1, 1, 1, 1, 1, 1, 1, 1, 1, 1, 1, 1, 1, 1, 1, 1, 1, 1, 1, 1, 1, 1, 1, 1, 1, 1, 1, 1, 1, 1, 1, 1, 1, 1, 1, 1, 1, 1, 1, 1, 1, 1, 1, 1, 1, 1, 1, 1, 1, 1, 1, 1, 1, 1, 1, 1, 1, 1, 1, 1, 1, 1, 1, 1, 1, 1, 1, 1, 1, 1, 1, 1, 1, 1, 1, 1, 1, 1, 1, 1, 1, 1, 1, 1, 1, 1, 1, 1, 1, 1, 1, 1, 1, 1, 1, 1, 1, 1, 1, 1, 1, 1, 1, 1, 1, 1, 1, 1, 1, 1, 1, 1, 1, 1, 1, 1, 1, 1, 1, 1, 1, 1, 1, 1, 1, 1, 1, 1, 1, 1, 1, 1, 1, 1, 1, 1, 1, 1, 1, 1, 1, 1, 1, 1, 1, 1, 1, 1, 1, 1, 1, 1, 1, 1, 1, 1, 1, 1, 1, 1, 1, 1, 1, 1, 1, 1, 1, 1, 1, 1, 1, 1, 1, 1, 1, 1, 1, 1, 1, 1, 1, 1, 1, 1, 1, 1, 1, 1, 1, 1, 1, 1, 1, 1, 1, 1, 1, 1, 1, 1, 1, 1, 1, 1, 1, 1, 1, 1, 1, 1, 1, 1, 1, 1, 1, 1, 1, 1, 1, 1, 1, 1, 1, 1, 1, 1, 1, 1, 1, 1, 1, 1, 1, 1, 1, 1, 1, 1, 1, 1, 1, 1, 1, 1, 1, 1, 1, 1, 1, 1, 1, 1, 1, 1, 1, 1, 1, 1, 1, 1, 1, 1, 1, 1, 1, 1, 1, 1, 1, 1, 1, 1, 1, 1, 1, 1, 1, 1, 1, 1, 1, 1, 1, 1, 1, 1, 1, 1, 1, 1, 1, 1, 1, 1, 1, 1, 1, 1, 1, 1, 1, 1, 1, 1, 1, 1, 1, 1, 1, 1, 1, 1, 1, 1, 1, 1, 1, 1, 1, 1, 1, 1, 1, 1, 1, 1, 1, 1, 1, 1, 1, 1, 1, 1, 1, 1, 1, 1, 1, 1, 1, 1, 1, 1, 1, 1, 1, 1, 1, 1, 1, 1, 1, 1, 1, 1, 1, 1, 1, 1, 1, 1, 1, 1, 1, 1, 1, 1, 1, 1, 1, 1, 1, 1, 1, 1, 1, 1, 1, 1, 1, 1, 1, 1, 1, 1, 1, 1, 1, 1, 1, 1, 1, 1, 1, 1, 1, 1, 1, 1, 1, 1, 1, 1, 1, 1, 1, 1, 1, 1, 1, 1, 1, 1, 1, 1, 1, 1, 1, 1, 1, 1, 1, 1, 1, 1, 1, 1, 1, 1, 1, 1, 1, 1, 1, 1, 1, 1, 1, 1, 1, 1, 1, 1, 1, 1, 1, 1, 1, 1, 1, 1, 1, 1, 1, 1, 1, 1, 1, 1, 1, 1, 1, 1, 1, 1, 1, 1, 1, 1, 1, 1, 1, 1, 1, 1, 1, 1, 1, 1, 1, 1, 1, 1, 1, 1, 1, 1, 1, 1, 1, 1, 1, 1, 1, 1, 1, 1, 1, 1, 1, 1, 1, 1, 1, 1, 1, 1, 1, 1, 1, 1, 1, 1, 1, 1, 1, 1, 1, 1, 1, 1, 1, 1, 1, 1, 1, 1, 1, 1, 1, 1, 1, 1, 1, 1, 1, 1, 1, 1, 1, 1, 1, 1, 1, 1, 1, 1, 1, 1, 1, 1, 1, 1, 1, 1, 1, 1, 1, 1, 1, 1, 1, 1, 1, 1, 1, 1, 1, 1, 1, 1, 1, 1, 1, 1, 1, 1, 1, 1, 1, 1, 1, 1, 1, 1, 1, 1, 1, 1, 1, 1, 1, 1, 1, 1, 1, 1, 1, 1, 1, 1, 1, 1, 1, 1, 1, 1, 1, 1, 1, 1, 1, 1, 1, 1, 1, 1, 1, 1, 1, 1, 1, 1, 1, 1, 1, 1, 1, 1, 1, 1, 1, 1, 1, 1, 1, 1, 1, 1, 1, 1, 1, 1, 1, 1, 1, 1, 1, 1, 1, 1, 1, 1, 1, 1, 1, 1, 1, 1, 1, 1, 1, 1, 1, 1, 1, 1, 1, 1, 1, 1, 1, 1, 1, 1, 1, 1, 1, 1, 1, 1, 1, 1, 1, 1, 1, 1, 1, 1, 1, 1, 1, 1, 1, 1, 1, 1, 1, 1, 1, 1, 1, 1, 1, 1, 1, 1, 1, 1, 1, 1, 1, 1, 1, 1, 1, 1, 1, 1, 1, 1, 1, 1, 1, 1, 1, 1, 1, 1, 1, 1, 1, 1, 1, 1, 1, 1, 1, 1, 1, 1, 1, 1, 1, 1, 1, 1, 1, 1, 1, 1, 1, 1, 1, 1, 1, 1, 1, 1, 1, 1, 1, 1, 1, 1, 1, 1, 1, 1, 1, 1, 1, 1, 1, 1, 1, 1, 1, 1, 1, 1, 1, 1, 1, 1, 1, 1, 1, 1, 1, 1, 1, 1, 1, 1, 1, 1, 1, 1, 1, 1, 1, 1, 1, 1, 1, 1, 1, 1, 1, 1, 1, 1, 1, 1, 1, 1, 1, 1, 1, 1, 1, 1, 1, 1, 1, 1, 1, 1, 1, 1, 1, 1, 1, 1, 1, 1, 1, 1, 1, 1, 1, 1, 1, 1, 1, 1, 1, 1, 1, 1, 1, 1, 1, 1, 1, 1, 1, 1, 1, 1, 1, 1, 1, 1, 1, 1, 1, 1, 1, 1, 1, 1, 1, 1, 1, 1, 1, 1, 1, 1, 1, 1, 1, 1, 1, 1, 1, 1, 1, 1, 1, 1, 1, 1, 1, 1, 1, 1, 1, 1, 1, 1, 1, 1, 1, 1, 1, 1, 1, 1, 1, 1, 1, 1, 1, 1, 1, 1, 1, 1, 1, 1, 1, 1, 1, 1, 1, 1, 1, 1, 1, 1, 1, 1, 1, 1, 1, 1, 1, 1, 1, 1, 1, 1, 1, 1, 1, 1, 1, 1, 1, 1, 1, 1, 1, 1, 1, 1, 1, 1, 1, 1, 1, 1, 1, 1, 1, 1, 1, 1, 1, 1, 1, 1, 1, 1, 1, 1, 1, 1, 1, 1, 1, 1, 1, 1, 1, 1, 1, 1, 1, 1, 1, 1, 1, 1, 1, 1, 1, 1, 1, 1, 1, 1, 1, 1, 1, 1, 1, 1, 1, 1, 1, 1, 1, 1, 1, 1, 1, 1, 1, 1, 1, 1, 1, 1, 1, 1, 1, 1, 1, 1, 1, 1, 1, 1, 1, 1, 1, 1, 1, 1, 1, 1, 1, 1, 1, 1, 1, 1, 1, 1, 1, 1, 1, 1, 1, 1, 1, 1, 1, 1, 1, 1, 1, 1, 1, 1, 1, 1, 1, 1, 1, 1, 1, 1, 1, 1, 1, 1, 1, 1, 1, 1, 1, 1, 1, 1, 1, 1, 1, 1, 1, 1, 1, 1, 1, 1, 1, 1, 1, 1, 1, 1, 1, 1, 1, 1, 1, 1, 1, 1, 1, 1, 1, 1, 1, 1, 1, 1, 1, 1, 1, 1, 1, 1, 1, 1, 1, 1, 1, 1, 1, 1, 1, 1, 1, 1, 1, 1, 1, 1, 1, 1, 1, 1, 1, 1, 1, 1, 1, 1, 1, 1, 1, 1, 1, 1, 1, 1, 1, 1, 1, 1, 1, 1, 1, 1, 1, 1, 1, 1, 1, 1, 1, 1, 1, 1, 1, 1, 1, 1, 1, 1, 1, 1, 1, 1, 1, 1, 1, 1, 1, 1, 1, 1, 1, 1, 1, 1, 1, 1, 1, 1, 1, 1, 1, 1, 1, 1, 1, 1, 1, 1, 1, 1, 1, 1, 1, 1, 1, 1, 1, 1, 1, 1, 1, 1, 1, 1, 1, 1, 1, 1, 1, 1, 1, 1, 1, 1, 1, 1, 1, 1, 1, 1, 1, 1, 1, 1, 1, 1, 1, 1, 1, 1, 1, 1, 1, 1, 1, 1, 1, 1, 1, 1, 1, 1, 1, 1, 1, 1, 1, 1, 1, 1, 1, 1, 1, 1, 1, 1, 1, 1, 1, 1, 1, 1, 1, 1, 1, 1, 1, 1, 1, 1, 1, 1, 1, 1, 1, 1, 1, 1, 1, 1, 1, 1, 1, 1, 1, 1, 1, 1, 1, 1, 1, 1, 1, 1, 1, 1, 1, 1, 1, 1, 1, 1, 1, 1, 1, 1, 1, 1, 1, 1, 1, 1, 1, 1, 1, 1, 1, 1, 1, 1, 1, 1, 1, 1, 1, 1, 1, 1, 1, 1, 1, 1, 1, 1, 1, 1, 1, 1, 1, 1, 1, 1, 1, 1, 1, 1, 1, 1, 1, 1, 1, 1, 1, 1, 1, 1, 1, 1, 1, 1, 1, 1, 1, 1, 1, 1, 1, 1, 1, 1, 1, 1, 1, 1, 1, 1, 1, 1, 1, 1, 1, 1, 1, 1, 1, 1, 1, 1, 1, 1, 1, 1, 1, 1, 1, 1, 1, 1, 1, 1, 1, 1, 1, 1, 1, 1, 1, 1, 1, 1, 1, 1, 1, 1, 1, 1, 1, 1, 1, 1, 1, 1, 1, 1, 1, 1, 1, 1, 1, 1, 1, 1, 1, 1, 1, 1, 1, 1, 1, 1, 1, 1, 1, 1, 1, 1, 1, 1, 1, 1, 1, 1, 1, 1, 1, 1, 1, 1, 1, 1, 1, 1, 1, 1, 1, 1, 1, 1, 1, 1, 1, 1, 1, 1, 1, 1, 1, 1, 1, 1, 1, 1, 1, 1, 1, 1, 1, 1, 1, 1, 1, 1, 1, 1, 1, 1, 1, 1, 1, 1, 1, 1, 1, 1, 1, 1, 1, 1, 1, 1, 1, 1, 1, 1, 1, 1, 1, 1, 1, 1, 1, 1, 1, 1, 1, 1, 1, 1, 1, 1, 1, 1, 1, 1, 1, 1, 1, 1, 1, 1, 1, 1, 1, 1, 1, 1, 1, 1, 1, 1, 1, 1, 1, 1, 1, 1, 1, 1, 1, 1, 1, 1, 1, 1, 1, 1, 1, 1, 1, 1, 1, 1, 1, 1, 1, 1, 1, 1, 1, 1, 1, 1, 1, 1, 1, 1, 1, 1, 1, 1, 1, 1, 1, 1, 1, 1, 1, 1, 1, 1, 1, 1, 1, 1, 1, 1, 1, 1, 1, 1, 1, 1, 1, 1, 1, 1, 1, 1, 1, 1, 1, 1, 1, 1, 1, 1, 1, 1, 1, 1, 1, 1, 1, 1, 1, 1, 1, 1, 1, 1, 1, 1, 1, 1, 1, 1, 1, 1, 1, 1, 1, 1, 1, 1, 1, 1, 1, 1, 1, 1, 1, 1, 1, 1, 1, 1, 1, 1, 1, 1, 1, 1, 1, 1, 1, 1, 1, 1, 1, 1, 1, 1, 1, 1, 1, 1, 1, 1, 1, 1, 1, 1, 1, 1, 1, 1, 1, 1, 1, 1, 1, 1, 1, 1, 1, 1, 1, 1, 1, 1, 1, 1, 1, 1, 1, 1, 1, 1, 1, 1, 1, 1, 1, 1, 1, 1, 1, 1, 1, 1, 1, 1, 1, 1, 1, 1, 1, 1, 1, 1, 1, 1, 1, 1, 1, 1, 1, 1, 1, 1, 1, 1, 1, 1, 1, 1, 1, 1, 1, 1, 1, 1, 1, 1, 1, 1, 1, 1, 1, 1, 1, 1, 1, 1, 1, 1, 1, 1, 1, 1, 1, 1, 1, 1, 1, 1, 1, 1, 1, 1, 1, 1, 1, 1, 1, 1, 1, 1, 1, 1, 1, 1, 1, 1, 1, 1, 1, 1, 1, 1, 1, 1, 1, 1, 1, 1, 1, 1, 1, 1, 1, 1, 1, 1, 1, 1, 1, 1, 1, 1, 1, 1, 1, 1, 1, 1, 1, 1, 1, 1, 1, 1, 1, 1, 1, 1, 1, 1, 1, 1, 1, 1, 1, 1, 1, 1, 1, 1, 1, 1, 1, 1, 1, 1, 1, 1, 1, 1, 1, 1, 1, 1, 1, 1, 1, 1, 1, 1, 1, 1, 1, 1, 1, 1, 1, 1, 1, 1, 1, 1, 1, 1, 1, 1, 1, 1, 1, 1, 1, 1, 1, 1, 1, 1, 1, 1, 1, 1, 1, 1, 1, 1, 1, 1, 1, 1, 1, 1, 1, 1, 1, 1, 1, 1, 1, 1, 1, 1, 1, 1, 1, 1, 1, 1, 1, 1, 1, 1, 1, 1, 1, 1, 1, 1, 1, 1, 1, 1, 1, 1, 1, 1, 1, 1, 1, 1, 1, 1, 1, 1, 1, 1, 1, 1, 1, 1, 1, 1, 1, 1, 1, 1, 1, 1, 1, 1, 1, 1, 1, 1, 1, 1, 1, 1, 1, 1, 1, 1, 1, 1, 1, 1, 1, 1, 1, 1, 1, 1, 1, 1, 1, 1, 1, 1, 1, 1, 1, 1, 1, 1, 1, 1, 1, 1, 1, 1, 1, 1, 1, 1, 1, 1, 1, 1, 1, 1, 1, 1, 1, 1, 1, 1, 1, 1, 1, 1, 1, 1, 1, 1, 1, 1, 1, 1, 1, 1, 1, 1, 1, 1, 1, 1, 1, 1, 1, 1, 1, 1, 1, 1, 1, 1, 1, 1, 1, 1, 1, 1, 1, 1, 1, 1, 1, 1, 1, 1, 1, 1, 1, 1, 1, 1, 1, 1, 1, 1, 1, 1, 1, 1, 1, 1, 1, 1, 1, 1, 1, 1, 1, 1, 1, 1, 1, 1, 1, 1, 1, 1, 1, 1, 1, 1, 1, 1, 1, 1, 1, 1, 1, 1, 1, 1, 1, 1, 1, 1, 1, 1, 1, 1, 1, 1, 1, 1, 1, 1, 1, 1, 1, 1, 1, 1, 1, 1, 1, 1, 1, 1, 1, 1, 1, 1, 1, 1, 1, 1, 1, 1, 1, 1, 1, 1, 1, 1, 1, 1, 1, 1, 1, 1, 1, 1, 1, 1, 1, 1, 1, 1, 1, 1, 1, 1, 1, 1, 1, 1, 1, 1, 1, 1, 1, 1, 1, 1, 1, 1, 1, 1, 1, 1, 1, 1, 1, 1, 1, 1, 1, 1, 1, 1, 1, 1, 1, 1, 1, 1, 1, 1, 1, 1, 1, 1, 1, 1, 1, 1, 1, 1, 1, 1, 1, 1, 1, 1, 1, 1, 1, 1, 1, 1, 1, 1, 1, 1, 1, 1, 1, 1, 1, 1, 1, 1, 1, 1, 1, 1, 1, 1, 1, 1, 1, 1, 1, 1, 1, 1, 1, 1, 1, 1, 1, 1, 1, 1, 1, 1, 1, 1, 1, 1, 1, 1, 1, 1, 1, 1, 1, 1, 1, 1, 1, 1, 1, 1, 1, 1, 1, 1, 1, 1, 1, 1, 1, 1, 1, 1, 1, 1, 1, 1, 1, 1, 1, 1, 1, 1, 1, 1, 1, 1, 1, 1, 1, 1, 1, 1, 1, 1, 1, 1, 1, 1, 1, 1, 1, 1, 1, 1, 1, 1, 1, 1, 1, 1, 1, 1, 1, 1, 1, 1, 1, 1, 1, 1, 1, 1, 1, 1, 1, 1, 1, 1, 1, 1, 1, 1, 1, 1, 1, 1, 1, 1, 1, 1, 1, 1, 1, 1, 1, 1, 1, 1, 1, 1, 1, 1, 1, 1, 1, 1, 1, 1, 1, 1, 1, 1, 1, 1, 1, 1, 1, 1, 1, 1, 1, 1, 1, 1, 1, 1, 1, 1, 1, 1, 1, 1, 1, 1, 1, 1, 1, 1, 1, 1, 1, 1, 1, 1, 1, 1, 1, 1, 1, 1, 1, 1, 1, 1, 1, 1, 1, 1, 1, 1, 1, 1, 1, 1, 1, 1, 1, 1, 1, 1, 1, 1, 1, 1, 1, 1, 1, 1, 1, 1, 1, 1, 1, 1, 1, 1, 1, 1, 1, 1, 1, 1, 1, 1, 1, 1, 1, 1, 1, 1, 1, 1, 1, 1, 1, 1, 1, 1, 1, 1, 1, 1, 1, 1, 1, 1, 1, 1, 1, 1, 1, 1, 1, 1, 1, 1, 1, 1, 1, 1, 1, 1, 1, 1, 1, 1, 1, 1, 1, 1, 1, 1, 1, 1, 1, 1, 1, 1, 1, 1, 1, 1, 1, 1, 1, 1, 1, 1, 1, 1, 1, 1, 1, 1, 1, 1, 1, 1, 1, 1, 1, 1, 1, 1, 1, 1, 1, 1, 1, 1, 1, 1, 1, 1, 1, 1, 1, 1, 1, 1, 1, 1, 1, 1, 1, 1, 1, 1, 1, 1, 1, 1, 1, 1, 1, 1, 1, 1, 1, 1, 1, 1, 1, 1, 1, 1, 1, 1, 1, 1, 1, 1, 1, 1, 1, 1, 1, 1, 1, 1, 1, 1, 1, 1, 1, 1, 1, 1, 1, 1, 1, 1, 1, 1, 1, 1, 1, 1, 1, 1, 1, 1, 1, 1, 1, 1, 1, 1, 1, 1, 1, 1, 1, 1, 1, 1, 1, 1, 1, 1, 1, 1, 1, 1, 1, 1, 1, 1, 1, 1, 1, 1, 1, 1, 1, 1, 1, 1, 1, 1, 1, 1, 1, 1, 1, 1, 1, 1, 1, 1, 1, 1, 1, 1, 1, 1, 1, 1, 1, 1, 1, 1, 1, 1, 1, 1, 1, 1, 1, 1, 1, 1, 1, 1, 1, 1, 1, 1, 1, 1, 1, 1, 1, 1, 1, 1, 1, 1, 1, 1, 1, 1, 1, 1, 1, 1, 1, 1, 1, 1, 1, 1, 1, 1, 1, 1, 1, 1, 1, 1, 1, 1, 1, 1, 1, 1, 1, 1, 1, 1, 1, 1, 1, 1, 1, 1, 1, 1, 1, 1, 1, 1, 1, 1, 1, 1, 1, 1, 1, 1, 1, 1, 1, 1, 1, 1, 1, 1, 1, 1, 1, 1, 1, 1, 1, 1, 1, 1, 1, 1, 1, 1, 1, 1, 1, 1, 1, 1, 1, 1, 1, 1, 1, 1, 1, 1, 1, 1, 1, 1, 1, 1, 1, 1, 1, 1, 1, 1, 1, 1, 1, 1, 1, 1, 1, 1, 1, 1, 1, 1, 1, 1, 1, 1, 1, 1, 1, 1, 1, 1, 1, 1, 1, 1, 1, 1, 1, 1, 1, 1, 1, 1, 1, 1, 1, 1, 1, 1, 1, 1, 1, 1, 1, 1, 1, 1, 1, 1, 1, 1, 1, 1, 1, 1, 1, 1, 1, 1, 1, 1, 1, 1, 1, 1, 1, 1, 1, 1, 1, 1, 1, 1, 1, 1, 1, 1, 1, 1, 1, 1, 1, 1, 1, 1, 1, 1, 1, 1, 1, 1, 1, 1, 1, 1, 1, 1, 1, 1, 1, 1, 1, 1, 1, 1, 1, 1, 1, 1, 1, 1, 1, 1, 1, 1, 1, 1, 1, 1, 1, 1, 1, 1, 1, 1, 1, 1, 1, 1, 1, 1, 1, 1, 1, 1, 1, 1, 1, 1, 1, 1, 1, 1, 1, 1, 1, 1, 1, 1, 1, 1, 1, 1, 1, 1, 1, 1, 1, 1, 1, 1, 1, 1, 1, 1, 1, 1, 1, 1, 1, 1, 1, 1, 1, 1, 1, 1, 1, 1, 1, 1, 1, 1, 1, 1, 1, 1, 1, 1, 1, 1, 1, 1, 1, 1, 1, 1, 1, 1, 1, 1, 1, 1, 1, 1, 1, 1, 1, 1, 1, 1, 1, 1, 1, 1, 1, 1, 1, 1, 1, 1, 1, 1, 1, 1, 1, 1, 1, 1, 1, 1, 1, 1, 1, 1, 1, 1, 1, 1, 1, 1, 1, 1, 1, 1, 1, 1, 1, 1, 1, 1, 1, 1, 1, 1, 1, 1, 1, 1, 1, 1, 1, 1, 1, 1, 1, 1, 1, 1, 1, 1, 1, 1, 1, 1, 1, 1, 1, 1, 1, 1, 1, 1, 1, 1, 1, 1, 1, 1, 1, 1, 1, 1, 1, 1, 1, 1, 1, 1, 1, 1, 1, 1, 1, 1, 1, 1, 1, 1, 1, 1, 1, 1, 1, 1, 1, 1, 1, 1, 1, 1, 1, 1, 1, 1, 1, 1, 1, 1, 1, 1, 1, 1, 1, 1, 1, 1, 1, 1, 1, 1, 1, 1, 1, 1, 1, 1, 1, 1, 1, 1, 1, 1, 1, 1, 1, 1, 1, 1, 1, 1, 1, 1, 1, 1, 1, 1, 1, 1, 1, 1, 1, 1, 1, 1, 1, 1, 1, 1, 1, 1, 1, 1, 1, 1, 1, 1, 1, 1, 1, 1, 1, 1, 1, 1, 1, 1, 1, 1, 1, 1, 1, 1, 1, 1, 1, 1, 1, 1, 1, 1, 1, 1, 1, 1, 1, 1, 1, 1, 1, 1, 1, 1, 1, 1, 1, 1, 1, 1, 1, 1, 1, 1, 1, 1, 1, 1, 1, 1, 1, 1, 1, 1, 1, 1, 1, 1, 1, 1, 1, 1, 1, 1, 1, 1, 1, 1, 1, 1, 1, 1, 1, 1, 1, 1, 1, 1, 1, 1, 1, 1, 1, 1, 1, 1, 1, 1, 1, 1, 1, 1, 1, 1, 1, 1, 1, 1, 1, 1, 1, 1, 1, 1, 1, 1, 1, 1, 1, 1, 1, 1, 1, 1, 1, 1, 1, 1, 1, 1, 1, 1, 1, 1, 1, 1, 1, 1, 1, 1, 1, 1, 1, 1, 1, 1, 1, 1, 1, 1, 1, 1, 1, 1, 1, 1, 1, 1, 1, 1, 1, 1, 1, 1, 1, 1, 1, 1, 1, 1, 1, 1, 1, 1, 1, 1, 1, 1, 1, 1, 1, 1, 1, 1, 1, 1, 1, 1, 1, 1, 1, 1, 1, 1, 1, 1, 1, 1, 1, 1, 1, 1, 1, 1, 1, 1, 1, 1, 1, 1, 1, 1, 1, 1, 1, 1, 1, 1, 1, 1, 1, 1, 1, 1, 1, 1, 1, 1, 1, 1, 1, 1, 1, 1, 1, 1, 1, 1, 1, 1, 1, 1, 1, 1, 1, 1, 1, 1, 1, 1, 1, 1, 1, 1, 1, 1, 1, 1, 1, 1, 1, 1, 1, 1, 1, 1, 1, 1, 1, 1, 1, 1, 1, 1, 1, 1, 1, 1, 1, 1, 1, 1, 1, 1, 1, 1, 1, 1, 1, 1, 1, 1, 1, 1, 1, 1, 1, 1, 1, 1, 1, 1, 1, 1, 1, 1, 1, 1, 1, 1, 1, 1, 1, 1, 1, 1, 1, 1, 1, 1, 1, 1, 1, 1, 1, 1, 1, 1, 1, 1, 1, 1, 1, 1, 1, 1, 1, 1, 1, 1, 1, 1, 1, 1, 1, 1, 1, 1, 1, 1, 1, 1, 1, 1, 1, 1, 1, 1, 1, 1, 1, 1, 1, 1, 1, 1, 1, 1, 1, 1, 1, 1, 1, 1, 1, 1, 1, 1, 1, 1, 1, 1, 1, 1, 1, 1, 1, 1, 1, 1, 1, 1, 1, 1, 1, 1, 1, 1, 1, 1, 1, 1, 1, 1, 1, 1, 1, 1, 1, 1, 1, 1, 1, 1, 1, 1, 1, 1, 1, 1, 1, 1, 1, 1, 1, 1, 1, 1, 1, 1, 1, 1, 1, 1, 1, 1, 1, 1, 1, 1, 1, 1, 1, 1, 1, 1, 1, 1, 1, 1, 1, 1, 1, 1, 1, 1, 1, 1, 1, 1, 1, 1, 1, 1, 1, 1, 1, 1, 1, 1, 1, 1, 1, 1, 1, 1, 1, 1, 1, 1, 1, 1, 1, 1, 1, 1, 1, 1, 1, 1, 1, 1, 1, 1, 1, 1, 1, 1, 1, 1, 1, 1, 1, 1, 1, 1, 1, 1, 1, 1, 1, 1, 1, 1, 1, 1, 1, 1, 1, 1, 1, 1, 1, 1, 1, 1, 1, 1, 1, 1, 1, 1, 1, 1, 1, 1, 1, 1, 1, 1, 1, 1, 1, 1, 1, 1, 1, 1, 1, 1, 1, 1, 1, 1, 1, 1, 1, 1, 1, 1, 1, 1, 1, 1, 1, 1, 1, 1, 1, 1, 1, 1, 1, 1, 1, 1, 1, 1, 1, 1, 1, 1, 1, 1, 1, 1, 1, 1, 1, 1, 1, 1, 1, 1, 1, 1, 1, 1, 1, 1, 1, 1, 1, 1, 1, 1, 1, 1, 1, 1, 1, 1, 1, 1, 1, 1, 1, 1, 1, 1, 1, 1, 1, 1, 1, 1, 1, 1, 1, 1, 1, 1, 1, 1, 1, 1, 1, 1, 1, 1, 1, 1, 1, 1, 1, 1, 1, 1, 1, 1, 1, 1, 1, 1, 1, 1, 1, 1, 1, 1, 1, 1, 1, 1, 1, 1, 1, 1, 1, 1, 1, 1, 1, 1, 1, 1, 1, 1, 1, 1, 1, 1, 1, 1, 1, 1, 1, 1, 1, 1, 1, 1, 1, 1, 1, 1, 1, 1, 1, 1, 1, 1, 1, 1, 1, 1, 1, 1, 1, 1, 1, 1, 1, 1, 1, 1, 1, 1, 1, 1, 1, 1, 1, 1, 1, 1, 1, 1, 1, 1, 1, 1, 1, 1, 1, 1, 1, 1, 1, 1, 1, 1, 1, 1, 1, 1, 1, 1, 1, 1, 1, 1, 1, 1, 1, 1, 1, 1, 1, 1, 1, 1, 1, 1, 1, 1, 1, 1, 1, 1, 1, 1, 1, 1, 1, 1, 1, 1, 1, 1, 1, 1, 1, 1, 1, 1, 1, 1, 1, 1, 1, 1, 1, 1, 1, 1, 1, 1, 1, 1, 1, 1, 1, 1, 1, 1, 1, 1, 1, 1, 1, 1, 1, 1, 1, 1, 1, 1, 1, 1, 1, 1, 1, 1, 1, 1, 1, 1, 1, 1, 1, 1, 1, 1, 1, 1, 1, 1, 1, 1, 1, 1, 1, 1, 1, 1, 1, 1, 1, 1, 1, 1, 1, 1, 1, 1, 1, 1, 1, 1, 1, 1, 1, 1, 1, 1, 1, 1, 1, 1, 1, 1, 1, 1, 1, 1, 1, 1, 1, 1, 1, 1, 1, 1, 1, 1, 1, 1, 1, 1, 1, 1, 1, 1, 1, 1, 1, 1, 1, 1, 1, 1, 1, 1, 1, 1, 1, 1, 1, 1, 1, 1, 1, 1, 1, 1, 1, 1, 1, 1, 1, 1, 1, 1, 1, 1, 1, 1, 1, 1, 1, 1, 1, 1, 1, 1, 1, 1, 1, 1, 1, 1, 1, 1, 1, 1, 1, 1, 1, 1, 1, 1, 1, 1, 1, 1, 1, 1, 1, 1, 1, 1, 1, 1, 1, 1, 1, 1, 1, 1, 1, 1, 1, 1, 1, 1, 1, 1, 1, 1, 1, 1, 1, 1, 1, 1, 1, 1, 1, 1, 1, 1, 1, 1, 1, 1, 1, 1, 1, 1, 1, 1, 1, 1, 1, 1, 1, 1, 1, 1, 1, 1, 1, 1, 1, 1, 1, 1, 1, 1, 1, 1, 1, 1, 1, 1, 1, 1, 1, 1, 1, 1, 1, 1, 1, 1, 1, 1, 1, 1, 1, 1, 1, 1, 1, 1, 1, 1, 1, 1, 1, 1, 1, 1, 1, 1, 1, 1, 1, 1, 1, 1, 1, 1, 1, 1, 1, 1, 1, 1, 1, 1, 1, 1, 1, 1, 1, 1, 1, 1, 1, 1, 1, 1, 1, 1, 1, 1, 1, 1, 1, 1, 1, 1, 1, 1, 1, 1, 1, 1, 1, 1, 1, 1, 1, 1, 1, 1, 1, 1, 1, 1, 1, 1, 1, 1, 1, 1, 1, 1, 1, 1, 1, 1, 1, 1, 1, 1, 1, 1, 1, 1, 1, 1, 1, 1, 1, 1, 1, 1, 1, 1, 1, 1, 1, 1, 1, 1, 1, 1, 1, 1, 1, 1, 1, 1, 1, 1, 1, 1, 1, 1, 1, 1, 1, 1, 1, 1, 1, 1, 1, 1, 1, 1, 1, 1, 1, 1, 1, 1, 1, 1, 1, 1, 1, 1, 1, 1, 1, 1, 1, 1, 1, 1, 1, 1, 1, 1, 1, 1, 1, 1, 1, 1, 1, 1, 1, 1, 1, 1, 1, 1, 1, 1, 1, 1, 1, 1, 1, 1, 1, 1, 1, 1, 1, 1, 1, 1, 1, 1, 1, 1, 1, 1, 1, 1, 1, 1, 1, 1, 1, 1, 1, 1, 1, 1, 1, 1, 1, 1, 1, 1, 1, 1, 1, 1, 1, 1, 1, 1, 1, 1, 1, 1, 1, 1, 1, 1, 1, 1, 1, 1, 1, 1, 1, 1, 1, 1, 1, 1, 1, 1, 1, 1, 1, 1, 1, 1, 1, 1, 1, 1, 1, 1, 1, 1, 1, 1, 1, 1, 1, 1, 1, 1, 1, 1, 1, 1, 1, 1, 1, 1, 1, 1, 1, 1, 1, 1, 1, 1, 1, 1, 1, 1, 1, 1, 1, 1, 1, 1, 1, 1, 1, 1, 1, 1, 1, 1, 1, 1, 1, 1, 1, 1, 1, 1, 1, 1, 1, 1, 1, 1, 1, 1, 1, 1, 1, 1, 1, 1, 1, 1, 1, 1, 1, 1, 1, 1, 1, 1, 1, 1, 1, 1, 1, 1, 1, 1, 1, 1, 1, 1, 1, 1, 1, 1, 1, 1, 1, 1, 1, 1, 1, 1, 1, 1, 1, 1, 1, 1, 1, 1, 1, 1, 1, 1, 1, 1, 1, 1, 1, 1, 1, 1, 1, 1, 1, 1, 1, 1, 1, 1, 1, 1, 1, 1, 1, 1, 1, 1, 1, 1, 1, 1, 1, 1, 1, 1, 1, 1, 1, 1, 1, 1, 1, 1, 1, 1, 1, 1, 1, 1, 1, 1, 1, 1, 1, 1, 1, 1, 1, 1, 1, 1, 1, 1, 1, 1, 1, 1, 1, 1, 1, 1, 1, 1, 1, 1, 1, 1, 1, 1, 1, 1, 1, 1, 1, 1, 1, 1, 1, 1, 1, 1, 1, 1, 1, 1, 1, 1, 1, 1, 1, 1, 1, 1, 1, 1, 1, 1, 1, 1, 1, 1, 1, 1, 1, 1, 1, 1, 1, 1, 1, 1, 1, 1, 1, 1, 1, 1, 1, 1, 1, 1, 1, 1, 1, 1, 1, 1, 1, 1, 1, 1, 1, 1, 1, 1, 1, 1, 1, 1, 1, 1, 1, 1, 1, 1, 1, 1, 1, 1, 1, 1, 1, 1, 1, 1, 1, 1, 1, 1, 1, 1, 1, 1, 1, 1, 1, 1, 1, 1, 1, 1, 1, 1, 1, 1, 1, 1, 1, 1, 1, 1, 1, 1, 1, 1, 1, 1, 1, 1, 1, 1, 1, 1, 1, 1, 1, 1, 1, 1, 1, 1, 1, 1, 1, 1, 1, 1, 1, 1, 1, 1, 1, 1, 1, 1, 1, 1, 1, 1, 1, 1, 1, 1, 1, 1, 1, 1, 1, 1, 1, 1, 1, 1, 1, 1, 1, 1, 1, 1, 1, 1, 1, 1, 1, 1, 1, 1, 1, 1, 1, 1, 1, 1, 1, 1, 1, 1, 1, 1, 1, 1, 1, 1, 1, 1, 1, 1, 1, 1, 1, 1, 1, 1, 1, 1, 1, 1, 1, 1, 1, 1, 1, 1, 1, 1, 1, 1, 1, 1, 1, 1, 1, 1, 1, 1, 1, 1, 1, 1, 1, 1, 1, 1, 1, 1, 1, 1, 1, 1, 1, 1, 1, 1, 1, 1, 1, 1, 1, 1, 1, 1, 1, 1, 1, 1, 1, 1, 1, 1, 1, 1, 1, 1, 1, 1, 1, 1, 1, 1, 1, 1, 1, 1, 1, 1, 1, 1, 1, 1, 1, 1, 1, 1, 1, 1, 1, 1, 1, 1, 1, 1, 1, 1, 1, 1, 1, 1, 1, 1, 1, 1, 1, 1, 1, 1, 1, 1, 1, 1, 1, 1, 1, 1, 1, 1, 1, 1, 1, 1, 1, 1, 1, 1, 1, 1, 1, 1, 1, 1, 1, 1, 1, 1, 1, 1, 1, 1, 1, 1, 1, 1, 1, 1, 1, 1, 1, 1, 1, 1, 1, 1, 1, 1, 1, 1, 1, 1, 1, 1, 1, 1, 1, 1, 1, 1, 1, 1, 1, 1, 1, 1, 1, 1, 1, 1, 1, 1, 1, 1, 1, 1, 1, 1, 1, 1, 1, 1, 1, 1, 1, 1, 1, 1, 1, 1, 1, 1, 1, 1, 1, 1, 1, 1, 1, 1, 1, 1, 1, 1, 1, 1, 1, 1, 1, 1, 1, 1, 1, 1, 1, 1, 1, 1, 1, 1, 1, 1, 1, 1, 1, 1, 1, 1, 1, 1, 1, 1, 1, 1, 1, 1, 1, 1, 1, 1, 1, 1, 1, 1, 1, 1, 1, 1, 1, 1, 1, 1, 1, 1, 1, 1, 1, 1, 1, 1, 1, 1, 1, 1, 1, 1, 1, 1, 1, 1, 1, 1, 1, 1, 1, 1, 1, 1, 1, 1, 1, 1, 1, 1, 1, 1, 1, 1, 1, 1, 1, 1, 1, 1, 1, 1, 1, 1, 1, 1, 1, 1, 1, 1, 1, 1, 1, 1, 1, 1, 1, 1, 1, 1, 1, 1, 1, 1, 1, 1, 1, 1, 1, 1, 1, 1, 1, 1, 1, 1, 1, 1, 1, 1, 1, 1, 1, 1, 1, 1, 1, 1, 1, 1, 1, 1, 1, 1, 1, 1, 1, 1, 1, 1, 1, 1, 1, 1, 1, 1, 1, 1, 1, 1, 1, 1, 1, 1, 1, 1, 1, 1, 1, 1, 1, 1, 1, 1, 1, 1, 1, 1, 1, 1, 1, 1, 1, 1, 1, 1, 1, 1, 1, 1, 1, 1, 1, 1, 1, 1, 1, 1, 1, 1, 1, 1, 1, 1, 1, 1, 1, 1, 1, 1, 1, 1, 1, 1, 1, 1, 1, 1, 1, 1, 1, 1, 1, 1, 1, 1, 1, 1, 1, 1, 1, 1, 1, 1, 1, 1, 1, 1, 1, 1, 1, 1, 1, 1, 1, 1, 1, 1, 1, 1, 1, 1, 1, 1, 1, 1, 1, 1, 1, 1, 1, 1, 1, 1, 1, 1, 1, 1, 1, 1, 1, 1, 1, 1, 1, 1, 1, 1, 1, 1, 1, 1, 1, 1, 1, 1, 1, 1, 1, 1, 1, 1, 1, 1, 1, 1, 1, 1, 1, 1, 1, 1, 1, 1, 1, 1, 1, 1, 1, 1, 1, 1, 1, 1, 1, 1, 1, 1, 1, 1, 1, 1, 1, 1, 1, 1, 1, 1, 1, 1, 1, 1, 1, 1, 1, 1, 1, 1, 1, 1, 1, 1, 1, 1, 1, 1, 1, 1, 1, 1, 1, 1, 1, 1, 1, 1, 1, 1, 1, 1, 1, 1, 1, 1, 1, 1, 1, 1, 1, 1, 1, 1, 1, 1, 1, 1, 1, 1, 1, 1, 1, 1, 1, 1, 1, 1, 1, 1, 1, 1, 1, 1, 1, 1, 1, 1, 1, 1, 1, 1, 1, 1, 1, 1, 1, 1, 1, 1, 1, 1, 1, 1, 1, 1, 1, 1, 1, 1, 1, 1, 1, 1, 1, 1, 1, 1, 1, 1, 1, 1, 1, 1, 1, 1, 1, 1, 1, 1, 1, 1, 1, 1, 1, 1, 1, 1, 1, 1, 1, 1, 1, 1, 1, 1, 1, 1, 1, 1, 1, 1, 1, 1, 1, 1, 1, 1, 1, 1, 1, 1, 1, 1, 1, 1, 1, 1, 1, 1, 1, 1, 1, 1, 1, 1, 1, 1, 1, 1, 1, 1, 1, 1, 1, 1, 1, 1, 1, 1, 1, 1, 1, 1, 1, 1, 1, 1, 1, 1, 1, 1, 1, 1, 1, 1, 1, 1, 1, 1, 1, 1, 1, 1, 1, 1, 1, 1, 1, 1, 1, 1, 1, 1, 1, 1, 1, 1, 1, 1, 1, 1, 1, 1, 1, 1, 1, 1, 1, 1, 1, 1, 1, 1, 1, 1, 1, 1, 1, 1, 1, 1, 1, 1, 1, 1, 1, 1, 1, 1, 1, 1, 1, 1, 1, 1, 1, 1, 1, 1, 1, 1, 1, 1, 1, 1, 1, 1, 1, 1, 1, 1, 1, 1, 1, 1, 1, 1, 1, 1, 1, 1, 1, 1, 1, 1, 1, 1, 1, 1, 1, 1, 1, 1, 1, 1, 1, 1, 1, 1, 1, 1, 1, 1, 1, 1, 1, 1, 1, 1, 1, 1, 1, 1, 1, 1, 1, 1, 1, 1, 1, 1, 1, 1, 1, 1, 1, 1, 1, 1, 1, 1, 1, 1, 1, 1, 1, 1, 1, 1, 1, 1, 1, 1, 1, 1, 1, 1, 1, 1, 1, 1, 1, 1, 1, 1, 1, 1, 1, 1, 1, 1, 1, 1, 1, 1, 1, 1, 1, 1, 1, 1, 1, 1, 1, 1, 1, 1, 1, 1, 1, 1, 1, 1, 1, 1, 1, 1, 1, 1, 1, 1, 1, 1, 1, 1, 1, 1, 1, 1, 1, 1, 1, 1, 1, 1, 1, 1, 1, 1, 1, 1, 1, 1, 1, 1, 1, 1, 1, 1, 1, 1, 1, 1, 1, 1, 1, 1, 1, 1, 1, 1, 1, 1, 1, 1, 1, 1, 1, 1, 1, 1, 1, 1, 1, 1, 1, 1, 1, 1, 1, 1, 1, 1, 1, 1, 1, 1, 1, 1, 1, 1, 1, 1, 1, 1, 1, 1, 1, 1, 1, 1, 1, 1, 1, 1, 1, 1, 1, 1, 1, 1, 1, 1, 1, 1, 1, 1, 1, 1, 1, 1, 1, 1, 1, 1, 1, 1, 1, 1, 1, 1, 1, 1, 1, 1, 1, 1, 1, 1, 1, 1, 1, 1, 1, 1, 1, 1, 1, 1, 1, 1, 1, 1, 1, 1, 1, 1, 1, 1, 1, 1, 1, 1, 1, 1, 1, 1, 1, 1, 1, 1, 1, 1, 1, 1, 1, 1, 1, 1, 1, 1, 1, 1, 1, 1, 1, 1, 1, 1, 1, 1, 1, 1, 1, 1, 1, 1, 1, 1, 1, 1, 1, 1, 1, 1, 1, 1, 1, 1, 1, 1, 1, 1, 1, 1, 1, 1, 1, 1, 1, 1, 1, 1, 1, 1, 1, 1, 1, 1, 1, 1, 1, 1, 1, 1, 1, 1, 1, 1, 1, 1, 1, 1, 1, 1, 1, 1, 1, 1, 1, 1, 1, 1, 1, 1, 1, 1, 1, 1, 1, 1, 1, 1, 1, 1, 1, 1, 1, 1, 1, 1, 1, 1, 1, 1, 1, 1, 1, 1, 1, 1, 1, 1, 1, 1, 1, 1, 1, 1, 1, 1, 1, 1, 1, 1, 1, 1, 1, 1, 1, 1, 1, 1, 1, 1, 1, 1, 1, 1, 1, 1, 1, 1, 1, 1, 1, 1, 1, 1, 1, 1, 1, 1, 1, 1, 1, 1, 1, 1, 1, 1, 1, 1, 1, 1, 1, 1, 1, 1, 1, 1, 1, 1, 1, 1, 1, 1, 1, 1, 1, 1, 1, 1, 1, 1, 1, 1, 1, 1, 1, 1, 1, 1, 1, 1, 1, 1, 1, 1, 1, 1, 1, 1, 1, 1, 1, 1, 1, 1, 1, 1, 1, 1, 1, 1, 1, 1, 1, 1, 1, 1, 1, 1, 1, 1, 1, 1, 1, 1, 1, 1, 1, 1, 1, 1, 1, 1, 1, 1, 1, 1, 1, 1, 1, 1, 1, 1, 1, 1, 1, 1, 1, 1, 1, 1, 1, 1, 1, 1, 1, 1, 1, 1, 1, 1, 1, 1, 1, 1, 1, 1, 1, 1, 1, 1, 1, 1, 1, 1, 1, 1, 1, 1, 1, 1, 1, 1, 1, 1, 1, 1, 1, 1, 1, 1, 1, 1, 1, 1, 1, 1, 1, 1, 1, 1, 1, 1, 1, 1, 1, 1, 1, 1, 1, 1, 1, 1, 1, 1, 1, 1, 1, 1, 1, 1, 1, 1, 1, 1, 1, 1, 1, 1, 1, 1, 1, 1, 1, 1, 1, 1, 1, 1, 1, 1, 1, 1, 1, 1, 1, 1, 1, 1, 1, 1, 1, 1, 1, 1, 1, 1, 1, 1, 1, 1, 1, 1, 1, 1, 1, 1, 1, 1, 1, 1, 1, 1, 1, 1, 1, 1, 1, 1, 1, 1, 1, 1, 1, 1, 1, 1, 1, 1, 1, 1, 1, 1, 1, 1, 1, 1, 1, 1, 1, 1, 1, 1, 1, 1, 1, 1, 1, 1, 1, 1, 1, 1, 1, 1, 1, 1, 1, 1, 1, 1, 1, 1, 1, 1, 1, 1, 1, 1, 1, 1, 1, 1, 1, 1, 1, 1, 1, 1, 1, 1, 1, 1, 1, 1, 1, 1, 1, 1, 1, 1, 1, 1, 1, 1, 1, 1, 1, 1, 1, 1, 1, 1, 1, 1, 1, 1, 1, 1, 1, 1, 1, 1, 1, 1, 1, 1, 1, 1, 1, 1, 1, 1, 1, 1, 1, 1, 1, 1, 1, 1, 1, 1, 1, 1, 1, 1, 1, 1, 1, 1, 1, 1, 1, 1, 1, 1, 1, 1, 1, 1, 1, 1, 1, 1, 1, 1, 1, 1, 1, 1, 1, 1, 1, 1, 1, 1, 1, 1, 1, 1, 1, 1, 1, 1, 1, 1, 1, 1, 1, 1, 1, 1, 1, 1, 1, 1, 1, 1, 1, 1, 1, 1, 1, 1, 1, 1, 1, 1, 1, 1, 1, 1, 1, 1, 1, 1, 1, 1, 1, 1, 1, 1, 1, 1, 1, 1, 1, 1, 1, 1, 1, 1, 1, 1, 1, 1, 1, 1, 1, 1, 1, 1, 1, 1, 1, 1, 1, 1, 1, 1, 1, 1, 1, 1, 1, 1, 1, 1, 1, 1, 1, 1, 1, 1, 1, 1, 1, 1, 1, 1, 1, 1, 1, 1, 1, 1, 1, 1, 1, 1, 1, 1, 1, 1, 1, 1, 1, 1, 1, 1, 1, 1, 1, 1, 1, 1, 1, 1, 1, 1, 1, 1, 1, 1, 1, 1, 1, 1, 1, 1, 1, 1, 1, 1, 1, 1, 1, 1, 1, 1, 1, 1, 1, 1, 1, 1, 1, 1, 1, 1, 1, 1, 1, 1, 1, 1, 1, 1, 1, 1, 1, 1, 1, 1, 1, 1, 1, 1, 1, 1, 1, 1, 1, 1, 1, 1, 1, 1, 1, 1, 1, 1, 1, 1, 1, 1, 1, 1, 1, 1, 1, 1, 1, 1, 1, 1, 1, 1, 1, 1, 1, 1, 1, 1, 1, 1, 1, 1, 1, 1, 1, 1, 1, 1, 1, 1, 1, 1, 1, 1, 1, 1, 1, 1, 1, 1, 1, 1, 1, 1, 1, 1, 1, 1, 1, 1, 1, 1, 1, 1, 1, 1, 1, 1, 1, 1, 1, 1, 1, 1, 1, 1, 1, 1, 1, 1, 1, 1, 1, 1, 1, 1, 1, 1, 1, 1, 1, 1, 1, 1, 1, 1, 1, 1, 1, 1, 1, 1, 1, 1, 1, 1, 1, 1, 1, 1, 1, 1, 1, 1, 1, 1, 1, 1, 1, 1, 1, 1, 1, 1, 1, 1, 1, 1, 1, 1, 1, 1, 1, 1, 1, 1, 1, 1, 1, 1, 1, 1, 1, 1, 1, 1, 1, 1, 1, 1, 1, 1, 1, 1, 1, 1, 1, 1, 1, 1, 1, 1, 1, 1, 1, 1, 1, 1, 1, 1, 1, 1, 1, 1, 1, 1, 1, 1, 1, 1, 1, 1, 1, 1, 1, 1, 1, 1, 1, 1, 1, 1, 1, 1, 1, 1, 1, 1, 1, 1, 1, 1, 1, 1, 1, 1, 1, 1, 1, 1, 1, 1, 1, 1, 1, 1, 1, 1, 1, 1, 1, 1, 1, 1, 1, 1, 1, 1, 1, 1, 1, 1, 1, 1, 1, 1, 1, 1, 1, 1, 1, 1, 1, 1, 1, 1, 1, 1, 1, 1, 1, 1, 1, 1, 1, 1, 1, 1, 1, 1, 1, 1, 1, 1, 1, 1, 1, 1, 1, 1, 1, 1, 1, 1, 1, 1, 1, 1, 1, 1, 1, 1, 1, 1, 1, 1, 1, 1, 1, 1, 1, 1, 1, 1, 1, 1, 1, 1, 1, 1, 1, 1, 1, 1, 1, 1, 1, 1, 1, 1, 1, 1, 1, 1, 1, 1, 1, 1, 1, 1, 1, 1, 1, 1, 1, 1, 1, 1, 1, 1, 1, 1, 1, 1, 1, 1, 1, 1, 1, 1, 1, 1, 1, 1, 1, 1, 1, 1, 1, 1, 1, 1, 1, 1, 1, 1, 1, 1, 1, 1, 1, 1, 1, 1, 1, 1, 1, 1, 1, 1, 1, 1, 1, 1, 1, 1, 1, 1, 1, 1, 1, 1, 1, 1, 1, 1, 1, 1, 1, 1, 1, 1, 1, 1, 1, 1, 1, 1, 1, 1, 1, 1, 1, 1, 1, 1, 1, 1, 1, 1, 1, 1, 1, 1, 1, 1, 1, 1, 1, 1, 1, 1, 1, 1, 1, 1, 1, 1, 1, 1, 1, 1, 1, 1, 1, 1, 1, 1, 1, 1, 1, 1, 1, 1, 1, 1, 1, 1, 1, 1, 1, 1, 1, 1, 1, 1, 1, 1, 1, 1, 1, 1, 1, 1, 1, 1, 1, 1, 1, 1, 1, 1, 1, 1, 1, 1, 1, 1, 1, 1, 1, 1, 1, 1, 1, 1, 1, 1, 1, 1, 1, 1, 1, 1, 1, 1, 1, 1, 1, 1, 1, 1, 1, 1, 1, 1, 1, 1, 1, 1, 1, 1, 1, 1, 1, 1, 1, 1, 1, 1, 1, 1, 1, 1, 1, 1, 1, 1, 1, 1, 1, 1, 1, 1, 1, 1, 1, 1, 1, 1, 1, 1, 1, 1, 1, 1, 1, 1, 1, 1, 1, 1, 1, 1, 1, 1, 1, 1, 1, 1, 1, 1, 1, 1, 1, 1, 1, 1, 1, 1, 1, 1, 1, 1, 1, 1, 1, 1, 1, 1, 1, 1, 1, 1, 1, 1, 1, 1, 1, 1, 1, 1, 1, 1, 1, 1, 1, 1, 1, 1, 1, 1, 1, 1, 1, 1, 1, 1, 1, 1, 1, 1, 1, 1, 1, 1, 1, 1, 1, 1, 1, 1, 1, 1, 1, 1, 1, 1, 1, 1, 1, 1, 1, 1, 1, 1, 1, 1, 1, 1, 1, 1, 1, 1, 1, 1, 1, 1, 1, 1, 1, 1, 1, 1, 1, 1, 1, 1, 1, 1, 1, 1, 1, 1, 1, 1, 1, 1, 1, 1, 1, 1, 1, 1, 1, 1, 1, 1, 1, 1, 1, 1, 1, 1, 1, 1, 1, 1, 1, 1, 1, 1, 1, 1]\n",
            "Training labels: 5 - SAD\n"
          ]
        }
      ]
    },
    {
      "cell_type": "markdown",
      "metadata": {
        "id": "HcrEgJO9Hmx7"
      },
      "source": [
        "Great, now we've successfully read all the audio files, resampled the audio files to 16kHz, and mapped each audio to the corresponding label."
      ]
    },
    {
      "cell_type": "markdown",
      "metadata": {
        "id": "QL7q6DfcH0Fs"
      },
      "source": [
        "## Model\n",
        "\n",
        "Before diving into the training part, we need to build our classification model based on the merge strategy. "
      ]
    },
    {
      "cell_type": "code",
      "metadata": {
        "id": "uJZoC4T5HpuP"
      },
      "source": [
        "from dataclasses import dataclass\n",
        "from typing import Optional, Tuple\n",
        "import torch\n",
        "from transformers.file_utils import ModelOutput\n",
        "\n",
        "\n",
        "@dataclass\n",
        "class SpeechClassifierOutput(ModelOutput):\n",
        "    loss: Optional[torch.FloatTensor] = None\n",
        "    logits: torch.FloatTensor = None\n",
        "    hidden_states: Optional[Tuple[torch.FloatTensor]] = None\n",
        "    attentions: Optional[Tuple[torch.FloatTensor]] = None\n"
      ],
      "execution_count": 24,
      "outputs": []
    },
    {
      "cell_type": "code",
      "metadata": {
        "id": "Fv62ShDsH5DZ"
      },
      "source": [
        "import torch\n",
        "import torch.nn as nn\n",
        "from torch.nn import BCEWithLogitsLoss, CrossEntropyLoss, MSELoss\n",
        "\n",
        "from transformers.models.wav2vec2.modeling_wav2vec2 import (\n",
        "    Wav2Vec2PreTrainedModel,\n",
        "    Wav2Vec2Model\n",
        ")\n",
        "\n",
        "\n",
        "class Wav2Vec2ClassificationHead(nn.Module):\n",
        "    \"\"\"Head for wav2vec classification task.\"\"\"\n",
        "\n",
        "    def __init__(self, config):\n",
        "        super().__init__()\n",
        "        self.dense = nn.Linear(config.hidden_size, config.hidden_size)\n",
        "        self.dropout = nn.Dropout(config.final_dropout)\n",
        "        self.out_proj = nn.Linear(config.hidden_size, config.num_labels)\n",
        "\n",
        "    def forward(self, features, **kwargs):\n",
        "        x = features\n",
        "        x = self.dropout(x)\n",
        "        x = self.dense(x)\n",
        "        x = torch.tanh(x)\n",
        "        x = self.dropout(x)\n",
        "        x = self.out_proj(x)\n",
        "        return x\n",
        "\n",
        "\n",
        "class Wav2Vec2ForSpeechClassification(Wav2Vec2PreTrainedModel):\n",
        "    def __init__(self, config):\n",
        "        super().__init__(config)\n",
        "        self.num_labels = config.num_labels\n",
        "        self.pooling_mode = config.pooling_mode\n",
        "        self.config = config\n",
        "\n",
        "        self.wav2vec2 = Wav2Vec2Model(config)\n",
        "        self.classifier = Wav2Vec2ClassificationHead(config)\n",
        "\n",
        "        self.init_weights()\n",
        "\n",
        "    def freeze_feature_extractor(self):\n",
        "        self.wav2vec2.feature_extractor._freeze_parameters()\n",
        "\n",
        "    def merged_strategy(\n",
        "            self,\n",
        "            hidden_states,\n",
        "            mode=\"mean\"\n",
        "    ):\n",
        "        if mode == \"mean\":\n",
        "            outputs = torch.mean(hidden_states, dim=1)\n",
        "        elif mode == \"sum\":\n",
        "            outputs = torch.sum(hidden_states, dim=1)\n",
        "        elif mode == \"max\":\n",
        "            outputs = torch.max(hidden_states, dim=1)[0]\n",
        "        else:\n",
        "            raise Exception(\n",
        "                \"The pooling method hasn't been defined! Your pooling mode must be one of these ['mean', 'sum', 'max']\")\n",
        "\n",
        "        return outputs\n",
        "\n",
        "    def forward(\n",
        "            self,\n",
        "            input_values,\n",
        "            attention_mask=None,\n",
        "            output_attentions=None,\n",
        "            output_hidden_states=None,\n",
        "            return_dict=None,\n",
        "            labels=None,\n",
        "    ):\n",
        "        return_dict = return_dict if return_dict is not None else self.config.use_return_dict\n",
        "        outputs = self.wav2vec2(\n",
        "            input_values,\n",
        "            attention_mask=attention_mask,\n",
        "            output_attentions=output_attentions,\n",
        "            output_hidden_states=output_hidden_states,\n",
        "            return_dict=return_dict,\n",
        "        )\n",
        "        hidden_states = outputs[0]\n",
        "        hidden_states = self.merged_strategy(hidden_states, mode=self.pooling_mode)\n",
        "        logits = self.classifier(hidden_states)\n",
        "\n",
        "        loss = None\n",
        "        if labels is not None:\n",
        "            if self.config.problem_type is None:\n",
        "                if self.num_labels == 1:\n",
        "                    self.config.problem_type = \"regression\"\n",
        "                elif self.num_labels > 1 and (labels.dtype == torch.long or labels.dtype == torch.int):\n",
        "                    self.config.problem_type = \"single_label_classification\"\n",
        "                else:\n",
        "                    self.config.problem_type = \"multi_label_classification\"\n",
        "\n",
        "            if self.config.problem_type == \"regression\":\n",
        "                loss_fct = MSELoss()\n",
        "                loss = loss_fct(logits.view(-1, self.num_labels), labels)\n",
        "            elif self.config.problem_type == \"single_label_classification\":\n",
        "                loss_fct = CrossEntropyLoss()\n",
        "                loss = loss_fct(logits.view(-1, self.num_labels), labels.view(-1))\n",
        "            elif self.config.problem_type == \"multi_label_classification\":\n",
        "                loss_fct = BCEWithLogitsLoss()\n",
        "                loss = loss_fct(logits, labels)\n",
        "\n",
        "        if not return_dict:\n",
        "            output = (logits,) + outputs[2:]\n",
        "            return ((loss,) + output) if loss is not None else output\n",
        "\n",
        "        return SpeechClassifierOutput(\n",
        "            loss=loss,\n",
        "            logits=logits,\n",
        "            hidden_states=outputs.hidden_states,\n",
        "            attentions=outputs.attentions,\n",
        "        )\n"
      ],
      "execution_count": 25,
      "outputs": []
    },
    {
      "cell_type": "markdown",
      "metadata": {
        "id": "OrBrR1b7zvUL"
      },
      "source": [
        "## Training\n",
        "\n",
        "The data is processed so that we are ready to start setting up the training pipeline. We will make use of 🤗's [Trainer](https://huggingface.co/transformers/master/main_classes/trainer.html?highlight=trainer) for which we essentially need to do the following:\n",
        "\n",
        "- Define a data collator. In contrast to most NLP models, XLSR-Wav2Vec2 has a much larger input length than output length. *E.g.*, a sample of input length 50000 has an output length of no more than 100. Given the large input sizes, it is much more efficient to pad the training batches dynamically meaning that all training samples should only be padded to the longest sample in their batch and not the overall longest sample. Therefore, fine-tuning XLSR-Wav2Vec2 requires a special padding data collator, which we will define below\n",
        "\n",
        "- Evaluation metric. During training, the model should be evaluated on the word error rate. We should define a `compute_metrics` function accordingly\n",
        "\n",
        "- Load a pretrained checkpoint. We need to load a pretrained checkpoint and configure it correctly for training.\n",
        "\n",
        "- Define the training configuration.\n",
        "\n",
        "After having fine-tuned the model, we will correctly evaluate it on the test data and verify that it has indeed learned to correctly transcribe speech."
      ]
    },
    {
      "cell_type": "markdown",
      "metadata": {
        "id": "Ji9-n1eUIKZc"
      },
      "source": [
        "### Set-up Trainer\n",
        "\n",
        "Let's start by defining the data collator. The code for the data collator was copied from [this example](https://github.com/huggingface/transformers/blob/9a06b6b11bdfc42eea08fa91d0c737d1863c99e3/examples/research_projects/wav2vec2/run_asr.py#L81).\n",
        "\n",
        "Without going into too many details, in contrast to the common data collators, this data collator treats the `input_values` and `labels` differently and thus applies to separate padding functions on them (again making use of XLSR-Wav2Vec2's context manager). This is necessary because in speech input and output are of different modalities meaning that they should not be treated by the same padding function.\n",
        "Analogous to the common data collators, the padding tokens in the labels with `-100` so that those tokens are **not** taken into account when computing the loss."
      ]
    },
    {
      "cell_type": "code",
      "metadata": {
        "id": "rkM0VLIwy903"
      },
      "source": [
        "from dataclasses import dataclass\n",
        "from typing import Dict, List, Optional, Union\n",
        "import torch\n",
        "\n",
        "import transformers\n",
        "from transformers import Wav2Vec2Processor\n",
        "\n",
        "\n",
        "@dataclass\n",
        "class DataCollatorCTCWithPadding:\n",
        "    \"\"\"\n",
        "    Data collator that will dynamically pad the inputs received.\n",
        "    Args:\n",
        "        processor (:class:`~transformers.Wav2Vec2Processor`)\n",
        "            The processor used for proccessing the data.\n",
        "        padding (:obj:`bool`, :obj:`str` or :class:`~transformers.tokenization_utils_base.PaddingStrategy`, `optional`, defaults to :obj:`True`):\n",
        "            Select a strategy to pad the returned sequences (according to the model's padding side and padding index)\n",
        "            among:\n",
        "            * :obj:`True` or :obj:`'longest'`: Pad to the longest sequence in the batch (or no padding if only a single\n",
        "              sequence if provided).\n",
        "            * :obj:`'max_length'`: Pad to a maximum length specified with the argument :obj:`max_length` or to the\n",
        "              maximum acceptable input length for the model if that argument is not provided.\n",
        "            * :obj:`False` or :obj:`'do_not_pad'` (default): No padding (i.e., can output a batch with sequences of\n",
        "              different lengths).\n",
        "        max_length (:obj:`int`, `optional`):\n",
        "            Maximum length of the ``input_values`` of the returned list and optionally padding length (see above).\n",
        "        max_length_labels (:obj:`int`, `optional`):\n",
        "            Maximum length of the ``labels`` returned list and optionally padding length (see above).\n",
        "        pad_to_multiple_of (:obj:`int`, `optional`):\n",
        "            If set will pad the sequence to a multiple of the provided value.\n",
        "            This is especially useful to enable the use of Tensor Cores on NVIDIA hardware with compute capability >=\n",
        "            7.5 (Volta).\n",
        "    \"\"\"\n",
        "\n",
        "    processor: Wav2Vec2Processor\n",
        "    padding: Union[bool, str] = True\n",
        "    max_length: Optional[int] = None\n",
        "    max_length_labels: Optional[int] = None\n",
        "    pad_to_multiple_of: Optional[int] = None\n",
        "    pad_to_multiple_of_labels: Optional[int] = None\n",
        "\n",
        "    def __call__(self, features: List[Dict[str, Union[List[int], torch.Tensor]]]) -> Dict[str, torch.Tensor]:\n",
        "        input_features = [{\"input_values\": feature[\"input_values\"]} for feature in features]\n",
        "        label_features = [feature[\"labels\"] for feature in features]\n",
        "\n",
        "        d_type = torch.long if isinstance(label_features[0], int) else torch.float\n",
        "\n",
        "        batch = self.processor.pad(\n",
        "            input_features,\n",
        "            padding=self.padding,\n",
        "            max_length=self.max_length,\n",
        "            pad_to_multiple_of=self.pad_to_multiple_of,\n",
        "            return_tensors=\"pt\",\n",
        "        )\n",
        "\n",
        "        batch[\"labels\"] = torch.tensor(label_features, dtype=d_type)\n",
        "\n",
        "        return batch"
      ],
      "execution_count": 26,
      "outputs": []
    },
    {
      "cell_type": "code",
      "metadata": {
        "id": "-YhJ0OA4RxQe"
      },
      "source": [
        "data_collator = DataCollatorCTCWithPadding(processor=processor, padding=True)"
      ],
      "execution_count": 27,
      "outputs": []
    },
    {
      "cell_type": "markdown",
      "metadata": {
        "id": "mYxy2IR-KcU2"
      },
      "source": [
        "Next, the evaluation metric is defined. There are many pre-defined metrics for classification/regression problems, but in this case, we would continue with just **Accuracy** for classification and **MSE** for regression. You can define other metrics on your own."
      ]
    },
    {
      "cell_type": "code",
      "metadata": {
        "id": "LL8I5MKvPnth"
      },
      "source": [
        "is_regression = False"
      ],
      "execution_count": 28,
      "outputs": []
    },
    {
      "cell_type": "code",
      "metadata": {
        "id": "XK26Z6IfR36K"
      },
      "source": [
        "import numpy as np\n",
        "from transformers import EvalPrediction\n",
        "\n",
        "\n",
        "def compute_metrics(p: EvalPrediction):\n",
        "    preds = p.predictions[0] if isinstance(p.predictions, tuple) else p.predictions\n",
        "    preds = np.squeeze(preds) if is_regression else np.argmax(preds, axis=1)\n",
        "\n",
        "    if is_regression:\n",
        "        return {\"mse\": ((preds - p.label_ids) ** 2).mean().item()}\n",
        "    else:\n",
        "        return {\"accuracy\": (preds == p.label_ids).astype(np.float32).mean().item()}"
      ],
      "execution_count": 29,
      "outputs": []
    },
    {
      "cell_type": "code",
      "source": [
        "from transformers import UniSpeechSatForXVector"
      ],
      "metadata": {
        "id": "2VS6JU2Q5Lje"
      },
      "execution_count": 30,
      "outputs": []
    },
    {
      "cell_type": "markdown",
      "metadata": {
        "id": "ZsH_nKJdK28o"
      },
      "source": [
        "Now, we can load the pretrained XLSR-Wav2Vec2 checkpoint into our classification model with a pooling strategy."
      ]
    },
    {
      "cell_type": "code",
      "metadata": {
        "id": "0Tl6iKAUR4EL",
        "colab": {
          "base_uri": "https://localhost:8080/",
          "height": 141,
          "referenced_widgets": [
            "4d1bacd50d994635aff3469475181611",
            "9c0d39188e9c4dcf8019f8790b069851",
            "243ed6edb1c240df9a6e37c315574751",
            "413c718ed8f645b28cd6cad8ed196883",
            "082322d7e2ee4344bf94c2d0651519fd",
            "d41f82c7b1824b979efb095ae5682196",
            "96301b1b58ac497a9522f40dbec025c0",
            "053b317c34864b71bb8a62d59c8f7404",
            "5994642ad9c34ed497de1eb9576e8995",
            "3b2d63390b694720894772966e097fbb",
            "0ae4e646a280448bb5455ee51d3d7084"
          ]
        },
        "outputId": "c4c435d4-c9f4-4fc4-f4cd-dc67d219d6f7"
      },
      "source": [
        "#from transformers import Wav2Vec2ForCTC\n",
        "model = Wav2Vec2ForSpeechClassification.from_pretrained(\n",
        "    model_name_or_path,\n",
        "    config=config,\n",
        ")"
      ],
      "execution_count": 31,
      "outputs": [
        {
          "output_type": "display_data",
          "data": {
            "application/vnd.jupyter.widget-view+json": {
              "model_id": "4d1bacd50d994635aff3469475181611",
              "version_minor": 0,
              "version_major": 2
            },
            "text/plain": [
              "Downloading:   0%|          | 0.00/1.18G [00:00<?, ?B/s]"
            ]
          },
          "metadata": {}
        },
        {
          "output_type": "stream",
          "name": "stderr",
          "text": [
            "Some weights of the model checkpoint at facebook/wav2vec2-large-xlsr-53 were not used when initializing Wav2Vec2ForSpeechClassification: ['project_q.weight', 'project_hid.bias', 'quantizer.codevectors', 'project_q.bias', 'quantizer.weight_proj.bias', 'quantizer.weight_proj.weight', 'project_hid.weight']\n",
            "- This IS expected if you are initializing Wav2Vec2ForSpeechClassification from the checkpoint of a model trained on another task or with another architecture (e.g. initializing a BertForSequenceClassification model from a BertForPreTraining model).\n",
            "- This IS NOT expected if you are initializing Wav2Vec2ForSpeechClassification from the checkpoint of a model that you expect to be exactly identical (initializing a BertForSequenceClassification model from a BertForSequenceClassification model).\n",
            "Some weights of Wav2Vec2ForSpeechClassification were not initialized from the model checkpoint at facebook/wav2vec2-large-xlsr-53 and are newly initialized: ['classifier.dense.weight', 'classifier.out_proj.weight', 'classifier.dense.bias', 'classifier.out_proj.bias']\n",
            "You should probably TRAIN this model on a down-stream task to be able to use it for predictions and inference.\n"
          ]
        }
      ]
    },
    {
      "cell_type": "markdown",
      "metadata": {
        "id": "bqF4rNMzI1M5"
      },
      "source": [
        "The first component of XLSR-Wav2Vec2 consists of a stack of CNN layers that are used to extract acoustically meaningful - but contextually independent - features from the raw speech signal. This part of the model has already been sufficiently trained during pretraining and as stated in the [paper](https://arxiv.org/pdf/2006.13979.pdf) does not need to be fine-tuned anymore. \n",
        "Thus, we can set the `requires_grad` to `False` for all parameters of the *feature extraction* part."
      ]
    },
    {
      "cell_type": "code",
      "metadata": {
        "id": "KHMhxFGoR4Hb"
      },
      "source": [
        "model.freeze_feature_extractor()"
      ],
      "execution_count": 32,
      "outputs": []
    },
    {
      "cell_type": "markdown",
      "metadata": {
        "id": "n0HzBneBK84G"
      },
      "source": [
        "In a final step, we define all parameters related to training. \n",
        "To give more explanation on some of the parameters:\n",
        "- `learning_rate` and `weight_decay` were heuristically tuned until fine-tuning has become stable. Note that those parameters strongly depend on the Common Voice dataset and might be suboptimal for other speech datasets.\n",
        "\n",
        "For more explanations on other parameters, one can take a look at the [docs](https://huggingface.co/transformers/master/main_classes/trainer.html?highlight=trainer#trainingarguments).\n",
        "\n",
        "**Note**: If one wants to save the trained models in his/her google drive the commented-out `output_dir` can be used instead."
      ]
    },
    {
      "cell_type": "code",
      "metadata": {
        "id": "3tPqZ12BLCJk"
      },
      "source": [
        "# from google.colab import drive\n",
        "\n",
        "# drive.mount('/gdrive')"
      ],
      "execution_count": null,
      "outputs": []
    },
    {
      "cell_type": "code",
      "metadata": {
        "id": "vUtWjldAI9-H"
      },
      "source": [
        "from transformers import TrainingArguments\n",
        "\n",
        "training_args = TrainingArguments(\n",
        "    output_dir=\"/content/wav2vec2-xlsr-greek-speech-emotion-recognition\",\n",
        "    # output_dir=\"/content/gdrive/MyDrive/wav2vec2-xlsr-greek-speech-emotion-recognition\"\n",
        "    per_device_train_batch_size=4,\n",
        "    per_device_eval_batch_size=4,\n",
        "    gradient_accumulation_steps=2,\n",
        "    evaluation_strategy=\"steps\",\n",
        "    num_train_epochs=1.0,\n",
        "    fp16=True,\n",
        "    save_steps=10,\n",
        "    eval_steps=10,\n",
        "    logging_steps=10,\n",
        "    learning_rate=1e-4,\n",
        "    save_total_limit=2,\n",
        ")"
      ],
      "execution_count": 33,
      "outputs": []
    },
    {
      "cell_type": "markdown",
      "metadata": {
        "id": "XAtuL0APLZSs"
      },
      "source": [
        "For future use we can create our training script, we do it in a simple way. You can add more on you own."
      ]
    },
    {
      "cell_type": "code",
      "metadata": {
        "id": "KfW6uDolJYZv"
      },
      "source": [
        "from typing import Any, Dict, Union\n",
        "\n",
        "import torch\n",
        "from packaging import version\n",
        "from torch import nn\n",
        "\n",
        "from transformers import (\n",
        "    Trainer,\n",
        "    is_apex_available,\n",
        ")\n",
        "\n",
        "if is_apex_available():\n",
        "    from apex import amp\n",
        "\n",
        "if version.parse(torch.__version__) >= version.parse(\"1.6\"):\n",
        "    _is_native_amp_available = True\n",
        "    from torch.cuda.amp import autocast\n",
        "\n",
        "\n",
        "class CTCTrainer(Trainer):\n",
        "    def training_step(self, model: nn.Module, inputs: Dict[str, Union[torch.Tensor, Any]]) -> torch.Tensor:\n",
        "        \"\"\"\n",
        "        Perform a training step on a batch of inputs.\n",
        "\n",
        "        Subclass and override to inject custom behavior.\n",
        "\n",
        "        Args:\n",
        "            model (:obj:`nn.Module`):\n",
        "                The model to train.\n",
        "            inputs (:obj:`Dict[str, Union[torch.Tensor, Any]]`):\n",
        "                The inputs and targets of the model.\n",
        "\n",
        "                The dictionary will be unpacked before being fed to the model. Most models expect the targets under the\n",
        "                argument :obj:`labels`. Check your model's documentation for all accepted arguments.\n",
        "\n",
        "        Return:\n",
        "            :obj:`torch.Tensor`: The tensor with training loss on this batch.\n",
        "        \"\"\"\n",
        "\n",
        "        model.train()\n",
        "        inputs = self._prepare_inputs(inputs)\n",
        "\n",
        "        if self.use_amp:\n",
        "            with autocast():\n",
        "                loss = self.compute_loss(model, inputs)\n",
        "        else:\n",
        "            loss = self.compute_loss(model, inputs)\n",
        "\n",
        "        if self.args.gradient_accumulation_steps > 1:\n",
        "            loss = loss / self.args.gradient_accumulation_steps\n",
        "\n",
        "        if self.use_amp:\n",
        "            self.scaler.scale(loss).backward()\n",
        "        elif self.use_apex:\n",
        "            with amp.scale_loss(loss, self.optimizer) as scaled_loss:\n",
        "                scaled_loss.backward()\n",
        "        elif self.deepspeed:\n",
        "            self.deepspeed.backward(loss)\n",
        "        else:\n",
        "            loss.backward()\n",
        "\n",
        "        return loss.detach()\n"
      ],
      "execution_count": 34,
      "outputs": []
    },
    {
      "cell_type": "markdown",
      "metadata": {
        "id": "Qv7Ju3qYJeJn"
      },
      "source": [
        "Now, all instances can be passed to Trainer and we are ready to start training!"
      ]
    },
    {
      "cell_type": "code",
      "metadata": {
        "id": "nEFkfK45JYiZ",
        "colab": {
          "base_uri": "https://localhost:8080/"
        },
        "outputId": "5bf54e46-8751-473b-f2f0-c221daffcd9a"
      },
      "source": [
        "trainer = CTCTrainer(\n",
        "    model=model,\n",
        "    data_collator=data_collator,\n",
        "    args=training_args,\n",
        "    compute_metrics=compute_metrics,\n",
        "    train_dataset=train_dataset,\n",
        "    eval_dataset=eval_dataset,\n",
        "    tokenizer=processor.feature_extractor,\n",
        ")"
      ],
      "execution_count": 35,
      "outputs": [
        {
          "output_type": "stream",
          "name": "stderr",
          "text": [
            "Using amp half precision backend\n"
          ]
        }
      ]
    },
    {
      "cell_type": "code",
      "source": [
        "trainer.train()"
      ],
      "metadata": {
        "id": "HzS5QVHM04eN",
        "colab": {
          "base_uri": "https://localhost:8080/",
          "height": 1000
        },
        "outputId": "1f44e9ae-26f4-4f20-8122-9daf2873d29d"
      },
      "execution_count": null,
      "outputs": [
        {
          "output_type": "stream",
          "name": "stderr",
          "text": [
            "The following columns in the training set  don't have a corresponding argument in `Wav2Vec2ForSpeechClassification.forward` and have been ignored: path, emotion, File Name.\n",
            "/usr/local/lib/python3.7/dist-packages/transformers/optimization.py:309: FutureWarning: This implementation of AdamW is deprecated and will be removed in a future version. Use thePyTorch implementation torch.optim.AdamW instead, or set `no_deprecation_warning=True` to disable this warning\n",
            "  FutureWarning,\n",
            "***** Running training *****\n",
            "  Num examples = 1600\n",
            "  Num Epochs = 1\n",
            "  Instantaneous batch size per device = 4\n",
            "  Total train batch size (w. parallel, distributed & accumulation) = 8\n",
            "  Gradient Accumulation steps = 2\n",
            "  Total optimization steps = 200\n"
          ]
        },
        {
          "output_type": "display_data",
          "data": {
            "text/html": [
              "\n",
              "    <div>\n",
              "      \n",
              "      <progress value='121' max='200' style='width:300px; height:20px; vertical-align: middle;'></progress>\n",
              "      [121/200 35:23 < 23:29, 0.06 it/s, Epoch 0.60/1]\n",
              "    </div>\n",
              "    <table border=\"1\" class=\"dataframe\">\n",
              "  <thead>\n",
              " <tr style=\"text-align: left;\">\n",
              "      <th>Step</th>\n",
              "      <th>Training Loss</th>\n",
              "      <th>Validation Loss</th>\n",
              "      <th>Accuracy</th>\n",
              "    </tr>\n",
              "  </thead>\n",
              "  <tbody>\n",
              "    <tr>\n",
              "      <td>10</td>\n",
              "      <td>1.813700</td>\n",
              "      <td>1.788513</td>\n",
              "      <td>0.170000</td>\n",
              "    </tr>\n",
              "    <tr>\n",
              "      <td>20</td>\n",
              "      <td>1.781100</td>\n",
              "      <td>1.784983</td>\n",
              "      <td>0.170000</td>\n",
              "    </tr>\n",
              "    <tr>\n",
              "      <td>30</td>\n",
              "      <td>1.794500</td>\n",
              "      <td>1.783257</td>\n",
              "      <td>0.182500</td>\n",
              "    </tr>\n",
              "    <tr>\n",
              "      <td>40</td>\n",
              "      <td>1.774800</td>\n",
              "      <td>1.771609</td>\n",
              "      <td>0.200000</td>\n",
              "    </tr>\n",
              "    <tr>\n",
              "      <td>50</td>\n",
              "      <td>1.754600</td>\n",
              "      <td>1.760561</td>\n",
              "      <td>0.225000</td>\n",
              "    </tr>\n",
              "    <tr>\n",
              "      <td>60</td>\n",
              "      <td>1.755400</td>\n",
              "      <td>1.747493</td>\n",
              "      <td>0.295000</td>\n",
              "    </tr>\n",
              "    <tr>\n",
              "      <td>70</td>\n",
              "      <td>1.698700</td>\n",
              "      <td>1.714373</td>\n",
              "      <td>0.310000</td>\n",
              "    </tr>\n",
              "    <tr>\n",
              "      <td>80</td>\n",
              "      <td>1.682700</td>\n",
              "      <td>1.687024</td>\n",
              "      <td>0.287500</td>\n",
              "    </tr>\n",
              "    <tr>\n",
              "      <td>90</td>\n",
              "      <td>1.699600</td>\n",
              "      <td>1.659760</td>\n",
              "      <td>0.335000</td>\n",
              "    </tr>\n",
              "    <tr>\n",
              "      <td>100</td>\n",
              "      <td>1.664000</td>\n",
              "      <td>1.593495</td>\n",
              "      <td>0.375000</td>\n",
              "    </tr>\n",
              "    <tr>\n",
              "      <td>110</td>\n",
              "      <td>1.637000</td>\n",
              "      <td>1.616364</td>\n",
              "      <td>0.350000</td>\n",
              "    </tr>\n",
              "    <tr>\n",
              "      <td>120</td>\n",
              "      <td>1.553400</td>\n",
              "      <td>1.579618</td>\n",
              "      <td>0.385000</td>\n",
              "    </tr>\n",
              "  </tbody>\n",
              "</table><p>"
            ],
            "text/plain": [
              "<IPython.core.display.HTML object>"
            ]
          },
          "metadata": {}
        },
        {
          "output_type": "stream",
          "name": "stderr",
          "text": [
            "The following columns in the evaluation set  don't have a corresponding argument in `Wav2Vec2ForSpeechClassification.forward` and have been ignored: path, emotion, File Name.\n",
            "***** Running Evaluation *****\n",
            "  Num examples = 400\n",
            "  Batch size = 4\n",
            "Saving model checkpoint to /content/wav2vec2-xlsr-greek-speech-emotion-recognition/checkpoint-10\n",
            "Configuration saved in /content/wav2vec2-xlsr-greek-speech-emotion-recognition/checkpoint-10/config.json\n",
            "Model weights saved in /content/wav2vec2-xlsr-greek-speech-emotion-recognition/checkpoint-10/pytorch_model.bin\n",
            "Configuration saved in /content/wav2vec2-xlsr-greek-speech-emotion-recognition/checkpoint-10/preprocessor_config.json\n",
            "The following columns in the evaluation set  don't have a corresponding argument in `Wav2Vec2ForSpeechClassification.forward` and have been ignored: path, emotion, File Name.\n",
            "***** Running Evaluation *****\n",
            "  Num examples = 400\n",
            "  Batch size = 4\n",
            "Saving model checkpoint to /content/wav2vec2-xlsr-greek-speech-emotion-recognition/checkpoint-20\n",
            "Configuration saved in /content/wav2vec2-xlsr-greek-speech-emotion-recognition/checkpoint-20/config.json\n",
            "Model weights saved in /content/wav2vec2-xlsr-greek-speech-emotion-recognition/checkpoint-20/pytorch_model.bin\n",
            "Configuration saved in /content/wav2vec2-xlsr-greek-speech-emotion-recognition/checkpoint-20/preprocessor_config.json\n",
            "The following columns in the evaluation set  don't have a corresponding argument in `Wav2Vec2ForSpeechClassification.forward` and have been ignored: path, emotion, File Name.\n",
            "***** Running Evaluation *****\n",
            "  Num examples = 400\n",
            "  Batch size = 4\n",
            "Saving model checkpoint to /content/wav2vec2-xlsr-greek-speech-emotion-recognition/checkpoint-30\n",
            "Configuration saved in /content/wav2vec2-xlsr-greek-speech-emotion-recognition/checkpoint-30/config.json\n",
            "Model weights saved in /content/wav2vec2-xlsr-greek-speech-emotion-recognition/checkpoint-30/pytorch_model.bin\n",
            "Configuration saved in /content/wav2vec2-xlsr-greek-speech-emotion-recognition/checkpoint-30/preprocessor_config.json\n",
            "Deleting older checkpoint [/content/wav2vec2-xlsr-greek-speech-emotion-recognition/checkpoint-10] due to args.save_total_limit\n",
            "The following columns in the evaluation set  don't have a corresponding argument in `Wav2Vec2ForSpeechClassification.forward` and have been ignored: path, emotion, File Name.\n",
            "***** Running Evaluation *****\n",
            "  Num examples = 400\n",
            "  Batch size = 4\n",
            "Saving model checkpoint to /content/wav2vec2-xlsr-greek-speech-emotion-recognition/checkpoint-40\n",
            "Configuration saved in /content/wav2vec2-xlsr-greek-speech-emotion-recognition/checkpoint-40/config.json\n",
            "Model weights saved in /content/wav2vec2-xlsr-greek-speech-emotion-recognition/checkpoint-40/pytorch_model.bin\n",
            "Configuration saved in /content/wav2vec2-xlsr-greek-speech-emotion-recognition/checkpoint-40/preprocessor_config.json\n",
            "Deleting older checkpoint [/content/wav2vec2-xlsr-greek-speech-emotion-recognition/checkpoint-20] due to args.save_total_limit\n",
            "The following columns in the evaluation set  don't have a corresponding argument in `Wav2Vec2ForSpeechClassification.forward` and have been ignored: path, emotion, File Name.\n",
            "***** Running Evaluation *****\n",
            "  Num examples = 400\n",
            "  Batch size = 4\n",
            "Saving model checkpoint to /content/wav2vec2-xlsr-greek-speech-emotion-recognition/checkpoint-50\n",
            "Configuration saved in /content/wav2vec2-xlsr-greek-speech-emotion-recognition/checkpoint-50/config.json\n",
            "Model weights saved in /content/wav2vec2-xlsr-greek-speech-emotion-recognition/checkpoint-50/pytorch_model.bin\n",
            "Configuration saved in /content/wav2vec2-xlsr-greek-speech-emotion-recognition/checkpoint-50/preprocessor_config.json\n",
            "Deleting older checkpoint [/content/wav2vec2-xlsr-greek-speech-emotion-recognition/checkpoint-30] due to args.save_total_limit\n",
            "The following columns in the evaluation set  don't have a corresponding argument in `Wav2Vec2ForSpeechClassification.forward` and have been ignored: path, emotion, File Name.\n",
            "***** Running Evaluation *****\n",
            "  Num examples = 400\n",
            "  Batch size = 4\n",
            "Saving model checkpoint to /content/wav2vec2-xlsr-greek-speech-emotion-recognition/checkpoint-60\n",
            "Configuration saved in /content/wav2vec2-xlsr-greek-speech-emotion-recognition/checkpoint-60/config.json\n",
            "Model weights saved in /content/wav2vec2-xlsr-greek-speech-emotion-recognition/checkpoint-60/pytorch_model.bin\n",
            "Configuration saved in /content/wav2vec2-xlsr-greek-speech-emotion-recognition/checkpoint-60/preprocessor_config.json\n",
            "Deleting older checkpoint [/content/wav2vec2-xlsr-greek-speech-emotion-recognition/checkpoint-40] due to args.save_total_limit\n",
            "The following columns in the evaluation set  don't have a corresponding argument in `Wav2Vec2ForSpeechClassification.forward` and have been ignored: path, emotion, File Name.\n",
            "***** Running Evaluation *****\n",
            "  Num examples = 400\n",
            "  Batch size = 4\n",
            "Saving model checkpoint to /content/wav2vec2-xlsr-greek-speech-emotion-recognition/checkpoint-70\n",
            "Configuration saved in /content/wav2vec2-xlsr-greek-speech-emotion-recognition/checkpoint-70/config.json\n",
            "Model weights saved in /content/wav2vec2-xlsr-greek-speech-emotion-recognition/checkpoint-70/pytorch_model.bin\n",
            "Configuration saved in /content/wav2vec2-xlsr-greek-speech-emotion-recognition/checkpoint-70/preprocessor_config.json\n",
            "Deleting older checkpoint [/content/wav2vec2-xlsr-greek-speech-emotion-recognition/checkpoint-50] due to args.save_total_limit\n",
            "The following columns in the evaluation set  don't have a corresponding argument in `Wav2Vec2ForSpeechClassification.forward` and have been ignored: path, emotion, File Name.\n",
            "***** Running Evaluation *****\n",
            "  Num examples = 400\n",
            "  Batch size = 4\n",
            "Saving model checkpoint to /content/wav2vec2-xlsr-greek-speech-emotion-recognition/checkpoint-80\n",
            "Configuration saved in /content/wav2vec2-xlsr-greek-speech-emotion-recognition/checkpoint-80/config.json\n",
            "Model weights saved in /content/wav2vec2-xlsr-greek-speech-emotion-recognition/checkpoint-80/pytorch_model.bin\n",
            "Configuration saved in /content/wav2vec2-xlsr-greek-speech-emotion-recognition/checkpoint-80/preprocessor_config.json\n",
            "Deleting older checkpoint [/content/wav2vec2-xlsr-greek-speech-emotion-recognition/checkpoint-60] due to args.save_total_limit\n",
            "The following columns in the evaluation set  don't have a corresponding argument in `Wav2Vec2ForSpeechClassification.forward` and have been ignored: path, emotion, File Name.\n",
            "***** Running Evaluation *****\n",
            "  Num examples = 400\n",
            "  Batch size = 4\n",
            "Saving model checkpoint to /content/wav2vec2-xlsr-greek-speech-emotion-recognition/checkpoint-90\n",
            "Configuration saved in /content/wav2vec2-xlsr-greek-speech-emotion-recognition/checkpoint-90/config.json\n",
            "Model weights saved in /content/wav2vec2-xlsr-greek-speech-emotion-recognition/checkpoint-90/pytorch_model.bin\n",
            "Configuration saved in /content/wav2vec2-xlsr-greek-speech-emotion-recognition/checkpoint-90/preprocessor_config.json\n",
            "Deleting older checkpoint [/content/wav2vec2-xlsr-greek-speech-emotion-recognition/checkpoint-70] due to args.save_total_limit\n",
            "The following columns in the evaluation set  don't have a corresponding argument in `Wav2Vec2ForSpeechClassification.forward` and have been ignored: path, emotion, File Name.\n",
            "***** Running Evaluation *****\n",
            "  Num examples = 400\n",
            "  Batch size = 4\n",
            "Saving model checkpoint to /content/wav2vec2-xlsr-greek-speech-emotion-recognition/checkpoint-100\n",
            "Configuration saved in /content/wav2vec2-xlsr-greek-speech-emotion-recognition/checkpoint-100/config.json\n",
            "Model weights saved in /content/wav2vec2-xlsr-greek-speech-emotion-recognition/checkpoint-100/pytorch_model.bin\n",
            "Configuration saved in /content/wav2vec2-xlsr-greek-speech-emotion-recognition/checkpoint-100/preprocessor_config.json\n",
            "Deleting older checkpoint [/content/wav2vec2-xlsr-greek-speech-emotion-recognition/checkpoint-80] due to args.save_total_limit\n",
            "The following columns in the evaluation set  don't have a corresponding argument in `Wav2Vec2ForSpeechClassification.forward` and have been ignored: path, emotion, File Name.\n",
            "***** Running Evaluation *****\n",
            "  Num examples = 400\n",
            "  Batch size = 4\n",
            "Saving model checkpoint to /content/wav2vec2-xlsr-greek-speech-emotion-recognition/checkpoint-110\n",
            "Configuration saved in /content/wav2vec2-xlsr-greek-speech-emotion-recognition/checkpoint-110/config.json\n",
            "Model weights saved in /content/wav2vec2-xlsr-greek-speech-emotion-recognition/checkpoint-110/pytorch_model.bin\n",
            "Configuration saved in /content/wav2vec2-xlsr-greek-speech-emotion-recognition/checkpoint-110/preprocessor_config.json\n",
            "Deleting older checkpoint [/content/wav2vec2-xlsr-greek-speech-emotion-recognition/checkpoint-90] due to args.save_total_limit\n",
            "The following columns in the evaluation set  don't have a corresponding argument in `Wav2Vec2ForSpeechClassification.forward` and have been ignored: path, emotion, File Name.\n",
            "***** Running Evaluation *****\n",
            "  Num examples = 400\n",
            "  Batch size = 4\n",
            "Saving model checkpoint to /content/wav2vec2-xlsr-greek-speech-emotion-recognition/checkpoint-120\n",
            "Configuration saved in /content/wav2vec2-xlsr-greek-speech-emotion-recognition/checkpoint-120/config.json\n",
            "Model weights saved in /content/wav2vec2-xlsr-greek-speech-emotion-recognition/checkpoint-120/pytorch_model.bin\n",
            "Configuration saved in /content/wav2vec2-xlsr-greek-speech-emotion-recognition/checkpoint-120/preprocessor_config.json\n"
          ]
        }
      ]
    },
    {
      "cell_type": "markdown",
      "metadata": {
        "id": "0gGLwJAOLtDg"
      },
      "source": [
        "### Training"
      ]
    },
    {
      "cell_type": "markdown",
      "metadata": {
        "id": "UpN6xlWCLxJ7"
      },
      "source": [
        "Training will take between 10 and 60 minutes depending on the GPU allocated to this notebook. \n",
        "\n",
        "In case you want to use this google colab to fine-tune your model, you should make sure that your training doesn't stop due to inactivity. A simple hack to prevent this is to paste the following code into the console of this tab (right mouse click -> inspect -> Console tab and insert code)."
      ]
    },
    {
      "cell_type": "markdown",
      "metadata": {
        "id": "zyYZH7YZL8a9"
      },
      "source": [
        "```javascript\n",
        "function ConnectButton(){\n",
        "    console.log(\"Connect pushed\"); \n",
        "    document.querySelector(\"#top-toolbar > colab-connect-button\").shadowRoot.querySelector(\"#connect\").click() \n",
        "}\n",
        "setInterval(ConnectButton,60000);\n",
        "```"
      ]
    },
    {
      "cell_type": "code",
      "metadata": {
        "id": "6M8bNvLLJnG1"
      },
      "source": [
        "trainer.train()"
      ],
      "execution_count": null,
      "outputs": []
    },
    {
      "cell_type": "markdown",
      "metadata": {
        "id": "3prIN9eiMBHo"
      },
      "source": [
        "The training loss goes down and we can see that the Acurracy on the test set also improves nicely. Because this notebook is just for demonstration purposes, we can stop here.\n",
        "\n",
        "The resulting model of this notebook has been saved to [m3hrdadfi/wav2vec2-xlsr-greek-speech-emotion-recognition](https://huggingface.co/m3hrdadfi/wav2vec2-xlsr-greek-speech-emotion-recognition)\n",
        "\n",
        "As a final check, let's load the model and verify that it indeed has learned to recognize the emotion in the speech.\n",
        "\n",
        "Let's first load the pretrained checkpoint."
      ]
    },
    {
      "cell_type": "markdown",
      "metadata": {
        "id": "VsaOTx_FVm0i"
      },
      "source": [
        "## Evaluation"
      ]
    },
    {
      "cell_type": "code",
      "metadata": {
        "id": "4tGNY7hRXO44"
      },
      "source": [
        "import librosa\n",
        "from sklearn.metrics import classification_report"
      ],
      "execution_count": null,
      "outputs": []
    },
    {
      "cell_type": "code",
      "metadata": {
        "id": "IYxg1Tfo2VUw"
      },
      "source": [
        "test_dataset = load_dataset(\"csv\", data_files={\"test\": \"/content/data/test.csv\"}, delimiter=\"\\t\")[\"test\"]\n",
        "test_dataset"
      ],
      "execution_count": null,
      "outputs": []
    },
    {
      "cell_type": "code",
      "metadata": {
        "id": "QgZFkMDHW_Um"
      },
      "source": [
        "device = torch.device(\"cuda\" if torch.cuda.is_available() else \"cpu\")\n",
        "print(f\"Device: {device}\")"
      ],
      "execution_count": null,
      "outputs": []
    },
    {
      "cell_type": "code",
      "metadata": {
        "id": "-ESFEXeaWgua"
      },
      "source": [
        "model_name_or_path = \"m3hrdadfi/wav2vec2-xlsr-greek-speech-emotion-recognition\"\n",
        "config = AutoConfig.from_pretrained(model_name_or_path)\n",
        "processor = Wav2Vec2Processor.from_pretrained(model_name_or_path)\n",
        "model = Wav2Vec2ForSpeechClassification.from_pretrained(model_name_or_path).to(device)"
      ],
      "execution_count": null,
      "outputs": []
    },
    {
      "cell_type": "code",
      "metadata": {
        "id": "BkEd4w8IV7kZ"
      },
      "source": [
        "def speech_file_to_array_fn(batch):\n",
        "    speech_array, sampling_rate = torchaudio.load(batch[\"path\"])\n",
        "    speech_array = speech_array.squeeze().numpy()\n",
        "    speech_array = librosa.resample(np.asarray(speech_array), sampling_rate, processor.feature_extractor.sampling_rate)\n",
        "\n",
        "    batch[\"speech\"] = speech_array\n",
        "    return batch\n",
        "\n",
        "\n",
        "def predict(batch):\n",
        "    features = processor(batch[\"speech\"], sampling_rate=processor.feature_extractor.sampling_rate, return_tensors=\"pt\", padding=True)\n",
        "\n",
        "    input_values = features.input_values.to(device)\n",
        "    attention_mask = features.attention_mask.to(device)\n",
        "\n",
        "    with torch.no_grad():\n",
        "        logits = model(input_values, attention_mask=attention_mask).logits \n",
        "\n",
        "    pred_ids = torch.argmax(logits, dim=-1).detach().cpu().numpy()\n",
        "    batch[\"predicted\"] = pred_ids\n",
        "    return batch"
      ],
      "execution_count": null,
      "outputs": []
    },
    {
      "cell_type": "code",
      "metadata": {
        "id": "S4P6P6XwW85p"
      },
      "source": [
        "test_dataset = test_dataset.map(speech_file_to_array_fn)"
      ],
      "execution_count": null,
      "outputs": []
    },
    {
      "cell_type": "code",
      "metadata": {
        "id": "K_oZJzHsXKHv"
      },
      "source": [
        "result = test_dataset.map(predict, batched=True, batch_size=8)"
      ],
      "execution_count": null,
      "outputs": []
    },
    {
      "cell_type": "code",
      "metadata": {
        "id": "BnfJLZvAaxTo"
      },
      "source": [
        "label_names = [config.id2label[i] for i in range(config.num_labels)]\n",
        "label_names"
      ],
      "execution_count": null,
      "outputs": []
    },
    {
      "cell_type": "code",
      "metadata": {
        "id": "vRtajzvTabeH"
      },
      "source": [
        "y_true = [config.label2id[name] for name in result[\"emotion\"]]\n",
        "y_pred = result[\"predicted\"]\n",
        "\n",
        "print(y_true[:5])\n",
        "print(y_pred[:5])"
      ],
      "execution_count": null,
      "outputs": []
    },
    {
      "cell_type": "code",
      "metadata": {
        "id": "tUt5rIppXrzl"
      },
      "source": [
        "print(classification_report(y_true, y_pred, target_names=label_names))"
      ],
      "execution_count": null,
      "outputs": []
    },
    {
      "cell_type": "markdown",
      "metadata": {
        "id": "Ylb2Z6Xke2ro"
      },
      "source": [
        "# Prediction"
      ]
    },
    {
      "cell_type": "code",
      "metadata": {
        "id": "EQzCioPhWIiX"
      },
      "source": [
        "import torch\n",
        "import torch.nn as nn\n",
        "import torch.nn.functional as F\n",
        "import torchaudio\n",
        "from transformers import AutoConfig, Wav2Vec2Processor\n",
        "\n",
        "import librosa\n",
        "import IPython.display as ipd\n",
        "import numpy as np\n",
        "import pandas as pd"
      ],
      "execution_count": null,
      "outputs": []
    },
    {
      "cell_type": "code",
      "metadata": {
        "id": "DocavTvQWIr_"
      },
      "source": [
        "device = torch.device(\"cuda\" if torch.cuda.is_available() else \"cpu\")\n",
        "model_name_or_path = \"m3hrdadfi/wav2vec2-xlsr-greek-speech-emotion-recognition\"\n",
        "config = AutoConfig.from_pretrained(model_name_or_path)\n",
        "processor = Wav2Vec2Processor.from_pretrained(model_name_or_path)\n",
        "sampling_rate = processor.feature_extractor.sampling_rate\n",
        "model = Wav2Vec2ForSpeechClassification.from_pretrained(model_name_or_path).to(device)"
      ],
      "execution_count": null,
      "outputs": []
    },
    {
      "cell_type": "code",
      "metadata": {
        "id": "1SSs95o9WIvK"
      },
      "source": [
        "def speech_file_to_array_fn(path, sampling_rate):\n",
        "    speech_array, _sampling_rate = torchaudio.load(path)\n",
        "    resampler = torchaudio.transforms.Resample(_sampling_rate)\n",
        "    speech = resampler(speech_array).squeeze().numpy()\n",
        "    return speech\n",
        "\n",
        "\n",
        "def predict(path, sampling_rate):\n",
        "    speech = speech_file_to_array_fn(path, sampling_rate)\n",
        "    features = processor(speech, sampling_rate=sampling_rate, return_tensors=\"pt\", padding=True)\n",
        "\n",
        "    input_values = features.input_values.to(device)\n",
        "    attention_mask = features.attention_mask.to(device)\n",
        "\n",
        "    with torch.no_grad():\n",
        "        logits = model(input_values, attention_mask=attention_mask).logits\n",
        "\n",
        "    scores = F.softmax(logits, dim=1).detach().cpu().numpy()[0]\n",
        "    outputs = [{\"Emotion\": config.id2label[i], \"Score\": f\"{round(score * 100, 3):.1f}%\"} for i, score in enumerate(scores)]\n",
        "    return outputs\n",
        "\n",
        "\n",
        "STYLES = \"\"\"\n",
        "<style>\n",
        "div.display_data {\n",
        "    margin: 0 auto;\n",
        "    max-width: 500px;\n",
        "}\n",
        "table.xxx {\n",
        "    margin: 50px !important;\n",
        "    float: right !important;\n",
        "    clear: both !important;\n",
        "}\n",
        "table.xxx td {\n",
        "    min-width: 300px !important;\n",
        "    text-align: center !important;\n",
        "}\n",
        "</style>\n",
        "\"\"\".strip()\n",
        "\n",
        "def prediction(df_row):\n",
        "    path, emotion = df_row[\"path\"], df_row[\"emotion\"]\n",
        "    df = pd.DataFrame([{\"Emotion\": emotion, \"Sentence\": \"    \"}])\n",
        "    setup = {\n",
        "        'border': 2,\n",
        "        'show_dimensions': True,\n",
        "        'justify': 'center',\n",
        "        'classes': 'xxx',\n",
        "        'escape': False,\n",
        "    }\n",
        "    ipd.display(ipd.HTML(STYLES + df.to_html(**setup) + \"<br />\"))\n",
        "    speech, sr = torchaudio.load(path)\n",
        "    speech = speech[0].numpy().squeeze()\n",
        "    speech = librosa.resample(np.asarray(speech), sr, sampling_rate)\n",
        "    ipd.display(ipd.Audio(data=np.asarray(speech), autoplay=True, rate=sampling_rate))\n",
        "\n",
        "    outputs = predict(path, sampling_rate)\n",
        "    r = pd.DataFrame(outputs)\n",
        "    ipd.display(ipd.HTML(STYLES + r.to_html(**setup) + \"<br />\"))"
      ],
      "execution_count": null,
      "outputs": []
    },
    {
      "cell_type": "code",
      "metadata": {
        "id": "UD7oUP20YwYT"
      },
      "source": [
        "test = pd.read_csv(\"/content/data/test.csv\", sep=\"\\t\")\n",
        "test.head()"
      ],
      "execution_count": null,
      "outputs": []
    },
    {
      "cell_type": "code",
      "metadata": {
        "id": "FlJO2LfVWIyT"
      },
      "source": [
        "prediction(test.iloc[0])"
      ],
      "execution_count": null,
      "outputs": []
    },
    {
      "cell_type": "code",
      "metadata": {
        "id": "hzoKOgpoWI1K"
      },
      "source": [
        "prediction(test.iloc[1])"
      ],
      "execution_count": null,
      "outputs": []
    },
    {
      "cell_type": "code",
      "metadata": {
        "id": "7nqwbTTXSfMO"
      },
      "source": [
        "prediction(test.iloc[2])"
      ],
      "execution_count": null,
      "outputs": []
    }
  ]
}